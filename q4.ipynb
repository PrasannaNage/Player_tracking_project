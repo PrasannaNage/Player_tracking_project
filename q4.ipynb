{
 "cells": [
  {
   "cell_type": "code",
   "execution_count": 1,
   "id": "b02b5cc5-b2d0-4617-9c86-459819028799",
   "metadata": {},
   "outputs": [],
   "source": [
    "import cv2\n",
    "import torch\n",
    "import os\n",
    "import numpy as np\n",
    "import pyttsx3\n",
    "import random\n",
    "from collections import defaultdict"
   ]
  },
  {
   "cell_type": "code",
   "execution_count": 2,
   "id": "0fe6e089-d60c-4d5b-ad4d-254d6ecca61c",
   "metadata": {},
   "outputs": [
    {
     "name": "stderr",
     "output_type": "stream",
     "text": [
      "Using cache found in /home/prasanna-nage/.cache/torch/hub/ultralytics_yolov5_master\n",
      "YOLOv5 🚀 2024-11-27 Python-3.12.3 torch-2.5.1+cu124 CPU\n",
      "\n",
      "Fusing layers... \n",
      "YOLOv5s summary: 213 layers, 7225885 parameters, 0 gradients, 16.4 GFLOPs\n",
      "Adding AutoShape... \n"
     ]
    }
   ],
   "source": [
    "engine = pyttsx3.init()\n",
    "\n",
    "# Load YOLOv5 model (small version for faster processing)\n",
    "yolo_model = torch.hub.load('ultralytics/yolov5', 'yolov5s')\n",
    "\n",
    "# Create a directory for saving frames if it doesn't exist\n",
    "if not os.path.exists('results/frames'):\n",
    "    os.makedirs('results/frames')\n",
    "\n",
    "# Cooldown tracker to avoid repetitive commentary\n",
    "cooldown_tracker = defaultdict(int)\n"
   ]
  },
  {
   "cell_type": "code",
   "execution_count": 3,
   "id": "babe0923-3acc-4ec5-8ede-0d939f5d6836",
   "metadata": {},
   "outputs": [],
   "source": [
    "# Function to detect entities (events) from the video\n",
    "def detect_entities(video_path):\n",
    "    cap = cv2.VideoCapture(video_path)\n",
    "    frame_count = 0\n",
    "\n",
    "    while True:\n",
    "        ret, frame = cap.read()\n",
    "        if not ret:\n",
    "            break\n",
    "\n",
    "        # Detect objects in the current frame using YOLO\n",
    "        results = yolo_model(frame)\n",
    "        detections = results.xyxy[0].cpu().numpy()\n",
    "\n",
    "        unique_labels = set()  # Track unique events for this frame\n",
    "        commentary_pool = []  # Pool of commentary for this frame\n",
    "\n",
    "        # Process each detected object\n",
    "        for detection in detections:\n",
    "            x1, y1, x2, y2, conf, cls = detection\n",
    "            label = yolo_model.names[int(cls)]\n",
    "\n",
    "            # Check if the label should be \"hockey stick\" based on heuristics\n",
    "            if label == \"baseball bat\" or label == \"sports ball\":\n",
    "                if is_hockey_stick(frame[int(y1):int(y2), int(x1):int(x2)]):\n",
    "                    label = \"hockey stick\"\n",
    "\n",
    "            team = classify_team(frame[int(y1):int(y2), int(x1):int(x2)])\n",
    "            is_referee = classify_referee(frame[int(y1):int(y2), int(x1):int(x2)])\n",
    "\n",
    "            # Aggregate unique events\n",
    "            if label == \"hockey stick\" and \"hockey stick\" not in unique_labels:\n",
    "                unique_labels.add(\"hockey stick\")\n",
    "                commentary_pool.append(\"A powerful shot with the hockey stick!\")\n",
    "\n",
    "            if team is not None and f\"team_{team}\" not in unique_labels:\n",
    "                unique_labels.add(f\"team_{team}\")\n",
    "                commentary_pool.append(f\"A player from Team {team + 1} makes a move!\")\n",
    "\n",
    "            if is_referee and \"referee\" not in unique_labels:\n",
    "                unique_labels.add(\"referee\")\n",
    "                commentary_pool.append(\"The referee is keeping a close eye on the game.\")\n",
    "\n",
    "        # Filter commentary to avoid consecutive repetitions\n",
    "        filtered_commentary = []\n",
    "        for comment in commentary_pool:\n",
    "            if cooldown_tracker[comment] == 0:\n",
    "                filtered_commentary.append(comment)\n",
    "                cooldown_tracker[comment] = 5  # Cooldown period for this comment\n",
    "\n",
    "        # Decrease cooldown for all phrases\n",
    "        for key in list(cooldown_tracker.keys()):\n",
    "            cooldown_tracker[key] = max(0, cooldown_tracker[key] - 1)\n",
    "\n",
    "        # Generate audio commentary for the current frame\n",
    "        if filtered_commentary:\n",
    "            commentary_text = \" \".join(filtered_commentary)\n",
    "            print(f\"Commentary: {commentary_text}\")\n",
    "            engine.say(commentary_text)\n",
    "            engine.runAndWait()\n",
    "\n",
    "        # Save the frame with bounding boxes\n",
    "        save_frame(frame, frame_count)\n",
    "\n",
    "        # Display the frame with bounding boxes\n",
    "        cv2.imshow(\"Detected Entities\", frame)\n",
    "        if cv2.waitKey(1) & 0xFF == ord('q'):\n",
    "            break\n",
    "\n",
    "        frame_count += 1\n",
    "\n",
    "    cap.release()\n",
    "    cv2.destroyAllWindows()"
   ]
  },
  {
   "cell_type": "code",
   "execution_count": 4,
   "id": "503694b7-31f6-4fa6-85db-f52f12b53fd1",
   "metadata": {},
   "outputs": [],
   "source": [
    "# Function to save the frame with bounding boxes\n",
    "def save_frame(frame, frame_count):\n",
    "    output_frame_path = f\"results/frames/frame_{frame_count:04d}.jpg\"\n",
    "    cv2.imwrite(output_frame_path, frame)\n",
    "    print(f\"Saved frame {frame_count}.\")"
   ]
  },
  {
   "cell_type": "code",
   "execution_count": 5,
   "id": "65e05557-cfc7-4f73-a978-6f4c3d9e4004",
   "metadata": {},
   "outputs": [],
   "source": [
    "# Function to classify the team (based on color or other features)\n",
    "def classify_team(player_image):\n",
    "    hsv = cv2.cvtColor(player_image, cv2.COLOR_BGR2HSV)\n",
    "    team_1_lower = np.array([100, 150, 50])\n",
    "    team_1_upper = np.array([140, 255, 255])\n",
    "    team_2_lower = np.array([0, 120, 70])\n",
    "    team_2_upper = np.array([10, 255, 255])\n",
    "    mask_team_1 = cv2.inRange(hsv, team_1_lower, team_1_upper)\n",
    "    mask_team_2 = cv2.inRange(hsv, team_2_lower, team_2_upper)\n",
    "    if cv2.countNonZero(mask_team_1) > cv2.countNonZero(mask_team_2):\n",
    "        return 0\n",
    "    elif cv2.countNonZero(mask_team_2) > cv2.countNonZero(mask_team_1):\n",
    "        return 1\n",
    "    else:\n",
    "        return None"
   ]
  },
  {
   "cell_type": "code",
   "execution_count": 6,
   "id": "acf80ff8-cd9b-4f28-a6b8-427fcf1f25ca",
   "metadata": {},
   "outputs": [],
   "source": [
    "# Function to classify if the detected player is a referee\n",
    "def classify_referee(player_image):\n",
    "    gray = cv2.cvtColor(player_image, cv2.COLOR_BGR2GRAY)\n",
    "    edges = cv2.Canny(gray, threshold1=100, threshold2=200)\n",
    "    if np.count_nonzero(edges) > 500:\n",
    "        return True\n",
    "    return False"
   ]
  },
  {
   "cell_type": "code",
   "execution_count": 7,
   "id": "42d7037d-fff1-4509-8527-17e486fa8863",
   "metadata": {},
   "outputs": [],
   "source": [
    "# Function to check if an object looks like a hockey stick\n",
    "def is_hockey_stick(obj_image):\n",
    "    height, width = obj_image.shape[:2]\n",
    "    aspect_ratio = width / height\n",
    "    if aspect_ratio > 4:\n",
    "        return True\n",
    "    return False"
   ]
  },
  {
   "cell_type": "code",
   "execution_count": null,
   "id": "bbcbe593-f7af-4686-8a1d-a9990d6d6c73",
   "metadata": {},
   "outputs": [
    {
     "name": "stdout",
     "output_type": "stream",
     "text": [
      "Starting Entity Detection...\n",
      "Commentary: A player from Team 1 makes a move! The referee is keeping a close eye on the game. A player from Team 2 makes a move!\n",
      "Saved frame 0.\n"
     ]
    },
    {
     "name": "stderr",
     "output_type": "stream",
     "text": [
      "/home/prasanna-nage/.cache/torch/hub/ultralytics_yolov5_master/models/common.py:892: FutureWarning: `torch.cuda.amp.autocast(args...)` is deprecated. Please use `torch.amp.autocast('cuda', args...)` instead.\n",
      "  with amp.autocast(autocast):\n",
      "Warning: Ignoring XDG_SESSION_TYPE=wayland on Gnome. Use QT_QPA_PLATFORM=wayland to run on Wayland anyway.\n",
      "/home/prasanna-nage/.cache/torch/hub/ultralytics_yolov5_master/models/common.py:892: FutureWarning: `torch.cuda.amp.autocast(args...)` is deprecated. Please use `torch.amp.autocast('cuda', args...)` instead.\n",
      "  with amp.autocast(autocast):\n"
     ]
    },
    {
     "name": "stdout",
     "output_type": "stream",
     "text": [
      "Saved frame 1.\n",
      "Saved frame 2.\n",
      "Saved frame 3.\n"
     ]
    },
    {
     "name": "stderr",
     "output_type": "stream",
     "text": [
      "/home/prasanna-nage/.cache/torch/hub/ultralytics_yolov5_master/models/common.py:892: FutureWarning: `torch.cuda.amp.autocast(args...)` is deprecated. Please use `torch.amp.autocast('cuda', args...)` instead.\n",
      "  with amp.autocast(autocast):\n",
      "/home/prasanna-nage/.cache/torch/hub/ultralytics_yolov5_master/models/common.py:892: FutureWarning: `torch.cuda.amp.autocast(args...)` is deprecated. Please use `torch.amp.autocast('cuda', args...)` instead.\n",
      "  with amp.autocast(autocast):\n",
      "/home/prasanna-nage/.cache/torch/hub/ultralytics_yolov5_master/models/common.py:892: FutureWarning: `torch.cuda.amp.autocast(args...)` is deprecated. Please use `torch.amp.autocast('cuda', args...)` instead.\n",
      "  with amp.autocast(autocast):\n"
     ]
    },
    {
     "name": "stdout",
     "output_type": "stream",
     "text": [
      "Saved frame 4.\n",
      "Commentary: A player from Team 1 makes a move! The referee is keeping a close eye on the game. A player from Team 2 makes a move!\n"
     ]
    },
    {
     "name": "stderr",
     "output_type": "stream",
     "text": [
      "/home/prasanna-nage/.cache/torch/hub/ultralytics_yolov5_master/models/common.py:892: FutureWarning: `torch.cuda.amp.autocast(args...)` is deprecated. Please use `torch.amp.autocast('cuda', args...)` instead.\n",
      "  with amp.autocast(autocast):\n"
     ]
    },
    {
     "name": "stdout",
     "output_type": "stream",
     "text": [
      "Saved frame 5.\n",
      "Saved frame 6.\n",
      "Saved frame 7.\n"
     ]
    },
    {
     "name": "stderr",
     "output_type": "stream",
     "text": [
      "/home/prasanna-nage/.cache/torch/hub/ultralytics_yolov5_master/models/common.py:892: FutureWarning: `torch.cuda.amp.autocast(args...)` is deprecated. Please use `torch.amp.autocast('cuda', args...)` instead.\n",
      "  with amp.autocast(autocast):\n",
      "/home/prasanna-nage/.cache/torch/hub/ultralytics_yolov5_master/models/common.py:892: FutureWarning: `torch.cuda.amp.autocast(args...)` is deprecated. Please use `torch.amp.autocast('cuda', args...)` instead.\n",
      "  with amp.autocast(autocast):\n",
      "/home/prasanna-nage/.cache/torch/hub/ultralytics_yolov5_master/models/common.py:892: FutureWarning: `torch.cuda.amp.autocast(args...)` is deprecated. Please use `torch.amp.autocast('cuda', args...)` instead.\n",
      "  with amp.autocast(autocast):\n"
     ]
    },
    {
     "name": "stdout",
     "output_type": "stream",
     "text": [
      "Saved frame 8.\n",
      "Saved frame 9.\n",
      "Commentary: A player from Team 2 makes a move! The referee is keeping a close eye on the game. A player from Team 1 makes a move!\n"
     ]
    },
    {
     "name": "stderr",
     "output_type": "stream",
     "text": [
      "/home/prasanna-nage/.cache/torch/hub/ultralytics_yolov5_master/models/common.py:892: FutureWarning: `torch.cuda.amp.autocast(args...)` is deprecated. Please use `torch.amp.autocast('cuda', args...)` instead.\n",
      "  with amp.autocast(autocast):\n",
      "/home/prasanna-nage/.cache/torch/hub/ultralytics_yolov5_master/models/common.py:892: FutureWarning: `torch.cuda.amp.autocast(args...)` is deprecated. Please use `torch.amp.autocast('cuda', args...)` instead.\n",
      "  with amp.autocast(autocast):\n"
     ]
    },
    {
     "name": "stdout",
     "output_type": "stream",
     "text": [
      "Saved frame 10.\n",
      "Saved frame 11.\n"
     ]
    },
    {
     "name": "stderr",
     "output_type": "stream",
     "text": [
      "/home/prasanna-nage/.cache/torch/hub/ultralytics_yolov5_master/models/common.py:892: FutureWarning: `torch.cuda.amp.autocast(args...)` is deprecated. Please use `torch.amp.autocast('cuda', args...)` instead.\n",
      "  with amp.autocast(autocast):\n",
      "/home/prasanna-nage/.cache/torch/hub/ultralytics_yolov5_master/models/common.py:892: FutureWarning: `torch.cuda.amp.autocast(args...)` is deprecated. Please use `torch.amp.autocast('cuda', args...)` instead.\n",
      "  with amp.autocast(autocast):\n"
     ]
    },
    {
     "name": "stdout",
     "output_type": "stream",
     "text": [
      "Saved frame 12.\n",
      "Saved frame 13.\n",
      "Saved frame 14.\n"
     ]
    },
    {
     "name": "stderr",
     "output_type": "stream",
     "text": [
      "/home/prasanna-nage/.cache/torch/hub/ultralytics_yolov5_master/models/common.py:892: FutureWarning: `torch.cuda.amp.autocast(args...)` is deprecated. Please use `torch.amp.autocast('cuda', args...)` instead.\n",
      "  with amp.autocast(autocast):\n",
      "/home/prasanna-nage/.cache/torch/hub/ultralytics_yolov5_master/models/common.py:892: FutureWarning: `torch.cuda.amp.autocast(args...)` is deprecated. Please use `torch.amp.autocast('cuda', args...)` instead.\n",
      "  with amp.autocast(autocast):\n",
      "/home/prasanna-nage/.cache/torch/hub/ultralytics_yolov5_master/models/common.py:892: FutureWarning: `torch.cuda.amp.autocast(args...)` is deprecated. Please use `torch.amp.autocast('cuda', args...)` instead.\n",
      "  with amp.autocast(autocast):\n"
     ]
    },
    {
     "name": "stdout",
     "output_type": "stream",
     "text": [
      "Commentary: A player from Team 1 makes a move! The referee is keeping a close eye on the game. A player from Team 2 makes a move!\n",
      "Saved frame 15.\n"
     ]
    },
    {
     "name": "stderr",
     "output_type": "stream",
     "text": [
      "/home/prasanna-nage/.cache/torch/hub/ultralytics_yolov5_master/models/common.py:892: FutureWarning: `torch.cuda.amp.autocast(args...)` is deprecated. Please use `torch.amp.autocast('cuda', args...)` instead.\n",
      "  with amp.autocast(autocast):\n"
     ]
    },
    {
     "name": "stdout",
     "output_type": "stream",
     "text": [
      "Saved frame 16.\n",
      "Saved frame 17.\n",
      "Saved frame 18.\n"
     ]
    },
    {
     "name": "stderr",
     "output_type": "stream",
     "text": [
      "/home/prasanna-nage/.cache/torch/hub/ultralytics_yolov5_master/models/common.py:892: FutureWarning: `torch.cuda.amp.autocast(args...)` is deprecated. Please use `torch.amp.autocast('cuda', args...)` instead.\n",
      "  with amp.autocast(autocast):\n",
      "/home/prasanna-nage/.cache/torch/hub/ultralytics_yolov5_master/models/common.py:892: FutureWarning: `torch.cuda.amp.autocast(args...)` is deprecated. Please use `torch.amp.autocast('cuda', args...)` instead.\n",
      "  with amp.autocast(autocast):\n",
      "/home/prasanna-nage/.cache/torch/hub/ultralytics_yolov5_master/models/common.py:892: FutureWarning: `torch.cuda.amp.autocast(args...)` is deprecated. Please use `torch.amp.autocast('cuda', args...)` instead.\n",
      "  with amp.autocast(autocast):\n"
     ]
    },
    {
     "name": "stdout",
     "output_type": "stream",
     "text": [
      "Saved frame 19.\n",
      "Commentary: A player from Team 1 makes a move! The referee is keeping a close eye on the game. A player from Team 2 makes a move!\n"
     ]
    },
    {
     "name": "stderr",
     "output_type": "stream",
     "text": [
      "/home/prasanna-nage/.cache/torch/hub/ultralytics_yolov5_master/models/common.py:892: FutureWarning: `torch.cuda.amp.autocast(args...)` is deprecated. Please use `torch.amp.autocast('cuda', args...)` instead.\n",
      "  with amp.autocast(autocast):\n"
     ]
    }
   ],
   "source": [
    "# Path to your video\n",
    "video_path = 'clip.mp4'\n",
    "\n",
    "print(\"Starting Entity Detection...\")\n",
    "detect_entities(video_path)\n",
    "print(\"Entity Detection Completed!\")"
   ]
  },
  {
   "cell_type": "code",
   "execution_count": null,
   "id": "29728088-b10c-4070-aca5-7c67faae7c1b",
   "metadata": {},
   "outputs": [],
   "source": []
  }
 ],
 "metadata": {
  "kernelspec": {
   "display_name": "Python 3 (ipykernel)",
   "language": "python",
   "name": "python3"
  },
  "language_info": {
   "codemirror_mode": {
    "name": "ipython",
    "version": 3
   },
   "file_extension": ".py",
   "mimetype": "text/x-python",
   "name": "python",
   "nbconvert_exporter": "python",
   "pygments_lexer": "ipython3",
   "version": "3.12.3"
  }
 },
 "nbformat": 4,
 "nbformat_minor": 5
}
