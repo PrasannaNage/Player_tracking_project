{
 "cells": [
  {
   "cell_type": "code",
   "execution_count": 24,
   "id": "74b9c34d-51df-499e-ac5f-c1b8c5f2b964",
   "metadata": {},
   "outputs": [
    {
     "name": "stderr",
     "output_type": "stream",
     "text": [
      "Using cache found in /home/prasanna-nage/.cache/torch/hub/ultralytics_yolov5_master\n",
      "YOLOv5 🚀 2024-11-27 Python-3.12.3 torch-2.5.1+cu124 CPU\n",
      "\n",
      "Fusing layers... \n",
      "YOLOv5s summary: 213 layers, 7225885 parameters, 0 gradients, 16.4 GFLOPs\n",
      "Adding AutoShape... \n",
      "/home/prasanna-nage/.cache/torch/hub/ultralytics_yolov5_master/models/common.py:892: FutureWarning: `torch.cuda.amp.autocast(args...)` is deprecated. Please use `torch.amp.autocast('cuda', args...)` instead.\n",
      "  with amp.autocast(autocast):\n",
      "/home/prasanna-nage/.cache/torch/hub/ultralytics_yolov5_master/models/common.py:892: FutureWarning: `torch.cuda.amp.autocast(args...)` is deprecated. Please use `torch.amp.autocast('cuda', args...)` instead.\n",
      "  with amp.autocast(autocast):\n"
     ]
    },
    {
     "name": "stdout",
     "output_type": "stream",
     "text": [
      "Starting Entity Detection...\n",
      "Saved frame 0.\n",
      "Saved frame 1.\n",
      "Saved frame 2.\n"
     ]
    },
    {
     "name": "stderr",
     "output_type": "stream",
     "text": [
      "/home/prasanna-nage/.cache/torch/hub/ultralytics_yolov5_master/models/common.py:892: FutureWarning: `torch.cuda.amp.autocast(args...)` is deprecated. Please use `torch.amp.autocast('cuda', args...)` instead.\n",
      "  with amp.autocast(autocast):\n",
      "/home/prasanna-nage/.cache/torch/hub/ultralytics_yolov5_master/models/common.py:892: FutureWarning: `torch.cuda.amp.autocast(args...)` is deprecated. Please use `torch.amp.autocast('cuda', args...)` instead.\n",
      "  with amp.autocast(autocast):\n"
     ]
    },
    {
     "name": "stdout",
     "output_type": "stream",
     "text": [
      "Saved frame 3.\n",
      "Saved frame 4.\n"
     ]
    },
    {
     "name": "stderr",
     "output_type": "stream",
     "text": [
      "/home/prasanna-nage/.cache/torch/hub/ultralytics_yolov5_master/models/common.py:892: FutureWarning: `torch.cuda.amp.autocast(args...)` is deprecated. Please use `torch.amp.autocast('cuda', args...)` instead.\n",
      "  with amp.autocast(autocast):\n",
      "/home/prasanna-nage/.cache/torch/hub/ultralytics_yolov5_master/models/common.py:892: FutureWarning: `torch.cuda.amp.autocast(args...)` is deprecated. Please use `torch.amp.autocast('cuda', args...)` instead.\n",
      "  with amp.autocast(autocast):\n"
     ]
    },
    {
     "name": "stdout",
     "output_type": "stream",
     "text": [
      "Saved frame 5.\n",
      "Saved frame 6.\n"
     ]
    },
    {
     "name": "stderr",
     "output_type": "stream",
     "text": [
      "/home/prasanna-nage/.cache/torch/hub/ultralytics_yolov5_master/models/common.py:892: FutureWarning: `torch.cuda.amp.autocast(args...)` is deprecated. Please use `torch.amp.autocast('cuda', args...)` instead.\n",
      "  with amp.autocast(autocast):\n",
      "/home/prasanna-nage/.cache/torch/hub/ultralytics_yolov5_master/models/common.py:892: FutureWarning: `torch.cuda.amp.autocast(args...)` is deprecated. Please use `torch.amp.autocast('cuda', args...)` instead.\n",
      "  with amp.autocast(autocast):\n"
     ]
    },
    {
     "name": "stdout",
     "output_type": "stream",
     "text": [
      "Saved frame 7.\n",
      "Saved frame 8.\n"
     ]
    },
    {
     "name": "stderr",
     "output_type": "stream",
     "text": [
      "/home/prasanna-nage/.cache/torch/hub/ultralytics_yolov5_master/models/common.py:892: FutureWarning: `torch.cuda.amp.autocast(args...)` is deprecated. Please use `torch.amp.autocast('cuda', args...)` instead.\n",
      "  with amp.autocast(autocast):\n",
      "/home/prasanna-nage/.cache/torch/hub/ultralytics_yolov5_master/models/common.py:892: FutureWarning: `torch.cuda.amp.autocast(args...)` is deprecated. Please use `torch.amp.autocast('cuda', args...)` instead.\n",
      "  with amp.autocast(autocast):\n"
     ]
    },
    {
     "name": "stdout",
     "output_type": "stream",
     "text": [
      "Saved frame 9.\n",
      "Saved frame 10.\n"
     ]
    },
    {
     "name": "stderr",
     "output_type": "stream",
     "text": [
      "/home/prasanna-nage/.cache/torch/hub/ultralytics_yolov5_master/models/common.py:892: FutureWarning: `torch.cuda.amp.autocast(args...)` is deprecated. Please use `torch.amp.autocast('cuda', args...)` instead.\n",
      "  with amp.autocast(autocast):\n",
      "/home/prasanna-nage/.cache/torch/hub/ultralytics_yolov5_master/models/common.py:892: FutureWarning: `torch.cuda.amp.autocast(args...)` is deprecated. Please use `torch.amp.autocast('cuda', args...)` instead.\n",
      "  with amp.autocast(autocast):\n"
     ]
    },
    {
     "name": "stdout",
     "output_type": "stream",
     "text": [
      "Saved frame 11.\n",
      "Saved frame 12.\n"
     ]
    },
    {
     "name": "stderr",
     "output_type": "stream",
     "text": [
      "/home/prasanna-nage/.cache/torch/hub/ultralytics_yolov5_master/models/common.py:892: FutureWarning: `torch.cuda.amp.autocast(args...)` is deprecated. Please use `torch.amp.autocast('cuda', args...)` instead.\n",
      "  with amp.autocast(autocast):\n",
      "/home/prasanna-nage/.cache/torch/hub/ultralytics_yolov5_master/models/common.py:892: FutureWarning: `torch.cuda.amp.autocast(args...)` is deprecated. Please use `torch.amp.autocast('cuda', args...)` instead.\n",
      "  with amp.autocast(autocast):\n"
     ]
    },
    {
     "name": "stdout",
     "output_type": "stream",
     "text": [
      "Saved frame 13.\n",
      "Saved frame 14.\n"
     ]
    },
    {
     "name": "stderr",
     "output_type": "stream",
     "text": [
      "/home/prasanna-nage/.cache/torch/hub/ultralytics_yolov5_master/models/common.py:892: FutureWarning: `torch.cuda.amp.autocast(args...)` is deprecated. Please use `torch.amp.autocast('cuda', args...)` instead.\n",
      "  with amp.autocast(autocast):\n",
      "/home/prasanna-nage/.cache/torch/hub/ultralytics_yolov5_master/models/common.py:892: FutureWarning: `torch.cuda.amp.autocast(args...)` is deprecated. Please use `torch.amp.autocast('cuda', args...)` instead.\n",
      "  with amp.autocast(autocast):\n"
     ]
    },
    {
     "name": "stdout",
     "output_type": "stream",
     "text": [
      "Saved frame 15.\n",
      "Saved frame 16.\n"
     ]
    },
    {
     "name": "stderr",
     "output_type": "stream",
     "text": [
      "/home/prasanna-nage/.cache/torch/hub/ultralytics_yolov5_master/models/common.py:892: FutureWarning: `torch.cuda.amp.autocast(args...)` is deprecated. Please use `torch.amp.autocast('cuda', args...)` instead.\n",
      "  with amp.autocast(autocast):\n",
      "/home/prasanna-nage/.cache/torch/hub/ultralytics_yolov5_master/models/common.py:892: FutureWarning: `torch.cuda.amp.autocast(args...)` is deprecated. Please use `torch.amp.autocast('cuda', args...)` instead.\n",
      "  with amp.autocast(autocast):\n"
     ]
    },
    {
     "name": "stdout",
     "output_type": "stream",
     "text": [
      "Saved frame 17.\n",
      "Saved frame 18.\n",
      "Saved frame 19.\n"
     ]
    },
    {
     "name": "stderr",
     "output_type": "stream",
     "text": [
      "/home/prasanna-nage/.cache/torch/hub/ultralytics_yolov5_master/models/common.py:892: FutureWarning: `torch.cuda.amp.autocast(args...)` is deprecated. Please use `torch.amp.autocast('cuda', args...)` instead.\n",
      "  with amp.autocast(autocast):\n",
      "/home/prasanna-nage/.cache/torch/hub/ultralytics_yolov5_master/models/common.py:892: FutureWarning: `torch.cuda.amp.autocast(args...)` is deprecated. Please use `torch.amp.autocast('cuda', args...)` instead.\n",
      "  with amp.autocast(autocast):\n",
      "/home/prasanna-nage/.cache/torch/hub/ultralytics_yolov5_master/models/common.py:892: FutureWarning: `torch.cuda.amp.autocast(args...)` is deprecated. Please use `torch.amp.autocast('cuda', args...)` instead.\n",
      "  with amp.autocast(autocast):\n",
      "/home/prasanna-nage/.cache/torch/hub/ultralytics_yolov5_master/models/common.py:892: FutureWarning: `torch.cuda.amp.autocast(args...)` is deprecated. Please use `torch.amp.autocast('cuda', args...)` instead.\n",
      "  with amp.autocast(autocast):\n"
     ]
    },
    {
     "name": "stdout",
     "output_type": "stream",
     "text": [
      "Saved frame 20.\n",
      "Saved frame 21.\n"
     ]
    },
    {
     "name": "stderr",
     "output_type": "stream",
     "text": [
      "/home/prasanna-nage/.cache/torch/hub/ultralytics_yolov5_master/models/common.py:892: FutureWarning: `torch.cuda.amp.autocast(args...)` is deprecated. Please use `torch.amp.autocast('cuda', args...)` instead.\n",
      "  with amp.autocast(autocast):\n",
      "/home/prasanna-nage/.cache/torch/hub/ultralytics_yolov5_master/models/common.py:892: FutureWarning: `torch.cuda.amp.autocast(args...)` is deprecated. Please use `torch.amp.autocast('cuda', args...)` instead.\n",
      "  with amp.autocast(autocast):\n"
     ]
    },
    {
     "name": "stdout",
     "output_type": "stream",
     "text": [
      "Saved frame 22.\n",
      "Saved frame 23.\n"
     ]
    },
    {
     "name": "stderr",
     "output_type": "stream",
     "text": [
      "/home/prasanna-nage/.cache/torch/hub/ultralytics_yolov5_master/models/common.py:892: FutureWarning: `torch.cuda.amp.autocast(args...)` is deprecated. Please use `torch.amp.autocast('cuda', args...)` instead.\n",
      "  with amp.autocast(autocast):\n",
      "/home/prasanna-nage/.cache/torch/hub/ultralytics_yolov5_master/models/common.py:892: FutureWarning: `torch.cuda.amp.autocast(args...)` is deprecated. Please use `torch.amp.autocast('cuda', args...)` instead.\n",
      "  with amp.autocast(autocast):\n"
     ]
    },
    {
     "name": "stdout",
     "output_type": "stream",
     "text": [
      "Saved frame 24.\n",
      "Saved frame 25.\n"
     ]
    },
    {
     "name": "stderr",
     "output_type": "stream",
     "text": [
      "/home/prasanna-nage/.cache/torch/hub/ultralytics_yolov5_master/models/common.py:892: FutureWarning: `torch.cuda.amp.autocast(args...)` is deprecated. Please use `torch.amp.autocast('cuda', args...)` instead.\n",
      "  with amp.autocast(autocast):\n",
      "/home/prasanna-nage/.cache/torch/hub/ultralytics_yolov5_master/models/common.py:892: FutureWarning: `torch.cuda.amp.autocast(args...)` is deprecated. Please use `torch.amp.autocast('cuda', args...)` instead.\n",
      "  with amp.autocast(autocast):\n"
     ]
    },
    {
     "name": "stdout",
     "output_type": "stream",
     "text": [
      "Saved frame 26.\n",
      "Saved frame 27.\n"
     ]
    },
    {
     "name": "stderr",
     "output_type": "stream",
     "text": [
      "/home/prasanna-nage/.cache/torch/hub/ultralytics_yolov5_master/models/common.py:892: FutureWarning: `torch.cuda.amp.autocast(args...)` is deprecated. Please use `torch.amp.autocast('cuda', args...)` instead.\n",
      "  with amp.autocast(autocast):\n",
      "/home/prasanna-nage/.cache/torch/hub/ultralytics_yolov5_master/models/common.py:892: FutureWarning: `torch.cuda.amp.autocast(args...)` is deprecated. Please use `torch.amp.autocast('cuda', args...)` instead.\n",
      "  with amp.autocast(autocast):\n"
     ]
    },
    {
     "name": "stdout",
     "output_type": "stream",
     "text": [
      "Saved frame 28.\n",
      "Saved frame 29.\n"
     ]
    },
    {
     "name": "stderr",
     "output_type": "stream",
     "text": [
      "/home/prasanna-nage/.cache/torch/hub/ultralytics_yolov5_master/models/common.py:892: FutureWarning: `torch.cuda.amp.autocast(args...)` is deprecated. Please use `torch.amp.autocast('cuda', args...)` instead.\n",
      "  with amp.autocast(autocast):\n",
      "/home/prasanna-nage/.cache/torch/hub/ultralytics_yolov5_master/models/common.py:892: FutureWarning: `torch.cuda.amp.autocast(args...)` is deprecated. Please use `torch.amp.autocast('cuda', args...)` instead.\n",
      "  with amp.autocast(autocast):\n"
     ]
    },
    {
     "name": "stdout",
     "output_type": "stream",
     "text": [
      "Saved frame 30.\n",
      "Saved frame 31.\n"
     ]
    },
    {
     "name": "stderr",
     "output_type": "stream",
     "text": [
      "/home/prasanna-nage/.cache/torch/hub/ultralytics_yolov5_master/models/common.py:892: FutureWarning: `torch.cuda.amp.autocast(args...)` is deprecated. Please use `torch.amp.autocast('cuda', args...)` instead.\n",
      "  with amp.autocast(autocast):\n",
      "/home/prasanna-nage/.cache/torch/hub/ultralytics_yolov5_master/models/common.py:892: FutureWarning: `torch.cuda.amp.autocast(args...)` is deprecated. Please use `torch.amp.autocast('cuda', args...)` instead.\n",
      "  with amp.autocast(autocast):\n"
     ]
    },
    {
     "name": "stdout",
     "output_type": "stream",
     "text": [
      "Saved frame 32.\n",
      "Saved frame 33.\n"
     ]
    },
    {
     "name": "stderr",
     "output_type": "stream",
     "text": [
      "/home/prasanna-nage/.cache/torch/hub/ultralytics_yolov5_master/models/common.py:892: FutureWarning: `torch.cuda.amp.autocast(args...)` is deprecated. Please use `torch.amp.autocast('cuda', args...)` instead.\n",
      "  with amp.autocast(autocast):\n",
      "/home/prasanna-nage/.cache/torch/hub/ultralytics_yolov5_master/models/common.py:892: FutureWarning: `torch.cuda.amp.autocast(args...)` is deprecated. Please use `torch.amp.autocast('cuda', args...)` instead.\n",
      "  with amp.autocast(autocast):\n"
     ]
    },
    {
     "name": "stdout",
     "output_type": "stream",
     "text": [
      "Saved frame 34.\n",
      "Saved frame 35.\n"
     ]
    },
    {
     "name": "stderr",
     "output_type": "stream",
     "text": [
      "/home/prasanna-nage/.cache/torch/hub/ultralytics_yolov5_master/models/common.py:892: FutureWarning: `torch.cuda.amp.autocast(args...)` is deprecated. Please use `torch.amp.autocast('cuda', args...)` instead.\n",
      "  with amp.autocast(autocast):\n",
      "/home/prasanna-nage/.cache/torch/hub/ultralytics_yolov5_master/models/common.py:892: FutureWarning: `torch.cuda.amp.autocast(args...)` is deprecated. Please use `torch.amp.autocast('cuda', args...)` instead.\n",
      "  with amp.autocast(autocast):\n"
     ]
    },
    {
     "name": "stdout",
     "output_type": "stream",
     "text": [
      "Saved frame 36.\n",
      "Saved frame 37.\n"
     ]
    },
    {
     "name": "stderr",
     "output_type": "stream",
     "text": [
      "/home/prasanna-nage/.cache/torch/hub/ultralytics_yolov5_master/models/common.py:892: FutureWarning: `torch.cuda.amp.autocast(args...)` is deprecated. Please use `torch.amp.autocast('cuda', args...)` instead.\n",
      "  with amp.autocast(autocast):\n",
      "/home/prasanna-nage/.cache/torch/hub/ultralytics_yolov5_master/models/common.py:892: FutureWarning: `torch.cuda.amp.autocast(args...)` is deprecated. Please use `torch.amp.autocast('cuda', args...)` instead.\n",
      "  with amp.autocast(autocast):\n"
     ]
    },
    {
     "name": "stdout",
     "output_type": "stream",
     "text": [
      "Saved frame 38.\n",
      "Saved frame 39.\n"
     ]
    },
    {
     "name": "stderr",
     "output_type": "stream",
     "text": [
      "/home/prasanna-nage/.cache/torch/hub/ultralytics_yolov5_master/models/common.py:892: FutureWarning: `torch.cuda.amp.autocast(args...)` is deprecated. Please use `torch.amp.autocast('cuda', args...)` instead.\n",
      "  with amp.autocast(autocast):\n",
      "/home/prasanna-nage/.cache/torch/hub/ultralytics_yolov5_master/models/common.py:892: FutureWarning: `torch.cuda.amp.autocast(args...)` is deprecated. Please use `torch.amp.autocast('cuda', args...)` instead.\n",
      "  with amp.autocast(autocast):\n"
     ]
    },
    {
     "name": "stdout",
     "output_type": "stream",
     "text": [
      "Saved frame 40.\n",
      "Saved frame 41.\n"
     ]
    },
    {
     "name": "stderr",
     "output_type": "stream",
     "text": [
      "/home/prasanna-nage/.cache/torch/hub/ultralytics_yolov5_master/models/common.py:892: FutureWarning: `torch.cuda.amp.autocast(args...)` is deprecated. Please use `torch.amp.autocast('cuda', args...)` instead.\n",
      "  with amp.autocast(autocast):\n",
      "/home/prasanna-nage/.cache/torch/hub/ultralytics_yolov5_master/models/common.py:892: FutureWarning: `torch.cuda.amp.autocast(args...)` is deprecated. Please use `torch.amp.autocast('cuda', args...)` instead.\n",
      "  with amp.autocast(autocast):\n"
     ]
    },
    {
     "name": "stdout",
     "output_type": "stream",
     "text": [
      "Saved frame 42.\n",
      "Saved frame 43.\n"
     ]
    },
    {
     "name": "stderr",
     "output_type": "stream",
     "text": [
      "/home/prasanna-nage/.cache/torch/hub/ultralytics_yolov5_master/models/common.py:892: FutureWarning: `torch.cuda.amp.autocast(args...)` is deprecated. Please use `torch.amp.autocast('cuda', args...)` instead.\n",
      "  with amp.autocast(autocast):\n",
      "/home/prasanna-nage/.cache/torch/hub/ultralytics_yolov5_master/models/common.py:892: FutureWarning: `torch.cuda.amp.autocast(args...)` is deprecated. Please use `torch.amp.autocast('cuda', args...)` instead.\n",
      "  with amp.autocast(autocast):\n"
     ]
    },
    {
     "name": "stdout",
     "output_type": "stream",
     "text": [
      "Saved frame 44.\n",
      "Saved frame 45.\n"
     ]
    },
    {
     "name": "stderr",
     "output_type": "stream",
     "text": [
      "/home/prasanna-nage/.cache/torch/hub/ultralytics_yolov5_master/models/common.py:892: FutureWarning: `torch.cuda.amp.autocast(args...)` is deprecated. Please use `torch.amp.autocast('cuda', args...)` instead.\n",
      "  with amp.autocast(autocast):\n",
      "/home/prasanna-nage/.cache/torch/hub/ultralytics_yolov5_master/models/common.py:892: FutureWarning: `torch.cuda.amp.autocast(args...)` is deprecated. Please use `torch.amp.autocast('cuda', args...)` instead.\n",
      "  with amp.autocast(autocast):\n"
     ]
    },
    {
     "name": "stdout",
     "output_type": "stream",
     "text": [
      "Saved frame 46.\n",
      "Saved frame 47.\n"
     ]
    },
    {
     "name": "stderr",
     "output_type": "stream",
     "text": [
      "/home/prasanna-nage/.cache/torch/hub/ultralytics_yolov5_master/models/common.py:892: FutureWarning: `torch.cuda.amp.autocast(args...)` is deprecated. Please use `torch.amp.autocast('cuda', args...)` instead.\n",
      "  with amp.autocast(autocast):\n",
      "/home/prasanna-nage/.cache/torch/hub/ultralytics_yolov5_master/models/common.py:892: FutureWarning: `torch.cuda.amp.autocast(args...)` is deprecated. Please use `torch.amp.autocast('cuda', args...)` instead.\n",
      "  with amp.autocast(autocast):\n"
     ]
    },
    {
     "name": "stdout",
     "output_type": "stream",
     "text": [
      "Saved frame 48.\n",
      "Saved frame 49.\n"
     ]
    },
    {
     "name": "stderr",
     "output_type": "stream",
     "text": [
      "/home/prasanna-nage/.cache/torch/hub/ultralytics_yolov5_master/models/common.py:892: FutureWarning: `torch.cuda.amp.autocast(args...)` is deprecated. Please use `torch.amp.autocast('cuda', args...)` instead.\n",
      "  with amp.autocast(autocast):\n",
      "/home/prasanna-nage/.cache/torch/hub/ultralytics_yolov5_master/models/common.py:892: FutureWarning: `torch.cuda.amp.autocast(args...)` is deprecated. Please use `torch.amp.autocast('cuda', args...)` instead.\n",
      "  with amp.autocast(autocast):\n"
     ]
    },
    {
     "name": "stdout",
     "output_type": "stream",
     "text": [
      "Saved frame 50.\n",
      "Saved frame 51.\n"
     ]
    },
    {
     "name": "stderr",
     "output_type": "stream",
     "text": [
      "/home/prasanna-nage/.cache/torch/hub/ultralytics_yolov5_master/models/common.py:892: FutureWarning: `torch.cuda.amp.autocast(args...)` is deprecated. Please use `torch.amp.autocast('cuda', args...)` instead.\n",
      "  with amp.autocast(autocast):\n",
      "/home/prasanna-nage/.cache/torch/hub/ultralytics_yolov5_master/models/common.py:892: FutureWarning: `torch.cuda.amp.autocast(args...)` is deprecated. Please use `torch.amp.autocast('cuda', args...)` instead.\n",
      "  with amp.autocast(autocast):\n"
     ]
    },
    {
     "name": "stdout",
     "output_type": "stream",
     "text": [
      "Saved frame 52.\n",
      "Saved frame 53.\n"
     ]
    },
    {
     "name": "stderr",
     "output_type": "stream",
     "text": [
      "/home/prasanna-nage/.cache/torch/hub/ultralytics_yolov5_master/models/common.py:892: FutureWarning: `torch.cuda.amp.autocast(args...)` is deprecated. Please use `torch.amp.autocast('cuda', args...)` instead.\n",
      "  with amp.autocast(autocast):\n",
      "/home/prasanna-nage/.cache/torch/hub/ultralytics_yolov5_master/models/common.py:892: FutureWarning: `torch.cuda.amp.autocast(args...)` is deprecated. Please use `torch.amp.autocast('cuda', args...)` instead.\n",
      "  with amp.autocast(autocast):\n"
     ]
    },
    {
     "name": "stdout",
     "output_type": "stream",
     "text": [
      "Saved frame 54.\n",
      "Saved frame 55.\n"
     ]
    },
    {
     "name": "stderr",
     "output_type": "stream",
     "text": [
      "/home/prasanna-nage/.cache/torch/hub/ultralytics_yolov5_master/models/common.py:892: FutureWarning: `torch.cuda.amp.autocast(args...)` is deprecated. Please use `torch.amp.autocast('cuda', args...)` instead.\n",
      "  with amp.autocast(autocast):\n",
      "/home/prasanna-nage/.cache/torch/hub/ultralytics_yolov5_master/models/common.py:892: FutureWarning: `torch.cuda.amp.autocast(args...)` is deprecated. Please use `torch.amp.autocast('cuda', args...)` instead.\n",
      "  with amp.autocast(autocast):\n"
     ]
    },
    {
     "name": "stdout",
     "output_type": "stream",
     "text": [
      "Saved frame 56.\n",
      "Saved frame 57.\n"
     ]
    },
    {
     "name": "stderr",
     "output_type": "stream",
     "text": [
      "/home/prasanna-nage/.cache/torch/hub/ultralytics_yolov5_master/models/common.py:892: FutureWarning: `torch.cuda.amp.autocast(args...)` is deprecated. Please use `torch.amp.autocast('cuda', args...)` instead.\n",
      "  with amp.autocast(autocast):\n",
      "/home/prasanna-nage/.cache/torch/hub/ultralytics_yolov5_master/models/common.py:892: FutureWarning: `torch.cuda.amp.autocast(args...)` is deprecated. Please use `torch.amp.autocast('cuda', args...)` instead.\n",
      "  with amp.autocast(autocast):\n"
     ]
    },
    {
     "name": "stdout",
     "output_type": "stream",
     "text": [
      "Saved frame 58.\n",
      "Saved frame 59.\n"
     ]
    },
    {
     "name": "stderr",
     "output_type": "stream",
     "text": [
      "/home/prasanna-nage/.cache/torch/hub/ultralytics_yolov5_master/models/common.py:892: FutureWarning: `torch.cuda.amp.autocast(args...)` is deprecated. Please use `torch.amp.autocast('cuda', args...)` instead.\n",
      "  with amp.autocast(autocast):\n",
      "/home/prasanna-nage/.cache/torch/hub/ultralytics_yolov5_master/models/common.py:892: FutureWarning: `torch.cuda.amp.autocast(args...)` is deprecated. Please use `torch.amp.autocast('cuda', args...)` instead.\n",
      "  with amp.autocast(autocast):\n"
     ]
    },
    {
     "name": "stdout",
     "output_type": "stream",
     "text": [
      "Saved frame 60.\n",
      "Saved frame 61.\n"
     ]
    },
    {
     "name": "stderr",
     "output_type": "stream",
     "text": [
      "/home/prasanna-nage/.cache/torch/hub/ultralytics_yolov5_master/models/common.py:892: FutureWarning: `torch.cuda.amp.autocast(args...)` is deprecated. Please use `torch.amp.autocast('cuda', args...)` instead.\n",
      "  with amp.autocast(autocast):\n",
      "/home/prasanna-nage/.cache/torch/hub/ultralytics_yolov5_master/models/common.py:892: FutureWarning: `torch.cuda.amp.autocast(args...)` is deprecated. Please use `torch.amp.autocast('cuda', args...)` instead.\n",
      "  with amp.autocast(autocast):\n"
     ]
    },
    {
     "name": "stdout",
     "output_type": "stream",
     "text": [
      "Saved frame 62.\n",
      "Saved frame 63.\n",
      "Saved frame 64.\n"
     ]
    },
    {
     "name": "stderr",
     "output_type": "stream",
     "text": [
      "/home/prasanna-nage/.cache/torch/hub/ultralytics_yolov5_master/models/common.py:892: FutureWarning: `torch.cuda.amp.autocast(args...)` is deprecated. Please use `torch.amp.autocast('cuda', args...)` instead.\n",
      "  with amp.autocast(autocast):\n",
      "/home/prasanna-nage/.cache/torch/hub/ultralytics_yolov5_master/models/common.py:892: FutureWarning: `torch.cuda.amp.autocast(args...)` is deprecated. Please use `torch.amp.autocast('cuda', args...)` instead.\n",
      "  with amp.autocast(autocast):\n",
      "/home/prasanna-nage/.cache/torch/hub/ultralytics_yolov5_master/models/common.py:892: FutureWarning: `torch.cuda.amp.autocast(args...)` is deprecated. Please use `torch.amp.autocast('cuda', args...)` instead.\n",
      "  with amp.autocast(autocast):\n"
     ]
    },
    {
     "name": "stdout",
     "output_type": "stream",
     "text": [
      "Saved frame 65.\n",
      "Saved frame 66.\n"
     ]
    },
    {
     "name": "stderr",
     "output_type": "stream",
     "text": [
      "/home/prasanna-nage/.cache/torch/hub/ultralytics_yolov5_master/models/common.py:892: FutureWarning: `torch.cuda.amp.autocast(args...)` is deprecated. Please use `torch.amp.autocast('cuda', args...)` instead.\n",
      "  with amp.autocast(autocast):\n",
      "/home/prasanna-nage/.cache/torch/hub/ultralytics_yolov5_master/models/common.py:892: FutureWarning: `torch.cuda.amp.autocast(args...)` is deprecated. Please use `torch.amp.autocast('cuda', args...)` instead.\n",
      "  with amp.autocast(autocast):\n"
     ]
    },
    {
     "name": "stdout",
     "output_type": "stream",
     "text": [
      "Saved frame 67.\n",
      "Saved frame 68.\n"
     ]
    },
    {
     "name": "stderr",
     "output_type": "stream",
     "text": [
      "/home/prasanna-nage/.cache/torch/hub/ultralytics_yolov5_master/models/common.py:892: FutureWarning: `torch.cuda.amp.autocast(args...)` is deprecated. Please use `torch.amp.autocast('cuda', args...)` instead.\n",
      "  with amp.autocast(autocast):\n",
      "/home/prasanna-nage/.cache/torch/hub/ultralytics_yolov5_master/models/common.py:892: FutureWarning: `torch.cuda.amp.autocast(args...)` is deprecated. Please use `torch.amp.autocast('cuda', args...)` instead.\n",
      "  with amp.autocast(autocast):\n"
     ]
    },
    {
     "name": "stdout",
     "output_type": "stream",
     "text": [
      "Saved frame 69.\n",
      "Saved frame 70.\n"
     ]
    },
    {
     "name": "stderr",
     "output_type": "stream",
     "text": [
      "/home/prasanna-nage/.cache/torch/hub/ultralytics_yolov5_master/models/common.py:892: FutureWarning: `torch.cuda.amp.autocast(args...)` is deprecated. Please use `torch.amp.autocast('cuda', args...)` instead.\n",
      "  with amp.autocast(autocast):\n",
      "/home/prasanna-nage/.cache/torch/hub/ultralytics_yolov5_master/models/common.py:892: FutureWarning: `torch.cuda.amp.autocast(args...)` is deprecated. Please use `torch.amp.autocast('cuda', args...)` instead.\n",
      "  with amp.autocast(autocast):\n"
     ]
    },
    {
     "name": "stdout",
     "output_type": "stream",
     "text": [
      "Saved frame 71.\n",
      "Saved frame 72.\n"
     ]
    },
    {
     "name": "stderr",
     "output_type": "stream",
     "text": [
      "/home/prasanna-nage/.cache/torch/hub/ultralytics_yolov5_master/models/common.py:892: FutureWarning: `torch.cuda.amp.autocast(args...)` is deprecated. Please use `torch.amp.autocast('cuda', args...)` instead.\n",
      "  with amp.autocast(autocast):\n",
      "/home/prasanna-nage/.cache/torch/hub/ultralytics_yolov5_master/models/common.py:892: FutureWarning: `torch.cuda.amp.autocast(args...)` is deprecated. Please use `torch.amp.autocast('cuda', args...)` instead.\n",
      "  with amp.autocast(autocast):\n"
     ]
    },
    {
     "name": "stdout",
     "output_type": "stream",
     "text": [
      "Saved frame 73.\n",
      "Saved frame 74.\n"
     ]
    },
    {
     "name": "stderr",
     "output_type": "stream",
     "text": [
      "/home/prasanna-nage/.cache/torch/hub/ultralytics_yolov5_master/models/common.py:892: FutureWarning: `torch.cuda.amp.autocast(args...)` is deprecated. Please use `torch.amp.autocast('cuda', args...)` instead.\n",
      "  with amp.autocast(autocast):\n",
      "/home/prasanna-nage/.cache/torch/hub/ultralytics_yolov5_master/models/common.py:892: FutureWarning: `torch.cuda.amp.autocast(args...)` is deprecated. Please use `torch.amp.autocast('cuda', args...)` instead.\n",
      "  with amp.autocast(autocast):\n"
     ]
    },
    {
     "name": "stdout",
     "output_type": "stream",
     "text": [
      "Saved frame 75.\n",
      "Saved frame 76.\n"
     ]
    },
    {
     "name": "stderr",
     "output_type": "stream",
     "text": [
      "/home/prasanna-nage/.cache/torch/hub/ultralytics_yolov5_master/models/common.py:892: FutureWarning: `torch.cuda.amp.autocast(args...)` is deprecated. Please use `torch.amp.autocast('cuda', args...)` instead.\n",
      "  with amp.autocast(autocast):\n",
      "/home/prasanna-nage/.cache/torch/hub/ultralytics_yolov5_master/models/common.py:892: FutureWarning: `torch.cuda.amp.autocast(args...)` is deprecated. Please use `torch.amp.autocast('cuda', args...)` instead.\n",
      "  with amp.autocast(autocast):\n"
     ]
    },
    {
     "name": "stdout",
     "output_type": "stream",
     "text": [
      "Saved frame 77.\n",
      "Saved frame 78.\n"
     ]
    },
    {
     "name": "stderr",
     "output_type": "stream",
     "text": [
      "/home/prasanna-nage/.cache/torch/hub/ultralytics_yolov5_master/models/common.py:892: FutureWarning: `torch.cuda.amp.autocast(args...)` is deprecated. Please use `torch.amp.autocast('cuda', args...)` instead.\n",
      "  with amp.autocast(autocast):\n",
      "/home/prasanna-nage/.cache/torch/hub/ultralytics_yolov5_master/models/common.py:892: FutureWarning: `torch.cuda.amp.autocast(args...)` is deprecated. Please use `torch.amp.autocast('cuda', args...)` instead.\n",
      "  with amp.autocast(autocast):\n"
     ]
    },
    {
     "name": "stdout",
     "output_type": "stream",
     "text": [
      "Saved frame 79.\n",
      "Saved frame 80.\n"
     ]
    },
    {
     "name": "stderr",
     "output_type": "stream",
     "text": [
      "/home/prasanna-nage/.cache/torch/hub/ultralytics_yolov5_master/models/common.py:892: FutureWarning: `torch.cuda.amp.autocast(args...)` is deprecated. Please use `torch.amp.autocast('cuda', args...)` instead.\n",
      "  with amp.autocast(autocast):\n",
      "/home/prasanna-nage/.cache/torch/hub/ultralytics_yolov5_master/models/common.py:892: FutureWarning: `torch.cuda.amp.autocast(args...)` is deprecated. Please use `torch.amp.autocast('cuda', args...)` instead.\n",
      "  with amp.autocast(autocast):\n"
     ]
    },
    {
     "name": "stdout",
     "output_type": "stream",
     "text": [
      "Saved frame 81.\n",
      "Saved frame 82.\n"
     ]
    },
    {
     "name": "stderr",
     "output_type": "stream",
     "text": [
      "/home/prasanna-nage/.cache/torch/hub/ultralytics_yolov5_master/models/common.py:892: FutureWarning: `torch.cuda.amp.autocast(args...)` is deprecated. Please use `torch.amp.autocast('cuda', args...)` instead.\n",
      "  with amp.autocast(autocast):\n",
      "/home/prasanna-nage/.cache/torch/hub/ultralytics_yolov5_master/models/common.py:892: FutureWarning: `torch.cuda.amp.autocast(args...)` is deprecated. Please use `torch.amp.autocast('cuda', args...)` instead.\n",
      "  with amp.autocast(autocast):\n"
     ]
    },
    {
     "name": "stdout",
     "output_type": "stream",
     "text": [
      "Saved frame 83.\n",
      "Saved frame 84.\n"
     ]
    },
    {
     "name": "stderr",
     "output_type": "stream",
     "text": [
      "/home/prasanna-nage/.cache/torch/hub/ultralytics_yolov5_master/models/common.py:892: FutureWarning: `torch.cuda.amp.autocast(args...)` is deprecated. Please use `torch.amp.autocast('cuda', args...)` instead.\n",
      "  with amp.autocast(autocast):\n",
      "/home/prasanna-nage/.cache/torch/hub/ultralytics_yolov5_master/models/common.py:892: FutureWarning: `torch.cuda.amp.autocast(args...)` is deprecated. Please use `torch.amp.autocast('cuda', args...)` instead.\n",
      "  with amp.autocast(autocast):\n"
     ]
    },
    {
     "name": "stdout",
     "output_type": "stream",
     "text": [
      "Saved frame 85.\n",
      "Saved frame 86.\n"
     ]
    },
    {
     "name": "stderr",
     "output_type": "stream",
     "text": [
      "/home/prasanna-nage/.cache/torch/hub/ultralytics_yolov5_master/models/common.py:892: FutureWarning: `torch.cuda.amp.autocast(args...)` is deprecated. Please use `torch.amp.autocast('cuda', args...)` instead.\n",
      "  with amp.autocast(autocast):\n",
      "/home/prasanna-nage/.cache/torch/hub/ultralytics_yolov5_master/models/common.py:892: FutureWarning: `torch.cuda.amp.autocast(args...)` is deprecated. Please use `torch.amp.autocast('cuda', args...)` instead.\n",
      "  with amp.autocast(autocast):\n"
     ]
    },
    {
     "name": "stdout",
     "output_type": "stream",
     "text": [
      "Saved frame 87.\n",
      "Saved frame 88.\n"
     ]
    },
    {
     "name": "stderr",
     "output_type": "stream",
     "text": [
      "/home/prasanna-nage/.cache/torch/hub/ultralytics_yolov5_master/models/common.py:892: FutureWarning: `torch.cuda.amp.autocast(args...)` is deprecated. Please use `torch.amp.autocast('cuda', args...)` instead.\n",
      "  with amp.autocast(autocast):\n",
      "/home/prasanna-nage/.cache/torch/hub/ultralytics_yolov5_master/models/common.py:892: FutureWarning: `torch.cuda.amp.autocast(args...)` is deprecated. Please use `torch.amp.autocast('cuda', args...)` instead.\n",
      "  with amp.autocast(autocast):\n"
     ]
    },
    {
     "name": "stdout",
     "output_type": "stream",
     "text": [
      "Saved frame 89.\n",
      "Saved frame 90.\n"
     ]
    },
    {
     "name": "stderr",
     "output_type": "stream",
     "text": [
      "/home/prasanna-nage/.cache/torch/hub/ultralytics_yolov5_master/models/common.py:892: FutureWarning: `torch.cuda.amp.autocast(args...)` is deprecated. Please use `torch.amp.autocast('cuda', args...)` instead.\n",
      "  with amp.autocast(autocast):\n",
      "/home/prasanna-nage/.cache/torch/hub/ultralytics_yolov5_master/models/common.py:892: FutureWarning: `torch.cuda.amp.autocast(args...)` is deprecated. Please use `torch.amp.autocast('cuda', args...)` instead.\n",
      "  with amp.autocast(autocast):\n"
     ]
    },
    {
     "name": "stdout",
     "output_type": "stream",
     "text": [
      "Saved frame 91.\n",
      "Saved frame 92.\n"
     ]
    },
    {
     "name": "stderr",
     "output_type": "stream",
     "text": [
      "/home/prasanna-nage/.cache/torch/hub/ultralytics_yolov5_master/models/common.py:892: FutureWarning: `torch.cuda.amp.autocast(args...)` is deprecated. Please use `torch.amp.autocast('cuda', args...)` instead.\n",
      "  with amp.autocast(autocast):\n",
      "/home/prasanna-nage/.cache/torch/hub/ultralytics_yolov5_master/models/common.py:892: FutureWarning: `torch.cuda.amp.autocast(args...)` is deprecated. Please use `torch.amp.autocast('cuda', args...)` instead.\n",
      "  with amp.autocast(autocast):\n"
     ]
    },
    {
     "name": "stdout",
     "output_type": "stream",
     "text": [
      "Saved frame 93.\n",
      "Saved frame 94.\n"
     ]
    },
    {
     "name": "stderr",
     "output_type": "stream",
     "text": [
      "/home/prasanna-nage/.cache/torch/hub/ultralytics_yolov5_master/models/common.py:892: FutureWarning: `torch.cuda.amp.autocast(args...)` is deprecated. Please use `torch.amp.autocast('cuda', args...)` instead.\n",
      "  with amp.autocast(autocast):\n",
      "/home/prasanna-nage/.cache/torch/hub/ultralytics_yolov5_master/models/common.py:892: FutureWarning: `torch.cuda.amp.autocast(args...)` is deprecated. Please use `torch.amp.autocast('cuda', args...)` instead.\n",
      "  with amp.autocast(autocast):\n"
     ]
    },
    {
     "name": "stdout",
     "output_type": "stream",
     "text": [
      "Saved frame 95.\n",
      "Saved frame 96.\n"
     ]
    },
    {
     "name": "stderr",
     "output_type": "stream",
     "text": [
      "/home/prasanna-nage/.cache/torch/hub/ultralytics_yolov5_master/models/common.py:892: FutureWarning: `torch.cuda.amp.autocast(args...)` is deprecated. Please use `torch.amp.autocast('cuda', args...)` instead.\n",
      "  with amp.autocast(autocast):\n",
      "/home/prasanna-nage/.cache/torch/hub/ultralytics_yolov5_master/models/common.py:892: FutureWarning: `torch.cuda.amp.autocast(args...)` is deprecated. Please use `torch.amp.autocast('cuda', args...)` instead.\n",
      "  with amp.autocast(autocast):\n"
     ]
    },
    {
     "name": "stdout",
     "output_type": "stream",
     "text": [
      "Saved frame 97.\n",
      "Saved frame 98.\n"
     ]
    },
    {
     "name": "stderr",
     "output_type": "stream",
     "text": [
      "/home/prasanna-nage/.cache/torch/hub/ultralytics_yolov5_master/models/common.py:892: FutureWarning: `torch.cuda.amp.autocast(args...)` is deprecated. Please use `torch.amp.autocast('cuda', args...)` instead.\n",
      "  with amp.autocast(autocast):\n",
      "/home/prasanna-nage/.cache/torch/hub/ultralytics_yolov5_master/models/common.py:892: FutureWarning: `torch.cuda.amp.autocast(args...)` is deprecated. Please use `torch.amp.autocast('cuda', args...)` instead.\n",
      "  with amp.autocast(autocast):\n"
     ]
    },
    {
     "name": "stdout",
     "output_type": "stream",
     "text": [
      "Saved frame 99.\n",
      "Saved frame 100.\n"
     ]
    },
    {
     "name": "stderr",
     "output_type": "stream",
     "text": [
      "/home/prasanna-nage/.cache/torch/hub/ultralytics_yolov5_master/models/common.py:892: FutureWarning: `torch.cuda.amp.autocast(args...)` is deprecated. Please use `torch.amp.autocast('cuda', args...)` instead.\n",
      "  with amp.autocast(autocast):\n",
      "/home/prasanna-nage/.cache/torch/hub/ultralytics_yolov5_master/models/common.py:892: FutureWarning: `torch.cuda.amp.autocast(args...)` is deprecated. Please use `torch.amp.autocast('cuda', args...)` instead.\n",
      "  with amp.autocast(autocast):\n"
     ]
    },
    {
     "name": "stdout",
     "output_type": "stream",
     "text": [
      "Saved frame 101.\n",
      "Saved frame 102.\n"
     ]
    },
    {
     "name": "stderr",
     "output_type": "stream",
     "text": [
      "/home/prasanna-nage/.cache/torch/hub/ultralytics_yolov5_master/models/common.py:892: FutureWarning: `torch.cuda.amp.autocast(args...)` is deprecated. Please use `torch.amp.autocast('cuda', args...)` instead.\n",
      "  with amp.autocast(autocast):\n",
      "/home/prasanna-nage/.cache/torch/hub/ultralytics_yolov5_master/models/common.py:892: FutureWarning: `torch.cuda.amp.autocast(args...)` is deprecated. Please use `torch.amp.autocast('cuda', args...)` instead.\n",
      "  with amp.autocast(autocast):\n"
     ]
    },
    {
     "name": "stdout",
     "output_type": "stream",
     "text": [
      "Saved frame 103.\n",
      "Saved frame 104.\n"
     ]
    },
    {
     "name": "stderr",
     "output_type": "stream",
     "text": [
      "/home/prasanna-nage/.cache/torch/hub/ultralytics_yolov5_master/models/common.py:892: FutureWarning: `torch.cuda.amp.autocast(args...)` is deprecated. Please use `torch.amp.autocast('cuda', args...)` instead.\n",
      "  with amp.autocast(autocast):\n",
      "/home/prasanna-nage/.cache/torch/hub/ultralytics_yolov5_master/models/common.py:892: FutureWarning: `torch.cuda.amp.autocast(args...)` is deprecated. Please use `torch.amp.autocast('cuda', args...)` instead.\n",
      "  with amp.autocast(autocast):\n"
     ]
    },
    {
     "name": "stdout",
     "output_type": "stream",
     "text": [
      "Saved frame 105.\n",
      "Saved frame 106.\n"
     ]
    },
    {
     "name": "stderr",
     "output_type": "stream",
     "text": [
      "/home/prasanna-nage/.cache/torch/hub/ultralytics_yolov5_master/models/common.py:892: FutureWarning: `torch.cuda.amp.autocast(args...)` is deprecated. Please use `torch.amp.autocast('cuda', args...)` instead.\n",
      "  with amp.autocast(autocast):\n",
      "/home/prasanna-nage/.cache/torch/hub/ultralytics_yolov5_master/models/common.py:892: FutureWarning: `torch.cuda.amp.autocast(args...)` is deprecated. Please use `torch.amp.autocast('cuda', args...)` instead.\n",
      "  with amp.autocast(autocast):\n"
     ]
    },
    {
     "name": "stdout",
     "output_type": "stream",
     "text": [
      "Saved frame 107.\n",
      "Saved frame 108.\n"
     ]
    },
    {
     "name": "stderr",
     "output_type": "stream",
     "text": [
      "/home/prasanna-nage/.cache/torch/hub/ultralytics_yolov5_master/models/common.py:892: FutureWarning: `torch.cuda.amp.autocast(args...)` is deprecated. Please use `torch.amp.autocast('cuda', args...)` instead.\n",
      "  with amp.autocast(autocast):\n",
      "/home/prasanna-nage/.cache/torch/hub/ultralytics_yolov5_master/models/common.py:892: FutureWarning: `torch.cuda.amp.autocast(args...)` is deprecated. Please use `torch.amp.autocast('cuda', args...)` instead.\n",
      "  with amp.autocast(autocast):\n"
     ]
    },
    {
     "name": "stdout",
     "output_type": "stream",
     "text": [
      "Saved frame 109.\n",
      "Saved frame 110.\n"
     ]
    },
    {
     "name": "stderr",
     "output_type": "stream",
     "text": [
      "/home/prasanna-nage/.cache/torch/hub/ultralytics_yolov5_master/models/common.py:892: FutureWarning: `torch.cuda.amp.autocast(args...)` is deprecated. Please use `torch.amp.autocast('cuda', args...)` instead.\n",
      "  with amp.autocast(autocast):\n",
      "/home/prasanna-nage/.cache/torch/hub/ultralytics_yolov5_master/models/common.py:892: FutureWarning: `torch.cuda.amp.autocast(args...)` is deprecated. Please use `torch.amp.autocast('cuda', args...)` instead.\n",
      "  with amp.autocast(autocast):\n",
      "/home/prasanna-nage/.cache/torch/hub/ultralytics_yolov5_master/models/common.py:892: FutureWarning: `torch.cuda.amp.autocast(args...)` is deprecated. Please use `torch.amp.autocast('cuda', args...)` instead.\n",
      "  with amp.autocast(autocast):\n"
     ]
    },
    {
     "name": "stdout",
     "output_type": "stream",
     "text": [
      "Saved frame 111.\n",
      "Saved frame 112.\n",
      "Saved frame 113.\n"
     ]
    },
    {
     "name": "stderr",
     "output_type": "stream",
     "text": [
      "/home/prasanna-nage/.cache/torch/hub/ultralytics_yolov5_master/models/common.py:892: FutureWarning: `torch.cuda.amp.autocast(args...)` is deprecated. Please use `torch.amp.autocast('cuda', args...)` instead.\n",
      "  with amp.autocast(autocast):\n",
      "/home/prasanna-nage/.cache/torch/hub/ultralytics_yolov5_master/models/common.py:892: FutureWarning: `torch.cuda.amp.autocast(args...)` is deprecated. Please use `torch.amp.autocast('cuda', args...)` instead.\n",
      "  with amp.autocast(autocast):\n",
      "/home/prasanna-nage/.cache/torch/hub/ultralytics_yolov5_master/models/common.py:892: FutureWarning: `torch.cuda.amp.autocast(args...)` is deprecated. Please use `torch.amp.autocast('cuda', args...)` instead.\n",
      "  with amp.autocast(autocast):\n"
     ]
    },
    {
     "name": "stdout",
     "output_type": "stream",
     "text": [
      "Saved frame 114.\n",
      "Saved frame 115.\n",
      "Saved frame 116.\n"
     ]
    },
    {
     "name": "stderr",
     "output_type": "stream",
     "text": [
      "/home/prasanna-nage/.cache/torch/hub/ultralytics_yolov5_master/models/common.py:892: FutureWarning: `torch.cuda.amp.autocast(args...)` is deprecated. Please use `torch.amp.autocast('cuda', args...)` instead.\n",
      "  with amp.autocast(autocast):\n",
      "/home/prasanna-nage/.cache/torch/hub/ultralytics_yolov5_master/models/common.py:892: FutureWarning: `torch.cuda.amp.autocast(args...)` is deprecated. Please use `torch.amp.autocast('cuda', args...)` instead.\n",
      "  with amp.autocast(autocast):\n"
     ]
    },
    {
     "name": "stdout",
     "output_type": "stream",
     "text": [
      "Saved frame 117.\n",
      "Saved frame 118.\n"
     ]
    },
    {
     "name": "stderr",
     "output_type": "stream",
     "text": [
      "/home/prasanna-nage/.cache/torch/hub/ultralytics_yolov5_master/models/common.py:892: FutureWarning: `torch.cuda.amp.autocast(args...)` is deprecated. Please use `torch.amp.autocast('cuda', args...)` instead.\n",
      "  with amp.autocast(autocast):\n",
      "/home/prasanna-nage/.cache/torch/hub/ultralytics_yolov5_master/models/common.py:892: FutureWarning: `torch.cuda.amp.autocast(args...)` is deprecated. Please use `torch.amp.autocast('cuda', args...)` instead.\n",
      "  with amp.autocast(autocast):\n"
     ]
    },
    {
     "name": "stdout",
     "output_type": "stream",
     "text": [
      "Saved frame 119.\n",
      "Saved frame 120.\n"
     ]
    },
    {
     "name": "stderr",
     "output_type": "stream",
     "text": [
      "/home/prasanna-nage/.cache/torch/hub/ultralytics_yolov5_master/models/common.py:892: FutureWarning: `torch.cuda.amp.autocast(args...)` is deprecated. Please use `torch.amp.autocast('cuda', args...)` instead.\n",
      "  with amp.autocast(autocast):\n",
      "/home/prasanna-nage/.cache/torch/hub/ultralytics_yolov5_master/models/common.py:892: FutureWarning: `torch.cuda.amp.autocast(args...)` is deprecated. Please use `torch.amp.autocast('cuda', args...)` instead.\n",
      "  with amp.autocast(autocast):\n"
     ]
    },
    {
     "name": "stdout",
     "output_type": "stream",
     "text": [
      "Saved frame 121.\n",
      "Saved frame 122.\n"
     ]
    },
    {
     "name": "stderr",
     "output_type": "stream",
     "text": [
      "/home/prasanna-nage/.cache/torch/hub/ultralytics_yolov5_master/models/common.py:892: FutureWarning: `torch.cuda.amp.autocast(args...)` is deprecated. Please use `torch.amp.autocast('cuda', args...)` instead.\n",
      "  with amp.autocast(autocast):\n",
      "/home/prasanna-nage/.cache/torch/hub/ultralytics_yolov5_master/models/common.py:892: FutureWarning: `torch.cuda.amp.autocast(args...)` is deprecated. Please use `torch.amp.autocast('cuda', args...)` instead.\n",
      "  with amp.autocast(autocast):\n"
     ]
    },
    {
     "name": "stdout",
     "output_type": "stream",
     "text": [
      "Saved frame 123.\n",
      "Saved frame 124.\n"
     ]
    },
    {
     "name": "stderr",
     "output_type": "stream",
     "text": [
      "/home/prasanna-nage/.cache/torch/hub/ultralytics_yolov5_master/models/common.py:892: FutureWarning: `torch.cuda.amp.autocast(args...)` is deprecated. Please use `torch.amp.autocast('cuda', args...)` instead.\n",
      "  with amp.autocast(autocast):\n",
      "/home/prasanna-nage/.cache/torch/hub/ultralytics_yolov5_master/models/common.py:892: FutureWarning: `torch.cuda.amp.autocast(args...)` is deprecated. Please use `torch.amp.autocast('cuda', args...)` instead.\n",
      "  with amp.autocast(autocast):\n"
     ]
    },
    {
     "name": "stdout",
     "output_type": "stream",
     "text": [
      "Saved frame 125.\n",
      "Saved frame 126.\n"
     ]
    },
    {
     "name": "stderr",
     "output_type": "stream",
     "text": [
      "/home/prasanna-nage/.cache/torch/hub/ultralytics_yolov5_master/models/common.py:892: FutureWarning: `torch.cuda.amp.autocast(args...)` is deprecated. Please use `torch.amp.autocast('cuda', args...)` instead.\n",
      "  with amp.autocast(autocast):\n",
      "/home/prasanna-nage/.cache/torch/hub/ultralytics_yolov5_master/models/common.py:892: FutureWarning: `torch.cuda.amp.autocast(args...)` is deprecated. Please use `torch.amp.autocast('cuda', args...)` instead.\n",
      "  with amp.autocast(autocast):\n"
     ]
    },
    {
     "name": "stdout",
     "output_type": "stream",
     "text": [
      "Saved frame 127.\n",
      "Saved frame 128.\n"
     ]
    },
    {
     "name": "stderr",
     "output_type": "stream",
     "text": [
      "/home/prasanna-nage/.cache/torch/hub/ultralytics_yolov5_master/models/common.py:892: FutureWarning: `torch.cuda.amp.autocast(args...)` is deprecated. Please use `torch.amp.autocast('cuda', args...)` instead.\n",
      "  with amp.autocast(autocast):\n",
      "/home/prasanna-nage/.cache/torch/hub/ultralytics_yolov5_master/models/common.py:892: FutureWarning: `torch.cuda.amp.autocast(args...)` is deprecated. Please use `torch.amp.autocast('cuda', args...)` instead.\n",
      "  with amp.autocast(autocast):\n"
     ]
    },
    {
     "name": "stdout",
     "output_type": "stream",
     "text": [
      "Saved frame 129.\n",
      "Saved frame 130.\n"
     ]
    },
    {
     "name": "stderr",
     "output_type": "stream",
     "text": [
      "/home/prasanna-nage/.cache/torch/hub/ultralytics_yolov5_master/models/common.py:892: FutureWarning: `torch.cuda.amp.autocast(args...)` is deprecated. Please use `torch.amp.autocast('cuda', args...)` instead.\n",
      "  with amp.autocast(autocast):\n",
      "/home/prasanna-nage/.cache/torch/hub/ultralytics_yolov5_master/models/common.py:892: FutureWarning: `torch.cuda.amp.autocast(args...)` is deprecated. Please use `torch.amp.autocast('cuda', args...)` instead.\n",
      "  with amp.autocast(autocast):\n"
     ]
    },
    {
     "name": "stdout",
     "output_type": "stream",
     "text": [
      "Saved frame 131.\n",
      "Saved frame 132.\n"
     ]
    },
    {
     "name": "stderr",
     "output_type": "stream",
     "text": [
      "/home/prasanna-nage/.cache/torch/hub/ultralytics_yolov5_master/models/common.py:892: FutureWarning: `torch.cuda.amp.autocast(args...)` is deprecated. Please use `torch.amp.autocast('cuda', args...)` instead.\n",
      "  with amp.autocast(autocast):\n",
      "/home/prasanna-nage/.cache/torch/hub/ultralytics_yolov5_master/models/common.py:892: FutureWarning: `torch.cuda.amp.autocast(args...)` is deprecated. Please use `torch.amp.autocast('cuda', args...)` instead.\n",
      "  with amp.autocast(autocast):\n"
     ]
    },
    {
     "name": "stdout",
     "output_type": "stream",
     "text": [
      "Saved frame 133.\n",
      "Saved frame 134.\n"
     ]
    },
    {
     "name": "stderr",
     "output_type": "stream",
     "text": [
      "/home/prasanna-nage/.cache/torch/hub/ultralytics_yolov5_master/models/common.py:892: FutureWarning: `torch.cuda.amp.autocast(args...)` is deprecated. Please use `torch.amp.autocast('cuda', args...)` instead.\n",
      "  with amp.autocast(autocast):\n",
      "/home/prasanna-nage/.cache/torch/hub/ultralytics_yolov5_master/models/common.py:892: FutureWarning: `torch.cuda.amp.autocast(args...)` is deprecated. Please use `torch.amp.autocast('cuda', args...)` instead.\n",
      "  with amp.autocast(autocast):\n"
     ]
    },
    {
     "name": "stdout",
     "output_type": "stream",
     "text": [
      "Saved frame 135.\n",
      "Saved frame 136.\n"
     ]
    },
    {
     "name": "stderr",
     "output_type": "stream",
     "text": [
      "/home/prasanna-nage/.cache/torch/hub/ultralytics_yolov5_master/models/common.py:892: FutureWarning: `torch.cuda.amp.autocast(args...)` is deprecated. Please use `torch.amp.autocast('cuda', args...)` instead.\n",
      "  with amp.autocast(autocast):\n",
      "/home/prasanna-nage/.cache/torch/hub/ultralytics_yolov5_master/models/common.py:892: FutureWarning: `torch.cuda.amp.autocast(args...)` is deprecated. Please use `torch.amp.autocast('cuda', args...)` instead.\n",
      "  with amp.autocast(autocast):\n"
     ]
    },
    {
     "name": "stdout",
     "output_type": "stream",
     "text": [
      "Saved frame 137.\n",
      "Saved frame 138.\n"
     ]
    },
    {
     "name": "stderr",
     "output_type": "stream",
     "text": [
      "/home/prasanna-nage/.cache/torch/hub/ultralytics_yolov5_master/models/common.py:892: FutureWarning: `torch.cuda.amp.autocast(args...)` is deprecated. Please use `torch.amp.autocast('cuda', args...)` instead.\n",
      "  with amp.autocast(autocast):\n",
      "/home/prasanna-nage/.cache/torch/hub/ultralytics_yolov5_master/models/common.py:892: FutureWarning: `torch.cuda.amp.autocast(args...)` is deprecated. Please use `torch.amp.autocast('cuda', args...)` instead.\n",
      "  with amp.autocast(autocast):\n"
     ]
    },
    {
     "name": "stdout",
     "output_type": "stream",
     "text": [
      "Saved frame 139.\n",
      "Saved frame 140.\n"
     ]
    },
    {
     "name": "stderr",
     "output_type": "stream",
     "text": [
      "/home/prasanna-nage/.cache/torch/hub/ultralytics_yolov5_master/models/common.py:892: FutureWarning: `torch.cuda.amp.autocast(args...)` is deprecated. Please use `torch.amp.autocast('cuda', args...)` instead.\n",
      "  with amp.autocast(autocast):\n",
      "/home/prasanna-nage/.cache/torch/hub/ultralytics_yolov5_master/models/common.py:892: FutureWarning: `torch.cuda.amp.autocast(args...)` is deprecated. Please use `torch.amp.autocast('cuda', args...)` instead.\n",
      "  with amp.autocast(autocast):\n"
     ]
    },
    {
     "name": "stdout",
     "output_type": "stream",
     "text": [
      "Saved frame 141.\n",
      "Saved frame 142.\n"
     ]
    },
    {
     "name": "stderr",
     "output_type": "stream",
     "text": [
      "/home/prasanna-nage/.cache/torch/hub/ultralytics_yolov5_master/models/common.py:892: FutureWarning: `torch.cuda.amp.autocast(args...)` is deprecated. Please use `torch.amp.autocast('cuda', args...)` instead.\n",
      "  with amp.autocast(autocast):\n",
      "/home/prasanna-nage/.cache/torch/hub/ultralytics_yolov5_master/models/common.py:892: FutureWarning: `torch.cuda.amp.autocast(args...)` is deprecated. Please use `torch.amp.autocast('cuda', args...)` instead.\n",
      "  with amp.autocast(autocast):\n"
     ]
    },
    {
     "name": "stdout",
     "output_type": "stream",
     "text": [
      "Saved frame 143.\n",
      "Saved frame 144.\n"
     ]
    },
    {
     "name": "stderr",
     "output_type": "stream",
     "text": [
      "/home/prasanna-nage/.cache/torch/hub/ultralytics_yolov5_master/models/common.py:892: FutureWarning: `torch.cuda.amp.autocast(args...)` is deprecated. Please use `torch.amp.autocast('cuda', args...)` instead.\n",
      "  with amp.autocast(autocast):\n",
      "/home/prasanna-nage/.cache/torch/hub/ultralytics_yolov5_master/models/common.py:892: FutureWarning: `torch.cuda.amp.autocast(args...)` is deprecated. Please use `torch.amp.autocast('cuda', args...)` instead.\n",
      "  with amp.autocast(autocast):\n"
     ]
    },
    {
     "name": "stdout",
     "output_type": "stream",
     "text": [
      "Saved frame 145.\n",
      "Saved frame 146.\n"
     ]
    },
    {
     "name": "stderr",
     "output_type": "stream",
     "text": [
      "/home/prasanna-nage/.cache/torch/hub/ultralytics_yolov5_master/models/common.py:892: FutureWarning: `torch.cuda.amp.autocast(args...)` is deprecated. Please use `torch.amp.autocast('cuda', args...)` instead.\n",
      "  with amp.autocast(autocast):\n",
      "/home/prasanna-nage/.cache/torch/hub/ultralytics_yolov5_master/models/common.py:892: FutureWarning: `torch.cuda.amp.autocast(args...)` is deprecated. Please use `torch.amp.autocast('cuda', args...)` instead.\n",
      "  with amp.autocast(autocast):\n"
     ]
    },
    {
     "name": "stdout",
     "output_type": "stream",
     "text": [
      "Saved frame 147.\n",
      "Saved frame 148.\n"
     ]
    },
    {
     "name": "stderr",
     "output_type": "stream",
     "text": [
      "/home/prasanna-nage/.cache/torch/hub/ultralytics_yolov5_master/models/common.py:892: FutureWarning: `torch.cuda.amp.autocast(args...)` is deprecated. Please use `torch.amp.autocast('cuda', args...)` instead.\n",
      "  with amp.autocast(autocast):\n",
      "/home/prasanna-nage/.cache/torch/hub/ultralytics_yolov5_master/models/common.py:892: FutureWarning: `torch.cuda.amp.autocast(args...)` is deprecated. Please use `torch.amp.autocast('cuda', args...)` instead.\n",
      "  with amp.autocast(autocast):\n"
     ]
    },
    {
     "name": "stdout",
     "output_type": "stream",
     "text": [
      "Saved frame 149.\n",
      "Saved frame 150.\n"
     ]
    },
    {
     "name": "stderr",
     "output_type": "stream",
     "text": [
      "/home/prasanna-nage/.cache/torch/hub/ultralytics_yolov5_master/models/common.py:892: FutureWarning: `torch.cuda.amp.autocast(args...)` is deprecated. Please use `torch.amp.autocast('cuda', args...)` instead.\n",
      "  with amp.autocast(autocast):\n",
      "/home/prasanna-nage/.cache/torch/hub/ultralytics_yolov5_master/models/common.py:892: FutureWarning: `torch.cuda.amp.autocast(args...)` is deprecated. Please use `torch.amp.autocast('cuda', args...)` instead.\n",
      "  with amp.autocast(autocast):\n"
     ]
    },
    {
     "name": "stdout",
     "output_type": "stream",
     "text": [
      "Saved frame 151.\n",
      "Saved frame 152.\n"
     ]
    },
    {
     "name": "stderr",
     "output_type": "stream",
     "text": [
      "/home/prasanna-nage/.cache/torch/hub/ultralytics_yolov5_master/models/common.py:892: FutureWarning: `torch.cuda.amp.autocast(args...)` is deprecated. Please use `torch.amp.autocast('cuda', args...)` instead.\n",
      "  with amp.autocast(autocast):\n",
      "/home/prasanna-nage/.cache/torch/hub/ultralytics_yolov5_master/models/common.py:892: FutureWarning: `torch.cuda.amp.autocast(args...)` is deprecated. Please use `torch.amp.autocast('cuda', args...)` instead.\n",
      "  with amp.autocast(autocast):\n"
     ]
    },
    {
     "name": "stdout",
     "output_type": "stream",
     "text": [
      "Saved frame 153.\n",
      "Saved frame 154.\n"
     ]
    },
    {
     "name": "stderr",
     "output_type": "stream",
     "text": [
      "/home/prasanna-nage/.cache/torch/hub/ultralytics_yolov5_master/models/common.py:892: FutureWarning: `torch.cuda.amp.autocast(args...)` is deprecated. Please use `torch.amp.autocast('cuda', args...)` instead.\n",
      "  with amp.autocast(autocast):\n",
      "/home/prasanna-nage/.cache/torch/hub/ultralytics_yolov5_master/models/common.py:892: FutureWarning: `torch.cuda.amp.autocast(args...)` is deprecated. Please use `torch.amp.autocast('cuda', args...)` instead.\n",
      "  with amp.autocast(autocast):\n"
     ]
    },
    {
     "name": "stdout",
     "output_type": "stream",
     "text": [
      "Saved frame 155.\n",
      "Saved frame 156.\n"
     ]
    },
    {
     "name": "stderr",
     "output_type": "stream",
     "text": [
      "/home/prasanna-nage/.cache/torch/hub/ultralytics_yolov5_master/models/common.py:892: FutureWarning: `torch.cuda.amp.autocast(args...)` is deprecated. Please use `torch.amp.autocast('cuda', args...)` instead.\n",
      "  with amp.autocast(autocast):\n",
      "/home/prasanna-nage/.cache/torch/hub/ultralytics_yolov5_master/models/common.py:892: FutureWarning: `torch.cuda.amp.autocast(args...)` is deprecated. Please use `torch.amp.autocast('cuda', args...)` instead.\n",
      "  with amp.autocast(autocast):\n"
     ]
    },
    {
     "name": "stdout",
     "output_type": "stream",
     "text": [
      "Saved frame 157.\n",
      "Saved frame 158.\n"
     ]
    },
    {
     "name": "stderr",
     "output_type": "stream",
     "text": [
      "/home/prasanna-nage/.cache/torch/hub/ultralytics_yolov5_master/models/common.py:892: FutureWarning: `torch.cuda.amp.autocast(args...)` is deprecated. Please use `torch.amp.autocast('cuda', args...)` instead.\n",
      "  with amp.autocast(autocast):\n",
      "/home/prasanna-nage/.cache/torch/hub/ultralytics_yolov5_master/models/common.py:892: FutureWarning: `torch.cuda.amp.autocast(args...)` is deprecated. Please use `torch.amp.autocast('cuda', args...)` instead.\n",
      "  with amp.autocast(autocast):\n"
     ]
    },
    {
     "name": "stdout",
     "output_type": "stream",
     "text": [
      "Saved frame 159.\n",
      "Saved frame 160.\n"
     ]
    },
    {
     "name": "stderr",
     "output_type": "stream",
     "text": [
      "/home/prasanna-nage/.cache/torch/hub/ultralytics_yolov5_master/models/common.py:892: FutureWarning: `torch.cuda.amp.autocast(args...)` is deprecated. Please use `torch.amp.autocast('cuda', args...)` instead.\n",
      "  with amp.autocast(autocast):\n",
      "/home/prasanna-nage/.cache/torch/hub/ultralytics_yolov5_master/models/common.py:892: FutureWarning: `torch.cuda.amp.autocast(args...)` is deprecated. Please use `torch.amp.autocast('cuda', args...)` instead.\n",
      "  with amp.autocast(autocast):\n",
      "/home/prasanna-nage/.cache/torch/hub/ultralytics_yolov5_master/models/common.py:892: FutureWarning: `torch.cuda.amp.autocast(args...)` is deprecated. Please use `torch.amp.autocast('cuda', args...)` instead.\n",
      "  with amp.autocast(autocast):\n"
     ]
    },
    {
     "name": "stdout",
     "output_type": "stream",
     "text": [
      "Saved frame 161.\n",
      "Saved frame 162.\n",
      "Saved frame 163.\n",
      "Saved frame 164.\n"
     ]
    },
    {
     "name": "stderr",
     "output_type": "stream",
     "text": [
      "/home/prasanna-nage/.cache/torch/hub/ultralytics_yolov5_master/models/common.py:892: FutureWarning: `torch.cuda.amp.autocast(args...)` is deprecated. Please use `torch.amp.autocast('cuda', args...)` instead.\n",
      "  with amp.autocast(autocast):\n",
      "/home/prasanna-nage/.cache/torch/hub/ultralytics_yolov5_master/models/common.py:892: FutureWarning: `torch.cuda.amp.autocast(args...)` is deprecated. Please use `torch.amp.autocast('cuda', args...)` instead.\n",
      "  with amp.autocast(autocast):\n"
     ]
    },
    {
     "name": "stdout",
     "output_type": "stream",
     "text": [
      "Saved frame 165.\n",
      "Saved frame 166.\n"
     ]
    },
    {
     "name": "stderr",
     "output_type": "stream",
     "text": [
      "/home/prasanna-nage/.cache/torch/hub/ultralytics_yolov5_master/models/common.py:892: FutureWarning: `torch.cuda.amp.autocast(args...)` is deprecated. Please use `torch.amp.autocast('cuda', args...)` instead.\n",
      "  with amp.autocast(autocast):\n",
      "/home/prasanna-nage/.cache/torch/hub/ultralytics_yolov5_master/models/common.py:892: FutureWarning: `torch.cuda.amp.autocast(args...)` is deprecated. Please use `torch.amp.autocast('cuda', args...)` instead.\n",
      "  with amp.autocast(autocast):\n"
     ]
    },
    {
     "name": "stdout",
     "output_type": "stream",
     "text": [
      "Saved frame 167.\n",
      "Saved frame 168.\n"
     ]
    },
    {
     "name": "stderr",
     "output_type": "stream",
     "text": [
      "/home/prasanna-nage/.cache/torch/hub/ultralytics_yolov5_master/models/common.py:892: FutureWarning: `torch.cuda.amp.autocast(args...)` is deprecated. Please use `torch.amp.autocast('cuda', args...)` instead.\n",
      "  with amp.autocast(autocast):\n",
      "/home/prasanna-nage/.cache/torch/hub/ultralytics_yolov5_master/models/common.py:892: FutureWarning: `torch.cuda.amp.autocast(args...)` is deprecated. Please use `torch.amp.autocast('cuda', args...)` instead.\n",
      "  with amp.autocast(autocast):\n"
     ]
    },
    {
     "name": "stdout",
     "output_type": "stream",
     "text": [
      "Saved frame 169.\n",
      "Saved frame 170.\n"
     ]
    },
    {
     "name": "stderr",
     "output_type": "stream",
     "text": [
      "/home/prasanna-nage/.cache/torch/hub/ultralytics_yolov5_master/models/common.py:892: FutureWarning: `torch.cuda.amp.autocast(args...)` is deprecated. Please use `torch.amp.autocast('cuda', args...)` instead.\n",
      "  with amp.autocast(autocast):\n",
      "/home/prasanna-nage/.cache/torch/hub/ultralytics_yolov5_master/models/common.py:892: FutureWarning: `torch.cuda.amp.autocast(args...)` is deprecated. Please use `torch.amp.autocast('cuda', args...)` instead.\n",
      "  with amp.autocast(autocast):\n"
     ]
    },
    {
     "name": "stdout",
     "output_type": "stream",
     "text": [
      "Saved frame 171.\n",
      "Saved frame 172.\n"
     ]
    },
    {
     "name": "stderr",
     "output_type": "stream",
     "text": [
      "/home/prasanna-nage/.cache/torch/hub/ultralytics_yolov5_master/models/common.py:892: FutureWarning: `torch.cuda.amp.autocast(args...)` is deprecated. Please use `torch.amp.autocast('cuda', args...)` instead.\n",
      "  with amp.autocast(autocast):\n",
      "/home/prasanna-nage/.cache/torch/hub/ultralytics_yolov5_master/models/common.py:892: FutureWarning: `torch.cuda.amp.autocast(args...)` is deprecated. Please use `torch.amp.autocast('cuda', args...)` instead.\n",
      "  with amp.autocast(autocast):\n"
     ]
    },
    {
     "name": "stdout",
     "output_type": "stream",
     "text": [
      "Saved frame 173.\n",
      "Saved frame 174.\n"
     ]
    },
    {
     "name": "stderr",
     "output_type": "stream",
     "text": [
      "/home/prasanna-nage/.cache/torch/hub/ultralytics_yolov5_master/models/common.py:892: FutureWarning: `torch.cuda.amp.autocast(args...)` is deprecated. Please use `torch.amp.autocast('cuda', args...)` instead.\n",
      "  with amp.autocast(autocast):\n",
      "/home/prasanna-nage/.cache/torch/hub/ultralytics_yolov5_master/models/common.py:892: FutureWarning: `torch.cuda.amp.autocast(args...)` is deprecated. Please use `torch.amp.autocast('cuda', args...)` instead.\n",
      "  with amp.autocast(autocast):\n"
     ]
    },
    {
     "name": "stdout",
     "output_type": "stream",
     "text": [
      "Saved frame 175.\n",
      "Saved frame 176.\n"
     ]
    },
    {
     "name": "stderr",
     "output_type": "stream",
     "text": [
      "/home/prasanna-nage/.cache/torch/hub/ultralytics_yolov5_master/models/common.py:892: FutureWarning: `torch.cuda.amp.autocast(args...)` is deprecated. Please use `torch.amp.autocast('cuda', args...)` instead.\n",
      "  with amp.autocast(autocast):\n",
      "/home/prasanna-nage/.cache/torch/hub/ultralytics_yolov5_master/models/common.py:892: FutureWarning: `torch.cuda.amp.autocast(args...)` is deprecated. Please use `torch.amp.autocast('cuda', args...)` instead.\n",
      "  with amp.autocast(autocast):\n"
     ]
    },
    {
     "name": "stdout",
     "output_type": "stream",
     "text": [
      "Saved frame 177.\n",
      "Saved frame 178.\n"
     ]
    },
    {
     "name": "stderr",
     "output_type": "stream",
     "text": [
      "/home/prasanna-nage/.cache/torch/hub/ultralytics_yolov5_master/models/common.py:892: FutureWarning: `torch.cuda.amp.autocast(args...)` is deprecated. Please use `torch.amp.autocast('cuda', args...)` instead.\n",
      "  with amp.autocast(autocast):\n",
      "/home/prasanna-nage/.cache/torch/hub/ultralytics_yolov5_master/models/common.py:892: FutureWarning: `torch.cuda.amp.autocast(args...)` is deprecated. Please use `torch.amp.autocast('cuda', args...)` instead.\n",
      "  with amp.autocast(autocast):\n"
     ]
    },
    {
     "name": "stdout",
     "output_type": "stream",
     "text": [
      "Saved frame 179.\n",
      "Saved frame 180.\n"
     ]
    },
    {
     "name": "stderr",
     "output_type": "stream",
     "text": [
      "/home/prasanna-nage/.cache/torch/hub/ultralytics_yolov5_master/models/common.py:892: FutureWarning: `torch.cuda.amp.autocast(args...)` is deprecated. Please use `torch.amp.autocast('cuda', args...)` instead.\n",
      "  with amp.autocast(autocast):\n",
      "/home/prasanna-nage/.cache/torch/hub/ultralytics_yolov5_master/models/common.py:892: FutureWarning: `torch.cuda.amp.autocast(args...)` is deprecated. Please use `torch.amp.autocast('cuda', args...)` instead.\n",
      "  with amp.autocast(autocast):\n"
     ]
    },
    {
     "name": "stdout",
     "output_type": "stream",
     "text": [
      "Saved frame 181.\n",
      "Saved frame 182.\n"
     ]
    },
    {
     "name": "stderr",
     "output_type": "stream",
     "text": [
      "/home/prasanna-nage/.cache/torch/hub/ultralytics_yolov5_master/models/common.py:892: FutureWarning: `torch.cuda.amp.autocast(args...)` is deprecated. Please use `torch.amp.autocast('cuda', args...)` instead.\n",
      "  with amp.autocast(autocast):\n",
      "/home/prasanna-nage/.cache/torch/hub/ultralytics_yolov5_master/models/common.py:892: FutureWarning: `torch.cuda.amp.autocast(args...)` is deprecated. Please use `torch.amp.autocast('cuda', args...)` instead.\n",
      "  with amp.autocast(autocast):\n"
     ]
    },
    {
     "name": "stdout",
     "output_type": "stream",
     "text": [
      "Saved frame 183.\n",
      "Saved frame 184.\n"
     ]
    },
    {
     "name": "stderr",
     "output_type": "stream",
     "text": [
      "/home/prasanna-nage/.cache/torch/hub/ultralytics_yolov5_master/models/common.py:892: FutureWarning: `torch.cuda.amp.autocast(args...)` is deprecated. Please use `torch.amp.autocast('cuda', args...)` instead.\n",
      "  with amp.autocast(autocast):\n",
      "/home/prasanna-nage/.cache/torch/hub/ultralytics_yolov5_master/models/common.py:892: FutureWarning: `torch.cuda.amp.autocast(args...)` is deprecated. Please use `torch.amp.autocast('cuda', args...)` instead.\n",
      "  with amp.autocast(autocast):\n"
     ]
    },
    {
     "name": "stdout",
     "output_type": "stream",
     "text": [
      "Saved frame 185.\n",
      "Saved frame 186.\n"
     ]
    },
    {
     "name": "stderr",
     "output_type": "stream",
     "text": [
      "/home/prasanna-nage/.cache/torch/hub/ultralytics_yolov5_master/models/common.py:892: FutureWarning: `torch.cuda.amp.autocast(args...)` is deprecated. Please use `torch.amp.autocast('cuda', args...)` instead.\n",
      "  with amp.autocast(autocast):\n",
      "/home/prasanna-nage/.cache/torch/hub/ultralytics_yolov5_master/models/common.py:892: FutureWarning: `torch.cuda.amp.autocast(args...)` is deprecated. Please use `torch.amp.autocast('cuda', args...)` instead.\n",
      "  with amp.autocast(autocast):\n"
     ]
    },
    {
     "name": "stdout",
     "output_type": "stream",
     "text": [
      "Saved frame 187.\n",
      "Saved frame 188.\n"
     ]
    },
    {
     "name": "stderr",
     "output_type": "stream",
     "text": [
      "/home/prasanna-nage/.cache/torch/hub/ultralytics_yolov5_master/models/common.py:892: FutureWarning: `torch.cuda.amp.autocast(args...)` is deprecated. Please use `torch.amp.autocast('cuda', args...)` instead.\n",
      "  with amp.autocast(autocast):\n",
      "/home/prasanna-nage/.cache/torch/hub/ultralytics_yolov5_master/models/common.py:892: FutureWarning: `torch.cuda.amp.autocast(args...)` is deprecated. Please use `torch.amp.autocast('cuda', args...)` instead.\n",
      "  with amp.autocast(autocast):\n"
     ]
    },
    {
     "name": "stdout",
     "output_type": "stream",
     "text": [
      "Saved frame 189.\n",
      "Saved frame 190.\n"
     ]
    },
    {
     "name": "stderr",
     "output_type": "stream",
     "text": [
      "/home/prasanna-nage/.cache/torch/hub/ultralytics_yolov5_master/models/common.py:892: FutureWarning: `torch.cuda.amp.autocast(args...)` is deprecated. Please use `torch.amp.autocast('cuda', args...)` instead.\n",
      "  with amp.autocast(autocast):\n",
      "/home/prasanna-nage/.cache/torch/hub/ultralytics_yolov5_master/models/common.py:892: FutureWarning: `torch.cuda.amp.autocast(args...)` is deprecated. Please use `torch.amp.autocast('cuda', args...)` instead.\n",
      "  with amp.autocast(autocast):\n"
     ]
    },
    {
     "name": "stdout",
     "output_type": "stream",
     "text": [
      "Saved frame 191.\n",
      "Saved frame 192.\n"
     ]
    },
    {
     "name": "stderr",
     "output_type": "stream",
     "text": [
      "/home/prasanna-nage/.cache/torch/hub/ultralytics_yolov5_master/models/common.py:892: FutureWarning: `torch.cuda.amp.autocast(args...)` is deprecated. Please use `torch.amp.autocast('cuda', args...)` instead.\n",
      "  with amp.autocast(autocast):\n",
      "/home/prasanna-nage/.cache/torch/hub/ultralytics_yolov5_master/models/common.py:892: FutureWarning: `torch.cuda.amp.autocast(args...)` is deprecated. Please use `torch.amp.autocast('cuda', args...)` instead.\n",
      "  with amp.autocast(autocast):\n"
     ]
    },
    {
     "name": "stdout",
     "output_type": "stream",
     "text": [
      "Saved frame 193.\n",
      "Saved frame 194.\n"
     ]
    },
    {
     "name": "stderr",
     "output_type": "stream",
     "text": [
      "/home/prasanna-nage/.cache/torch/hub/ultralytics_yolov5_master/models/common.py:892: FutureWarning: `torch.cuda.amp.autocast(args...)` is deprecated. Please use `torch.amp.autocast('cuda', args...)` instead.\n",
      "  with amp.autocast(autocast):\n",
      "/home/prasanna-nage/.cache/torch/hub/ultralytics_yolov5_master/models/common.py:892: FutureWarning: `torch.cuda.amp.autocast(args...)` is deprecated. Please use `torch.amp.autocast('cuda', args...)` instead.\n",
      "  with amp.autocast(autocast):\n"
     ]
    },
    {
     "name": "stdout",
     "output_type": "stream",
     "text": [
      "Saved frame 195.\n",
      "Saved frame 196.\n"
     ]
    },
    {
     "name": "stderr",
     "output_type": "stream",
     "text": [
      "/home/prasanna-nage/.cache/torch/hub/ultralytics_yolov5_master/models/common.py:892: FutureWarning: `torch.cuda.amp.autocast(args...)` is deprecated. Please use `torch.amp.autocast('cuda', args...)` instead.\n",
      "  with amp.autocast(autocast):\n",
      "/home/prasanna-nage/.cache/torch/hub/ultralytics_yolov5_master/models/common.py:892: FutureWarning: `torch.cuda.amp.autocast(args...)` is deprecated. Please use `torch.amp.autocast('cuda', args...)` instead.\n",
      "  with amp.autocast(autocast):\n"
     ]
    },
    {
     "name": "stdout",
     "output_type": "stream",
     "text": [
      "Saved frame 197.\n",
      "Saved frame 198.\n"
     ]
    },
    {
     "name": "stderr",
     "output_type": "stream",
     "text": [
      "/home/prasanna-nage/.cache/torch/hub/ultralytics_yolov5_master/models/common.py:892: FutureWarning: `torch.cuda.amp.autocast(args...)` is deprecated. Please use `torch.amp.autocast('cuda', args...)` instead.\n",
      "  with amp.autocast(autocast):\n",
      "/home/prasanna-nage/.cache/torch/hub/ultralytics_yolov5_master/models/common.py:892: FutureWarning: `torch.cuda.amp.autocast(args...)` is deprecated. Please use `torch.amp.autocast('cuda', args...)` instead.\n",
      "  with amp.autocast(autocast):\n"
     ]
    },
    {
     "name": "stdout",
     "output_type": "stream",
     "text": [
      "Saved frame 199.\n",
      "Saved frame 200.\n"
     ]
    },
    {
     "name": "stderr",
     "output_type": "stream",
     "text": [
      "/home/prasanna-nage/.cache/torch/hub/ultralytics_yolov5_master/models/common.py:892: FutureWarning: `torch.cuda.amp.autocast(args...)` is deprecated. Please use `torch.amp.autocast('cuda', args...)` instead.\n",
      "  with amp.autocast(autocast):\n",
      "/home/prasanna-nage/.cache/torch/hub/ultralytics_yolov5_master/models/common.py:892: FutureWarning: `torch.cuda.amp.autocast(args...)` is deprecated. Please use `torch.amp.autocast('cuda', args...)` instead.\n",
      "  with amp.autocast(autocast):\n"
     ]
    },
    {
     "name": "stdout",
     "output_type": "stream",
     "text": [
      "Saved frame 201.\n",
      "Saved frame 202.\n"
     ]
    },
    {
     "name": "stderr",
     "output_type": "stream",
     "text": [
      "/home/prasanna-nage/.cache/torch/hub/ultralytics_yolov5_master/models/common.py:892: FutureWarning: `torch.cuda.amp.autocast(args...)` is deprecated. Please use `torch.amp.autocast('cuda', args...)` instead.\n",
      "  with amp.autocast(autocast):\n",
      "/home/prasanna-nage/.cache/torch/hub/ultralytics_yolov5_master/models/common.py:892: FutureWarning: `torch.cuda.amp.autocast(args...)` is deprecated. Please use `torch.amp.autocast('cuda', args...)` instead.\n",
      "  with amp.autocast(autocast):\n"
     ]
    },
    {
     "name": "stdout",
     "output_type": "stream",
     "text": [
      "Saved frame 203.\n",
      "Saved frame 204.\n"
     ]
    },
    {
     "name": "stderr",
     "output_type": "stream",
     "text": [
      "/home/prasanna-nage/.cache/torch/hub/ultralytics_yolov5_master/models/common.py:892: FutureWarning: `torch.cuda.amp.autocast(args...)` is deprecated. Please use `torch.amp.autocast('cuda', args...)` instead.\n",
      "  with amp.autocast(autocast):\n",
      "/home/prasanna-nage/.cache/torch/hub/ultralytics_yolov5_master/models/common.py:892: FutureWarning: `torch.cuda.amp.autocast(args...)` is deprecated. Please use `torch.amp.autocast('cuda', args...)` instead.\n",
      "  with amp.autocast(autocast):\n"
     ]
    },
    {
     "name": "stdout",
     "output_type": "stream",
     "text": [
      "Saved frame 205.\n",
      "Saved frame 206.\n"
     ]
    },
    {
     "name": "stderr",
     "output_type": "stream",
     "text": [
      "/home/prasanna-nage/.cache/torch/hub/ultralytics_yolov5_master/models/common.py:892: FutureWarning: `torch.cuda.amp.autocast(args...)` is deprecated. Please use `torch.amp.autocast('cuda', args...)` instead.\n",
      "  with amp.autocast(autocast):\n",
      "/home/prasanna-nage/.cache/torch/hub/ultralytics_yolov5_master/models/common.py:892: FutureWarning: `torch.cuda.amp.autocast(args...)` is deprecated. Please use `torch.amp.autocast('cuda', args...)` instead.\n",
      "  with amp.autocast(autocast):\n"
     ]
    },
    {
     "name": "stdout",
     "output_type": "stream",
     "text": [
      "Saved frame 207.\n",
      "Saved frame 208.\n"
     ]
    },
    {
     "name": "stderr",
     "output_type": "stream",
     "text": [
      "/home/prasanna-nage/.cache/torch/hub/ultralytics_yolov5_master/models/common.py:892: FutureWarning: `torch.cuda.amp.autocast(args...)` is deprecated. Please use `torch.amp.autocast('cuda', args...)` instead.\n",
      "  with amp.autocast(autocast):\n",
      "/home/prasanna-nage/.cache/torch/hub/ultralytics_yolov5_master/models/common.py:892: FutureWarning: `torch.cuda.amp.autocast(args...)` is deprecated. Please use `torch.amp.autocast('cuda', args...)` instead.\n",
      "  with amp.autocast(autocast):\n"
     ]
    },
    {
     "name": "stdout",
     "output_type": "stream",
     "text": [
      "Saved frame 209.\n",
      "Saved frame 210.\n"
     ]
    },
    {
     "name": "stderr",
     "output_type": "stream",
     "text": [
      "/home/prasanna-nage/.cache/torch/hub/ultralytics_yolov5_master/models/common.py:892: FutureWarning: `torch.cuda.amp.autocast(args...)` is deprecated. Please use `torch.amp.autocast('cuda', args...)` instead.\n",
      "  with amp.autocast(autocast):\n",
      "/home/prasanna-nage/.cache/torch/hub/ultralytics_yolov5_master/models/common.py:892: FutureWarning: `torch.cuda.amp.autocast(args...)` is deprecated. Please use `torch.amp.autocast('cuda', args...)` instead.\n",
      "  with amp.autocast(autocast):\n"
     ]
    },
    {
     "name": "stdout",
     "output_type": "stream",
     "text": [
      "Saved frame 211.\n",
      "Saved frame 212.\n"
     ]
    },
    {
     "name": "stderr",
     "output_type": "stream",
     "text": [
      "/home/prasanna-nage/.cache/torch/hub/ultralytics_yolov5_master/models/common.py:892: FutureWarning: `torch.cuda.amp.autocast(args...)` is deprecated. Please use `torch.amp.autocast('cuda', args...)` instead.\n",
      "  with amp.autocast(autocast):\n",
      "/home/prasanna-nage/.cache/torch/hub/ultralytics_yolov5_master/models/common.py:892: FutureWarning: `torch.cuda.amp.autocast(args...)` is deprecated. Please use `torch.amp.autocast('cuda', args...)` instead.\n",
      "  with amp.autocast(autocast):\n"
     ]
    },
    {
     "name": "stdout",
     "output_type": "stream",
     "text": [
      "Saved frame 213.\n",
      "Saved frame 214.\n"
     ]
    },
    {
     "name": "stderr",
     "output_type": "stream",
     "text": [
      "/home/prasanna-nage/.cache/torch/hub/ultralytics_yolov5_master/models/common.py:892: FutureWarning: `torch.cuda.amp.autocast(args...)` is deprecated. Please use `torch.amp.autocast('cuda', args...)` instead.\n",
      "  with amp.autocast(autocast):\n",
      "/home/prasanna-nage/.cache/torch/hub/ultralytics_yolov5_master/models/common.py:892: FutureWarning: `torch.cuda.amp.autocast(args...)` is deprecated. Please use `torch.amp.autocast('cuda', args...)` instead.\n",
      "  with amp.autocast(autocast):\n"
     ]
    },
    {
     "name": "stdout",
     "output_type": "stream",
     "text": [
      "Saved frame 215.\n",
      "Saved frame 216.\n"
     ]
    },
    {
     "name": "stderr",
     "output_type": "stream",
     "text": [
      "/home/prasanna-nage/.cache/torch/hub/ultralytics_yolov5_master/models/common.py:892: FutureWarning: `torch.cuda.amp.autocast(args...)` is deprecated. Please use `torch.amp.autocast('cuda', args...)` instead.\n",
      "  with amp.autocast(autocast):\n",
      "/home/prasanna-nage/.cache/torch/hub/ultralytics_yolov5_master/models/common.py:892: FutureWarning: `torch.cuda.amp.autocast(args...)` is deprecated. Please use `torch.amp.autocast('cuda', args...)` instead.\n",
      "  with amp.autocast(autocast):\n"
     ]
    },
    {
     "name": "stdout",
     "output_type": "stream",
     "text": [
      "Saved frame 217.\n",
      "Saved frame 218.\n"
     ]
    },
    {
     "name": "stderr",
     "output_type": "stream",
     "text": [
      "/home/prasanna-nage/.cache/torch/hub/ultralytics_yolov5_master/models/common.py:892: FutureWarning: `torch.cuda.amp.autocast(args...)` is deprecated. Please use `torch.amp.autocast('cuda', args...)` instead.\n",
      "  with amp.autocast(autocast):\n",
      "/home/prasanna-nage/.cache/torch/hub/ultralytics_yolov5_master/models/common.py:892: FutureWarning: `torch.cuda.amp.autocast(args...)` is deprecated. Please use `torch.amp.autocast('cuda', args...)` instead.\n",
      "  with amp.autocast(autocast):\n"
     ]
    },
    {
     "name": "stdout",
     "output_type": "stream",
     "text": [
      "Saved frame 219.\n",
      "Saved frame 220.\n"
     ]
    },
    {
     "name": "stderr",
     "output_type": "stream",
     "text": [
      "/home/prasanna-nage/.cache/torch/hub/ultralytics_yolov5_master/models/common.py:892: FutureWarning: `torch.cuda.amp.autocast(args...)` is deprecated. Please use `torch.amp.autocast('cuda', args...)` instead.\n",
      "  with amp.autocast(autocast):\n",
      "/home/prasanna-nage/.cache/torch/hub/ultralytics_yolov5_master/models/common.py:892: FutureWarning: `torch.cuda.amp.autocast(args...)` is deprecated. Please use `torch.amp.autocast('cuda', args...)` instead.\n",
      "  with amp.autocast(autocast):\n"
     ]
    },
    {
     "name": "stdout",
     "output_type": "stream",
     "text": [
      "Saved frame 221.\n",
      "Saved frame 222.\n",
      "Saved frame 223.\n"
     ]
    },
    {
     "name": "stderr",
     "output_type": "stream",
     "text": [
      "/home/prasanna-nage/.cache/torch/hub/ultralytics_yolov5_master/models/common.py:892: FutureWarning: `torch.cuda.amp.autocast(args...)` is deprecated. Please use `torch.amp.autocast('cuda', args...)` instead.\n",
      "  with amp.autocast(autocast):\n",
      "/home/prasanna-nage/.cache/torch/hub/ultralytics_yolov5_master/models/common.py:892: FutureWarning: `torch.cuda.amp.autocast(args...)` is deprecated. Please use `torch.amp.autocast('cuda', args...)` instead.\n",
      "  with amp.autocast(autocast):\n",
      "/home/prasanna-nage/.cache/torch/hub/ultralytics_yolov5_master/models/common.py:892: FutureWarning: `torch.cuda.amp.autocast(args...)` is deprecated. Please use `torch.amp.autocast('cuda', args...)` instead.\n",
      "  with amp.autocast(autocast):\n"
     ]
    },
    {
     "name": "stdout",
     "output_type": "stream",
     "text": [
      "Saved frame 224.\n",
      "Saved frame 225.\n"
     ]
    },
    {
     "name": "stderr",
     "output_type": "stream",
     "text": [
      "/home/prasanna-nage/.cache/torch/hub/ultralytics_yolov5_master/models/common.py:892: FutureWarning: `torch.cuda.amp.autocast(args...)` is deprecated. Please use `torch.amp.autocast('cuda', args...)` instead.\n",
      "  with amp.autocast(autocast):\n",
      "/home/prasanna-nage/.cache/torch/hub/ultralytics_yolov5_master/models/common.py:892: FutureWarning: `torch.cuda.amp.autocast(args...)` is deprecated. Please use `torch.amp.autocast('cuda', args...)` instead.\n",
      "  with amp.autocast(autocast):\n"
     ]
    },
    {
     "name": "stdout",
     "output_type": "stream",
     "text": [
      "Saved frame 226.\n",
      "Saved frame 227.\n"
     ]
    },
    {
     "name": "stderr",
     "output_type": "stream",
     "text": [
      "/home/prasanna-nage/.cache/torch/hub/ultralytics_yolov5_master/models/common.py:892: FutureWarning: `torch.cuda.amp.autocast(args...)` is deprecated. Please use `torch.amp.autocast('cuda', args...)` instead.\n",
      "  with amp.autocast(autocast):\n",
      "/home/prasanna-nage/.cache/torch/hub/ultralytics_yolov5_master/models/common.py:892: FutureWarning: `torch.cuda.amp.autocast(args...)` is deprecated. Please use `torch.amp.autocast('cuda', args...)` instead.\n",
      "  with amp.autocast(autocast):\n"
     ]
    },
    {
     "name": "stdout",
     "output_type": "stream",
     "text": [
      "Saved frame 228.\n",
      "Saved frame 229.\n"
     ]
    },
    {
     "name": "stderr",
     "output_type": "stream",
     "text": [
      "/home/prasanna-nage/.cache/torch/hub/ultralytics_yolov5_master/models/common.py:892: FutureWarning: `torch.cuda.amp.autocast(args...)` is deprecated. Please use `torch.amp.autocast('cuda', args...)` instead.\n",
      "  with amp.autocast(autocast):\n",
      "/home/prasanna-nage/.cache/torch/hub/ultralytics_yolov5_master/models/common.py:892: FutureWarning: `torch.cuda.amp.autocast(args...)` is deprecated. Please use `torch.amp.autocast('cuda', args...)` instead.\n",
      "  with amp.autocast(autocast):\n"
     ]
    },
    {
     "name": "stdout",
     "output_type": "stream",
     "text": [
      "Saved frame 230.\n",
      "Saved frame 231.\n"
     ]
    },
    {
     "name": "stderr",
     "output_type": "stream",
     "text": [
      "/home/prasanna-nage/.cache/torch/hub/ultralytics_yolov5_master/models/common.py:892: FutureWarning: `torch.cuda.amp.autocast(args...)` is deprecated. Please use `torch.amp.autocast('cuda', args...)` instead.\n",
      "  with amp.autocast(autocast):\n",
      "/home/prasanna-nage/.cache/torch/hub/ultralytics_yolov5_master/models/common.py:892: FutureWarning: `torch.cuda.amp.autocast(args...)` is deprecated. Please use `torch.amp.autocast('cuda', args...)` instead.\n",
      "  with amp.autocast(autocast):\n"
     ]
    },
    {
     "name": "stdout",
     "output_type": "stream",
     "text": [
      "Saved frame 232.\n",
      "Saved frame 233.\n"
     ]
    },
    {
     "name": "stderr",
     "output_type": "stream",
     "text": [
      "/home/prasanna-nage/.cache/torch/hub/ultralytics_yolov5_master/models/common.py:892: FutureWarning: `torch.cuda.amp.autocast(args...)` is deprecated. Please use `torch.amp.autocast('cuda', args...)` instead.\n",
      "  with amp.autocast(autocast):\n",
      "/home/prasanna-nage/.cache/torch/hub/ultralytics_yolov5_master/models/common.py:892: FutureWarning: `torch.cuda.amp.autocast(args...)` is deprecated. Please use `torch.amp.autocast('cuda', args...)` instead.\n",
      "  with amp.autocast(autocast):\n"
     ]
    },
    {
     "name": "stdout",
     "output_type": "stream",
     "text": [
      "Saved frame 234.\n",
      "Saved frame 235.\n"
     ]
    },
    {
     "name": "stderr",
     "output_type": "stream",
     "text": [
      "/home/prasanna-nage/.cache/torch/hub/ultralytics_yolov5_master/models/common.py:892: FutureWarning: `torch.cuda.amp.autocast(args...)` is deprecated. Please use `torch.amp.autocast('cuda', args...)` instead.\n",
      "  with amp.autocast(autocast):\n",
      "/home/prasanna-nage/.cache/torch/hub/ultralytics_yolov5_master/models/common.py:892: FutureWarning: `torch.cuda.amp.autocast(args...)` is deprecated. Please use `torch.amp.autocast('cuda', args...)` instead.\n",
      "  with amp.autocast(autocast):\n"
     ]
    },
    {
     "name": "stdout",
     "output_type": "stream",
     "text": [
      "Saved frame 236.\n",
      "Saved frame 237.\n"
     ]
    },
    {
     "name": "stderr",
     "output_type": "stream",
     "text": [
      "/home/prasanna-nage/.cache/torch/hub/ultralytics_yolov5_master/models/common.py:892: FutureWarning: `torch.cuda.amp.autocast(args...)` is deprecated. Please use `torch.amp.autocast('cuda', args...)` instead.\n",
      "  with amp.autocast(autocast):\n",
      "/home/prasanna-nage/.cache/torch/hub/ultralytics_yolov5_master/models/common.py:892: FutureWarning: `torch.cuda.amp.autocast(args...)` is deprecated. Please use `torch.amp.autocast('cuda', args...)` instead.\n",
      "  with amp.autocast(autocast):\n"
     ]
    },
    {
     "name": "stdout",
     "output_type": "stream",
     "text": [
      "Saved frame 238.\n",
      "Saved frame 239.\n"
     ]
    },
    {
     "name": "stderr",
     "output_type": "stream",
     "text": [
      "/home/prasanna-nage/.cache/torch/hub/ultralytics_yolov5_master/models/common.py:892: FutureWarning: `torch.cuda.amp.autocast(args...)` is deprecated. Please use `torch.amp.autocast('cuda', args...)` instead.\n",
      "  with amp.autocast(autocast):\n",
      "/home/prasanna-nage/.cache/torch/hub/ultralytics_yolov5_master/models/common.py:892: FutureWarning: `torch.cuda.amp.autocast(args...)` is deprecated. Please use `torch.amp.autocast('cuda', args...)` instead.\n",
      "  with amp.autocast(autocast):\n"
     ]
    },
    {
     "name": "stdout",
     "output_type": "stream",
     "text": [
      "Saved frame 240.\n",
      "Saved frame 241.\n"
     ]
    },
    {
     "name": "stderr",
     "output_type": "stream",
     "text": [
      "/home/prasanna-nage/.cache/torch/hub/ultralytics_yolov5_master/models/common.py:892: FutureWarning: `torch.cuda.amp.autocast(args...)` is deprecated. Please use `torch.amp.autocast('cuda', args...)` instead.\n",
      "  with amp.autocast(autocast):\n",
      "/home/prasanna-nage/.cache/torch/hub/ultralytics_yolov5_master/models/common.py:892: FutureWarning: `torch.cuda.amp.autocast(args...)` is deprecated. Please use `torch.amp.autocast('cuda', args...)` instead.\n",
      "  with amp.autocast(autocast):\n"
     ]
    },
    {
     "name": "stdout",
     "output_type": "stream",
     "text": [
      "Saved frame 242.\n",
      "Saved frame 243.\n",
      "Saved frame 244.\n"
     ]
    },
    {
     "name": "stderr",
     "output_type": "stream",
     "text": [
      "/home/prasanna-nage/.cache/torch/hub/ultralytics_yolov5_master/models/common.py:892: FutureWarning: `torch.cuda.amp.autocast(args...)` is deprecated. Please use `torch.amp.autocast('cuda', args...)` instead.\n",
      "  with amp.autocast(autocast):\n",
      "/home/prasanna-nage/.cache/torch/hub/ultralytics_yolov5_master/models/common.py:892: FutureWarning: `torch.cuda.amp.autocast(args...)` is deprecated. Please use `torch.amp.autocast('cuda', args...)` instead.\n",
      "  with amp.autocast(autocast):\n",
      "/home/prasanna-nage/.cache/torch/hub/ultralytics_yolov5_master/models/common.py:892: FutureWarning: `torch.cuda.amp.autocast(args...)` is deprecated. Please use `torch.amp.autocast('cuda', args...)` instead.\n",
      "  with amp.autocast(autocast):\n"
     ]
    },
    {
     "name": "stdout",
     "output_type": "stream",
     "text": [
      "Saved frame 245.\n",
      "Saved frame 246.\n",
      "Saved frame 247.\n"
     ]
    },
    {
     "name": "stderr",
     "output_type": "stream",
     "text": [
      "/home/prasanna-nage/.cache/torch/hub/ultralytics_yolov5_master/models/common.py:892: FutureWarning: `torch.cuda.amp.autocast(args...)` is deprecated. Please use `torch.amp.autocast('cuda', args...)` instead.\n",
      "  with amp.autocast(autocast):\n",
      "/home/prasanna-nage/.cache/torch/hub/ultralytics_yolov5_master/models/common.py:892: FutureWarning: `torch.cuda.amp.autocast(args...)` is deprecated. Please use `torch.amp.autocast('cuda', args...)` instead.\n",
      "  with amp.autocast(autocast):\n",
      "/home/prasanna-nage/.cache/torch/hub/ultralytics_yolov5_master/models/common.py:892: FutureWarning: `torch.cuda.amp.autocast(args...)` is deprecated. Please use `torch.amp.autocast('cuda', args...)` instead.\n",
      "  with amp.autocast(autocast):\n"
     ]
    },
    {
     "name": "stdout",
     "output_type": "stream",
     "text": [
      "Saved frame 248.\n",
      "Saved frame 249.\n"
     ]
    },
    {
     "name": "stderr",
     "output_type": "stream",
     "text": [
      "/home/prasanna-nage/.cache/torch/hub/ultralytics_yolov5_master/models/common.py:892: FutureWarning: `torch.cuda.amp.autocast(args...)` is deprecated. Please use `torch.amp.autocast('cuda', args...)` instead.\n",
      "  with amp.autocast(autocast):\n",
      "/home/prasanna-nage/.cache/torch/hub/ultralytics_yolov5_master/models/common.py:892: FutureWarning: `torch.cuda.amp.autocast(args...)` is deprecated. Please use `torch.amp.autocast('cuda', args...)` instead.\n",
      "  with amp.autocast(autocast):\n"
     ]
    },
    {
     "name": "stdout",
     "output_type": "stream",
     "text": [
      "Saved frame 250.\n",
      "Saved frame 251.\n"
     ]
    },
    {
     "name": "stderr",
     "output_type": "stream",
     "text": [
      "/home/prasanna-nage/.cache/torch/hub/ultralytics_yolov5_master/models/common.py:892: FutureWarning: `torch.cuda.amp.autocast(args...)` is deprecated. Please use `torch.amp.autocast('cuda', args...)` instead.\n",
      "  with amp.autocast(autocast):\n",
      "/home/prasanna-nage/.cache/torch/hub/ultralytics_yolov5_master/models/common.py:892: FutureWarning: `torch.cuda.amp.autocast(args...)` is deprecated. Please use `torch.amp.autocast('cuda', args...)` instead.\n",
      "  with amp.autocast(autocast):\n"
     ]
    },
    {
     "name": "stdout",
     "output_type": "stream",
     "text": [
      "Saved frame 252.\n",
      "Saved frame 253.\n"
     ]
    },
    {
     "name": "stderr",
     "output_type": "stream",
     "text": [
      "/home/prasanna-nage/.cache/torch/hub/ultralytics_yolov5_master/models/common.py:892: FutureWarning: `torch.cuda.amp.autocast(args...)` is deprecated. Please use `torch.amp.autocast('cuda', args...)` instead.\n",
      "  with amp.autocast(autocast):\n",
      "/home/prasanna-nage/.cache/torch/hub/ultralytics_yolov5_master/models/common.py:892: FutureWarning: `torch.cuda.amp.autocast(args...)` is deprecated. Please use `torch.amp.autocast('cuda', args...)` instead.\n",
      "  with amp.autocast(autocast):\n"
     ]
    },
    {
     "name": "stdout",
     "output_type": "stream",
     "text": [
      "Saved frame 254.\n",
      "Saved frame 255.\n"
     ]
    },
    {
     "name": "stderr",
     "output_type": "stream",
     "text": [
      "/home/prasanna-nage/.cache/torch/hub/ultralytics_yolov5_master/models/common.py:892: FutureWarning: `torch.cuda.amp.autocast(args...)` is deprecated. Please use `torch.amp.autocast('cuda', args...)` instead.\n",
      "  with amp.autocast(autocast):\n",
      "/home/prasanna-nage/.cache/torch/hub/ultralytics_yolov5_master/models/common.py:892: FutureWarning: `torch.cuda.amp.autocast(args...)` is deprecated. Please use `torch.amp.autocast('cuda', args...)` instead.\n",
      "  with amp.autocast(autocast):\n"
     ]
    },
    {
     "name": "stdout",
     "output_type": "stream",
     "text": [
      "Saved frame 256.\n",
      "Saved frame 257.\n"
     ]
    },
    {
     "name": "stderr",
     "output_type": "stream",
     "text": [
      "/home/prasanna-nage/.cache/torch/hub/ultralytics_yolov5_master/models/common.py:892: FutureWarning: `torch.cuda.amp.autocast(args...)` is deprecated. Please use `torch.amp.autocast('cuda', args...)` instead.\n",
      "  with amp.autocast(autocast):\n",
      "/home/prasanna-nage/.cache/torch/hub/ultralytics_yolov5_master/models/common.py:892: FutureWarning: `torch.cuda.amp.autocast(args...)` is deprecated. Please use `torch.amp.autocast('cuda', args...)` instead.\n",
      "  with amp.autocast(autocast):\n"
     ]
    },
    {
     "name": "stdout",
     "output_type": "stream",
     "text": [
      "Saved frame 258.\n",
      "Saved frame 259.\n"
     ]
    },
    {
     "name": "stderr",
     "output_type": "stream",
     "text": [
      "/home/prasanna-nage/.cache/torch/hub/ultralytics_yolov5_master/models/common.py:892: FutureWarning: `torch.cuda.amp.autocast(args...)` is deprecated. Please use `torch.amp.autocast('cuda', args...)` instead.\n",
      "  with amp.autocast(autocast):\n",
      "/home/prasanna-nage/.cache/torch/hub/ultralytics_yolov5_master/models/common.py:892: FutureWarning: `torch.cuda.amp.autocast(args...)` is deprecated. Please use `torch.amp.autocast('cuda', args...)` instead.\n",
      "  with amp.autocast(autocast):\n"
     ]
    },
    {
     "name": "stdout",
     "output_type": "stream",
     "text": [
      "Saved frame 260.\n",
      "Saved frame 261.\n"
     ]
    },
    {
     "name": "stderr",
     "output_type": "stream",
     "text": [
      "/home/prasanna-nage/.cache/torch/hub/ultralytics_yolov5_master/models/common.py:892: FutureWarning: `torch.cuda.amp.autocast(args...)` is deprecated. Please use `torch.amp.autocast('cuda', args...)` instead.\n",
      "  with amp.autocast(autocast):\n",
      "/home/prasanna-nage/.cache/torch/hub/ultralytics_yolov5_master/models/common.py:892: FutureWarning: `torch.cuda.amp.autocast(args...)` is deprecated. Please use `torch.amp.autocast('cuda', args...)` instead.\n",
      "  with amp.autocast(autocast):\n"
     ]
    },
    {
     "name": "stdout",
     "output_type": "stream",
     "text": [
      "Saved frame 262.\n",
      "Saved frame 263.\n"
     ]
    },
    {
     "name": "stderr",
     "output_type": "stream",
     "text": [
      "/home/prasanna-nage/.cache/torch/hub/ultralytics_yolov5_master/models/common.py:892: FutureWarning: `torch.cuda.amp.autocast(args...)` is deprecated. Please use `torch.amp.autocast('cuda', args...)` instead.\n",
      "  with amp.autocast(autocast):\n",
      "/home/prasanna-nage/.cache/torch/hub/ultralytics_yolov5_master/models/common.py:892: FutureWarning: `torch.cuda.amp.autocast(args...)` is deprecated. Please use `torch.amp.autocast('cuda', args...)` instead.\n",
      "  with amp.autocast(autocast):\n"
     ]
    },
    {
     "name": "stdout",
     "output_type": "stream",
     "text": [
      "Saved frame 264.\n",
      "Saved frame 265.\n"
     ]
    },
    {
     "name": "stderr",
     "output_type": "stream",
     "text": [
      "/home/prasanna-nage/.cache/torch/hub/ultralytics_yolov5_master/models/common.py:892: FutureWarning: `torch.cuda.amp.autocast(args...)` is deprecated. Please use `torch.amp.autocast('cuda', args...)` instead.\n",
      "  with amp.autocast(autocast):\n",
      "/home/prasanna-nage/.cache/torch/hub/ultralytics_yolov5_master/models/common.py:892: FutureWarning: `torch.cuda.amp.autocast(args...)` is deprecated. Please use `torch.amp.autocast('cuda', args...)` instead.\n",
      "  with amp.autocast(autocast):\n"
     ]
    },
    {
     "name": "stdout",
     "output_type": "stream",
     "text": [
      "Saved frame 266.\n",
      "Saved frame 267.\n"
     ]
    },
    {
     "name": "stderr",
     "output_type": "stream",
     "text": [
      "/home/prasanna-nage/.cache/torch/hub/ultralytics_yolov5_master/models/common.py:892: FutureWarning: `torch.cuda.amp.autocast(args...)` is deprecated. Please use `torch.amp.autocast('cuda', args...)` instead.\n",
      "  with amp.autocast(autocast):\n",
      "/home/prasanna-nage/.cache/torch/hub/ultralytics_yolov5_master/models/common.py:892: FutureWarning: `torch.cuda.amp.autocast(args...)` is deprecated. Please use `torch.amp.autocast('cuda', args...)` instead.\n",
      "  with amp.autocast(autocast):\n"
     ]
    },
    {
     "name": "stdout",
     "output_type": "stream",
     "text": [
      "Saved frame 268.\n",
      "Saved frame 269.\n"
     ]
    },
    {
     "name": "stderr",
     "output_type": "stream",
     "text": [
      "/home/prasanna-nage/.cache/torch/hub/ultralytics_yolov5_master/models/common.py:892: FutureWarning: `torch.cuda.amp.autocast(args...)` is deprecated. Please use `torch.amp.autocast('cuda', args...)` instead.\n",
      "  with amp.autocast(autocast):\n",
      "/home/prasanna-nage/.cache/torch/hub/ultralytics_yolov5_master/models/common.py:892: FutureWarning: `torch.cuda.amp.autocast(args...)` is deprecated. Please use `torch.amp.autocast('cuda', args...)` instead.\n",
      "  with amp.autocast(autocast):\n"
     ]
    },
    {
     "name": "stdout",
     "output_type": "stream",
     "text": [
      "Saved frame 270.\n",
      "Saved frame 271.\n"
     ]
    },
    {
     "name": "stderr",
     "output_type": "stream",
     "text": [
      "/home/prasanna-nage/.cache/torch/hub/ultralytics_yolov5_master/models/common.py:892: FutureWarning: `torch.cuda.amp.autocast(args...)` is deprecated. Please use `torch.amp.autocast('cuda', args...)` instead.\n",
      "  with amp.autocast(autocast):\n",
      "/home/prasanna-nage/.cache/torch/hub/ultralytics_yolov5_master/models/common.py:892: FutureWarning: `torch.cuda.amp.autocast(args...)` is deprecated. Please use `torch.amp.autocast('cuda', args...)` instead.\n",
      "  with amp.autocast(autocast):\n"
     ]
    },
    {
     "name": "stdout",
     "output_type": "stream",
     "text": [
      "Saved frame 272.\n",
      "Saved frame 273.\n"
     ]
    },
    {
     "name": "stderr",
     "output_type": "stream",
     "text": [
      "/home/prasanna-nage/.cache/torch/hub/ultralytics_yolov5_master/models/common.py:892: FutureWarning: `torch.cuda.amp.autocast(args...)` is deprecated. Please use `torch.amp.autocast('cuda', args...)` instead.\n",
      "  with amp.autocast(autocast):\n",
      "/home/prasanna-nage/.cache/torch/hub/ultralytics_yolov5_master/models/common.py:892: FutureWarning: `torch.cuda.amp.autocast(args...)` is deprecated. Please use `torch.amp.autocast('cuda', args...)` instead.\n",
      "  with amp.autocast(autocast):\n"
     ]
    },
    {
     "name": "stdout",
     "output_type": "stream",
     "text": [
      "Saved frame 274.\n",
      "Saved frame 275.\n"
     ]
    },
    {
     "name": "stderr",
     "output_type": "stream",
     "text": [
      "/home/prasanna-nage/.cache/torch/hub/ultralytics_yolov5_master/models/common.py:892: FutureWarning: `torch.cuda.amp.autocast(args...)` is deprecated. Please use `torch.amp.autocast('cuda', args...)` instead.\n",
      "  with amp.autocast(autocast):\n",
      "/home/prasanna-nage/.cache/torch/hub/ultralytics_yolov5_master/models/common.py:892: FutureWarning: `torch.cuda.amp.autocast(args...)` is deprecated. Please use `torch.amp.autocast('cuda', args...)` instead.\n",
      "  with amp.autocast(autocast):\n"
     ]
    },
    {
     "name": "stdout",
     "output_type": "stream",
     "text": [
      "Saved frame 276.\n",
      "Saved frame 277.\n"
     ]
    },
    {
     "name": "stderr",
     "output_type": "stream",
     "text": [
      "/home/prasanna-nage/.cache/torch/hub/ultralytics_yolov5_master/models/common.py:892: FutureWarning: `torch.cuda.amp.autocast(args...)` is deprecated. Please use `torch.amp.autocast('cuda', args...)` instead.\n",
      "  with amp.autocast(autocast):\n",
      "/home/prasanna-nage/.cache/torch/hub/ultralytics_yolov5_master/models/common.py:892: FutureWarning: `torch.cuda.amp.autocast(args...)` is deprecated. Please use `torch.amp.autocast('cuda', args...)` instead.\n",
      "  with amp.autocast(autocast):\n"
     ]
    },
    {
     "name": "stdout",
     "output_type": "stream",
     "text": [
      "Saved frame 278.\n",
      "Saved frame 279.\n"
     ]
    },
    {
     "name": "stderr",
     "output_type": "stream",
     "text": [
      "/home/prasanna-nage/.cache/torch/hub/ultralytics_yolov5_master/models/common.py:892: FutureWarning: `torch.cuda.amp.autocast(args...)` is deprecated. Please use `torch.amp.autocast('cuda', args...)` instead.\n",
      "  with amp.autocast(autocast):\n",
      "/home/prasanna-nage/.cache/torch/hub/ultralytics_yolov5_master/models/common.py:892: FutureWarning: `torch.cuda.amp.autocast(args...)` is deprecated. Please use `torch.amp.autocast('cuda', args...)` instead.\n",
      "  with amp.autocast(autocast):\n"
     ]
    },
    {
     "name": "stdout",
     "output_type": "stream",
     "text": [
      "Saved frame 280.\n",
      "Saved frame 281.\n"
     ]
    },
    {
     "name": "stderr",
     "output_type": "stream",
     "text": [
      "/home/prasanna-nage/.cache/torch/hub/ultralytics_yolov5_master/models/common.py:892: FutureWarning: `torch.cuda.amp.autocast(args...)` is deprecated. Please use `torch.amp.autocast('cuda', args...)` instead.\n",
      "  with amp.autocast(autocast):\n",
      "/home/prasanna-nage/.cache/torch/hub/ultralytics_yolov5_master/models/common.py:892: FutureWarning: `torch.cuda.amp.autocast(args...)` is deprecated. Please use `torch.amp.autocast('cuda', args...)` instead.\n",
      "  with amp.autocast(autocast):\n"
     ]
    },
    {
     "name": "stdout",
     "output_type": "stream",
     "text": [
      "Saved frame 282.\n",
      "Saved frame 283.\n"
     ]
    },
    {
     "name": "stderr",
     "output_type": "stream",
     "text": [
      "/home/prasanna-nage/.cache/torch/hub/ultralytics_yolov5_master/models/common.py:892: FutureWarning: `torch.cuda.amp.autocast(args...)` is deprecated. Please use `torch.amp.autocast('cuda', args...)` instead.\n",
      "  with amp.autocast(autocast):\n",
      "/home/prasanna-nage/.cache/torch/hub/ultralytics_yolov5_master/models/common.py:892: FutureWarning: `torch.cuda.amp.autocast(args...)` is deprecated. Please use `torch.amp.autocast('cuda', args...)` instead.\n",
      "  with amp.autocast(autocast):\n"
     ]
    },
    {
     "name": "stdout",
     "output_type": "stream",
     "text": [
      "Saved frame 284.\n",
      "Saved frame 285.\n"
     ]
    },
    {
     "name": "stderr",
     "output_type": "stream",
     "text": [
      "/home/prasanna-nage/.cache/torch/hub/ultralytics_yolov5_master/models/common.py:892: FutureWarning: `torch.cuda.amp.autocast(args...)` is deprecated. Please use `torch.amp.autocast('cuda', args...)` instead.\n",
      "  with amp.autocast(autocast):\n",
      "/home/prasanna-nage/.cache/torch/hub/ultralytics_yolov5_master/models/common.py:892: FutureWarning: `torch.cuda.amp.autocast(args...)` is deprecated. Please use `torch.amp.autocast('cuda', args...)` instead.\n",
      "  with amp.autocast(autocast):\n"
     ]
    },
    {
     "name": "stdout",
     "output_type": "stream",
     "text": [
      "Saved frame 286.\n",
      "Saved frame 287.\n"
     ]
    },
    {
     "name": "stderr",
     "output_type": "stream",
     "text": [
      "/home/prasanna-nage/.cache/torch/hub/ultralytics_yolov5_master/models/common.py:892: FutureWarning: `torch.cuda.amp.autocast(args...)` is deprecated. Please use `torch.amp.autocast('cuda', args...)` instead.\n",
      "  with amp.autocast(autocast):\n",
      "/home/prasanna-nage/.cache/torch/hub/ultralytics_yolov5_master/models/common.py:892: FutureWarning: `torch.cuda.amp.autocast(args...)` is deprecated. Please use `torch.amp.autocast('cuda', args...)` instead.\n",
      "  with amp.autocast(autocast):\n"
     ]
    },
    {
     "name": "stdout",
     "output_type": "stream",
     "text": [
      "Saved frame 288.\n",
      "Saved frame 289.\n",
      "Saved frame 290.\n"
     ]
    },
    {
     "name": "stderr",
     "output_type": "stream",
     "text": [
      "/home/prasanna-nage/.cache/torch/hub/ultralytics_yolov5_master/models/common.py:892: FutureWarning: `torch.cuda.amp.autocast(args...)` is deprecated. Please use `torch.amp.autocast('cuda', args...)` instead.\n",
      "  with amp.autocast(autocast):\n",
      "/home/prasanna-nage/.cache/torch/hub/ultralytics_yolov5_master/models/common.py:892: FutureWarning: `torch.cuda.amp.autocast(args...)` is deprecated. Please use `torch.amp.autocast('cuda', args...)` instead.\n",
      "  with amp.autocast(autocast):\n",
      "/home/prasanna-nage/.cache/torch/hub/ultralytics_yolov5_master/models/common.py:892: FutureWarning: `torch.cuda.amp.autocast(args...)` is deprecated. Please use `torch.amp.autocast('cuda', args...)` instead.\n",
      "  with amp.autocast(autocast):\n"
     ]
    },
    {
     "name": "stdout",
     "output_type": "stream",
     "text": [
      "Saved frame 291.\n",
      "Saved frame 292.\n",
      "Saved frame 293.\n"
     ]
    },
    {
     "name": "stderr",
     "output_type": "stream",
     "text": [
      "/home/prasanna-nage/.cache/torch/hub/ultralytics_yolov5_master/models/common.py:892: FutureWarning: `torch.cuda.amp.autocast(args...)` is deprecated. Please use `torch.amp.autocast('cuda', args...)` instead.\n",
      "  with amp.autocast(autocast):\n",
      "/home/prasanna-nage/.cache/torch/hub/ultralytics_yolov5_master/models/common.py:892: FutureWarning: `torch.cuda.amp.autocast(args...)` is deprecated. Please use `torch.amp.autocast('cuda', args...)` instead.\n",
      "  with amp.autocast(autocast):\n",
      "/home/prasanna-nage/.cache/torch/hub/ultralytics_yolov5_master/models/common.py:892: FutureWarning: `torch.cuda.amp.autocast(args...)` is deprecated. Please use `torch.amp.autocast('cuda', args...)` instead.\n",
      "  with amp.autocast(autocast):\n"
     ]
    },
    {
     "name": "stdout",
     "output_type": "stream",
     "text": [
      "Saved frame 294.\n",
      "Saved frame 295.\n",
      "Saved frame 296.\n"
     ]
    },
    {
     "name": "stderr",
     "output_type": "stream",
     "text": [
      "/home/prasanna-nage/.cache/torch/hub/ultralytics_yolov5_master/models/common.py:892: FutureWarning: `torch.cuda.amp.autocast(args...)` is deprecated. Please use `torch.amp.autocast('cuda', args...)` instead.\n",
      "  with amp.autocast(autocast):\n",
      "/home/prasanna-nage/.cache/torch/hub/ultralytics_yolov5_master/models/common.py:892: FutureWarning: `torch.cuda.amp.autocast(args...)` is deprecated. Please use `torch.amp.autocast('cuda', args...)` instead.\n",
      "  with amp.autocast(autocast):\n",
      "/home/prasanna-nage/.cache/torch/hub/ultralytics_yolov5_master/models/common.py:892: FutureWarning: `torch.cuda.amp.autocast(args...)` is deprecated. Please use `torch.amp.autocast('cuda', args...)` instead.\n",
      "  with amp.autocast(autocast):\n"
     ]
    },
    {
     "name": "stdout",
     "output_type": "stream",
     "text": [
      "Saved frame 297.\n",
      "Saved frame 298.\n",
      "Saved frame 299.\n"
     ]
    },
    {
     "name": "stderr",
     "output_type": "stream",
     "text": [
      "/home/prasanna-nage/.cache/torch/hub/ultralytics_yolov5_master/models/common.py:892: FutureWarning: `torch.cuda.amp.autocast(args...)` is deprecated. Please use `torch.amp.autocast('cuda', args...)` instead.\n",
      "  with amp.autocast(autocast):\n",
      "/home/prasanna-nage/.cache/torch/hub/ultralytics_yolov5_master/models/common.py:892: FutureWarning: `torch.cuda.amp.autocast(args...)` is deprecated. Please use `torch.amp.autocast('cuda', args...)` instead.\n",
      "  with amp.autocast(autocast):\n",
      "/home/prasanna-nage/.cache/torch/hub/ultralytics_yolov5_master/models/common.py:892: FutureWarning: `torch.cuda.amp.autocast(args...)` is deprecated. Please use `torch.amp.autocast('cuda', args...)` instead.\n",
      "  with amp.autocast(autocast):\n"
     ]
    },
    {
     "name": "stdout",
     "output_type": "stream",
     "text": [
      "Saved frame 300.\n",
      "Saved frame 301.\n"
     ]
    },
    {
     "name": "stderr",
     "output_type": "stream",
     "text": [
      "/home/prasanna-nage/.cache/torch/hub/ultralytics_yolov5_master/models/common.py:892: FutureWarning: `torch.cuda.amp.autocast(args...)` is deprecated. Please use `torch.amp.autocast('cuda', args...)` instead.\n",
      "  with amp.autocast(autocast):\n",
      "/home/prasanna-nage/.cache/torch/hub/ultralytics_yolov5_master/models/common.py:892: FutureWarning: `torch.cuda.amp.autocast(args...)` is deprecated. Please use `torch.amp.autocast('cuda', args...)` instead.\n",
      "  with amp.autocast(autocast):\n"
     ]
    },
    {
     "name": "stdout",
     "output_type": "stream",
     "text": [
      "Saved frame 302.\n",
      "Saved frame 303.\n"
     ]
    },
    {
     "name": "stderr",
     "output_type": "stream",
     "text": [
      "/home/prasanna-nage/.cache/torch/hub/ultralytics_yolov5_master/models/common.py:892: FutureWarning: `torch.cuda.amp.autocast(args...)` is deprecated. Please use `torch.amp.autocast('cuda', args...)` instead.\n",
      "  with amp.autocast(autocast):\n",
      "/home/prasanna-nage/.cache/torch/hub/ultralytics_yolov5_master/models/common.py:892: FutureWarning: `torch.cuda.amp.autocast(args...)` is deprecated. Please use `torch.amp.autocast('cuda', args...)` instead.\n",
      "  with amp.autocast(autocast):\n"
     ]
    },
    {
     "name": "stdout",
     "output_type": "stream",
     "text": [
      "Saved frame 304.\n",
      "Saved frame 305.\n"
     ]
    },
    {
     "name": "stderr",
     "output_type": "stream",
     "text": [
      "/home/prasanna-nage/.cache/torch/hub/ultralytics_yolov5_master/models/common.py:892: FutureWarning: `torch.cuda.amp.autocast(args...)` is deprecated. Please use `torch.amp.autocast('cuda', args...)` instead.\n",
      "  with amp.autocast(autocast):\n",
      "/home/prasanna-nage/.cache/torch/hub/ultralytics_yolov5_master/models/common.py:892: FutureWarning: `torch.cuda.amp.autocast(args...)` is deprecated. Please use `torch.amp.autocast('cuda', args...)` instead.\n",
      "  with amp.autocast(autocast):\n"
     ]
    },
    {
     "name": "stdout",
     "output_type": "stream",
     "text": [
      "Saved frame 306.\n",
      "Saved frame 307.\n"
     ]
    },
    {
     "name": "stderr",
     "output_type": "stream",
     "text": [
      "/home/prasanna-nage/.cache/torch/hub/ultralytics_yolov5_master/models/common.py:892: FutureWarning: `torch.cuda.amp.autocast(args...)` is deprecated. Please use `torch.amp.autocast('cuda', args...)` instead.\n",
      "  with amp.autocast(autocast):\n",
      "/home/prasanna-nage/.cache/torch/hub/ultralytics_yolov5_master/models/common.py:892: FutureWarning: `torch.cuda.amp.autocast(args...)` is deprecated. Please use `torch.amp.autocast('cuda', args...)` instead.\n",
      "  with amp.autocast(autocast):\n"
     ]
    },
    {
     "name": "stdout",
     "output_type": "stream",
     "text": [
      "Saved frame 308.\n",
      "Saved frame 309.\n"
     ]
    },
    {
     "name": "stderr",
     "output_type": "stream",
     "text": [
      "/home/prasanna-nage/.cache/torch/hub/ultralytics_yolov5_master/models/common.py:892: FutureWarning: `torch.cuda.amp.autocast(args...)` is deprecated. Please use `torch.amp.autocast('cuda', args...)` instead.\n",
      "  with amp.autocast(autocast):\n",
      "/home/prasanna-nage/.cache/torch/hub/ultralytics_yolov5_master/models/common.py:892: FutureWarning: `torch.cuda.amp.autocast(args...)` is deprecated. Please use `torch.amp.autocast('cuda', args...)` instead.\n",
      "  with amp.autocast(autocast):\n"
     ]
    },
    {
     "name": "stdout",
     "output_type": "stream",
     "text": [
      "Saved frame 310.\n",
      "Saved frame 311.\n"
     ]
    },
    {
     "name": "stderr",
     "output_type": "stream",
     "text": [
      "/home/prasanna-nage/.cache/torch/hub/ultralytics_yolov5_master/models/common.py:892: FutureWarning: `torch.cuda.amp.autocast(args...)` is deprecated. Please use `torch.amp.autocast('cuda', args...)` instead.\n",
      "  with amp.autocast(autocast):\n",
      "/home/prasanna-nage/.cache/torch/hub/ultralytics_yolov5_master/models/common.py:892: FutureWarning: `torch.cuda.amp.autocast(args...)` is deprecated. Please use `torch.amp.autocast('cuda', args...)` instead.\n",
      "  with amp.autocast(autocast):\n"
     ]
    },
    {
     "name": "stdout",
     "output_type": "stream",
     "text": [
      "Saved frame 312.\n",
      "Saved frame 313.\n"
     ]
    },
    {
     "name": "stderr",
     "output_type": "stream",
     "text": [
      "/home/prasanna-nage/.cache/torch/hub/ultralytics_yolov5_master/models/common.py:892: FutureWarning: `torch.cuda.amp.autocast(args...)` is deprecated. Please use `torch.amp.autocast('cuda', args...)` instead.\n",
      "  with amp.autocast(autocast):\n",
      "/home/prasanna-nage/.cache/torch/hub/ultralytics_yolov5_master/models/common.py:892: FutureWarning: `torch.cuda.amp.autocast(args...)` is deprecated. Please use `torch.amp.autocast('cuda', args...)` instead.\n",
      "  with amp.autocast(autocast):\n"
     ]
    },
    {
     "name": "stdout",
     "output_type": "stream",
     "text": [
      "Saved frame 314.\n",
      "Saved frame 315.\n"
     ]
    },
    {
     "name": "stderr",
     "output_type": "stream",
     "text": [
      "/home/prasanna-nage/.cache/torch/hub/ultralytics_yolov5_master/models/common.py:892: FutureWarning: `torch.cuda.amp.autocast(args...)` is deprecated. Please use `torch.amp.autocast('cuda', args...)` instead.\n",
      "  with amp.autocast(autocast):\n",
      "/home/prasanna-nage/.cache/torch/hub/ultralytics_yolov5_master/models/common.py:892: FutureWarning: `torch.cuda.amp.autocast(args...)` is deprecated. Please use `torch.amp.autocast('cuda', args...)` instead.\n",
      "  with amp.autocast(autocast):\n"
     ]
    },
    {
     "name": "stdout",
     "output_type": "stream",
     "text": [
      "Saved frame 316.\n",
      "Saved frame 317.\n"
     ]
    },
    {
     "name": "stderr",
     "output_type": "stream",
     "text": [
      "/home/prasanna-nage/.cache/torch/hub/ultralytics_yolov5_master/models/common.py:892: FutureWarning: `torch.cuda.amp.autocast(args...)` is deprecated. Please use `torch.amp.autocast('cuda', args...)` instead.\n",
      "  with amp.autocast(autocast):\n",
      "/home/prasanna-nage/.cache/torch/hub/ultralytics_yolov5_master/models/common.py:892: FutureWarning: `torch.cuda.amp.autocast(args...)` is deprecated. Please use `torch.amp.autocast('cuda', args...)` instead.\n",
      "  with amp.autocast(autocast):\n"
     ]
    },
    {
     "name": "stdout",
     "output_type": "stream",
     "text": [
      "Saved frame 318.\n",
      "Saved frame 319.\n"
     ]
    },
    {
     "name": "stderr",
     "output_type": "stream",
     "text": [
      "/home/prasanna-nage/.cache/torch/hub/ultralytics_yolov5_master/models/common.py:892: FutureWarning: `torch.cuda.amp.autocast(args...)` is deprecated. Please use `torch.amp.autocast('cuda', args...)` instead.\n",
      "  with amp.autocast(autocast):\n",
      "/home/prasanna-nage/.cache/torch/hub/ultralytics_yolov5_master/models/common.py:892: FutureWarning: `torch.cuda.amp.autocast(args...)` is deprecated. Please use `torch.amp.autocast('cuda', args...)` instead.\n",
      "  with amp.autocast(autocast):\n"
     ]
    },
    {
     "name": "stdout",
     "output_type": "stream",
     "text": [
      "Saved frame 320.\n",
      "Saved frame 321.\n"
     ]
    },
    {
     "name": "stderr",
     "output_type": "stream",
     "text": [
      "/home/prasanna-nage/.cache/torch/hub/ultralytics_yolov5_master/models/common.py:892: FutureWarning: `torch.cuda.amp.autocast(args...)` is deprecated. Please use `torch.amp.autocast('cuda', args...)` instead.\n",
      "  with amp.autocast(autocast):\n",
      "/home/prasanna-nage/.cache/torch/hub/ultralytics_yolov5_master/models/common.py:892: FutureWarning: `torch.cuda.amp.autocast(args...)` is deprecated. Please use `torch.amp.autocast('cuda', args...)` instead.\n",
      "  with amp.autocast(autocast):\n"
     ]
    },
    {
     "name": "stdout",
     "output_type": "stream",
     "text": [
      "Saved frame 322.\n",
      "Saved frame 323.\n"
     ]
    },
    {
     "name": "stderr",
     "output_type": "stream",
     "text": [
      "/home/prasanna-nage/.cache/torch/hub/ultralytics_yolov5_master/models/common.py:892: FutureWarning: `torch.cuda.amp.autocast(args...)` is deprecated. Please use `torch.amp.autocast('cuda', args...)` instead.\n",
      "  with amp.autocast(autocast):\n",
      "/home/prasanna-nage/.cache/torch/hub/ultralytics_yolov5_master/models/common.py:892: FutureWarning: `torch.cuda.amp.autocast(args...)` is deprecated. Please use `torch.amp.autocast('cuda', args...)` instead.\n",
      "  with amp.autocast(autocast):\n"
     ]
    },
    {
     "name": "stdout",
     "output_type": "stream",
     "text": [
      "Saved frame 324.\n",
      "Saved frame 325.\n"
     ]
    },
    {
     "name": "stderr",
     "output_type": "stream",
     "text": [
      "/home/prasanna-nage/.cache/torch/hub/ultralytics_yolov5_master/models/common.py:892: FutureWarning: `torch.cuda.amp.autocast(args...)` is deprecated. Please use `torch.amp.autocast('cuda', args...)` instead.\n",
      "  with amp.autocast(autocast):\n",
      "/home/prasanna-nage/.cache/torch/hub/ultralytics_yolov5_master/models/common.py:892: FutureWarning: `torch.cuda.amp.autocast(args...)` is deprecated. Please use `torch.amp.autocast('cuda', args...)` instead.\n",
      "  with amp.autocast(autocast):\n"
     ]
    },
    {
     "name": "stdout",
     "output_type": "stream",
     "text": [
      "Saved frame 326.\n",
      "Saved frame 327.\n"
     ]
    },
    {
     "name": "stderr",
     "output_type": "stream",
     "text": [
      "/home/prasanna-nage/.cache/torch/hub/ultralytics_yolov5_master/models/common.py:892: FutureWarning: `torch.cuda.amp.autocast(args...)` is deprecated. Please use `torch.amp.autocast('cuda', args...)` instead.\n",
      "  with amp.autocast(autocast):\n",
      "/home/prasanna-nage/.cache/torch/hub/ultralytics_yolov5_master/models/common.py:892: FutureWarning: `torch.cuda.amp.autocast(args...)` is deprecated. Please use `torch.amp.autocast('cuda', args...)` instead.\n",
      "  with amp.autocast(autocast):\n"
     ]
    },
    {
     "name": "stdout",
     "output_type": "stream",
     "text": [
      "Saved frame 328.\n",
      "Saved frame 329.\n"
     ]
    },
    {
     "name": "stderr",
     "output_type": "stream",
     "text": [
      "/home/prasanna-nage/.cache/torch/hub/ultralytics_yolov5_master/models/common.py:892: FutureWarning: `torch.cuda.amp.autocast(args...)` is deprecated. Please use `torch.amp.autocast('cuda', args...)` instead.\n",
      "  with amp.autocast(autocast):\n",
      "/home/prasanna-nage/.cache/torch/hub/ultralytics_yolov5_master/models/common.py:892: FutureWarning: `torch.cuda.amp.autocast(args...)` is deprecated. Please use `torch.amp.autocast('cuda', args...)` instead.\n",
      "  with amp.autocast(autocast):\n"
     ]
    },
    {
     "name": "stdout",
     "output_type": "stream",
     "text": [
      "Saved frame 330.\n",
      "Saved frame 331.\n"
     ]
    },
    {
     "name": "stderr",
     "output_type": "stream",
     "text": [
      "/home/prasanna-nage/.cache/torch/hub/ultralytics_yolov5_master/models/common.py:892: FutureWarning: `torch.cuda.amp.autocast(args...)` is deprecated. Please use `torch.amp.autocast('cuda', args...)` instead.\n",
      "  with amp.autocast(autocast):\n",
      "/home/prasanna-nage/.cache/torch/hub/ultralytics_yolov5_master/models/common.py:892: FutureWarning: `torch.cuda.amp.autocast(args...)` is deprecated. Please use `torch.amp.autocast('cuda', args...)` instead.\n",
      "  with amp.autocast(autocast):\n"
     ]
    },
    {
     "name": "stdout",
     "output_type": "stream",
     "text": [
      "Saved frame 332.\n",
      "Saved frame 333.\n"
     ]
    },
    {
     "name": "stderr",
     "output_type": "stream",
     "text": [
      "/home/prasanna-nage/.cache/torch/hub/ultralytics_yolov5_master/models/common.py:892: FutureWarning: `torch.cuda.amp.autocast(args...)` is deprecated. Please use `torch.amp.autocast('cuda', args...)` instead.\n",
      "  with amp.autocast(autocast):\n",
      "/home/prasanna-nage/.cache/torch/hub/ultralytics_yolov5_master/models/common.py:892: FutureWarning: `torch.cuda.amp.autocast(args...)` is deprecated. Please use `torch.amp.autocast('cuda', args...)` instead.\n",
      "  with amp.autocast(autocast):\n",
      "/home/prasanna-nage/.cache/torch/hub/ultralytics_yolov5_master/models/common.py:892: FutureWarning: `torch.cuda.amp.autocast(args...)` is deprecated. Please use `torch.amp.autocast('cuda', args...)` instead.\n",
      "  with amp.autocast(autocast):\n"
     ]
    },
    {
     "name": "stdout",
     "output_type": "stream",
     "text": [
      "Saved frame 334.\n",
      "Saved frame 335.\n"
     ]
    },
    {
     "name": "stderr",
     "output_type": "stream",
     "text": [
      "/home/prasanna-nage/.cache/torch/hub/ultralytics_yolov5_master/models/common.py:892: FutureWarning: `torch.cuda.amp.autocast(args...)` is deprecated. Please use `torch.amp.autocast('cuda', args...)` instead.\n",
      "  with amp.autocast(autocast):\n",
      "/home/prasanna-nage/.cache/torch/hub/ultralytics_yolov5_master/models/common.py:892: FutureWarning: `torch.cuda.amp.autocast(args...)` is deprecated. Please use `torch.amp.autocast('cuda', args...)` instead.\n",
      "  with amp.autocast(autocast):\n"
     ]
    },
    {
     "name": "stdout",
     "output_type": "stream",
     "text": [
      "Saved frame 336.\n",
      "Saved frame 337.\n"
     ]
    },
    {
     "name": "stderr",
     "output_type": "stream",
     "text": [
      "/home/prasanna-nage/.cache/torch/hub/ultralytics_yolov5_master/models/common.py:892: FutureWarning: `torch.cuda.amp.autocast(args...)` is deprecated. Please use `torch.amp.autocast('cuda', args...)` instead.\n",
      "  with amp.autocast(autocast):\n",
      "/home/prasanna-nage/.cache/torch/hub/ultralytics_yolov5_master/models/common.py:892: FutureWarning: `torch.cuda.amp.autocast(args...)` is deprecated. Please use `torch.amp.autocast('cuda', args...)` instead.\n",
      "  with amp.autocast(autocast):\n"
     ]
    },
    {
     "name": "stdout",
     "output_type": "stream",
     "text": [
      "Saved frame 338.\n",
      "Saved frame 339.\n"
     ]
    },
    {
     "name": "stderr",
     "output_type": "stream",
     "text": [
      "/home/prasanna-nage/.cache/torch/hub/ultralytics_yolov5_master/models/common.py:892: FutureWarning: `torch.cuda.amp.autocast(args...)` is deprecated. Please use `torch.amp.autocast('cuda', args...)` instead.\n",
      "  with amp.autocast(autocast):\n",
      "/home/prasanna-nage/.cache/torch/hub/ultralytics_yolov5_master/models/common.py:892: FutureWarning: `torch.cuda.amp.autocast(args...)` is deprecated. Please use `torch.amp.autocast('cuda', args...)` instead.\n",
      "  with amp.autocast(autocast):\n"
     ]
    },
    {
     "name": "stdout",
     "output_type": "stream",
     "text": [
      "Saved frame 340.\n",
      "Saved frame 341.\n"
     ]
    },
    {
     "name": "stderr",
     "output_type": "stream",
     "text": [
      "/home/prasanna-nage/.cache/torch/hub/ultralytics_yolov5_master/models/common.py:892: FutureWarning: `torch.cuda.amp.autocast(args...)` is deprecated. Please use `torch.amp.autocast('cuda', args...)` instead.\n",
      "  with amp.autocast(autocast):\n",
      "/home/prasanna-nage/.cache/torch/hub/ultralytics_yolov5_master/models/common.py:892: FutureWarning: `torch.cuda.amp.autocast(args...)` is deprecated. Please use `torch.amp.autocast('cuda', args...)` instead.\n",
      "  with amp.autocast(autocast):\n"
     ]
    },
    {
     "name": "stdout",
     "output_type": "stream",
     "text": [
      "Saved frame 342.\n",
      "Saved frame 343.\n"
     ]
    },
    {
     "name": "stderr",
     "output_type": "stream",
     "text": [
      "/home/prasanna-nage/.cache/torch/hub/ultralytics_yolov5_master/models/common.py:892: FutureWarning: `torch.cuda.amp.autocast(args...)` is deprecated. Please use `torch.amp.autocast('cuda', args...)` instead.\n",
      "  with amp.autocast(autocast):\n",
      "/home/prasanna-nage/.cache/torch/hub/ultralytics_yolov5_master/models/common.py:892: FutureWarning: `torch.cuda.amp.autocast(args...)` is deprecated. Please use `torch.amp.autocast('cuda', args...)` instead.\n",
      "  with amp.autocast(autocast):\n",
      "/home/prasanna-nage/.cache/torch/hub/ultralytics_yolov5_master/models/common.py:892: FutureWarning: `torch.cuda.amp.autocast(args...)` is deprecated. Please use `torch.amp.autocast('cuda', args...)` instead.\n",
      "  with amp.autocast(autocast):\n"
     ]
    },
    {
     "name": "stdout",
     "output_type": "stream",
     "text": [
      "Saved frame 344.\n",
      "Saved frame 345.\n",
      "Saved frame 346.\n",
      "Saved frame 347.\n",
      "Saved frame 348.\n"
     ]
    },
    {
     "name": "stderr",
     "output_type": "stream",
     "text": [
      "/home/prasanna-nage/.cache/torch/hub/ultralytics_yolov5_master/models/common.py:892: FutureWarning: `torch.cuda.amp.autocast(args...)` is deprecated. Please use `torch.amp.autocast('cuda', args...)` instead.\n",
      "  with amp.autocast(autocast):\n",
      "/home/prasanna-nage/.cache/torch/hub/ultralytics_yolov5_master/models/common.py:892: FutureWarning: `torch.cuda.amp.autocast(args...)` is deprecated. Please use `torch.amp.autocast('cuda', args...)` instead.\n",
      "  with amp.autocast(autocast):\n",
      "/home/prasanna-nage/.cache/torch/hub/ultralytics_yolov5_master/models/common.py:892: FutureWarning: `torch.cuda.amp.autocast(args...)` is deprecated. Please use `torch.amp.autocast('cuda', args...)` instead.\n",
      "  with amp.autocast(autocast):\n"
     ]
    },
    {
     "name": "stdout",
     "output_type": "stream",
     "text": [
      "Saved frame 349.\n",
      "Saved frame 350.\n"
     ]
    },
    {
     "name": "stderr",
     "output_type": "stream",
     "text": [
      "/home/prasanna-nage/.cache/torch/hub/ultralytics_yolov5_master/models/common.py:892: FutureWarning: `torch.cuda.amp.autocast(args...)` is deprecated. Please use `torch.amp.autocast('cuda', args...)` instead.\n",
      "  with amp.autocast(autocast):\n",
      "/home/prasanna-nage/.cache/torch/hub/ultralytics_yolov5_master/models/common.py:892: FutureWarning: `torch.cuda.amp.autocast(args...)` is deprecated. Please use `torch.amp.autocast('cuda', args...)` instead.\n",
      "  with amp.autocast(autocast):\n"
     ]
    },
    {
     "name": "stdout",
     "output_type": "stream",
     "text": [
      "Saved frame 351.\n",
      "Saved frame 352.\n"
     ]
    },
    {
     "name": "stderr",
     "output_type": "stream",
     "text": [
      "/home/prasanna-nage/.cache/torch/hub/ultralytics_yolov5_master/models/common.py:892: FutureWarning: `torch.cuda.amp.autocast(args...)` is deprecated. Please use `torch.amp.autocast('cuda', args...)` instead.\n",
      "  with amp.autocast(autocast):\n",
      "/home/prasanna-nage/.cache/torch/hub/ultralytics_yolov5_master/models/common.py:892: FutureWarning: `torch.cuda.amp.autocast(args...)` is deprecated. Please use `torch.amp.autocast('cuda', args...)` instead.\n",
      "  with amp.autocast(autocast):\n"
     ]
    },
    {
     "name": "stdout",
     "output_type": "stream",
     "text": [
      "Saved frame 353.\n",
      "Saved frame 354.\n"
     ]
    },
    {
     "name": "stderr",
     "output_type": "stream",
     "text": [
      "/home/prasanna-nage/.cache/torch/hub/ultralytics_yolov5_master/models/common.py:892: FutureWarning: `torch.cuda.amp.autocast(args...)` is deprecated. Please use `torch.amp.autocast('cuda', args...)` instead.\n",
      "  with amp.autocast(autocast):\n",
      "/home/prasanna-nage/.cache/torch/hub/ultralytics_yolov5_master/models/common.py:892: FutureWarning: `torch.cuda.amp.autocast(args...)` is deprecated. Please use `torch.amp.autocast('cuda', args...)` instead.\n",
      "  with amp.autocast(autocast):\n",
      "/home/prasanna-nage/.cache/torch/hub/ultralytics_yolov5_master/models/common.py:892: FutureWarning: `torch.cuda.amp.autocast(args...)` is deprecated. Please use `torch.amp.autocast('cuda', args...)` instead.\n",
      "  with amp.autocast(autocast):\n"
     ]
    },
    {
     "name": "stdout",
     "output_type": "stream",
     "text": [
      "Saved frame 355.\n",
      "Saved frame 356.\n",
      "Saved frame 357.\n"
     ]
    },
    {
     "name": "stderr",
     "output_type": "stream",
     "text": [
      "/home/prasanna-nage/.cache/torch/hub/ultralytics_yolov5_master/models/common.py:892: FutureWarning: `torch.cuda.amp.autocast(args...)` is deprecated. Please use `torch.amp.autocast('cuda', args...)` instead.\n",
      "  with amp.autocast(autocast):\n",
      "/home/prasanna-nage/.cache/torch/hub/ultralytics_yolov5_master/models/common.py:892: FutureWarning: `torch.cuda.amp.autocast(args...)` is deprecated. Please use `torch.amp.autocast('cuda', args...)` instead.\n",
      "  with amp.autocast(autocast):\n"
     ]
    },
    {
     "name": "stdout",
     "output_type": "stream",
     "text": [
      "Saved frame 358.\n",
      "Saved frame 359.\n"
     ]
    },
    {
     "name": "stderr",
     "output_type": "stream",
     "text": [
      "/home/prasanna-nage/.cache/torch/hub/ultralytics_yolov5_master/models/common.py:892: FutureWarning: `torch.cuda.amp.autocast(args...)` is deprecated. Please use `torch.amp.autocast('cuda', args...)` instead.\n",
      "  with amp.autocast(autocast):\n",
      "/home/prasanna-nage/.cache/torch/hub/ultralytics_yolov5_master/models/common.py:892: FutureWarning: `torch.cuda.amp.autocast(args...)` is deprecated. Please use `torch.amp.autocast('cuda', args...)` instead.\n",
      "  with amp.autocast(autocast):\n",
      "/home/prasanna-nage/.cache/torch/hub/ultralytics_yolov5_master/models/common.py:892: FutureWarning: `torch.cuda.amp.autocast(args...)` is deprecated. Please use `torch.amp.autocast('cuda', args...)` instead.\n",
      "  with amp.autocast(autocast):\n"
     ]
    },
    {
     "name": "stdout",
     "output_type": "stream",
     "text": [
      "Saved frame 360.\n",
      "Saved frame 361.\n",
      "Saved frame 362.\n"
     ]
    },
    {
     "name": "stderr",
     "output_type": "stream",
     "text": [
      "/home/prasanna-nage/.cache/torch/hub/ultralytics_yolov5_master/models/common.py:892: FutureWarning: `torch.cuda.amp.autocast(args...)` is deprecated. Please use `torch.amp.autocast('cuda', args...)` instead.\n",
      "  with amp.autocast(autocast):\n",
      "/home/prasanna-nage/.cache/torch/hub/ultralytics_yolov5_master/models/common.py:892: FutureWarning: `torch.cuda.amp.autocast(args...)` is deprecated. Please use `torch.amp.autocast('cuda', args...)` instead.\n",
      "  with amp.autocast(autocast):\n",
      "/home/prasanna-nage/.cache/torch/hub/ultralytics_yolov5_master/models/common.py:892: FutureWarning: `torch.cuda.amp.autocast(args...)` is deprecated. Please use `torch.amp.autocast('cuda', args...)` instead.\n",
      "  with amp.autocast(autocast):\n"
     ]
    },
    {
     "name": "stdout",
     "output_type": "stream",
     "text": [
      "Saved frame 363.\n",
      "Saved frame 364.\n",
      "Saved frame 365.\n"
     ]
    },
    {
     "name": "stderr",
     "output_type": "stream",
     "text": [
      "/home/prasanna-nage/.cache/torch/hub/ultralytics_yolov5_master/models/common.py:892: FutureWarning: `torch.cuda.amp.autocast(args...)` is deprecated. Please use `torch.amp.autocast('cuda', args...)` instead.\n",
      "  with amp.autocast(autocast):\n",
      "/home/prasanna-nage/.cache/torch/hub/ultralytics_yolov5_master/models/common.py:892: FutureWarning: `torch.cuda.amp.autocast(args...)` is deprecated. Please use `torch.amp.autocast('cuda', args...)` instead.\n",
      "  with amp.autocast(autocast):\n",
      "/home/prasanna-nage/.cache/torch/hub/ultralytics_yolov5_master/models/common.py:892: FutureWarning: `torch.cuda.amp.autocast(args...)` is deprecated. Please use `torch.amp.autocast('cuda', args...)` instead.\n",
      "  with amp.autocast(autocast):\n"
     ]
    },
    {
     "name": "stdout",
     "output_type": "stream",
     "text": [
      "Saved frame 366.\n",
      "Saved frame 367.\n",
      "Saved frame 368.\n"
     ]
    },
    {
     "name": "stderr",
     "output_type": "stream",
     "text": [
      "/home/prasanna-nage/.cache/torch/hub/ultralytics_yolov5_master/models/common.py:892: FutureWarning: `torch.cuda.amp.autocast(args...)` is deprecated. Please use `torch.amp.autocast('cuda', args...)` instead.\n",
      "  with amp.autocast(autocast):\n",
      "/home/prasanna-nage/.cache/torch/hub/ultralytics_yolov5_master/models/common.py:892: FutureWarning: `torch.cuda.amp.autocast(args...)` is deprecated. Please use `torch.amp.autocast('cuda', args...)` instead.\n",
      "  with amp.autocast(autocast):\n",
      "/home/prasanna-nage/.cache/torch/hub/ultralytics_yolov5_master/models/common.py:892: FutureWarning: `torch.cuda.amp.autocast(args...)` is deprecated. Please use `torch.amp.autocast('cuda', args...)` instead.\n",
      "  with amp.autocast(autocast):\n"
     ]
    },
    {
     "name": "stdout",
     "output_type": "stream",
     "text": [
      "Saved frame 369.\n",
      "Saved frame 370.\n"
     ]
    },
    {
     "name": "stderr",
     "output_type": "stream",
     "text": [
      "/home/prasanna-nage/.cache/torch/hub/ultralytics_yolov5_master/models/common.py:892: FutureWarning: `torch.cuda.amp.autocast(args...)` is deprecated. Please use `torch.amp.autocast('cuda', args...)` instead.\n",
      "  with amp.autocast(autocast):\n",
      "/home/prasanna-nage/.cache/torch/hub/ultralytics_yolov5_master/models/common.py:892: FutureWarning: `torch.cuda.amp.autocast(args...)` is deprecated. Please use `torch.amp.autocast('cuda', args...)` instead.\n",
      "  with amp.autocast(autocast):\n",
      "/home/prasanna-nage/.cache/torch/hub/ultralytics_yolov5_master/models/common.py:892: FutureWarning: `torch.cuda.amp.autocast(args...)` is deprecated. Please use `torch.amp.autocast('cuda', args...)` instead.\n",
      "  with amp.autocast(autocast):\n"
     ]
    },
    {
     "name": "stdout",
     "output_type": "stream",
     "text": [
      "Saved frame 371.\n",
      "Saved frame 372.\n",
      "Saved frame 373.\n",
      "Saved frame 374.\n"
     ]
    },
    {
     "name": "stderr",
     "output_type": "stream",
     "text": [
      "/home/prasanna-nage/.cache/torch/hub/ultralytics_yolov5_master/models/common.py:892: FutureWarning: `torch.cuda.amp.autocast(args...)` is deprecated. Please use `torch.amp.autocast('cuda', args...)` instead.\n",
      "  with amp.autocast(autocast):\n",
      "/home/prasanna-nage/.cache/torch/hub/ultralytics_yolov5_master/models/common.py:892: FutureWarning: `torch.cuda.amp.autocast(args...)` is deprecated. Please use `torch.amp.autocast('cuda', args...)` instead.\n",
      "  with amp.autocast(autocast):\n"
     ]
    },
    {
     "name": "stdout",
     "output_type": "stream",
     "text": [
      "Saved frame 375.\n",
      "Saved frame 376.\n"
     ]
    },
    {
     "name": "stderr",
     "output_type": "stream",
     "text": [
      "/home/prasanna-nage/.cache/torch/hub/ultralytics_yolov5_master/models/common.py:892: FutureWarning: `torch.cuda.amp.autocast(args...)` is deprecated. Please use `torch.amp.autocast('cuda', args...)` instead.\n",
      "  with amp.autocast(autocast):\n",
      "/home/prasanna-nage/.cache/torch/hub/ultralytics_yolov5_master/models/common.py:892: FutureWarning: `torch.cuda.amp.autocast(args...)` is deprecated. Please use `torch.amp.autocast('cuda', args...)` instead.\n",
      "  with amp.autocast(autocast):\n"
     ]
    },
    {
     "name": "stdout",
     "output_type": "stream",
     "text": [
      "Saved frame 377.\n",
      "Saved frame 378.\n"
     ]
    },
    {
     "name": "stderr",
     "output_type": "stream",
     "text": [
      "/home/prasanna-nage/.cache/torch/hub/ultralytics_yolov5_master/models/common.py:892: FutureWarning: `torch.cuda.amp.autocast(args...)` is deprecated. Please use `torch.amp.autocast('cuda', args...)` instead.\n",
      "  with amp.autocast(autocast):\n",
      "/home/prasanna-nage/.cache/torch/hub/ultralytics_yolov5_master/models/common.py:892: FutureWarning: `torch.cuda.amp.autocast(args...)` is deprecated. Please use `torch.amp.autocast('cuda', args...)` instead.\n",
      "  with amp.autocast(autocast):\n"
     ]
    },
    {
     "name": "stdout",
     "output_type": "stream",
     "text": [
      "Saved frame 379.\n",
      "Saved frame 380.\n"
     ]
    },
    {
     "name": "stderr",
     "output_type": "stream",
     "text": [
      "/home/prasanna-nage/.cache/torch/hub/ultralytics_yolov5_master/models/common.py:892: FutureWarning: `torch.cuda.amp.autocast(args...)` is deprecated. Please use `torch.amp.autocast('cuda', args...)` instead.\n",
      "  with amp.autocast(autocast):\n",
      "/home/prasanna-nage/.cache/torch/hub/ultralytics_yolov5_master/models/common.py:892: FutureWarning: `torch.cuda.amp.autocast(args...)` is deprecated. Please use `torch.amp.autocast('cuda', args...)` instead.\n",
      "  with amp.autocast(autocast):\n"
     ]
    },
    {
     "name": "stdout",
     "output_type": "stream",
     "text": [
      "Saved frame 381.\n",
      "Saved frame 382.\n"
     ]
    },
    {
     "name": "stderr",
     "output_type": "stream",
     "text": [
      "/home/prasanna-nage/.cache/torch/hub/ultralytics_yolov5_master/models/common.py:892: FutureWarning: `torch.cuda.amp.autocast(args...)` is deprecated. Please use `torch.amp.autocast('cuda', args...)` instead.\n",
      "  with amp.autocast(autocast):\n",
      "/home/prasanna-nage/.cache/torch/hub/ultralytics_yolov5_master/models/common.py:892: FutureWarning: `torch.cuda.amp.autocast(args...)` is deprecated. Please use `torch.amp.autocast('cuda', args...)` instead.\n",
      "  with amp.autocast(autocast):\n"
     ]
    },
    {
     "name": "stdout",
     "output_type": "stream",
     "text": [
      "Saved frame 383.\n",
      "Saved frame 384.\n"
     ]
    },
    {
     "name": "stderr",
     "output_type": "stream",
     "text": [
      "/home/prasanna-nage/.cache/torch/hub/ultralytics_yolov5_master/models/common.py:892: FutureWarning: `torch.cuda.amp.autocast(args...)` is deprecated. Please use `torch.amp.autocast('cuda', args...)` instead.\n",
      "  with amp.autocast(autocast):\n",
      "/home/prasanna-nage/.cache/torch/hub/ultralytics_yolov5_master/models/common.py:892: FutureWarning: `torch.cuda.amp.autocast(args...)` is deprecated. Please use `torch.amp.autocast('cuda', args...)` instead.\n",
      "  with amp.autocast(autocast):\n"
     ]
    },
    {
     "name": "stdout",
     "output_type": "stream",
     "text": [
      "Saved frame 385.\n",
      "Saved frame 386.\n",
      "Saved frame 387.\n"
     ]
    },
    {
     "name": "stderr",
     "output_type": "stream",
     "text": [
      "/home/prasanna-nage/.cache/torch/hub/ultralytics_yolov5_master/models/common.py:892: FutureWarning: `torch.cuda.amp.autocast(args...)` is deprecated. Please use `torch.amp.autocast('cuda', args...)` instead.\n",
      "  with amp.autocast(autocast):\n",
      "/home/prasanna-nage/.cache/torch/hub/ultralytics_yolov5_master/models/common.py:892: FutureWarning: `torch.cuda.amp.autocast(args...)` is deprecated. Please use `torch.amp.autocast('cuda', args...)` instead.\n",
      "  with amp.autocast(autocast):\n",
      "/home/prasanna-nage/.cache/torch/hub/ultralytics_yolov5_master/models/common.py:892: FutureWarning: `torch.cuda.amp.autocast(args...)` is deprecated. Please use `torch.amp.autocast('cuda', args...)` instead.\n",
      "  with amp.autocast(autocast):\n"
     ]
    },
    {
     "name": "stdout",
     "output_type": "stream",
     "text": [
      "Saved frame 388.\n",
      "Saved frame 389.\n",
      "Saved frame 390.\n"
     ]
    },
    {
     "name": "stderr",
     "output_type": "stream",
     "text": [
      "/home/prasanna-nage/.cache/torch/hub/ultralytics_yolov5_master/models/common.py:892: FutureWarning: `torch.cuda.amp.autocast(args...)` is deprecated. Please use `torch.amp.autocast('cuda', args...)` instead.\n",
      "  with amp.autocast(autocast):\n",
      "/home/prasanna-nage/.cache/torch/hub/ultralytics_yolov5_master/models/common.py:892: FutureWarning: `torch.cuda.amp.autocast(args...)` is deprecated. Please use `torch.amp.autocast('cuda', args...)` instead.\n",
      "  with amp.autocast(autocast):\n",
      "/home/prasanna-nage/.cache/torch/hub/ultralytics_yolov5_master/models/common.py:892: FutureWarning: `torch.cuda.amp.autocast(args...)` is deprecated. Please use `torch.amp.autocast('cuda', args...)` instead.\n",
      "  with amp.autocast(autocast):\n"
     ]
    },
    {
     "name": "stdout",
     "output_type": "stream",
     "text": [
      "Saved frame 391.\n",
      "Saved frame 392.\n",
      "Saved frame 393.\n"
     ]
    },
    {
     "name": "stderr",
     "output_type": "stream",
     "text": [
      "/home/prasanna-nage/.cache/torch/hub/ultralytics_yolov5_master/models/common.py:892: FutureWarning: `torch.cuda.amp.autocast(args...)` is deprecated. Please use `torch.amp.autocast('cuda', args...)` instead.\n",
      "  with amp.autocast(autocast):\n",
      "/home/prasanna-nage/.cache/torch/hub/ultralytics_yolov5_master/models/common.py:892: FutureWarning: `torch.cuda.amp.autocast(args...)` is deprecated. Please use `torch.amp.autocast('cuda', args...)` instead.\n",
      "  with amp.autocast(autocast):\n",
      "/home/prasanna-nage/.cache/torch/hub/ultralytics_yolov5_master/models/common.py:892: FutureWarning: `torch.cuda.amp.autocast(args...)` is deprecated. Please use `torch.amp.autocast('cuda', args...)` instead.\n",
      "  with amp.autocast(autocast):\n"
     ]
    },
    {
     "name": "stdout",
     "output_type": "stream",
     "text": [
      "Saved frame 394.\n",
      "Saved frame 395.\n"
     ]
    },
    {
     "name": "stderr",
     "output_type": "stream",
     "text": [
      "/home/prasanna-nage/.cache/torch/hub/ultralytics_yolov5_master/models/common.py:892: FutureWarning: `torch.cuda.amp.autocast(args...)` is deprecated. Please use `torch.amp.autocast('cuda', args...)` instead.\n",
      "  with amp.autocast(autocast):\n",
      "/home/prasanna-nage/.cache/torch/hub/ultralytics_yolov5_master/models/common.py:892: FutureWarning: `torch.cuda.amp.autocast(args...)` is deprecated. Please use `torch.amp.autocast('cuda', args...)` instead.\n",
      "  with amp.autocast(autocast):\n"
     ]
    },
    {
     "name": "stdout",
     "output_type": "stream",
     "text": [
      "Saved frame 396.\n",
      "Saved frame 397.\n",
      "Saved frame 398.\n"
     ]
    },
    {
     "name": "stderr",
     "output_type": "stream",
     "text": [
      "/home/prasanna-nage/.cache/torch/hub/ultralytics_yolov5_master/models/common.py:892: FutureWarning: `torch.cuda.amp.autocast(args...)` is deprecated. Please use `torch.amp.autocast('cuda', args...)` instead.\n",
      "  with amp.autocast(autocast):\n",
      "/home/prasanna-nage/.cache/torch/hub/ultralytics_yolov5_master/models/common.py:892: FutureWarning: `torch.cuda.amp.autocast(args...)` is deprecated. Please use `torch.amp.autocast('cuda', args...)` instead.\n",
      "  with amp.autocast(autocast):\n",
      "/home/prasanna-nage/.cache/torch/hub/ultralytics_yolov5_master/models/common.py:892: FutureWarning: `torch.cuda.amp.autocast(args...)` is deprecated. Please use `torch.amp.autocast('cuda', args...)` instead.\n",
      "  with amp.autocast(autocast):\n"
     ]
    },
    {
     "name": "stdout",
     "output_type": "stream",
     "text": [
      "Saved frame 399.\n",
      "Saved frame 400.\n",
      "Saved frame 401.\n"
     ]
    },
    {
     "name": "stderr",
     "output_type": "stream",
     "text": [
      "/home/prasanna-nage/.cache/torch/hub/ultralytics_yolov5_master/models/common.py:892: FutureWarning: `torch.cuda.amp.autocast(args...)` is deprecated. Please use `torch.amp.autocast('cuda', args...)` instead.\n",
      "  with amp.autocast(autocast):\n",
      "/home/prasanna-nage/.cache/torch/hub/ultralytics_yolov5_master/models/common.py:892: FutureWarning: `torch.cuda.amp.autocast(args...)` is deprecated. Please use `torch.amp.autocast('cuda', args...)` instead.\n",
      "  with amp.autocast(autocast):\n",
      "/home/prasanna-nage/.cache/torch/hub/ultralytics_yolov5_master/models/common.py:892: FutureWarning: `torch.cuda.amp.autocast(args...)` is deprecated. Please use `torch.amp.autocast('cuda', args...)` instead.\n",
      "  with amp.autocast(autocast):\n"
     ]
    },
    {
     "name": "stdout",
     "output_type": "stream",
     "text": [
      "Saved frame 402.\n",
      "Saved frame 403.\n"
     ]
    },
    {
     "name": "stderr",
     "output_type": "stream",
     "text": [
      "/home/prasanna-nage/.cache/torch/hub/ultralytics_yolov5_master/models/common.py:892: FutureWarning: `torch.cuda.amp.autocast(args...)` is deprecated. Please use `torch.amp.autocast('cuda', args...)` instead.\n",
      "  with amp.autocast(autocast):\n",
      "/home/prasanna-nage/.cache/torch/hub/ultralytics_yolov5_master/models/common.py:892: FutureWarning: `torch.cuda.amp.autocast(args...)` is deprecated. Please use `torch.amp.autocast('cuda', args...)` instead.\n",
      "  with amp.autocast(autocast):\n"
     ]
    },
    {
     "name": "stdout",
     "output_type": "stream",
     "text": [
      "Saved frame 404.\n",
      "Saved frame 405.\n",
      "Saved frame 406.\n"
     ]
    },
    {
     "name": "stderr",
     "output_type": "stream",
     "text": [
      "/home/prasanna-nage/.cache/torch/hub/ultralytics_yolov5_master/models/common.py:892: FutureWarning: `torch.cuda.amp.autocast(args...)` is deprecated. Please use `torch.amp.autocast('cuda', args...)` instead.\n",
      "  with amp.autocast(autocast):\n",
      "/home/prasanna-nage/.cache/torch/hub/ultralytics_yolov5_master/models/common.py:892: FutureWarning: `torch.cuda.amp.autocast(args...)` is deprecated. Please use `torch.amp.autocast('cuda', args...)` instead.\n",
      "  with amp.autocast(autocast):\n",
      "/home/prasanna-nage/.cache/torch/hub/ultralytics_yolov5_master/models/common.py:892: FutureWarning: `torch.cuda.amp.autocast(args...)` is deprecated. Please use `torch.amp.autocast('cuda', args...)` instead.\n",
      "  with amp.autocast(autocast):\n"
     ]
    },
    {
     "name": "stdout",
     "output_type": "stream",
     "text": [
      "Saved frame 407.\n",
      "Saved frame 408.\n",
      "Saved frame 409.\n"
     ]
    },
    {
     "name": "stderr",
     "output_type": "stream",
     "text": [
      "/home/prasanna-nage/.cache/torch/hub/ultralytics_yolov5_master/models/common.py:892: FutureWarning: `torch.cuda.amp.autocast(args...)` is deprecated. Please use `torch.amp.autocast('cuda', args...)` instead.\n",
      "  with amp.autocast(autocast):\n",
      "/home/prasanna-nage/.cache/torch/hub/ultralytics_yolov5_master/models/common.py:892: FutureWarning: `torch.cuda.amp.autocast(args...)` is deprecated. Please use `torch.amp.autocast('cuda', args...)` instead.\n",
      "  with amp.autocast(autocast):\n",
      "/home/prasanna-nage/.cache/torch/hub/ultralytics_yolov5_master/models/common.py:892: FutureWarning: `torch.cuda.amp.autocast(args...)` is deprecated. Please use `torch.amp.autocast('cuda', args...)` instead.\n",
      "  with amp.autocast(autocast):\n"
     ]
    },
    {
     "name": "stdout",
     "output_type": "stream",
     "text": [
      "Saved frame 410.\n",
      "Saved frame 411.\n"
     ]
    },
    {
     "name": "stderr",
     "output_type": "stream",
     "text": [
      "/home/prasanna-nage/.cache/torch/hub/ultralytics_yolov5_master/models/common.py:892: FutureWarning: `torch.cuda.amp.autocast(args...)` is deprecated. Please use `torch.amp.autocast('cuda', args...)` instead.\n",
      "  with amp.autocast(autocast):\n",
      "/home/prasanna-nage/.cache/torch/hub/ultralytics_yolov5_master/models/common.py:892: FutureWarning: `torch.cuda.amp.autocast(args...)` is deprecated. Please use `torch.amp.autocast('cuda', args...)` instead.\n",
      "  with amp.autocast(autocast):\n"
     ]
    },
    {
     "name": "stdout",
     "output_type": "stream",
     "text": [
      "Saved frame 412.\n",
      "Saved frame 413.\n"
     ]
    },
    {
     "name": "stderr",
     "output_type": "stream",
     "text": [
      "/home/prasanna-nage/.cache/torch/hub/ultralytics_yolov5_master/models/common.py:892: FutureWarning: `torch.cuda.amp.autocast(args...)` is deprecated. Please use `torch.amp.autocast('cuda', args...)` instead.\n",
      "  with amp.autocast(autocast):\n",
      "/home/prasanna-nage/.cache/torch/hub/ultralytics_yolov5_master/models/common.py:892: FutureWarning: `torch.cuda.amp.autocast(args...)` is deprecated. Please use `torch.amp.autocast('cuda', args...)` instead.\n",
      "  with amp.autocast(autocast):\n"
     ]
    },
    {
     "name": "stdout",
     "output_type": "stream",
     "text": [
      "Saved frame 414.\n",
      "Saved frame 415.\n"
     ]
    },
    {
     "name": "stderr",
     "output_type": "stream",
     "text": [
      "/home/prasanna-nage/.cache/torch/hub/ultralytics_yolov5_master/models/common.py:892: FutureWarning: `torch.cuda.amp.autocast(args...)` is deprecated. Please use `torch.amp.autocast('cuda', args...)` instead.\n",
      "  with amp.autocast(autocast):\n",
      "/home/prasanna-nage/.cache/torch/hub/ultralytics_yolov5_master/models/common.py:892: FutureWarning: `torch.cuda.amp.autocast(args...)` is deprecated. Please use `torch.amp.autocast('cuda', args...)` instead.\n",
      "  with amp.autocast(autocast):\n"
     ]
    },
    {
     "name": "stdout",
     "output_type": "stream",
     "text": [
      "Saved frame 416.\n",
      "Saved frame 417.\n"
     ]
    },
    {
     "name": "stderr",
     "output_type": "stream",
     "text": [
      "/home/prasanna-nage/.cache/torch/hub/ultralytics_yolov5_master/models/common.py:892: FutureWarning: `torch.cuda.amp.autocast(args...)` is deprecated. Please use `torch.amp.autocast('cuda', args...)` instead.\n",
      "  with amp.autocast(autocast):\n",
      "/home/prasanna-nage/.cache/torch/hub/ultralytics_yolov5_master/models/common.py:892: FutureWarning: `torch.cuda.amp.autocast(args...)` is deprecated. Please use `torch.amp.autocast('cuda', args...)` instead.\n",
      "  with amp.autocast(autocast):\n"
     ]
    },
    {
     "name": "stdout",
     "output_type": "stream",
     "text": [
      "Saved frame 418.\n",
      "Saved frame 419.\n",
      "Saved frame 420.\n"
     ]
    },
    {
     "name": "stderr",
     "output_type": "stream",
     "text": [
      "/home/prasanna-nage/.cache/torch/hub/ultralytics_yolov5_master/models/common.py:892: FutureWarning: `torch.cuda.amp.autocast(args...)` is deprecated. Please use `torch.amp.autocast('cuda', args...)` instead.\n",
      "  with amp.autocast(autocast):\n",
      "/home/prasanna-nage/.cache/torch/hub/ultralytics_yolov5_master/models/common.py:892: FutureWarning: `torch.cuda.amp.autocast(args...)` is deprecated. Please use `torch.amp.autocast('cuda', args...)` instead.\n",
      "  with amp.autocast(autocast):\n",
      "/home/prasanna-nage/.cache/torch/hub/ultralytics_yolov5_master/models/common.py:892: FutureWarning: `torch.cuda.amp.autocast(args...)` is deprecated. Please use `torch.amp.autocast('cuda', args...)` instead.\n",
      "  with amp.autocast(autocast):\n"
     ]
    },
    {
     "name": "stdout",
     "output_type": "stream",
     "text": [
      "Saved frame 421.\n",
      "Saved frame 422.\n",
      "Saved frame 423.\n"
     ]
    },
    {
     "name": "stderr",
     "output_type": "stream",
     "text": [
      "/home/prasanna-nage/.cache/torch/hub/ultralytics_yolov5_master/models/common.py:892: FutureWarning: `torch.cuda.amp.autocast(args...)` is deprecated. Please use `torch.amp.autocast('cuda', args...)` instead.\n",
      "  with amp.autocast(autocast):\n",
      "/home/prasanna-nage/.cache/torch/hub/ultralytics_yolov5_master/models/common.py:892: FutureWarning: `torch.cuda.amp.autocast(args...)` is deprecated. Please use `torch.amp.autocast('cuda', args...)` instead.\n",
      "  with amp.autocast(autocast):\n",
      "/home/prasanna-nage/.cache/torch/hub/ultralytics_yolov5_master/models/common.py:892: FutureWarning: `torch.cuda.amp.autocast(args...)` is deprecated. Please use `torch.amp.autocast('cuda', args...)` instead.\n",
      "  with amp.autocast(autocast):\n"
     ]
    },
    {
     "name": "stdout",
     "output_type": "stream",
     "text": [
      "Saved frame 424.\n",
      "Saved frame 425.\n",
      "Saved frame 426.\n"
     ]
    },
    {
     "name": "stderr",
     "output_type": "stream",
     "text": [
      "/home/prasanna-nage/.cache/torch/hub/ultralytics_yolov5_master/models/common.py:892: FutureWarning: `torch.cuda.amp.autocast(args...)` is deprecated. Please use `torch.amp.autocast('cuda', args...)` instead.\n",
      "  with amp.autocast(autocast):\n",
      "/home/prasanna-nage/.cache/torch/hub/ultralytics_yolov5_master/models/common.py:892: FutureWarning: `torch.cuda.amp.autocast(args...)` is deprecated. Please use `torch.amp.autocast('cuda', args...)` instead.\n",
      "  with amp.autocast(autocast):\n",
      "/home/prasanna-nage/.cache/torch/hub/ultralytics_yolov5_master/models/common.py:892: FutureWarning: `torch.cuda.amp.autocast(args...)` is deprecated. Please use `torch.amp.autocast('cuda', args...)` instead.\n",
      "  with amp.autocast(autocast):\n"
     ]
    },
    {
     "name": "stdout",
     "output_type": "stream",
     "text": [
      "Saved frame 427.\n",
      "Saved frame 428.\n",
      "Saved frame 429.\n"
     ]
    },
    {
     "name": "stderr",
     "output_type": "stream",
     "text": [
      "/home/prasanna-nage/.cache/torch/hub/ultralytics_yolov5_master/models/common.py:892: FutureWarning: `torch.cuda.amp.autocast(args...)` is deprecated. Please use `torch.amp.autocast('cuda', args...)` instead.\n",
      "  with amp.autocast(autocast):\n",
      "/home/prasanna-nage/.cache/torch/hub/ultralytics_yolov5_master/models/common.py:892: FutureWarning: `torch.cuda.amp.autocast(args...)` is deprecated. Please use `torch.amp.autocast('cuda', args...)` instead.\n",
      "  with amp.autocast(autocast):\n",
      "/home/prasanna-nage/.cache/torch/hub/ultralytics_yolov5_master/models/common.py:892: FutureWarning: `torch.cuda.amp.autocast(args...)` is deprecated. Please use `torch.amp.autocast('cuda', args...)` instead.\n",
      "  with amp.autocast(autocast):\n"
     ]
    },
    {
     "name": "stdout",
     "output_type": "stream",
     "text": [
      "Saved frame 430.\n",
      "Saved frame 431.\n"
     ]
    },
    {
     "name": "stderr",
     "output_type": "stream",
     "text": [
      "/home/prasanna-nage/.cache/torch/hub/ultralytics_yolov5_master/models/common.py:892: FutureWarning: `torch.cuda.amp.autocast(args...)` is deprecated. Please use `torch.amp.autocast('cuda', args...)` instead.\n",
      "  with amp.autocast(autocast):\n",
      "/home/prasanna-nage/.cache/torch/hub/ultralytics_yolov5_master/models/common.py:892: FutureWarning: `torch.cuda.amp.autocast(args...)` is deprecated. Please use `torch.amp.autocast('cuda', args...)` instead.\n",
      "  with amp.autocast(autocast):\n",
      "/home/prasanna-nage/.cache/torch/hub/ultralytics_yolov5_master/models/common.py:892: FutureWarning: `torch.cuda.amp.autocast(args...)` is deprecated. Please use `torch.amp.autocast('cuda', args...)` instead.\n",
      "  with amp.autocast(autocast):\n"
     ]
    },
    {
     "name": "stdout",
     "output_type": "stream",
     "text": [
      "Saved frame 432.\n",
      "Saved frame 433.\n"
     ]
    },
    {
     "name": "stderr",
     "output_type": "stream",
     "text": [
      "/home/prasanna-nage/.cache/torch/hub/ultralytics_yolov5_master/models/common.py:892: FutureWarning: `torch.cuda.amp.autocast(args...)` is deprecated. Please use `torch.amp.autocast('cuda', args...)` instead.\n",
      "  with amp.autocast(autocast):\n",
      "/home/prasanna-nage/.cache/torch/hub/ultralytics_yolov5_master/models/common.py:892: FutureWarning: `torch.cuda.amp.autocast(args...)` is deprecated. Please use `torch.amp.autocast('cuda', args...)` instead.\n",
      "  with amp.autocast(autocast):\n"
     ]
    },
    {
     "name": "stdout",
     "output_type": "stream",
     "text": [
      "Saved frame 434.\n",
      "Saved frame 435.\n",
      "Saved frame 436.\n"
     ]
    },
    {
     "name": "stderr",
     "output_type": "stream",
     "text": [
      "/home/prasanna-nage/.cache/torch/hub/ultralytics_yolov5_master/models/common.py:892: FutureWarning: `torch.cuda.amp.autocast(args...)` is deprecated. Please use `torch.amp.autocast('cuda', args...)` instead.\n",
      "  with amp.autocast(autocast):\n",
      "/home/prasanna-nage/.cache/torch/hub/ultralytics_yolov5_master/models/common.py:892: FutureWarning: `torch.cuda.amp.autocast(args...)` is deprecated. Please use `torch.amp.autocast('cuda', args...)` instead.\n",
      "  with amp.autocast(autocast):\n",
      "/home/prasanna-nage/.cache/torch/hub/ultralytics_yolov5_master/models/common.py:892: FutureWarning: `torch.cuda.amp.autocast(args...)` is deprecated. Please use `torch.amp.autocast('cuda', args...)` instead.\n",
      "  with amp.autocast(autocast):\n"
     ]
    },
    {
     "name": "stdout",
     "output_type": "stream",
     "text": [
      "Saved frame 437.\n",
      "Saved frame 438.\n"
     ]
    },
    {
     "name": "stderr",
     "output_type": "stream",
     "text": [
      "/home/prasanna-nage/.cache/torch/hub/ultralytics_yolov5_master/models/common.py:892: FutureWarning: `torch.cuda.amp.autocast(args...)` is deprecated. Please use `torch.amp.autocast('cuda', args...)` instead.\n",
      "  with amp.autocast(autocast):\n",
      "/home/prasanna-nage/.cache/torch/hub/ultralytics_yolov5_master/models/common.py:892: FutureWarning: `torch.cuda.amp.autocast(args...)` is deprecated. Please use `torch.amp.autocast('cuda', args...)` instead.\n",
      "  with amp.autocast(autocast):\n"
     ]
    },
    {
     "name": "stdout",
     "output_type": "stream",
     "text": [
      "Saved frame 439.\n",
      "Saved frame 440.\n"
     ]
    },
    {
     "name": "stderr",
     "output_type": "stream",
     "text": [
      "/home/prasanna-nage/.cache/torch/hub/ultralytics_yolov5_master/models/common.py:892: FutureWarning: `torch.cuda.amp.autocast(args...)` is deprecated. Please use `torch.amp.autocast('cuda', args...)` instead.\n",
      "  with amp.autocast(autocast):\n",
      "/home/prasanna-nage/.cache/torch/hub/ultralytics_yolov5_master/models/common.py:892: FutureWarning: `torch.cuda.amp.autocast(args...)` is deprecated. Please use `torch.amp.autocast('cuda', args...)` instead.\n",
      "  with amp.autocast(autocast):\n"
     ]
    },
    {
     "name": "stdout",
     "output_type": "stream",
     "text": [
      "Saved frame 441.\n",
      "Saved frame 442.\n"
     ]
    },
    {
     "name": "stderr",
     "output_type": "stream",
     "text": [
      "/home/prasanna-nage/.cache/torch/hub/ultralytics_yolov5_master/models/common.py:892: FutureWarning: `torch.cuda.amp.autocast(args...)` is deprecated. Please use `torch.amp.autocast('cuda', args...)` instead.\n",
      "  with amp.autocast(autocast):\n",
      "/home/prasanna-nage/.cache/torch/hub/ultralytics_yolov5_master/models/common.py:892: FutureWarning: `torch.cuda.amp.autocast(args...)` is deprecated. Please use `torch.amp.autocast('cuda', args...)` instead.\n",
      "  with amp.autocast(autocast):\n"
     ]
    },
    {
     "name": "stdout",
     "output_type": "stream",
     "text": [
      "Saved frame 443.\n",
      "Saved frame 444.\n"
     ]
    },
    {
     "name": "stderr",
     "output_type": "stream",
     "text": [
      "/home/prasanna-nage/.cache/torch/hub/ultralytics_yolov5_master/models/common.py:892: FutureWarning: `torch.cuda.amp.autocast(args...)` is deprecated. Please use `torch.amp.autocast('cuda', args...)` instead.\n",
      "  with amp.autocast(autocast):\n",
      "/home/prasanna-nage/.cache/torch/hub/ultralytics_yolov5_master/models/common.py:892: FutureWarning: `torch.cuda.amp.autocast(args...)` is deprecated. Please use `torch.amp.autocast('cuda', args...)` instead.\n",
      "  with amp.autocast(autocast):\n"
     ]
    },
    {
     "name": "stdout",
     "output_type": "stream",
     "text": [
      "Saved frame 445.\n",
      "Saved frame 446.\n"
     ]
    },
    {
     "name": "stderr",
     "output_type": "stream",
     "text": [
      "/home/prasanna-nage/.cache/torch/hub/ultralytics_yolov5_master/models/common.py:892: FutureWarning: `torch.cuda.amp.autocast(args...)` is deprecated. Please use `torch.amp.autocast('cuda', args...)` instead.\n",
      "  with amp.autocast(autocast):\n",
      "/home/prasanna-nage/.cache/torch/hub/ultralytics_yolov5_master/models/common.py:892: FutureWarning: `torch.cuda.amp.autocast(args...)` is deprecated. Please use `torch.amp.autocast('cuda', args...)` instead.\n",
      "  with amp.autocast(autocast):\n",
      "/home/prasanna-nage/.cache/torch/hub/ultralytics_yolov5_master/models/common.py:892: FutureWarning: `torch.cuda.amp.autocast(args...)` is deprecated. Please use `torch.amp.autocast('cuda', args...)` instead.\n",
      "  with amp.autocast(autocast):\n"
     ]
    },
    {
     "name": "stdout",
     "output_type": "stream",
     "text": [
      "Saved frame 447.\n",
      "Saved frame 448.\n",
      "Saved frame 449.\n"
     ]
    },
    {
     "name": "stderr",
     "output_type": "stream",
     "text": [
      "/home/prasanna-nage/.cache/torch/hub/ultralytics_yolov5_master/models/common.py:892: FutureWarning: `torch.cuda.amp.autocast(args...)` is deprecated. Please use `torch.amp.autocast('cuda', args...)` instead.\n",
      "  with amp.autocast(autocast):\n",
      "/home/prasanna-nage/.cache/torch/hub/ultralytics_yolov5_master/models/common.py:892: FutureWarning: `torch.cuda.amp.autocast(args...)` is deprecated. Please use `torch.amp.autocast('cuda', args...)` instead.\n",
      "  with amp.autocast(autocast):\n"
     ]
    },
    {
     "name": "stdout",
     "output_type": "stream",
     "text": [
      "Saved frame 450.\n",
      "Saved frame 451.\n"
     ]
    },
    {
     "name": "stderr",
     "output_type": "stream",
     "text": [
      "/home/prasanna-nage/.cache/torch/hub/ultralytics_yolov5_master/models/common.py:892: FutureWarning: `torch.cuda.amp.autocast(args...)` is deprecated. Please use `torch.amp.autocast('cuda', args...)` instead.\n",
      "  with amp.autocast(autocast):\n",
      "/home/prasanna-nage/.cache/torch/hub/ultralytics_yolov5_master/models/common.py:892: FutureWarning: `torch.cuda.amp.autocast(args...)` is deprecated. Please use `torch.amp.autocast('cuda', args...)` instead.\n",
      "  with amp.autocast(autocast):\n"
     ]
    },
    {
     "name": "stdout",
     "output_type": "stream",
     "text": [
      "Saved frame 452.\n",
      "Saved frame 453.\n"
     ]
    },
    {
     "name": "stderr",
     "output_type": "stream",
     "text": [
      "/home/prasanna-nage/.cache/torch/hub/ultralytics_yolov5_master/models/common.py:892: FutureWarning: `torch.cuda.amp.autocast(args...)` is deprecated. Please use `torch.amp.autocast('cuda', args...)` instead.\n",
      "  with amp.autocast(autocast):\n",
      "/home/prasanna-nage/.cache/torch/hub/ultralytics_yolov5_master/models/common.py:892: FutureWarning: `torch.cuda.amp.autocast(args...)` is deprecated. Please use `torch.amp.autocast('cuda', args...)` instead.\n",
      "  with amp.autocast(autocast):\n"
     ]
    },
    {
     "name": "stdout",
     "output_type": "stream",
     "text": [
      "Saved frame 454.\n",
      "Saved frame 455.\n"
     ]
    },
    {
     "name": "stderr",
     "output_type": "stream",
     "text": [
      "/home/prasanna-nage/.cache/torch/hub/ultralytics_yolov5_master/models/common.py:892: FutureWarning: `torch.cuda.amp.autocast(args...)` is deprecated. Please use `torch.amp.autocast('cuda', args...)` instead.\n",
      "  with amp.autocast(autocast):\n",
      "/home/prasanna-nage/.cache/torch/hub/ultralytics_yolov5_master/models/common.py:892: FutureWarning: `torch.cuda.amp.autocast(args...)` is deprecated. Please use `torch.amp.autocast('cuda', args...)` instead.\n",
      "  with amp.autocast(autocast):\n",
      "/home/prasanna-nage/.cache/torch/hub/ultralytics_yolov5_master/models/common.py:892: FutureWarning: `torch.cuda.amp.autocast(args...)` is deprecated. Please use `torch.amp.autocast('cuda', args...)` instead.\n",
      "  with amp.autocast(autocast):\n"
     ]
    },
    {
     "name": "stdout",
     "output_type": "stream",
     "text": [
      "Saved frame 456.\n",
      "Saved frame 457.\n",
      "Saved frame 458.\n"
     ]
    },
    {
     "name": "stderr",
     "output_type": "stream",
     "text": [
      "/home/prasanna-nage/.cache/torch/hub/ultralytics_yolov5_master/models/common.py:892: FutureWarning: `torch.cuda.amp.autocast(args...)` is deprecated. Please use `torch.amp.autocast('cuda', args...)` instead.\n",
      "  with amp.autocast(autocast):\n",
      "/home/prasanna-nage/.cache/torch/hub/ultralytics_yolov5_master/models/common.py:892: FutureWarning: `torch.cuda.amp.autocast(args...)` is deprecated. Please use `torch.amp.autocast('cuda', args...)` instead.\n",
      "  with amp.autocast(autocast):\n",
      "/home/prasanna-nage/.cache/torch/hub/ultralytics_yolov5_master/models/common.py:892: FutureWarning: `torch.cuda.amp.autocast(args...)` is deprecated. Please use `torch.amp.autocast('cuda', args...)` instead.\n",
      "  with amp.autocast(autocast):\n"
     ]
    },
    {
     "name": "stdout",
     "output_type": "stream",
     "text": [
      "Saved frame 459.\n",
      "Saved frame 460.\n",
      "Saved frame 461.\n"
     ]
    },
    {
     "name": "stderr",
     "output_type": "stream",
     "text": [
      "/home/prasanna-nage/.cache/torch/hub/ultralytics_yolov5_master/models/common.py:892: FutureWarning: `torch.cuda.amp.autocast(args...)` is deprecated. Please use `torch.amp.autocast('cuda', args...)` instead.\n",
      "  with amp.autocast(autocast):\n",
      "/home/prasanna-nage/.cache/torch/hub/ultralytics_yolov5_master/models/common.py:892: FutureWarning: `torch.cuda.amp.autocast(args...)` is deprecated. Please use `torch.amp.autocast('cuda', args...)` instead.\n",
      "  with amp.autocast(autocast):\n",
      "/home/prasanna-nage/.cache/torch/hub/ultralytics_yolov5_master/models/common.py:892: FutureWarning: `torch.cuda.amp.autocast(args...)` is deprecated. Please use `torch.amp.autocast('cuda', args...)` instead.\n",
      "  with amp.autocast(autocast):\n"
     ]
    },
    {
     "name": "stdout",
     "output_type": "stream",
     "text": [
      "Saved frame 462.\n",
      "Saved frame 463.\n",
      "Saved frame 464.\n"
     ]
    },
    {
     "name": "stderr",
     "output_type": "stream",
     "text": [
      "/home/prasanna-nage/.cache/torch/hub/ultralytics_yolov5_master/models/common.py:892: FutureWarning: `torch.cuda.amp.autocast(args...)` is deprecated. Please use `torch.amp.autocast('cuda', args...)` instead.\n",
      "  with amp.autocast(autocast):\n",
      "/home/prasanna-nage/.cache/torch/hub/ultralytics_yolov5_master/models/common.py:892: FutureWarning: `torch.cuda.amp.autocast(args...)` is deprecated. Please use `torch.amp.autocast('cuda', args...)` instead.\n",
      "  with amp.autocast(autocast):\n",
      "/home/prasanna-nage/.cache/torch/hub/ultralytics_yolov5_master/models/common.py:892: FutureWarning: `torch.cuda.amp.autocast(args...)` is deprecated. Please use `torch.amp.autocast('cuda', args...)` instead.\n",
      "  with amp.autocast(autocast):\n"
     ]
    },
    {
     "name": "stdout",
     "output_type": "stream",
     "text": [
      "Saved frame 465.\n",
      "Saved frame 466.\n",
      "Saved frame 467.\n",
      "Saved frame 468.\n",
      "Saved frame 469.\n"
     ]
    },
    {
     "name": "stderr",
     "output_type": "stream",
     "text": [
      "/home/prasanna-nage/.cache/torch/hub/ultralytics_yolov5_master/models/common.py:892: FutureWarning: `torch.cuda.amp.autocast(args...)` is deprecated. Please use `torch.amp.autocast('cuda', args...)` instead.\n",
      "  with amp.autocast(autocast):\n",
      "/home/prasanna-nage/.cache/torch/hub/ultralytics_yolov5_master/models/common.py:892: FutureWarning: `torch.cuda.amp.autocast(args...)` is deprecated. Please use `torch.amp.autocast('cuda', args...)` instead.\n",
      "  with amp.autocast(autocast):\n",
      "/home/prasanna-nage/.cache/torch/hub/ultralytics_yolov5_master/models/common.py:892: FutureWarning: `torch.cuda.amp.autocast(args...)` is deprecated. Please use `torch.amp.autocast('cuda', args...)` instead.\n",
      "  with amp.autocast(autocast):\n"
     ]
    },
    {
     "name": "stdout",
     "output_type": "stream",
     "text": [
      "Saved frame 470.\n",
      "Saved frame 471.\n"
     ]
    },
    {
     "name": "stderr",
     "output_type": "stream",
     "text": [
      "/home/prasanna-nage/.cache/torch/hub/ultralytics_yolov5_master/models/common.py:892: FutureWarning: `torch.cuda.amp.autocast(args...)` is deprecated. Please use `torch.amp.autocast('cuda', args...)` instead.\n",
      "  with amp.autocast(autocast):\n",
      "/home/prasanna-nage/.cache/torch/hub/ultralytics_yolov5_master/models/common.py:892: FutureWarning: `torch.cuda.amp.autocast(args...)` is deprecated. Please use `torch.amp.autocast('cuda', args...)` instead.\n",
      "  with amp.autocast(autocast):\n",
      "/home/prasanna-nage/.cache/torch/hub/ultralytics_yolov5_master/models/common.py:892: FutureWarning: `torch.cuda.amp.autocast(args...)` is deprecated. Please use `torch.amp.autocast('cuda', args...)` instead.\n",
      "  with amp.autocast(autocast):\n"
     ]
    },
    {
     "name": "stdout",
     "output_type": "stream",
     "text": [
      "Saved frame 472.\n",
      "Saved frame 473.\n"
     ]
    },
    {
     "name": "stderr",
     "output_type": "stream",
     "text": [
      "/home/prasanna-nage/.cache/torch/hub/ultralytics_yolov5_master/models/common.py:892: FutureWarning: `torch.cuda.amp.autocast(args...)` is deprecated. Please use `torch.amp.autocast('cuda', args...)` instead.\n",
      "  with amp.autocast(autocast):\n",
      "/home/prasanna-nage/.cache/torch/hub/ultralytics_yolov5_master/models/common.py:892: FutureWarning: `torch.cuda.amp.autocast(args...)` is deprecated. Please use `torch.amp.autocast('cuda', args...)` instead.\n",
      "  with amp.autocast(autocast):\n"
     ]
    },
    {
     "name": "stdout",
     "output_type": "stream",
     "text": [
      "Saved frame 474.\n",
      "Saved frame 475.\n"
     ]
    },
    {
     "name": "stderr",
     "output_type": "stream",
     "text": [
      "/home/prasanna-nage/.cache/torch/hub/ultralytics_yolov5_master/models/common.py:892: FutureWarning: `torch.cuda.amp.autocast(args...)` is deprecated. Please use `torch.amp.autocast('cuda', args...)` instead.\n",
      "  with amp.autocast(autocast):\n",
      "/home/prasanna-nage/.cache/torch/hub/ultralytics_yolov5_master/models/common.py:892: FutureWarning: `torch.cuda.amp.autocast(args...)` is deprecated. Please use `torch.amp.autocast('cuda', args...)` instead.\n",
      "  with amp.autocast(autocast):\n",
      "/home/prasanna-nage/.cache/torch/hub/ultralytics_yolov5_master/models/common.py:892: FutureWarning: `torch.cuda.amp.autocast(args...)` is deprecated. Please use `torch.amp.autocast('cuda', args...)` instead.\n",
      "  with amp.autocast(autocast):\n"
     ]
    },
    {
     "name": "stdout",
     "output_type": "stream",
     "text": [
      "Saved frame 476.\n",
      "Saved frame 477.\n",
      "Saved frame 478.\n"
     ]
    },
    {
     "name": "stderr",
     "output_type": "stream",
     "text": [
      "/home/prasanna-nage/.cache/torch/hub/ultralytics_yolov5_master/models/common.py:892: FutureWarning: `torch.cuda.amp.autocast(args...)` is deprecated. Please use `torch.amp.autocast('cuda', args...)` instead.\n",
      "  with amp.autocast(autocast):\n",
      "/home/prasanna-nage/.cache/torch/hub/ultralytics_yolov5_master/models/common.py:892: FutureWarning: `torch.cuda.amp.autocast(args...)` is deprecated. Please use `torch.amp.autocast('cuda', args...)` instead.\n",
      "  with amp.autocast(autocast):\n"
     ]
    },
    {
     "name": "stdout",
     "output_type": "stream",
     "text": [
      "Saved frame 479.\n",
      "Saved frame 480.\n"
     ]
    },
    {
     "name": "stderr",
     "output_type": "stream",
     "text": [
      "/home/prasanna-nage/.cache/torch/hub/ultralytics_yolov5_master/models/common.py:892: FutureWarning: `torch.cuda.amp.autocast(args...)` is deprecated. Please use `torch.amp.autocast('cuda', args...)` instead.\n",
      "  with amp.autocast(autocast):\n",
      "/home/prasanna-nage/.cache/torch/hub/ultralytics_yolov5_master/models/common.py:892: FutureWarning: `torch.cuda.amp.autocast(args...)` is deprecated. Please use `torch.amp.autocast('cuda', args...)` instead.\n",
      "  with amp.autocast(autocast):\n"
     ]
    },
    {
     "name": "stdout",
     "output_type": "stream",
     "text": [
      "Saved frame 481.\n",
      "Saved frame 482.\n"
     ]
    },
    {
     "name": "stderr",
     "output_type": "stream",
     "text": [
      "/home/prasanna-nage/.cache/torch/hub/ultralytics_yolov5_master/models/common.py:892: FutureWarning: `torch.cuda.amp.autocast(args...)` is deprecated. Please use `torch.amp.autocast('cuda', args...)` instead.\n",
      "  with amp.autocast(autocast):\n",
      "/home/prasanna-nage/.cache/torch/hub/ultralytics_yolov5_master/models/common.py:892: FutureWarning: `torch.cuda.amp.autocast(args...)` is deprecated. Please use `torch.amp.autocast('cuda', args...)` instead.\n",
      "  with amp.autocast(autocast):\n"
     ]
    },
    {
     "name": "stdout",
     "output_type": "stream",
     "text": [
      "Saved frame 483.\n",
      "Saved frame 484.\n"
     ]
    },
    {
     "name": "stderr",
     "output_type": "stream",
     "text": [
      "/home/prasanna-nage/.cache/torch/hub/ultralytics_yolov5_master/models/common.py:892: FutureWarning: `torch.cuda.amp.autocast(args...)` is deprecated. Please use `torch.amp.autocast('cuda', args...)` instead.\n",
      "  with amp.autocast(autocast):\n",
      "/home/prasanna-nage/.cache/torch/hub/ultralytics_yolov5_master/models/common.py:892: FutureWarning: `torch.cuda.amp.autocast(args...)` is deprecated. Please use `torch.amp.autocast('cuda', args...)` instead.\n",
      "  with amp.autocast(autocast):\n"
     ]
    },
    {
     "name": "stdout",
     "output_type": "stream",
     "text": [
      "Saved frame 485.\n",
      "Saved frame 486.\n"
     ]
    },
    {
     "name": "stderr",
     "output_type": "stream",
     "text": [
      "/home/prasanna-nage/.cache/torch/hub/ultralytics_yolov5_master/models/common.py:892: FutureWarning: `torch.cuda.amp.autocast(args...)` is deprecated. Please use `torch.amp.autocast('cuda', args...)` instead.\n",
      "  with amp.autocast(autocast):\n",
      "/home/prasanna-nage/.cache/torch/hub/ultralytics_yolov5_master/models/common.py:892: FutureWarning: `torch.cuda.amp.autocast(args...)` is deprecated. Please use `torch.amp.autocast('cuda', args...)` instead.\n",
      "  with amp.autocast(autocast):\n",
      "/home/prasanna-nage/.cache/torch/hub/ultralytics_yolov5_master/models/common.py:892: FutureWarning: `torch.cuda.amp.autocast(args...)` is deprecated. Please use `torch.amp.autocast('cuda', args...)` instead.\n",
      "  with amp.autocast(autocast):\n"
     ]
    },
    {
     "name": "stdout",
     "output_type": "stream",
     "text": [
      "Saved frame 487.\n",
      "Saved frame 488.\n",
      "Saved frame 489.\n"
     ]
    },
    {
     "name": "stderr",
     "output_type": "stream",
     "text": [
      "/home/prasanna-nage/.cache/torch/hub/ultralytics_yolov5_master/models/common.py:892: FutureWarning: `torch.cuda.amp.autocast(args...)` is deprecated. Please use `torch.amp.autocast('cuda', args...)` instead.\n",
      "  with amp.autocast(autocast):\n",
      "/home/prasanna-nage/.cache/torch/hub/ultralytics_yolov5_master/models/common.py:892: FutureWarning: `torch.cuda.amp.autocast(args...)` is deprecated. Please use `torch.amp.autocast('cuda', args...)` instead.\n",
      "  with amp.autocast(autocast):\n"
     ]
    },
    {
     "name": "stdout",
     "output_type": "stream",
     "text": [
      "Saved frame 490.\n",
      "Saved frame 491.\n"
     ]
    },
    {
     "name": "stderr",
     "output_type": "stream",
     "text": [
      "/home/prasanna-nage/.cache/torch/hub/ultralytics_yolov5_master/models/common.py:892: FutureWarning: `torch.cuda.amp.autocast(args...)` is deprecated. Please use `torch.amp.autocast('cuda', args...)` instead.\n",
      "  with amp.autocast(autocast):\n",
      "/home/prasanna-nage/.cache/torch/hub/ultralytics_yolov5_master/models/common.py:892: FutureWarning: `torch.cuda.amp.autocast(args...)` is deprecated. Please use `torch.amp.autocast('cuda', args...)` instead.\n",
      "  with amp.autocast(autocast):\n"
     ]
    },
    {
     "name": "stdout",
     "output_type": "stream",
     "text": [
      "Saved frame 492.\n",
      "Saved frame 493.\n"
     ]
    },
    {
     "name": "stderr",
     "output_type": "stream",
     "text": [
      "/home/prasanna-nage/.cache/torch/hub/ultralytics_yolov5_master/models/common.py:892: FutureWarning: `torch.cuda.amp.autocast(args...)` is deprecated. Please use `torch.amp.autocast('cuda', args...)` instead.\n",
      "  with amp.autocast(autocast):\n",
      "/home/prasanna-nage/.cache/torch/hub/ultralytics_yolov5_master/models/common.py:892: FutureWarning: `torch.cuda.amp.autocast(args...)` is deprecated. Please use `torch.amp.autocast('cuda', args...)` instead.\n",
      "  with amp.autocast(autocast):\n"
     ]
    },
    {
     "name": "stdout",
     "output_type": "stream",
     "text": [
      "Saved frame 494.\n",
      "Saved frame 495.\n"
     ]
    },
    {
     "name": "stderr",
     "output_type": "stream",
     "text": [
      "/home/prasanna-nage/.cache/torch/hub/ultralytics_yolov5_master/models/common.py:892: FutureWarning: `torch.cuda.amp.autocast(args...)` is deprecated. Please use `torch.amp.autocast('cuda', args...)` instead.\n",
      "  with amp.autocast(autocast):\n",
      "/home/prasanna-nage/.cache/torch/hub/ultralytics_yolov5_master/models/common.py:892: FutureWarning: `torch.cuda.amp.autocast(args...)` is deprecated. Please use `torch.amp.autocast('cuda', args...)` instead.\n",
      "  with amp.autocast(autocast):\n"
     ]
    },
    {
     "name": "stdout",
     "output_type": "stream",
     "text": [
      "Saved frame 496.\n",
      "Saved frame 497.\n"
     ]
    },
    {
     "name": "stderr",
     "output_type": "stream",
     "text": [
      "/home/prasanna-nage/.cache/torch/hub/ultralytics_yolov5_master/models/common.py:892: FutureWarning: `torch.cuda.amp.autocast(args...)` is deprecated. Please use `torch.amp.autocast('cuda', args...)` instead.\n",
      "  with amp.autocast(autocast):\n",
      "/home/prasanna-nage/.cache/torch/hub/ultralytics_yolov5_master/models/common.py:892: FutureWarning: `torch.cuda.amp.autocast(args...)` is deprecated. Please use `torch.amp.autocast('cuda', args...)` instead.\n",
      "  with amp.autocast(autocast):\n"
     ]
    },
    {
     "name": "stdout",
     "output_type": "stream",
     "text": [
      "Saved frame 498.\n",
      "Saved frame 499.\n"
     ]
    },
    {
     "name": "stderr",
     "output_type": "stream",
     "text": [
      "/home/prasanna-nage/.cache/torch/hub/ultralytics_yolov5_master/models/common.py:892: FutureWarning: `torch.cuda.amp.autocast(args...)` is deprecated. Please use `torch.amp.autocast('cuda', args...)` instead.\n",
      "  with amp.autocast(autocast):\n",
      "/home/prasanna-nage/.cache/torch/hub/ultralytics_yolov5_master/models/common.py:892: FutureWarning: `torch.cuda.amp.autocast(args...)` is deprecated. Please use `torch.amp.autocast('cuda', args...)` instead.\n",
      "  with amp.autocast(autocast):\n"
     ]
    },
    {
     "name": "stdout",
     "output_type": "stream",
     "text": [
      "Saved frame 500.\n",
      "Saved frame 501.\n",
      "Saved frame 502.\n"
     ]
    },
    {
     "name": "stderr",
     "output_type": "stream",
     "text": [
      "/home/prasanna-nage/.cache/torch/hub/ultralytics_yolov5_master/models/common.py:892: FutureWarning: `torch.cuda.amp.autocast(args...)` is deprecated. Please use `torch.amp.autocast('cuda', args...)` instead.\n",
      "  with amp.autocast(autocast):\n",
      "/home/prasanna-nage/.cache/torch/hub/ultralytics_yolov5_master/models/common.py:892: FutureWarning: `torch.cuda.amp.autocast(args...)` is deprecated. Please use `torch.amp.autocast('cuda', args...)` instead.\n",
      "  with amp.autocast(autocast):\n"
     ]
    },
    {
     "name": "stdout",
     "output_type": "stream",
     "text": [
      "Saved frame 503.\n",
      "Saved frame 504.\n"
     ]
    },
    {
     "name": "stderr",
     "output_type": "stream",
     "text": [
      "/home/prasanna-nage/.cache/torch/hub/ultralytics_yolov5_master/models/common.py:892: FutureWarning: `torch.cuda.amp.autocast(args...)` is deprecated. Please use `torch.amp.autocast('cuda', args...)` instead.\n",
      "  with amp.autocast(autocast):\n",
      "/home/prasanna-nage/.cache/torch/hub/ultralytics_yolov5_master/models/common.py:892: FutureWarning: `torch.cuda.amp.autocast(args...)` is deprecated. Please use `torch.amp.autocast('cuda', args...)` instead.\n",
      "  with amp.autocast(autocast):\n"
     ]
    },
    {
     "name": "stdout",
     "output_type": "stream",
     "text": [
      "Saved frame 505.\n",
      "Saved frame 506.\n"
     ]
    },
    {
     "name": "stderr",
     "output_type": "stream",
     "text": [
      "/home/prasanna-nage/.cache/torch/hub/ultralytics_yolov5_master/models/common.py:892: FutureWarning: `torch.cuda.amp.autocast(args...)` is deprecated. Please use `torch.amp.autocast('cuda', args...)` instead.\n",
      "  with amp.autocast(autocast):\n",
      "/home/prasanna-nage/.cache/torch/hub/ultralytics_yolov5_master/models/common.py:892: FutureWarning: `torch.cuda.amp.autocast(args...)` is deprecated. Please use `torch.amp.autocast('cuda', args...)` instead.\n",
      "  with amp.autocast(autocast):\n"
     ]
    },
    {
     "name": "stdout",
     "output_type": "stream",
     "text": [
      "Saved frame 507.\n",
      "Saved frame 508.\n"
     ]
    },
    {
     "name": "stderr",
     "output_type": "stream",
     "text": [
      "/home/prasanna-nage/.cache/torch/hub/ultralytics_yolov5_master/models/common.py:892: FutureWarning: `torch.cuda.amp.autocast(args...)` is deprecated. Please use `torch.amp.autocast('cuda', args...)` instead.\n",
      "  with amp.autocast(autocast):\n",
      "/home/prasanna-nage/.cache/torch/hub/ultralytics_yolov5_master/models/common.py:892: FutureWarning: `torch.cuda.amp.autocast(args...)` is deprecated. Please use `torch.amp.autocast('cuda', args...)` instead.\n",
      "  with amp.autocast(autocast):\n"
     ]
    },
    {
     "name": "stdout",
     "output_type": "stream",
     "text": [
      "Saved frame 509.\n",
      "Saved frame 510.\n"
     ]
    },
    {
     "name": "stderr",
     "output_type": "stream",
     "text": [
      "/home/prasanna-nage/.cache/torch/hub/ultralytics_yolov5_master/models/common.py:892: FutureWarning: `torch.cuda.amp.autocast(args...)` is deprecated. Please use `torch.amp.autocast('cuda', args...)` instead.\n",
      "  with amp.autocast(autocast):\n",
      "/home/prasanna-nage/.cache/torch/hub/ultralytics_yolov5_master/models/common.py:892: FutureWarning: `torch.cuda.amp.autocast(args...)` is deprecated. Please use `torch.amp.autocast('cuda', args...)` instead.\n",
      "  with amp.autocast(autocast):\n"
     ]
    },
    {
     "name": "stdout",
     "output_type": "stream",
     "text": [
      "Saved frame 511.\n",
      "Saved frame 512.\n",
      "Saved frame 513.\n"
     ]
    },
    {
     "name": "stderr",
     "output_type": "stream",
     "text": [
      "/home/prasanna-nage/.cache/torch/hub/ultralytics_yolov5_master/models/common.py:892: FutureWarning: `torch.cuda.amp.autocast(args...)` is deprecated. Please use `torch.amp.autocast('cuda', args...)` instead.\n",
      "  with amp.autocast(autocast):\n",
      "/home/prasanna-nage/.cache/torch/hub/ultralytics_yolov5_master/models/common.py:892: FutureWarning: `torch.cuda.amp.autocast(args...)` is deprecated. Please use `torch.amp.autocast('cuda', args...)` instead.\n",
      "  with amp.autocast(autocast):\n",
      "/home/prasanna-nage/.cache/torch/hub/ultralytics_yolov5_master/models/common.py:892: FutureWarning: `torch.cuda.amp.autocast(args...)` is deprecated. Please use `torch.amp.autocast('cuda', args...)` instead.\n",
      "  with amp.autocast(autocast):\n"
     ]
    },
    {
     "name": "stdout",
     "output_type": "stream",
     "text": [
      "Saved frame 514.\n",
      "Saved frame 515.\n"
     ]
    },
    {
     "name": "stderr",
     "output_type": "stream",
     "text": [
      "/home/prasanna-nage/.cache/torch/hub/ultralytics_yolov5_master/models/common.py:892: FutureWarning: `torch.cuda.amp.autocast(args...)` is deprecated. Please use `torch.amp.autocast('cuda', args...)` instead.\n",
      "  with amp.autocast(autocast):\n",
      "/home/prasanna-nage/.cache/torch/hub/ultralytics_yolov5_master/models/common.py:892: FutureWarning: `torch.cuda.amp.autocast(args...)` is deprecated. Please use `torch.amp.autocast('cuda', args...)` instead.\n",
      "  with amp.autocast(autocast):\n"
     ]
    },
    {
     "name": "stdout",
     "output_type": "stream",
     "text": [
      "Saved frame 516.\n",
      "Saved frame 517.\n"
     ]
    },
    {
     "name": "stderr",
     "output_type": "stream",
     "text": [
      "/home/prasanna-nage/.cache/torch/hub/ultralytics_yolov5_master/models/common.py:892: FutureWarning: `torch.cuda.amp.autocast(args...)` is deprecated. Please use `torch.amp.autocast('cuda', args...)` instead.\n",
      "  with amp.autocast(autocast):\n",
      "/home/prasanna-nage/.cache/torch/hub/ultralytics_yolov5_master/models/common.py:892: FutureWarning: `torch.cuda.amp.autocast(args...)` is deprecated. Please use `torch.amp.autocast('cuda', args...)` instead.\n",
      "  with amp.autocast(autocast):\n"
     ]
    },
    {
     "name": "stdout",
     "output_type": "stream",
     "text": [
      "Saved frame 518.\n",
      "Saved frame 519.\n"
     ]
    },
    {
     "name": "stderr",
     "output_type": "stream",
     "text": [
      "/home/prasanna-nage/.cache/torch/hub/ultralytics_yolov5_master/models/common.py:892: FutureWarning: `torch.cuda.amp.autocast(args...)` is deprecated. Please use `torch.amp.autocast('cuda', args...)` instead.\n",
      "  with amp.autocast(autocast):\n",
      "/home/prasanna-nage/.cache/torch/hub/ultralytics_yolov5_master/models/common.py:892: FutureWarning: `torch.cuda.amp.autocast(args...)` is deprecated. Please use `torch.amp.autocast('cuda', args...)` instead.\n",
      "  with amp.autocast(autocast):\n"
     ]
    },
    {
     "name": "stdout",
     "output_type": "stream",
     "text": [
      "Saved frame 520.\n",
      "Saved frame 521.\n"
     ]
    },
    {
     "name": "stderr",
     "output_type": "stream",
     "text": [
      "/home/prasanna-nage/.cache/torch/hub/ultralytics_yolov5_master/models/common.py:892: FutureWarning: `torch.cuda.amp.autocast(args...)` is deprecated. Please use `torch.amp.autocast('cuda', args...)` instead.\n",
      "  with amp.autocast(autocast):\n",
      "/home/prasanna-nage/.cache/torch/hub/ultralytics_yolov5_master/models/common.py:892: FutureWarning: `torch.cuda.amp.autocast(args...)` is deprecated. Please use `torch.amp.autocast('cuda', args...)` instead.\n",
      "  with amp.autocast(autocast):\n"
     ]
    },
    {
     "name": "stdout",
     "output_type": "stream",
     "text": [
      "Saved frame 522.\n",
      "Saved frame 523.\n"
     ]
    },
    {
     "name": "stderr",
     "output_type": "stream",
     "text": [
      "/home/prasanna-nage/.cache/torch/hub/ultralytics_yolov5_master/models/common.py:892: FutureWarning: `torch.cuda.amp.autocast(args...)` is deprecated. Please use `torch.amp.autocast('cuda', args...)` instead.\n",
      "  with amp.autocast(autocast):\n",
      "/home/prasanna-nage/.cache/torch/hub/ultralytics_yolov5_master/models/common.py:892: FutureWarning: `torch.cuda.amp.autocast(args...)` is deprecated. Please use `torch.amp.autocast('cuda', args...)` instead.\n",
      "  with amp.autocast(autocast):\n"
     ]
    },
    {
     "name": "stdout",
     "output_type": "stream",
     "text": [
      "Saved frame 524.\n",
      "Saved frame 525.\n"
     ]
    },
    {
     "name": "stderr",
     "output_type": "stream",
     "text": [
      "/home/prasanna-nage/.cache/torch/hub/ultralytics_yolov5_master/models/common.py:892: FutureWarning: `torch.cuda.amp.autocast(args...)` is deprecated. Please use `torch.amp.autocast('cuda', args...)` instead.\n",
      "  with amp.autocast(autocast):\n",
      "/home/prasanna-nage/.cache/torch/hub/ultralytics_yolov5_master/models/common.py:892: FutureWarning: `torch.cuda.amp.autocast(args...)` is deprecated. Please use `torch.amp.autocast('cuda', args...)` instead.\n",
      "  with amp.autocast(autocast):\n"
     ]
    },
    {
     "name": "stdout",
     "output_type": "stream",
     "text": [
      "Saved frame 526.\n",
      "Saved frame 527.\n"
     ]
    },
    {
     "name": "stderr",
     "output_type": "stream",
     "text": [
      "/home/prasanna-nage/.cache/torch/hub/ultralytics_yolov5_master/models/common.py:892: FutureWarning: `torch.cuda.amp.autocast(args...)` is deprecated. Please use `torch.amp.autocast('cuda', args...)` instead.\n",
      "  with amp.autocast(autocast):\n",
      "/home/prasanna-nage/.cache/torch/hub/ultralytics_yolov5_master/models/common.py:892: FutureWarning: `torch.cuda.amp.autocast(args...)` is deprecated. Please use `torch.amp.autocast('cuda', args...)` instead.\n",
      "  with amp.autocast(autocast):\n"
     ]
    },
    {
     "name": "stdout",
     "output_type": "stream",
     "text": [
      "Saved frame 528.\n",
      "Saved frame 529.\n"
     ]
    },
    {
     "name": "stderr",
     "output_type": "stream",
     "text": [
      "/home/prasanna-nage/.cache/torch/hub/ultralytics_yolov5_master/models/common.py:892: FutureWarning: `torch.cuda.amp.autocast(args...)` is deprecated. Please use `torch.amp.autocast('cuda', args...)` instead.\n",
      "  with amp.autocast(autocast):\n",
      "/home/prasanna-nage/.cache/torch/hub/ultralytics_yolov5_master/models/common.py:892: FutureWarning: `torch.cuda.amp.autocast(args...)` is deprecated. Please use `torch.amp.autocast('cuda', args...)` instead.\n",
      "  with amp.autocast(autocast):\n"
     ]
    },
    {
     "name": "stdout",
     "output_type": "stream",
     "text": [
      "Saved frame 530.\n",
      "Saved frame 531.\n"
     ]
    },
    {
     "name": "stderr",
     "output_type": "stream",
     "text": [
      "/home/prasanna-nage/.cache/torch/hub/ultralytics_yolov5_master/models/common.py:892: FutureWarning: `torch.cuda.amp.autocast(args...)` is deprecated. Please use `torch.amp.autocast('cuda', args...)` instead.\n",
      "  with amp.autocast(autocast):\n",
      "/home/prasanna-nage/.cache/torch/hub/ultralytics_yolov5_master/models/common.py:892: FutureWarning: `torch.cuda.amp.autocast(args...)` is deprecated. Please use `torch.amp.autocast('cuda', args...)` instead.\n",
      "  with amp.autocast(autocast):\n"
     ]
    },
    {
     "name": "stdout",
     "output_type": "stream",
     "text": [
      "Saved frame 532.\n",
      "Saved frame 533.\n"
     ]
    },
    {
     "name": "stderr",
     "output_type": "stream",
     "text": [
      "/home/prasanna-nage/.cache/torch/hub/ultralytics_yolov5_master/models/common.py:892: FutureWarning: `torch.cuda.amp.autocast(args...)` is deprecated. Please use `torch.amp.autocast('cuda', args...)` instead.\n",
      "  with amp.autocast(autocast):\n",
      "/home/prasanna-nage/.cache/torch/hub/ultralytics_yolov5_master/models/common.py:892: FutureWarning: `torch.cuda.amp.autocast(args...)` is deprecated. Please use `torch.amp.autocast('cuda', args...)` instead.\n",
      "  with amp.autocast(autocast):\n"
     ]
    },
    {
     "name": "stdout",
     "output_type": "stream",
     "text": [
      "Saved frame 534.\n",
      "Saved frame 535.\n"
     ]
    },
    {
     "name": "stderr",
     "output_type": "stream",
     "text": [
      "/home/prasanna-nage/.cache/torch/hub/ultralytics_yolov5_master/models/common.py:892: FutureWarning: `torch.cuda.amp.autocast(args...)` is deprecated. Please use `torch.amp.autocast('cuda', args...)` instead.\n",
      "  with amp.autocast(autocast):\n",
      "/home/prasanna-nage/.cache/torch/hub/ultralytics_yolov5_master/models/common.py:892: FutureWarning: `torch.cuda.amp.autocast(args...)` is deprecated. Please use `torch.amp.autocast('cuda', args...)` instead.\n",
      "  with amp.autocast(autocast):\n"
     ]
    },
    {
     "name": "stdout",
     "output_type": "stream",
     "text": [
      "Saved frame 536.\n",
      "Saved frame 537.\n"
     ]
    },
    {
     "name": "stderr",
     "output_type": "stream",
     "text": [
      "/home/prasanna-nage/.cache/torch/hub/ultralytics_yolov5_master/models/common.py:892: FutureWarning: `torch.cuda.amp.autocast(args...)` is deprecated. Please use `torch.amp.autocast('cuda', args...)` instead.\n",
      "  with amp.autocast(autocast):\n",
      "/home/prasanna-nage/.cache/torch/hub/ultralytics_yolov5_master/models/common.py:892: FutureWarning: `torch.cuda.amp.autocast(args...)` is deprecated. Please use `torch.amp.autocast('cuda', args...)` instead.\n",
      "  with amp.autocast(autocast):\n"
     ]
    },
    {
     "name": "stdout",
     "output_type": "stream",
     "text": [
      "Saved frame 538.\n",
      "Saved frame 539.\n",
      "Saved frame 540.\n"
     ]
    },
    {
     "name": "stderr",
     "output_type": "stream",
     "text": [
      "/home/prasanna-nage/.cache/torch/hub/ultralytics_yolov5_master/models/common.py:892: FutureWarning: `torch.cuda.amp.autocast(args...)` is deprecated. Please use `torch.amp.autocast('cuda', args...)` instead.\n",
      "  with amp.autocast(autocast):\n",
      "/home/prasanna-nage/.cache/torch/hub/ultralytics_yolov5_master/models/common.py:892: FutureWarning: `torch.cuda.amp.autocast(args...)` is deprecated. Please use `torch.amp.autocast('cuda', args...)` instead.\n",
      "  with amp.autocast(autocast):\n",
      "/home/prasanna-nage/.cache/torch/hub/ultralytics_yolov5_master/models/common.py:892: FutureWarning: `torch.cuda.amp.autocast(args...)` is deprecated. Please use `torch.amp.autocast('cuda', args...)` instead.\n",
      "  with amp.autocast(autocast):\n"
     ]
    },
    {
     "name": "stdout",
     "output_type": "stream",
     "text": [
      "Saved frame 541.\n",
      "Saved frame 542.\n"
     ]
    },
    {
     "name": "stderr",
     "output_type": "stream",
     "text": [
      "/home/prasanna-nage/.cache/torch/hub/ultralytics_yolov5_master/models/common.py:892: FutureWarning: `torch.cuda.amp.autocast(args...)` is deprecated. Please use `torch.amp.autocast('cuda', args...)` instead.\n",
      "  with amp.autocast(autocast):\n",
      "/home/prasanna-nage/.cache/torch/hub/ultralytics_yolov5_master/models/common.py:892: FutureWarning: `torch.cuda.amp.autocast(args...)` is deprecated. Please use `torch.amp.autocast('cuda', args...)` instead.\n",
      "  with amp.autocast(autocast):\n"
     ]
    },
    {
     "name": "stdout",
     "output_type": "stream",
     "text": [
      "Saved frame 543.\n",
      "Saved frame 544.\n"
     ]
    },
    {
     "name": "stderr",
     "output_type": "stream",
     "text": [
      "/home/prasanna-nage/.cache/torch/hub/ultralytics_yolov5_master/models/common.py:892: FutureWarning: `torch.cuda.amp.autocast(args...)` is deprecated. Please use `torch.amp.autocast('cuda', args...)` instead.\n",
      "  with amp.autocast(autocast):\n",
      "/home/prasanna-nage/.cache/torch/hub/ultralytics_yolov5_master/models/common.py:892: FutureWarning: `torch.cuda.amp.autocast(args...)` is deprecated. Please use `torch.amp.autocast('cuda', args...)` instead.\n",
      "  with amp.autocast(autocast):\n"
     ]
    },
    {
     "name": "stdout",
     "output_type": "stream",
     "text": [
      "Saved frame 545.\n",
      "Saved frame 546.\n"
     ]
    },
    {
     "name": "stderr",
     "output_type": "stream",
     "text": [
      "/home/prasanna-nage/.cache/torch/hub/ultralytics_yolov5_master/models/common.py:892: FutureWarning: `torch.cuda.amp.autocast(args...)` is deprecated. Please use `torch.amp.autocast('cuda', args...)` instead.\n",
      "  with amp.autocast(autocast):\n",
      "/home/prasanna-nage/.cache/torch/hub/ultralytics_yolov5_master/models/common.py:892: FutureWarning: `torch.cuda.amp.autocast(args...)` is deprecated. Please use `torch.amp.autocast('cuda', args...)` instead.\n",
      "  with amp.autocast(autocast):\n"
     ]
    },
    {
     "name": "stdout",
     "output_type": "stream",
     "text": [
      "Saved frame 547.\n",
      "Saved frame 548.\n"
     ]
    },
    {
     "name": "stderr",
     "output_type": "stream",
     "text": [
      "/home/prasanna-nage/.cache/torch/hub/ultralytics_yolov5_master/models/common.py:892: FutureWarning: `torch.cuda.amp.autocast(args...)` is deprecated. Please use `torch.amp.autocast('cuda', args...)` instead.\n",
      "  with amp.autocast(autocast):\n",
      "/home/prasanna-nage/.cache/torch/hub/ultralytics_yolov5_master/models/common.py:892: FutureWarning: `torch.cuda.amp.autocast(args...)` is deprecated. Please use `torch.amp.autocast('cuda', args...)` instead.\n",
      "  with amp.autocast(autocast):\n"
     ]
    },
    {
     "name": "stdout",
     "output_type": "stream",
     "text": [
      "Saved frame 549.\n",
      "Saved frame 550.\n"
     ]
    },
    {
     "name": "stderr",
     "output_type": "stream",
     "text": [
      "/home/prasanna-nage/.cache/torch/hub/ultralytics_yolov5_master/models/common.py:892: FutureWarning: `torch.cuda.amp.autocast(args...)` is deprecated. Please use `torch.amp.autocast('cuda', args...)` instead.\n",
      "  with amp.autocast(autocast):\n",
      "/home/prasanna-nage/.cache/torch/hub/ultralytics_yolov5_master/models/common.py:892: FutureWarning: `torch.cuda.amp.autocast(args...)` is deprecated. Please use `torch.amp.autocast('cuda', args...)` instead.\n",
      "  with amp.autocast(autocast):\n"
     ]
    },
    {
     "name": "stdout",
     "output_type": "stream",
     "text": [
      "Saved frame 551.\n",
      "Saved frame 552.\n",
      "Saved frame 553.\n"
     ]
    },
    {
     "name": "stderr",
     "output_type": "stream",
     "text": [
      "/home/prasanna-nage/.cache/torch/hub/ultralytics_yolov5_master/models/common.py:892: FutureWarning: `torch.cuda.amp.autocast(args...)` is deprecated. Please use `torch.amp.autocast('cuda', args...)` instead.\n",
      "  with amp.autocast(autocast):\n",
      "/home/prasanna-nage/.cache/torch/hub/ultralytics_yolov5_master/models/common.py:892: FutureWarning: `torch.cuda.amp.autocast(args...)` is deprecated. Please use `torch.amp.autocast('cuda', args...)` instead.\n",
      "  with amp.autocast(autocast):\n",
      "/home/prasanna-nage/.cache/torch/hub/ultralytics_yolov5_master/models/common.py:892: FutureWarning: `torch.cuda.amp.autocast(args...)` is deprecated. Please use `torch.amp.autocast('cuda', args...)` instead.\n",
      "  with amp.autocast(autocast):\n"
     ]
    },
    {
     "name": "stdout",
     "output_type": "stream",
     "text": [
      "Saved frame 554.\n",
      "Saved frame 555.\n",
      "Saved frame 556.\n"
     ]
    },
    {
     "name": "stderr",
     "output_type": "stream",
     "text": [
      "/home/prasanna-nage/.cache/torch/hub/ultralytics_yolov5_master/models/common.py:892: FutureWarning: `torch.cuda.amp.autocast(args...)` is deprecated. Please use `torch.amp.autocast('cuda', args...)` instead.\n",
      "  with amp.autocast(autocast):\n",
      "/home/prasanna-nage/.cache/torch/hub/ultralytics_yolov5_master/models/common.py:892: FutureWarning: `torch.cuda.amp.autocast(args...)` is deprecated. Please use `torch.amp.autocast('cuda', args...)` instead.\n",
      "  with amp.autocast(autocast):\n",
      "/home/prasanna-nage/.cache/torch/hub/ultralytics_yolov5_master/models/common.py:892: FutureWarning: `torch.cuda.amp.autocast(args...)` is deprecated. Please use `torch.amp.autocast('cuda', args...)` instead.\n",
      "  with amp.autocast(autocast):\n"
     ]
    },
    {
     "name": "stdout",
     "output_type": "stream",
     "text": [
      "Saved frame 557.\n",
      "Saved frame 558.\n",
      "Saved frame 559.\n"
     ]
    },
    {
     "name": "stderr",
     "output_type": "stream",
     "text": [
      "/home/prasanna-nage/.cache/torch/hub/ultralytics_yolov5_master/models/common.py:892: FutureWarning: `torch.cuda.amp.autocast(args...)` is deprecated. Please use `torch.amp.autocast('cuda', args...)` instead.\n",
      "  with amp.autocast(autocast):\n",
      "/home/prasanna-nage/.cache/torch/hub/ultralytics_yolov5_master/models/common.py:892: FutureWarning: `torch.cuda.amp.autocast(args...)` is deprecated. Please use `torch.amp.autocast('cuda', args...)` instead.\n",
      "  with amp.autocast(autocast):\n",
      "/home/prasanna-nage/.cache/torch/hub/ultralytics_yolov5_master/models/common.py:892: FutureWarning: `torch.cuda.amp.autocast(args...)` is deprecated. Please use `torch.amp.autocast('cuda', args...)` instead.\n",
      "  with amp.autocast(autocast):\n"
     ]
    },
    {
     "name": "stdout",
     "output_type": "stream",
     "text": [
      "Saved frame 560.\n",
      "Saved frame 561.\n"
     ]
    },
    {
     "name": "stderr",
     "output_type": "stream",
     "text": [
      "/home/prasanna-nage/.cache/torch/hub/ultralytics_yolov5_master/models/common.py:892: FutureWarning: `torch.cuda.amp.autocast(args...)` is deprecated. Please use `torch.amp.autocast('cuda', args...)` instead.\n",
      "  with amp.autocast(autocast):\n",
      "/home/prasanna-nage/.cache/torch/hub/ultralytics_yolov5_master/models/common.py:892: FutureWarning: `torch.cuda.amp.autocast(args...)` is deprecated. Please use `torch.amp.autocast('cuda', args...)` instead.\n",
      "  with amp.autocast(autocast):\n"
     ]
    },
    {
     "name": "stdout",
     "output_type": "stream",
     "text": [
      "Saved frame 562.\n",
      "Saved frame 563.\n",
      "Saved frame 564.\n"
     ]
    },
    {
     "name": "stderr",
     "output_type": "stream",
     "text": [
      "/home/prasanna-nage/.cache/torch/hub/ultralytics_yolov5_master/models/common.py:892: FutureWarning: `torch.cuda.amp.autocast(args...)` is deprecated. Please use `torch.amp.autocast('cuda', args...)` instead.\n",
      "  with amp.autocast(autocast):\n",
      "/home/prasanna-nage/.cache/torch/hub/ultralytics_yolov5_master/models/common.py:892: FutureWarning: `torch.cuda.amp.autocast(args...)` is deprecated. Please use `torch.amp.autocast('cuda', args...)` instead.\n",
      "  with amp.autocast(autocast):\n",
      "/home/prasanna-nage/.cache/torch/hub/ultralytics_yolov5_master/models/common.py:892: FutureWarning: `torch.cuda.amp.autocast(args...)` is deprecated. Please use `torch.amp.autocast('cuda', args...)` instead.\n",
      "  with amp.autocast(autocast):\n"
     ]
    },
    {
     "name": "stdout",
     "output_type": "stream",
     "text": [
      "Saved frame 565.\n",
      "Saved frame 566.\n",
      "Saved frame 567.\n"
     ]
    },
    {
     "name": "stderr",
     "output_type": "stream",
     "text": [
      "/home/prasanna-nage/.cache/torch/hub/ultralytics_yolov5_master/models/common.py:892: FutureWarning: `torch.cuda.amp.autocast(args...)` is deprecated. Please use `torch.amp.autocast('cuda', args...)` instead.\n",
      "  with amp.autocast(autocast):\n",
      "/home/prasanna-nage/.cache/torch/hub/ultralytics_yolov5_master/models/common.py:892: FutureWarning: `torch.cuda.amp.autocast(args...)` is deprecated. Please use `torch.amp.autocast('cuda', args...)` instead.\n",
      "  with amp.autocast(autocast):\n",
      "/home/prasanna-nage/.cache/torch/hub/ultralytics_yolov5_master/models/common.py:892: FutureWarning: `torch.cuda.amp.autocast(args...)` is deprecated. Please use `torch.amp.autocast('cuda', args...)` instead.\n",
      "  with amp.autocast(autocast):\n"
     ]
    },
    {
     "name": "stdout",
     "output_type": "stream",
     "text": [
      "Saved frame 568.\n",
      "Saved frame 569.\n"
     ]
    },
    {
     "name": "stderr",
     "output_type": "stream",
     "text": [
      "/home/prasanna-nage/.cache/torch/hub/ultralytics_yolov5_master/models/common.py:892: FutureWarning: `torch.cuda.amp.autocast(args...)` is deprecated. Please use `torch.amp.autocast('cuda', args...)` instead.\n",
      "  with amp.autocast(autocast):\n",
      "/home/prasanna-nage/.cache/torch/hub/ultralytics_yolov5_master/models/common.py:892: FutureWarning: `torch.cuda.amp.autocast(args...)` is deprecated. Please use `torch.amp.autocast('cuda', args...)` instead.\n",
      "  with amp.autocast(autocast):\n"
     ]
    },
    {
     "name": "stdout",
     "output_type": "stream",
     "text": [
      "Saved frame 570.\n",
      "Saved frame 571.\n"
     ]
    },
    {
     "name": "stderr",
     "output_type": "stream",
     "text": [
      "/home/prasanna-nage/.cache/torch/hub/ultralytics_yolov5_master/models/common.py:892: FutureWarning: `torch.cuda.amp.autocast(args...)` is deprecated. Please use `torch.amp.autocast('cuda', args...)` instead.\n",
      "  with amp.autocast(autocast):\n",
      "/home/prasanna-nage/.cache/torch/hub/ultralytics_yolov5_master/models/common.py:892: FutureWarning: `torch.cuda.amp.autocast(args...)` is deprecated. Please use `torch.amp.autocast('cuda', args...)` instead.\n",
      "  with amp.autocast(autocast):\n",
      "/home/prasanna-nage/.cache/torch/hub/ultralytics_yolov5_master/models/common.py:892: FutureWarning: `torch.cuda.amp.autocast(args...)` is deprecated. Please use `torch.amp.autocast('cuda', args...)` instead.\n",
      "  with amp.autocast(autocast):\n"
     ]
    },
    {
     "name": "stdout",
     "output_type": "stream",
     "text": [
      "Saved frame 572.\n",
      "Saved frame 573.\n"
     ]
    },
    {
     "name": "stderr",
     "output_type": "stream",
     "text": [
      "/home/prasanna-nage/.cache/torch/hub/ultralytics_yolov5_master/models/common.py:892: FutureWarning: `torch.cuda.amp.autocast(args...)` is deprecated. Please use `torch.amp.autocast('cuda', args...)` instead.\n",
      "  with amp.autocast(autocast):\n",
      "/home/prasanna-nage/.cache/torch/hub/ultralytics_yolov5_master/models/common.py:892: FutureWarning: `torch.cuda.amp.autocast(args...)` is deprecated. Please use `torch.amp.autocast('cuda', args...)` instead.\n",
      "  with amp.autocast(autocast):\n",
      "/home/prasanna-nage/.cache/torch/hub/ultralytics_yolov5_master/models/common.py:892: FutureWarning: `torch.cuda.amp.autocast(args...)` is deprecated. Please use `torch.amp.autocast('cuda', args...)` instead.\n",
      "  with amp.autocast(autocast):\n"
     ]
    },
    {
     "name": "stdout",
     "output_type": "stream",
     "text": [
      "Saved frame 574.\n",
      "Saved frame 575.\n",
      "Saved frame 576.\n"
     ]
    },
    {
     "name": "stderr",
     "output_type": "stream",
     "text": [
      "/home/prasanna-nage/.cache/torch/hub/ultralytics_yolov5_master/models/common.py:892: FutureWarning: `torch.cuda.amp.autocast(args...)` is deprecated. Please use `torch.amp.autocast('cuda', args...)` instead.\n",
      "  with amp.autocast(autocast):\n",
      "/home/prasanna-nage/.cache/torch/hub/ultralytics_yolov5_master/models/common.py:892: FutureWarning: `torch.cuda.amp.autocast(args...)` is deprecated. Please use `torch.amp.autocast('cuda', args...)` instead.\n",
      "  with amp.autocast(autocast):\n"
     ]
    },
    {
     "name": "stdout",
     "output_type": "stream",
     "text": [
      "Saved frame 577.\n",
      "Saved frame 578.\n"
     ]
    },
    {
     "name": "stderr",
     "output_type": "stream",
     "text": [
      "/home/prasanna-nage/.cache/torch/hub/ultralytics_yolov5_master/models/common.py:892: FutureWarning: `torch.cuda.amp.autocast(args...)` is deprecated. Please use `torch.amp.autocast('cuda', args...)` instead.\n",
      "  with amp.autocast(autocast):\n",
      "/home/prasanna-nage/.cache/torch/hub/ultralytics_yolov5_master/models/common.py:892: FutureWarning: `torch.cuda.amp.autocast(args...)` is deprecated. Please use `torch.amp.autocast('cuda', args...)` instead.\n",
      "  with amp.autocast(autocast):\n",
      "/home/prasanna-nage/.cache/torch/hub/ultralytics_yolov5_master/models/common.py:892: FutureWarning: `torch.cuda.amp.autocast(args...)` is deprecated. Please use `torch.amp.autocast('cuda', args...)` instead.\n",
      "  with amp.autocast(autocast):\n"
     ]
    },
    {
     "name": "stdout",
     "output_type": "stream",
     "text": [
      "Saved frame 579.\n",
      "Saved frame 580.\n",
      "Saved frame 581.\n",
      "Saved frame 582.\n",
      "Saved frame 583.\n"
     ]
    },
    {
     "name": "stderr",
     "output_type": "stream",
     "text": [
      "/home/prasanna-nage/.cache/torch/hub/ultralytics_yolov5_master/models/common.py:892: FutureWarning: `torch.cuda.amp.autocast(args...)` is deprecated. Please use `torch.amp.autocast('cuda', args...)` instead.\n",
      "  with amp.autocast(autocast):\n",
      "/home/prasanna-nage/.cache/torch/hub/ultralytics_yolov5_master/models/common.py:892: FutureWarning: `torch.cuda.amp.autocast(args...)` is deprecated. Please use `torch.amp.autocast('cuda', args...)` instead.\n",
      "  with amp.autocast(autocast):\n",
      "/home/prasanna-nage/.cache/torch/hub/ultralytics_yolov5_master/models/common.py:892: FutureWarning: `torch.cuda.amp.autocast(args...)` is deprecated. Please use `torch.amp.autocast('cuda', args...)` instead.\n",
      "  with amp.autocast(autocast):\n"
     ]
    },
    {
     "name": "stdout",
     "output_type": "stream",
     "text": [
      "Saved frame 584.\n",
      "Saved frame 585.\n"
     ]
    },
    {
     "name": "stderr",
     "output_type": "stream",
     "text": [
      "/home/prasanna-nage/.cache/torch/hub/ultralytics_yolov5_master/models/common.py:892: FutureWarning: `torch.cuda.amp.autocast(args...)` is deprecated. Please use `torch.amp.autocast('cuda', args...)` instead.\n",
      "  with amp.autocast(autocast):\n",
      "/home/prasanna-nage/.cache/torch/hub/ultralytics_yolov5_master/models/common.py:892: FutureWarning: `torch.cuda.amp.autocast(args...)` is deprecated. Please use `torch.amp.autocast('cuda', args...)` instead.\n",
      "  with amp.autocast(autocast):\n"
     ]
    },
    {
     "name": "stdout",
     "output_type": "stream",
     "text": [
      "Saved frame 586.\n",
      "Saved frame 587.\n"
     ]
    },
    {
     "name": "stderr",
     "output_type": "stream",
     "text": [
      "/home/prasanna-nage/.cache/torch/hub/ultralytics_yolov5_master/models/common.py:892: FutureWarning: `torch.cuda.amp.autocast(args...)` is deprecated. Please use `torch.amp.autocast('cuda', args...)` instead.\n",
      "  with amp.autocast(autocast):\n",
      "/home/prasanna-nage/.cache/torch/hub/ultralytics_yolov5_master/models/common.py:892: FutureWarning: `torch.cuda.amp.autocast(args...)` is deprecated. Please use `torch.amp.autocast('cuda', args...)` instead.\n",
      "  with amp.autocast(autocast):\n"
     ]
    },
    {
     "name": "stdout",
     "output_type": "stream",
     "text": [
      "Saved frame 588.\n",
      "Saved frame 589.\n"
     ]
    },
    {
     "name": "stderr",
     "output_type": "stream",
     "text": [
      "/home/prasanna-nage/.cache/torch/hub/ultralytics_yolov5_master/models/common.py:892: FutureWarning: `torch.cuda.amp.autocast(args...)` is deprecated. Please use `torch.amp.autocast('cuda', args...)` instead.\n",
      "  with amp.autocast(autocast):\n",
      "/home/prasanna-nage/.cache/torch/hub/ultralytics_yolov5_master/models/common.py:892: FutureWarning: `torch.cuda.amp.autocast(args...)` is deprecated. Please use `torch.amp.autocast('cuda', args...)` instead.\n",
      "  with amp.autocast(autocast):\n"
     ]
    },
    {
     "name": "stdout",
     "output_type": "stream",
     "text": [
      "Saved frame 590.\n",
      "Saved frame 591.\n"
     ]
    },
    {
     "name": "stderr",
     "output_type": "stream",
     "text": [
      "/home/prasanna-nage/.cache/torch/hub/ultralytics_yolov5_master/models/common.py:892: FutureWarning: `torch.cuda.amp.autocast(args...)` is deprecated. Please use `torch.amp.autocast('cuda', args...)` instead.\n",
      "  with amp.autocast(autocast):\n",
      "/home/prasanna-nage/.cache/torch/hub/ultralytics_yolov5_master/models/common.py:892: FutureWarning: `torch.cuda.amp.autocast(args...)` is deprecated. Please use `torch.amp.autocast('cuda', args...)` instead.\n",
      "  with amp.autocast(autocast):\n"
     ]
    },
    {
     "name": "stdout",
     "output_type": "stream",
     "text": [
      "Saved frame 592.\n",
      "Saved frame 593.\n"
     ]
    },
    {
     "name": "stderr",
     "output_type": "stream",
     "text": [
      "/home/prasanna-nage/.cache/torch/hub/ultralytics_yolov5_master/models/common.py:892: FutureWarning: `torch.cuda.amp.autocast(args...)` is deprecated. Please use `torch.amp.autocast('cuda', args...)` instead.\n",
      "  with amp.autocast(autocast):\n",
      "/home/prasanna-nage/.cache/torch/hub/ultralytics_yolov5_master/models/common.py:892: FutureWarning: `torch.cuda.amp.autocast(args...)` is deprecated. Please use `torch.amp.autocast('cuda', args...)` instead.\n",
      "  with amp.autocast(autocast):\n"
     ]
    },
    {
     "name": "stdout",
     "output_type": "stream",
     "text": [
      "Saved frame 594.\n",
      "Saved frame 595.\n"
     ]
    },
    {
     "name": "stderr",
     "output_type": "stream",
     "text": [
      "/home/prasanna-nage/.cache/torch/hub/ultralytics_yolov5_master/models/common.py:892: FutureWarning: `torch.cuda.amp.autocast(args...)` is deprecated. Please use `torch.amp.autocast('cuda', args...)` instead.\n",
      "  with amp.autocast(autocast):\n",
      "/home/prasanna-nage/.cache/torch/hub/ultralytics_yolov5_master/models/common.py:892: FutureWarning: `torch.cuda.amp.autocast(args...)` is deprecated. Please use `torch.amp.autocast('cuda', args...)` instead.\n",
      "  with amp.autocast(autocast):\n"
     ]
    },
    {
     "name": "stdout",
     "output_type": "stream",
     "text": [
      "Saved frame 596.\n",
      "Saved frame 597.\n"
     ]
    },
    {
     "name": "stderr",
     "output_type": "stream",
     "text": [
      "/home/prasanna-nage/.cache/torch/hub/ultralytics_yolov5_master/models/common.py:892: FutureWarning: `torch.cuda.amp.autocast(args...)` is deprecated. Please use `torch.amp.autocast('cuda', args...)` instead.\n",
      "  with amp.autocast(autocast):\n",
      "/home/prasanna-nage/.cache/torch/hub/ultralytics_yolov5_master/models/common.py:892: FutureWarning: `torch.cuda.amp.autocast(args...)` is deprecated. Please use `torch.amp.autocast('cuda', args...)` instead.\n",
      "  with amp.autocast(autocast):\n"
     ]
    },
    {
     "name": "stdout",
     "output_type": "stream",
     "text": [
      "Saved frame 598.\n",
      "Saved frame 599.\n"
     ]
    },
    {
     "name": "stderr",
     "output_type": "stream",
     "text": [
      "/home/prasanna-nage/.cache/torch/hub/ultralytics_yolov5_master/models/common.py:892: FutureWarning: `torch.cuda.amp.autocast(args...)` is deprecated. Please use `torch.amp.autocast('cuda', args...)` instead.\n",
      "  with amp.autocast(autocast):\n",
      "/home/prasanna-nage/.cache/torch/hub/ultralytics_yolov5_master/models/common.py:892: FutureWarning: `torch.cuda.amp.autocast(args...)` is deprecated. Please use `torch.amp.autocast('cuda', args...)` instead.\n",
      "  with amp.autocast(autocast):\n"
     ]
    },
    {
     "name": "stdout",
     "output_type": "stream",
     "text": [
      "Saved frame 600.\n",
      "Saved frame 601.\n"
     ]
    },
    {
     "name": "stderr",
     "output_type": "stream",
     "text": [
      "/home/prasanna-nage/.cache/torch/hub/ultralytics_yolov5_master/models/common.py:892: FutureWarning: `torch.cuda.amp.autocast(args...)` is deprecated. Please use `torch.amp.autocast('cuda', args...)` instead.\n",
      "  with amp.autocast(autocast):\n",
      "/home/prasanna-nage/.cache/torch/hub/ultralytics_yolov5_master/models/common.py:892: FutureWarning: `torch.cuda.amp.autocast(args...)` is deprecated. Please use `torch.amp.autocast('cuda', args...)` instead.\n",
      "  with amp.autocast(autocast):\n"
     ]
    },
    {
     "name": "stdout",
     "output_type": "stream",
     "text": [
      "Saved frame 602.\n",
      "Saved frame 603.\n"
     ]
    },
    {
     "name": "stderr",
     "output_type": "stream",
     "text": [
      "/home/prasanna-nage/.cache/torch/hub/ultralytics_yolov5_master/models/common.py:892: FutureWarning: `torch.cuda.amp.autocast(args...)` is deprecated. Please use `torch.amp.autocast('cuda', args...)` instead.\n",
      "  with amp.autocast(autocast):\n",
      "/home/prasanna-nage/.cache/torch/hub/ultralytics_yolov5_master/models/common.py:892: FutureWarning: `torch.cuda.amp.autocast(args...)` is deprecated. Please use `torch.amp.autocast('cuda', args...)` instead.\n",
      "  with amp.autocast(autocast):\n"
     ]
    },
    {
     "name": "stdout",
     "output_type": "stream",
     "text": [
      "Saved frame 604.\n",
      "Saved frame 605.\n"
     ]
    },
    {
     "name": "stderr",
     "output_type": "stream",
     "text": [
      "/home/prasanna-nage/.cache/torch/hub/ultralytics_yolov5_master/models/common.py:892: FutureWarning: `torch.cuda.amp.autocast(args...)` is deprecated. Please use `torch.amp.autocast('cuda', args...)` instead.\n",
      "  with amp.autocast(autocast):\n",
      "/home/prasanna-nage/.cache/torch/hub/ultralytics_yolov5_master/models/common.py:892: FutureWarning: `torch.cuda.amp.autocast(args...)` is deprecated. Please use `torch.amp.autocast('cuda', args...)` instead.\n",
      "  with amp.autocast(autocast):\n"
     ]
    },
    {
     "name": "stdout",
     "output_type": "stream",
     "text": [
      "Saved frame 606.\n",
      "Saved frame 607.\n"
     ]
    },
    {
     "name": "stderr",
     "output_type": "stream",
     "text": [
      "/home/prasanna-nage/.cache/torch/hub/ultralytics_yolov5_master/models/common.py:892: FutureWarning: `torch.cuda.amp.autocast(args...)` is deprecated. Please use `torch.amp.autocast('cuda', args...)` instead.\n",
      "  with amp.autocast(autocast):\n",
      "/home/prasanna-nage/.cache/torch/hub/ultralytics_yolov5_master/models/common.py:892: FutureWarning: `torch.cuda.amp.autocast(args...)` is deprecated. Please use `torch.amp.autocast('cuda', args...)` instead.\n",
      "  with amp.autocast(autocast):\n"
     ]
    },
    {
     "name": "stdout",
     "output_type": "stream",
     "text": [
      "Saved frame 608.\n",
      "Saved frame 609.\n"
     ]
    },
    {
     "name": "stderr",
     "output_type": "stream",
     "text": [
      "/home/prasanna-nage/.cache/torch/hub/ultralytics_yolov5_master/models/common.py:892: FutureWarning: `torch.cuda.amp.autocast(args...)` is deprecated. Please use `torch.amp.autocast('cuda', args...)` instead.\n",
      "  with amp.autocast(autocast):\n",
      "/home/prasanna-nage/.cache/torch/hub/ultralytics_yolov5_master/models/common.py:892: FutureWarning: `torch.cuda.amp.autocast(args...)` is deprecated. Please use `torch.amp.autocast('cuda', args...)` instead.\n",
      "  with amp.autocast(autocast):\n"
     ]
    },
    {
     "name": "stdout",
     "output_type": "stream",
     "text": [
      "Saved frame 610.\n",
      "Saved frame 611.\n"
     ]
    },
    {
     "name": "stderr",
     "output_type": "stream",
     "text": [
      "/home/prasanna-nage/.cache/torch/hub/ultralytics_yolov5_master/models/common.py:892: FutureWarning: `torch.cuda.amp.autocast(args...)` is deprecated. Please use `torch.amp.autocast('cuda', args...)` instead.\n",
      "  with amp.autocast(autocast):\n",
      "/home/prasanna-nage/.cache/torch/hub/ultralytics_yolov5_master/models/common.py:892: FutureWarning: `torch.cuda.amp.autocast(args...)` is deprecated. Please use `torch.amp.autocast('cuda', args...)` instead.\n",
      "  with amp.autocast(autocast):\n"
     ]
    },
    {
     "name": "stdout",
     "output_type": "stream",
     "text": [
      "Saved frame 612.\n",
      "Saved frame 613.\n",
      "Entity Detection Completed!\n",
      "Detected Events: [{'frame': 0, 'label': 'person', 'confidence': np.float32(0.85021824), 'bbox': (np.float32(668.02185), np.float32(440.86765), np.float32(711.528), np.float32(576.9196)), 'referee': True}, {'frame': 0, 'label': 'person', 'confidence': np.float32(0.8054073), 'bbox': (np.float32(554.4234), np.float32(289.2538), np.float32(600.9712), np.float32(385.32062)), 'referee': True}, {'frame': 0, 'label': 'person', 'confidence': np.float32(0.79958755), 'bbox': (np.float32(619.149), np.float32(321.21722), np.float32(695.14526), np.float32(433.13885)), 'referee': True}, {'frame': 0, 'label': 'person', 'confidence': np.float32(0.7794946), 'bbox': (np.float32(1063.4657), np.float32(233.3462), np.float32(1113.4331), np.float32(312.37662)), 'referee': True}, {'frame': 0, 'label': 'person', 'confidence': np.float32(0.71337026), 'bbox': (np.float32(740.8159), np.float32(177.97968), np.float32(825.5121), np.float32(284.5503)), 'team': 1, 'referee': True}, {'frame': 0, 'label': 'person', 'confidence': np.float32(0.6014283), 'bbox': (np.float32(374.21393), np.float32(150.224), np.float32(427.6618), np.float32(234.6551)), 'team': 1, 'referee': True}, {'frame': 0, 'label': 'person', 'confidence': np.float32(0.5985262), 'bbox': (np.float32(34.277664), np.float32(96.15732), np.float32(87.924286), np.float32(162.7829)), 'team': 1}, {'frame': 0, 'label': 'person', 'confidence': np.float32(0.42829746), 'bbox': (np.float32(564.8812), np.float32(119.671936), np.float32(601.9735), np.float32(188.60765)), 'team': 1}, {'frame': 0, 'label': 'person', 'confidence': np.float32(0.32451594), 'bbox': (np.float32(305.25677), np.float32(167.8326), np.float32(370.98438), np.float32(232.03703)), 'team': 1}, {'frame': 0, 'label': 'person', 'confidence': np.float32(0.26401484), 'bbox': (np.float32(706.3926), np.float32(129.35541), np.float32(734.28076), np.float32(172.78308))}, {'frame': 1, 'label': 'person', 'confidence': np.float32(0.8500211), 'bbox': (np.float32(668.01514), np.float32(440.8702), np.float32(711.529), np.float32(576.91895)), 'referee': True}, {'frame': 1, 'label': 'person', 'confidence': np.float32(0.8055222), 'bbox': (np.float32(554.41766), np.float32(289.25644), np.float32(600.9687), np.float32(385.296)), 'referee': True}, {'frame': 1, 'label': 'person', 'confidence': np.float32(0.79937845), 'bbox': (np.float32(619.14606), np.float32(321.2149), np.float32(695.14154), np.float32(433.13962)), 'referee': True}, {'frame': 1, 'label': 'person', 'confidence': np.float32(0.7792568), 'bbox': (np.float32(1063.4635), np.float32(233.3447), np.float32(1113.4288), np.float32(312.37933)), 'referee': True}, {'frame': 1, 'label': 'person', 'confidence': np.float32(0.7134463), 'bbox': (np.float32(740.82623), np.float32(177.97198), np.float32(825.50977), np.float32(284.55682)), 'team': 1, 'referee': True}, {'frame': 1, 'label': 'person', 'confidence': np.float32(0.60206705), 'bbox': (np.float32(374.20584), np.float32(150.20467), np.float32(427.6769), np.float32(234.66684)), 'team': 1, 'referee': True}, {'frame': 1, 'label': 'person', 'confidence': np.float32(0.59978724), 'bbox': (np.float32(34.229206), np.float32(96.14887), np.float32(87.93424), np.float32(162.79495)), 'team': 1}, {'frame': 1, 'label': 'person', 'confidence': np.float32(0.43113872), 'bbox': (np.float32(564.90546), np.float32(119.67529), np.float32(601.9674), np.float32(188.59245)), 'team': 1}, {'frame': 1, 'label': 'person', 'confidence': np.float32(0.32419437), 'bbox': (np.float32(305.24527), np.float32(167.84343), np.float32(370.97653), np.float32(232.05031)), 'team': 1}, {'frame': 1, 'label': 'person', 'confidence': np.float32(0.26428977), 'bbox': (np.float32(706.4048), np.float32(129.38046), np.float32(734.2799), np.float32(172.7844))}, {'frame': 2, 'label': 'person', 'confidence': np.float32(0.84973454), 'bbox': (np.float32(668.0175), np.float32(440.85184), np.float32(711.5235), np.float32(576.92053)), 'referee': True}, {'frame': 2, 'label': 'person', 'confidence': np.float32(0.80553454), 'bbox': (np.float32(554.41876), np.float32(289.2566), np.float32(600.96796), np.float32(385.28647)), 'referee': True}, {'frame': 2, 'label': 'person', 'confidence': np.float32(0.7990777), 'bbox': (np.float32(619.1429), np.float32(321.21454), np.float32(695.1249), np.float32(433.13235)), 'referee': True}, {'frame': 2, 'label': 'person', 'confidence': np.float32(0.7792495), 'bbox': (np.float32(1063.4639), np.float32(233.35062), np.float32(1113.4193), np.float32(312.36768)), 'referee': True}, {'frame': 2, 'label': 'person', 'confidence': np.float32(0.7132112), 'bbox': (np.float32(740.892), np.float32(177.97832), np.float32(825.4888), np.float32(284.53693)), 'team': 1, 'referee': True}, {'frame': 2, 'label': 'person', 'confidence': np.float32(0.6021052), 'bbox': (np.float32(374.20868), np.float32(150.17674), np.float32(427.68906), np.float32(234.66647)), 'team': 1, 'referee': True}, {'frame': 2, 'label': 'person', 'confidence': np.float32(0.59975725), 'bbox': (np.float32(34.23037), np.float32(96.13991), np.float32(87.93491), np.float32(162.79475)), 'team': 1}, {'frame': 2, 'label': 'person', 'confidence': np.float32(0.43085557), 'bbox': (np.float32(564.90936), np.float32(119.68885), np.float32(601.96497), np.float32(188.59117)), 'team': 1}, {'frame': 2, 'label': 'person', 'confidence': np.float32(0.3258786), 'bbox': (np.float32(305.21692), np.float32(167.7309), np.float32(370.9966), np.float32(232.07869)), 'team': 1}, {'frame': 2, 'label': 'person', 'confidence': np.float32(0.26411083), 'bbox': (np.float32(706.4111), np.float32(129.3867), np.float32(734.2757), np.float32(172.78568))}, {'frame': 3, 'label': 'person', 'confidence': np.float32(0.8441986), 'bbox': (np.float32(668.6538), np.float32(440.6926), np.float32(713.28687), np.float32(577.0933)), 'referee': True}, {'frame': 3, 'label': 'person', 'confidence': np.float32(0.80133164), 'bbox': (np.float32(616.82806), np.float32(324.81476), np.float32(688.71674), np.float32(435.9776)), 'referee': True}, {'frame': 3, 'label': 'person', 'confidence': np.float32(0.7749996), 'bbox': (np.float32(557.8949), np.float32(288.98434), np.float32(603.3453), np.float32(382.7373)), 'referee': True}, {'frame': 3, 'label': 'person', 'confidence': np.float32(0.7656068), 'bbox': (np.float32(22.350725), np.float32(94.22426), np.float32(81.98959), np.float32(162.69394)), 'team': 1, 'referee': True}, {'frame': 3, 'label': 'person', 'confidence': np.float32(0.7575666), 'bbox': (np.float32(740.492), np.float32(191.65958), np.float32(819.45056), np.float32(286.44144)), 'team': 1, 'referee': True}, {'frame': 3, 'label': 'person', 'confidence': np.float32(0.7530797), 'bbox': (np.float32(1065.6227), np.float32(227.55913), np.float32(1112.5773), np.float32(310.1408)), 'referee': True}, {'frame': 3, 'label': 'person', 'confidence': np.float32(0.58972436), 'bbox': (np.float32(359.17703), np.float32(144.63777), np.float32(413.1995), np.float32(233.70815)), 'team': 1, 'referee': True}, {'frame': 3, 'label': 'person', 'confidence': np.float32(0.49732572), 'bbox': (np.float32(294.80746), np.float32(162.0437), np.float32(361.88168), np.float32(233.3487)), 'team': 0, 'referee': True}, {'frame': 3, 'label': 'person', 'confidence': np.float32(0.3099768), 'bbox': (np.float32(556.5069), np.float32(123.558784), np.float32(592.2005), np.float32(187.33145)), 'team': 1}, {'frame': 4, 'label': 'person', 'confidence': np.float32(0.8500042), 'bbox': (np.float32(668.9889), np.float32(440.4233), np.float32(714.3863), np.float32(577.1534)), 'referee': True}, {'frame': 4, 'label': 'person', 'confidence': np.float32(0.7740131), 'bbox': (np.float32(559.53485), np.float32(289.18436), np.float32(605.3154), np.float32(389.68378)), 'referee': True}, {'frame': 4, 'label': 'person', 'confidence': np.float32(0.77332294), 'bbox': (np.float32(615.72375), np.float32(328.20465), np.float32(684.24194), np.float32(434.51147)), 'referee': True}, {'frame': 4, 'label': 'person', 'confidence': np.float32(0.7684725), 'bbox': (np.float32(737.7378), np.float32(185.2494), np.float32(817.776), np.float32(288.72754)), 'team': 1, 'referee': True}, {'frame': 4, 'label': 'person', 'confidence': np.float32(0.76376814), 'bbox': (np.float32(19.978592), np.float32(92.946266), np.float32(79.82684), np.float32(162.9531)), 'team': 1, 'referee': True}, {'frame': 4, 'label': 'person', 'confidence': np.float32(0.74413764), 'bbox': (np.float32(1065.1996), np.float32(230.85808), np.float32(1111.9001), np.float32(311.77725)), 'referee': True}, {'frame': 4, 'label': 'person', 'confidence': np.float32(0.63304996), 'bbox': (np.float32(351.63367), np.float32(145.01276), np.float32(404.7846), np.float32(236.69458)), 'team': 1, 'referee': True}, {'frame': 4, 'label': 'person', 'confidence': np.float32(0.5588135), 'bbox': (np.float32(292.6105), np.float32(161.93289), np.float32(358.08395), np.float32(230.82977)), 'team': 0, 'referee': True}, {'frame': 4, 'label': 'person', 'confidence': np.float32(0.2823795), 'bbox': (np.float32(552.5731), np.float32(120.47958), np.float32(589.6028), np.float32(189.41283)), 'team': 1}, {'frame': 5, 'label': 'person', 'confidence': np.float32(0.8500244), 'bbox': (np.float32(667.80695), np.float32(438.64957), np.float32(716.17255), np.float32(578.00543)), 'referee': True}, {'frame': 5, 'label': 'person', 'confidence': np.float32(0.82668126), 'bbox': (np.float32(613.40485), np.float32(329.78848), np.float32(670.86847), np.float32(442.1916)), 'referee': True}, {'frame': 5, 'label': 'person', 'confidence': np.float32(0.7914183), 'bbox': (np.float32(731.26636), np.float32(188.23837), np.float32(807.6618), np.float32(287.63446)), 'team': 1, 'referee': True}, {'frame': 5, 'label': 'person', 'confidence': np.float32(0.782007), 'bbox': (np.float32(563.97766), np.float32(288.761), np.float32(609.8816), np.float32(384.62445))}, {'frame': 5, 'label': 'person', 'confidence': np.float32(0.6946486), 'bbox': (np.float32(31.08252), np.float32(93.45514), np.float32(78.67615), np.float32(161.88557)), 'team': 1}, {'frame': 5, 'label': 'person', 'confidence': np.float32(0.6322025), 'bbox': (np.float32(1067.2966), np.float32(228.19084), np.float32(1110.5698), np.float32(307.94077)), 'referee': True}, {'frame': 5, 'label': 'person', 'confidence': np.float32(0.5744898), 'bbox': (np.float32(338.1064), np.float32(148.90213), np.float32(394.4357), np.float32(236.59476)), 'team': 1, 'referee': True}, {'frame': 5, 'label': 'person', 'confidence': np.float32(0.40673324), 'bbox': (np.float32(544.99695), np.float32(118.29092), np.float32(582.98956), np.float32(188.16463)), 'team': 1}, {'frame': 5, 'label': 'baseball bat', 'confidence': np.float32(0.25857648), 'bbox': (np.float32(672.10657), np.float32(265.51328), np.float32(742.8764), np.float32(298.14743)), 'team': 0}, {'frame': 6, 'label': 'person', 'confidence': np.float32(0.8602548), 'bbox': (np.float32(668.16943), np.float32(437.7708), np.float32(717.2795), np.float32(578.2909)), 'referee': True}, {'frame': 6, 'label': 'person', 'confidence': np.float32(0.7949921), 'bbox': (np.float32(613.60614), np.float32(330.97684), np.float32(668.09766), np.float32(441.58276)), 'referee': True}, {'frame': 6, 'label': 'person', 'confidence': np.float32(0.77860653), 'bbox': (np.float32(564.39246), np.float32(286.85147), np.float32(611.7594), np.float32(389.905))}, {'frame': 6, 'label': 'person', 'confidence': np.float32(0.7184944), 'bbox': (np.float32(727.9555), np.float32(186.93558), np.float32(805.31226), np.float32(288.22882)), 'team': 1, 'referee': True}, {'frame': 6, 'label': 'person', 'confidence': np.float32(0.6374001), 'bbox': (np.float32(331.9304), np.float32(145.10858), np.float32(387.8175), np.float32(235.23024)), 'team': 1, 'referee': True}, {'frame': 6, 'label': 'person', 'confidence': np.float32(0.61038685), 'bbox': (np.float32(1067.2241), np.float32(227.18365), np.float32(1110.7067), np.float32(307.78864)), 'referee': True}, {'frame': 6, 'label': 'person', 'confidence': np.float32(0.566764), 'bbox': (np.float32(25.250528), np.float32(95.86944), np.float32(76.28603), np.float32(160.45065)), 'team': 1}, {'frame': 6, 'label': 'person', 'confidence': np.float32(0.36909643), 'bbox': (np.float32(543.31775), np.float32(118.75612), np.float32(579.10144), np.float32(184.25063)), 'team': 1}, {'frame': 6, 'label': 'person', 'confidence': np.float32(0.25254256), 'bbox': (np.float32(277.85117), np.float32(172.98645), np.float32(333.10663), np.float32(227.54242)), 'team': 0}, {'frame': 7, 'label': 'person', 'confidence': np.float32(0.8655719), 'bbox': (np.float32(668.7079), np.float32(438.00995), np.float32(718.0031), np.float32(579.2527)), 'referee': True}, {'frame': 7, 'label': 'person', 'confidence': np.float32(0.8024405), 'bbox': (np.float32(613.6667), np.float32(332.23483), np.float32(667.5177), np.float32(444.86002)), 'referee': True}, {'frame': 7, 'label': 'person', 'confidence': np.float32(0.802014), 'bbox': (np.float32(567.6833), np.float32(286.10413), np.float32(614.1839), np.float32(391.364)), 'referee': True}, {'frame': 7, 'label': 'person', 'confidence': np.float32(0.7122155), 'bbox': (np.float32(724.3403), np.float32(194.58107), np.float32(803.2166), np.float32(290.31317)), 'team': 1, 'referee': True}, {'frame': 7, 'label': 'person', 'confidence': np.float32(0.66894996), 'bbox': (np.float32(323.47842), np.float32(145.9049), np.float32(385.53214), np.float32(234.94403)), 'team': 1, 'referee': True}, {'frame': 7, 'label': 'person', 'confidence': np.float32(0.61937565), 'bbox': (np.float32(1066.976), np.float32(226.50005), np.float32(1111.7103), np.float32(307.7582)), 'referee': True}, {'frame': 7, 'label': 'person', 'confidence': np.float32(0.5714882), 'bbox': (np.float32(25.254356), np.float32(95.58502), np.float32(74.19028), np.float32(160.0803)), 'team': 1}, {'frame': 7, 'label': 'person', 'confidence': np.float32(0.34391183), 'bbox': (np.float32(273.45718), np.float32(165.11122), np.float32(338.4365), np.float32(229.32259)), 'team': 0}, {'frame': 7, 'label': 'person', 'confidence': np.float32(0.29293188), 'bbox': (np.float32(538.98627), np.float32(122.34132), np.float32(575.2293), np.float32(188.18823)), 'team': 1}, {'frame': 8, 'label': 'person', 'confidence': np.float32(0.8326408), 'bbox': (np.float32(671.4634), np.float32(437.99924), np.float32(720.29553), np.float32(579.63104)), 'referee': True}, {'frame': 8, 'label': 'person', 'confidence': np.float32(0.7819749), 'bbox': (np.float32(572.54895), np.float32(284.4644), np.float32(619.9942), np.float32(390.63528)), 'referee': True}, {'frame': 8, 'label': 'person', 'confidence': np.float32(0.7363228), 'bbox': (np.float32(613.29034), np.float32(331.66556), np.float32(666.5356), np.float32(445.3523)), 'referee': True}, {'frame': 8, 'label': 'person', 'confidence': np.float32(0.7119179), 'bbox': (np.float32(715.6374), np.float32(197.15196), np.float32(797.4306), np.float32(291.86157)), 'team': 1, 'referee': True}, {'frame': 8, 'label': 'person', 'confidence': np.float32(0.6753345), 'bbox': (np.float32(1066.4716), np.float32(225.67142), np.float32(1113.8315), np.float32(307.8822)), 'referee': True}, {'frame': 8, 'label': 'person', 'confidence': np.float32(0.6610357), 'bbox': (np.float32(311.8331), np.float32(147.61363), np.float32(373.99173), np.float32(234.88373)), 'team': 1, 'referee': True}, {'frame': 8, 'label': 'person', 'confidence': np.float32(0.58005476), 'bbox': (np.float32(29.511463), np.float32(92.61511), np.float32(72.0579), np.float32(161.06432)), 'team': 1}, {'frame': 8, 'label': 'person', 'confidence': np.float32(0.2603397), 'bbox': (np.float32(267.56378), np.float32(164.6374), np.float32(317.32245), np.float32(226.92592)), 'team': 0}, {'frame': 9, 'label': 'person', 'confidence': np.float32(0.8393553), 'bbox': (np.float32(674.0278), np.float32(433.83987), np.float32(720.12427), np.float32(581.4159)), 'referee': True}, {'frame': 9, 'label': 'person', 'confidence': np.float32(0.74573123), 'bbox': (np.float32(613.2966), np.float32(332.5795), np.float32(666.38605), np.float32(444.20398)), 'referee': True}, {'frame': 9, 'label': 'person', 'confidence': np.float32(0.7430511), 'bbox': (np.float32(576.1469), np.float32(282.7477), np.float32(622.85223), np.float32(390.22662)), 'referee': True}, {'frame': 9, 'label': 'person', 'confidence': np.float32(0.71627367), 'bbox': (np.float32(305.86008), np.float32(143.92151), np.float32(368.90094), np.float32(233.79364)), 'team': 1, 'referee': True}, {'frame': 9, 'label': 'person', 'confidence': np.float32(0.6822797), 'bbox': (np.float32(711.74457), np.float32(204.56749), np.float32(794.9346), np.float32(291.8418)), 'team': 1, 'referee': True}, {'frame': 9, 'label': 'person', 'confidence': np.float32(0.6813892), 'bbox': (np.float32(1068.5183), np.float32(222.47517), np.float32(1115.5856), np.float32(305.37366)), 'referee': True}, {'frame': 9, 'label': 'person', 'confidence': np.float32(0.6032792), 'bbox': (np.float32(31.905012), np.float32(92.12521), np.float32(71.75966), np.float32(160.50941)), 'team': 1}, {'frame': 9, 'label': 'person', 'confidence': np.float32(0.27676854), 'bbox': (np.float32(743.6547), np.float32(191.86363), np.float32(801.0514), np.float32(276.20862)), 'team': 0, 'referee': True}, {'frame': 9, 'label': 'person', 'confidence': np.float32(0.26990813), 'bbox': (np.float32(530.13916), np.float32(116.29798), np.float32(568.1914), np.float32(189.60965)), 'team': 1}, {'frame': 10, 'label': 'person', 'confidence': np.float32(0.843516), 'bbox': (np.float32(674.6375), np.float32(436.85016), np.float32(723.7902), np.float32(580.4334)), 'referee': True}, {'frame': 10, 'label': 'person', 'confidence': np.float32(0.7395722), 'bbox': (np.float32(1069.3658), np.float32(219.79544), np.float32(1117.6058), np.float32(308.20605)), 'referee': True}, {'frame': 10, 'label': 'person', 'confidence': np.float32(0.70515454), 'bbox': (np.float32(27.4889), np.float32(89.78917), np.float32(70.821686), np.float32(159.65756)), 'team': 1}, {'frame': 10, 'label': 'person', 'confidence': np.float32(0.69651496), 'bbox': (np.float32(703.7525), np.float32(199.49342), np.float32(787.82587), np.float32(294.84903)), 'team': 1, 'referee': True}, {'frame': 10, 'label': 'person', 'confidence': np.float32(0.69401526), 'bbox': (np.float32(609.252), np.float32(332.5046), np.float32(668.6879), np.float32(444.7333)), 'referee': True}, {'frame': 10, 'label': 'person', 'confidence': np.float32(0.674721), 'bbox': (np.float32(296.91953), np.float32(141.28102), np.float32(352.4765), np.float32(231.91844)), 'team': 1, 'referee': True}, {'frame': 10, 'label': 'person', 'confidence': np.float32(0.6367394), 'bbox': (np.float32(580.21094), np.float32(284.29), np.float32(630.7457), np.float32(390.79236)), 'referee': True}, {'frame': 10, 'label': 'person', 'confidence': np.float32(0.41195545), 'bbox': (np.float32(742.5343), np.float32(192.56557), np.float32(797.5035), np.float32(258.17346)), 'team': 0, 'referee': True}, {'frame': 10, 'label': 'skateboard', 'confidence': np.float32(0.25999168), 'bbox': (np.float32(1071.845), np.float32(296.57114), np.float32(1105.5428), np.float32(312.09506))}, {'frame': 11, 'label': 'person', 'confidence': np.float32(0.84724545), 'bbox': (np.float32(675.3799), np.float32(436.55597), np.float32(724.5865), np.float32(582.143)), 'referee': True}, {'frame': 11, 'label': 'person', 'confidence': np.float32(0.72950447), 'bbox': (np.float32(702.1075), np.float32(195.5863), np.float32(788.61176), np.float32(295.95917)), 'team': 1, 'referee': True}, {'frame': 11, 'label': 'person', 'confidence': np.float32(0.72233653), 'bbox': (np.float32(29.259764), np.float32(90.117935), np.float32(68.133156), np.float32(158.77138)), 'team': 1}, {'frame': 11, 'label': 'person', 'confidence': np.float32(0.72154814), 'bbox': (np.float32(611.19727), np.float32(332.78387), np.float32(671.0646), np.float32(445.3061)), 'referee': True}, {'frame': 11, 'label': 'person', 'confidence': np.float32(0.7098379), 'bbox': (np.float32(1071.3091), np.float32(218.8067), np.float32(1118.5286), np.float32(308.91608)), 'referee': True}, {'frame': 11, 'label': 'person', 'confidence': np.float32(0.69375336), 'bbox': (np.float32(288.8743), np.float32(142.16684), np.float32(347.2365), np.float32(232.56328)), 'team': 1, 'referee': True}, {'frame': 11, 'label': 'person', 'confidence': np.float32(0.6318837), 'bbox': (np.float32(584.3008), np.float32(283.8851), np.float32(632.96606), np.float32(393.06226)), 'referee': True}, {'frame': 11, 'label': 'person', 'confidence': np.float32(0.29826903), 'bbox': (np.float32(738.25604), np.float32(191.39514), np.float32(795.60895), np.float32(259.98273)), 'team': 0, 'referee': True}, {'frame': 12, 'label': 'person', 'confidence': np.float32(0.8789788), 'bbox': (np.float32(676.6055), np.float32(432.68707), np.float32(725.9975), np.float32(583.46326)), 'referee': True}, {'frame': 12, 'label': 'person', 'confidence': np.float32(0.7210775), 'bbox': (np.float32(1074.5226), np.float32(223.02818), np.float32(1119.4263), np.float32(307.945)), 'referee': True}, {'frame': 12, 'label': 'person', 'confidence': np.float32(0.6947666), 'bbox': (np.float32(29.696184), np.float32(89.72095), np.float32(66.26581), np.float32(158.4478)), 'team': 1}, {'frame': 12, 'label': 'person', 'confidence': np.float32(0.6811844), 'bbox': (np.float32(693.9834), np.float32(221.27826), np.float32(769.3029), np.float32(296.8097)), 'team': 1, 'referee': True}, {'frame': 12, 'label': 'person', 'confidence': np.float32(0.6405559), 'bbox': (np.float32(280.71317), np.float32(138.20265), np.float32(335.64267), np.float32(229.91435)), 'team': 1, 'referee': True}, {'frame': 12, 'label': 'person', 'confidence': np.float32(0.6348858), 'bbox': (np.float32(610.4194), np.float32(331.31244), np.float32(669.334), np.float32(451.06778)), 'referee': True}, {'frame': 12, 'label': 'person', 'confidence': np.float32(0.5728945), 'bbox': (np.float32(589.5426), np.float32(280.46194), np.float32(637.3531), np.float32(388.87173)), 'referee': True}, {'frame': 12, 'label': 'person', 'confidence': np.float32(0.4953432), 'bbox': (np.float32(737.7054), np.float32(191.53432), np.float32(793.55237), np.float32(260.96338)), 'team': 0, 'referee': True}, {'frame': 13, 'label': 'person', 'confidence': np.float32(0.87610704), 'bbox': (np.float32(676.46893), np.float32(432.34708), np.float32(728.9006), np.float32(583.00745)), 'referee': True}, {'frame': 13, 'label': 'person', 'confidence': np.float32(0.74792343), 'bbox': (np.float32(28.455078), np.float32(84.32397), np.float32(65.44442), np.float32(158.8177)), 'team': 1}, {'frame': 13, 'label': 'person', 'confidence': np.float32(0.7236358), 'bbox': (np.float32(690.624), np.float32(221.5309), np.float32(764.98004), np.float32(297.76913)), 'team': 1, 'referee': True}, {'frame': 13, 'label': 'person', 'confidence': np.float32(0.7074774), 'bbox': (np.float32(1075.8221), np.float32(225.14629), np.float32(1120.4175), np.float32(308.7638)), 'referee': True}, {'frame': 13, 'label': 'person', 'confidence': np.float32(0.70745426), 'bbox': (np.float32(273.44797), np.float32(137.76353), np.float32(329.94934), np.float32(228.99028)), 'team': 1, 'referee': True}, {'frame': 13, 'label': 'person', 'confidence': np.float32(0.6280118), 'bbox': (np.float32(608.4435), np.float32(330.76468), np.float32(669.72876), np.float32(450.38477)), 'referee': True}, {'frame': 13, 'label': 'person', 'confidence': np.float32(0.59332955), 'bbox': (np.float32(593.5277), np.float32(280.5255), np.float32(639.35077), np.float32(384.0064)), 'referee': True}, {'frame': 13, 'label': 'person', 'confidence': np.float32(0.52791756), 'bbox': (np.float32(730.96313), np.float32(189.38684), np.float32(790.2081), np.float32(265.2045)), 'team': 0, 'referee': True}, {'frame': 13, 'label': 'person', 'confidence': np.float32(0.30641174), 'bbox': (np.float32(513.8279), np.float32(115.40978), np.float32(552.669), np.float32(185.30463)), 'team': 1}, {'frame': 14, 'label': 'person', 'confidence': np.float32(0.87919354), 'bbox': (np.float32(677.1344), np.float32(433.00632), np.float32(732.6909), np.float32(583.4375)), 'referee': True}, {'frame': 14, 'label': 'person', 'confidence': np.float32(0.7935466), 'bbox': (np.float32(679.72296), np.float32(224.57388), np.float32(753.6484), np.float32(300.50665)), 'team': 1, 'referee': True}, {'frame': 14, 'label': 'person', 'confidence': np.float32(0.7267953), 'bbox': (np.float32(1078.8528), np.float32(225.31693), np.float32(1121.7252), np.float32(308.67368)), 'referee': True}, {'frame': 14, 'label': 'person', 'confidence': np.float32(0.7182149), 'bbox': (np.float32(263.9967), np.float32(137.77072), np.float32(314.4579), np.float32(226.20139)), 'team': 1, 'referee': True}, {'frame': 14, 'label': 'person', 'confidence': np.float32(0.7108636), 'bbox': (np.float32(27.550608), np.float32(88.69716), np.float32(64.1661), np.float32(158.16898)), 'team': 1}, {'frame': 14, 'label': 'person', 'confidence': np.float32(0.6881001), 'bbox': (np.float32(730.46246), np.float32(193.21513), np.float32(788.9265), np.float32(262.4307)), 'team': 0, 'referee': True}, {'frame': 14, 'label': 'person', 'confidence': np.float32(0.65644556), 'bbox': (np.float32(597.73096), np.float32(280.58908), np.float32(641.6303), np.float32(374.9386)), 'referee': True}, {'frame': 14, 'label': 'person', 'confidence': np.float32(0.55678743), 'bbox': (np.float32(605.5632), np.float32(333.22937), np.float32(669.8498), np.float32(442.41562)), 'referee': True}, {'frame': 14, 'label': 'skateboard', 'confidence': np.float32(0.37132785), 'bbox': (np.float32(1080.0403), np.float32(296.154), np.float32(1109.8524), np.float32(313.07837))}, {'frame': 14, 'label': 'person', 'confidence': np.float32(0.30536044), 'bbox': (np.float32(507.56638), np.float32(115.44786), np.float32(547.3881), np.float32(186.20766)), 'team': 1}, {'frame': 15, 'label': 'person', 'confidence': np.float32(0.8607943), 'bbox': (np.float32(678.1588), np.float32(433.70154), np.float32(737.28174), np.float32(583.69714)), 'referee': True}, {'frame': 15, 'label': 'person', 'confidence': np.float32(0.8181695), 'bbox': (np.float32(670.7256), np.float32(224.56178), np.float32(740.84607), np.float32(300.70197)), 'referee': True}, {'frame': 15, 'label': 'person', 'confidence': np.float32(0.68628377), 'bbox': (np.float32(1082.3816), np.float32(224.98776), np.float32(1122.8981), np.float32(304.5231)), 'referee': True}, {'frame': 15, 'label': 'person', 'confidence': np.float32(0.6846149), 'bbox': (np.float32(725.32227), np.float32(193.82864), np.float32(781.71075), np.float32(262.59)), 'referee': True}, {'frame': 15, 'label': 'person', 'confidence': np.float32(0.6257361), 'bbox': (np.float32(25.855324), np.float32(86.56962), np.float32(62.635612), np.float32(157.88019)), 'team': 1}, {'frame': 15, 'label': 'person', 'confidence': np.float32(0.5260864), 'bbox': (np.float32(252.41722), np.float32(139.1777), np.float32(305.51633), np.float32(227.9064)), 'team': 1, 'referee': True}, {'frame': 15, 'label': 'person', 'confidence': np.float32(0.5162273), 'bbox': (np.float32(598.75854), np.float32(283.28476), np.float32(647.9483), np.float32(375.8435)), 'referee': True}, {'frame': 15, 'label': 'skateboard', 'confidence': np.float32(0.45951894), 'bbox': (np.float32(1082.338), np.float32(296.31693), np.float32(1111.0585), np.float32(313.81674))}, {'frame': 15, 'label': 'person', 'confidence': np.float32(0.458502), 'bbox': (np.float32(611.14514), np.float32(348.95975), np.float32(667.75964), np.float32(452.06497)), 'referee': True}, {'frame': 15, 'label': 'person', 'confidence': np.float32(0.35287166), 'bbox': (np.float32(502.2948), np.float32(115.17711), np.float32(541.12665), np.float32(183.57455)), 'team': 1}, {'frame': 16, 'label': 'person', 'confidence': np.float32(0.83847594), 'bbox': (np.float32(680.2907), np.float32(438.10757), np.float32(739.4998), np.float32(585.73596)), 'referee': True}, {'frame': 16, 'label': 'person', 'confidence': np.float32(0.74464184), 'bbox': (np.float32(662.8684), np.float32(225.38695), np.float32(732.19116), np.float32(301.99884)), 'referee': True}, {'frame': 16, 'label': 'person', 'confidence': np.float32(0.6909992), 'bbox': (np.float32(1083.6475), np.float32(225.91454), np.float32(1122.7751), np.float32(308.60574)), 'referee': True}, {'frame': 16, 'label': 'person', 'confidence': np.float32(0.6256907), 'bbox': (np.float32(24.28132), np.float32(88.10686), np.float32(62.44171), np.float32(159.55405)), 'team': 1}, {'frame': 16, 'label': 'person', 'confidence': np.float32(0.6023932), 'bbox': (np.float32(602.12115), np.float32(285.1292), np.float32(650.14136), np.float32(367.4311)), 'referee': True}, {'frame': 16, 'label': 'person', 'confidence': np.float32(0.4772384), 'bbox': (np.float32(233.49803), np.float32(140.57228), np.float32(297.76874), np.float32(229.1401)), 'team': 1, 'referee': True}, {'frame': 16, 'label': 'person', 'confidence': np.float32(0.42704782), 'bbox': (np.float32(723.82733), np.float32(193.53082), np.float32(775.74854), np.float32(260.96588)), 'referee': True}, {'frame': 16, 'label': 'person', 'confidence': np.float32(0.41069037), 'bbox': (np.float32(607.0043), np.float32(353.20184), np.float32(661.95374), np.float32(455.17685)), 'referee': True}, {'frame': 16, 'label': 'skateboard', 'confidence': np.float32(0.38556734), 'bbox': (np.float32(1084.792), np.float32(296.27237), np.float32(1111.1118), np.float32(314.9933))}, {'frame': 16, 'label': 'person', 'confidence': np.float32(0.3175856), 'bbox': (np.float32(501.42642), np.float32(115.55158), np.float32(537.5395), np.float32(183.6388)), 'team': 1}, {'frame': 17, 'label': 'person', 'confidence': np.float32(0.84423685), 'bbox': (np.float32(682.6008), np.float32(438.31448), np.float32(742.9551), np.float32(587.08527)), 'referee': True}, {'frame': 17, 'label': 'person', 'confidence': np.float32(0.8248441), 'bbox': (np.float32(655.19543), np.float32(224.36122), np.float32(721.7704), np.float32(305.1954))}, {'frame': 17, 'label': 'person', 'confidence': np.float32(0.7137325), 'bbox': (np.float32(1085.061), np.float32(224.62029), np.float32(1126.1913), np.float32(308.87747)), 'referee': True}, {'frame': 17, 'label': 'person', 'confidence': np.float32(0.6954302), 'bbox': (np.float32(24.177118), np.float32(88.89759), np.float32(57.963108), np.float32(159.48596)), 'team': 1}, {'frame': 17, 'label': 'person', 'confidence': np.float32(0.6399141), 'bbox': (np.float32(225.89886), np.float32(135.06505), np.float32(283.40305), np.float32(231.45941)), 'team': 1, 'referee': True}, {'frame': 17, 'label': 'person', 'confidence': np.float32(0.63439834), 'bbox': (np.float32(712.0999), np.float32(193.95547), np.float32(767.90155), np.float32(263.9774)), 'referee': True}, {'frame': 17, 'label': 'person', 'confidence': np.float32(0.5323372), 'bbox': (np.float32(609.48334), np.float32(285.75998), np.float32(652.52386), np.float32(358.2621))}, {'frame': 17, 'label': 'skateboard', 'confidence': np.float32(0.51995754), 'bbox': (np.float32(1086.796), np.float32(296.6914), np.float32(1115.5497), np.float32(315.6977))}, {'frame': 17, 'label': 'person', 'confidence': np.float32(0.4124952), 'bbox': (np.float32(605.80817), np.float32(356.9397), np.float32(659.3234), np.float32(461.95853)), 'referee': True}, {'frame': 18, 'label': 'person', 'confidence': np.float32(0.80852616), 'bbox': (np.float32(683.395), np.float32(440.33292), np.float32(746.5671), np.float32(588.9898)), 'referee': True}, {'frame': 18, 'label': 'person', 'confidence': np.float32(0.78485), 'bbox': (np.float32(640.2903), np.float32(223.26598), np.float32(707.0178), np.float32(306.738)), 'referee': True}, {'frame': 18, 'label': 'person', 'confidence': np.float32(0.7115993), 'bbox': (np.float32(24.384537), np.float32(79.41122), np.float32(61.249413), np.float32(162.98123)), 'team': 1, 'referee': True}, {'frame': 18, 'label': 'person', 'confidence': np.float32(0.61976445), 'bbox': (np.float32(1088.0896), np.float32(223.85664), np.float32(1127.4962), np.float32(310.1657)), 'referee': True}, {'frame': 18, 'label': 'person', 'confidence': np.float32(0.6195916), 'bbox': (np.float32(707.8414), np.float32(197.39746), np.float32(763.09845), np.float32(265.567)), 'referee': True}, {'frame': 18, 'label': 'skateboard', 'confidence': np.float32(0.53720355), 'bbox': (np.float32(1089.1199), np.float32(297.841), np.float32(1121.4359), np.float32(315.5267))}, {'frame': 18, 'label': 'person', 'confidence': np.float32(0.528695), 'bbox': (np.float32(214.29608), np.float32(136.8512), np.float32(277.5417), np.float32(232.94725)), 'team': 1, 'referee': True}, {'frame': 18, 'label': 'person', 'confidence': np.float32(0.38110584), 'bbox': (np.float32(616.55634), np.float32(281.1572), np.float32(658.89905), np.float32(353.96167))}, {'frame': 19, 'label': 'person', 'confidence': np.float32(0.79653925), 'bbox': (np.float32(683.633), np.float32(440.82135), np.float32(750.0021), np.float32(589.71606)), 'referee': True}, {'frame': 19, 'label': 'person', 'confidence': np.float32(0.69012564), 'bbox': (np.float32(22.02637), np.float32(76.563965), np.float32(59.706436), np.float32(163.39336)), 'team': 1, 'referee': True}, {'frame': 19, 'label': 'person', 'confidence': np.float32(0.6292084), 'bbox': (np.float32(631.6842), np.float32(223.25757), np.float32(703.0281), np.float32(310.05005)), 'referee': True}, {'frame': 19, 'label': 'person', 'confidence': np.float32(0.60735005), 'bbox': (np.float32(707.7135), np.float32(195.62553), np.float32(759.3092), np.float32(266.07846)), 'referee': True}, {'frame': 19, 'label': 'person', 'confidence': np.float32(0.5918249), 'bbox': (np.float32(207.33553), np.float32(132.46712), np.float32(274.46072), np.float32(237.4502)), 'team': 1, 'referee': True}, {'frame': 19, 'label': 'person', 'confidence': np.float32(0.58386075), 'bbox': (np.float32(1090.9164), np.float32(221.23654), np.float32(1130.0082), np.float32(306.3614)), 'referee': True}, {'frame': 19, 'label': 'person', 'confidence': np.float32(0.52946293), 'bbox': (np.float32(601.25104), np.float32(330.50754), np.float32(661.73834), np.float32(477.8488)), 'referee': True}, {'frame': 19, 'label': 'skateboard', 'confidence': np.float32(0.4758832), 'bbox': (np.float32(1090.3665), np.float32(297.84525), np.float32(1122.2831), np.float32(315.99832))}, {'frame': 19, 'label': 'person', 'confidence': np.float32(0.28927496), 'bbox': (np.float32(224.63057), np.float32(68.38466), np.float32(259.08444), np.float32(127.45112)), 'team': 0}, {'frame': 20, 'label': 'person', 'confidence': np.float32(0.8048129), 'bbox': (np.float32(689.0383), np.float32(442.68103), np.float32(755.5814), np.float32(592.0982)), 'referee': True}, {'frame': 20, 'label': 'person', 'confidence': np.float32(0.7267163), 'bbox': (np.float32(19.372606), np.float32(82.295586), np.float32(57.37121), np.float32(165.1169)), 'team': 1}, {'frame': 20, 'label': 'person', 'confidence': np.float32(0.69282764), 'bbox': (np.float32(1091.5748), np.float32(219.45267), np.float32(1134.1647), np.float32(308.00818)), 'referee': True}, {'frame': 20, 'label': 'person', 'confidence': np.float32(0.58104664), 'bbox': (np.float32(202.89049), np.float32(133.92644), np.float32(259.38046), np.float32(232.41806)), 'team': 1, 'referee': True}, {'frame': 20, 'label': 'person', 'confidence': np.float32(0.5626858), 'bbox': (np.float32(702.158), np.float32(191.88797), np.float32(755.9917), np.float32(270.15637))}, {'frame': 20, 'label': 'person', 'confidence': np.float32(0.510957), 'bbox': (np.float32(625.948), np.float32(223.21336), np.float32(681.4784), np.float32(298.58575))}, {'frame': 20, 'label': 'person', 'confidence': np.float32(0.49356678), 'bbox': (np.float32(610.5077), np.float32(339.797), np.float32(669.61316), np.float32(482.40952)), 'referee': True}, {'frame': 20, 'label': 'skateboard', 'confidence': np.float32(0.4862921), 'bbox': (np.float32(1093.4639), np.float32(297.62253), np.float32(1126.1364), np.float32(314.44946))}, {'frame': 20, 'label': 'person', 'confidence': np.float32(0.37809986), 'bbox': (np.float32(624.96906), np.float32(279.59198), np.float32(674.984), np.float32(354.36264)), 'referee': True}, {'frame': 21, 'label': 'person', 'confidence': np.float32(0.79981565), 'bbox': (np.float32(692.10913), np.float32(444.20483), np.float32(760.85394), np.float32(595.71606)), 'referee': True}, {'frame': 21, 'label': 'person', 'confidence': np.float32(0.76145476), 'bbox': (np.float32(1092.1702), np.float32(217.66008), np.float32(1136.0087), np.float32(308.90164)), 'referee': True}, {'frame': 21, 'label': 'person', 'confidence': np.float32(0.7166452), 'bbox': (np.float32(18.30598), np.float32(85.50701), np.float32(55.049404), np.float32(163.38533)), 'team': 1}, {'frame': 21, 'label': 'person', 'confidence': np.float32(0.67144537), 'bbox': (np.float32(693.55884), np.float32(195.83842), np.float32(749.8878), np.float32(271.44968)), 'referee': True}, {'frame': 21, 'label': 'person', 'confidence': np.float32(0.605754), 'bbox': (np.float32(193.10017), np.float32(129.75356), np.float32(248.18686), np.float32(232.20683)), 'team': 1, 'referee': True}, {'frame': 21, 'label': 'person', 'confidence': np.float32(0.59254956), 'bbox': (np.float32(612.8452), np.float32(222.35399), np.float32(662.7695), np.float32(296.3529))}, {'frame': 21, 'label': 'person', 'confidence': np.float32(0.53595304), 'bbox': (np.float32(630.7108), np.float32(286.03674), np.float32(676.60315), np.float32(370.30066)), 'referee': True}, {'frame': 21, 'label': 'skateboard', 'confidence': np.float32(0.47753695), 'bbox': (np.float32(1094.2478), np.float32(297.04092), np.float32(1129.0856), np.float32(315.06192))}, {'frame': 21, 'label': 'person', 'confidence': np.float32(0.4627051), 'bbox': (np.float32(614.6214), np.float32(357.68362), np.float32(668.0887), np.float32(478.58923)), 'referee': True}, {'frame': 21, 'label': 'person', 'confidence': np.float32(0.2907764), 'bbox': (np.float32(477.22153), np.float32(110.72009), np.float32(516.08203), np.float32(187.52066)), 'team': 1}, {'frame': 22, 'label': 'person', 'confidence': np.float32(0.76304156), 'bbox': (np.float32(696.06024), np.float32(445.42053), np.float32(762.0464), np.float32(596.74817)), 'referee': True}, {'frame': 22, 'label': 'person', 'confidence': np.float32(0.7249255), 'bbox': (np.float32(1092.8389), np.float32(218.91675), np.float32(1138.3124), np.float32(310.65817)), 'referee': True}, {'frame': 22, 'label': 'person', 'confidence': np.float32(0.7151452), 'bbox': (np.float32(16.865465), np.float32(90.73372), np.float32(53.78601), np.float32(163.54855)), 'team': 1}, {'frame': 22, 'label': 'person', 'confidence': np.float32(0.6385913), 'bbox': (np.float32(685.6264), np.float32(195.92166), np.float32(745.70374), np.float32(274.28162)), 'referee': True}, {'frame': 22, 'label': 'person', 'confidence': np.float32(0.61101085), 'bbox': (np.float32(596.2354), np.float32(222.09831), np.float32(650.12305), np.float32(302.38647))}, {'frame': 22, 'label': 'person', 'confidence': np.float32(0.60088944), 'bbox': (np.float32(614.3527), np.float32(357.76556), np.float32(669.6666), np.float32(484.6351)), 'referee': True}, {'frame': 22, 'label': 'person', 'confidence': np.float32(0.58430564), 'bbox': (np.float32(635.08093), np.float32(285.3102), np.float32(688.37805), np.float32(379.52377)), 'referee': True}, {'frame': 22, 'label': 'person', 'confidence': np.float32(0.4962184), 'bbox': (np.float32(183.31107), np.float32(129.20122), np.float32(237.30739), np.float32(235.25227)), 'team': 1, 'referee': True}, {'frame': 22, 'label': 'skateboard', 'confidence': np.float32(0.3442916), 'bbox': (np.float32(1095.3651), np.float32(297.88358), np.float32(1131.2548), np.float32(316.16104))}, {'frame': 23, 'label': 'person', 'confidence': np.float32(0.75893694), 'bbox': (np.float32(696.64075), np.float32(445.2094), np.float32(764.66425), np.float32(593.75006)), 'referee': True}, {'frame': 23, 'label': 'person', 'confidence': np.float32(0.7405578), 'bbox': (np.float32(1093.2433), np.float32(214.8511), np.float32(1139.4807), np.float32(311.5592)), 'referee': True}, {'frame': 23, 'label': 'person', 'confidence': np.float32(0.7259836), 'bbox': (np.float32(17.37759), np.float32(94.18305), np.float32(55.787605), np.float32(165.04552)), 'team': 1}, {'frame': 23, 'label': 'person', 'confidence': np.float32(0.66686094), 'bbox': (np.float32(638.094), np.float32(285.90936), np.float32(696.3404), np.float32(384.26456)), 'referee': True}, {'frame': 23, 'label': 'person', 'confidence': np.float32(0.62647873), 'bbox': (np.float32(613.8117), np.float32(359.85046), np.float32(669.44885), np.float32(486.58115)), 'referee': True}, {'frame': 23, 'label': 'person', 'confidence': np.float32(0.5844313), 'bbox': (np.float32(682.9566), np.float32(193.74046), np.float32(740.6879), np.float32(277.23456)), 'referee': True}, {'frame': 23, 'label': 'person', 'confidence': np.float32(0.54502654), 'bbox': (np.float32(587.4505), np.float32(223.12384), np.float32(644.33105), np.float32(303.01193))}, {'frame': 23, 'label': 'person', 'confidence': np.float32(0.43747637), 'bbox': (np.float32(176.75542), np.float32(133.20241), np.float32(233.19759), np.float32(242.73578)), 'team': 1, 'referee': True}, {'frame': 23, 'label': 'skateboard', 'confidence': np.float32(0.37065282), 'bbox': (np.float32(1096.1342), np.float32(296.15634), np.float32(1134.2076), np.float32(315.60788))}, {'frame': 24, 'label': 'person', 'confidence': np.float32(0.8313705), 'bbox': (np.float32(702.5961), np.float32(450.11737), np.float32(766.32416), np.float32(594.7238)), 'referee': True}, {'frame': 24, 'label': 'person', 'confidence': np.float32(0.6872213), 'bbox': (np.float32(1094.1417), np.float32(214.77513), np.float32(1139.7202), np.float32(312.3996)), 'referee': True}, {'frame': 24, 'label': 'person', 'confidence': np.float32(0.6505324), 'bbox': (np.float32(14.024418), np.float32(94.47752), np.float32(53.949425), np.float32(165.19939)), 'team': 1}, {'frame': 24, 'label': 'person', 'confidence': np.float32(0.64647764), 'bbox': (np.float32(612.85504), np.float32(364.8199), np.float32(671.8595), np.float32(484.34064)), 'referee': True}, {'frame': 24, 'label': 'person', 'confidence': np.float32(0.613009), 'bbox': (np.float32(561.823), np.float32(220.70485), np.float32(630.7702), np.float32(303.4318)), 'referee': True}, {'frame': 24, 'label': 'person', 'confidence': np.float32(0.5689899), 'bbox': (np.float32(676.1332), np.float32(195.632), np.float32(729.2473), np.float32(273.13074)), 'referee': True}, {'frame': 24, 'label': 'person', 'confidence': np.float32(0.53548527), 'bbox': (np.float32(643.2117), np.float32(283.75708), np.float32(700.3775), np.float32(379.16843)), 'referee': True}, {'frame': 24, 'label': 'person', 'confidence': np.float32(0.37987047), 'bbox': (np.float32(163.7221), np.float32(137.63246), np.float32(214.6849), np.float32(228.72392)), 'team': 1, 'referee': True}, {'frame': 24, 'label': 'skateboard', 'confidence': np.float32(0.2980614), 'bbox': (np.float32(1095.7566), np.float32(291.15875), np.float32(1137.0912), np.float32(317.11374))}, {'frame': 25, 'label': 'person', 'confidence': np.float32(0.8304083), 'bbox': (np.float32(702.5904), np.float32(450.04333), np.float32(766.3294), np.float32(594.705)), 'referee': True}, {'frame': 25, 'label': 'person', 'confidence': np.float32(0.69068986), 'bbox': (np.float32(1094.1165), np.float32(214.78114), np.float32(1139.7334), np.float32(312.44232)), 'referee': True}, {'frame': 25, 'label': 'person', 'confidence': np.float32(0.6504621), 'bbox': (np.float32(14.033901), np.float32(94.50003), np.float32(53.94433), np.float32(165.20694)), 'team': 1}, {'frame': 25, 'label': 'person', 'confidence': np.float32(0.64509726), 'bbox': (np.float32(612.88385), np.float32(364.84497), np.float32(671.84), np.float32(484.3616)), 'referee': True}, {'frame': 25, 'label': 'person', 'confidence': np.float32(0.61344427), 'bbox': (np.float32(561.69183), np.float32(220.69684), np.float32(630.7806), np.float32(303.43033)), 'referee': True}, {'frame': 25, 'label': 'person', 'confidence': np.float32(0.5690663), 'bbox': (np.float32(676.1197), np.float32(195.61873), np.float32(729.27075), np.float32(273.18082)), 'referee': True}, {'frame': 25, 'label': 'person', 'confidence': np.float32(0.53512204), 'bbox': (np.float32(643.1922), np.float32(283.80048), np.float32(700.59924), np.float32(379.22256)), 'referee': True}, {'frame': 25, 'label': 'person', 'confidence': np.float32(0.37922758), 'bbox': (np.float32(163.68051), np.float32(137.66618), np.float32(214.67763), np.float32(228.96684)), 'team': 1, 'referee': True}, {'frame': 25, 'label': 'skateboard', 'confidence': np.float32(0.30066296), 'bbox': (np.float32(1095.7993), np.float32(291.5653), np.float32(1137.0863), np.float32(317.09357))}, {'frame': 26, 'label': 'person', 'confidence': np.float32(0.8519197), 'bbox': (np.float32(707.50165), np.float32(448.9959), np.float32(769.6948), np.float32(592.0733)), 'referee': True}, {'frame': 26, 'label': 'person', 'confidence': np.float32(0.7383153), 'bbox': (np.float32(646.0082), np.float32(286.08115), np.float32(710.4226), np.float32(380.88837)), 'referee': True}, {'frame': 26, 'label': 'person', 'confidence': np.float32(0.693131), 'bbox': (np.float32(559.16766), np.float32(218.27667), np.float32(617.6666), np.float32(304.57913))}, {'frame': 26, 'label': 'person', 'confidence': np.float32(0.6744166), 'bbox': (np.float32(610.40424), np.float32(363.40906), np.float32(675.42755), np.float32(489.3092)), 'referee': True}, {'frame': 26, 'label': 'person', 'confidence': np.float32(0.64588875), 'bbox': (np.float32(7.617879), np.float32(83.410065), np.float32(52.11268), np.float32(166.2606)), 'team': 1, 'referee': True}, {'frame': 26, 'label': 'person', 'confidence': np.float32(0.6001426), 'bbox': (np.float32(1096.1313), np.float32(221.9483), np.float32(1141.5509), np.float32(311.2391)), 'referee': True}, {'frame': 26, 'label': 'person', 'confidence': np.float32(0.5633734), 'bbox': (np.float32(666.27136), np.float32(194.04947), np.float32(717.2826), np.float32(266.92664)), 'referee': True}, {'frame': 26, 'label': 'person', 'confidence': np.float32(0.39291966), 'bbox': (np.float32(151.17378), np.float32(125.186844), np.float32(210.44623), np.float32(240.44519)), 'team': 1, 'referee': True}, {'frame': 26, 'label': 'skateboard', 'confidence': np.float32(0.29182106), 'bbox': (np.float32(1096.8245), np.float32(290.5778), np.float32(1139.5522), np.float32(317.5736))}, {'frame': 26, 'label': 'person', 'confidence': np.float32(0.26223585), 'bbox': (np.float32(457.91162), np.float32(116.11333), np.float32(495.87735), np.float32(190.65744)), 'team': 1}, {'frame': 27, 'label': 'person', 'confidence': np.float32(0.875226), 'bbox': (np.float32(712.6205), np.float32(449.5728), np.float32(770.77423), np.float32(594.49786)), 'referee': True}, {'frame': 27, 'label': 'person', 'confidence': np.float32(0.7761793), 'bbox': (np.float32(651.4548), np.float32(284.53265), np.float32(721.3065), np.float32(383.09357)), 'referee': True}, {'frame': 27, 'label': 'person', 'confidence': np.float32(0.77448875), 'bbox': (np.float32(546.1345), np.float32(216.88002), np.float32(603.4447), np.float32(307.06284))}, {'frame': 27, 'label': 'person', 'confidence': np.float32(0.72064084), 'bbox': (np.float32(1097.2446), np.float32(217.39136), np.float32(1146.9684), np.float32(312.79938)), 'referee': True}, {'frame': 27, 'label': 'person', 'confidence': np.float32(0.709779), 'bbox': (np.float32(4.966937), np.float32(80.135635), np.float32(49.58986), np.float32(167.35619)), 'team': 1}, {'frame': 27, 'label': 'person', 'confidence': np.float32(0.6745957), 'bbox': (np.float32(610.01465), np.float32(361.01483), np.float32(679.0009), np.float32(493.03848)), 'referee': True}, {'frame': 27, 'label': 'skateboard', 'confidence': np.float32(0.5318664), 'bbox': (np.float32(1100.148), np.float32(300.40237), np.float32(1139.9408), np.float32(317.01764))}, {'frame': 27, 'label': 'person', 'confidence': np.float32(0.46966842), 'bbox': (np.float32(656.05975), np.float32(196.0927), np.float32(710.9454), np.float32(267.87766)), 'referee': True}, {'frame': 27, 'label': 'person', 'confidence': np.float32(0.3763089), 'bbox': (np.float32(142.07498), np.float32(123.75755), np.float32(196.41446), np.float32(230.75543)), 'team': 1, 'referee': True}, {'frame': 28, 'label': 'person', 'confidence': np.float32(0.86243254), 'bbox': (np.float32(717.2915), np.float32(448.82944), np.float32(772.97864), np.float32(595.1762)), 'referee': True}, {'frame': 28, 'label': 'person', 'confidence': np.float32(0.77903384), 'bbox': (np.float32(535.40784), np.float32(215.21558), np.float32(592.17334), np.float32(306.21228)), 'referee': True}, {'frame': 28, 'label': 'person', 'confidence': np.float32(0.77495784), 'bbox': (np.float32(1099.3425), np.float32(219.2174), np.float32(1145.7345), np.float32(312.97238)), 'referee': True}, {'frame': 28, 'label': 'person', 'confidence': np.float32(0.7400959), 'bbox': (np.float32(656.2771), np.float32(279.61362), np.float32(719.5695), np.float32(382.1937)), 'referee': True}, {'frame': 28, 'label': 'person', 'confidence': np.float32(0.72518945), 'bbox': (np.float32(2.2110207), np.float32(77.09448), np.float32(44.79861), np.float32(166.54958)), 'team': 1}, {'frame': 28, 'label': 'person', 'confidence': np.float32(0.71464777), 'bbox': (np.float32(609.252), np.float32(359.3645), np.float32(680.4824), np.float32(494.63593)), 'referee': True}, {'frame': 28, 'label': 'person', 'confidence': np.float32(0.5846709), 'bbox': (np.float32(649.51514), np.float32(194.27608), np.float32(699.1239), np.float32(273.37628)), 'referee': True}, {'frame': 28, 'label': 'person', 'confidence': np.float32(0.4066574), 'bbox': (np.float32(446.52023), np.float32(112.699425), np.float32(486.402), np.float32(190.1519)), 'team': 1}, {'frame': 28, 'label': 'person', 'confidence': np.float32(0.38043618), 'bbox': (np.float32(130.5898), np.float32(146.4792), np.float32(178.96838), np.float32(216.95084)), 'team': 1, 'referee': True}, {'frame': 28, 'label': 'skateboard', 'confidence': np.float32(0.3730766), 'bbox': (np.float32(1101.0134), np.float32(300.40472), np.float32(1141.0985), np.float32(318.0058))}, {'frame': 29, 'label': 'person', 'confidence': np.float32(0.85923547), 'bbox': (np.float32(719.33527), np.float32(447.9359), np.float32(773.67017), np.float32(595.0368)), 'referee': True}, {'frame': 29, 'label': 'person', 'confidence': np.float32(0.79822654), 'bbox': (np.float32(527.8276), np.float32(215.25722), np.float32(585.1328), np.float32(305.44727)), 'referee': True}, {'frame': 29, 'label': 'person', 'confidence': np.float32(0.77219945), 'bbox': (np.float32(659.8609), np.float32(277.27502), np.float32(718.9389), np.float32(383.56714)), 'referee': True}, {'frame': 29, 'label': 'person', 'confidence': np.float32(0.7406438), 'bbox': (np.float32(1101.7699), np.float32(219.27412), np.float32(1146.4691), np.float32(312.25983)), 'referee': True}, {'frame': 29, 'label': 'person', 'confidence': np.float32(0.72671705), 'bbox': (np.float32(2.0097566), np.float32(78.83423), np.float32(43.618027), np.float32(166.336)), 'team': 1}, {'frame': 29, 'label': 'person', 'confidence': np.float32(0.71267676), 'bbox': (np.float32(608.4015), np.float32(359.79114), np.float32(681.98596), np.float32(494.99295)), 'referee': True}, {'frame': 29, 'label': 'person', 'confidence': np.float32(0.6320621), 'bbox': (np.float32(644.98206), np.float32(198.54112), np.float32(695.3877), np.float32(278.63263)), 'referee': True}, {'frame': 29, 'label': 'person', 'confidence': np.float32(0.54160833), 'bbox': (np.float32(117.75582), np.float32(139.89937), np.float32(187.40558), np.float32(276.743)), 'team': 1, 'referee': True}, {'frame': 29, 'label': 'person', 'confidence': np.float32(0.49492595), 'bbox': (np.float32(442.77737), np.float32(109.79412), np.float32(482.84286), np.float32(192.43071)), 'team': 1}, {'frame': 29, 'label': 'skateboard', 'confidence': np.float32(0.26603174), 'bbox': (np.float32(1101.7548), np.float32(298.36575), np.float32(1143.2), np.float32(318.8699))}, {'frame': 30, 'label': 'person', 'confidence': np.float32(0.86194015), 'bbox': (np.float32(721.9291), np.float32(448.05313), np.float32(776.0654), np.float32(597.11255)), 'referee': True}, {'frame': 30, 'label': 'person', 'confidence': np.float32(0.81565857), 'bbox': (np.float32(514.0105), np.float32(213.72614), np.float32(572.3995), np.float32(306.15872)), 'referee': True}, {'frame': 30, 'label': 'person', 'confidence': np.float32(0.7938175), 'bbox': (np.float32(608.38995), np.float32(358.28952), np.float32(685.1731), np.float32(497.10504)), 'referee': True}, {'frame': 30, 'label': 'person', 'confidence': np.float32(0.7892027), 'bbox': (np.float32(665.8144), np.float32(279.1809), np.float32(725.85406), np.float32(385.95905)), 'referee': True}, {'frame': 30, 'label': 'person', 'confidence': np.float32(0.7123168), 'bbox': (np.float32(1103.3993), np.float32(217.69846), np.float32(1149.5597), np.float32(314.84232)), 'referee': True}, {'frame': 30, 'label': 'person', 'confidence': np.float32(0.619735), 'bbox': (np.float32(1.3568813), np.float32(85.50456), np.float32(40.860523), np.float32(166.81496)), 'team': 1}, {'frame': 30, 'label': 'person', 'confidence': np.float32(0.5931172), 'bbox': (np.float32(636.9604), np.float32(205.01448), np.float32(688.05493), np.float32(280.57602))}, {'frame': 30, 'label': 'person', 'confidence': np.float32(0.51952326), 'bbox': (np.float32(109.977135), np.float32(139.76517), np.float32(163.60762), np.float32(253.37785)), 'team': 1, 'referee': True}, {'frame': 31, 'label': 'person', 'confidence': np.float32(0.84300965), 'bbox': (np.float32(724.8946), np.float32(447.91437), np.float32(777.97046), np.float32(596.6792)), 'referee': True}, {'frame': 31, 'label': 'person', 'confidence': np.float32(0.8276176), 'bbox': (np.float32(498.22565), np.float32(212.14632), np.float32(560.53827), np.float32(305.3337)), 'referee': True}, {'frame': 31, 'label': 'person', 'confidence': np.float32(0.80709064), 'bbox': (np.float32(608.98236), np.float32(360.43826), np.float32(686.777), np.float32(498.532)), 'referee': True}, {'frame': 31, 'label': 'person', 'confidence': np.float32(0.8030728), 'bbox': (np.float32(671.637), np.float32(281.65814), np.float32(727.26654), np.float32(386.20578)), 'referee': True}, {'frame': 31, 'label': 'person', 'confidence': np.float32(0.7378234), 'bbox': (np.float32(1104.3894), np.float32(219.57782), np.float32(1150.9001), np.float32(314.04025)), 'referee': True}, {'frame': 31, 'label': 'person', 'confidence': np.float32(0.70500666), 'bbox': (np.float32(626.2625), np.float32(208.097), np.float32(684.4014), np.float32(287.03067))}, {'frame': 31, 'label': 'person', 'confidence': np.float32(0.65447074), 'bbox': (np.float32(97.859406), np.float32(137.18747), np.float32(149.4061), np.float32(272.58566)), 'team': 1, 'referee': True}, {'frame': 31, 'label': 'person', 'confidence': np.float32(0.5748402), 'bbox': (np.float32(1.0523615), np.float32(79.75277), np.float32(37.279102), np.float32(167.19635)), 'team': 1}, {'frame': 31, 'label': 'tennis racket', 'confidence': np.float32(0.25129765), 'bbox': (np.float32(0.9394923), np.float32(261.41147), np.float32(87.40222), np.float32(311.54572))}, {'frame': 32, 'label': 'person', 'confidence': np.float32(0.8384648), 'bbox': (np.float32(482.105), np.float32(210.87512), np.float32(546.281), np.float32(304.23126)), 'referee': True}, {'frame': 32, 'label': 'person', 'confidence': np.float32(0.8281609), 'bbox': (np.float32(726.81396), np.float32(445.15738), np.float32(780.1805), np.float32(592.3994)), 'referee': True}, {'frame': 32, 'label': 'person', 'confidence': np.float32(0.7979706), 'bbox': (np.float32(676.83606), np.float32(280.4422), np.float32(730.6539), np.float32(386.91428)), 'referee': True}, {'frame': 32, 'label': 'person', 'confidence': np.float32(0.7878972), 'bbox': (np.float32(610.6415), np.float32(363.34464), np.float32(688.5244), np.float32(502.03198)), 'referee': True}, {'frame': 32, 'label': 'person', 'confidence': np.float32(0.7377516), 'bbox': (np.float32(1106.4938), np.float32(220.03712), np.float32(1151.9474), np.float32(313.96017)), 'referee': True}, {'frame': 32, 'label': 'person', 'confidence': np.float32(0.6886379), 'bbox': (np.float32(81.61524), np.float32(139.22539), np.float32(154.52104), np.float32(280.7776)), 'team': 1, 'referee': True}, {'frame': 32, 'label': 'person', 'confidence': np.float32(0.5385379), 'bbox': (np.float32(0.1853832), np.float32(78.44458), np.float32(33.258213), np.float32(170.43471)), 'team': 1}, {'frame': 32, 'label': 'person', 'confidence': np.float32(0.46637613), 'bbox': (np.float32(616.4834), np.float32(210.86299), np.float32(670.7006), np.float32(282.33023))}, {'frame': 33, 'label': 'person', 'confidence': np.float32(0.8486616), 'bbox': (np.float32(467.94006), np.float32(209.75374), np.float32(535.43555), np.float32(303.19202)), 'referee': True}, {'frame': 33, 'label': 'person', 'confidence': np.float32(0.82088375), 'bbox': (np.float32(728.8881), np.float32(448.10806), np.float32(782.60486), np.float32(596.2143)), 'referee': True}, {'frame': 33, 'label': 'person', 'confidence': np.float32(0.82004386), 'bbox': (np.float32(611.9002), np.float32(367.5598), np.float32(689.70264), np.float32(503.53595)), 'referee': True}, {'frame': 33, 'label': 'person', 'confidence': np.float32(0.80553406), 'bbox': (np.float32(682.6111), np.float32(279.17636), np.float32(730.80914), np.float32(388.57712)), 'referee': True}, {'frame': 33, 'label': 'person', 'confidence': np.float32(0.6945116), 'bbox': (np.float32(1109.9298), np.float32(224.62401), np.float32(1153.0687), np.float32(312.9212)), 'referee': True}, {'frame': 33, 'label': 'person', 'confidence': np.float32(0.6738938), 'bbox': (np.float32(605.00085), np.float32(208.82307), np.float32(665.261), np.float32(288.95184))}, {'frame': 33, 'label': 'person', 'confidence': np.float32(0.59946257), 'bbox': (np.float32(65.25569), np.float32(141.95143), np.float32(133.75473), np.float32(283.25223)), 'team': 1, 'referee': True}, {'frame': 33, 'label': 'person', 'confidence': np.float32(0.5842633), 'bbox': (np.float32(0.5453315), np.float32(81.45317), np.float32(28.356968), np.float32(169.76636)), 'team': 1}, {'frame': 33, 'label': 'person', 'confidence': np.float32(0.3690938), 'bbox': (np.float32(417.07196), np.float32(111.420425), np.float32(458.51968), np.float32(189.42749)), 'team': 1}, {'frame': 34, 'label': 'person', 'confidence': np.float32(0.824888), 'bbox': (np.float32(453.781), np.float32(207.73894), np.float32(520.45966), np.float32(300.87338)), 'referee': True}, {'frame': 34, 'label': 'person', 'confidence': np.float32(0.81430835), 'bbox': (np.float32(612.46484), np.float32(368.08612), np.float32(692.467), np.float32(508.19162)), 'referee': True}, {'frame': 34, 'label': 'person', 'confidence': np.float32(0.80858326), 'bbox': (np.float32(687.5952), np.float32(280.2601), np.float32(734.43506), np.float32(388.1843)), 'referee': True}, {'frame': 34, 'label': 'person', 'confidence': np.float32(0.7893243), 'bbox': (np.float32(732.9149), np.float32(447.9144), np.float32(784.9696), np.float32(593.0024)), 'referee': True}, {'frame': 34, 'label': 'person', 'confidence': np.float32(0.7574804), 'bbox': (np.float32(591.8305), np.float32(209.6327), np.float32(659.90405), np.float32(291.23822))}, {'frame': 34, 'label': 'person', 'confidence': np.float32(0.72344947), 'bbox': (np.float32(1111.3396), np.float32(226.59225), np.float32(1154.747), np.float32(312.07733)), 'referee': True}, {'frame': 34, 'label': 'person', 'confidence': np.float32(0.54034704), 'bbox': (np.float32(55.581608), np.float32(145.73671), np.float32(119.206894), np.float32(285.9972)), 'team': 1, 'referee': True}, {'frame': 34, 'label': 'person', 'confidence': np.float32(0.4444114), 'bbox': (np.float32(0.49192187), np.float32(83.796906), np.float32(24.470638), np.float32(169.49666)), 'team': 1}, {'frame': 34, 'label': 'person', 'confidence': np.float32(0.26714584), 'bbox': (np.float32(411.21115), np.float32(111.491165), np.float32(451.4808), np.float32(194.33862)), 'team': 1}, {'frame': 34, 'label': 'tennis racket', 'confidence': np.float32(0.25132948), 'bbox': (np.float32(0.0), np.float32(261.83185), np.float32(71.054115), np.float32(304.11075)), 'team': 0}, {'frame': 35, 'label': 'person', 'confidence': np.float32(0.84536284), 'bbox': (np.float32(439.99597), np.float32(206.5894), np.float32(508.7023), np.float32(299.5974)), 'referee': True}, {'frame': 35, 'label': 'person', 'confidence': np.float32(0.8118357), 'bbox': (np.float32(614.851), np.float32(369.06705), np.float32(693.0518), np.float32(510.25946)), 'referee': True}, {'frame': 35, 'label': 'person', 'confidence': np.float32(0.7893912), 'bbox': (np.float32(692.2123), np.float32(280.3641), np.float32(738.8194), np.float32(384.8086)), 'referee': True}, {'frame': 35, 'label': 'person', 'confidence': np.float32(0.77490187), 'bbox': (np.float32(736.334), np.float32(451.17697), np.float32(787.4651), np.float32(591.5826)), 'referee': True}, {'frame': 35, 'label': 'person', 'confidence': np.float32(0.74924093), 'bbox': (np.float32(578.8808), np.float32(212.9555), np.float32(648.4456), np.float32(293.1276))}, {'frame': 35, 'label': 'person', 'confidence': np.float32(0.66008484), 'bbox': (np.float32(1113.0931), np.float32(223.94524), np.float32(1154.8297), np.float32(310.61777)), 'referee': True}, {'frame': 35, 'label': 'person', 'confidence': np.float32(0.40048146), 'bbox': (np.float32(38.195168), np.float32(144.42592), np.float32(108.92451), np.float32(289.5018)), 'team': 1, 'referee': True}, {'frame': 35, 'label': 'person', 'confidence': np.float32(0.35268947), 'bbox': (np.float32(0.0), np.float32(90.00704), np.float32(21.57792), np.float32(166.99516)), 'team': 1}, {'frame': 36, 'label': 'person', 'confidence': np.float32(0.8354769), 'bbox': (np.float32(433.34067), np.float32(206.64757), np.float32(503.2526), np.float32(300.7819)), 'referee': True}, {'frame': 36, 'label': 'person', 'confidence': np.float32(0.82347757), 'bbox': (np.float32(737.62024), np.float32(452.0538), np.float32(788.03186), np.float32(591.52014)), 'referee': True}, {'frame': 36, 'label': 'person', 'confidence': np.float32(0.8146624), 'bbox': (np.float32(616.0423), np.float32(374.1637), np.float32(691.1662), np.float32(510.89056)), 'referee': True}, {'frame': 36, 'label': 'person', 'confidence': np.float32(0.8090012), 'bbox': (np.float32(571.5941), np.float32(210.79156), np.float32(642.50653), np.float32(295.89554))}, {'frame': 36, 'label': 'person', 'confidence': np.float32(0.78445625), 'bbox': (np.float32(695.3465), np.float32(284.19803), np.float32(739.5177), np.float32(387.15375)), 'referee': True}, {'frame': 36, 'label': 'person', 'confidence': np.float32(0.6673906), 'bbox': (np.float32(1113.2563), np.float32(224.17857), np.float32(1155.699), np.float32(313.32098)), 'referee': True}, {'frame': 36, 'label': 'person', 'confidence': np.float32(0.3603536), 'bbox': (np.float32(397.99478), np.float32(108.6607), np.float32(440.09302), np.float32(193.09026)), 'team': 1}, {'frame': 36, 'label': 'person', 'confidence': np.float32(0.33508375), 'bbox': (np.float32(0.20107901), np.float32(85.9646), np.float32(19.248146), np.float32(168.69017)), 'team': 1}, {'frame': 36, 'label': 'person', 'confidence': np.float32(0.29679903), 'bbox': (np.float32(37.882988), np.float32(143.66284), np.float32(80.36995), np.float32(202.02048)), 'team': 1}, {'frame': 36, 'label': 'person', 'confidence': np.float32(0.29161832), 'bbox': (np.float32(34.20704), np.float32(163.66644), np.float32(108.645645), np.float32(296.96353)), 'team': 0, 'referee': True}, {'frame': 37, 'label': 'person', 'confidence': np.float32(0.8086332), 'bbox': (np.float32(739.5266), np.float32(452.7126), np.float32(789.7982), np.float32(591.18665)), 'referee': True}, {'frame': 37, 'label': 'person', 'confidence': np.float32(0.803729), 'bbox': (np.float32(421.19934), np.float32(201.95854), np.float32(489.54526), np.float32(298.83957)), 'referee': True}, {'frame': 37, 'label': 'person', 'confidence': np.float32(0.78813756), 'bbox': (np.float32(700.3089), np.float32(280.73245), np.float32(744.9331), np.float32(387.25433)), 'referee': True}, {'frame': 37, 'label': 'person', 'confidence': np.float32(0.741026), 'bbox': (np.float32(617.98517), np.float32(380.66202), np.float32(692.2801), np.float32(512.0636)), 'referee': True}, {'frame': 37, 'label': 'person', 'confidence': np.float32(0.7303297), 'bbox': (np.float32(559.50806), np.float32(213.49893), np.float32(630.9594), np.float32(296.53992))}, {'frame': 37, 'label': 'person', 'confidence': np.float32(0.7291189), 'bbox': (np.float32(1114.3185), np.float32(224.1236), np.float32(1156.8331), np.float32(312.8971)), 'referee': True}, {'frame': 37, 'label': 'person', 'confidence': np.float32(0.36864197), 'bbox': (np.float32(389.98032), np.float32(108.82357), np.float32(430.49594), np.float32(198.33041)), 'team': 1}, {'frame': 37, 'label': 'person', 'confidence': np.float32(0.34038806), 'bbox': (np.float32(18.423143), np.float32(139.58578), np.float32(69.28028), np.float32(214.23409)), 'team': 1}, {'frame': 37, 'label': 'person', 'confidence': np.float32(0.30775452), 'bbox': (np.float32(5.2065105), np.float32(147.89766), np.float32(92.72673), np.float32(299.0771)), 'team': 0, 'referee': True}, {'frame': 37, 'label': 'skateboard', 'confidence': np.float32(0.2789824), 'bbox': (np.float32(1113.7861), np.float32(293.53195), np.float32(1152.0309), np.float32(319.99902))}, {'frame': 38, 'label': 'person', 'confidence': np.float32(0.83816177), 'bbox': (np.float32(543.739), np.float32(213.25844), np.float32(619.62036), np.float32(298.37262)), 'referee': True}, {'frame': 38, 'label': 'person', 'confidence': np.float32(0.82362384), 'bbox': (np.float32(743.0965), np.float32(453.60376), np.float32(792.0368), np.float32(592.066)), 'referee': True}, {'frame': 38, 'label': 'person', 'confidence': np.float32(0.8132418), 'bbox': (np.float32(407.7126), np.float32(203.14658), np.float32(475.88736), np.float32(298.0042)), 'referee': True}, {'frame': 38, 'label': 'person', 'confidence': np.float32(0.8117933), 'bbox': (np.float32(704.4861), np.float32(282.08908), np.float32(750.7228), np.float32(387.2894)), 'referee': True}, {'frame': 38, 'label': 'person', 'confidence': np.float32(0.7886534), 'bbox': (np.float32(620.0844), np.float32(375.87677), np.float32(693.69434), np.float32(514.7853)), 'referee': True}, {'frame': 38, 'label': 'person', 'confidence': np.float32(0.6884513), 'bbox': (np.float32(1115.0375), np.float32(224.24097), np.float32(1158.2489), np.float32(312.73105)), 'referee': True}, {'frame': 38, 'label': 'person', 'confidence': np.float32(0.3726069), 'bbox': (np.float32(385.91345), np.float32(111.86055), np.float32(427.98642), np.float32(194.84477)), 'team': 1}, {'frame': 38, 'label': 'person', 'confidence': np.float32(0.3433825), 'bbox': (np.float32(3.4885273), np.float32(129.09886), np.float32(51.626442), np.float32(204.85167)), 'team': 1}, {'frame': 38, 'label': 'skateboard', 'confidence': np.float32(0.29660672), 'bbox': (np.float32(1114.4326), np.float32(294.23132), np.float32(1153.157), np.float32(320.52982))}, {'frame': 39, 'label': 'person', 'confidence': np.float32(0.8519587), 'bbox': (np.float32(744.80634), np.float32(455.71808), np.float32(793.1427), np.float32(591.5188)), 'referee': True}, {'frame': 39, 'label': 'person', 'confidence': np.float32(0.82632464), 'bbox': (np.float32(709.4414), np.float32(282.92108), np.float32(755.85626), np.float32(386.68506)), 'referee': True}, {'frame': 39, 'label': 'person', 'confidence': np.float32(0.815673), 'bbox': (np.float32(527.78296), np.float32(214.30444), np.float32(603.1643), np.float32(297.4715))}, {'frame': 39, 'label': 'person', 'confidence': np.float32(0.8151669), 'bbox': (np.float32(621.928), np.float32(375.59915), np.float32(694.64087), np.float32(516.15845)), 'referee': True}, {'frame': 39, 'label': 'person', 'confidence': np.float32(0.80869466), 'bbox': (np.float32(395.16534), np.float32(197.07155), np.float32(465.27838), np.float32(294.9351)), 'referee': True}, {'frame': 39, 'label': 'person', 'confidence': np.float32(0.6356597), 'bbox': (np.float32(1116.2125), np.float32(223.0966), np.float32(1160.0842), np.float32(313.16248)), 'referee': True}, {'frame': 39, 'label': 'person', 'confidence': np.float32(0.41049123), 'bbox': (np.float32(0.0), np.float32(118.02951), np.float32(40.94483), np.float32(212.20319)), 'team': 1, 'referee': True}, {'frame': 39, 'label': 'person', 'confidence': np.float32(0.37546125), 'bbox': (np.float32(0.0), np.float32(196.51517), np.float32(64.237625), np.float32(305.36658)), 'team': 0, 'referee': True}, {'frame': 39, 'label': 'person', 'confidence': np.float32(0.30331826), 'bbox': (np.float32(379.79462), np.float32(113.91745), np.float32(421.10132), np.float32(197.33487)), 'team': 1, 'referee': True}, {'frame': 39, 'label': 'skateboard', 'confidence': np.float32(0.29965472), 'bbox': (np.float32(1116.8176), np.float32(291.282), np.float32(1155.3408), np.float32(321.66022))}, {'frame': 39, 'label': 'person', 'confidence': np.float32(0.2768654), 'bbox': (np.float32(519.7795), np.float32(120.50477), np.float32(555.5654), np.float32(159.35545))}, {'frame': 40, 'label': 'person', 'confidence': np.float32(0.8610114), 'bbox': (np.float32(747.31146), np.float32(457.39746), np.float32(794.4115), np.float32(591.2735)), 'referee': True}, {'frame': 40, 'label': 'person', 'confidence': np.float32(0.84862876), 'bbox': (np.float32(714.1655), np.float32(281.95767), np.float32(760.95886), np.float32(386.45773)), 'referee': True}, {'frame': 40, 'label': 'person', 'confidence': np.float32(0.84396017), 'bbox': (np.float32(385.35522), np.float32(193.9033), np.float32(452.62796), np.float32(292.98538)), 'referee': True}, {'frame': 40, 'label': 'person', 'confidence': np.float32(0.82224905), 'bbox': (np.float32(625.9474), np.float32(374.4321), np.float32(695.3099), np.float32(517.7829)), 'referee': True}, {'frame': 40, 'label': 'person', 'confidence': np.float32(0.7356756), 'bbox': (np.float32(514.68463), np.float32(215.89612), np.float32(585.7829), np.float32(297.69876))}, {'frame': 40, 'label': 'person', 'confidence': np.float32(0.7016182), 'bbox': (np.float32(1117.6746), np.float32(224.48979), np.float32(1159.665), np.float32(316.41272)), 'referee': True}, {'frame': 40, 'label': 'person', 'confidence': np.float32(0.34930834), 'bbox': (np.float32(372.25363), np.float32(110.78605), np.float32(411.23175), np.float32(198.15305)), 'team': 1, 'referee': True}, {'frame': 40, 'label': 'person', 'confidence': np.float32(0.3053893), 'bbox': (np.float32(515.10486), np.float32(115.12883), np.float32(546.68524), np.float32(158.85854))}, {'frame': 40, 'label': 'skateboard', 'confidence': np.float32(0.29045653), 'bbox': (np.float32(1118.6312), np.float32(292.9602), np.float32(1156.0679), np.float32(321.87408))}, {'frame': 40, 'label': 'person', 'confidence': np.float32(0.26723465), 'bbox': (np.float32(0.13415785), np.float32(133.41835), np.float32(47.112415), np.float32(305.3001)), 'team': 1, 'referee': True}, {'frame': 41, 'label': 'person', 'confidence': np.float32(0.86151695), 'bbox': (np.float32(749.14874), np.float32(459.68207), np.float32(796.59393), np.float32(593.0186)), 'referee': True}, {'frame': 41, 'label': 'person', 'confidence': np.float32(0.8239249), 'bbox': (np.float32(372.22525), np.float32(190.68633), np.float32(440.15192), np.float32(294.41797)), 'team': 1, 'referee': True}, {'frame': 41, 'label': 'person', 'confidence': np.float32(0.81134117), 'bbox': (np.float32(718.5688), np.float32(281.58966), np.float32(765.8715), np.float32(384.82477)), 'referee': True}, {'frame': 41, 'label': 'person', 'confidence': np.float32(0.78915757), 'bbox': (np.float32(629.06384), np.float32(379.08517), np.float32(695.2494), np.float32(522.4156)), 'referee': True}, {'frame': 41, 'label': 'person', 'confidence': np.float32(0.659621), 'bbox': (np.float32(1119.114), np.float32(223.90584), np.float32(1158.4679), np.float32(317.54303)), 'referee': True}, {'frame': 41, 'label': 'person', 'confidence': np.float32(0.5175019), 'bbox': (np.float32(502.18106), np.float32(217.13358), np.float32(560.21826), np.float32(282.88416))}, {'frame': 42, 'label': 'person', 'confidence': np.float32(0.858677), 'bbox': (np.float32(751.99664), np.float32(461.12628), np.float32(800.7975), np.float32(592.69775)), 'referee': True}, {'frame': 42, 'label': 'person', 'confidence': np.float32(0.84202397), 'bbox': (np.float32(362.94766), np.float32(189.21068), np.float32(428.54324), np.float32(294.27054)), 'team': 1, 'referee': True}, {'frame': 42, 'label': 'person', 'confidence': np.float32(0.8042516), 'bbox': (np.float32(714.8885), np.float32(281.99197), np.float32(771.8268), np.float32(387.35562)), 'referee': True}, {'frame': 42, 'label': 'person', 'confidence': np.float32(0.75964797), 'bbox': (np.float32(629.55963), np.float32(380.49792), np.float32(696.1918), np.float32(524.4666)), 'referee': True}, {'frame': 42, 'label': 'person', 'confidence': np.float32(0.63411665), 'bbox': (np.float32(1120.4092), np.float32(222.07468), np.float32(1158.374), np.float32(316.11218)), 'referee': True}, {'frame': 42, 'label': 'person', 'confidence': np.float32(0.43250775), 'bbox': (np.float32(486.80453), np.float32(218.29012), np.float32(544.456), np.float32(287.04498))}, {'frame': 42, 'label': 'person', 'confidence': np.float32(0.29629606), 'bbox': (np.float32(501.27585), np.float32(113.1831), np.float32(536.23157), np.float32(156.25404))}, {'frame': 42, 'label': 'person', 'confidence': np.float32(0.26829162), 'bbox': (np.float32(0.0), np.float32(216.02441), np.float32(25.23915), np.float32(304.43088))}, {'frame': 43, 'label': 'person', 'confidence': np.float32(0.830946), 'bbox': (np.float32(754.6876), np.float32(463.80368), np.float32(802.9425), np.float32(593.0914)), 'referee': True}, {'frame': 43, 'label': 'person', 'confidence': np.float32(0.80775887), 'bbox': (np.float32(353.1577), np.float32(186.086), np.float32(418.03647), np.float32(292.15164)), 'team': 1, 'referee': True}, {'frame': 43, 'label': 'person', 'confidence': np.float32(0.77345395), 'bbox': (np.float32(730.84766), np.float32(280.8654), np.float32(776.722), np.float32(387.80823)), 'referee': True}, {'frame': 43, 'label': 'person', 'confidence': np.float32(0.69418013), 'bbox': (np.float32(627.93024), np.float32(384.6127), np.float32(698.2108), np.float32(527.8816)), 'referee': True}, {'frame': 43, 'label': 'person', 'confidence': np.float32(0.6750276), 'bbox': (np.float32(1120.8721), np.float32(221.77574), np.float32(1160.0603), np.float32(317.89832)), 'referee': True}, {'frame': 43, 'label': 'person', 'confidence': np.float32(0.45865226), 'bbox': (np.float32(473.25592), np.float32(219.3399), np.float32(526.03156), np.float32(292.03845))}, {'frame': 44, 'label': 'person', 'confidence': np.float32(0.8353979), 'bbox': (np.float32(755.17285), np.float32(464.02448), np.float32(804.1531), np.float32(591.88074)), 'referee': True}, {'frame': 44, 'label': 'person', 'confidence': np.float32(0.8084538), 'bbox': (np.float32(346.73416), np.float32(186.99748), np.float32(412.29486), np.float32(290.17004)), 'team': 1, 'referee': True}, {'frame': 44, 'label': 'person', 'confidence': np.float32(0.7707399), 'bbox': (np.float32(733.1156), np.float32(280.3161), np.float32(780.2648), np.float32(385.7851)), 'referee': True}, {'frame': 44, 'label': 'person', 'confidence': np.float32(0.6940896), 'bbox': (np.float32(632.424), np.float32(382.7108), np.float32(700.5778), np.float32(527.5531)), 'referee': True}, {'frame': 44, 'label': 'person', 'confidence': np.float32(0.6803973), 'bbox': (np.float32(466.0942), np.float32(217.42624), np.float32(519.95), np.float32(297.19034))}, {'frame': 44, 'label': 'person', 'confidence': np.float32(0.5847894), 'bbox': (np.float32(1121.6514), np.float32(221.76816), np.float32(1160.268), np.float32(314.28806)), 'referee': True}, {'frame': 44, 'label': 'person', 'confidence': np.float32(0.28646675), 'bbox': (np.float32(491.53958), np.float32(111.52097), np.float32(526.0565), np.float32(155.06421))}, {'frame': 45, 'label': 'person', 'confidence': np.float32(0.8467252), 'bbox': (np.float32(756.89154), np.float32(465.50507), np.float32(809.9816), np.float32(591.2383)), 'referee': True}, {'frame': 45, 'label': 'person', 'confidence': np.float32(0.8297675), 'bbox': (np.float32(336.34448), np.float32(182.85066), np.float32(401.01947), np.float32(286.94278)), 'team': 1, 'referee': True}, {'frame': 45, 'label': 'person', 'confidence': np.float32(0.7991519), 'bbox': (np.float32(738.96), np.float32(282.2205), np.float32(786.28345), np.float32(387.4726)), 'referee': True}, {'frame': 45, 'label': 'person', 'confidence': np.float32(0.730545), 'bbox': (np.float32(633.23096), np.float32(383.17578), np.float32(701.5081), np.float32(529.47534)), 'referee': True}, {'frame': 45, 'label': 'person', 'confidence': np.float32(0.6865686), 'bbox': (np.float32(449.84097), np.float32(218.12962), np.float32(505.9923), np.float32(301.0605))}, {'frame': 45, 'label': 'person', 'confidence': np.float32(0.6172923), 'bbox': (np.float32(1123.5873), np.float32(225.67793), np.float32(1163.5078), np.float32(314.6086)), 'referee': True}, {'frame': 45, 'label': 'person', 'confidence': np.float32(0.3358237), 'bbox': (np.float32(483.5275), np.float32(111.17387), np.float32(519.2685), np.float32(153.89458)), 'team': 0}, {'frame': 46, 'label': 'person', 'confidence': np.float32(0.8294053), 'bbox': (np.float32(757.57367), np.float32(467.00238), np.float32(814.9615), np.float32(591.68665)), 'referee': True}, {'frame': 46, 'label': 'person', 'confidence': np.float32(0.8005693), 'bbox': (np.float32(742.68854), np.float32(280.14423), np.float32(793.23474), np.float32(391.73694)), 'referee': True}, {'frame': 46, 'label': 'person', 'confidence': np.float32(0.785303), 'bbox': (np.float32(330.39224), np.float32(172.37833), np.float32(391.699), np.float32(285.5661)), 'team': 1, 'referee': True}, {'frame': 46, 'label': 'person', 'confidence': np.float32(0.7295485), 'bbox': (np.float32(635.3214), np.float32(384.27707), np.float32(701.7771), np.float32(528.8181)), 'referee': True}, {'frame': 46, 'label': 'person', 'confidence': np.float32(0.6604807), 'bbox': (np.float32(1123.9218), np.float32(224.49503), np.float32(1165.2606), np.float32(317.44095)), 'referee': True}, {'frame': 46, 'label': 'person', 'confidence': np.float32(0.6183869), 'bbox': (np.float32(436.30795), np.float32(217.31969), np.float32(492.06723), np.float32(300.80737))}, {'frame': 46, 'label': 'person', 'confidence': np.float32(0.35383847), 'bbox': (np.float32(479.6031), np.float32(111.98578), np.float32(511.62665), np.float32(153.7143)), 'team': 0}, {'frame': 47, 'label': 'person', 'confidence': np.float32(0.78793705), 'bbox': (np.float32(758.73016), np.float32(469.2006), np.float32(817.0381), np.float32(593.4846)), 'referee': True}, {'frame': 47, 'label': 'person', 'confidence': np.float32(0.78120697), 'bbox': (np.float32(637.4359), np.float32(387.30154), np.float32(705.37524), np.float32(530.2622)), 'referee': True}, {'frame': 47, 'label': 'person', 'confidence': np.float32(0.7559914), 'bbox': (np.float32(747.52484), np.float32(280.0644), np.float32(799.06067), np.float32(390.59406)), 'referee': True}, {'frame': 47, 'label': 'person', 'confidence': np.float32(0.73840564), 'bbox': (np.float32(317.60196), np.float32(168.05553), np.float32(381.1528), np.float32(281.44052)), 'team': 1, 'referee': True}, {'frame': 47, 'label': 'person', 'confidence': np.float32(0.57283074), 'bbox': (np.float32(1122.9647), np.float32(225.98581), np.float32(1166.9657), np.float32(320.05054)), 'referee': True}, {'frame': 47, 'label': 'person', 'confidence': np.float32(0.43263596), 'bbox': (np.float32(418.37384), np.float32(216.00674), np.float32(482.8108), np.float32(303.52396))}, {'frame': 47, 'label': 'person', 'confidence': np.float32(0.35880974), 'bbox': (np.float32(472.3177), np.float32(111.351494), np.float32(507.45718), np.float32(152.76202)), 'team': 0}, {'frame': 48, 'label': 'person', 'confidence': np.float32(0.8098062), 'bbox': (np.float32(639.2177), np.float32(389.8227), np.float32(708.86084), np.float32(533.56494)), 'referee': True}, {'frame': 48, 'label': 'person', 'confidence': np.float32(0.7862308), 'bbox': (np.float32(763.5301), np.float32(471.2646), np.float32(818.79285), np.float32(596.7462)), 'referee': True}, {'frame': 48, 'label': 'person', 'confidence': np.float32(0.7675466), 'bbox': (np.float32(753.55597), np.float32(279.50323), np.float32(805.40814), np.float32(389.14856)), 'referee': True}, {'frame': 48, 'label': 'person', 'confidence': np.float32(0.6944323), 'bbox': (np.float32(310.71475), np.float32(173.56651), np.float32(371.23422), np.float32(280.12384)), 'team': 1, 'referee': True}, {'frame': 48, 'label': 'person', 'confidence': np.float32(0.6914782), 'bbox': (np.float32(1121.9395), np.float32(221.06013), np.float32(1168.7518), np.float32(321.08838)), 'referee': True}, {'frame': 48, 'label': 'person', 'confidence': np.float32(0.5567488), 'bbox': (np.float32(397.8539), np.float32(211.21582), np.float32(472.2758), np.float32(304.10022))}, {'frame': 48, 'label': 'person', 'confidence': np.float32(0.39291146), 'bbox': (np.float32(319.6898), np.float32(108.52939), np.float32(353.31985), np.float32(192.15857)), 'team': 0}, {'frame': 48, 'label': 'person', 'confidence': np.float32(0.29849994), 'bbox': (np.float32(467.70685), np.float32(109.47149), np.float32(501.08258), np.float32(152.43997)), 'team': 0}, {'frame': 48, 'label': 'skateboard', 'confidence': np.float32(0.27945325), 'bbox': (np.float32(783.29254), np.float32(582.8233), np.float32(823.08954), np.float32(600.7647))}, {'frame': 48, 'label': 'person', 'confidence': np.float32(0.27080542), 'bbox': (np.float32(1233.6621), np.float32(386.4631), np.float32(1267.9622), np.float32(504.2461))}, {'frame': 49, 'label': 'person', 'confidence': np.float32(0.8132479), 'bbox': (np.float32(642.03723), np.float32(391.52167), np.float32(711.1839), np.float32(538.10455)), 'referee': True}, {'frame': 49, 'label': 'person', 'confidence': np.float32(0.777418), 'bbox': (np.float32(766.9915), np.float32(473.9721), np.float32(818.42163), np.float32(602.2113)), 'referee': True}, {'frame': 49, 'label': 'person', 'confidence': np.float32(0.75164235), 'bbox': (np.float32(759.0269), np.float32(278.34103), np.float32(811.86365), np.float32(388.07748)), 'referee': True}, {'frame': 49, 'label': 'person', 'confidence': np.float32(0.53201693), 'bbox': (np.float32(299.41653), np.float32(145.59009), np.float32(366.0033), np.float32(279.99878)), 'team': 1, 'referee': True}, {'frame': 49, 'label': 'person', 'confidence': np.float32(0.5288248), 'bbox': (np.float32(370.9083), np.float32(203.60535), np.float32(458.962), np.float32(303.8214))}, {'frame': 49, 'label': 'person', 'confidence': np.float32(0.42916852), 'bbox': (np.float32(1105.1666), np.float32(220.35818), np.float32(1175.3927), np.float32(320.15472)), 'team': 0, 'referee': True}, {'frame': 49, 'label': 'person', 'confidence': np.float32(0.34852818), 'bbox': (np.float32(461.7126), np.float32(110.72073), np.float32(494.80838), np.float32(151.94966)), 'team': 0}, {'frame': 50, 'label': 'person', 'confidence': np.float32(0.7962487), 'bbox': (np.float32(768.5999), np.float32(477.02646), np.float32(821.609), np.float32(605.3824)), 'referee': True}, {'frame': 50, 'label': 'person', 'confidence': np.float32(0.7848565), 'bbox': (np.float32(641.9784), np.float32(393.92676), np.float32(714.9087), np.float32(541.4231)), 'referee': True}, {'frame': 50, 'label': 'person', 'confidence': np.float32(0.7358828), 'bbox': (np.float32(763.2903), np.float32(277.54636), np.float32(818.3503), np.float32(390.0161)), 'referee': True}, {'frame': 50, 'label': 'person', 'confidence': np.float32(0.6461801), 'bbox': (np.float32(295.85315), np.float32(168.21518), np.float32(361.00333), np.float32(278.24146)), 'team': 1, 'referee': True}, {'frame': 50, 'label': 'person', 'confidence': np.float32(0.6208741), 'bbox': (np.float32(357.36615), np.float32(205.90851), np.float32(444.9668), np.float32(303.96814)), 'team': 0, 'referee': True}, {'frame': 50, 'label': 'person', 'confidence': np.float32(0.57703424), 'bbox': (np.float32(1096.1555), np.float32(213.50897), np.float32(1182.6836), np.float32(317.68945)), 'team': 0, 'referee': True}, {'frame': 50, 'label': 'person', 'confidence': np.float32(0.42766955), 'bbox': (np.float32(452.3744), np.float32(110.17596), np.float32(489.087), np.float32(150.86734)), 'team': 0}, {'frame': 50, 'label': 'person', 'confidence': np.float32(0.35518098), 'bbox': (np.float32(1220.4429), np.float32(386.33948), np.float32(1268.0), np.float32(509.39035)), 'team': 0}, {'frame': 51, 'label': 'person', 'confidence': np.float32(0.8148718), 'bbox': (np.float32(770.2296), np.float32(479.39603), np.float32(822.8724), np.float32(602.91846)), 'referee': True}, {'frame': 51, 'label': 'person', 'confidence': np.float32(0.8074645), 'bbox': (np.float32(647.6722), np.float32(395.21262), np.float32(717.8123), np.float32(544.64185)), 'referee': True}, {'frame': 51, 'label': 'person', 'confidence': np.float32(0.78334713), 'bbox': (np.float32(769.2303), np.float32(277.18173), np.float32(825.5976), np.float32(391.26736)), 'referee': True}, {'frame': 51, 'label': 'person', 'confidence': np.float32(0.7537303), 'bbox': (np.float32(289.01614), np.float32(153.88527), np.float32(348.33264), np.float32(273.35593)), 'team': 1, 'referee': True}, {'frame': 51, 'label': 'person', 'confidence': np.float32(0.6807226), 'bbox': (np.float32(346.11655), np.float32(210.35242), np.float32(429.50784), np.float32(304.99457)), 'team': 0}, {'frame': 51, 'label': 'person', 'confidence': np.float32(0.60490775), 'bbox': (np.float32(1107.6144), np.float32(214.9351), np.float32(1179.6782), np.float32(315.53558)), 'team': 0, 'referee': True}, {'frame': 51, 'label': 'person', 'confidence': np.float32(0.43098572), 'bbox': (np.float32(449.5853), np.float32(110.81461), np.float32(482.38556), np.float32(150.92114)), 'team': 0}, {'frame': 51, 'label': 'person', 'confidence': np.float32(0.40974146), 'bbox': (np.float32(1216.9717), np.float32(385.30652), np.float32(1267.986), np.float32(502.94916)), 'referee': True}, {'frame': 51, 'label': 'person', 'confidence': np.float32(0.3740713), 'bbox': (np.float32(334.12375), np.float32(82.42907), np.float32(392.15924), np.float32(145.23254)), 'team': 0}, {'frame': 52, 'label': 'person', 'confidence': np.float32(0.80818164), 'bbox': (np.float32(648.72253), np.float32(397.1331), np.float32(718.82666), np.float32(545.3436)), 'referee': True}, {'frame': 52, 'label': 'person', 'confidence': np.float32(0.7938084), 'bbox': (np.float32(772.64764), np.float32(278.0487), np.float32(827.1088), np.float32(392.09616)), 'referee': True}, {'frame': 52, 'label': 'person', 'confidence': np.float32(0.6923708), 'bbox': (np.float32(286.90894), np.float32(155.10413), np.float32(343.89383), np.float32(272.4098)), 'team': 1, 'referee': True}, {'frame': 52, 'label': 'person', 'confidence': np.float32(0.6622623), 'bbox': (np.float32(771.34424), np.float32(481.315), np.float32(822.9312), np.float32(601.16016)), 'referee': True}, {'frame': 52, 'label': 'person', 'confidence': np.float32(0.6452613), 'bbox': (np.float32(1109.5405), np.float32(215.64032), np.float32(1181.9016), np.float32(315.3095)), 'team': 0, 'referee': True}, {'frame': 52, 'label': 'person', 'confidence': np.float32(0.54895693), 'bbox': (np.float32(339.60602), np.float32(208.54034), np.float32(420.1367), np.float32(306.73917)), 'team': 0, 'referee': True}, {'frame': 52, 'label': 'person', 'confidence': np.float32(0.5319006), 'bbox': (np.float32(443.85663), np.float32(111.4793), np.float32(478.65594), np.float32(151.49883)), 'team': 0}, {'frame': 52, 'label': 'person', 'confidence': np.float32(0.51309776), 'bbox': (np.float32(1215.9281), np.float32(385.9979), np.float32(1267.6584), np.float32(499.8555)), 'referee': True}, {'frame': 52, 'label': 'person', 'confidence': np.float32(0.29468003), 'bbox': (np.float32(294.4817), np.float32(173.82591), np.float32(402.2815), np.float32(296.3789)), 'team': 1, 'referee': True}, {'frame': 52, 'label': 'person', 'confidence': np.float32(0.2659521), 'bbox': (np.float32(331.19772), np.float32(86.23534), np.float32(387.9925), np.float32(145.87053)), 'team': 0}, {'frame': 53, 'label': 'person', 'confidence': np.float32(0.8295918), 'bbox': (np.float32(773.0252), np.float32(481.48148), np.float32(831.10846), np.float32(610.0379)), 'referee': True}, {'frame': 53, 'label': 'person', 'confidence': np.float32(0.7913882), 'bbox': (np.float32(778.32477), np.float32(277.84424), np.float32(833.05206), np.float32(388.97873)), 'referee': True}, {'frame': 53, 'label': 'person', 'confidence': np.float32(0.7806099), 'bbox': (np.float32(652.349), np.float32(396.75122), np.float32(722.389), np.float32(546.7831)), 'referee': True}, {'frame': 53, 'label': 'person', 'confidence': np.float32(0.5670469), 'bbox': (np.float32(1119.1566), np.float32(211.15945), np.float32(1179.2692), np.float32(308.47913)), 'referee': True}, {'frame': 53, 'label': 'person', 'confidence': np.float32(0.52521574), 'bbox': (np.float32(281.30487), np.float32(131.69522), np.float32(337.65833), np.float32(274.5664)), 'team': 1, 'referee': True}, {'frame': 53, 'label': 'person', 'confidence': np.float32(0.51315314), 'bbox': (np.float32(1210.9316), np.float32(385.05646), np.float32(1265.4109), np.float32(496.98056)), 'referee': True}, {'frame': 53, 'label': 'person', 'confidence': np.float32(0.4877366), 'bbox': (np.float32(439.8557), np.float32(111.14964), np.float32(475.22787), np.float32(151.15492)), 'team': 0}, {'frame': 53, 'label': 'person', 'confidence': np.float32(0.37072927), 'bbox': (np.float32(289.5518), np.float32(138.34273), np.float32(391.75662), np.float32(291.8663)), 'team': 0, 'referee': True}, {'frame': 53, 'label': 'person', 'confidence': np.float32(0.36198792), 'bbox': (np.float32(323.09924), np.float32(83.24719), np.float32(383.3899), np.float32(146.85883)), 'team': 1, 'referee': True}, {'frame': 53, 'label': 'person', 'confidence': np.float32(0.27475744), 'bbox': (np.float32(318.81232), np.float32(214.3229), np.float32(396.32684), np.float32(298.75858)), 'team': 1, 'referee': True}, {'frame': 54, 'label': 'person', 'confidence': np.float32(0.85481995), 'bbox': (np.float32(774.3431), np.float32(483.00513), np.float32(835.6025), np.float32(613.5143)), 'referee': True}, {'frame': 54, 'label': 'person', 'confidence': np.float32(0.763027), 'bbox': (np.float32(783.52045), np.float32(275.9587), np.float32(836.82385), np.float32(385.27216)), 'referee': True}, {'frame': 54, 'label': 'person', 'confidence': np.float32(0.74957824), 'bbox': (np.float32(658.589), np.float32(401.50308), np.float32(724.6062), np.float32(552.75854)), 'referee': True}, {'frame': 54, 'label': 'person', 'confidence': np.float32(0.6517416), 'bbox': (np.float32(274.57), np.float32(132.01932), np.float32(331.40707), np.float32(272.28317)), 'team': 1, 'referee': True}, {'frame': 54, 'label': 'person', 'confidence': np.float32(0.52265745), 'bbox': (np.float32(1123.4172), np.float32(210.22281), np.float32(1185.6643), np.float32(314.62555)), 'team': 0, 'referee': True}, {'frame': 54, 'label': 'person', 'confidence': np.float32(0.4255346), 'bbox': (np.float32(317.42307), np.float32(83.29393), np.float32(377.00568), np.float32(143.85045)), 'team': 0}, {'frame': 54, 'label': 'person', 'confidence': np.float32(0.408696), 'bbox': (np.float32(1203.9211), np.float32(385.78638), np.float32(1264.7242), np.float32(491.44293)), 'referee': True}, {'frame': 54, 'label': 'person', 'confidence': np.float32(0.3672892), 'bbox': (np.float32(435.1818), np.float32(108.444695), np.float32(469.61435), np.float32(150.91272)), 'team': 0}, {'frame': 55, 'label': 'person', 'confidence': np.float32(0.8302492), 'bbox': (np.float32(775.64856), np.float32(486.22623), np.float32(842.61017), np.float32(620.0101)), 'referee': True}, {'frame': 55, 'label': 'person', 'confidence': np.float32(0.7824213), 'bbox': (np.float32(790.47345), np.float32(275.13715), np.float32(843.4298), np.float32(383.7767)), 'referee': True}, {'frame': 55, 'label': 'person', 'confidence': np.float32(0.7320081), 'bbox': (np.float32(661.3698), np.float32(405.08865), np.float32(728.36035), np.float32(555.0784)), 'referee': True}, {'frame': 55, 'label': 'person', 'confidence': np.float32(0.67051935), 'bbox': (np.float32(267.30222), np.float32(133.58218), np.float32(355.17395), np.float32(288.95657)), 'team': 0, 'referee': True}, {'frame': 55, 'label': 'person', 'confidence': np.float32(0.65672547), 'bbox': (np.float32(1121.385), np.float32(210.48347), np.float32(1183.2168), np.float32(309.12003)), 'team': 0, 'referee': True}, {'frame': 55, 'label': 'person', 'confidence': np.float32(0.51774114), 'bbox': (np.float32(1193.9829), np.float32(385.86032), np.float32(1263.0725), np.float32(496.11023)), 'referee': True}, {'frame': 55, 'label': 'person', 'confidence': np.float32(0.45475423), 'bbox': (np.float32(430.8707), np.float32(111.43326), np.float32(462.51126), np.float32(150.91158)), 'team': 1}, {'frame': 55, 'label': 'person', 'confidence': np.float32(0.26090714), 'bbox': (np.float32(310.8703), np.float32(87.79638), np.float32(371.18646), np.float32(144.61562)), 'team': 1}, {'frame': 56, 'label': 'person', 'confidence': np.float32(0.85785943), 'bbox': (np.float32(778.17786), np.float32(488.83218), np.float32(846.82245), np.float32(623.67035)), 'referee': True}, {'frame': 56, 'label': 'person', 'confidence': np.float32(0.68456215), 'bbox': (np.float32(662.8627), np.float32(409.4805), np.float32(734.6518), np.float32(558.7627)), 'referee': True}, {'frame': 56, 'label': 'person', 'confidence': np.float32(0.67120606), 'bbox': (np.float32(795.704), np.float32(273.91263), np.float32(850.55414), np.float32(387.02237)), 'referee': True}, {'frame': 56, 'label': 'person', 'confidence': np.float32(0.54607195), 'bbox': (np.float32(1186.9355), np.float32(383.71832), np.float32(1261.3704), np.float32(498.29367)), 'referee': True}, {'frame': 56, 'label': 'person', 'confidence': np.float32(0.48203978), 'bbox': (np.float32(1117.9592), np.float32(208.82378), np.float32(1183.1953), np.float32(301.3708)), 'team': 0, 'referee': True}, {'frame': 56, 'label': 'person', 'confidence': np.float32(0.4678129), 'bbox': (np.float32(263.95135), np.float32(124.226776), np.float32(323.11728), np.float32(265.3402)), 'team': 1, 'referee': True}, {'frame': 56, 'label': 'person', 'confidence': np.float32(0.46248907), 'bbox': (np.float32(424.5041), np.float32(110.917854), np.float32(458.98254), np.float32(150.89838)), 'team': 0}, {'frame': 56, 'label': 'person', 'confidence': np.float32(0.3489421), 'bbox': (np.float32(304.46808), np.float32(87.69543), np.float32(365.52246), np.float32(144.68509)), 'team': 0}, {'frame': 57, 'label': 'person', 'confidence': np.float32(0.8615014), 'bbox': (np.float32(779.2617), np.float32(491.39426), np.float32(850.829), np.float32(626.61163)), 'referee': True}, {'frame': 57, 'label': 'person', 'confidence': np.float32(0.7671887), 'bbox': (np.float32(664.04736), np.float32(409.48273), np.float32(740.0453), np.float32(559.0369)), 'referee': True}, {'frame': 57, 'label': 'person', 'confidence': np.float32(0.7334864), 'bbox': (np.float32(801.0027), np.float32(272.20142), np.float32(855.8258), np.float32(382.2589)), 'referee': True}, {'frame': 57, 'label': 'person', 'confidence': np.float32(0.52732015), 'bbox': (np.float32(1184.1694), np.float32(379.05603), np.float32(1240.062), np.float32(495.58795)), 'referee': True}, {'frame': 57, 'label': 'person', 'confidence': np.float32(0.51281315), 'bbox': (np.float32(254.23064), np.float32(128.85661), np.float32(325.7581), np.float32(291.21002)), 'team': 1, 'referee': True}, {'frame': 57, 'label': 'person', 'confidence': np.float32(0.4411112), 'bbox': (np.float32(1121.6636), np.float32(216.71132), np.float32(1186.3418), np.float32(306.1313)), 'team': 0, 'referee': True}, {'frame': 57, 'label': 'person', 'confidence': np.float32(0.4179157), 'bbox': (np.float32(418.89908), np.float32(109.093475), np.float32(452.88953), np.float32(150.53043)), 'team': 0}, {'frame': 57, 'label': 'person', 'confidence': np.float32(0.41299528), 'bbox': (np.float32(296.47726), np.float32(81.3131), np.float32(359.1798), np.float32(144.89629)), 'team': 0}, {'frame': 57, 'label': 'person', 'confidence': np.float32(0.30924532), 'bbox': (np.float32(1150.3834), np.float32(235.26195), np.float32(1195.8324), np.float32(313.11044)), 'team': 1, 'referee': True}, {'frame': 58, 'label': 'person', 'confidence': np.float32(0.87547547), 'bbox': (np.float32(780.4882), np.float32(494.9462), np.float32(852.5302), np.float32(629.57684)), 'referee': True}, {'frame': 58, 'label': 'person', 'confidence': np.float32(0.8045243), 'bbox': (np.float32(808.4745), np.float32(272.47443), np.float32(865.1664), np.float32(384.13638)), 'referee': True}, {'frame': 58, 'label': 'person', 'confidence': np.float32(0.7719281), 'bbox': (np.float32(668.1896), np.float32(410.2419), np.float32(745.74976), np.float32(559.8316)), 'referee': True}, {'frame': 58, 'label': 'person', 'confidence': np.float32(0.72910553), 'bbox': (np.float32(249.69759), np.float32(133.54262), np.float32(315.4847), np.float32(295.5282)), 'team': 1, 'referee': True}, {'frame': 58, 'label': 'person', 'confidence': np.float32(0.52646285), 'bbox': (np.float32(1178.9888), np.float32(379.02676), np.float32(1237.2079), np.float32(498.78006)), 'referee': True}, {'frame': 58, 'label': 'person', 'confidence': np.float32(0.51674163), 'bbox': (np.float32(414.7602), np.float32(111.474594), np.float32(446.53552), np.float32(150.94125)), 'team': 0}, {'frame': 58, 'label': 'person', 'confidence': np.float32(0.37398174), 'bbox': (np.float32(1126.7819), np.float32(218.63585), np.float32(1187.5114), np.float32(307.3942)), 'referee': True}, {'frame': 58, 'label': 'person', 'confidence': np.float32(0.31763738), 'bbox': (np.float32(1153.1683), np.float32(234.4379), np.float32(1195.3875), np.float32(311.90155)), 'referee': True}, {'frame': 58, 'label': 'person', 'confidence': np.float32(0.2682424), 'bbox': (np.float32(442.38522), np.float32(112.27422), np.float32(470.1773), np.float32(152.94232)), 'team': 1}, {'frame': 58, 'label': 'person', 'confidence': np.float32(0.2524552), 'bbox': (np.float32(1162.4883), np.float32(278.2263), np.float32(1195.2744), np.float32(311.20853))}, {'frame': 59, 'label': 'person', 'confidence': np.float32(0.86138844), 'bbox': (np.float32(780.69165), np.float32(496.76083), np.float32(853.423), np.float32(633.59644)), 'referee': True}, {'frame': 59, 'label': 'person', 'confidence': np.float32(0.8047274), 'bbox': (np.float32(670.9939), np.float32(412.90982), np.float32(750.5318), np.float32(559.0477)), 'referee': True}, {'frame': 59, 'label': 'person', 'confidence': np.float32(0.78785044), 'bbox': (np.float32(813.32135), np.float32(271.47733), np.float32(866.082), np.float32(379.77966)), 'referee': True}, {'frame': 59, 'label': 'person', 'confidence': np.float32(0.665788), 'bbox': (np.float32(230.91214), np.float32(129.66437), np.float32(306.29486), np.float32(305.0108)), 'team': 1, 'referee': True}, {'frame': 59, 'label': 'person', 'confidence': np.float32(0.5435846), 'bbox': (np.float32(1177.13), np.float32(379.77307), np.float32(1236.6039), np.float32(498.5801)), 'referee': True}, {'frame': 59, 'label': 'person', 'confidence': np.float32(0.51815754), 'bbox': (np.float32(408.15372), np.float32(110.61295), np.float32(444.79935), np.float32(151.29443))}, {'frame': 59, 'label': 'person', 'confidence': np.float32(0.4786522), 'bbox': (np.float32(1134.621), np.float32(221.05809), np.float32(1185.4272), np.float32(303.1092)), 'referee': True}, {'frame': 59, 'label': 'baseball bat', 'confidence': np.float32(0.31034935), 'bbox': (np.float32(607.4976), np.float32(457.14664), np.float32(681.8422), np.float32(480.1634))}, {'frame': 60, 'label': 'person', 'confidence': np.float32(0.85250384), 'bbox': (np.float32(780.4248), np.float32(498.45755), np.float32(853.61145), np.float32(637.5698)), 'referee': True}, {'frame': 60, 'label': 'person', 'confidence': np.float32(0.8004613), 'bbox': (np.float32(672.2466), np.float32(417.73557), np.float32(754.70874), np.float32(561.8389)), 'referee': True}, {'frame': 60, 'label': 'person', 'confidence': np.float32(0.7929577), 'bbox': (np.float32(817.2135), np.float32(270.51547), np.float32(872.0262), np.float32(379.34595)), 'referee': True}, {'frame': 60, 'label': 'person', 'confidence': np.float32(0.56787086), 'bbox': (np.float32(1130.3584), np.float32(221.06573), np.float32(1183.7555), np.float32(300.77267)), 'referee': True}, {'frame': 60, 'label': 'person', 'confidence': np.float32(0.49811196), 'bbox': (np.float32(1166.7622), np.float32(379.3377), np.float32(1230.6813), np.float32(500.4715)), 'team': 0, 'referee': True}, {'frame': 60, 'label': 'person', 'confidence': np.float32(0.42428845), 'bbox': (np.float32(403.74988), np.float32(109.24696), np.float32(439.5511), np.float32(150.47571))}, {'frame': 60, 'label': 'person', 'confidence': np.float32(0.40857214), 'bbox': (np.float32(274.70963), np.float32(79.47544), np.float32(345.97754), np.float32(145.82748)), 'team': 1}, {'frame': 60, 'label': 'person', 'confidence': np.float32(0.35811245), 'bbox': (np.float32(199.30914), np.float32(198.76761), np.float32(286.3631), np.float32(306.5168)), 'team': 1, 'referee': True}, {'frame': 60, 'label': 'person', 'confidence': np.float32(0.35336378), 'bbox': (np.float32(246.01036), np.float32(124.02166), np.float32(299.58823), np.float32(245.69263)), 'team': 0, 'referee': True}, {'frame': 61, 'label': 'person', 'confidence': np.float32(0.8467174), 'bbox': (np.float32(779.97485), np.float32(499.1491), np.float32(853.4097), np.float32(639.0606)), 'referee': True}, {'frame': 61, 'label': 'person', 'confidence': np.float32(0.8034736), 'bbox': (np.float32(819.9728), np.float32(268.1752), np.float32(876.4574), np.float32(376.12207)), 'referee': True}, {'frame': 61, 'label': 'person', 'confidence': np.float32(0.7602808), 'bbox': (np.float32(671.7182), np.float32(421.60486), np.float32(755.34076), np.float32(561.842)), 'referee': True}, {'frame': 61, 'label': 'person', 'confidence': np.float32(0.590428), 'bbox': (np.float32(1161.5923), np.float32(378.75867), np.float32(1233.1664), np.float32(502.40778)), 'team': 0, 'referee': True}, {'frame': 61, 'label': 'person', 'confidence': np.float32(0.53681874), 'bbox': (np.float32(1128.0688), np.float32(222.2865), np.float32(1183.497), np.float32(293.0252)), 'referee': True}, {'frame': 61, 'label': 'person', 'confidence': np.float32(0.442249), 'bbox': (np.float32(242.38808), np.float32(114.52545), np.float32(297.71365), np.float32(247.07831)), 'team': 1, 'referee': True}, {'frame': 61, 'label': 'person', 'confidence': np.float32(0.3926672), 'bbox': (np.float32(402.422), np.float32(109.961784), np.float32(436.16928), np.float32(150.34732))}, {'frame': 61, 'label': 'person', 'confidence': np.float32(0.36682874), 'bbox': (np.float32(190.27881), np.float32(200.39714), np.float32(277.93085), np.float32(304.05618)), 'team': 0, 'referee': True}, {'frame': 61, 'label': 'person', 'confidence': np.float32(0.30290556), 'bbox': (np.float32(272.03955), np.float32(81.85298), np.float32(341.9579), np.float32(144.87978)), 'team': 0}, {'frame': 61, 'label': 'person', 'confidence': np.float32(0.2712479), 'bbox': (np.float32(426.50363), np.float32(111.80991), np.float32(457.76697), np.float32(153.33672))}, {'frame': 62, 'label': 'person', 'confidence': np.float32(0.8607192), 'bbox': (np.float32(779.7674), np.float32(501.13586), np.float32(854.0679), np.float32(645.09717)), 'referee': True}, {'frame': 62, 'label': 'person', 'confidence': np.float32(0.8072781), 'bbox': (np.float32(823.98627), np.float32(268.54092), np.float32(881.41675), np.float32(370.4074)), 'referee': True}, {'frame': 62, 'label': 'person', 'confidence': np.float32(0.7309415), 'bbox': (np.float32(671.1244), np.float32(425.8616), np.float32(758.9322), np.float32(561.1762)), 'referee': True}, {'frame': 62, 'label': 'person', 'confidence': np.float32(0.6605695), 'bbox': (np.float32(240.20091), np.float32(127.58781), np.float32(293.2228), np.float32(249.72838)), 'team': 1, 'referee': True}, {'frame': 62, 'label': 'person', 'confidence': np.float32(0.54888314), 'bbox': (np.float32(1155.8627), np.float32(379.34274), np.float32(1225.3641), np.float32(498.6917)), 'team': 0, 'referee': True}, {'frame': 62, 'label': 'person', 'confidence': np.float32(0.5259579), 'bbox': (np.float32(1128.7881), np.float32(222.84343), np.float32(1184.9581), np.float32(290.79535)), 'referee': True}, {'frame': 62, 'label': 'person', 'confidence': np.float32(0.45789543), 'bbox': (np.float32(399.96457), np.float32(111.3979), np.float32(431.3149), np.float32(150.87979)), 'team': 0}, {'frame': 62, 'label': 'person', 'confidence': np.float32(0.344785), 'bbox': (np.float32(426.7742), np.float32(111.10143), np.float32(455.5019), np.float32(152.67848)), 'team': 1}, {'frame': 63, 'label': 'person', 'confidence': np.float32(0.8437687), 'bbox': (np.float32(777.96936), np.float32(502.06088), np.float32(854.1694), np.float32(650.3858)), 'referee': True}, {'frame': 63, 'label': 'person', 'confidence': np.float32(0.7951664), 'bbox': (np.float32(678.747), np.float32(430.8964), np.float32(762.0453), np.float32(563.0383)), 'referee': True}, {'frame': 63, 'label': 'person', 'confidence': np.float32(0.74962074), 'bbox': (np.float32(831.16296), np.float32(268.08456), np.float32(885.0145), np.float32(366.9558)), 'referee': True}, {'frame': 63, 'label': 'person', 'confidence': np.float32(0.7472776), 'bbox': (np.float32(235.77823), np.float32(118.87541), np.float32(288.1939), np.float32(253.56439)), 'team': 1, 'referee': True}, {'frame': 63, 'label': 'person', 'confidence': np.float32(0.54398024), 'bbox': (np.float32(1152.4467), np.float32(377.31476), np.float32(1219.227), np.float32(494.57153)), 'team': 0, 'referee': True}, {'frame': 63, 'label': 'person', 'confidence': np.float32(0.53310513), 'bbox': (np.float32(1127.0548), np.float32(223.0528), np.float32(1181.9863), np.float32(295.4466)), 'referee': True}, {'frame': 63, 'label': 'person', 'confidence': np.float32(0.5088805), 'bbox': (np.float32(395.65668), np.float32(109.908775), np.float32(430.53622), np.float32(151.49794)), 'team': 0}, {'frame': 63, 'label': 'person', 'confidence': np.float32(0.39292064), 'bbox': (np.float32(1158.9619), np.float32(230.41061), np.float32(1190.9702), np.float32(308.25848))}, {'frame': 63, 'label': 'person', 'confidence': np.float32(0.30800655), 'bbox': (np.float32(422.07675), np.float32(109.681114), np.float32(452.2624), np.float32(152.89407)), 'team': 1}, {'frame': 63, 'label': 'person', 'confidence': np.float32(0.27458256), 'bbox': (np.float32(171.98174), np.float32(205.69016), np.float32(241.24925), np.float32(306.1114)), 'team': 0, 'referee': True}, {'frame': 64, 'label': 'person', 'confidence': np.float32(0.8514643), 'bbox': (np.float32(777.34143), np.float32(505.1379), np.float32(853.1249), np.float32(654.3822)), 'referee': True}, {'frame': 64, 'label': 'person', 'confidence': np.float32(0.7892037), 'bbox': (np.float32(684.11633), np.float32(434.0816), np.float32(765.5124), np.float32(564.99005)), 'referee': True}, {'frame': 64, 'label': 'person', 'confidence': np.float32(0.7670897), 'bbox': (np.float32(834.59686), np.float32(266.97702), np.float32(891.2837), np.float32(365.51422)), 'referee': True}, {'frame': 64, 'label': 'person', 'confidence': np.float32(0.7210883), 'bbox': (np.float32(233.08902), np.float32(121.9411), np.float32(284.09183), np.float32(253.74521)), 'team': 1, 'referee': True}, {'frame': 64, 'label': 'person', 'confidence': np.float32(0.63551724), 'bbox': (np.float32(156.77374), np.float32(204.92276), np.float32(235.33154), np.float32(301.19992)), 'team': 0, 'referee': True}, {'frame': 64, 'label': 'person', 'confidence': np.float32(0.5468233), 'bbox': (np.float32(1124.2163), np.float32(220.3098), np.float32(1184.3339), np.float32(299.95813)), 'referee': True}, {'frame': 64, 'label': 'person', 'confidence': np.float32(0.5144011), 'bbox': (np.float32(1145.5996), np.float32(374.0483), np.float32(1214.3198), np.float32(496.6747)), 'team': 0, 'referee': True}, {'frame': 64, 'label': 'person', 'confidence': np.float32(0.4581513), 'bbox': (np.float32(391.47165), np.float32(109.71337), np.float32(429.01172), np.float32(150.86406)), 'team': 0}, {'frame': 64, 'label': 'person', 'confidence': np.float32(0.33807832), 'bbox': (np.float32(417.853), np.float32(111.73196), np.float32(447.3323), np.float32(153.2375)), 'team': 1}, {'frame': 64, 'label': 'person', 'confidence': np.float32(0.3011854), 'bbox': (np.float32(1158.7761), np.float32(231.82571), np.float32(1190.7284), np.float32(307.1458))}, {'frame': 64, 'label': 'person', 'confidence': np.float32(0.2536878), 'bbox': (np.float32(289.54996), np.float32(93.20176), np.float32(330.55563), np.float32(143.07988)), 'team': 0}, {'frame': 65, 'label': 'person', 'confidence': np.float32(0.8228474), 'bbox': (np.float32(777.6954), np.float32(508.0146), np.float32(853.3312), np.float32(657.7894)), 'referee': True}, {'frame': 65, 'label': 'person', 'confidence': np.float32(0.7719422), 'bbox': (np.float32(841.5108), np.float32(266.40738), np.float32(893.57776), np.float32(361.87198)), 'referee': True}, {'frame': 65, 'label': 'person', 'confidence': np.float32(0.7075128), 'bbox': (np.float32(684.3142), np.float32(439.5441), np.float32(769.322), np.float32(567.3937)), 'referee': True}, {'frame': 65, 'label': 'person', 'confidence': np.float32(0.6654744), 'bbox': (np.float32(150.79892), np.float32(204.10286), np.float32(243.93475), np.float32(302.07828)), 'referee': True}, {'frame': 65, 'label': 'person', 'confidence': np.float32(0.62411684), 'bbox': (np.float32(231.97726), np.float32(137.30106), np.float32(281.743), np.float32(251.2332)), 'team': 1, 'referee': True}, {'frame': 65, 'label': 'person', 'confidence': np.float32(0.59114593), 'bbox': (np.float32(1123.7842), np.float32(220.9813), np.float32(1186.082), np.float32(302.82916)), 'referee': True}, {'frame': 65, 'label': 'person', 'confidence': np.float32(0.48336458), 'bbox': (np.float32(1147.2352), np.float32(378.29456), np.float32(1214.9419), np.float32(500.17758)), 'team': 0, 'referee': True}, {'frame': 65, 'label': 'person', 'confidence': np.float32(0.33649078), 'bbox': (np.float32(387.83453), np.float32(108.965096), np.float32(423.52213), np.float32(150.99121)), 'team': 0}, {'frame': 66, 'label': 'person', 'confidence': np.float32(0.7734177), 'bbox': (np.float32(847.92084), np.float32(265.4182), np.float32(898.7652), np.float32(360.19318)), 'referee': True}, {'frame': 66, 'label': 'person', 'confidence': np.float32(0.7046962), 'bbox': (np.float32(137.99013), np.float32(202.73975), np.float32(214.32434), np.float32(300.75064)), 'referee': True}, {'frame': 66, 'label': 'person', 'confidence': np.float32(0.66567504), 'bbox': (np.float32(688.812), np.float32(440.33835), np.float32(775.4471), np.float32(574.8297)), 'referee': True}, {'frame': 66, 'label': 'person', 'confidence': np.float32(0.6408329), 'bbox': (np.float32(1122.0798), np.float32(215.67476), np.float32(1182.8569), np.float32(297.70657)), 'team': 0, 'referee': True}, {'frame': 66, 'label': 'person', 'confidence': np.float32(0.6085764), 'bbox': (np.float32(1138.5328), np.float32(372.2747), np.float32(1201.946), np.float32(497.7505)), 'team': 0, 'referee': True}, {'frame': 66, 'label': 'person', 'confidence': np.float32(0.59629357), 'bbox': (np.float32(232.54381), np.float32(141.04115), np.float32(280.0622), np.float32(248.01688)), 'team': 1, 'referee': True}, {'frame': 66, 'label': 'person', 'confidence': np.float32(0.56386423), 'bbox': (np.float32(765.5766), np.float32(511.1695), np.float32(854.7214), np.float32(661.35223)), 'referee': True}, {'frame': 66, 'label': 'person', 'confidence': np.float32(0.27385816), 'bbox': (np.float32(389.07327), np.float32(107.945694), np.float32(421.53384), np.float32(151.65337)), 'team': 0}, {'frame': 66, 'label': 'person', 'confidence': np.float32(0.26032826), 'bbox': (np.float32(337.25754), np.float32(107.51509), np.float32(368.63043), np.float32(148.49446)), 'team': 0}, {'frame': 67, 'label': 'person', 'confidence': np.float32(0.78812027), 'bbox': (np.float32(133.74608), np.float32(200.9372), np.float32(196.59279), np.float32(296.9938)), 'referee': True}, {'frame': 67, 'label': 'person', 'confidence': np.float32(0.7815634), 'bbox': (np.float32(856.1705), np.float32(263.28363), np.float32(905.94275), np.float32(357.48172)), 'referee': True}, {'frame': 67, 'label': 'person', 'confidence': np.float32(0.6588619), 'bbox': (np.float32(1123.7639), np.float32(214.38599), np.float32(1183.8036), np.float32(294.98743)), 'team': 0, 'referee': True}, {'frame': 67, 'label': 'person', 'confidence': np.float32(0.6243741), 'bbox': (np.float32(234.04062), np.float32(149.77199), np.float32(279.76202), np.float32(246.25792)), 'team': 1, 'referee': True}, {'frame': 67, 'label': 'person', 'confidence': np.float32(0.61763275), 'bbox': (np.float32(1133.5071), np.float32(371.59317), np.float32(1196.8179), np.float32(499.63837)), 'team': 0, 'referee': True}, {'frame': 67, 'label': 'person', 'confidence': np.float32(0.6166316), 'bbox': (np.float32(691.72974), np.float32(446.09445), np.float32(774.45953), np.float32(578.24176)), 'referee': True}, {'frame': 67, 'label': 'person', 'confidence': np.float32(0.5264257), 'bbox': (np.float32(734.4919), np.float32(508.54327), np.float32(855.38794), np.float32(663.2802)), 'referee': True}, {'frame': 67, 'label': 'person', 'confidence': np.float32(0.31773713), 'bbox': (np.float32(388.01605), np.float32(109.21127), np.float32(421.99872), np.float32(152.44104)), 'team': 0}, {'frame': 68, 'label': 'person', 'confidence': np.float32(0.7857926), 'bbox': (np.float32(864.0016), np.float32(261.9931), np.float32(913.3498), np.float32(358.34232)), 'referee': True}, {'frame': 68, 'label': 'person', 'confidence': np.float32(0.6744537), 'bbox': (np.float32(1125.5629), np.float32(212.60617), np.float32(1178.0056), np.float32(288.0702)), 'team': 0, 'referee': True}, {'frame': 68, 'label': 'person', 'confidence': np.float32(0.63232917), 'bbox': (np.float32(1129.925), np.float32(372.26166), np.float32(1194.4789), np.float32(498.33505)), 'team': 0, 'referee': True}, {'frame': 68, 'label': 'person', 'confidence': np.float32(0.5672833), 'bbox': (np.float32(235.25543), np.float32(148.16083), np.float32(281.46393), np.float32(244.78345)), 'team': 1, 'referee': True}, {'frame': 68, 'label': 'person', 'confidence': np.float32(0.55583525), 'bbox': (np.float32(134.44318), np.float32(200.9452), np.float32(190.57904), np.float32(288.28903)), 'referee': True}, {'frame': 68, 'label': 'person', 'confidence': np.float32(0.5199788), 'bbox': (np.float32(695.2088), np.float32(451.8221), np.float32(782.2184), np.float32(583.7573)), 'referee': True}, {'frame': 68, 'label': 'person', 'confidence': np.float32(0.5135199), 'bbox': (np.float32(770.9599), np.float32(514.4136), np.float32(854.5985), np.float32(668.7871)), 'referee': True}, {'frame': 68, 'label': 'person', 'confidence': np.float32(0.37251595), 'bbox': (np.float32(386.78156), np.float32(110.59722), np.float32(420.83102), np.float32(153.0687)), 'team': 0}, {'frame': 68, 'label': 'person', 'confidence': np.float32(0.29902652), 'bbox': (np.float32(706.1536), np.float32(470.32233), np.float32(849.77167), np.float32(654.2081)), 'referee': True}, {'frame': 69, 'label': 'person', 'confidence': np.float32(0.7537933), 'bbox': (np.float32(870.0243), np.float32(262.56708), np.float32(923.6985), np.float32(357.69235)), 'referee': True}, {'frame': 69, 'label': 'person', 'confidence': np.float32(0.6970545), 'bbox': (np.float32(125.26418), np.float32(198.56299), np.float32(181.46092), np.float32(294.56796)), 'referee': True}, {'frame': 69, 'label': 'person', 'confidence': np.float32(0.6710943), 'bbox': (np.float32(708.1325), np.float32(494.49146), np.float32(857.5486), np.float32(673.7352)), 'referee': True}, {'frame': 69, 'label': 'person', 'confidence': np.float32(0.63622767), 'bbox': (np.float32(1126.0758), np.float32(211.98117), np.float32(1177.3821), np.float32(285.64035)), 'referee': True}, {'frame': 69, 'label': 'person', 'confidence': np.float32(0.54357845), 'bbox': (np.float32(1129.2369), np.float32(369.65744), np.float32(1189.6075), np.float32(489.294)), 'referee': True}, {'frame': 69, 'label': 'person', 'confidence': np.float32(0.533394), 'bbox': (np.float32(235.73462), np.float32(130.90674), np.float32(282.00085), np.float32(243.44365)), 'team': 1, 'referee': True}, {'frame': 69, 'label': 'person', 'confidence': np.float32(0.3917639), 'bbox': (np.float32(388.50803), np.float32(111.57173), np.float32(421.2351), np.float32(154.62689)), 'team': 0}, {'frame': 69, 'label': 'person', 'confidence': np.float32(0.38710257), 'bbox': (np.float32(128.25877), np.float32(54.358288), np.float32(196.09862), np.float32(173.62898)), 'team': 1, 'referee': True}, {'frame': 69, 'label': 'person', 'confidence': np.float32(0.31939197), 'bbox': (np.float32(697.4374), np.float32(454.66354), np.float32(787.6045), np.float32(583.6196)), 'referee': True}, {'frame': 69, 'label': 'person', 'confidence': np.float32(0.29082057), 'bbox': (np.float32(784.1202), np.float32(518.8032), np.float32(854.9605), np.float32(673.3833)), 'referee': True}, {'frame': 69, 'label': 'person', 'confidence': np.float32(0.27098423), 'bbox': (np.float32(285.50946), np.float32(97.32332), np.float32(326.59906), np.float32(148.82204)), 'team': 0}, {'frame': 70, 'label': 'person', 'confidence': np.float32(0.7834622), 'bbox': (np.float32(876.65753), np.float32(261.43735), np.float32(929.81464), np.float32(354.96375)), 'referee': True}, {'frame': 70, 'label': 'person', 'confidence': np.float32(0.67290044), 'bbox': (np.float32(236.15182), np.float32(130.196), np.float32(285.66656), np.float32(243.42302)), 'team': 1, 'referee': True}, {'frame': 70, 'label': 'person', 'confidence': np.float32(0.6704468), 'bbox': (np.float32(119.24118), np.float32(197.53865), np.float32(174.28575), np.float32(293.93893)), 'referee': True}, {'frame': 70, 'label': 'person', 'confidence': np.float32(0.6426265), 'bbox': (np.float32(783.97614), np.float32(516.7609), np.float32(857.7261), np.float32(676.9893)), 'referee': True}, {'frame': 70, 'label': 'person', 'confidence': np.float32(0.6057533), 'bbox': (np.float32(1126.4646), np.float32(211.92519), np.float32(1177.6847), np.float32(284.87924)), 'referee': True}, {'frame': 70, 'label': 'person', 'confidence': np.float32(0.56960934), 'bbox': (np.float32(1126.104), np.float32(369.03076), np.float32(1189.1451), np.float32(489.92947)), 'referee': True}, {'frame': 70, 'label': 'person', 'confidence': np.float32(0.5205543), 'bbox': (np.float32(699.44507), np.float32(458.5953), np.float32(793.4953), np.float32(587.6413)), 'referee': True}, {'frame': 70, 'label': 'person', 'confidence': np.float32(0.4056509), 'bbox': (np.float32(128.86215), np.float32(59.15702), np.float32(196.8535), np.float32(180.77417)), 'team': 1, 'referee': True}, {'frame': 70, 'label': 'person', 'confidence': np.float32(0.36698672), 'bbox': (np.float32(388.3755), np.float32(110.91137), np.float32(420.7781), np.float32(155.07182)), 'team': 0}, {'frame': 70, 'label': 'person', 'confidence': np.float32(0.31709522), 'bbox': (np.float32(707.18335), np.float32(478.1107), np.float32(860.69336), np.float32(682.9325)), 'referee': True}, {'frame': 71, 'label': 'person', 'confidence': np.float32(0.8241061), 'bbox': (np.float32(883.4797), np.float32(256.65753), np.float32(939.7348), np.float32(357.3853)), 'referee': True}, {'frame': 71, 'label': 'person', 'confidence': np.float32(0.70789415), 'bbox': (np.float32(788.12427), np.float32(523.76355), np.float32(859.9573), np.float32(680.6474)), 'referee': True}, {'frame': 71, 'label': 'person', 'confidence': np.float32(0.65599275), 'bbox': (np.float32(118.29937), np.float32(196.38347), np.float32(168.25386), np.float32(292.19186)), 'referee': True}, {'frame': 71, 'label': 'person', 'confidence': np.float32(0.57305866), 'bbox': (np.float32(238.22653), np.float32(137.58432), np.float32(289.78094), np.float32(241.83508)), 'team': 1, 'referee': True}, {'frame': 71, 'label': 'person', 'confidence': np.float32(0.54794854), 'bbox': (np.float32(1125.7615), np.float32(210.39172), np.float32(1171.8746), np.float32(281.34122)), 'referee': True}, {'frame': 71, 'label': 'person', 'confidence': np.float32(0.50866896), 'bbox': (np.float32(1130.7133), np.float32(368.8433), np.float32(1186.29), np.float32(487.69043)), 'referee': True}, {'frame': 71, 'label': 'person', 'confidence': np.float32(0.4757494), 'bbox': (np.float32(128.87306), np.float32(57.92721), np.float32(195.25153), np.float32(188.04005)), 'team': 1, 'referee': True}, {'frame': 71, 'label': 'person', 'confidence': np.float32(0.46631634), 'bbox': (np.float32(702.66547), np.float32(461.70517), np.float32(790.03625), np.float32(581.0677)), 'referee': True}, {'frame': 71, 'label': 'person', 'confidence': np.float32(0.3885682), 'bbox': (np.float32(389.89514), np.float32(111.48034), np.float32(421.62), np.float32(155.66556)), 'team': 0}, {'frame': 72, 'label': 'person', 'confidence': np.float32(0.8246527), 'bbox': (np.float32(790.87823), np.float32(530.66174), np.float32(860.9656), np.float32(682.36633)), 'referee': True}, {'frame': 72, 'label': 'person', 'confidence': np.float32(0.7476387), 'bbox': (np.float32(890.52606), np.float32(258.9403), np.float32(947.7194), np.float32(354.45544)), 'referee': True}, {'frame': 72, 'label': 'person', 'confidence': np.float32(0.6618845), 'bbox': (np.float32(241.82399), np.float32(121.23747), np.float32(292.5014), np.float32(241.33875)), 'team': 1, 'referee': True}, {'frame': 72, 'label': 'person', 'confidence': np.float32(0.6542196), 'bbox': (np.float32(711.4116), np.float32(471.8709), np.float32(794.71796), np.float32(594.39325)), 'referee': True}, {'frame': 72, 'label': 'person', 'confidence': np.float32(0.59424114), 'bbox': (np.float32(118.77286), np.float32(196.5667), np.float32(165.44324), np.float32(291.33493)), 'referee': True}, {'frame': 72, 'label': 'person', 'confidence': np.float32(0.58375055), 'bbox': (np.float32(1130.4159), np.float32(210.95326), np.float32(1177.0072), np.float32(285.44577)), 'referee': True}, {'frame': 72, 'label': 'person', 'confidence': np.float32(0.5315805), 'bbox': (np.float32(1130.4323), np.float32(368.95407), np.float32(1186.3839), np.float32(488.16238)), 'referee': True}, {'frame': 72, 'label': 'person', 'confidence': np.float32(0.40561348), 'bbox': (np.float32(138.80504), np.float32(79.79898), np.float32(188.15054), np.float32(192.51414)), 'team': 1, 'referee': True}, {'frame': 72, 'label': 'person', 'confidence': np.float32(0.39727512), 'bbox': (np.float32(394.33197), np.float32(113.44633), np.float32(425.297), np.float32(156.76407))}, {'frame': 73, 'label': 'person', 'confidence': np.float32(0.7982384), 'bbox': (np.float32(793.7407), np.float32(532.93115), np.float32(862.74097), np.float32(686.4589)), 'referee': True}, {'frame': 73, 'label': 'person', 'confidence': np.float32(0.7611078), 'bbox': (np.float32(895.42523), np.float32(257.54562), np.float32(949.19806), np.float32(353.2596)), 'referee': True}, {'frame': 73, 'label': 'person', 'confidence': np.float32(0.6667696), 'bbox': (np.float32(119.28063), np.float32(198.03789), np.float32(164.82706), np.float32(291.01224)), 'referee': True}, {'frame': 73, 'label': 'person', 'confidence': np.float32(0.63062733), 'bbox': (np.float32(243.85385), np.float32(122.35979), np.float32(294.58124), np.float32(241.4878)), 'team': 1, 'referee': True}, {'frame': 73, 'label': 'person', 'confidence': np.float32(0.61186194), 'bbox': (np.float32(717.20465), np.float32(474.2066), np.float32(800.8287), np.float32(600.4609)), 'referee': True}, {'frame': 73, 'label': 'person', 'confidence': np.float32(0.54992163), 'bbox': (np.float32(1133.3121), np.float32(211.22441), np.float32(1178.2981), np.float32(286.2153)), 'referee': True}, {'frame': 73, 'label': 'person', 'confidence': np.float32(0.5460164), 'bbox': (np.float32(1132.7345), np.float32(368.48718), np.float32(1188.2695), np.float32(488.98807)), 'referee': True}, {'frame': 73, 'label': 'person', 'confidence': np.float32(0.38656178), 'bbox': (np.float32(141.21147), np.float32(64.169334), np.float32(199.3921), np.float32(189.01549)), 'team': 1, 'referee': True}, {'frame': 73, 'label': 'person', 'confidence': np.float32(0.31460392), 'bbox': (np.float32(2.3800185), np.float32(115.37757), np.float32(48.762035), np.float32(187.28441)), 'team': 1}, {'frame': 74, 'label': 'person', 'confidence': np.float32(0.8154739), 'bbox': (np.float32(801.8454), np.float32(535.2206), np.float32(873.7282), np.float32(693.64496)), 'referee': True}, {'frame': 74, 'label': 'person', 'confidence': np.float32(0.684994), 'bbox': (np.float32(910.2776), np.float32(257.39786), np.float32(965.21045), np.float32(348.39282)), 'referee': True}, {'frame': 74, 'label': 'person', 'confidence': np.float32(0.6610508), 'bbox': (np.float32(1140.6305), np.float32(368.3731), np.float32(1192.4103), np.float32(497.44012)), 'team': 0, 'referee': True}, {'frame': 74, 'label': 'person', 'confidence': np.float32(0.6133681), 'bbox': (np.float32(1139.0872), np.float32(210.44006), np.float32(1182.4845), np.float32(286.41904))}, {'frame': 74, 'label': 'person', 'confidence': np.float32(0.5683519), 'bbox': (np.float32(727.2298), np.float32(481.53098), np.float32(803.55945), np.float32(597.8581)), 'referee': True}, {'frame': 74, 'label': 'person', 'confidence': np.float32(0.5258305), 'bbox': (np.float32(255.84071), np.float32(136.06029), np.float32(305.80948), np.float32(239.7402)), 'team': 1, 'referee': True}, {'frame': 74, 'label': 'person', 'confidence': np.float32(0.49347976), 'bbox': (np.float32(124.90833), np.float32(198.2737), np.float32(168.19637), np.float32(289.72043)), 'referee': True}, {'frame': 74, 'label': 'person', 'confidence': np.float32(0.4272755), 'bbox': (np.float32(152.62097), np.float32(59.1403), np.float32(214.70578), np.float32(184.55597)), 'team': 1, 'referee': True}, {'frame': 74, 'label': 'person', 'confidence': np.float32(0.31718665), 'bbox': (np.float32(406.20792), np.float32(118.28357), np.float32(436.3794), np.float32(158.32794)), 'team': 0}, {'frame': 75, 'label': 'person', 'confidence': np.float32(0.8149101), 'bbox': (np.float32(808.2352), np.float32(539.0836), np.float32(885.71704), np.float32(694.0613)), 'referee': True}, {'frame': 75, 'label': 'person', 'confidence': np.float32(0.6933122), 'bbox': (np.float32(926.44415), np.float32(256.46143), np.float32(984.45715), np.float32(348.97668)), 'referee': True}, {'frame': 75, 'label': 'person', 'confidence': np.float32(0.6476043), 'bbox': (np.float32(1146.7397), np.float32(368.31027), np.float32(1198.5273), np.float32(495.50186)), 'team': 0, 'referee': True}, {'frame': 75, 'label': 'person', 'confidence': np.float32(0.64123183), 'bbox': (np.float32(1149.5383), np.float32(209.69986), np.float32(1191.8555), np.float32(285.53174))}, {'frame': 75, 'label': 'person', 'confidence': np.float32(0.5784295), 'bbox': (np.float32(737.0908), np.float32(480.88962), np.float32(816.7317), np.float32(605.57666)), 'referee': True}, {'frame': 75, 'label': 'person', 'confidence': np.float32(0.51018494), 'bbox': (np.float32(167.95325), np.float32(62.763454), np.float32(229.89023), np.float32(189.40514)), 'team': 1}, {'frame': 75, 'label': 'person', 'confidence': np.float32(0.43002635), 'bbox': (np.float32(127.035965), np.float32(198.16505), np.float32(174.06798), np.float32(287.66095))}, {'frame': 75, 'label': 'person', 'confidence': np.float32(0.39826953), 'bbox': (np.float32(268.98163), np.float32(136.87364), np.float32(317.00156), np.float32(229.75221)), 'team': 1, 'referee': True}, {'frame': 76, 'label': 'person', 'confidence': np.float32(0.7920394), 'bbox': (np.float32(945.2311), np.float32(255.05675), np.float32(1002.9143), np.float32(346.087)), 'referee': True}, {'frame': 76, 'label': 'person', 'confidence': np.float32(0.78687894), 'bbox': (np.float32(824.40564), np.float32(540.1047), np.float32(897.07275), np.float32(698.1318)), 'referee': True}, {'frame': 76, 'label': 'person', 'confidence': np.float32(0.6733502), 'bbox': (np.float32(1161.7971), np.float32(370.04834), np.float32(1210.2562), np.float32(494.3279)), 'team': 0, 'referee': True}, {'frame': 76, 'label': 'person', 'confidence': np.float32(0.5892428), 'bbox': (np.float32(1158.1727), np.float32(208.27406), np.float32(1205.6869), np.float32(284.81384))}, {'frame': 76, 'label': 'person', 'confidence': np.float32(0.559864), 'bbox': (np.float32(284.94162), np.float32(122.51982), np.float32(333.421), np.float32(228.9839)), 'team': 1, 'referee': True}, {'frame': 76, 'label': 'person', 'confidence': np.float32(0.49084526), 'bbox': (np.float32(754.7782), np.float32(488.193), np.float32(829.4192), np.float32(608.10114)), 'referee': True}, {'frame': 76, 'label': 'person', 'confidence': np.float32(0.44340917), 'bbox': (np.float32(184.10497), np.float32(64.63975), np.float32(245.48291), np.float32(184.37717)), 'team': 1}, {'frame': 76, 'label': 'person', 'confidence': np.float32(0.38570976), 'bbox': (np.float32(114.08736), np.float32(197.57738), np.float32(185.08589), np.float32(287.278)), 'referee': True}, {'frame': 77, 'label': 'person', 'confidence': np.float32(0.8325719), 'bbox': (np.float32(839.4729), np.float32(547.85376), np.float32(914.5164), np.float32(699.7479)), 'referee': True}, {'frame': 77, 'label': 'person', 'confidence': np.float32(0.7277418), 'bbox': (np.float32(961.6865), np.float32(254.70728), np.float32(1020.39325), np.float32(344.1599))}, {'frame': 77, 'label': 'person', 'confidence': np.float32(0.65867853), 'bbox': (np.float32(1176.702), np.float32(369.02957), np.float32(1223.1088), np.float32(496.1083)), 'team': 0, 'referee': True}, {'frame': 77, 'label': 'person', 'confidence': np.float32(0.6411343), 'bbox': (np.float32(141.73985), np.float32(194.70549), np.float32(197.75703), np.float32(284.2433)), 'referee': True}, {'frame': 77, 'label': 'person', 'confidence': np.float32(0.5794969), 'bbox': (np.float32(302.0187), np.float32(126.543526), np.float32(354.07025), np.float32(228.39806)), 'team': 1, 'referee': True}, {'frame': 77, 'label': 'person', 'confidence': np.float32(0.55450785), 'bbox': (np.float32(203.42192), np.float32(60.488262), np.float32(265.63242), np.float32(189.62918)), 'team': 1}, {'frame': 77, 'label': 'person', 'confidence': np.float32(0.46621075), 'bbox': (np.float32(1172.2014), np.float32(209.04349), np.float32(1214.6097), np.float32(282.16928))}, {'frame': 77, 'label': 'person', 'confidence': np.float32(0.38770586), 'bbox': (np.float32(768.4391), np.float32(491.2351), np.float32(847.85443), np.float32(617.1722)), 'referee': True}, {'frame': 78, 'label': 'person', 'confidence': np.float32(0.75606436), 'bbox': (np.float32(846.6918), np.float32(548.0793), np.float32(929.3214), np.float32(707.26483)), 'referee': True}, {'frame': 78, 'label': 'person', 'confidence': np.float32(0.6271254), 'bbox': (np.float32(222.1665), np.float32(65.205215), np.float32(289.2843), np.float32(193.50873)), 'team': 1}, {'frame': 78, 'label': 'person', 'confidence': np.float32(0.60970163), 'bbox': (np.float32(1195.5958), np.float32(370.32547), np.float32(1239.9928), np.float32(499.794)), 'team': 0, 'referee': True}, {'frame': 78, 'label': 'person', 'confidence': np.float32(0.6087791), 'bbox': (np.float32(984.1065), np.float32(255.34734), np.float32(1041.4781), np.float32(342.12405)), 'referee': True}, {'frame': 78, 'label': 'person', 'confidence': np.float32(0.58037215), 'bbox': (np.float32(322.62524), np.float32(124.555016), np.float32(372.54993), np.float32(226.42738)), 'team': 1, 'referee': True}, {'frame': 78, 'label': 'person', 'confidence': np.float32(0.4462877), 'bbox': (np.float32(1186.4647), np.float32(208.84163), np.float32(1230.7949), np.float32(284.38196))}, {'frame': 79, 'label': 'person', 'confidence': np.float32(0.77607304), 'bbox': (np.float32(865.87177), np.float32(552.53455), np.float32(948.47797), np.float32(708.7499)), 'referee': True}, {'frame': 79, 'label': 'person', 'confidence': np.float32(0.6871183), 'bbox': (np.float32(1213.3031), np.float32(368.79916), np.float32(1266.5226), np.float32(500.5861)), 'team': 0}, {'frame': 79, 'label': 'person', 'confidence': np.float32(0.50067055), 'bbox': (np.float32(1005.469), np.float32(254.33806), np.float32(1068.627), np.float32(340.95233))}, {'frame': 79, 'label': 'person', 'confidence': np.float32(0.4714395), 'bbox': (np.float32(245.52199), np.float32(61.25924), np.float32(313.49142), np.float32(193.32756)), 'team': 1}, {'frame': 79, 'label': 'person', 'confidence': np.float32(0.36591136), 'bbox': (np.float32(1202.0612), np.float32(211.0199), np.float32(1255.0966), np.float32(283.808))}, {'frame': 79, 'label': 'person', 'confidence': np.float32(0.36253184), 'bbox': (np.float32(392.02716), np.float32(99.243835), np.float32(435.23383), np.float32(212.74495)), 'team': 1}, {'frame': 79, 'label': 'person', 'confidence': np.float32(0.33593804), 'bbox': (np.float32(344.72748), np.float32(105.33907), np.float32(399.93475), np.float32(220.97644)), 'team': 0, 'referee': True}, {'frame': 80, 'label': 'person', 'confidence': np.float32(0.76480573), 'bbox': (np.float32(892.35834), np.float32(555.81146), np.float32(970.54626), np.float32(712.42285)), 'referee': True}, {'frame': 80, 'label': 'person', 'confidence': np.float32(0.5369124), 'bbox': (np.float32(269.57138), np.float32(65.912964), np.float32(340.93994), np.float32(196.76584)), 'team': 1}, {'frame': 80, 'label': 'person', 'confidence': np.float32(0.3625924), 'bbox': (np.float32(369.66443), np.float32(120.02119), np.float32(425.75906), np.float32(215.22615)), 'team': 1}, {'frame': 80, 'label': 'bottle', 'confidence': np.float32(0.30872208), 'bbox': (np.float32(1238.7979), np.float32(372.67194), np.float32(1267.6442), np.float32(502.1205)), 'team': 0}, {'frame': 81, 'label': 'person', 'confidence': np.float32(0.7399665), 'bbox': (np.float32(908.6595), np.float32(561.20703), np.float32(988.0934), np.float32(717.8369)), 'referee': True}, {'frame': 81, 'label': 'person', 'confidence': np.float32(0.49509856), 'bbox': (np.float32(294.6304), np.float32(67.57544), np.float32(365.7796), np.float32(198.57544)), 'team': 1}, {'frame': 81, 'label': 'person', 'confidence': np.float32(0.37654725), 'bbox': (np.float32(1055.4286), np.float32(254.64482), np.float32(1121.0638), np.float32(336.2458)), 'team': 1}, {'frame': 81, 'label': 'person', 'confidence': np.float32(0.3192552), 'bbox': (np.float32(397.38077), np.float32(117.76796), np.float32(457.74014), np.float32(215.56805)), 'team': 1}, {'frame': 81, 'label': 'person', 'confidence': np.float32(0.28635576), 'bbox': (np.float32(537.97485), np.float32(126.256744), np.float32(573.1541), np.float32(167.8163))}, {'frame': 82, 'label': 'person', 'confidence': np.float32(0.6209755), 'bbox': (np.float32(931.00836), np.float32(568.99603), np.float32(1007.27136), np.float32(717.86707)), 'referee': True}, {'frame': 82, 'label': 'person', 'confidence': np.float32(0.5605229), 'bbox': (np.float32(321.5886), np.float32(66.29621), np.float32(394.242), np.float32(201.3309)), 'team': 1}, {'frame': 82, 'label': 'person', 'confidence': np.float32(0.31449673), 'bbox': (np.float32(423.63028), np.float32(124.06395), np.float32(484.03784), np.float32(218.06825)), 'team': 1}, {'frame': 82, 'label': 'skis', 'confidence': np.float32(0.30172122), 'bbox': (np.float32(2.1907315), np.float32(364.86725), np.float32(181.68147), np.float32(455.3011))}, {'frame': 83, 'label': 'person', 'confidence': np.float32(0.7089041), 'bbox': (np.float32(956.5599), np.float32(573.664), np.float32(1026.6422), np.float32(718.0326)), 'referee': True}, {'frame': 83, 'label': 'person', 'confidence': np.float32(0.32063428), 'bbox': (np.float32(349.9466), np.float32(74.3103), np.float32(410.1905), np.float32(206.98895)), 'team': 1}, {'frame': 83, 'label': 'person', 'confidence': np.float32(0.28665802), 'bbox': (np.float32(449.80966), np.float32(119.853165), np.float32(505.6484), np.float32(214.14406)), 'team': 1}, {'frame': 84, 'label': 'person', 'confidence': np.float32(0.5696965), 'bbox': (np.float32(983.959), np.float32(577.8305), np.float32(1047.6833), np.float32(718.59674)), 'referee': True}, {'frame': 84, 'label': 'person', 'confidence': np.float32(0.48634925), 'bbox': (np.float32(379.65573), np.float32(71.6259), np.float32(444.35446), np.float32(209.91083)), 'team': 1}, {'frame': 84, 'label': 'person', 'confidence': np.float32(0.2711172), 'bbox': (np.float32(481.96695), np.float32(131.34058), np.float32(538.59015), np.float32(215.04056)), 'team': 1}, {'frame': 84, 'label': 'person', 'confidence': np.float32(0.25564668), 'bbox': (np.float32(617.9576), np.float32(121.09587), np.float32(665.6546), np.float32(168.14587)), 'team': 0}, {'frame': 85, 'label': 'person', 'confidence': np.float32(0.69657487), 'bbox': (np.float32(1001.4937), np.float32(584.0439), np.float32(1074.5997), np.float32(717.8025)), 'referee': True}, {'frame': 85, 'label': 'person', 'confidence': np.float32(0.46311957), 'bbox': (np.float32(409.63794), np.float32(70.51654), np.float32(476.19327), np.float32(209.22998)), 'team': 1}, {'frame': 85, 'label': 'person', 'confidence': np.float32(0.36522084), 'bbox': (np.float32(513.49713), np.float32(107.03299), np.float32(591.82385), np.float32(215.62839)), 'team': 1}, {'frame': 86, 'label': 'person', 'confidence': np.float32(0.7114467), 'bbox': (np.float32(1027.0536), np.float32(592.5724), np.float32(1098.9666), np.float32(716.5045))}, {'frame': 86, 'label': 'person', 'confidence': np.float32(0.5053554), 'bbox': (np.float32(429.15457), np.float32(71.069984), np.float32(505.80557), np.float32(213.46188)), 'team': 1}, {'frame': 86, 'label': 'person', 'confidence': np.float32(0.36607987), 'bbox': (np.float32(579.4259), np.float32(103.15373), np.float32(627.3671), np.float32(211.57088)), 'team': 1}, {'frame': 86, 'label': 'person', 'confidence': np.float32(0.3475608), 'bbox': (np.float32(964.0534), np.float32(528.9563), np.float32(1045.093), np.float32(707.6819))}, {'frame': 86, 'label': 'person', 'confidence': np.float32(0.26895225), 'bbox': (np.float32(272.84897), np.float32(17.305809), np.float32(323.46396), np.float32(127.94347)), 'team': 1}, {'frame': 86, 'label': 'person', 'confidence': np.float32(0.25002748), 'bbox': (np.float32(539.5675), np.float32(113.12179), np.float32(592.3865), np.float32(212.39749)), 'team': 1}, {'frame': 87, 'label': 'person', 'confidence': np.float32(0.6706411), 'bbox': (np.float32(1053.0685), np.float32(596.6648), np.float32(1123.5741), np.float32(718.9051))}, {'frame': 87, 'label': 'person', 'confidence': np.float32(0.46608114), 'bbox': (np.float32(460.04965), np.float32(75.55746), np.float32(529.6235), np.float32(210.9735)), 'team': 1}, {'frame': 87, 'label': 'person', 'confidence': np.float32(0.37696356), 'bbox': (np.float32(567.6882), np.float32(125.223404), np.float32(624.66754), np.float32(220.87547)), 'team': 1}, {'frame': 87, 'label': 'person', 'confidence': np.float32(0.32077602), 'bbox': (np.float32(301.3432), np.float32(16.887852), np.float32(354.94125), np.float32(128.49599)), 'team': 1}, {'frame': 88, 'label': 'person', 'confidence': np.float32(0.5673225), 'bbox': (np.float32(1066.4432), np.float32(600.1082), np.float32(1134.4473), np.float32(716.4549))}, {'frame': 88, 'label': 'person', 'confidence': np.float32(0.44498837), 'bbox': (np.float32(585.08057), np.float32(128.08041), np.float32(640.0641), np.float32(218.9396)), 'team': 1}, {'frame': 88, 'label': 'person', 'confidence': np.float32(0.4325809), 'bbox': (np.float32(469.8821), np.float32(78.99961), np.float32(536.87146), np.float32(208.3404)), 'team': 1}, {'frame': 88, 'label': 'person', 'confidence': np.float32(0.2998131), 'bbox': (np.float32(997.97296), np.float32(536.532), np.float32(1114.706), np.float32(716.23566)), 'referee': True}, {'frame': 89, 'label': 'person', 'confidence': np.float32(0.61466247), 'bbox': (np.float32(1090.6168), np.float32(604.54553), np.float32(1158.4019), np.float32(717.61005))}, {'frame': 89, 'label': 'person', 'confidence': np.float32(0.51206344), 'bbox': (np.float32(4.833401), np.float32(170.15707), np.float32(52.09851), np.float32(246.49065))}, {'frame': 89, 'label': 'person', 'confidence': np.float32(0.4707332), 'bbox': (np.float32(1024.4618), np.float32(539.4692), np.float32(1108.9042), np.float32(703.54675))}, {'frame': 89, 'label': 'person', 'confidence': np.float32(0.44261265), 'bbox': (np.float32(612.53394), np.float32(128.1314), np.float32(668.8077), np.float32(220.52568)), 'team': 1}, {'frame': 89, 'label': 'person', 'confidence': np.float32(0.42703247), 'bbox': (np.float32(499.6122), np.float32(79.27564), np.float32(566.1086), np.float32(209.62503)), 'team': 1}, {'frame': 90, 'label': 'person', 'confidence': np.float32(0.49842232), 'bbox': (np.float32(27.841766), np.float32(168.40485), np.float32(80.33586), np.float32(247.66405))}, {'frame': 90, 'label': 'person', 'confidence': np.float32(0.49170393), 'bbox': (np.float32(1117.7823), np.float32(615.086), np.float32(1181.4448), np.float32(717.4025))}, {'frame': 90, 'label': 'person', 'confidence': np.float32(0.41842175), 'bbox': (np.float32(991.1541), np.float32(552.07996), np.float32(1144.6279), np.float32(714.1656)), 'referee': True}, {'frame': 90, 'label': 'person', 'confidence': np.float32(0.3983032), 'bbox': (np.float32(533.37994), np.float32(87.012115), np.float32(592.32965), np.float32(210.07564)), 'team': 1}, {'frame': 90, 'label': 'person', 'confidence': np.float32(0.39320123), 'bbox': (np.float32(641.7657), np.float32(121.338295), np.float32(699.6135), np.float32(221.21259)), 'team': 1}, {'frame': 90, 'label': 'person', 'confidence': np.float32(0.3102343), 'bbox': (np.float32(550.86066), np.float32(74.105515), np.float32(614.86694), np.float32(172.99202)), 'team': 0}, {'frame': 91, 'label': 'person', 'confidence': np.float32(0.6656342), 'bbox': (np.float32(60.170216), np.float32(164.7387), np.float32(107.629295), np.float32(249.66495))}, {'frame': 91, 'label': 'person', 'confidence': np.float32(0.5805234), 'bbox': (np.float32(1019.10034), np.float32(559.06976), np.float32(1162.8099), np.float32(714.78546))}, {'frame': 91, 'label': 'person', 'confidence': np.float32(0.48345563), 'bbox': (np.float32(670.6329), np.float32(128.54942), np.float32(734.28644), np.float32(221.15001)), 'team': 1}, {'frame': 91, 'label': 'person', 'confidence': np.float32(0.46882322), 'bbox': (np.float32(1134.9176), np.float32(619.995), np.float32(1203.921), np.float32(717.69476))}, {'frame': 91, 'label': 'person', 'confidence': np.float32(0.3609972), 'bbox': (np.float32(564.0399), np.float32(96.88273), np.float32(620.5729), np.float32(214.98961)), 'team': 1}, {'frame': 91, 'label': 'person', 'confidence': np.float32(0.29670513), 'bbox': (np.float32(578.245), np.float32(75.32782), np.float32(643.5162), np.float32(159.96544)), 'team': 0}, {'frame': 92, 'label': 'person', 'confidence': np.float32(0.600273), 'bbox': (np.float32(85.796135), np.float32(165.77087), np.float32(133.70296), np.float32(247.32721))}, {'frame': 92, 'label': 'person', 'confidence': np.float32(0.44959715), 'bbox': (np.float32(700.56195), np.float32(131.1983), np.float32(752.2978), np.float32(221.30608)), 'team': 1}, {'frame': 92, 'label': 'person', 'confidence': np.float32(0.36266702), 'bbox': (np.float32(613.9638), np.float32(77.52099), np.float32(672.2812), np.float32(153.5323)), 'team': 1}, {'frame': 92, 'label': 'person', 'confidence': np.float32(0.35856748), 'bbox': (np.float32(590.17584), np.float32(91.80532), np.float32(640.90546), np.float32(217.96112)), 'team': 1}, {'frame': 92, 'label': 'person', 'confidence': np.float32(0.25519985), 'bbox': (np.float32(742.98315), np.float32(124.15821), np.float32(783.5837), np.float32(215.36906)), 'team': 0}, {'frame': 93, 'label': 'person', 'confidence': np.float32(0.6184617), 'bbox': (np.float32(111.64752), np.float32(168.78217), np.float32(156.41895), np.float32(248.54343))}, {'frame': 93, 'label': 'person', 'confidence': np.float32(0.43626538), 'bbox': (np.float32(1181.3507), np.float32(634.89685), np.float32(1246.6976), np.float32(716.4164))}, {'frame': 93, 'label': 'person', 'confidence': np.float32(0.39997345), 'bbox': (np.float32(41.55514), np.float32(125.48508), np.float32(84.48778), np.float32(188.03209))}, {'frame': 93, 'label': 'person', 'confidence': np.float32(0.39497316), 'bbox': (np.float32(642.00476), np.float32(78.323845), np.float32(699.5666), np.float32(156.15602)), 'team': 1}, {'frame': 93, 'label': 'person', 'confidence': np.float32(0.37891692), 'bbox': (np.float32(620.76434), np.float32(146.82204), np.float32(661.6882), np.float32(221.69888)), 'team': 1}, {'frame': 93, 'label': 'person', 'confidence': np.float32(0.34544602), 'bbox': (np.float32(1085.8237), np.float32(570.0427), np.float32(1197.8566), np.float32(714.50494)), 'referee': True}, {'frame': 93, 'label': 'person', 'confidence': np.float32(0.34110382), 'bbox': (np.float32(725.73505), np.float32(132.41962), np.float32(783.9323), np.float32(221.56964)), 'team': 1}, {'frame': 94, 'label': 'person', 'confidence': np.float32(0.56539285), 'bbox': (np.float32(134.82755), np.float32(170.71393), np.float32(179.51222), np.float32(249.92874))}, {'frame': 94, 'label': 'person', 'confidence': np.float32(0.5404749), 'bbox': (np.float32(646.819), np.float32(152.71677), np.float32(686.92816), np.float32(223.92853)), 'team': 1}, {'frame': 94, 'label': 'person', 'confidence': np.float32(0.48081413), 'bbox': (np.float32(1065.0568), np.float32(579.3532), np.float32(1261.5664), np.float32(714.5355)), 'referee': True}, {'frame': 94, 'label': 'person', 'confidence': np.float32(0.35793173), 'bbox': (np.float32(670.4076), np.float32(80.87199), np.float32(725.3156), np.float32(156.0057)), 'team': 0}, {'frame': 94, 'label': 'person', 'confidence': np.float32(0.35066494), 'bbox': (np.float32(752.3144), np.float32(121.31458), np.float32(811.0332), np.float32(223.98546)), 'team': 0}, {'frame': 94, 'label': 'person', 'confidence': np.float32(0.3290786), 'bbox': (np.float32(72.19595), np.float32(119.649765), np.float32(120.63072), np.float32(189.40993))}, {'frame': 95, 'label': 'person', 'confidence': np.float32(0.57664037), 'bbox': (np.float32(155.09622), np.float32(172.4127), np.float32(199.37639), np.float32(252.01399))}, {'frame': 95, 'label': 'person', 'confidence': np.float32(0.4051561), 'bbox': (np.float32(108.02695), np.float32(122.735886), np.float32(149.33316), np.float32(188.3206))}, {'frame': 95, 'label': 'person', 'confidence': np.float32(0.34932622), 'bbox': (np.float32(777.01733), np.float32(102.23896), np.float32(839.7286), np.float32(224.33022)), 'team': 1}, {'frame': 95, 'label': 'person', 'confidence': np.float32(0.2875331), 'bbox': (np.float32(669.5107), np.float32(148.82722), np.float32(714.3225), np.float32(226.79121)), 'team': 1}, {'frame': 96, 'label': 'person', 'confidence': np.float32(0.5650437), 'bbox': (np.float32(176.20361), np.float32(174.54642), np.float32(218.30946), np.float32(251.2346))}, {'frame': 96, 'label': 'person', 'confidence': np.float32(0.5161823), 'bbox': (np.float32(1179.6506), np.float32(597.84814), np.float32(1266.8329), np.float32(715.0539))}, {'frame': 96, 'label': 'person', 'confidence': np.float32(0.43731448), 'bbox': (np.float32(689.30396), np.float32(148.38724), np.float32(742.116), np.float32(232.68619)), 'team': 1}, {'frame': 96, 'label': 'person', 'confidence': np.float32(0.42349946), 'bbox': (np.float32(136.18031), np.float32(121.86313), np.float32(182.71243), np.float32(188.32529))}, {'frame': 96, 'label': 'person', 'confidence': np.float32(0.33230174), 'bbox': (np.float32(798.23474), np.float32(106.69712), np.float32(864.9066), np.float32(223.73871)), 'team': 0}, {'frame': 97, 'label': 'person', 'confidence': np.float32(0.6241135), 'bbox': (np.float32(194.60913), np.float32(174.2771), np.float32(235.22174), np.float32(249.57976))}, {'frame': 97, 'label': 'person', 'confidence': np.float32(0.55504864), 'bbox': (np.float32(713.9319), np.float32(150.45805), np.float32(767.0064), np.float32(234.9941)), 'team': 1}, {'frame': 97, 'label': 'person', 'confidence': np.float32(0.42790604), 'bbox': (np.float32(163.13489), np.float32(113.45654), np.float32(205.79404), np.float32(186.82233))}, {'frame': 97, 'label': 'person', 'confidence': np.float32(0.3552059), 'bbox': (np.float32(416.81897), np.float32(380.38907), np.float32(485.61917), np.float32(461.0925))}, {'frame': 98, 'label': 'person', 'confidence': np.float32(0.5464798), 'bbox': (np.float32(730.42017), np.float32(149.8707), np.float32(792.4679), np.float32(237.1466)), 'team': 1}, {'frame': 98, 'label': 'person', 'confidence': np.float32(0.49130112), 'bbox': (np.float32(211.32271), np.float32(180.88573), np.float32(251.41809), np.float32(253.62708))}, {'frame': 98, 'label': 'person', 'confidence': np.float32(0.3028052), 'bbox': (np.float32(191.89146), np.float32(107.65095), np.float32(235.58342), np.float32(187.92126))}, {'frame': 99, 'label': 'person', 'confidence': np.float32(0.5061537), 'bbox': (np.float32(748.3553), np.float32(104.81193), np.float32(816.06573), np.float32(240.19662)), 'team': 1}, {'frame': 99, 'label': 'person', 'confidence': np.float32(0.47448125), 'bbox': (np.float32(222.9936), np.float32(115.53393), np.float32(269.96594), np.float32(252.96483))}, {'frame': 99, 'label': 'person', 'confidence': np.float32(0.31347135), 'bbox': (np.float32(229.33145), np.float32(176.77252), np.float32(268.70117), np.float32(249.87648))}, {'frame': 99, 'label': 'person', 'confidence': np.float32(0.27814677), 'bbox': (np.float32(877.6411), np.float32(132.378), np.float32(940.34595), np.float32(227.81917)), 'team': 1}, {'frame': 100, 'label': 'person', 'confidence': np.float32(0.5827356), 'bbox': (np.float32(769.34705), np.float32(158.20929), np.float32(834.49286), np.float32(242.82944)), 'team': 1}, {'frame': 100, 'label': 'person', 'confidence': np.float32(0.47352734), 'bbox': (np.float32(442.03427), np.float32(387.9096), np.float32(516.92505), np.float32(471.7941))}, {'frame': 100, 'label': 'person', 'confidence': np.float32(0.38340473), 'bbox': (np.float32(242.07063), np.float32(113.32736), np.float32(285.94086), np.float32(254.41893))}, {'frame': 101, 'label': 'person', 'confidence': np.float32(0.6550238), 'bbox': (np.float32(783.9374), np.float32(149.3715), np.float32(850.1141), np.float32(245.33401)), 'team': 1}, {'frame': 101, 'label': 'person', 'confidence': np.float32(0.43086308), 'bbox': (np.float32(444.5311), np.float32(388.29416), np.float32(523.07544), np.float32(476.63483)), 'referee': True}, {'frame': 101, 'label': 'person', 'confidence': np.float32(0.34379154), 'bbox': (np.float32(264.57208), np.float32(101.31575), np.float32(308.87582), np.float32(188.62221))}, {'frame': 101, 'label': 'person', 'confidence': np.float32(0.2927864), 'bbox': (np.float32(259.23785), np.float32(179.91908), np.float32(298.838), np.float32(253.20883))}, {'frame': 102, 'label': 'person', 'confidence': np.float32(0.5597571), 'bbox': (np.float32(801.7037), np.float32(151.37546), np.float32(865.2711), np.float32(248.76747)), 'team': 1}, {'frame': 102, 'label': 'person', 'confidence': np.float32(0.37670407), 'bbox': (np.float32(657.2325), np.float32(174.93129), np.float32(707.77734), np.float32(254.21254))}, {'frame': 102, 'label': 'person', 'confidence': np.float32(0.35052532), 'bbox': (np.float32(285.59528), np.float32(102.32113), np.float32(328.00595), np.float32(184.8949))}, {'frame': 102, 'label': 'person', 'confidence': np.float32(0.28854352), 'bbox': (np.float32(271.69565), np.float32(179.36581), np.float32(314.26645), np.float32(253.4951))}, {'frame': 103, 'label': 'person', 'confidence': np.float32(0.6197312), 'bbox': (np.float32(821.4215), np.float32(142.50945), np.float32(880.88116), np.float32(248.45393)), 'team': 1}, {'frame': 103, 'label': 'person', 'confidence': np.float32(0.60737395), 'bbox': (np.float32(666.0897), np.float32(173.48112), np.float32(728.8221), np.float32(252.25587))}, {'frame': 103, 'label': 'person', 'confidence': np.float32(0.59498525), 'bbox': (np.float32(306.9485), np.float32(97.662926), np.float32(350.85455), np.float32(180.50243))}, {'frame': 103, 'label': 'person', 'confidence': np.float32(0.5403775), 'bbox': (np.float32(284.53983), np.float32(177.11595), np.float32(329.03497), np.float32(255.01778))}, {'frame': 103, 'label': 'person', 'confidence': np.float32(0.4143341), 'bbox': (np.float32(469.29333), np.float32(387.4507), np.float32(537.32465), np.float32(470.6466)), 'referee': True}, {'frame': 104, 'label': 'person', 'confidence': np.float32(0.6630627), 'bbox': (np.float32(673.8485), np.float32(167.27667), np.float32(736.5648), np.float32(249.4446))}, {'frame': 104, 'label': 'person', 'confidence': np.float32(0.63496655), 'bbox': (np.float32(297.82272), np.float32(177.32637), np.float32(341.1221), np.float32(254.88062))}, {'frame': 104, 'label': 'person', 'confidence': np.float32(0.58093375), 'bbox': (np.float32(479.64154), np.float32(390.63327), np.float32(541.16003), np.float32(470.7658))}, {'frame': 104, 'label': 'person', 'confidence': np.float32(0.57466495), 'bbox': (np.float32(327.60074), np.float32(98.49393), np.float32(367.7387), np.float32(176.47878))}, {'frame': 104, 'label': 'person', 'confidence': np.float32(0.5149194), 'bbox': (np.float32(840.66235), np.float32(124.59705), np.float32(896.09784), np.float32(249.4984)), 'team': 1}, {'frame': 105, 'label': 'person', 'confidence': np.float32(0.6688572), 'bbox': (np.float32(308.76746), np.float32(179.58533), np.float32(353.53735), np.float32(255.91013))}, {'frame': 105, 'label': 'person', 'confidence': np.float32(0.6576274), 'bbox': (np.float32(348.26352), np.float32(99.45325), np.float32(387.23502), np.float32(175.7487))}, {'frame': 105, 'label': 'person', 'confidence': np.float32(0.6088103), 'bbox': (np.float32(683.7768), np.float32(170.64938), np.float32(757.09064), np.float32(246.464))}, {'frame': 105, 'label': 'person', 'confidence': np.float32(0.4399914), 'bbox': (np.float32(490.78156), np.float32(390.64932), np.float32(544.25836), np.float32(456.94894))}, {'frame': 105, 'label': 'person', 'confidence': np.float32(0.37965143), 'bbox': (np.float32(860.091), np.float32(148.95995), np.float32(909.64716), np.float32(253.00127)), 'team': 1}, {'frame': 106, 'label': 'person', 'confidence': np.float32(0.7277142), 'bbox': (np.float32(321.78406), np.float32(176.68224), np.float32(367.53015), np.float32(256.7642))}, {'frame': 106, 'label': 'person', 'confidence': np.float32(0.6724674), 'bbox': (np.float32(366.9245), np.float32(97.996605), np.float32(408.22202), np.float32(174.19072))}, {'frame': 106, 'label': 'person', 'confidence': np.float32(0.65634), 'bbox': (np.float32(697.925), np.float32(169.47571), np.float32(769.05676), np.float32(244.80899))}, {'frame': 106, 'label': 'person', 'confidence': np.float32(0.4320338), 'bbox': (np.float32(491.26675), np.float32(391.33835), np.float32(551.57166), np.float32(469.0819)), 'referee': True}, {'frame': 106, 'label': 'person', 'confidence': np.float32(0.40367413), 'bbox': (np.float32(877.56244), np.float32(129.17897), np.float32(934.95374), np.float32(252.99887)), 'team': 1}, {'frame': 107, 'label': 'person', 'confidence': np.float32(0.7523593), 'bbox': (np.float32(491.07486), np.float32(390.14383), np.float32(558.22076), np.float32(484.6057)), 'referee': True}, {'frame': 107, 'label': 'person', 'confidence': np.float32(0.74350995), 'bbox': (np.float32(333.9035), np.float32(178.60359), np.float32(376.02374), np.float32(258.69534))}, {'frame': 107, 'label': 'person', 'confidence': np.float32(0.741219), 'bbox': (np.float32(387.27243), np.float32(98.14655), np.float32(424.64215), np.float32(173.12672))}, {'frame': 107, 'label': 'person', 'confidence': np.float32(0.6333562), 'bbox': (np.float32(895.19366), np.float32(183.57289), np.float32(937.8725), np.float32(249.87907)), 'team': 1}, {'frame': 107, 'label': 'person', 'confidence': np.float32(0.6158811), 'bbox': (np.float32(708.16455), np.float32(168.01271), np.float32(776.1188), np.float32(243.9493))}, {'frame': 108, 'label': 'person', 'confidence': np.float32(0.7690047), 'bbox': (np.float32(338.63242), np.float32(178.27837), np.float32(383.39624), np.float32(258.2534))}, {'frame': 108, 'label': 'person', 'confidence': np.float32(0.73441964), 'bbox': (np.float32(396.69714), np.float32(99.16785), np.float32(434.92697), np.float32(173.37593))}, {'frame': 108, 'label': 'person', 'confidence': np.float32(0.6815472), 'bbox': (np.float32(494.6588), np.float32(393.77356), np.float32(558.676), np.float32(483.80423)), 'referee': True}, {'frame': 108, 'label': 'person', 'confidence': np.float32(0.6700475), 'bbox': (np.float32(727.4999), np.float32(168.51102), np.float32(782.7664), np.float32(247.66167))}, {'frame': 108, 'label': 'person', 'confidence': np.float32(0.5305457), 'bbox': (np.float32(904.73596), np.float32(182.94373), np.float32(946.16724), np.float32(253.41646)), 'team': 1}, {'frame': 108, 'label': 'person', 'confidence': np.float32(0.25345105), 'bbox': (np.float32(458.99646), np.float32(620.74207), np.float32(515.1544), np.float32(702.01117))}, {'frame': 109, 'label': 'person', 'confidence': np.float32(0.79383457), 'bbox': (np.float32(350.39062), np.float32(177.64317), np.float32(395.15378), np.float32(260.9661))}, {'frame': 109, 'label': 'person', 'confidence': np.float32(0.7558454), 'bbox': (np.float32(416.51404), np.float32(97.4696), np.float32(453.43173), np.float32(173.05403))}, {'frame': 109, 'label': 'person', 'confidence': np.float32(0.7114517), 'bbox': (np.float32(737.2645), np.float32(165.00127), np.float32(795.8888), np.float32(246.83928))}, {'frame': 109, 'label': 'person', 'confidence': np.float32(0.6602406), 'bbox': (np.float32(495.2162), np.float32(395.29065), np.float32(561.46564), np.float32(483.65042)), 'referee': True}, {'frame': 109, 'label': 'person', 'confidence': np.float32(0.5628716), 'bbox': (np.float32(918.6053), np.float32(186.8581), np.float32(966.2651), np.float32(254.53903)), 'team': 1}, {'frame': 109, 'label': 'person', 'confidence': np.float32(0.32328692), 'bbox': (np.float32(948.4104), np.float32(122.76377), np.float32(1000.046), np.float32(204.02617)), 'team': 0}, {'frame': 110, 'label': 'person', 'confidence': np.float32(0.76994085), 'bbox': (np.float32(432.57925), np.float32(92.488945), np.float32(470.87238), np.float32(172.37196))}, {'frame': 110, 'label': 'person', 'confidence': np.float32(0.7697739), 'bbox': (np.float32(359.29553), np.float32(177.27534), np.float32(405.9453), np.float32(260.52673))}, {'frame': 110, 'label': 'person', 'confidence': np.float32(0.74345326), 'bbox': (np.float32(499.6307), np.float32(397.2895), np.float32(564.8716), np.float32(490.66623)), 'referee': True}, {'frame': 110, 'label': 'person', 'confidence': np.float32(0.5991783), 'bbox': (np.float32(756.0477), np.float32(164.61804), np.float32(807.7042), np.float32(246.1447))}, {'frame': 110, 'label': 'person', 'confidence': np.float32(0.4651158), 'bbox': (np.float32(934.1133), np.float32(189.8884), np.float32(982.20325), np.float32(259.8351)), 'team': 1}, {'frame': 110, 'label': 'person', 'confidence': np.float32(0.36021098), 'bbox': (np.float32(967.0038), np.float32(128.01215), np.float32(1017.48816), np.float32(205.39923)), 'team': 0}, {'frame': 111, 'label': 'person', 'confidence': np.float32(0.77289295), 'bbox': (np.float32(451.81247), np.float32(91.28236), np.float32(488.79404), np.float32(171.84598))}, {'frame': 111, 'label': 'person', 'confidence': np.float32(0.754084), 'bbox': (np.float32(367.58884), np.float32(177.47588), np.float32(417.13242), np.float32(262.72186)), 'referee': True}, {'frame': 111, 'label': 'person', 'confidence': np.float32(0.71192116), 'bbox': (np.float32(500.8498), np.float32(401.75208), np.float32(569.3947), np.float32(493.10367)), 'referee': True}, {'frame': 111, 'label': 'person', 'confidence': np.float32(0.63874644), 'bbox': (np.float32(768.8821), np.float32(164.84816), np.float32(816.3294), np.float32(243.38406))}, {'frame': 111, 'label': 'person', 'confidence': np.float32(0.43179145), 'bbox': (np.float32(944.16425), np.float32(190.71059), np.float32(1001.0982), np.float32(264.65726)), 'team': 1}, {'frame': 111, 'label': 'person', 'confidence': np.float32(0.39390615), 'bbox': (np.float32(984.70386), np.float32(125.03893), np.float32(1035.2186), np.float32(209.70572)), 'team': 0}, {'frame': 111, 'label': 'person', 'confidence': np.float32(0.26036954), 'bbox': (np.float32(508.0684), np.float32(628.6916), np.float32(568.705), np.float32(686.4357))}, {'frame': 112, 'label': 'person', 'confidence': np.float32(0.7540222), 'bbox': (np.float32(467.023), np.float32(89.08144), np.float32(505.51456), np.float32(170.7367))}, {'frame': 112, 'label': 'person', 'confidence': np.float32(0.7500177), 'bbox': (np.float32(376.4693), np.float32(176.49416), np.float32(425.79236), np.float32(264.08063)), 'referee': True}, {'frame': 112, 'label': 'person', 'confidence': np.float32(0.6675507), 'bbox': (np.float32(502.5883), np.float32(401.21118), np.float32(569.7856), np.float32(494.2382)), 'referee': True}, {'frame': 112, 'label': 'person', 'confidence': np.float32(0.65060014), 'bbox': (np.float32(780.64136), np.float32(160.46208), np.float32(825.43054), np.float32(237.47362))}, {'frame': 112, 'label': 'person', 'confidence': np.float32(0.40710407), 'bbox': (np.float32(957.2649), np.float32(191.00058), np.float32(1008.9499), np.float32(261.58093)), 'team': 1}, {'frame': 112, 'label': 'person', 'confidence': np.float32(0.368372), 'bbox': (np.float32(1004.1781), np.float32(127.26633), np.float32(1052.0271), np.float32(215.04611)), 'team': 0}, {'frame': 113, 'label': 'person', 'confidence': np.float32(0.77811086), 'bbox': (np.float32(384.02026), np.float32(176.35947), np.float32(432.7311), np.float32(267.67218)), 'referee': True}, {'frame': 113, 'label': 'person', 'confidence': np.float32(0.7668634), 'bbox': (np.float32(484.51544), np.float32(90.56914), np.float32(522.5525), np.float32(170.36325))}, {'frame': 113, 'label': 'person', 'confidence': np.float32(0.6540788), 'bbox': (np.float32(789.43774), np.float32(161.57243), np.float32(833.5221), np.float32(237.90106))}, {'frame': 113, 'label': 'person', 'confidence': np.float32(0.42662922), 'bbox': (np.float32(1021.47034), np.float32(148.32014), np.float32(1068.2128), np.float32(216.14053)), 'team': 1}, {'frame': 113, 'label': 'person', 'confidence': np.float32(0.41357496), 'bbox': (np.float32(967.1348), np.float32(193.59235), np.float32(1033.1136), np.float32(267.28397)), 'team': 0, 'referee': True}, {'frame': 113, 'label': 'person', 'confidence': np.float32(0.36742783), 'bbox': (np.float32(517.01886), np.float32(406.57376), np.float32(567.5383), np.float32(481.43073)), 'referee': True}, {'frame': 113, 'label': 'person', 'confidence': np.float32(0.34889287), 'bbox': (np.float32(154.13908), np.float32(389.72256), np.float32(217.4227), np.float32(482.70166)), 'referee': True}, {'frame': 114, 'label': 'person', 'confidence': np.float32(0.78534234), 'bbox': (np.float32(391.20743), np.float32(176.81271), np.float32(438.81433), np.float32(270.04187)), 'referee': True}, {'frame': 114, 'label': 'person', 'confidence': np.float32(0.74813056), 'bbox': (np.float32(496.7805), np.float32(87.93982), np.float32(535.9218), np.float32(170.3595))}, {'frame': 114, 'label': 'person', 'confidence': np.float32(0.69610465), 'bbox': (np.float32(797.0283), np.float32(160.38751), np.float32(843.86456), np.float32(237.80441))}, {'frame': 114, 'label': 'person', 'confidence': np.float32(0.57368344), 'bbox': (np.float32(977.3242), np.float32(194.67812), np.float32(1035.6235), np.float32(270.89926)), 'team': 1, 'referee': True}, {'frame': 114, 'label': 'person', 'confidence': np.float32(0.38905698), 'bbox': (np.float32(161.00375), np.float32(392.04855), np.float32(223.38855), np.float32(485.67404)), 'referee': True}, {'frame': 114, 'label': 'person', 'confidence': np.float32(0.34463292), 'bbox': (np.float32(1035.4331), np.float32(124.16973), np.float32(1082.4077), np.float32(216.54138)), 'team': 0}, {'frame': 115, 'label': 'person', 'confidence': np.float32(0.79706866), 'bbox': (np.float32(511.98138), np.float32(87.300995), np.float32(551.0275), np.float32(168.8765))}, {'frame': 115, 'label': 'person', 'confidence': np.float32(0.75761205), 'bbox': (np.float32(397.3369), np.float32(177.3442), np.float32(444.0269), np.float32(271.8169)), 'referee': True}, {'frame': 115, 'label': 'person', 'confidence': np.float32(0.69711626), 'bbox': (np.float32(804.3107), np.float32(157.34909), np.float32(848.8335), np.float32(234.96082))}, {'frame': 115, 'label': 'person', 'confidence': np.float32(0.5899452), 'bbox': (np.float32(989.2859), np.float32(193.44916), np.float32(1036.684), np.float32(271.33157)), 'team': 1}, {'frame': 115, 'label': 'person', 'confidence': np.float32(0.5474424), 'bbox': (np.float32(506.77768), np.float32(404.09375), np.float32(564.31494), np.float32(503.56024)), 'referee': True}, {'frame': 115, 'label': 'person', 'confidence': np.float32(0.25876942), 'bbox': (np.float32(1051.887), np.float32(152.70462), np.float32(1095.2711), np.float32(218.93375)), 'team': 0}, {'frame': 116, 'label': 'person', 'confidence': np.float32(0.82712495), 'bbox': (np.float32(525.88226), np.float32(86.90126), np.float32(562.71436), np.float32(167.4047)), 'team': 0}, {'frame': 116, 'label': 'person', 'confidence': np.float32(0.7900004), 'bbox': (np.float32(400.15582), np.float32(176.94307), np.float32(449.5522), np.float32(274.25436)), 'referee': True}, {'frame': 116, 'label': 'person', 'confidence': np.float32(0.7434475), 'bbox': (np.float32(809.6949), np.float32(153.51566), np.float32(854.04517), np.float32(236.23604))}, {'frame': 116, 'label': 'person', 'confidence': np.float32(0.5194809), 'bbox': (np.float32(984.4852), np.float32(198.59778), np.float32(1043.0613), np.float32(277.89642)), 'team': 1, 'referee': True}, {'frame': 116, 'label': 'person', 'confidence': np.float32(0.4850125), 'bbox': (np.float32(508.18546), np.float32(404.6011), np.float32(559.1228), np.float32(481.10016)), 'referee': True}, {'frame': 116, 'label': 'person', 'confidence': np.float32(0.41513413), 'bbox': (np.float32(1063.0958), np.float32(147.85004), np.float32(1112.5206), np.float32(224.09766)), 'team': 0}, {'frame': 116, 'label': 'person', 'confidence': np.float32(0.35779148), 'bbox': (np.float32(167.68584), np.float32(393.74393), np.float32(230.91522), np.float32(495.5758)), 'referee': True}, {'frame': 117, 'label': 'person', 'confidence': np.float32(0.7967253), 'bbox': (np.float32(404.2007), np.float32(178.64668), np.float32(453.98083), np.float32(276.72458)), 'referee': True}, {'frame': 117, 'label': 'person', 'confidence': np.float32(0.7930742), 'bbox': (np.float32(810.7713), np.float32(151.7412), np.float32(861.1286), np.float32(236.89989)), 'referee': True}, {'frame': 117, 'label': 'person', 'confidence': np.float32(0.7802393), 'bbox': (np.float32(535.69104), np.float32(86.67925), np.float32(576.64026), np.float32(165.97255)), 'team': 0}, {'frame': 117, 'label': 'person', 'confidence': np.float32(0.7237996), 'bbox': (np.float32(1001.5817), np.float32(196.91476), np.float32(1046.6295), np.float32(275.93732)), 'team': 1}, {'frame': 117, 'label': 'person', 'confidence': np.float32(0.3790666), 'bbox': (np.float32(1084.616), np.float32(170.32433), np.float32(1126.3407), np.float32(226.95795)), 'team': 1}, {'frame': 117, 'label': 'person', 'confidence': np.float32(0.3649582), 'bbox': (np.float32(509.2878), np.float32(403.8957), np.float32(557.8062), np.float32(475.4799)), 'referee': True}, {'frame': 118, 'label': 'person', 'confidence': np.float32(0.80966926), 'bbox': (np.float32(812.23486), np.float32(150.13286), np.float32(863.9806), np.float32(235.48769))}, {'frame': 118, 'label': 'person', 'confidence': np.float32(0.796283), 'bbox': (np.float32(407.53305), np.float32(178.42044), np.float32(458.41382), np.float32(278.58197)), 'referee': True}, {'frame': 118, 'label': 'person', 'confidence': np.float32(0.79059106), 'bbox': (np.float32(546.9117), np.float32(84.52242), np.float32(591.3724), np.float32(165.28322))}, {'frame': 118, 'label': 'person', 'confidence': np.float32(0.70159006), 'bbox': (np.float32(1003.1191), np.float32(197.61046), np.float32(1055.8728), np.float32(279.67703)), 'team': 1, 'referee': True}, {'frame': 118, 'label': 'person', 'confidence': np.float32(0.30090943), 'bbox': (np.float32(1094.3275), np.float32(179.5943), np.float32(1137.5542), np.float32(226.66322)), 'team': 1}, {'frame': 118, 'label': 'person', 'confidence': np.float32(0.2887476), 'bbox': (np.float32(508.0828), np.float32(400.06348), np.float32(554.5153), np.float32(480.56863)), 'referee': True}, {'frame': 119, 'label': 'person', 'confidence': np.float32(0.81582797), 'bbox': (np.float32(556.2034), np.float32(83.216675), np.float32(601.0671), np.float32(165.48178)), 'team': 0}, {'frame': 119, 'label': 'person', 'confidence': np.float32(0.80835706), 'bbox': (np.float32(408.74228), np.float32(179.52602), np.float32(459.2948), np.float32(279.33597)), 'referee': True}, {'frame': 119, 'label': 'person', 'confidence': np.float32(0.80710524), 'bbox': (np.float32(806.2556), np.float32(150.02171), np.float32(864.8959), np.float32(235.82262)), 'referee': True}, {'frame': 119, 'label': 'person', 'confidence': np.float32(0.7689503), 'bbox': (np.float32(1010.08777), np.float32(197.78204), np.float32(1062.5005), np.float32(284.30396)), 'team': 1, 'referee': True}, {'frame': 119, 'label': 'person', 'confidence': np.float32(0.4118152), 'bbox': (np.float32(497.34958), np.float32(395.27536), np.float32(549.42377), np.float32(466.05045)), 'referee': True}, {'frame': 119, 'label': 'person', 'confidence': np.float32(0.2818571), 'bbox': (np.float32(818.63055), np.float32(685.76294), np.float32(861.90753), np.float32(719.4615))}, {'frame': 120, 'label': 'person', 'confidence': np.float32(0.8018716), 'bbox': (np.float32(409.3919), np.float32(181.05067), np.float32(460.6827), np.float32(280.7778)), 'referee': True}, {'frame': 120, 'label': 'person', 'confidence': np.float32(0.78046906), 'bbox': (np.float32(819.4034), np.float32(146.11804), np.float32(866.2149), np.float32(230.813)), 'referee': True}, {'frame': 120, 'label': 'person', 'confidence': np.float32(0.77867687), 'bbox': (np.float32(564.8009), np.float32(83.44683), np.float32(611.8493), np.float32(163.41106)), 'team': 0}, {'frame': 120, 'label': 'person', 'confidence': np.float32(0.74293286), 'bbox': (np.float32(1015.10333), np.float32(196.89165), np.float32(1069.4098), np.float32(286.16333)), 'team': 1, 'referee': True}, {'frame': 120, 'label': 'person', 'confidence': np.float32(0.47116235), 'bbox': (np.float32(1114.2865), np.float32(163.91164), np.float32(1146.725), np.float32(226.67064)), 'team': 1}, {'frame': 120, 'label': 'person', 'confidence': np.float32(0.37219703), 'bbox': (np.float32(493.67987), np.float32(398.15622), np.float32(544.1789), np.float32(467.8506)), 'referee': True}, {'frame': 120, 'label': 'person', 'confidence': np.float32(0.33627692), 'bbox': (np.float32(616.9436), np.float32(650.17236), np.float32(667.0234), np.float32(715.09564))}, {'frame': 120, 'label': 'person', 'confidence': np.float32(0.2667125), 'bbox': (np.float32(825.9711), np.float32(689.1127), np.float32(886.1423), np.float32(718.9474))}, {'frame': 121, 'label': 'person', 'confidence': np.float32(0.79761666), 'bbox': (np.float32(572.03735), np.float32(81.51778), np.float32(626.0714), np.float32(161.96083)), 'team': 0}, {'frame': 121, 'label': 'person', 'confidence': np.float32(0.7967317), 'bbox': (np.float32(408.61905), np.float32(181.46637), np.float32(461.80927), np.float32(280.6272)), 'referee': True}, {'frame': 121, 'label': 'person', 'confidence': np.float32(0.7726891), 'bbox': (np.float32(827.91296), np.float32(144.43863), np.float32(868.682), np.float32(231.01979)), 'referee': True}, {'frame': 121, 'label': 'person', 'confidence': np.float32(0.723739), 'bbox': (np.float32(1016.4137), np.float32(196.90079), np.float32(1067.8534), np.float32(286.61707)), 'team': 1, 'referee': True}, {'frame': 121, 'label': 'person', 'confidence': np.float32(0.5310352), 'bbox': (np.float32(1113.0839), np.float32(148.0741), np.float32(1153.6482), np.float32(226.54099)), 'team': 1}, {'frame': 122, 'label': 'person', 'confidence': np.float32(0.8214136), 'bbox': (np.float32(578.26166), np.float32(78.87639), np.float32(633.8525), np.float32(158.89944)), 'team': 0}, {'frame': 122, 'label': 'person', 'confidence': np.float32(0.7827328), 'bbox': (np.float32(407.05023), np.float32(182.05118), np.float32(461.29678), np.float32(280.63333)), 'referee': True}, {'frame': 122, 'label': 'person', 'confidence': np.float32(0.75661063), 'bbox': (np.float32(827.2406), np.float32(140.02373), np.float32(871.51), np.float32(229.48607)), 'referee': True}, {'frame': 122, 'label': 'person', 'confidence': np.float32(0.71120346), 'bbox': (np.float32(1115.1417), np.float32(145.52188), np.float32(1162.344), np.float32(228.30403)), 'team': 1}, {'frame': 122, 'label': 'person', 'confidence': np.float32(0.63707954), 'bbox': (np.float32(1016.3635), np.float32(196.76895), np.float32(1066.2218), np.float32(281.9388)), 'referee': True}, {'frame': 122, 'label': 'person', 'confidence': np.float32(0.32457268), 'bbox': (np.float32(487.1726), np.float32(642.6835), np.float32(572.6462), np.float32(718.4206))}, {'frame': 122, 'label': 'person', 'confidence': np.float32(0.31086278), 'bbox': (np.float32(1249.5265), np.float32(156.08957), np.float32(1268.0), np.float32(215.26917))}, {'frame': 122, 'label': 'person', 'confidence': np.float32(0.3021997), 'bbox': (np.float32(633.1985), np.float32(658.14465), np.float32(681.38153), np.float32(717.23206)), 'team': 1}, {'frame': 123, 'label': 'person', 'confidence': np.float32(0.7902863), 'bbox': (np.float32(826.8897), np.float32(139.79575), np.float32(873.166), np.float32(229.59799)), 'referee': True}, {'frame': 123, 'label': 'person', 'confidence': np.float32(0.7833973), 'bbox': (np.float32(584.991), np.float32(77.86224), np.float32(641.21136), np.float32(157.73042)), 'team': 0}, {'frame': 123, 'label': 'person', 'confidence': np.float32(0.7528688), 'bbox': (np.float32(405.2815), np.float32(181.14905), np.float32(459.00974), np.float32(280.08365)), 'referee': True}, {'frame': 123, 'label': 'person', 'confidence': np.float32(0.6259549), 'bbox': (np.float32(1122.9073), np.float32(144.46786), np.float32(1171.3763), np.float32(225.89787)), 'team': 1, 'referee': True}, {'frame': 123, 'label': 'person', 'confidence': np.float32(0.48283535), 'bbox': (np.float32(1015.55536), np.float32(196.95222), np.float32(1069.0569), np.float32(284.94955)), 'referee': True}, {'frame': 124, 'label': 'person', 'confidence': np.float32(0.8169149), 'bbox': (np.float32(828.44086), np.float32(135.85233), np.float32(874.59357), np.float32(226.83968)), 'referee': True}, {'frame': 124, 'label': 'person', 'confidence': np.float32(0.80310774), 'bbox': (np.float32(587.88965), np.float32(75.35897), np.float32(650.7885), np.float32(155.15166)), 'team': 0}, {'frame': 124, 'label': 'person', 'confidence': np.float32(0.75676817), 'bbox': (np.float32(404.5043), np.float32(180.22061), np.float32(458.32596), np.float32(281.68607)), 'referee': True}, {'frame': 124, 'label': 'person', 'confidence': np.float32(0.6694195), 'bbox': (np.float32(1011.924), np.float32(196.94424), np.float32(1070.4592), np.float32(283.1879)), 'referee': True}, {'frame': 124, 'label': 'person', 'confidence': np.float32(0.5770219), 'bbox': (np.float32(1133.2682), np.float32(141.9498), np.float32(1180.1558), np.float32(224.41689)), 'team': 1, 'referee': True}, {'frame': 124, 'label': 'person', 'confidence': np.float32(0.27876577), 'bbox': (np.float32(647.82587), np.float32(664.3364), np.float32(696.34143), np.float32(719.4896)), 'team': 1}, {'frame': 125, 'label': 'person', 'confidence': np.float32(0.815522), 'bbox': (np.float32(831.40967), np.float32(134.80115), np.float32(878.1526), np.float32(222.45586)), 'referee': True}, {'frame': 125, 'label': 'person', 'confidence': np.float32(0.7991866), 'bbox': (np.float32(595.2398), np.float32(73.51589), np.float32(656.79004), np.float32(150.88828)), 'team': 0}, {'frame': 125, 'label': 'person', 'confidence': np.float32(0.7416199), 'bbox': (np.float32(402.51483), np.float32(179.49617), np.float32(456.6643), np.float32(282.39523)), 'referee': True}, {'frame': 125, 'label': 'person', 'confidence': np.float32(0.6936762), 'bbox': (np.float32(1143.4194), np.float32(138.62434), np.float32(1186.4156), np.float32(222.79303)), 'team': 1, 'referee': True}, {'frame': 125, 'label': 'person', 'confidence': np.float32(0.6865034), 'bbox': (np.float32(1021.94476), np.float32(198.9575), np.float32(1075.3468), np.float32(287.3459)), 'referee': True}, {'frame': 125, 'label': 'person', 'confidence': np.float32(0.27816996), 'bbox': (np.float32(654.1702), np.float32(665.756), np.float32(705.3699), np.float32(717.19855)), 'team': 1}, {'frame': 126, 'label': 'person', 'confidence': np.float32(0.80171776), 'bbox': (np.float32(602.54224), np.float32(70.937485), np.float32(663.32635), np.float32(149.92561)), 'team': 0}, {'frame': 126, 'label': 'person', 'confidence': np.float32(0.7982641), 'bbox': (np.float32(835.3721), np.float32(131.97635), np.float32(878.12354), np.float32(220.47574)), 'referee': True}, {'frame': 126, 'label': 'person', 'confidence': np.float32(0.7406796), 'bbox': (np.float32(1021.19116), np.float32(195.35225), np.float32(1077.2246), np.float32(288.3594)), 'referee': True}, {'frame': 126, 'label': 'person', 'confidence': np.float32(0.7131524), 'bbox': (np.float32(400.8258), np.float32(177.35948), np.float32(456.55063), np.float32(281.65524)), 'referee': True}, {'frame': 126, 'label': 'person', 'confidence': np.float32(0.6883003), 'bbox': (np.float32(1148.2039), np.float32(140.53917), np.float32(1196.447), np.float32(223.7731)), 'team': 1, 'referee': True}, {'frame': 126, 'label': 'person', 'confidence': np.float32(0.31806308), 'bbox': (np.float32(513.448), np.float32(638.36566), np.float32(604.28033), np.float32(720.0))}, {'frame': 126, 'label': 'person', 'confidence': np.float32(0.2725773), 'bbox': (np.float32(663.3103), np.float32(669.762), np.float32(712.05963), np.float32(720.0)), 'team': 1}, {'frame': 127, 'label': 'person', 'confidence': np.float32(0.83904696), 'bbox': (np.float32(608.42346), np.float32(68.3567), np.float32(667.3887), np.float32(148.06009)), 'team': 0}, {'frame': 127, 'label': 'person', 'confidence': np.float32(0.8233501), 'bbox': (np.float32(837.1607), np.float32(128.43246), np.float32(884.6435), np.float32(217.02611)), 'referee': True}, {'frame': 127, 'label': 'person', 'confidence': np.float32(0.7894023), 'bbox': (np.float32(1020.8715), np.float32(195.04665), np.float32(1080.1943), np.float32(291.76254)), 'referee': True}, {'frame': 127, 'label': 'person', 'confidence': np.float32(0.7402994), 'bbox': (np.float32(396.9704), np.float32(175.88124), np.float32(457.37985), np.float32(281.5292)), 'referee': True}, {'frame': 127, 'label': 'person', 'confidence': np.float32(0.6984995), 'bbox': (np.float32(1156.3965), np.float32(137.03651), np.float32(1201.2408), np.float32(220.86874)), 'team': 1, 'referee': True}, {'frame': 128, 'label': 'person', 'confidence': np.float32(0.85099506), 'bbox': (np.float32(614.32355), np.float32(65.88201), np.float32(671.98047), np.float32(144.49304)), 'team': 0}, {'frame': 128, 'label': 'person', 'confidence': np.float32(0.8059482), 'bbox': (np.float32(840.48285), np.float32(125.042755), np.float32(886.94183), np.float32(216.09029)), 'referee': True}, {'frame': 128, 'label': 'person', 'confidence': np.float32(0.751459), 'bbox': (np.float32(1022.8713), np.float32(194.50775), np.float32(1079.7062), np.float32(292.11035)), 'referee': True}, {'frame': 128, 'label': 'person', 'confidence': np.float32(0.7351252), 'bbox': (np.float32(394.85962), np.float32(173.23106), np.float32(458.6895), np.float32(283.14233)), 'referee': True}, {'frame': 128, 'label': 'person', 'confidence': np.float32(0.666613), 'bbox': (np.float32(1165.4526), np.float32(138.00792), np.float32(1205.5743), np.float32(215.86925)), 'team': 1, 'referee': True}, {'frame': 128, 'label': 'person', 'confidence': np.float32(0.35255134), 'bbox': (np.float32(174.1581), np.float32(658.97516), np.float32(266.61694), np.float32(718.2551))}, {'frame': 129, 'label': 'person', 'confidence': np.float32(0.8261976), 'bbox': (np.float32(622.244), np.float32(62.98171), np.float32(676.4988), np.float32(140.6305)), 'team': 0}, {'frame': 129, 'label': 'person', 'confidence': np.float32(0.8196962), 'bbox': (np.float32(842.5049), np.float32(123.035706), np.float32(890.92487), np.float32(214.30293)), 'referee': True}, {'frame': 129, 'label': 'person', 'confidence': np.float32(0.7339016), 'bbox': (np.float32(394.4111), np.float32(170.25829), np.float32(461.47964), np.float32(283.00296)), 'referee': True}, {'frame': 129, 'label': 'person', 'confidence': np.float32(0.72777474), 'bbox': (np.float32(1022.78735), np.float32(193.7287), np.float32(1079.5262), np.float32(292.30383)), 'referee': True}, {'frame': 129, 'label': 'person', 'confidence': np.float32(0.6204362), 'bbox': (np.float32(1170.9688), np.float32(128.70633), np.float32(1216.3297), np.float32(217.60794)), 'team': 1, 'referee': True}, {'frame': 129, 'label': 'person', 'confidence': np.float32(0.37718815), 'bbox': (np.float32(179.39081), np.float32(659.45245), np.float32(273.3419), np.float32(718.1509))}, {'frame': 130, 'label': 'person', 'confidence': np.float32(0.8204306), 'bbox': (np.float32(630.04736), np.float32(61.250164), np.float32(678.38983), np.float32(138.6179)), 'team': 0}, {'frame': 130, 'label': 'person', 'confidence': np.float32(0.8164022), 'bbox': (np.float32(845.47406), np.float32(121.45201), np.float32(895.3053), np.float32(212.28702)), 'referee': True}, {'frame': 130, 'label': 'person', 'confidence': np.float32(0.8080727), 'bbox': (np.float32(393.02814), np.float32(167.77054), np.float32(460.43842), np.float32(283.12582)), 'referee': True}, {'frame': 130, 'label': 'person', 'confidence': np.float32(0.768928), 'bbox': (np.float32(1022.63885), np.float32(193.31224), np.float32(1078.4232), np.float32(290.61185)), 'referee': True}, {'frame': 130, 'label': 'person', 'confidence': np.float32(0.6880438), 'bbox': (np.float32(1179.5858), np.float32(129.10194), np.float32(1222.972), np.float32(219.26645)), 'team': 1, 'referee': True}, {'frame': 130, 'label': 'person', 'confidence': np.float32(0.26516408), 'bbox': (np.float32(184.7242), np.float32(661.54205), np.float32(277.08914), np.float32(717.70776))}, {'frame': 130, 'label': 'person', 'confidence': np.float32(0.26399508), 'bbox': (np.float32(600.10925), np.float32(669.4202), np.float32(651.5238), np.float32(720.0))}, {'frame': 131, 'label': 'person', 'confidence': np.float32(0.8513907), 'bbox': (np.float32(391.61536), np.float32(165.7643), np.float32(458.82028), np.float32(283.5092)), 'referee': True}, {'frame': 131, 'label': 'person', 'confidence': np.float32(0.8450326), 'bbox': (np.float32(638.52594), np.float32(54.587055), np.float32(685.28723), np.float32(136.33612)), 'team': 0}, {'frame': 131, 'label': 'person', 'confidence': np.float32(0.7501256), 'bbox': (np.float32(853.02673), np.float32(119.76698), np.float32(899.81287), np.float32(208.90428)), 'referee': True}, {'frame': 131, 'label': 'person', 'confidence': np.float32(0.7446856), 'bbox': (np.float32(1025.5901), np.float32(192.43501), np.float32(1078.6442), np.float32(287.41138)), 'referee': True}, {'frame': 131, 'label': 'person', 'confidence': np.float32(0.5159967), 'bbox': (np.float32(1186.0103), np.float32(128.5245), np.float32(1230.4999), np.float32(221.28075)), 'team': 1, 'referee': True}, {'frame': 131, 'label': 'person', 'confidence': np.float32(0.26986593), 'bbox': (np.float32(195.77826), np.float32(664.86615), np.float32(284.59775), np.float32(717.7947))}, {'frame': 132, 'label': 'person', 'confidence': np.float32(0.85728437), 'bbox': (np.float32(390.17526), np.float32(164.53053), np.float32(458.21686), np.float32(282.61356)), 'referee': True}, {'frame': 132, 'label': 'person', 'confidence': np.float32(0.84188384), 'bbox': (np.float32(643.4433), np.float32(52.745377), np.float32(689.19916), np.float32(134.28404)), 'team': 0}, {'frame': 132, 'label': 'person', 'confidence': np.float32(0.77506876), 'bbox': (np.float32(859.8281), np.float32(115.22679), np.float32(904.5531), np.float32(206.54823)), 'referee': True}, {'frame': 132, 'label': 'person', 'confidence': np.float32(0.7308371), 'bbox': (np.float32(1028.5597), np.float32(191.1242), np.float32(1079.0876), np.float32(287.47104)), 'referee': True}, {'frame': 132, 'label': 'person', 'confidence': np.float32(0.68396956), 'bbox': (np.float32(1191.293), np.float32(116.94352), np.float32(1236.5392), np.float32(216.12846)), 'team': 1, 'referee': True}, {'frame': 133, 'label': 'person', 'confidence': np.float32(0.83845025), 'bbox': (np.float32(388.22336), np.float32(162.91762), np.float32(457.96472), np.float32(280.54675)), 'referee': True}, {'frame': 133, 'label': 'person', 'confidence': np.float32(0.8223958), 'bbox': (np.float32(651.5093), np.float32(49.148827), np.float32(696.8774), np.float32(131.51146)), 'team': 0}, {'frame': 133, 'label': 'person', 'confidence': np.float32(0.77419543), 'bbox': (np.float32(1030.0209), np.float32(186.68407), np.float32(1079.2965), np.float32(286.5126)), 'referee': True}, {'frame': 133, 'label': 'person', 'confidence': np.float32(0.7264624), 'bbox': (np.float32(1195.2662), np.float32(120.13164), np.float32(1244.7632), np.float32(215.36696)), 'team': 1, 'referee': True}, {'frame': 133, 'label': 'person', 'confidence': np.float32(0.67798305), 'bbox': (np.float32(865.29065), np.float32(113.709915), np.float32(908.46643), np.float32(203.12099)), 'referee': True}, {'frame': 133, 'label': 'person', 'confidence': np.float32(0.26340592), 'bbox': (np.float32(859.6027), np.float32(154.66287), np.float32(902.9629), np.float32(204.04189))}, {'frame': 134, 'label': 'person', 'confidence': np.float32(0.8257707), 'bbox': (np.float32(385.85492), np.float32(163.0357), np.float32(460.26306), np.float32(278.04886)), 'referee': True}, {'frame': 134, 'label': 'person', 'confidence': np.float32(0.8197142), 'bbox': (np.float32(657.2556), np.float32(46.49689), np.float32(703.18896), np.float32(129.70308)), 'team': 0}, {'frame': 134, 'label': 'person', 'confidence': np.float32(0.8125791), 'bbox': (np.float32(1028.7396), np.float32(183.98419), np.float32(1080.1824), np.float32(287.4841)), 'referee': True}, {'frame': 134, 'label': 'person', 'confidence': np.float32(0.6855659), 'bbox': (np.float32(1205.2249), np.float32(110.67555), np.float32(1256.3567), np.float32(217.18549)), 'team': 1, 'referee': True}, {'frame': 134, 'label': 'person', 'confidence': np.float32(0.49176025), 'bbox': (np.float32(868.3463), np.float32(109.082756), np.float32(914.8955), np.float32(201.94954)), 'referee': True}, {'frame': 135, 'label': 'person', 'confidence': np.float32(0.83384794), 'bbox': (np.float32(384.04724), np.float32(163.56146), np.float32(460.54443), np.float32(279.21304)), 'referee': True}, {'frame': 135, 'label': 'person', 'confidence': np.float32(0.8131366), 'bbox': (np.float32(1027.7694), np.float32(181.28783), np.float32(1079.6398), np.float32(286.88547)), 'referee': True}, {'frame': 135, 'label': 'person', 'confidence': np.float32(0.7858855), 'bbox': (np.float32(665.7683), np.float32(44.40548), np.float32(704.8465), np.float32(126.725685)), 'team': 0}, {'frame': 135, 'label': 'person', 'confidence': np.float32(0.73267514), 'bbox': (np.float32(870.99945), np.float32(100.482506), np.float32(923.105), np.float32(200.23856)), 'referee': True}, {'frame': 135, 'label': 'person', 'confidence': np.float32(0.61457425), 'bbox': (np.float32(1213.8994), np.float32(107.6797), np.float32(1266.1481), np.float32(217.94447)), 'team': 1, 'referee': True}, {'frame': 136, 'label': 'person', 'confidence': np.float32(0.82562655), 'bbox': (np.float32(383.5846), np.float32(164.44824), np.float32(459.50146), np.float32(278.32343)), 'referee': True}, {'frame': 136, 'label': 'person', 'confidence': np.float32(0.7937601), 'bbox': (np.float32(671.5393), np.float32(40.491283), np.float32(711.17303), np.float32(123.78097)), 'team': 0}, {'frame': 136, 'label': 'person', 'confidence': np.float32(0.7698671), 'bbox': (np.float32(1029.7352), np.float32(179.82663), np.float32(1079.266), np.float32(284.33087)), 'referee': True}, {'frame': 136, 'label': 'person', 'confidence': np.float32(0.746898), 'bbox': (np.float32(881.5276), np.float32(98.791695), np.float32(929.7757), np.float32(195.31831)), 'referee': True}, {'frame': 136, 'label': 'person', 'confidence': np.float32(0.62067395), 'bbox': (np.float32(1220.917), np.float32(113.97463), np.float32(1267.5271), np.float32(215.24532)), 'team': 1, 'referee': True}, {'frame': 136, 'label': 'person', 'confidence': np.float32(0.29298076), 'bbox': (np.float32(630.3496), np.float32(607.1556), np.float32(672.04266), np.float32(661.6858)), 'team': 1}, {'frame': 136, 'label': 'person', 'confidence': np.float32(0.2515622), 'bbox': (np.float32(1042.2216), np.float32(39.356293), np.float32(1077.2106), np.float32(77.82539)), 'team': 1}, {'frame': 136, 'label': 'person', 'confidence': np.float32(0.25056154), 'bbox': (np.float32(0.07573174), np.float32(443.16473), np.float32(32.843575), np.float32(526.95044)), 'team': 0}, {'frame': 137, 'label': 'person', 'confidence': np.float32(0.8144608), 'bbox': (np.float32(383.34805), np.float32(165.01224), np.float32(458.70013), np.float32(278.43134)), 'referee': True}, {'frame': 137, 'label': 'person', 'confidence': np.float32(0.7980401), 'bbox': (np.float32(676.5747), np.float32(38.398792), np.float32(716.76117), np.float32(120.75093)), 'team': 0}, {'frame': 137, 'label': 'person', 'confidence': np.float32(0.7849861), 'bbox': (np.float32(888.42194), np.float32(96.18252), np.float32(936.0364), np.float32(193.21298)), 'referee': True}, {'frame': 137, 'label': 'person', 'confidence': np.float32(0.76893795), 'bbox': (np.float32(1029.3865), np.float32(177.94482), np.float32(1079.1947), np.float32(282.00092)), 'referee': True}, {'frame': 137, 'label': 'person', 'confidence': np.float32(0.5786787), 'bbox': (np.float32(1229.969), np.float32(114.61101), np.float32(1267.951), np.float32(213.93452)), 'team': 1, 'referee': True}, {'frame': 137, 'label': 'person', 'confidence': np.float32(0.38140503), 'bbox': (np.float32(448.48105), np.float32(338.3123), np.float32(517.8235), np.float32(430.26312)), 'referee': True}, {'frame': 137, 'label': 'person', 'confidence': np.float32(0.33242804), 'bbox': (np.float32(0.0), np.float32(445.91318), np.float32(40.496326), np.float32(519.81604)), 'team': 0}, {'frame': 138, 'label': 'person', 'confidence': np.float32(0.8459382), 'bbox': (np.float32(680.76294), np.float32(34.99933), np.float32(722.37933), np.float32(119.61494)), 'team': 0}, {'frame': 138, 'label': 'person', 'confidence': np.float32(0.8253367), 'bbox': (np.float32(889.4474), np.float32(98.99367), np.float32(944.6834), np.float32(193.04333)), 'referee': True}, {'frame': 138, 'label': 'person', 'confidence': np.float32(0.80849254), 'bbox': (np.float32(383.3918), np.float32(165.30048), np.float32(454.2279), np.float32(280.7614)), 'referee': True}, {'frame': 138, 'label': 'person', 'confidence': np.float32(0.7982468), 'bbox': (np.float32(1028.5966), np.float32(177.78084), np.float32(1079.8672), np.float32(279.13617)), 'referee': True}, {'frame': 138, 'label': 'person', 'confidence': np.float32(0.45044866), 'bbox': (np.float32(1242.25), np.float32(107.174324), np.float32(1267.7676), np.float32(213.36366)), 'team': 1}, {'frame': 138, 'label': 'person', 'confidence': np.float32(0.41653386), 'bbox': (np.float32(456.91946), np.float32(337.77097), np.float32(507.86166), np.float32(422.70987)), 'referee': True}, {'frame': 138, 'label': 'person', 'confidence': np.float32(0.2535755), 'bbox': (np.float32(0.0), np.float32(448.75632), np.float32(44.839622), np.float32(522.14685)), 'team': 0}, {'frame': 139, 'label': 'person', 'confidence': np.float32(0.8619307), 'bbox': (np.float32(685.79144), np.float32(34.072216), np.float32(728.7383), np.float32(117.72601)), 'referee': True}, {'frame': 139, 'label': 'person', 'confidence': np.float32(0.7950969), 'bbox': (np.float32(383.12158), np.float32(166.00465), np.float32(452.56982), np.float32(280.20996)), 'referee': True}, {'frame': 139, 'label': 'person', 'confidence': np.float32(0.7825066), 'bbox': (np.float32(1029.481), np.float32(175.8725), np.float32(1079.915), np.float32(278.55652)), 'referee': True}, {'frame': 139, 'label': 'person', 'confidence': np.float32(0.77795947), 'bbox': (np.float32(900.64923), np.float32(98.53463), np.float32(952.2413), np.float32(187.38058)), 'referee': True}, {'frame': 139, 'label': 'person', 'confidence': np.float32(0.4310088), 'bbox': (np.float32(458.02774), np.float32(337.59192), np.float32(503.93655), np.float32(421.21997))}, {'frame': 139, 'label': 'skateboard', 'confidence': np.float32(0.3405586), 'bbox': (np.float32(1040.5903), np.float32(261.76913), np.float32(1072.2219), np.float32(282.02798))}, {'frame': 139, 'label': 'person', 'confidence': np.float32(0.29828426), 'bbox': (np.float32(1247.3186), np.float32(101.993645), np.float32(1268.0), np.float32(194.91359)), 'team': 1}, {'frame': 139, 'label': 'person', 'confidence': np.float32(0.269111), 'bbox': (np.float32(1.1740035), np.float32(453.14706), np.float32(50.838657), np.float32(522.48096)), 'team': 0}, {'frame': 140, 'label': 'person', 'confidence': np.float32(0.83382356), 'bbox': (np.float32(689.7879), np.float32(33.729126), np.float32(733.7704), np.float32(115.82748)), 'team': 0, 'referee': True}, {'frame': 140, 'label': 'person', 'confidence': np.float32(0.7819595), 'bbox': (np.float32(1027.8774), np.float32(175.62079), np.float32(1084.1165), np.float32(282.46207)), 'referee': True}, {'frame': 140, 'label': 'person', 'confidence': np.float32(0.76142126), 'bbox': (np.float32(908.0081), np.float32(97.73243), np.float32(961.2245), np.float32(185.21162)), 'referee': True}, {'frame': 140, 'label': 'person', 'confidence': np.float32(0.75943553), 'bbox': (np.float32(383.62222), np.float32(165.71669), np.float32(457.00452), np.float32(280.53766)), 'referee': True}, {'frame': 140, 'label': 'person', 'confidence': np.float32(0.30756107), 'bbox': (np.float32(116.52064), np.float32(483.05975), np.float32(178.76218), np.float32(552.4759))}, {'frame': 140, 'label': 'person', 'confidence': np.float32(0.27850643), 'bbox': (np.float32(8.884233), np.float32(445.34778), np.float32(59.640232), np.float32(521.47375)), 'team': 0}, {'frame': 140, 'label': 'person', 'confidence': np.float32(0.25519535), 'bbox': (np.float32(200.1941), np.float32(542.5108), np.float32(258.99573), np.float32(633.7418))}, {'frame': 141, 'label': 'person', 'confidence': np.float32(0.8257477), 'bbox': (np.float32(689.4923), np.float32(31.68252), np.float32(737.34985), np.float32(115.927)), 'referee': True}, {'frame': 141, 'label': 'person', 'confidence': np.float32(0.81037456), 'bbox': (np.float32(1024.2026), np.float32(173.9435), np.float32(1084.537), np.float32(282.10986)), 'referee': True}, {'frame': 141, 'label': 'person', 'confidence': np.float32(0.7891438), 'bbox': (np.float32(915.6131), np.float32(96.57492), np.float32(969.34314), np.float32(183.16621)), 'referee': True}, {'frame': 141, 'label': 'person', 'confidence': np.float32(0.73032045), 'bbox': (np.float32(384.32416), np.float32(165.9125), np.float32(455.52853), np.float32(281.8525)), 'referee': True}, {'frame': 141, 'label': 'skateboard', 'confidence': np.float32(0.39940307), 'bbox': (np.float32(1039.9332), np.float32(266.0816), np.float32(1064.4807), np.float32(282.67142))}, {'frame': 141, 'label': 'person', 'confidence': np.float32(0.36270702), 'bbox': (np.float32(678.863), np.float32(620.3034), np.float32(722.42645), np.float32(676.3175)), 'team': 1}, {'frame': 141, 'label': 'person', 'confidence': np.float32(0.31419817), 'bbox': (np.float32(18.003834), np.float32(455.91464), np.float32(64.61191), np.float32(521.60254)), 'team': 0}, {'frame': 141, 'label': 'person', 'confidence': np.float32(0.27176246), 'bbox': (np.float32(123.21055), np.float32(484.10602), np.float32(183.86505), np.float32(556.46533))}, {'frame': 142, 'label': 'person', 'confidence': np.float32(0.8129505), 'bbox': (np.float32(1023.14484), np.float32(170.11258), np.float32(1084.7585), np.float32(282.18488)), 'referee': True}, {'frame': 142, 'label': 'person', 'confidence': np.float32(0.81126267), 'bbox': (np.float32(689.5531), np.float32(28.070162), np.float32(739.6453), np.float32(116.52658)), 'referee': True}, {'frame': 142, 'label': 'person', 'confidence': np.float32(0.77350545), 'bbox': (np.float32(384.81378), np.float32(166.20358), np.float32(462.557), np.float32(283.19827)), 'referee': True}, {'frame': 142, 'label': 'person', 'confidence': np.float32(0.7276789), 'bbox': (np.float32(922.95154), np.float32(93.75546), np.float32(974.54034), np.float32(179.8655)), 'referee': True}, {'frame': 142, 'label': 'person', 'confidence': np.float32(0.3729858), 'bbox': (np.float32(980.3991), np.float32(477.655), np.float32(1069.9486), np.float32(626.2947)), 'referee': True}, {'frame': 142, 'label': 'person', 'confidence': np.float32(0.33114284), 'bbox': (np.float32(22.644047), np.float32(454.43457), np.float32(73.295425), np.float32(523.321)), 'team': 0}, {'frame': 142, 'label': 'person', 'confidence': np.float32(0.25237644), 'bbox': (np.float32(690.08594), np.float32(624.3522), np.float32(729.0236), np.float32(677.4821)), 'team': 1}, {'frame': 143, 'label': 'person', 'confidence': np.float32(0.8371741), 'bbox': (np.float32(690.4315), np.float32(30.533936), np.float32(742.4283), np.float32(119.57154)), 'referee': True}, {'frame': 143, 'label': 'person', 'confidence': np.float32(0.81267995), 'bbox': (np.float32(384.3948), np.float32(167.45744), np.float32(457.0422), np.float32(288.03146)), 'referee': True}, {'frame': 143, 'label': 'person', 'confidence': np.float32(0.7985186), 'bbox': (np.float32(1021.49854), np.float32(169.85597), np.float32(1082.2742), np.float32(283.25024)), 'referee': True}, {'frame': 143, 'label': 'person', 'confidence': np.float32(0.7868592), 'bbox': (np.float32(930.10736), np.float32(96.44333), np.float32(985.1542), np.float32(180.94678)), 'referee': True}, {'frame': 143, 'label': 'person', 'confidence': np.float32(0.33981302), 'bbox': (np.float32(30.279406), np.float32(455.96805), np.float32(79.90027), np.float32(528.1366)), 'team': 0}, {'frame': 143, 'label': 'person', 'confidence': np.float32(0.30494305), 'bbox': (np.float32(1007.4906), np.float32(480.45557), np.float32(1093.2953), np.float32(621.933)), 'referee': True}, {'frame': 143, 'label': 'person', 'confidence': np.float32(0.2748466), 'bbox': (np.float32(142.92584), np.float32(487.12677), np.float32(197.4344), np.float32(558.0852))}, {'frame': 143, 'label': 'person', 'confidence': np.float32(0.25480446), 'bbox': (np.float32(1044.8837), np.float32(45.401215), np.float32(1070.6852), np.float32(72.58365)), 'team': 1}, {'frame': 144, 'label': 'person', 'confidence': np.float32(0.84484434), 'bbox': (np.float32(694.31934), np.float32(31.21213), np.float32(744.72986), np.float32(121.17456)), 'referee': True}, {'frame': 144, 'label': 'person', 'confidence': np.float32(0.78296494), 'bbox': (np.float32(383.06952), np.float32(169.49661), np.float32(448.3201), np.float32(289.69193)), 'referee': True}, {'frame': 144, 'label': 'person', 'confidence': np.float32(0.7797135), 'bbox': (np.float32(1020.05554), np.float32(170.76991), np.float32(1079.1354), np.float32(279.19876)), 'referee': True}, {'frame': 144, 'label': 'person', 'confidence': np.float32(0.77142143), 'bbox': (np.float32(934.3425), np.float32(93.779915), np.float32(994.3112), np.float32(180.37569)), 'referee': True}, {'frame': 144, 'label': 'person', 'confidence': np.float32(0.34326956), 'bbox': (np.float32(1028.4854), np.float32(477.7961), np.float32(1112.4614), np.float32(603.86096)), 'referee': True}, {'frame': 144, 'label': 'person', 'confidence': np.float32(0.3003847), 'bbox': (np.float32(712.4926), np.float32(631.5306), np.float32(750.2756), np.float32(685.073)), 'team': 1}, {'frame': 144, 'label': 'person', 'confidence': np.float32(0.26991394), 'bbox': (np.float32(33.170456), np.float32(458.38788), np.float32(88.13133), np.float32(531.3069)), 'team': 0}, {'frame': 145, 'label': 'person', 'confidence': np.float32(0.86791945), 'bbox': (np.float32(700.28674), np.float32(31.626501), np.float32(747.16425), np.float32(122.15952)), 'referee': True}, {'frame': 145, 'label': 'person', 'confidence': np.float32(0.803328), 'bbox': (np.float32(948.1134), np.float32(92.31902), np.float32(1003.935), np.float32(181.19495)), 'referee': True}, {'frame': 145, 'label': 'person', 'confidence': np.float32(0.76494765), 'bbox': (np.float32(1021.3308), np.float32(172.48651), np.float32(1076.4152), np.float32(276.07587)), 'referee': True}, {'frame': 145, 'label': 'person', 'confidence': np.float32(0.65140444), 'bbox': (np.float32(383.4645), np.float32(170.9242), np.float32(444.38443), np.float32(291.94962)), 'referee': True}, {'frame': 145, 'label': 'person', 'confidence': np.float32(0.47492722), 'bbox': (np.float32(1050.4794), np.float32(478.81876), np.float32(1140.6212), np.float32(612.76776)), 'referee': True}, {'frame': 145, 'label': 'person', 'confidence': np.float32(0.3227498), 'bbox': (np.float32(42.690475), np.float32(454.50894), np.float32(97.19943), np.float32(538.08057)), 'team': 0}, {'frame': 145, 'label': 'person', 'confidence': np.float32(0.27697182), 'bbox': (np.float32(0.0), np.float32(484.25238), np.float32(31.291094), np.float32(599.16595))}, {'frame': 146, 'label': 'person', 'confidence': np.float32(0.82572925), 'bbox': (np.float32(705.8904), np.float32(30.30088), np.float32(752.0098), np.float32(124.52607)), 'referee': True}, {'frame': 146, 'label': 'person', 'confidence': np.float32(0.7748223), 'bbox': (np.float32(960.6374), np.float32(92.55648), np.float32(1014.5824), np.float32(184.92632)), 'referee': True}, {'frame': 146, 'label': 'person', 'confidence': np.float32(0.7310029), 'bbox': (np.float32(1017.6018), np.float32(174.64874), np.float32(1069.5502), np.float32(273.89322)), 'referee': True}, {'frame': 146, 'label': 'person', 'confidence': np.float32(0.6993596), 'bbox': (np.float32(374.56647), np.float32(176.45226), np.float32(443.59805), np.float32(293.58032)), 'referee': True}, {'frame': 146, 'label': 'person', 'confidence': np.float32(0.30792513), 'bbox': (np.float32(51.21282), np.float32(457.47394), np.float32(105.9447), np.float32(537.46967)), 'team': 0}, {'frame': 146, 'label': 'person', 'confidence': np.float32(0.29460618), 'bbox': (np.float32(728.10114), np.float32(641.6412), np.float32(768.01935), np.float32(696.1147)), 'team': 1}, {'frame': 146, 'label': 'person', 'confidence': np.float32(0.2791466), 'bbox': (np.float32(1074.2789), np.float32(481.27908), np.float32(1163.4539), np.float32(606.6331)), 'referee': True}, {'frame': 147, 'label': 'person', 'confidence': np.float32(0.831303), 'bbox': (np.float32(710.4071), np.float32(35.013508), np.float32(754.76624), np.float32(125.05917)), 'referee': True}, {'frame': 147, 'label': 'person', 'confidence': np.float32(0.73441064), 'bbox': (np.float32(373.84625), np.float32(177.45093), np.float32(444.2393), np.float32(294.72748)), 'referee': True}, {'frame': 147, 'label': 'person', 'confidence': np.float32(0.69903904), 'bbox': (np.float32(968.6854), np.float32(91.89908), np.float32(1024.8958), np.float32(185.15889)), 'referee': True}, {'frame': 147, 'label': 'person', 'confidence': np.float32(0.62001026), 'bbox': (np.float32(1017.47046), np.float32(178.88814), np.float32(1067.8862), np.float32(269.50827)), 'referee': True}, {'frame': 147, 'label': 'person', 'confidence': np.float32(0.27513298), 'bbox': (np.float32(61.32495), np.float32(468.8019), np.float32(112.12196), np.float32(539.99304)), 'team': 0}, {'frame': 148, 'label': 'person', 'confidence': np.float32(0.8218058), 'bbox': (np.float32(715.7874), np.float32(38.58899), np.float32(761.6245), np.float32(128.12636)), 'referee': True}, {'frame': 148, 'label': 'person', 'confidence': np.float32(0.7784134), 'bbox': (np.float32(980.67816), np.float32(92.39134), np.float32(1037.9917), np.float32(186.69136)), 'referee': True}, {'frame': 148, 'label': 'person', 'confidence': np.float32(0.75922006), 'bbox': (np.float32(379.66064), np.float32(178.27611), np.float32(446.51038), np.float32(295.35083)), 'referee': True}, {'frame': 148, 'label': 'person', 'confidence': np.float32(0.5516125), 'bbox': (np.float32(1021.02997), np.float32(198.1708), np.float32(1077.7855), np.float32(281.2005)), 'referee': True}, {'frame': 148, 'label': 'person', 'confidence': np.float32(0.3437513), 'bbox': (np.float32(1117.9918), np.float32(484.22244), np.float32(1205.1671), np.float32(595.2268)), 'referee': True}, {'frame': 148, 'label': 'person', 'confidence': np.float32(0.30897614), 'bbox': (np.float32(425.186), np.float32(313.1806), np.float32(503.55762), np.float32(391.6714)), 'referee': True}, {'frame': 148, 'label': 'person', 'confidence': np.float32(0.27672163), 'bbox': (np.float32(71.718925), np.float32(473.11984), np.float32(124.888916), np.float32(545.01733)), 'team': 0}, {'frame': 148, 'label': 'person', 'confidence': np.float32(0.27050582), 'bbox': (np.float32(1013.86304), np.float32(180.59633), np.float32(1062.1403), np.float32(250.64647)), 'referee': True}, {'frame': 149, 'label': 'person', 'confidence': np.float32(0.8143782), 'bbox': (np.float32(719.8148), np.float32(37.48072), np.float32(765.7711), np.float32(131.77109)), 'referee': True}, {'frame': 149, 'label': 'person', 'confidence': np.float32(0.7945634), 'bbox': (np.float32(1013.15894), np.float32(182.87735), np.float32(1090.7596), np.float32(282.60333)), 'referee': True}, {'frame': 149, 'label': 'person', 'confidence': np.float32(0.7828581), 'bbox': (np.float32(995.7877), np.float32(94.664116), np.float32(1054.136), np.float32(192.16356)), 'referee': True}, {'frame': 149, 'label': 'person', 'confidence': np.float32(0.75241846), 'bbox': (np.float32(382.46695), np.float32(184.7959), np.float32(450.71426), np.float32(296.4858)), 'referee': True}, {'frame': 149, 'label': 'person', 'confidence': np.float32(0.33673888), 'bbox': (np.float32(76.81348), np.float32(474.17142), np.float32(130.84413), np.float32(549.01025)), 'team': 0}, {'frame': 149, 'label': 'person', 'confidence': np.float32(0.318833), 'bbox': (np.float32(416.5945), np.float32(521.9326), np.float32(479.17746), np.float32(615.2284))}, {'frame': 149, 'label': 'person', 'confidence': np.float32(0.30766907), 'bbox': (np.float32(431.86975), np.float32(315.64005), np.float32(502.84207), np.float32(391.3993)), 'referee': True}, {'frame': 149, 'label': 'person', 'confidence': np.float32(0.3042649), 'bbox': (np.float32(1136.4247), np.float32(486.22812), np.float32(1258.4675), np.float32(598.70636)), 'referee': True}, {'frame': 149, 'label': 'person', 'confidence': np.float32(0.28716412), 'bbox': (np.float32(758.1518), np.float32(657.0512), np.float32(804.7118), np.float32(716.01086)), 'team': 1}, {'frame': 149, 'label': 'person', 'confidence': np.float32(0.2602351), 'bbox': (np.float32(661.05383), np.float32(609.4616), np.float32(705.78406), np.float32(668.0929))}, {'frame': 149, 'label': 'person', 'confidence': np.float32(0.25720638), 'bbox': (np.float32(1042.3612), np.float32(46.4162), np.float32(1068.6405), np.float32(75.2113)), 'team': 1}, {'frame': 150, 'label': 'person', 'confidence': np.float32(0.8099155), 'bbox': (np.float32(726.80286), np.float32(40.733543), np.float32(770.39276), np.float32(134.66063)), 'referee': True}, {'frame': 150, 'label': 'person', 'confidence': np.float32(0.7226375), 'bbox': (np.float32(391.79553), np.float32(180.6376), np.float32(451.4691), np.float32(296.00595)), 'referee': True}, {'frame': 150, 'label': 'person', 'confidence': np.float32(0.5659893), 'bbox': (np.float32(1008.29126), np.float32(91.37768), np.float32(1093.6676), np.float32(284.91226)), 'referee': True}, {'frame': 150, 'label': 'person', 'confidence': np.float32(0.5424483), 'bbox': (np.float32(1011.08746), np.float32(86.23712), np.float32(1066.4895), np.float32(204.63153)), 'referee': True}, {'frame': 150, 'label': 'person', 'confidence': np.float32(0.473149), 'bbox': (np.float32(424.1442), np.float32(306.96066), np.float32(527.1136), np.float32(410.07166)), 'referee': True}, {'frame': 150, 'label': 'person', 'confidence': np.float32(0.4094299), 'bbox': (np.float32(776.7615), np.float32(664.04376), np.float32(816.071), np.float32(717.5096)), 'team': 1}, {'frame': 150, 'label': 'person', 'confidence': np.float32(0.34338015), 'bbox': (np.float32(297.35538), np.float32(329.72565), np.float32(367.7513), np.float32(450.58228))}, {'frame': 151, 'label': 'person', 'confidence': np.float32(0.8167773), 'bbox': (np.float32(732.0429), np.float32(41.426132), np.float32(775.0648), np.float32(137.30984)), 'referee': True}, {'frame': 151, 'label': 'person', 'confidence': np.float32(0.78098446), 'bbox': (np.float32(394.57028), np.float32(183.43431), np.float32(455.97507), np.float32(296.3682)), 'referee': True}, {'frame': 151, 'label': 'person', 'confidence': np.float32(0.75010306), 'bbox': (np.float32(1026.2333), np.float32(96.20379), np.float32(1075.7426), np.float32(195.84361)), 'referee': True}, {'frame': 151, 'label': 'person', 'confidence': np.float32(0.7448059), 'bbox': (np.float32(1009.03204), np.float32(183.98888), np.float32(1099.0895), np.float32(284.0902)), 'referee': True}, {'frame': 151, 'label': 'person', 'confidence': np.float32(0.50092494), 'bbox': (np.float32(310.3624), np.float32(329.57114), np.float32(374.68826), np.float32(458.4305)), 'referee': True}, {'frame': 151, 'label': 'person', 'confidence': np.float32(0.43620688), 'bbox': (np.float32(427.30978), np.float32(303.20993), np.float32(527.7945), np.float32(405.96484)), 'referee': True}, {'frame': 151, 'label': 'person', 'confidence': np.float32(0.30300847), 'bbox': (np.float32(1175.8265), np.float32(484.18286), np.float32(1267.8839), np.float32(609.2509)), 'referee': True}, {'frame': 151, 'label': 'person', 'confidence': np.float32(0.26876876), 'bbox': (np.float32(1199.7764), np.float32(32.492817), np.float32(1247.0591), np.float32(87.62278))}, {'frame': 152, 'label': 'person', 'confidence': np.float32(0.82767034), 'bbox': (np.float32(737.59247), np.float32(49.65548), np.float32(779.2638), np.float32(141.70024)), 'referee': True}, {'frame': 152, 'label': 'person', 'confidence': np.float32(0.82495636), 'bbox': (np.float32(396.9743), np.float32(184.97826), np.float32(459.95203), np.float32(300.0833)), 'referee': True}, {'frame': 152, 'label': 'person', 'confidence': np.float32(0.8114941), 'bbox': (np.float32(1009.0794), np.float32(191.9575), np.float32(1103.7366), np.float32(289.1187)), 'referee': True}, {'frame': 152, 'label': 'person', 'confidence': np.float32(0.76434654), 'bbox': (np.float32(1039.7028), np.float32(92.56729), np.float32(1089.7607), np.float32(195.20334)), 'referee': True}, {'frame': 152, 'label': 'person', 'confidence': np.float32(0.6878488), 'bbox': (np.float32(427.53293), np.float32(305.28348), np.float32(530.75), np.float32(406.07413)), 'referee': True}, {'frame': 152, 'label': 'person', 'confidence': np.float32(0.41856518), 'bbox': (np.float32(1213.6533), np.float32(33.64108), np.float32(1263.3875), np.float32(90.221176))}, {'frame': 152, 'label': 'person', 'confidence': np.float32(0.34718433), 'bbox': (np.float32(313.89352), np.float32(330.29587), np.float32(377.98874), np.float32(439.73547)), 'referee': True}, {'frame': 152, 'label': 'person', 'confidence': np.float32(0.3068507), 'bbox': (np.float32(1193.8304), np.float32(482.75156), np.float32(1267.4247), np.float32(588.6641)), 'referee': True}, {'frame': 153, 'label': 'person', 'confidence': np.float32(0.84949005), 'bbox': (np.float32(742.23016), np.float32(49.69712), np.float32(785.5012), np.float32(145.60762)), 'referee': True}, {'frame': 153, 'label': 'person', 'confidence': np.float32(0.81180835), 'bbox': (np.float32(1008.801), np.float32(194.99155), np.float32(1103.609), np.float32(291.73065)), 'referee': True}, {'frame': 153, 'label': 'person', 'confidence': np.float32(0.794875), 'bbox': (np.float32(1050.1123), np.float32(97.15812), np.float32(1102.3319), np.float32(198.12315)), 'referee': True}, {'frame': 153, 'label': 'person', 'confidence': np.float32(0.7859289), 'bbox': (np.float32(395.06287), np.float32(189.05414), np.float32(463.61008), np.float32(302.64282)), 'referee': True}, {'frame': 153, 'label': 'person', 'confidence': np.float32(0.7078193), 'bbox': (np.float32(432.46588), np.float32(304.36053), np.float32(532.0732), np.float32(409.89114)), 'referee': True}, {'frame': 153, 'label': 'person', 'confidence': np.float32(0.42757407), 'bbox': (np.float32(1212.1947), np.float32(488.4419), np.float32(1268.0), np.float32(588.3795)), 'referee': True}, {'frame': 153, 'label': 'person', 'confidence': np.float32(0.4154462), 'bbox': (np.float32(318.8312), np.float32(328.89938), np.float32(387.33765), np.float32(440.44492)), 'referee': True}, {'frame': 153, 'label': 'person', 'confidence': np.float32(0.4004837), 'bbox': (np.float32(808.6838), np.float32(682.91394), np.float32(868.8899), np.float32(719.45654)), 'team': 0}, {'frame': 153, 'label': 'person', 'confidence': np.float32(0.26150367), 'bbox': (np.float32(701.03046), np.float32(633.95874), np.float32(752.63184), np.float32(690.0074)), 'team': 1}, {'frame': 154, 'label': 'person', 'confidence': np.float32(0.8420495), 'bbox': (np.float32(744.576), np.float32(50.832436), np.float32(790.2964), np.float32(149.88799)), 'referee': True}, {'frame': 154, 'label': 'person', 'confidence': np.float32(0.8121811), 'bbox': (np.float32(1069.5029), np.float32(93.60338), np.float32(1115.3846), np.float32(201.39946)), 'referee': True}, {'frame': 154, 'label': 'person', 'confidence': np.float32(0.80935526), 'bbox': (np.float32(1005.91614), np.float32(197.08185), np.float32(1098.2527), np.float32(294.0843)), 'referee': True}, {'frame': 154, 'label': 'person', 'confidence': np.float32(0.7372351), 'bbox': (np.float32(435.98505), np.float32(303.3345), np.float32(528.5114), np.float32(410.66568)), 'referee': True}, {'frame': 154, 'label': 'person', 'confidence': np.float32(0.73412377), 'bbox': (np.float32(395.11255), np.float32(186.80777), np.float32(466.82654), np.float32(303.19333)), 'referee': True}, {'frame': 154, 'label': 'person', 'confidence': np.float32(0.5545795), 'bbox': (np.float32(326.40494), np.float32(328.11127), np.float32(388.4617), np.float32(444.93542))}, {'frame': 154, 'label': 'person', 'confidence': np.float32(0.28263062), 'bbox': (np.float32(0.0), np.float32(29.915445), np.float32(38.301643), np.float32(101.233505)), 'team': 1}, {'frame': 154, 'label': 'person', 'confidence': np.float32(0.2608827), 'bbox': (np.float32(822.79175), np.float32(690.01855), np.float32(854.803), np.float32(719.0959)), 'team': 0}, {'frame': 155, 'label': 'person', 'confidence': np.float32(0.8432336), 'bbox': (np.float32(748.642), np.float32(54.860596), np.float32(794.87537), np.float32(153.10864)), 'referee': True}, {'frame': 155, 'label': 'person', 'confidence': np.float32(0.82784796), 'bbox': (np.float32(390.5631), np.float32(188.40503), np.float32(470.58), np.float32(309.2714)), 'referee': True}, {'frame': 155, 'label': 'person', 'confidence': np.float32(0.7825075), 'bbox': (np.float32(1082.1953), np.float32(102.03125), np.float32(1128.2369), np.float32(204.38829)), 'referee': True}, {'frame': 155, 'label': 'person', 'confidence': np.float32(0.738349), 'bbox': (np.float32(999.5758), np.float32(197.85217), np.float32(1091.9016), np.float32(295.7752)), 'referee': True}, {'frame': 155, 'label': 'person', 'confidence': np.float32(0.73037535), 'bbox': (np.float32(441.6734), np.float32(304.5156), np.float32(532.17804), np.float32(409.64932)), 'referee': True}, {'frame': 155, 'label': 'person', 'confidence': np.float32(0.3723742), 'bbox': (np.float32(0.0), np.float32(8.849997), np.float32(51.212162), np.float32(103.65842)), 'team': 1}, {'frame': 155, 'label': 'person', 'confidence': np.float32(0.27614734), 'bbox': (np.float32(334.03854), np.float32(328.11026), np.float32(399.13034), np.float32(450.22495)), 'referee': True}, {'frame': 155, 'label': 'person', 'confidence': np.float32(0.2688173), 'bbox': (np.float32(145.06294), np.float32(503.388), np.float32(190.41258), np.float32(577.48834)), 'team': 0}, {'frame': 156, 'label': 'person', 'confidence': np.float32(0.8530008), 'bbox': (np.float32(391.1772), np.float32(188.1019), np.float32(474.71774), np.float32(312.6643)), 'referee': True}, {'frame': 156, 'label': 'person', 'confidence': np.float32(0.83854645), 'bbox': (np.float32(752.726), np.float32(58.009857), np.float32(800.23596), np.float32(157.21432)), 'referee': True}, {'frame': 156, 'label': 'person', 'confidence': np.float32(0.78931755), 'bbox': (np.float32(1097.6401), np.float32(105.06767), np.float32(1142.5919), np.float32(205.60457))}, {'frame': 156, 'label': 'person', 'confidence': np.float32(0.68809515), 'bbox': (np.float32(999.02734), np.float32(201.17574), np.float32(1072.1825), np.float32(298.18802)), 'referee': True}, {'frame': 156, 'label': 'person', 'confidence': np.float32(0.67533326), 'bbox': (np.float32(446.80353), np.float32(299.19), np.float32(531.17865), np.float32(416.586)), 'referee': True}, {'frame': 156, 'label': 'person', 'confidence': np.float32(0.34985727), 'bbox': (np.float32(340.06927), np.float32(325.69928), np.float32(408.80566), np.float32(453.24976)), 'referee': True}, {'frame': 156, 'label': 'person', 'confidence': np.float32(0.3408797), 'bbox': (np.float32(0.81409776), np.float32(23.769861), np.float32(56.66951), np.float32(110.66621)), 'team': 1}, {'frame': 156, 'label': 'person', 'confidence': np.float32(0.3013447), 'bbox': (np.float32(736.4997), np.float32(650.1425), np.float32(794.4712), np.float32(715.29144))}, {'frame': 156, 'label': 'motorcycle', 'confidence': np.float32(0.25704286), 'bbox': (np.float32(0.15322447), np.float32(38.002094), np.float32(57.581), np.float32(112.778725)), 'team': 0}, {'frame': 157, 'label': 'person', 'confidence': np.float32(0.8415874), 'bbox': (np.float32(760.68176), np.float32(60.96836), np.float32(804.76276), np.float32(158.74547)), 'referee': True}, {'frame': 157, 'label': 'person', 'confidence': np.float32(0.7967925), 'bbox': (np.float32(393.08875), np.float32(190.7362), np.float32(477.19907), np.float32(313.78458)), 'referee': True}, {'frame': 157, 'label': 'person', 'confidence': np.float32(0.73222554), 'bbox': (np.float32(1112.4418), np.float32(107.55516), np.float32(1156.7854), np.float32(208.19145))}, {'frame': 157, 'label': 'person', 'confidence': np.float32(0.6722064), 'bbox': (np.float32(1003.57544), np.float32(203.74048), np.float32(1067.133), np.float32(301.35236)), 'referee': True}, {'frame': 157, 'label': 'person', 'confidence': np.float32(0.62840945), 'bbox': (np.float32(451.09814), np.float32(296.55063), np.float32(527.6107), np.float32(413.97943)), 'referee': True}, {'frame': 157, 'label': 'person', 'confidence': np.float32(0.41407824), 'bbox': (np.float32(748.4364), np.float32(656.8534), np.float32(810.4372), np.float32(715.3262))}, {'frame': 158, 'label': 'person', 'confidence': np.float32(0.83664817), 'bbox': (np.float32(767.4146), np.float32(64.10437), np.float32(810.72003), np.float32(160.41463)), 'referee': True}, {'frame': 158, 'label': 'person', 'confidence': np.float32(0.7696604), 'bbox': (np.float32(1127.1903), np.float32(108.30903), np.float32(1171.5316), np.float32(208.52592)), 'referee': True}, {'frame': 158, 'label': 'person', 'confidence': np.float32(0.76486164), 'bbox': (np.float32(1007.3981), np.float32(205.86032), np.float32(1065.5228), np.float32(303.19565)), 'referee': True}, {'frame': 158, 'label': 'person', 'confidence': np.float32(0.7474534), 'bbox': (np.float32(399.77673), np.float32(193.79941), np.float32(484.5796), np.float32(310.38272)), 'referee': True}, {'frame': 158, 'label': 'person', 'confidence': np.float32(0.6723189), 'bbox': (np.float32(455.302), np.float32(302.4064), np.float32(531.0088), np.float32(418.4787)), 'referee': True}, {'frame': 158, 'label': 'person', 'confidence': np.float32(0.37274298), 'bbox': (np.float32(0.0), np.float32(408.5315), np.float32(43.024303), np.float32(493.49057))}, {'frame': 158, 'label': 'person', 'confidence': np.float32(0.31607446), 'bbox': (np.float32(10.975598), np.float32(44.356808), np.float32(81.71508), np.float32(117.98906)), 'team': 1}, {'frame': 158, 'label': 'person', 'confidence': np.float32(0.28708735), 'bbox': (np.float32(352.05118), np.float32(326.139), np.float32(440.28406), np.float32(457.76062)), 'referee': True}, {'frame': 158, 'label': 'person', 'confidence': np.float32(0.27562237), 'bbox': (np.float32(761.0796), np.float32(663.13635), np.float32(814.22516), np.float32(715.95))}, {'frame': 159, 'label': 'person', 'confidence': np.float32(0.83077466), 'bbox': (np.float32(771.95166), np.float32(63.413925), np.float32(815.5199), np.float32(162.27998)), 'referee': True}, {'frame': 159, 'label': 'person', 'confidence': np.float32(0.73424655), 'bbox': (np.float32(408.75247), np.float32(195.06667), np.float32(488.81232), np.float32(307.30362)), 'referee': True}, {'frame': 159, 'label': 'person', 'confidence': np.float32(0.7309929), 'bbox': (np.float32(1010.65826), np.float32(206.86148), np.float32(1067.1311), np.float32(305.92264)), 'referee': True}, {'frame': 159, 'label': 'person', 'confidence': np.float32(0.7276258), 'bbox': (np.float32(1141.473), np.float32(112.89913), np.float32(1184.2573), np.float32(211.0547)), 'referee': True}, {'frame': 159, 'label': 'person', 'confidence': np.float32(0.5166574), 'bbox': (np.float32(468.24194), np.float32(310.49405), np.float32(529.358), np.float32(406.22183)), 'referee': True}, {'frame': 159, 'label': 'person', 'confidence': np.float32(0.46741378), 'bbox': (np.float32(22.22492), np.float32(45.12157), np.float32(88.92221), np.float32(121.96031)), 'team': 1}, {'frame': 159, 'label': 'person', 'confidence': np.float32(0.3939683), 'bbox': (np.float32(769.2718), np.float32(666.918), np.float32(837.98456), np.float32(718.0081))}, {'frame': 159, 'label': 'person', 'confidence': np.float32(0.28215942), 'bbox': (np.float32(356.51825), np.float32(324.06122), np.float32(435.6515), np.float32(460.06406)), 'referee': True}, {'frame': 160, 'label': 'person', 'confidence': np.float32(0.82152903), 'bbox': (np.float32(779.7089), np.float32(61.92158), np.float32(819.64105), np.float32(164.63559)), 'referee': True}, {'frame': 160, 'label': 'person', 'confidence': np.float32(0.8070817), 'bbox': (np.float32(1154.3492), np.float32(111.741615), np.float32(1197.319), np.float32(211.80055)), 'referee': True}, {'frame': 160, 'label': 'person', 'confidence': np.float32(0.78034294), 'bbox': (np.float32(1011.6323), np.float32(205.4882), np.float32(1065.5116), np.float32(308.47766)), 'referee': True}, {'frame': 160, 'label': 'person', 'confidence': np.float32(0.7435061), 'bbox': (np.float32(421.97623), np.float32(195.46751), np.float32(492.9682), np.float32(308.42813)), 'referee': True}, {'frame': 160, 'label': 'person', 'confidence': np.float32(0.62212485), 'bbox': (np.float32(31.834026), np.float32(47.38269), np.float32(97.90965), np.float32(124.686844)), 'team': 1}, {'frame': 160, 'label': 'person', 'confidence': np.float32(0.50424707), 'bbox': (np.float32(463.28217), np.float32(306.53003), np.float32(536.8448), np.float32(407.67023)), 'referee': True}, {'frame': 160, 'label': 'person', 'confidence': np.float32(0.44709423), 'bbox': (np.float32(787.44196), np.float32(671.7212), np.float32(852.55164), np.float32(718.97626))}, {'frame': 160, 'label': 'person', 'confidence': np.float32(0.34738702), 'bbox': (np.float32(362.52637), np.float32(322.97153), np.float32(439.34195), np.float32(436.69925)), 'referee': True}, {'frame': 160, 'label': 'person', 'confidence': np.float32(0.2872968), 'bbox': (np.float32(11.6175585), np.float32(416.82324), np.float32(62.136246), np.float32(498.63965))}, {'frame': 160, 'label': 'person', 'confidence': np.float32(0.25429198), 'bbox': (np.float32(187.02586), np.float32(526.4268), np.float32(237.86217), np.float32(599.7998)), 'team': 0}, {'frame': 161, 'label': 'person', 'confidence': np.float32(0.8328489), 'bbox': (np.float32(786.1896), np.float32(63.789173), np.float32(826.0308), np.float32(166.7651)), 'referee': True}, {'frame': 161, 'label': 'person', 'confidence': np.float32(0.7980857), 'bbox': (np.float32(429.8066), np.float32(197.88771), np.float32(497.10373), np.float32(309.22766)), 'referee': True}, {'frame': 161, 'label': 'person', 'confidence': np.float32(0.7764201), 'bbox': (np.float32(1008.61566), np.float32(204.56508), np.float32(1065.6545), np.float32(312.775)), 'referee': True}, {'frame': 161, 'label': 'person', 'confidence': np.float32(0.7631371), 'bbox': (np.float32(1166.6255), np.float32(116.62241), np.float32(1211.5833), np.float32(212.73972)), 'referee': True}, {'frame': 161, 'label': 'person', 'confidence': np.float32(0.6692373), 'bbox': (np.float32(463.6971), np.float32(306.04468), np.float32(539.96246), np.float32(406.45328)), 'referee': True}, {'frame': 161, 'label': 'person', 'confidence': np.float32(0.5905115), 'bbox': (np.float32(40.137882), np.float32(48.815887), np.float32(111.38481), np.float32(128.24344)), 'team': 1}, {'frame': 161, 'label': 'person', 'confidence': np.float32(0.43307567), 'bbox': (np.float32(798.02783), np.float32(675.85455), np.float32(861.6443), np.float32(717.9449))}, {'frame': 161, 'label': 'person', 'confidence': np.float32(0.26182294), 'bbox': (np.float32(196.3336), np.float32(524.50714), np.float32(247.79843), np.float32(601.99475)), 'team': 0}, {'frame': 162, 'label': 'person', 'confidence': np.float32(0.8351189), 'bbox': (np.float32(790.2826), np.float32(62.77709), np.float32(830.9561), np.float32(168.50273)), 'referee': True}, {'frame': 162, 'label': 'person', 'confidence': np.float32(0.80443156), 'bbox': (np.float32(1007.15576), np.float32(204.01239), np.float32(1068.9639), np.float32(311.59396)), 'referee': True}, {'frame': 162, 'label': 'person', 'confidence': np.float32(0.80123156), 'bbox': (np.float32(1178.4915), np.float32(116.14355), np.float32(1226.3031), np.float32(213.4064)), 'referee': True}, {'frame': 162, 'label': 'person', 'confidence': np.float32(0.7463289), 'bbox': (np.float32(441.28918), np.float32(199.30214), np.float32(501.55994), np.float32(308.21533)), 'referee': True}, {'frame': 162, 'label': 'person', 'confidence': np.float32(0.7107569), 'bbox': (np.float32(469.1613), np.float32(304.43768), np.float32(547.1339), np.float32(405.16687)), 'referee': True}, {'frame': 162, 'label': 'person', 'confidence': np.float32(0.590057), 'bbox': (np.float32(52.9451), np.float32(52.056053), np.float32(121.415344), np.float32(130.61928)), 'team': 1}, {'frame': 162, 'label': 'person', 'confidence': np.float32(0.4562716), 'bbox': (np.float32(373.81128), np.float32(316.4314), np.float32(452.06085), np.float32(439.68875)), 'referee': True}, {'frame': 162, 'label': 'person', 'confidence': np.float32(0.3809944), 'bbox': (np.float32(810.83), np.float32(682.2445), np.float32(845.8402), np.float32(716.8879))}, {'frame': 162, 'label': 'person', 'confidence': np.float32(0.3187887), 'bbox': (np.float32(32.629673), np.float32(419.94522), np.float32(82.010506), np.float32(505.0997))}, {'frame': 163, 'label': 'person', 'confidence': np.float32(0.82081443), 'bbox': (np.float32(795.19885), np.float32(62.54083), np.float32(834.7112), np.float32(170.74777)), 'referee': True}, {'frame': 163, 'label': 'person', 'confidence': np.float32(0.7928408), 'bbox': (np.float32(1008.5694), np.float32(203.04613), np.float32(1070.0109), np.float32(309.43982)), 'referee': True}, {'frame': 163, 'label': 'person', 'confidence': np.float32(0.7550419), 'bbox': (np.float32(439.46957), np.float32(199.62218), np.float32(506.55267), np.float32(314.3038)), 'referee': True}, {'frame': 163, 'label': 'person', 'confidence': np.float32(0.7148131), 'bbox': (np.float32(1190.9312), np.float32(119.46163), np.float32(1238.9025), np.float32(216.23712))}, {'frame': 163, 'label': 'person', 'confidence': np.float32(0.6694355), 'bbox': (np.float32(475.99017), np.float32(306.55597), np.float32(550.7967), np.float32(399.99103)), 'referee': True}, {'frame': 163, 'label': 'person', 'confidence': np.float32(0.5497431), 'bbox': (np.float32(375.865), np.float32(313.5725), np.float32(456.94345), np.float32(436.52805)), 'referee': True}, {'frame': 163, 'label': 'person', 'confidence': np.float32(0.32127646), 'bbox': (np.float32(325.288), np.float32(562.2713), np.float32(411.06927), np.float32(652.5342))}, {'frame': 163, 'label': 'person', 'confidence': np.float32(0.30119613), 'bbox': (np.float32(60.909565), np.float32(57.007484), np.float32(130.49411), np.float32(131.55244)), 'team': 1}, {'frame': 163, 'label': 'person', 'confidence': np.float32(0.29879668), 'bbox': (np.float32(216.65416), np.float32(536.7426), np.float32(266.12488), np.float32(607.0804)), 'team': 0}, {'frame': 163, 'label': 'person', 'confidence': np.float32(0.29036286), 'bbox': (np.float32(824.3023), np.float32(688.5284), np.float32(851.7891), np.float32(717.4392))}, {'frame': 163, 'label': 'person', 'confidence': np.float32(0.2566489), 'bbox': (np.float32(38.858257), np.float32(424.8573), np.float32(92.08097), np.float32(509.589))}, {'frame': 164, 'label': 'person', 'confidence': np.float32(0.8341743), 'bbox': (np.float32(800.8549), np.float32(67.857124), np.float32(838.10474), np.float32(170.51492)), 'referee': True}, {'frame': 164, 'label': 'person', 'confidence': np.float32(0.7503653), 'bbox': (np.float32(1002.2952), np.float32(201.2744), np.float32(1070.1514), np.float32(307.32938)), 'referee': True}, {'frame': 164, 'label': 'person', 'confidence': np.float32(0.716191), 'bbox': (np.float32(478.31604), np.float32(303.46582), np.float32(557.2613), np.float32(397.8663)), 'referee': True}, {'frame': 164, 'label': 'person', 'confidence': np.float32(0.7066531), 'bbox': (np.float32(1198.7434), np.float32(120.56158), np.float32(1249.3937), np.float32(216.41347)), 'referee': True}, {'frame': 164, 'label': 'person', 'confidence': np.float32(0.68987596), 'bbox': (np.float32(442.07925), np.float32(203.2002), np.float32(511.55246), np.float32(313.43088)), 'referee': True}, {'frame': 164, 'label': 'person', 'confidence': np.float32(0.49468678), 'bbox': (np.float32(381.7486), np.float32(314.16794), np.float32(458.61707), np.float32(436.9832)), 'referee': True}, {'frame': 164, 'label': 'person', 'confidence': np.float32(0.28951675), 'bbox': (np.float32(44.328293), np.float32(425.83395), np.float32(98.15564), np.float32(513.24414))}, {'frame': 164, 'label': 'person', 'confidence': np.float32(0.26782224), 'bbox': (np.float32(221.2821), np.float32(540.5186), np.float32(272.58746), np.float32(613.31665)), 'team': 0}, {'frame': 165, 'label': 'person', 'confidence': np.float32(0.8356428), 'bbox': (np.float32(803.1477), np.float32(66.48744), np.float32(843.29193), np.float32(170.36818)), 'team': 0, 'referee': True}, {'frame': 165, 'label': 'person', 'confidence': np.float32(0.8211534), 'bbox': (np.float32(442.80533), np.float32(202.33041), np.float32(518.7091), np.float32(316.31082)), 'referee': True}, {'frame': 165, 'label': 'person', 'confidence': np.float32(0.7544996), 'bbox': (np.float32(1006.1774), np.float32(200.2139), np.float32(1068.4766), np.float32(307.04965)), 'referee': True}, {'frame': 165, 'label': 'person', 'confidence': np.float32(0.6804632), 'bbox': (np.float32(480.12485), np.float32(303.92188), np.float32(566.0435), np.float32(400.425)), 'referee': True}, {'frame': 165, 'label': 'person', 'confidence': np.float32(0.5040124), 'bbox': (np.float32(388.79364), np.float32(314.7513), np.float32(467.23663), np.float32(439.71005)), 'referee': True}, {'frame': 165, 'label': 'person', 'confidence': np.float32(0.49178532), 'bbox': (np.float32(1213.1399), np.float32(127.80147), np.float32(1264.6898), np.float32(216.65408))}, {'frame': 165, 'label': 'person', 'confidence': np.float32(0.36985147), 'bbox': (np.float32(77.50999), np.float32(60.710995), np.float32(147.72427), np.float32(136.43631)), 'team': 1}, {'frame': 165, 'label': 'person', 'confidence': np.float32(0.3149118), 'bbox': (np.float32(50.42266), np.float32(427.5044), np.float32(107.08655), np.float32(520.1659))}, {'frame': 166, 'label': 'person', 'confidence': np.float32(0.85927105), 'bbox': (np.float32(806.4835), np.float32(67.91048), np.float32(847.5526), np.float32(173.39206)), 'team': 0, 'referee': True}, {'frame': 166, 'label': 'person', 'confidence': np.float32(0.84423274), 'bbox': (np.float32(445.12115), np.float32(203.29103), np.float32(524.355), np.float32(319.799)), 'referee': True}, {'frame': 166, 'label': 'person', 'confidence': np.float32(0.7605559), 'bbox': (np.float32(1006.7269), np.float32(198.7799), np.float32(1069.0457), np.float32(309.32428)), 'referee': True}, {'frame': 166, 'label': 'person', 'confidence': np.float32(0.6449768), 'bbox': (np.float32(394.82587), np.float32(316.96182), np.float32(469.7702), np.float32(450.8761)), 'referee': True}, {'frame': 166, 'label': 'person', 'confidence': np.float32(0.59307474), 'bbox': (np.float32(1223.3926), np.float32(119.3479), np.float32(1267.8998), np.float32(217.47096)), 'team': 1}, {'frame': 166, 'label': 'person', 'confidence': np.float32(0.4345795), 'bbox': (np.float32(86.76646), np.float32(62.96661), np.float32(158.78224), np.float32(137.36728)), 'team': 1}, {'frame': 166, 'label': 'person', 'confidence': np.float32(0.4323206), 'bbox': (np.float32(485.93195), np.float32(303.4932), np.float32(572.68964), np.float32(399.8459)), 'referee': True}, {'frame': 166, 'label': 'person', 'confidence': np.float32(0.25844678), 'bbox': (np.float32(60.914825), np.float32(432.28586), np.float32(116.64991), np.float32(522.25195))}, {'frame': 167, 'label': 'person', 'confidence': np.float32(0.83512443), 'bbox': (np.float32(810.3914), np.float32(68.9666), np.float32(852.8937), np.float32(174.57141)), 'team': 0, 'referee': True}, {'frame': 167, 'label': 'person', 'confidence': np.float32(0.8290741), 'bbox': (np.float32(449.2156), np.float32(205.44252), np.float32(527.8086), np.float32(320.28345)), 'referee': True}, {'frame': 167, 'label': 'person', 'confidence': np.float32(0.7534949), 'bbox': (np.float32(1008.30804), np.float32(197.39743), np.float32(1070.1685), np.float32(309.09076)), 'referee': True}, {'frame': 167, 'label': 'person', 'confidence': np.float32(0.6484399), 'bbox': (np.float32(399.5567), np.float32(321.6238), np.float32(472.18567), np.float32(435.90472)), 'referee': True}, {'frame': 167, 'label': 'person', 'confidence': np.float32(0.36731791), 'bbox': (np.float32(489.43182), np.float32(300.77286), np.float32(578.44476), np.float32(398.2949)), 'referee': True}, {'frame': 167, 'label': 'person', 'confidence': np.float32(0.34924683), 'bbox': (np.float32(1233.4836), np.float32(131.87523), np.float32(1268.0), np.float32(220.5882))}, {'frame': 167, 'label': 'person', 'confidence': np.float32(0.3276063), 'bbox': (np.float32(94.99161), np.float32(65.02785), np.float32(166.45065), np.float32(140.44852)), 'team': 1}, {'frame': 168, 'label': 'person', 'confidence': np.float32(0.8427409), 'bbox': (np.float32(815.276), np.float32(68.168564), np.float32(857.4017), np.float32(175.91699)), 'team': 0, 'referee': True}, {'frame': 168, 'label': 'person', 'confidence': np.float32(0.80351263), 'bbox': (np.float32(1009.07025), np.float32(197.22855), np.float32(1073.0023), np.float32(307.90884)), 'referee': True}, {'frame': 168, 'label': 'person', 'confidence': np.float32(0.7799349), 'bbox': (np.float32(454.52838), np.float32(206.01874), np.float32(534.8725), np.float32(324.40558)), 'referee': True}, {'frame': 168, 'label': 'person', 'confidence': np.float32(0.6225453), 'bbox': (np.float32(401.13153), np.float32(323.59802), np.float32(473.32352), np.float32(434.45282)), 'referee': True}, {'frame': 168, 'label': 'person', 'confidence': np.float32(0.47902882), 'bbox': (np.float32(491.36993), np.float32(295.25366), np.float32(574.04974), np.float32(397.53275)), 'referee': True}, {'frame': 168, 'label': 'person', 'confidence': np.float32(0.36175135), 'bbox': (np.float32(100.94877), np.float32(67.17711), np.float32(176.38997), np.float32(142.68192)), 'team': 1}, {'frame': 168, 'label': 'person', 'confidence': np.float32(0.28800192), 'bbox': (np.float32(467.5312), np.float32(227.83163), np.float32(564.93304), np.float32(369.73627)), 'referee': True}, {'frame': 168, 'label': 'person', 'confidence': np.float32(0.26052353), 'bbox': (np.float32(0.0), np.float32(333.75443), np.float32(50.02203), np.float32(406.93723))}, {'frame': 169, 'label': 'person', 'confidence': np.float32(0.8346214), 'bbox': (np.float32(822.28925), np.float32(68.17274), np.float32(861.63635), np.float32(177.63199)), 'team': 0, 'referee': True}, {'frame': 169, 'label': 'person', 'confidence': np.float32(0.82431746), 'bbox': (np.float32(1006.33954), np.float32(197.36713), np.float32(1073.7019), np.float32(310.48154)), 'referee': True}, {'frame': 169, 'label': 'person', 'confidence': np.float32(0.76065403), 'bbox': (np.float32(458.0529), np.float32(208.65208), np.float32(541.54694), np.float32(326.11426)), 'referee': True}, {'frame': 169, 'label': 'person', 'confidence': np.float32(0.720693), 'bbox': (np.float32(403.20648), np.float32(324.94266), np.float32(478.53687), np.float32(447.25333)), 'referee': True}, {'frame': 169, 'label': 'person', 'confidence': np.float32(0.5320021), 'bbox': (np.float32(108.74143), np.float32(70.88645), np.float32(184.1569), np.float32(147.88896)), 'team': 1}, {'frame': 169, 'label': 'person', 'confidence': np.float32(0.30970043), 'bbox': (np.float32(483.78854), np.float32(296.6356), np.float32(571.1539), np.float32(397.65768)), 'referee': True}, {'frame': 169, 'label': 'person', 'confidence': np.float32(0.2707619), 'bbox': (np.float32(0.22808138), np.float32(339.04868), np.float32(57.066334), np.float32(413.5533))}, {'frame': 170, 'label': 'person', 'confidence': np.float32(0.8566797), 'bbox': (np.float32(825.2564), np.float32(66.924934), np.float32(867.41), np.float32(181.64493)), 'team': 0, 'referee': True}, {'frame': 170, 'label': 'person', 'confidence': np.float32(0.8136946), 'bbox': (np.float32(1009.27924), np.float32(197.47232), np.float32(1074.5029), np.float32(311.69968)), 'referee': True}, {'frame': 170, 'label': 'person', 'confidence': np.float32(0.6958625), 'bbox': (np.float32(468.39697), np.float32(211.61938), np.float32(546.1371), np.float32(321.2841)), 'referee': True}, {'frame': 170, 'label': 'person', 'confidence': np.float32(0.6090351), 'bbox': (np.float32(400.87308), np.float32(326.55588), np.float32(493.6807), np.float32(452.31235)), 'referee': True}, {'frame': 170, 'label': 'person', 'confidence': np.float32(0.3814734), 'bbox': (np.float32(116.71324), np.float32(73.57543), np.float32(190.69148), np.float32(149.58046)), 'team': 1}, {'frame': 170, 'label': 'person', 'confidence': np.float32(0.36841413), 'bbox': (np.float32(476.45444), np.float32(291.05466), np.float32(561.16016), np.float32(395.99774)), 'referee': True}, {'frame': 170, 'label': 'person', 'confidence': np.float32(0.29175144), 'bbox': (np.float32(94.18501), np.float32(448.22446), np.float32(149.14627), np.float32(534.57886))}, {'frame': 171, 'label': 'person', 'confidence': np.float32(0.84965247), 'bbox': (np.float32(831.8558), np.float32(72.41231), np.float32(874.03296), np.float32(182.27643)), 'team': 0, 'referee': True}, {'frame': 171, 'label': 'person', 'confidence': np.float32(0.8033205), 'bbox': (np.float32(1011.8309), np.float32(199.78413), np.float32(1074.5643), np.float32(311.61667)), 'referee': True}, {'frame': 171, 'label': 'person', 'confidence': np.float32(0.7425916), 'bbox': (np.float32(480.82773), np.float32(212.78929), np.float32(550.25226), np.float32(320.06726)), 'referee': True}, {'frame': 171, 'label': 'person', 'confidence': np.float32(0.64579505), 'bbox': (np.float32(400.02158), np.float32(328.4851), np.float32(514.0339), np.float32(450.7541)), 'referee': True}, {'frame': 171, 'label': 'person', 'confidence': np.float32(0.4346774), 'bbox': (np.float32(124.48756), np.float32(74.966385), np.float32(200.0987), np.float32(153.16829)), 'team': 1}, {'frame': 171, 'label': 'person', 'confidence': np.float32(0.2687559), 'bbox': (np.float32(8.397424), np.float32(347.85428), np.float32(70.69389), np.float32(415.32895))}, {'frame': 172, 'label': 'person', 'confidence': np.float32(0.88959557), 'bbox': (np.float32(834.4697), np.float32(76.14995), np.float32(879.3595), np.float32(184.54868)), 'team': 0, 'referee': True}, {'frame': 172, 'label': 'person', 'confidence': np.float32(0.81552196), 'bbox': (np.float32(1013.61774), np.float32(201.66298), np.float32(1076.4476), np.float32(313.27246)), 'referee': True}, {'frame': 172, 'label': 'person', 'confidence': np.float32(0.75865966), 'bbox': (np.float32(399.48486), np.float32(331.963), np.float32(518.7593), np.float32(454.96625)), 'referee': True}, {'frame': 172, 'label': 'person', 'confidence': np.float32(0.7569387), 'bbox': (np.float32(495.5277), np.float32(214.0501), np.float32(558.1683), np.float32(311.84708)), 'referee': True}, {'frame': 172, 'label': 'person', 'confidence': np.float32(0.53433555), 'bbox': (np.float32(132.25029), np.float32(76.86155), np.float32(208.66476), np.float32(156.2008)), 'team': 1}, {'frame': 172, 'label': 'person', 'confidence': np.float32(0.29920036), 'bbox': (np.float32(104.55632), np.float32(451.06088), np.float32(162.95247), np.float32(549.36523))}, {'frame': 172, 'label': 'person', 'confidence': np.float32(0.29301387), 'bbox': (np.float32(503.5819), np.float32(593.0366), np.float32(554.41156), np.float32(686.02783))}, {'frame': 172, 'label': 'person', 'confidence': np.float32(0.28168553), 'bbox': (np.float32(16.320387), np.float32(351.2014), np.float32(81.34297), np.float32(419.6295))}, {'frame': 173, 'label': 'person', 'confidence': np.float32(0.8966167), 'bbox': (np.float32(837.7617), np.float32(76.28318), np.float32(883.69696), np.float32(185.69095)), 'team': 0, 'referee': True}, {'frame': 173, 'label': 'person', 'confidence': np.float32(0.81399965), 'bbox': (np.float32(1016.41785), np.float32(202.4784), np.float32(1077.8412), np.float32(315.00232)), 'referee': True}, {'frame': 173, 'label': 'person', 'confidence': np.float32(0.7949147), 'bbox': (np.float32(501.643), np.float32(216.95297), np.float32(563.263), np.float32(312.14822)), 'referee': True}, {'frame': 173, 'label': 'person', 'confidence': np.float32(0.73989004), 'bbox': (np.float32(399.25897), np.float32(332.51703), np.float32(497.01407), np.float32(449.70306)), 'referee': True}, {'frame': 173, 'label': 'person', 'confidence': np.float32(0.57104343), 'bbox': (np.float32(140.58357), np.float32(77.46783), np.float32(217.57825), np.float32(159.71957)), 'team': 1}, {'frame': 173, 'label': 'person', 'confidence': np.float32(0.3265129), 'bbox': (np.float32(26.471945), np.float32(354.47867), np.float32(88.39748), np.float32(423.99905))}, {'frame': 173, 'label': 'person', 'confidence': np.float32(0.25303656), 'bbox': (np.float32(653.42694), np.float32(634.86346), np.float32(719.0839), np.float32(718.3904))}, {'frame': 174, 'label': 'person', 'confidence': np.float32(0.88442236), 'bbox': (np.float32(841.55835), np.float32(77.58995), np.float32(889.61444), np.float32(188.74867)), 'referee': True}, {'frame': 174, 'label': 'person', 'confidence': np.float32(0.84697664), 'bbox': (np.float32(1019.95355), np.float32(202.8496), np.float32(1080.2516), np.float32(315.99133)), 'referee': True}, {'frame': 174, 'label': 'person', 'confidence': np.float32(0.76671505), 'bbox': (np.float32(503.4273), np.float32(217.70438), np.float32(567.8997), np.float32(316.67953)), 'referee': True}, {'frame': 174, 'label': 'person', 'confidence': np.float32(0.7319947), 'bbox': (np.float32(403.28397), np.float32(333.5675), np.float32(499.17618), np.float32(456.0749)), 'referee': True}, {'frame': 174, 'label': 'person', 'confidence': np.float32(0.50543064), 'bbox': (np.float32(145.0806), np.float32(81.20992), np.float32(223.98972), np.float32(162.59251)), 'team': 1}, {'frame': 174, 'label': 'person', 'confidence': np.float32(0.4402757), 'bbox': (np.float32(484.65338), np.float32(298.13022), np.float32(541.82074), np.float32(398.18274)), 'referee': True}, {'frame': 174, 'label': 'person', 'confidence': np.float32(0.28693655), 'bbox': (np.float32(36.132874), np.float32(357.99783), np.float32(100.10259), np.float32(433.27148))}, {'frame': 174, 'label': 'person', 'confidence': np.float32(0.2523567), 'bbox': (np.float32(126.38222), np.float32(460.76178), np.float32(180.94754), np.float32(557.14624))}, {'frame': 175, 'label': 'person', 'confidence': np.float32(0.875995), 'bbox': (np.float32(844.86993), np.float32(79.64594), np.float32(896.23755), np.float32(189.731)), 'referee': True}, {'frame': 175, 'label': 'person', 'confidence': np.float32(0.86243546), 'bbox': (np.float32(1019.5863), np.float32(202.74225), np.float32(1081.7101), np.float32(318.01743)), 'referee': True}, {'frame': 175, 'label': 'person', 'confidence': np.float32(0.76228625), 'bbox': (np.float32(405.97064), np.float32(334.07355), np.float32(499.06305), np.float32(456.93936)), 'referee': True}, {'frame': 175, 'label': 'person', 'confidence': np.float32(0.7389286), 'bbox': (np.float32(505.8572), np.float32(219.79819), np.float32(574.33234), np.float32(317.32053)), 'referee': True}, {'frame': 175, 'label': 'person', 'confidence': np.float32(0.393211), 'bbox': (np.float32(154.50185), np.float32(88.95001), np.float32(234.49742), np.float32(165.25659)), 'team': 1}, {'frame': 175, 'label': 'person', 'confidence': np.float32(0.39177456), 'bbox': (np.float32(480.84845), np.float32(292.13348), np.float32(538.7244), np.float32(402.84073)), 'referee': True}, {'frame': 176, 'label': 'person', 'confidence': np.float32(0.8657916), 'bbox': (np.float32(853.8692), np.float32(80.28201), np.float32(899.5837), np.float32(191.20708)), 'referee': True}, {'frame': 176, 'label': 'person', 'confidence': np.float32(0.8431099), 'bbox': (np.float32(1021.32306), np.float32(202.16895), np.float32(1084.0302), np.float32(318.8333)), 'referee': True}, {'frame': 176, 'label': 'person', 'confidence': np.float32(0.7650866), 'bbox': (np.float32(408.59235), np.float32(336.0588), np.float32(491.99738), np.float32(457.18137)), 'referee': True}, {'frame': 176, 'label': 'person', 'confidence': np.float32(0.755291), 'bbox': (np.float32(506.3084), np.float32(220.71094), np.float32(576.766), np.float32(316.50803)), 'referee': True}, {'frame': 176, 'label': 'person', 'confidence': np.float32(0.6616822), 'bbox': (np.float32(159.3275), np.float32(89.324974), np.float32(245.75458), np.float32(168.48126)), 'team': 1, 'referee': True}, {'frame': 176, 'label': 'person', 'confidence': np.float32(0.60197824), 'bbox': (np.float32(479.28317), np.float32(291.2624), np.float32(537.16693), np.float32(402.57034)), 'referee': True}, {'frame': 176, 'label': 'person', 'confidence': np.float32(0.33253026), 'bbox': (np.float32(674.4937), np.float32(651.83795), np.float32(741.68896), np.float32(718.56))}, {'frame': 176, 'label': 'person', 'confidence': np.float32(0.32013687), 'bbox': (np.float32(51.552338), np.float32(363.24652), np.float32(115.20864), np.float32(437.9338))}, {'frame': 177, 'label': 'person', 'confidence': np.float32(0.8659669), 'bbox': (np.float32(860.7298), np.float32(85.46548), np.float32(905.48816), np.float32(194.70244)), 'referee': True}, {'frame': 177, 'label': 'person', 'confidence': np.float32(0.8575921), 'bbox': (np.float32(1022.14655), np.float32(200.19461), np.float32(1084.7755), np.float32(320.80475)), 'referee': True}, {'frame': 177, 'label': 'person', 'confidence': np.float32(0.77880955), 'bbox': (np.float32(505.03342), np.float32(222.21715), np.float32(580.3832), np.float32(317.9395)), 'referee': True}, {'frame': 177, 'label': 'person', 'confidence': np.float32(0.73917246), 'bbox': (np.float32(413.2855), np.float32(336.98505), np.float32(487.83267), np.float32(454.96048)), 'referee': True}, {'frame': 177, 'label': 'person', 'confidence': np.float32(0.6449641), 'bbox': (np.float32(166.35075), np.float32(87.97213), np.float32(251.54736), np.float32(170.90219)), 'team': 1}, {'frame': 177, 'label': 'person', 'confidence': np.float32(0.6224894), 'bbox': (np.float32(475.03198), np.float32(291.9776), np.float32(536.5492), np.float32(403.01505)), 'referee': True}, {'frame': 177, 'label': 'person', 'confidence': np.float32(0.27560765), 'bbox': (np.float32(58.500336), np.float32(367.06503), np.float32(121.69354), np.float32(443.3645))}, {'frame': 178, 'label': 'person', 'confidence': np.float32(0.8656157), 'bbox': (np.float32(1023.46094), np.float32(200.95993), np.float32(1088.307), np.float32(319.59308)), 'referee': True}, {'frame': 178, 'label': 'person', 'confidence': np.float32(0.8454288), 'bbox': (np.float32(864.1435), np.float32(88.09188), np.float32(912.93866), np.float32(193.59856)), 'referee': True}, {'frame': 178, 'label': 'person', 'confidence': np.float32(0.78393924), 'bbox': (np.float32(503.90363), np.float32(223.64789), np.float32(581.11206), np.float32(317.76508)), 'referee': True}, {'frame': 178, 'label': 'person', 'confidence': np.float32(0.73273563), 'bbox': (np.float32(417.3027), np.float32(337.84067), np.float32(485.96704), np.float32(455.1646)), 'referee': True}, {'frame': 178, 'label': 'person', 'confidence': np.float32(0.6224765), 'bbox': (np.float32(472.33575), np.float32(294.07816), np.float32(537.94244), np.float32(400.74176)), 'referee': True}, {'frame': 178, 'label': 'person', 'confidence': np.float32(0.4571505), 'bbox': (np.float32(175.4623), np.float32(96.533295), np.float32(255.92699), np.float32(171.6051)), 'team': 1}, {'frame': 178, 'label': 'person', 'confidence': np.float32(0.3285273), 'bbox': (np.float32(485.34366), np.float32(217.37982), np.float32(563.96576), np.float32(358.3505)), 'referee': True}, {'frame': 179, 'label': 'person', 'confidence': np.float32(0.87433726), 'bbox': (np.float32(870.0045), np.float32(89.608986), np.float32(918.6249), np.float32(195.75322)), 'referee': True}, {'frame': 179, 'label': 'person', 'confidence': np.float32(0.8563242), 'bbox': (np.float32(1026.0153), np.float32(199.84805), np.float32(1092.792), np.float32(317.25018)), 'referee': True}, {'frame': 179, 'label': 'person', 'confidence': np.float32(0.77882063), 'bbox': (np.float32(502.80426), np.float32(223.29103), np.float32(580.0626), np.float32(318.6017)), 'referee': True}, {'frame': 179, 'label': 'person', 'confidence': np.float32(0.60095567), 'bbox': (np.float32(469.025), np.float32(295.2307), np.float32(536.0309), np.float32(398.4677)), 'referee': True}, {'frame': 179, 'label': 'person', 'confidence': np.float32(0.59885275), 'bbox': (np.float32(420.71484), np.float32(336.36417), np.float32(486.56348), np.float32(454.6621)), 'referee': True}, {'frame': 179, 'label': 'person', 'confidence': np.float32(0.51912063), 'bbox': (np.float32(183.81981), np.float32(93.661865), np.float32(262.29422), np.float32(175.06027)), 'team': 1}, {'frame': 179, 'label': 'person', 'confidence': np.float32(0.36180672), 'bbox': (np.float32(718.0829), np.float32(664.822), np.float32(795.8586), np.float32(718.2397))}, {'frame': 180, 'label': 'person', 'confidence': np.float32(0.8608781), 'bbox': (np.float32(873.0421), np.float32(90.129135), np.float32(924.0198), np.float32(198.84473)), 'referee': True}, {'frame': 180, 'label': 'person', 'confidence': np.float32(0.85905266), 'bbox': (np.float32(1029.4613), np.float32(197.26805), np.float32(1096.8678), np.float32(317.5421)), 'referee': True}, {'frame': 180, 'label': 'person', 'confidence': np.float32(0.80445546), 'bbox': (np.float32(503.0868), np.float32(223.63242), np.float32(581.3531), np.float32(319.42255)), 'referee': True}, {'frame': 180, 'label': 'person', 'confidence': np.float32(0.6922517), 'bbox': (np.float32(415.63452), np.float32(333.98892), np.float32(490.567), np.float32(458.42297)), 'referee': True}, {'frame': 180, 'label': 'person', 'confidence': np.float32(0.50051576), 'bbox': (np.float32(731.4981), np.float32(669.755), np.float32(796.20447), np.float32(718.5073))}, {'frame': 180, 'label': 'person', 'confidence': np.float32(0.46896395), 'bbox': (np.float32(466.29843), np.float32(298.50333), np.float32(526.4151), np.float32(382.55215)), 'referee': True}, {'frame': 180, 'label': 'person', 'confidence': np.float32(0.42444625), 'bbox': (np.float32(84.832535), np.float32(368.32474), np.float32(150.62924), np.float32(447.6894))}, {'frame': 180, 'label': 'person', 'confidence': np.float32(0.3973821), 'bbox': (np.float32(189.96286), np.float32(97.19261), np.float32(265.40915), np.float32(176.76302)), 'team': 1}, {'frame': 181, 'label': 'person', 'confidence': np.float32(0.8802141), 'bbox': (np.float32(877.95996), np.float32(93.75585), np.float32(923.86005), np.float32(199.23846)), 'referee': True}, {'frame': 181, 'label': 'person', 'confidence': np.float32(0.8480582), 'bbox': (np.float32(1030.6859), np.float32(196.54536), np.float32(1100.3201), np.float32(315.83795)), 'referee': True}, {'frame': 181, 'label': 'person', 'confidence': np.float32(0.7963644), 'bbox': (np.float32(503.18494), np.float32(221.86658), np.float32(582.29297), np.float32(322.4994)), 'referee': True}, {'frame': 181, 'label': 'person', 'confidence': np.float32(0.6860222), 'bbox': (np.float32(412.25644), np.float32(330.57162), np.float32(510.55844), np.float32(457.27887)), 'referee': True}, {'frame': 181, 'label': 'person', 'confidence': np.float32(0.6444436), 'bbox': (np.float32(465.0546), np.float32(296.59375), np.float32(536.8201), np.float32(394.43295)), 'referee': True}, {'frame': 181, 'label': 'person', 'confidence': np.float32(0.5274278), 'bbox': (np.float32(194.90143), np.float32(100.07189), np.float32(270.7162), np.float32(181.05597)), 'team': 1}, {'frame': 181, 'label': 'person', 'confidence': np.float32(0.4180316), 'bbox': (np.float32(745.6622), np.float32(675.81036), np.float32(799.387), np.float32(718.6373))}, {'frame': 181, 'label': 'person', 'confidence': np.float32(0.34681988), 'bbox': (np.float32(91.50484), np.float32(368.39255), np.float32(156.63832), np.float32(450.71964))}, {'frame': 182, 'label': 'person', 'confidence': np.float32(0.8838099), 'bbox': (np.float32(882.32416), np.float32(93.56446), np.float32(929.2207), np.float32(199.93597)), 'referee': True}, {'frame': 182, 'label': 'person', 'confidence': np.float32(0.84460837), 'bbox': (np.float32(1031.6466), np.float32(195.74889), np.float32(1103.4097), np.float32(314.62814)), 'referee': True}, {'frame': 182, 'label': 'person', 'confidence': np.float32(0.8021589), 'bbox': (np.float32(502.83978), np.float32(221.73183), np.float32(580.90173), np.float32(321.57196)), 'referee': True}, {'frame': 182, 'label': 'person', 'confidence': np.float32(0.7294618), 'bbox': (np.float32(414.43414), np.float32(318.04822), np.float32(524.5195), np.float32(458.80917)), 'referee': True}, {'frame': 182, 'label': 'person', 'confidence': np.float32(0.6428352), 'bbox': (np.float32(202.44751), np.float32(99.334984), np.float32(273.27344), np.float32(184.24081)), 'team': 1}, {'frame': 182, 'label': 'person', 'confidence': np.float32(0.40277517), 'bbox': (np.float32(467.63034), np.float32(299.61847), np.float32(531.2739), np.float32(387.03424)), 'referee': True}, {'frame': 182, 'label': 'person', 'confidence': np.float32(0.4006147), 'bbox': (np.float32(756.67554), np.float32(679.37024), np.float32(795.02094), np.float32(717.3821))}, {'frame': 182, 'label': 'skis', 'confidence': np.float32(0.29211578), 'bbox': (np.float32(412.64655), np.float32(430.05988), np.float32(520.4644), np.float32(461.5968))}, {'frame': 182, 'label': 'person', 'confidence': np.float32(0.27311793), 'bbox': (np.float32(98.23091), np.float32(368.9477), np.float32(165.10188), np.float32(455.59982))}, {'frame': 182, 'label': 'skis', 'confidence': np.float32(0.26036516), 'bbox': (np.float32(509.3063), np.float32(294.80518), np.float32(636.1257), np.float32(324.25143)), 'referee': True}, {'frame': 183, 'label': 'person', 'confidence': np.float32(0.86496776), 'bbox': (np.float32(886.72253), np.float32(92.146996), np.float32(935.6736), np.float32(198.55711)), 'referee': True}, {'frame': 183, 'label': 'person', 'confidence': np.float32(0.8409802), 'bbox': (np.float32(422.52637), np.float32(303.88297), np.float32(531.06696), np.float32(453.00668)), 'referee': True}, {'frame': 183, 'label': 'person', 'confidence': np.float32(0.8377328), 'bbox': (np.float32(1035.1622), np.float32(194.40709), np.float32(1105.5348), np.float32(313.18576)), 'referee': True}, {'frame': 183, 'label': 'person', 'confidence': np.float32(0.7844935), 'bbox': (np.float32(503.53543), np.float32(221.68587), np.float32(574.0131), np.float32(323.36874)), 'referee': True}, {'frame': 183, 'label': 'person', 'confidence': np.float32(0.69023776), 'bbox': (np.float32(210.60928), np.float32(99.347786), np.float32(281.15472), np.float32(185.54886)), 'team': 1}, {'frame': 183, 'label': 'person', 'confidence': np.float32(0.3942133), 'bbox': (np.float32(105.051025), np.float32(369.19763), np.float32(173.43112), np.float32(456.84256)), 'referee': True}, {'frame': 183, 'label': 'person', 'confidence': np.float32(0.38456503), 'bbox': (np.float32(764.5424), np.float32(683.342), np.float32(799.1017), np.float32(717.8741))}, {'frame': 183, 'label': 'person', 'confidence': np.float32(0.31314498), 'bbox': (np.float32(193.05579), np.float32(494.2706), np.float32(251.64584), np.float32(592.8675))}, {'frame': 184, 'label': 'person', 'confidence': np.float32(0.85778826), 'bbox': (np.float32(890.6214), np.float32(88.88799), np.float32(939.6844), np.float32(199.18456)), 'referee': True}, {'frame': 184, 'label': 'person', 'confidence': np.float32(0.84657437), 'bbox': (np.float32(1034.4346), np.float32(191.0031), np.float32(1108.6959), np.float32(313.01462)), 'referee': True}, {'frame': 184, 'label': 'person', 'confidence': np.float32(0.7801548), 'bbox': (np.float32(435.26987), np.float32(304.15356), np.float32(536.7576), np.float32(447.79868)), 'referee': True}, {'frame': 184, 'label': 'person', 'confidence': np.float32(0.7751584), 'bbox': (np.float32(503.9823), np.float32(221.79941), np.float32(571.154), np.float32(321.98907)), 'referee': True}, {'frame': 184, 'label': 'person', 'confidence': np.float32(0.57492703), 'bbox': (np.float32(221.11378), np.float32(99.43051), np.float32(289.1187), np.float32(187.36557)), 'team': 1}, {'frame': 184, 'label': 'person', 'confidence': np.float32(0.40809888), 'bbox': (np.float32(776.4692), np.float32(686.41113), np.float32(805.08704), np.float32(718.0727))}, {'frame': 184, 'label': 'person', 'confidence': np.float32(0.29099384), 'bbox': (np.float32(112.24869), np.float32(369.24323), np.float32(178.36028), np.float32(451.74945))}, {'frame': 184, 'label': 'person', 'confidence': np.float32(0.28012452), 'bbox': (np.float32(613.17596), np.float32(640.7327), np.float32(662.0135), np.float32(719.73035))}, {'frame': 184, 'label': 'person', 'confidence': np.float32(0.26447308), 'bbox': (np.float32(205.80196), np.float32(496.4177), np.float32(257.5644), np.float32(592.78265))}, {'frame': 185, 'label': 'person', 'confidence': np.float32(0.8619195), 'bbox': (np.float32(892.67993), np.float32(92.095665), np.float32(943.70654), np.float32(200.76059)), 'referee': True}, {'frame': 185, 'label': 'person', 'confidence': np.float32(0.83329254), 'bbox': (np.float32(1046.6652), np.float32(190.4474), np.float32(1111.6024), np.float32(311.66144)), 'referee': True}, {'frame': 185, 'label': 'person', 'confidence': np.float32(0.7528145), 'bbox': (np.float32(504.48276), np.float32(222.27658), np.float32(570.5656), np.float32(321.12192)), 'referee': True}, {'frame': 185, 'label': 'person', 'confidence': np.float32(0.7468771), 'bbox': (np.float32(438.96716), np.float32(302.12943), np.float32(539.53534), np.float32(447.03943)), 'referee': True}, {'frame': 185, 'label': 'person', 'confidence': np.float32(0.49670222), 'bbox': (np.float32(118.687355), np.float32(369.26483), np.float32(185.45848), np.float32(456.24564))}, {'frame': 185, 'label': 'person', 'confidence': np.float32(0.47354177), 'bbox': (np.float32(228.30266), np.float32(111.322945), np.float32(295.35367), np.float32(187.76163)), 'team': 1}, {'frame': 185, 'label': 'skis', 'confidence': np.float32(0.38988185), 'bbox': (np.float32(531.07275), np.float32(298.62527), np.float32(626.5389), np.float32(338.93362))}, {'frame': 185, 'label': 'person', 'confidence': np.float32(0.34372658), 'bbox': (np.float32(611.214), np.float32(649.9434), np.float32(670.3783), np.float32(720.0))}, {'frame': 185, 'label': 'person', 'confidence': np.float32(0.31072226), 'bbox': (np.float32(784.6894), np.float32(690.9163), np.float32(813.6973), np.float32(718.0333))}, {'frame': 185, 'label': 'person', 'confidence': np.float32(0.27054167), 'bbox': (np.float32(213.28171), np.float32(500.39996), np.float32(265.6964), np.float32(591.71063))}, {'frame': 186, 'label': 'person', 'confidence': np.float32(0.87179685), 'bbox': (np.float32(897.02234), np.float32(94.40794), np.float32(945.5226), np.float32(201.45705)), 'referee': True}, {'frame': 186, 'label': 'person', 'confidence': np.float32(0.82139874), 'bbox': (np.float32(1054.3507), np.float32(188.40724), np.float32(1115.1285), np.float32(312.43533)), 'referee': True}, {'frame': 186, 'label': 'person', 'confidence': np.float32(0.79888177), 'bbox': (np.float32(447.5462), np.float32(297.80005), np.float32(544.49713), np.float32(443.42566)), 'referee': True}, {'frame': 186, 'label': 'person', 'confidence': np.float32(0.7348489), 'bbox': (np.float32(505.44223), np.float32(222.41122), np.float32(570.677), np.float32(319.75146)), 'referee': True}, {'frame': 186, 'label': 'person', 'confidence': np.float32(0.6285535), 'bbox': (np.float32(234.57092), np.float32(117.258255), np.float32(306.53232), np.float32(191.73009)), 'team': 1}, {'frame': 186, 'label': 'skis', 'confidence': np.float32(0.5279261), 'bbox': (np.float32(530.6647), np.float32(296.41772), np.float32(620.4462), np.float32(345.4607))}, {'frame': 186, 'label': 'person', 'confidence': np.float32(0.39968833), 'bbox': (np.float32(128.21585), np.float32(370.16528), np.float32(196.03183), np.float32(463.44946)), 'referee': True}, {'frame': 186, 'label': 'tennis racket', 'confidence': np.float32(0.31502983), 'bbox': (np.float32(1031.9227), np.float32(266.0657), np.float32(1065.684), np.float32(297.9287))}, {'frame': 187, 'label': 'person', 'confidence': np.float32(0.88415486), 'bbox': (np.float32(899.7008), np.float32(93.32347), np.float32(949.0446), np.float32(202.31381)), 'team': 0, 'referee': True}, {'frame': 187, 'label': 'person', 'confidence': np.float32(0.83908933), 'bbox': (np.float32(1060.136), np.float32(187.55885), np.float32(1118.4413), np.float32(311.08493)), 'referee': True}, {'frame': 187, 'label': 'person', 'confidence': np.float32(0.80816436), 'bbox': (np.float32(445.23413), np.float32(297.6943), np.float32(547.73303), np.float32(442.06384)), 'referee': True}, {'frame': 187, 'label': 'person', 'confidence': np.float32(0.70212483), 'bbox': (np.float32(503.86856), np.float32(224.34937), np.float32(571.2542), np.float32(315.30484)), 'referee': True}, {'frame': 187, 'label': 'person', 'confidence': np.float32(0.51858807), 'bbox': (np.float32(243.8443), np.float32(114.22218), np.float32(311.89395), np.float32(192.94238)), 'team': 1, 'referee': True}, {'frame': 187, 'label': 'skis', 'confidence': np.float32(0.515535), 'bbox': (np.float32(519.39484), np.float32(290.0366), np.float32(619.3732), np.float32(343.75485)), 'referee': True}, {'frame': 187, 'label': 'tennis racket', 'confidence': np.float32(0.42898163), 'bbox': (np.float32(1033.0652), np.float32(264.24866), np.float32(1072.0493), np.float32(298.8683))}, {'frame': 187, 'label': 'person', 'confidence': np.float32(0.36674067), 'bbox': (np.float32(134.6234), np.float32(371.50473), np.float32(202.21043), np.float32(464.94916)), 'referee': True}, {'frame': 188, 'label': 'person', 'confidence': np.float32(0.87343806), 'bbox': (np.float32(902.45715), np.float32(89.10655), np.float32(952.0151), np.float32(203.19106)), 'team': 0, 'referee': True}, {'frame': 188, 'label': 'person', 'confidence': np.float32(0.83282316), 'bbox': (np.float32(1064.3756), np.float32(187.05823), np.float32(1119.6494), np.float32(308.47513)), 'referee': True}, {'frame': 188, 'label': 'person', 'confidence': np.float32(0.7607789), 'bbox': (np.float32(447.78812), np.float32(297.14044), np.float32(547.7761), np.float32(441.97824)), 'referee': True}, {'frame': 188, 'label': 'person', 'confidence': np.float32(0.7033394), 'bbox': (np.float32(505.6292), np.float32(225.29308), np.float32(571.8111), np.float32(315.40152)), 'referee': True}, {'frame': 188, 'label': 'person', 'confidence': np.float32(0.45348638), 'bbox': (np.float32(251.37059), np.float32(116.993866), np.float32(322.75238), np.float32(194.65186)), 'team': 1, 'referee': True}, {'frame': 188, 'label': 'skis', 'confidence': np.float32(0.4477744), 'bbox': (np.float32(519.9382), np.float32(289.75137), np.float32(617.0566), np.float32(345.88052)), 'referee': True}, {'frame': 188, 'label': 'tennis racket', 'confidence': np.float32(0.40119046), 'bbox': (np.float32(1034.8448), np.float32(261.2716), np.float32(1075.4897), np.float32(297.36026))}, {'frame': 188, 'label': 'person', 'confidence': np.float32(0.30716982), 'bbox': (np.float32(143.5246), np.float32(373.04083), np.float32(210.86922), np.float32(461.97186)), 'referee': True}, {'frame': 189, 'label': 'person', 'confidence': np.float32(0.8771231), 'bbox': (np.float32(906.5454), np.float32(90.97796), np.float32(954.4856), np.float32(202.3188)), 'team': 0, 'referee': True}, {'frame': 189, 'label': 'person', 'confidence': np.float32(0.83159935), 'bbox': (np.float32(1067.5643), np.float32(186.29747), np.float32(1121.8868), np.float32(307.70105)), 'referee': True}, {'frame': 189, 'label': 'person', 'confidence': np.float32(0.7818632), 'bbox': (np.float32(507.8425), np.float32(224.45972), np.float32(573.27167), np.float32(321.72708)), 'referee': True}, {'frame': 189, 'label': 'person', 'confidence': np.float32(0.68219334), 'bbox': (np.float32(443.8599), np.float32(299.73962), np.float32(548.9131), np.float32(439.40955)), 'referee': True}, {'frame': 189, 'label': 'person', 'confidence': np.float32(0.37008008), 'bbox': (np.float32(259.40024), np.float32(110.68566), np.float32(332.72238), np.float32(196.31421)), 'team': 1, 'referee': True}, {'frame': 189, 'label': 'tennis racket', 'confidence': np.float32(0.36910948), 'bbox': (np.float32(1036.5796), np.float32(262.54858), np.float32(1078.8025), np.float32(296.0014))}, {'frame': 189, 'label': 'person', 'confidence': np.float32(0.33727607), 'bbox': (np.float32(240.82913), np.float32(510.97025), np.float32(299.6685), np.float32(610.87305))}, {'frame': 189, 'label': 'person', 'confidence': np.float32(0.27034235), 'bbox': (np.float32(649.5558), np.float32(665.58624), np.float32(708.11005), np.float32(718.55725)), 'team': 1}, {'frame': 190, 'label': 'person', 'confidence': np.float32(0.86770624), 'bbox': (np.float32(910.08887), np.float32(92.976166), np.float32(956.2247), np.float32(203.83751)), 'referee': True}, {'frame': 190, 'label': 'person', 'confidence': np.float32(0.8279873), 'bbox': (np.float32(1070.2212), np.float32(185.75488), np.float32(1124.0433), np.float32(307.9044)), 'referee': True}, {'frame': 190, 'label': 'person', 'confidence': np.float32(0.73823375), 'bbox': (np.float32(445.2824), np.float32(297.93607), np.float32(551.54047), np.float32(439.70926)), 'referee': True}, {'frame': 190, 'label': 'person', 'confidence': np.float32(0.7289863), 'bbox': (np.float32(508.97375), np.float32(225.09909), np.float32(574.8517), np.float32(320.7003)), 'referee': True}, {'frame': 190, 'label': 'person', 'confidence': np.float32(0.42709008), 'bbox': (np.float32(265.02765), np.float32(119.8658), np.float32(341.13626), np.float32(196.42557)), 'team': 1, 'referee': True}, {'frame': 190, 'label': 'tennis racket', 'confidence': np.float32(0.35135967), 'bbox': (np.float32(1036.6697), np.float32(260.43402), np.float32(1080.8138), np.float32(296.08176))}, {'frame': 190, 'label': 'person', 'confidence': np.float32(0.29253894), 'bbox': (np.float32(251.91818), np.float32(514.0544), np.float32(306.11923), np.float32(611.81464))}, {'frame': 190, 'label': 'person', 'confidence': np.float32(0.27243423), 'bbox': (np.float32(661.6759), np.float32(669.9447), np.float32(717.1215), np.float32(718.307)), 'team': 1}, {'frame': 191, 'label': 'person', 'confidence': np.float32(0.86744475), 'bbox': (np.float32(914.3943), np.float32(94.81176), np.float32(959.89276), np.float32(204.7177)), 'referee': True}, {'frame': 191, 'label': 'person', 'confidence': np.float32(0.8457808), 'bbox': (np.float32(1073.5288), np.float32(185.10596), np.float32(1127.4105), np.float32(305.55103)), 'referee': True}, {'frame': 191, 'label': 'person', 'confidence': np.float32(0.73329836), 'bbox': (np.float32(455.35123), np.float32(296.57687), np.float32(554.80066), np.float32(435.68018)), 'referee': True}, {'frame': 191, 'label': 'person', 'confidence': np.float32(0.70146465), 'bbox': (np.float32(513.0031), np.float32(225.74953), np.float32(578.61597), np.float32(316.80807)), 'referee': True}, {'frame': 191, 'label': 'person', 'confidence': np.float32(0.48891157), 'bbox': (np.float32(275.74548), np.float32(120.207985), np.float32(347.3327), np.float32(198.26645)), 'team': 1}, {'frame': 191, 'label': 'person', 'confidence': np.float32(0.36628968), 'bbox': (np.float32(257.28625), np.float32(517.72565), np.float32(315.19168), np.float32(618.25586))}, {'frame': 191, 'label': 'person', 'confidence': np.float32(0.34040245), 'bbox': (np.float32(682.7128), np.float32(671.7175), np.float32(724.9676), np.float32(717.21313))}, {'frame': 191, 'label': 'person', 'confidence': np.float32(0.30016485), 'bbox': (np.float32(438.82846), np.float32(647.37665), np.float32(497.9814), np.float32(718.3134)), 'team': 0}, {'frame': 192, 'label': 'person', 'confidence': np.float32(0.8519323), 'bbox': (np.float32(917.35956), np.float32(102.052986), np.float32(963.42957), np.float32(204.53395)), 'team': 0, 'referee': True}, {'frame': 192, 'label': 'person', 'confidence': np.float32(0.8486305), 'bbox': (np.float32(1075.3129), np.float32(184.7338), np.float32(1129.0497), np.float32(305.66885)), 'referee': True}, {'frame': 192, 'label': 'person', 'confidence': np.float32(0.7136414), 'bbox': (np.float32(471.74588), np.float32(297.8524), np.float32(558.6217), np.float32(432.96515)), 'referee': True}, {'frame': 192, 'label': 'person', 'confidence': np.float32(0.7110083), 'bbox': (np.float32(515.57526), np.float32(225.79568), np.float32(584.1442), np.float32(321.84055)), 'referee': True}, {'frame': 192, 'label': 'person', 'confidence': np.float32(0.44815338), 'bbox': (np.float32(264.68777), np.float32(520.2745), np.float32(318.62866), np.float32(619.2406))}, {'frame': 192, 'label': 'person', 'confidence': np.float32(0.3327278), 'bbox': (np.float32(283.00146), np.float32(123.91645), np.float32(357.85352), np.float32(200.47087)), 'team': 1, 'referee': True}, {'frame': 192, 'label': 'person', 'confidence': np.float32(0.285957), 'bbox': (np.float32(444.17706), np.float32(649.76697), np.float32(505.88013), np.float32(718.0849)), 'team': 0}, {'frame': 193, 'label': 'person', 'confidence': np.float32(0.86597), 'bbox': (np.float32(919.8183), np.float32(100.87762), np.float32(965.96564), np.float32(206.32175)), 'team': 0, 'referee': True}, {'frame': 193, 'label': 'person', 'confidence': np.float32(0.8358836), 'bbox': (np.float32(1077.0266), np.float32(185.02052), np.float32(1129.9474), np.float32(304.80408)), 'referee': True}, {'frame': 193, 'label': 'person', 'confidence': np.float32(0.76584965), 'bbox': (np.float32(476.16763), np.float32(296.51517), np.float32(569.0994), np.float32(432.93018)), 'referee': True}, {'frame': 193, 'label': 'person', 'confidence': np.float32(0.71505916), 'bbox': (np.float32(517.7659), np.float32(225.68329), np.float32(587.95013), np.float32(313.22012)), 'referee': True}, {'frame': 193, 'label': 'person', 'confidence': np.float32(0.37319425), 'bbox': (np.float32(268.57697), np.float32(522.0634), np.float32(327.96283), np.float32(624.4797))}, {'frame': 193, 'label': 'person', 'confidence': np.float32(0.33464584), 'bbox': (np.float32(290.03583), np.float32(124.73216), np.float32(365.16385), np.float32(200.8555)), 'team': 1}, {'frame': 193, 'label': 'tennis racket', 'confidence': np.float32(0.3251881), 'bbox': (np.float32(1035.6313), np.float32(254.69923), np.float32(1087.3197), np.float32(295.20517))}, {'frame': 193, 'label': 'person', 'confidence': np.float32(0.30812055), 'bbox': (np.float32(452.6244), np.float32(651.8648), np.float32(514.1057), np.float32(717.98016)), 'team': 0}, {'frame': 194, 'label': 'person', 'confidence': np.float32(0.86262995), 'bbox': (np.float32(921.34735), np.float32(100.1156), np.float32(968.0621), np.float32(207.89351)), 'team': 0, 'referee': True}, {'frame': 194, 'label': 'person', 'confidence': np.float32(0.85050887), 'bbox': (np.float32(1077.8264), np.float32(184.99863), np.float32(1131.5686), np.float32(304.96362)), 'referee': True}, {'frame': 194, 'label': 'person', 'confidence': np.float32(0.7118083), 'bbox': (np.float32(483.68573), np.float32(291.8697), np.float32(571.7278), np.float32(432.17935)), 'referee': True}, {'frame': 194, 'label': 'person', 'confidence': np.float32(0.65046394), 'bbox': (np.float32(520.5961), np.float32(226.86717), np.float32(593.81134), np.float32(316.55618)), 'referee': True}, {'frame': 194, 'label': 'person', 'confidence': np.float32(0.39375806), 'bbox': (np.float32(298.17465), np.float32(130.62817), np.float32(374.0546), np.float32(202.7847)), 'team': 1}, {'frame': 194, 'label': 'person', 'confidence': np.float32(0.3532713), 'bbox': (np.float32(277.20822), np.float32(527.28424), np.float32(334.54083), np.float32(625.7675))}, {'frame': 194, 'label': 'baseball bat', 'confidence': np.float32(0.33477628), 'bbox': (np.float32(552.3961), np.float32(314.661), np.float32(627.598), np.float32(362.04202))}, {'frame': 194, 'label': 'person', 'confidence': np.float32(0.2861925), 'bbox': (np.float32(0.44764504), np.float32(513.2783), np.float32(80.78094), np.float32(629.93866))}, {'frame': 194, 'label': 'tennis racket', 'confidence': np.float32(0.276866), 'bbox': (np.float32(1034.1624), np.float32(254.93613), np.float32(1086.8094), np.float32(295.25778))}, {'frame': 194, 'label': 'person', 'confidence': np.float32(0.25665724), 'bbox': (np.float32(465.15216), np.float32(654.40985), np.float32(525.68744), np.float32(720.0)), 'team': 0}, {'frame': 195, 'label': 'person', 'confidence': np.float32(0.8555158), 'bbox': (np.float32(923.86005), np.float32(102.77589), np.float32(970.4335), np.float32(208.61256)), 'team': 0, 'referee': True}, {'frame': 195, 'label': 'person', 'confidence': np.float32(0.841515), 'bbox': (np.float32(1079.0293), np.float32(185.42401), np.float32(1133.125), np.float32(304.42892)), 'referee': True}, {'frame': 195, 'label': 'person', 'confidence': np.float32(0.711045), 'bbox': (np.float32(484.80167), np.float32(289.82104), np.float32(582.23895), np.float32(433.20816)), 'referee': True}, {'frame': 195, 'label': 'person', 'confidence': np.float32(0.6785078), 'bbox': (np.float32(523.9425), np.float32(227.86763), np.float32(597.2951), np.float32(308.6066)), 'referee': True}, {'frame': 195, 'label': 'person', 'confidence': np.float32(0.56020594), 'bbox': (np.float32(305.31616), np.float32(128.4866), np.float32(386.64978), np.float32(205.51744)), 'team': 1}, {'frame': 195, 'label': 'person', 'confidence': np.float32(0.38621208), 'bbox': (np.float32(168.10353), np.float32(388.5825), np.float32(273.1477), np.float32(499.89246)), 'referee': True}, {'frame': 195, 'label': 'person', 'confidence': np.float32(0.3067847), 'bbox': (np.float32(542.57794), np.float32(2.5009973), np.float32(588.85364), np.float32(65.539955))}, {'frame': 195, 'label': 'tennis racket', 'confidence': np.float32(0.28946656), 'bbox': (np.float32(1031.2177), np.float32(254.08641), np.float32(1088.2715), np.float32(295.7931))}, {'frame': 195, 'label': 'person', 'confidence': np.float32(0.28238556), 'bbox': (np.float32(283.21313), np.float32(530.6705), np.float32(341.04547), np.float32(626.6465))}, {'frame': 195, 'label': 'person', 'confidence': np.float32(0.2751897), 'bbox': (np.float32(473.2996), np.float32(661.3725), np.float32(527.6134), np.float32(717.5336)), 'team': 0}, {'frame': 196, 'label': 'person', 'confidence': np.float32(0.8468994), 'bbox': (np.float32(1079.352), np.float32(186.0555), np.float32(1136.3983), np.float32(305.39258)), 'referee': True}, {'frame': 196, 'label': 'person', 'confidence': np.float32(0.8463834), 'bbox': (np.float32(926.5308), np.float32(104.82177), np.float32(973.40546), np.float32(209.10289)), 'team': 0, 'referee': True}, {'frame': 196, 'label': 'person', 'confidence': np.float32(0.76521754), 'bbox': (np.float32(486.5024), np.float32(292.05563), np.float32(583.1695), np.float32(434.4026)), 'referee': True}, {'frame': 196, 'label': 'person', 'confidence': np.float32(0.69700223), 'bbox': (np.float32(526.53723), np.float32(226.41017), np.float32(599.9957), np.float32(336.50513)), 'referee': True}, {'frame': 196, 'label': 'person', 'confidence': np.float32(0.43983787), 'bbox': (np.float32(311.41516), np.float32(126.96347), np.float32(395.2724), np.float32(208.09929)), 'team': 1, 'referee': True}, {'frame': 196, 'label': 'baseball bat', 'confidence': np.float32(0.35428455), 'bbox': (np.float32(572.28064), np.float32(329.99164), np.float32(644.82654), np.float32(373.7988))}, {'frame': 196, 'label': 'person', 'confidence': np.float32(0.28036326), 'bbox': (np.float32(285.32358), np.float32(537.66675), np.float32(345.32343), np.float32(635.3818))}, {'frame': 196, 'label': 'person', 'confidence': np.float32(0.2734765), 'bbox': (np.float32(175.03027), np.float32(392.12564), np.float32(266.38235), np.float32(499.3689)), 'referee': True}, {'frame': 196, 'label': 'person', 'confidence': np.float32(0.25331035), 'bbox': (np.float32(478.52396), np.float32(665.673), np.float32(533.8612), np.float32(717.9538)), 'team': 0}, {'frame': 197, 'label': 'person', 'confidence': np.float32(0.8481228), 'bbox': (np.float32(927.157), np.float32(97.139206), np.float32(975.84357), np.float32(209.66075)), 'team': 0, 'referee': True}, {'frame': 197, 'label': 'person', 'confidence': np.float32(0.84319246), 'bbox': (np.float32(1079.4078), np.float32(185.51004), np.float32(1137.6294), np.float32(305.44412)), 'referee': True}, {'frame': 197, 'label': 'person', 'confidence': np.float32(0.76457256), 'bbox': (np.float32(486.60608), np.float32(291.66342), np.float32(583.5767), np.float32(434.20264)), 'referee': True}, {'frame': 197, 'label': 'person', 'confidence': np.float32(0.64248186), 'bbox': (np.float32(527.9635), np.float32(226.1693), np.float32(600.55725), np.float32(334.98865)), 'referee': True}, {'frame': 197, 'label': 'baseball bat', 'confidence': np.float32(0.37621868), 'bbox': (np.float32(575.8743), np.float32(326.91437), np.float32(649.8382), np.float32(372.46155))}, {'frame': 197, 'label': 'person', 'confidence': np.float32(0.3086134), 'bbox': (np.float32(482.22238), np.float32(665.298), np.float32(536.47656), np.float32(718.1611)), 'team': 0}, {'frame': 197, 'label': 'person', 'confidence': np.float32(0.30463126), 'bbox': (np.float32(317.05063), np.float32(128.81453), np.float32(400.74133), np.float32(204.8764)), 'team': 1, 'referee': True}, {'frame': 197, 'label': 'person', 'confidence': np.float32(0.29882517), 'bbox': (np.float32(290.48145), np.float32(539.2682), np.float32(349.11636), np.float32(636.5238))}, {'frame': 197, 'label': 'person', 'confidence': np.float32(0.29514095), 'bbox': (np.float32(603.3939), np.float32(674.92896), np.float32(650.4975), np.float32(719.29474))}, {'frame': 197, 'label': 'person', 'confidence': np.float32(0.28539142), 'bbox': (np.float32(177.16858), np.float32(393.2187), np.float32(267.5705), np.float32(497.78543)), 'referee': True}, {'frame': 198, 'label': 'person', 'confidence': np.float32(0.8604755), 'bbox': (np.float32(930.3099), np.float32(107.59469), np.float32(978.0658), np.float32(210.44998)), 'referee': True}, {'frame': 198, 'label': 'person', 'confidence': np.float32(0.8462008), 'bbox': (np.float32(1079.8508), np.float32(186.40317), np.float32(1140.4988), np.float32(304.8428)), 'referee': True}, {'frame': 198, 'label': 'person', 'confidence': np.float32(0.80622447), 'bbox': (np.float32(487.50775), np.float32(297.6089), np.float32(581.4742), np.float32(432.87436)), 'referee': True}, {'frame': 198, 'label': 'person', 'confidence': np.float32(0.6839044), 'bbox': (np.float32(531.287), np.float32(226.16281), np.float32(603.7968), np.float32(342.10025)), 'referee': True}, {'frame': 198, 'label': 'person', 'confidence': np.float32(0.3603021), 'bbox': (np.float32(180.29897), np.float32(395.1934), np.float32(274.49942), np.float32(499.5342)), 'referee': True}, {'frame': 198, 'label': 'person', 'confidence': np.float32(0.35663864), 'bbox': (np.float32(559.69727), np.float32(5.9906282), np.float32(604.1781), np.float32(67.65788))}, {'frame': 198, 'label': 'baseball bat', 'confidence': np.float32(0.34457788), 'bbox': (np.float32(574.9073), np.float32(323.76608), np.float32(655.8772), np.float32(371.9764))}, {'frame': 198, 'label': 'person', 'confidence': np.float32(0.33261102), 'bbox': (np.float32(296.3131), np.float32(538.8953), np.float32(352.14175), np.float32(643.5486))}, {'frame': 198, 'label': 'person', 'confidence': np.float32(0.30305502), 'bbox': (np.float32(489.6123), np.float32(665.3176), np.float32(543.3608), np.float32(720.0)), 'team': 0}, {'frame': 199, 'label': 'person', 'confidence': np.float32(0.87710875), 'bbox': (np.float32(930.7524), np.float32(109.13326), np.float32(979.7695), np.float32(212.27734)), 'referee': True}, {'frame': 199, 'label': 'person', 'confidence': np.float32(0.8412429), 'bbox': (np.float32(1080.614), np.float32(187.66812), np.float32(1141.2968), np.float32(305.4939)), 'referee': True}, {'frame': 199, 'label': 'person', 'confidence': np.float32(0.7893177), 'bbox': (np.float32(487.46097), np.float32(298.38348), np.float32(581.2658), np.float32(433.52573)), 'referee': True}, {'frame': 199, 'label': 'person', 'confidence': np.float32(0.60331136), 'bbox': (np.float32(531.84045), np.float32(227.89731), np.float32(604.5487), np.float32(341.4867)), 'referee': True}, {'frame': 199, 'label': 'person', 'confidence': np.float32(0.45916393), 'bbox': (np.float32(183.01451), np.float32(398.22), np.float32(276.84235), np.float32(502.98868)), 'referee': True}, {'frame': 199, 'label': 'person', 'confidence': np.float32(0.3247388), 'bbox': (np.float32(297.72717), np.float32(545.2998), np.float32(354.74252), np.float32(644.6883))}, {'frame': 199, 'label': 'person', 'confidence': np.float32(0.32394737), 'bbox': (np.float32(322.1511), np.float32(138.54625), np.float32(403.33182), np.float32(213.82469)), 'team': 1, 'referee': True}, {'frame': 199, 'label': 'baseball bat', 'confidence': np.float32(0.25984845), 'bbox': (np.float32(572.7587), np.float32(323.48767), np.float32(660.16327), np.float32(373.2596)), 'referee': True}, {'frame': 200, 'label': 'person', 'confidence': np.float32(0.8709712), 'bbox': (np.float32(931.7008), np.float32(106.12606), np.float32(982.06805), np.float32(212.7926)), 'team': 0, 'referee': True}, {'frame': 200, 'label': 'person', 'confidence': np.float32(0.85079104), 'bbox': (np.float32(487.3068), np.float32(299.6131), np.float32(578.9803), np.float32(432.64075)), 'referee': True}, {'frame': 200, 'label': 'person', 'confidence': np.float32(0.8460102), 'bbox': (np.float32(1081.2604), np.float32(186.92505), np.float32(1144.6901), np.float32(305.20657)), 'referee': True}, {'frame': 200, 'label': 'person', 'confidence': np.float32(0.5986591), 'bbox': (np.float32(536.55963), np.float32(226.00552), np.float32(609.0604), np.float32(361.93756)), 'referee': True}, {'frame': 200, 'label': 'person', 'confidence': np.float32(0.5476225), 'bbox': (np.float32(329.8486), np.float32(135.0806), np.float32(406.77448), np.float32(216.23808)), 'team': 1, 'referee': True}, {'frame': 200, 'label': 'person', 'confidence': np.float32(0.35142574), 'bbox': (np.float32(301.0839), np.float32(548.34143), np.float32(360.39365), np.float32(652.7789))}, {'frame': 200, 'label': 'person', 'confidence': np.float32(0.28930783), 'bbox': (np.float32(185.9714), np.float32(402.38123), np.float32(273.78308), np.float32(500.60846)), 'referee': True}, {'frame': 200, 'label': 'baseball bat', 'confidence': np.float32(0.26405415), 'bbox': (np.float32(582.601), np.float32(328.07745), np.float32(659.41266), np.float32(381.8176))}, {'frame': 201, 'label': 'person', 'confidence': np.float32(0.8691288), 'bbox': (np.float32(932.7532), np.float32(107.42223), np.float32(983.12366), np.float32(213.16725)), 'team': 0, 'referee': True}, {'frame': 201, 'label': 'person', 'confidence': np.float32(0.85959023), 'bbox': (np.float32(487.05475), np.float32(299.31662), np.float32(578.597), np.float32(432.66684)), 'referee': True}, {'frame': 201, 'label': 'person', 'confidence': np.float32(0.8504833), 'bbox': (np.float32(1081.5055), np.float32(186.28879), np.float32(1146.5092), np.float32(304.92596)), 'referee': True}, {'frame': 201, 'label': 'person', 'confidence': np.float32(0.67244345), 'bbox': (np.float32(539.1444), np.float32(226.96707), np.float32(611.34393), np.float32(354.30084)), 'referee': True}, {'frame': 201, 'label': 'person', 'confidence': np.float32(0.5810186), 'bbox': (np.float32(331.78012), np.float32(135.58455), np.float32(410.80164), np.float32(217.5248)), 'team': 1, 'referee': True}, {'frame': 201, 'label': 'person', 'confidence': np.float32(0.34370297), 'bbox': (np.float32(187.14406), np.float32(403.45886), np.float32(276.35068), np.float32(504.86118)), 'referee': True}, {'frame': 201, 'label': 'person', 'confidence': np.float32(0.28417605), 'bbox': (np.float32(300.22522), np.float32(551.5715), np.float32(362.64783), np.float32(653.6442))}, {'frame': 201, 'label': 'baseball bat', 'confidence': np.float32(0.25385502), 'bbox': (np.float32(582.37897), np.float32(327.76108), np.float32(662.18555), np.float32(380.47418))}, {'frame': 202, 'label': 'person', 'confidence': np.float32(0.87121886), 'bbox': (np.float32(933.6908), np.float32(101.02887), np.float32(983.6412), np.float32(213.38654)), 'referee': True}, {'frame': 202, 'label': 'person', 'confidence': np.float32(0.85636145), 'bbox': (np.float32(1081.0239), np.float32(186.40776), np.float32(1148.8445), np.float32(304.5147)), 'referee': True}, {'frame': 202, 'label': 'person', 'confidence': np.float32(0.8526245), 'bbox': (np.float32(486.5629), np.float32(298.74515), np.float32(578.61316), np.float32(433.04132)), 'referee': True}, {'frame': 202, 'label': 'person', 'confidence': np.float32(0.65821606), 'bbox': (np.float32(541.6667), np.float32(228.07397), np.float32(613.0263), np.float32(327.70645)), 'referee': True}, {'frame': 202, 'label': 'person', 'confidence': np.float32(0.5304193), 'bbox': (np.float32(333.38425), np.float32(143.47488), np.float32(412.434), np.float32(218.72101)), 'team': 1, 'referee': True}, {'frame': 202, 'label': 'person', 'confidence': np.float32(0.43151113), 'bbox': (np.float32(303.81805), np.float32(555.6659), np.float32(365.50793), np.float32(655.3963))}, {'frame': 203, 'label': 'person', 'confidence': np.float32(0.8611519), 'bbox': (np.float32(933.00555), np.float32(96.51219), np.float32(985.15063), np.float32(213.65312)), 'referee': True}, {'frame': 203, 'label': 'person', 'confidence': np.float32(0.84373486), 'bbox': (np.float32(1080.0343), np.float32(185.79439), np.float32(1150.415), np.float32(303.9563)), 'referee': True}, {'frame': 203, 'label': 'person', 'confidence': np.float32(0.84264505), 'bbox': (np.float32(486.2812), np.float32(297.03983), np.float32(577.89526), np.float32(432.93588)), 'referee': True}, {'frame': 203, 'label': 'person', 'confidence': np.float32(0.6397437), 'bbox': (np.float32(544.3014), np.float32(226.4092), np.float32(615.072), np.float32(318.9076)), 'referee': True}, {'frame': 203, 'label': 'person', 'confidence': np.float32(0.4674895), 'bbox': (np.float32(305.30054), np.float32(557.0993), np.float32(366.62598), np.float32(655.12213))}, {'frame': 203, 'label': 'person', 'confidence': np.float32(0.40594363), 'bbox': (np.float32(334.42896), np.float32(143.13536), np.float32(413.11343), np.float32(218.77829)), 'team': 1, 'referee': True}, {'frame': 204, 'label': 'person', 'confidence': np.float32(0.8668993), 'bbox': (np.float32(936.2566), np.float32(105.30723), np.float32(987.593), np.float32(215.23819)), 'referee': True}, {'frame': 204, 'label': 'person', 'confidence': np.float32(0.84702176), 'bbox': (np.float32(486.13962), np.float32(296.7474), np.float32(577.6654), np.float32(432.61087)), 'referee': True}, {'frame': 204, 'label': 'person', 'confidence': np.float32(0.8390718), 'bbox': (np.float32(1079.4376), np.float32(186.08801), np.float32(1149.9343), np.float32(304.0175)), 'referee': True}, {'frame': 204, 'label': 'person', 'confidence': np.float32(0.68299925), 'bbox': (np.float32(546.05096), np.float32(226.05476), np.float32(618.5728), np.float32(323.6425)), 'referee': True}, {'frame': 204, 'label': 'person', 'confidence': np.float32(0.40432486), 'bbox': (np.float32(333.85083), np.float32(145.69551), np.float32(414.49347), np.float32(219.39973)), 'team': 1, 'referee': True}, {'frame': 204, 'label': 'person', 'confidence': np.float32(0.3833095), 'bbox': (np.float32(307.19672), np.float32(558.6378), np.float32(368.31467), np.float32(660.8525))}, {'frame': 205, 'label': 'person', 'confidence': np.float32(0.8611142), 'bbox': (np.float32(936.48083), np.float32(96.74062), np.float32(990.1428), np.float32(215.16173)), 'team': 0, 'referee': True}, {'frame': 205, 'label': 'person', 'confidence': np.float32(0.846742), 'bbox': (np.float32(486.42413), np.float32(294.6354), np.float32(575.7193), np.float32(431.80307)), 'referee': True}, {'frame': 205, 'label': 'person', 'confidence': np.float32(0.8316752), 'bbox': (np.float32(1079.242), np.float32(185.15883), np.float32(1148.8679), np.float32(303.52313)), 'referee': True}, {'frame': 205, 'label': 'person', 'confidence': np.float32(0.6720506), 'bbox': (np.float32(548.28345), np.float32(227.21497), np.float32(620.7261), np.float32(339.20258)), 'referee': True}, {'frame': 205, 'label': 'person', 'confidence': np.float32(0.3994226), 'bbox': (np.float32(308.64584), np.float32(564.4944), np.float32(370.43536), np.float32(675.0035))}, {'frame': 205, 'label': 'person', 'confidence': np.float32(0.32331854), 'bbox': (np.float32(338.29645), np.float32(141.99657), np.float32(421.40805), np.float32(220.63148)), 'team': 1, 'referee': True}, {'frame': 205, 'label': 'person', 'confidence': np.float32(0.25211924), 'bbox': (np.float32(0.0), np.float32(59.346714), np.float32(43.644306), np.float32(112.62167))}, {'frame': 206, 'label': 'person', 'confidence': np.float32(0.8650707), 'bbox': (np.float32(938.18396), np.float32(94.058395), np.float32(991.4477), np.float32(215.56288)), 'referee': True}, {'frame': 206, 'label': 'person', 'confidence': np.float32(0.843845), 'bbox': (np.float32(486.2175), np.float32(293.26425), np.float32(573.9567), np.float32(431.92346)), 'referee': True}, {'frame': 206, 'label': 'person', 'confidence': np.float32(0.8274807), 'bbox': (np.float32(1079.2921), np.float32(184.17036), np.float32(1149.5409), np.float32(303.4456)), 'referee': True}, {'frame': 206, 'label': 'person', 'confidence': np.float32(0.6680741), 'bbox': (np.float32(547.8765), np.float32(226.22513), np.float32(622.4164), np.float32(338.04782)), 'referee': True}, {'frame': 206, 'label': 'person', 'confidence': np.float32(0.4270127), 'bbox': (np.float32(310.4122), np.float32(566.5815), np.float32(371.68524), np.float32(678.9672))}, {'frame': 206, 'label': 'person', 'confidence': np.float32(0.41641492), 'bbox': (np.float32(341.74323), np.float32(135.57832), np.float32(423.85373), np.float32(220.46782)), 'team': 1, 'referee': True}, {'frame': 206, 'label': 'person', 'confidence': np.float32(0.2857205), 'bbox': (np.float32(540.69495), np.float32(263.7365), np.float32(610.2996), np.float32(375.09622)), 'referee': True}, {'frame': 207, 'label': 'person', 'confidence': np.float32(0.8590092), 'bbox': (np.float32(939.2756), np.float32(95.00712), np.float32(993.17804), np.float32(216.72833)), 'team': 0, 'referee': True}, {'frame': 207, 'label': 'person', 'confidence': np.float32(0.84246933), 'bbox': (np.float32(485.96997), np.float32(292.99698), np.float32(571.78296), np.float32(432.23965)), 'referee': True}, {'frame': 207, 'label': 'person', 'confidence': np.float32(0.8209297), 'bbox': (np.float32(1078.9695), np.float32(183.55046), np.float32(1149.8665), np.float32(303.80072)), 'referee': True}, {'frame': 207, 'label': 'person', 'confidence': np.float32(0.6388699), 'bbox': (np.float32(551.73193), np.float32(226.52814), np.float32(625.2292), np.float32(336.0643)), 'referee': True}, {'frame': 207, 'label': 'person', 'confidence': np.float32(0.46902677), 'bbox': (np.float32(343.34125), np.float32(145.82309), np.float32(426.86194), np.float32(223.33472)), 'team': 1, 'referee': True}, {'frame': 207, 'label': 'person', 'confidence': np.float32(0.4443156), 'bbox': (np.float32(310.8588), np.float32(570.78845), np.float32(373.93683), np.float32(685.32715))}, {'frame': 207, 'label': 'person', 'confidence': np.float32(0.3788907), 'bbox': (np.float32(539.7167), np.float32(267.46173), np.float32(613.5775), np.float32(372.2317)), 'referee': True}, {'frame': 207, 'label': 'baseball bat', 'confidence': np.float32(0.29631555), 'bbox': (np.float32(603.5342), np.float32(316.3622), np.float32(683.4522), np.float32(348.33093))}, {'frame': 207, 'label': 'person', 'confidence': np.float32(0.25823456), 'bbox': (np.float32(0.0), np.float32(58.7201), np.float32(42.940964), np.float32(111.19296))}, {'frame': 208, 'label': 'person', 'confidence': np.float32(0.8532917), 'bbox': (np.float32(941.4245), np.float32(94.202705), np.float32(994.7697), np.float32(215.2709)), 'referee': True}, {'frame': 208, 'label': 'person', 'confidence': np.float32(0.84678525), 'bbox': (np.float32(485.72955), np.float32(290.8889), np.float32(571.9085), np.float32(431.2784)), 'referee': True}, {'frame': 208, 'label': 'person', 'confidence': np.float32(0.8233017), 'bbox': (np.float32(1078.3485), np.float32(182.61243), np.float32(1152.0625), np.float32(303.6537)), 'referee': True}, {'frame': 208, 'label': 'person', 'confidence': np.float32(0.67763054), 'bbox': (np.float32(554.20184), np.float32(225.68929), np.float32(628.7899), np.float32(330.6623)), 'referee': True}, {'frame': 208, 'label': 'person', 'confidence': np.float32(0.46941534), 'bbox': (np.float32(343.5754), np.float32(141.98874), np.float32(431.40033), np.float32(223.15854)), 'team': 1, 'referee': True}, {'frame': 208, 'label': 'person', 'confidence': np.float32(0.43554112), 'bbox': (np.float32(310.83362), np.float32(571.9982), np.float32(374.29904), np.float32(685.66895))}, {'frame': 208, 'label': 'baseball bat', 'confidence': np.float32(0.34079567), 'bbox': (np.float32(605.21954), np.float32(315.1391), np.float32(686.2601), np.float32(346.93384))}, {'frame': 208, 'label': 'person', 'confidence': np.float32(0.32072973), 'bbox': (np.float32(541.5131), np.float32(262.462), np.float32(612.1638), np.float32(373.09055)), 'referee': True}, {'frame': 208, 'label': 'person', 'confidence': np.float32(0.29775882), 'bbox': (np.float32(0.0), np.float32(57.77018), np.float32(43.17544), np.float32(113.57806))}, {'frame': 208, 'label': 'baseball bat', 'confidence': np.float32(0.28055817), 'bbox': (np.float32(1011.25055), np.float32(248.51918), np.float32(1087.9679), np.float32(301.3315))}, {'frame': 209, 'label': 'person', 'confidence': np.float32(0.8594819), 'bbox': (np.float32(941.3657), np.float32(95.26025), np.float32(996.1549), np.float32(216.39046)), 'team': 0, 'referee': True}, {'frame': 209, 'label': 'person', 'confidence': np.float32(0.84910434), 'bbox': (np.float32(485.98828), np.float32(290.70172), np.float32(570.1497), np.float32(430.37775)), 'referee': True}, {'frame': 209, 'label': 'person', 'confidence': np.float32(0.8266132), 'bbox': (np.float32(1078.6393), np.float32(182.9116), np.float32(1151.9675), np.float32(303.76328)), 'referee': True}, {'frame': 209, 'label': 'person', 'confidence': np.float32(0.70119274), 'bbox': (np.float32(555.2714), np.float32(227.49298), np.float32(629.5556), np.float32(322.79263)), 'referee': True}, {'frame': 209, 'label': 'person', 'confidence': np.float32(0.44775608), 'bbox': (np.float32(345.68344), np.float32(148.04532), np.float32(432.14514), np.float32(223.39226)), 'team': 1, 'referee': True}, {'frame': 209, 'label': 'person', 'confidence': np.float32(0.41873327), 'bbox': (np.float32(313.5306), np.float32(573.00323), np.float32(374.6056), np.float32(692.9653))}, {'frame': 209, 'label': 'person', 'confidence': np.float32(0.36928558), 'bbox': (np.float32(193.61667), np.float32(421.06488), np.float32(295.19986), np.float32(532.6114)), 'referee': True}, {'frame': 209, 'label': 'person', 'confidence': np.float32(0.3157527), 'bbox': (np.float32(0.0), np.float32(57.14804), np.float32(44.350388), np.float32(114.40448))}, {'frame': 210, 'label': 'person', 'confidence': np.float32(0.8766801), 'bbox': (np.float32(946.00366), np.float32(92.10922), np.float32(998.98285), np.float32(215.44624)), 'referee': True}, {'frame': 210, 'label': 'person', 'confidence': np.float32(0.8415127), 'bbox': (np.float32(485.87616), np.float32(289.54074), np.float32(569.2804), np.float32(431.27316)), 'referee': True}, {'frame': 210, 'label': 'person', 'confidence': np.float32(0.8390081), 'bbox': (np.float32(1079.511), np.float32(182.75833), np.float32(1152.2954), np.float32(303.01767)), 'referee': True}, {'frame': 210, 'label': 'person', 'confidence': np.float32(0.6958076), 'bbox': (np.float32(563.6863), np.float32(225.38066), np.float32(629.4106), np.float32(318.84927)), 'referee': True}, {'frame': 210, 'label': 'person', 'confidence': np.float32(0.46798685), 'bbox': (np.float32(312.22845), np.float32(576.23145), np.float32(376.85828), np.float32(712.49365))}, {'frame': 210, 'label': 'person', 'confidence': np.float32(0.441416), 'bbox': (np.float32(197.48665), np.float32(423.2832), np.float32(310.58298), np.float32(534.5998)), 'referee': True}, {'frame': 210, 'label': 'person', 'confidence': np.float32(0.41615453), 'bbox': (np.float32(347.25128), np.float32(147.70888), np.float32(435.04144), np.float32(223.5534)), 'team': 1, 'referee': True}, {'frame': 210, 'label': 'baseball bat', 'confidence': np.float32(0.37907147), 'bbox': (np.float32(1010.67194), np.float32(245.36235), np.float32(1087.8737), np.float32(299.7866))}, {'frame': 210, 'label': 'person', 'confidence': np.float32(0.35738426), 'bbox': (np.float32(538.41675), np.float32(262.82965), np.float32(617.63214), np.float32(365.0228)), 'referee': True}, {'frame': 210, 'label': 'baseball bat', 'confidence': np.float32(0.3442804), 'bbox': (np.float32(600.3205), np.float32(315.0295), np.float32(694.49225), np.float32(346.78265))}, {'frame': 210, 'label': 'skis', 'confidence': np.float32(0.27127808), 'bbox': (np.float32(599.26605), np.float32(313.4849), np.float32(690.6731), np.float32(348.11545)), 'referee': True}, {'frame': 211, 'label': 'person', 'confidence': np.float32(0.88727504), 'bbox': (np.float32(948.1506), np.float32(89.263016), np.float32(1000.9602), np.float32(215.17679)), 'referee': True}, {'frame': 211, 'label': 'person', 'confidence': np.float32(0.8433619), 'bbox': (np.float32(1078.6758), np.float32(181.74342), np.float32(1151.8033), np.float32(302.94507)), 'referee': True}, {'frame': 211, 'label': 'person', 'confidence': np.float32(0.8404108), 'bbox': (np.float32(485.83072), np.float32(286.94293), np.float32(567.42865), np.float32(430.60703)), 'referee': True}, {'frame': 211, 'label': 'person', 'confidence': np.float32(0.71312076), 'bbox': (np.float32(565.43024), np.float32(225.00327), np.float32(630.2915), np.float32(318.68585)), 'referee': True}, {'frame': 211, 'label': 'person', 'confidence': np.float32(0.48515877), 'bbox': (np.float32(312.36047), np.float32(578.3762), np.float32(378.18216), np.float32(712.2772))}, {'frame': 211, 'label': 'person', 'confidence': np.float32(0.45286712), 'bbox': (np.float32(347.19986), np.float32(149.54245), np.float32(440.80215), np.float32(224.14285)), 'team': 1, 'referee': True}, {'frame': 211, 'label': 'person', 'confidence': np.float32(0.36970547), 'bbox': (np.float32(537.7935), np.float32(262.4348), np.float32(618.92126), np.float32(367.26056)), 'referee': True}, {'frame': 211, 'label': 'person', 'confidence': np.float32(0.3631293), 'bbox': (np.float32(199.98827), np.float32(424.48615), np.float32(298.9134), np.float32(535.4057)), 'referee': True}, {'frame': 211, 'label': 'baseball bat', 'confidence': np.float32(0.3447937), 'bbox': (np.float32(600.1829), np.float32(314.84848), np.float32(694.7897), np.float32(346.87878))}, {'frame': 211, 'label': 'skis', 'confidence': np.float32(0.33364534), 'bbox': (np.float32(598.9594), np.float32(313.8233), np.float32(691.32117), np.float32(350.52396)), 'referee': True}, {'frame': 211, 'label': 'baseball bat', 'confidence': np.float32(0.3037257), 'bbox': (np.float32(1009.9953), np.float32(244.49794), np.float32(1087.7502), np.float32(299.74435))}, {'frame': 212, 'label': 'person', 'confidence': np.float32(0.8855071), 'bbox': (np.float32(948.5713), np.float32(89.16567), np.float32(1002.51404), np.float32(215.584)), 'referee': True}, {'frame': 212, 'label': 'person', 'confidence': np.float32(0.8467356), 'bbox': (np.float32(1079.7283), np.float32(181.65921), np.float32(1151.437), np.float32(302.30276)), 'referee': True}, {'frame': 212, 'label': 'person', 'confidence': np.float32(0.8276181), 'bbox': (np.float32(485.42206), np.float32(285.75894), np.float32(567.9368), np.float32(430.4111)), 'referee': True}, {'frame': 212, 'label': 'person', 'confidence': np.float32(0.6981286), 'bbox': (np.float32(565.8559), np.float32(226.44637), np.float32(632.4422), np.float32(317.24054)), 'referee': True}, {'frame': 212, 'label': 'person', 'confidence': np.float32(0.521927), 'bbox': (np.float32(312.7241), np.float32(584.21075), np.float32(379.9865), np.float32(715.1787))}, {'frame': 212, 'label': 'person', 'confidence': np.float32(0.41125762), 'bbox': (np.float32(349.3742), np.float32(150.54265), np.float32(442.73505), np.float32(224.69472)), 'team': 1, 'referee': True}, {'frame': 212, 'label': 'skis', 'confidence': np.float32(0.36790887), 'bbox': (np.float32(598.13763), np.float32(311.87625), np.float32(692.285), np.float32(348.951))}, {'frame': 212, 'label': 'person', 'confidence': np.float32(0.34811336), 'bbox': (np.float32(201.21191), np.float32(425.1229), np.float32(295.94763), np.float32(539.7766)), 'referee': True}, {'frame': 212, 'label': 'person', 'confidence': np.float32(0.34532267), 'bbox': (np.float32(537.445), np.float32(264.5693), np.float32(607.8927), np.float32(353.0922)), 'referee': True}, {'frame': 212, 'label': 'skis', 'confidence': np.float32(0.31837478), 'bbox': (np.float32(552.103), np.float32(346.98666), np.float32(622.3979), np.float32(377.91745))}, {'frame': 213, 'label': 'person', 'confidence': np.float32(0.8894352), 'bbox': (np.float32(951.01465), np.float32(87.60391), np.float32(1005.94257), np.float32(214.1725)), 'referee': True}, {'frame': 213, 'label': 'person', 'confidence': np.float32(0.8548993), 'bbox': (np.float32(1079.1405), np.float32(179.43985), np.float32(1150.5988), np.float32(301.22864)), 'referee': True}, {'frame': 213, 'label': 'person', 'confidence': np.float32(0.85387003), 'bbox': (np.float32(483.45032), np.float32(280.69962), np.float32(568.5439), np.float32(426.0751)), 'referee': True}, {'frame': 213, 'label': 'person', 'confidence': np.float32(0.72092843), 'bbox': (np.float32(565.6545), np.float32(225.74799), np.float32(635.0887), np.float32(318.58585)), 'referee': True}, {'frame': 213, 'label': 'person', 'confidence': np.float32(0.51256824), 'bbox': (np.float32(314.86102), np.float32(587.3726), np.float32(381.0477), np.float32(715.6621))}, {'frame': 213, 'label': 'skis', 'confidence': np.float32(0.3649784), 'bbox': (np.float32(596.67035), np.float32(308.84897), np.float32(692.0995), np.float32(344.8054))}, {'frame': 213, 'label': 'person', 'confidence': np.float32(0.30832216), 'bbox': (np.float32(349.62027), np.float32(149.0498), np.float32(441.5), np.float32(224.64902)), 'team': 1, 'referee': True}, {'frame': 213, 'label': 'person', 'confidence': np.float32(0.28646272), 'bbox': (np.float32(202.92763), np.float32(425.2404), np.float32(302.49017), np.float32(540.60925)), 'referee': True}, {'frame': 213, 'label': 'skis', 'confidence': np.float32(0.28467464), 'bbox': (np.float32(556.09), np.float32(348.44318), np.float32(627.734), np.float32(376.9801))}, {'frame': 213, 'label': 'person', 'confidence': np.float32(0.27990055), 'bbox': (np.float32(538.1729), np.float32(263.17615), np.float32(603.21063), np.float32(347.2402)), 'referee': True}, {'frame': 214, 'label': 'person', 'confidence': np.float32(0.8870681), 'bbox': (np.float32(952.5403), np.float32(86.175415), np.float32(1008.45654), np.float32(214.21649)), 'referee': True}, {'frame': 214, 'label': 'person', 'confidence': np.float32(0.8631545), 'bbox': (np.float32(1080.1489), np.float32(178.2948), np.float32(1150.2397), np.float32(300.52347)), 'referee': True}, {'frame': 214, 'label': 'person', 'confidence': np.float32(0.849101), 'bbox': (np.float32(482.96997), np.float32(278.6386), np.float32(567.39355), np.float32(427.00122)), 'referee': True}, {'frame': 214, 'label': 'person', 'confidence': np.float32(0.70484775), 'bbox': (np.float32(566.1872), np.float32(225.22261), np.float32(635.694), np.float32(318.2002)), 'referee': True}, {'frame': 214, 'label': 'person', 'confidence': np.float32(0.5900938), 'bbox': (np.float32(316.53708), np.float32(590.6803), np.float32(383.19247), np.float32(714.7889))}, {'frame': 214, 'label': 'person', 'confidence': np.float32(0.484623), 'bbox': (np.float32(349.56232), np.float32(146.25456), np.float32(444.26373), np.float32(225.84906)), 'team': 1, 'referee': True}, {'frame': 214, 'label': 'skis', 'confidence': np.float32(0.38838115), 'bbox': (np.float32(596.10034), np.float32(309.2402), np.float32(693.18945), np.float32(344.5479))}, {'frame': 214, 'label': 'skis', 'confidence': np.float32(0.29897574), 'bbox': (np.float32(558.1075), np.float32(349.51782), np.float32(623.2221), np.float32(376.5464))}, {'frame': 214, 'label': 'person', 'confidence': np.float32(0.25591055), 'bbox': (np.float32(1042.994), np.float32(46.582787), np.float32(1074.735), np.float32(75.80293)), 'team': 1}, {'frame': 215, 'label': 'person', 'confidence': np.float32(0.88983774), 'bbox': (np.float32(956.9556), np.float32(82.95835), np.float32(1011.68524), np.float32(211.31354)), 'referee': True}, {'frame': 215, 'label': 'person', 'confidence': np.float32(0.86536914), 'bbox': (np.float32(1081.752), np.float32(173.67401), np.float32(1149.8518), np.float32(298.0898)), 'referee': True}, {'frame': 215, 'label': 'person', 'confidence': np.float32(0.80795324), 'bbox': (np.float32(482.5374), np.float32(276.62997), np.float32(566.7684), np.float32(428.73843)), 'referee': True}, {'frame': 215, 'label': 'person', 'confidence': np.float32(0.63686025), 'bbox': (np.float32(567.2139), np.float32(223.20331), np.float32(634.6978), np.float32(322.31335)), 'referee': True}, {'frame': 215, 'label': 'person', 'confidence': np.float32(0.5741253), 'bbox': (np.float32(316.47974), np.float32(596.97107), np.float32(385.8825), np.float32(715.1148))}, {'frame': 215, 'label': 'skis', 'confidence': np.float32(0.38883734), 'bbox': (np.float32(603.1851), np.float32(306.05402), np.float32(696.99023), np.float32(345.01242))}, {'frame': 215, 'label': 'person', 'confidence': np.float32(0.31810322), 'bbox': (np.float32(350.35043), np.float32(141.40137), np.float32(445.6536), np.float32(226.05121)), 'team': 1, 'referee': True}, {'frame': 215, 'label': 'person', 'confidence': np.float32(0.28272027), 'bbox': (np.float32(299.15884), np.float32(4.2030144), np.float32(346.8594), np.float32(71.09608))}, {'frame': 215, 'label': 'person', 'confidence': np.float32(0.2766428), 'bbox': (np.float32(538.4081), np.float32(248.44601), np.float32(619.2079), np.float32(348.2061)), 'referee': True}, {'frame': 215, 'label': 'person', 'confidence': np.float32(0.273302), 'bbox': (np.float32(18.780468), np.float32(45.611744), np.float32(67.36292), np.float32(111.38041))}, {'frame': 215, 'label': 'person', 'confidence': np.float32(0.26602688), 'bbox': (np.float32(257.61108), np.float32(582.61505), np.float32(321.7357), np.float32(677.68146))}, {'frame': 216, 'label': 'person', 'confidence': np.float32(0.8946148), 'bbox': (np.float32(959.5649), np.float32(81.38084), np.float32(1011.9875), np.float32(206.89601)), 'referee': True}, {'frame': 216, 'label': 'person', 'confidence': np.float32(0.8563194), 'bbox': (np.float32(1082.943), np.float32(170.23447), np.float32(1149.7653), np.float32(296.1839)), 'referee': True}, {'frame': 216, 'label': 'person', 'confidence': np.float32(0.8114602), 'bbox': (np.float32(481.92502), np.float32(274.89706), np.float32(567.58307), np.float32(426.87155)), 'referee': True}, {'frame': 216, 'label': 'person', 'confidence': np.float32(0.6239462), 'bbox': (np.float32(578.5064), np.float32(220.68929), np.float32(634.1079), np.float32(321.6964)), 'referee': True}, {'frame': 216, 'label': 'person', 'confidence': np.float32(0.5793791), 'bbox': (np.float32(317.03445), np.float32(598.15576), np.float32(386.68433), np.float32(715.09985))}, {'frame': 216, 'label': 'person', 'confidence': np.float32(0.3382747), 'bbox': (np.float32(542.6272), np.float32(226.49825), np.float32(629.84393), np.float32(342.88727)), 'referee': True}, {'frame': 216, 'label': 'skis', 'confidence': np.float32(0.3244297), 'bbox': (np.float32(616.0358), np.float32(307.71005), np.float32(696.0712), np.float32(338.45905))}, {'frame': 216, 'label': 'person', 'confidence': np.float32(0.29252985), 'bbox': (np.float32(16.913061), np.float32(43.320198), np.float32(65.77142), np.float32(110.17269))}, {'frame': 216, 'label': 'person', 'confidence': np.float32(0.29019377), 'bbox': (np.float32(350.77692), np.float32(143.25757), np.float32(445.91248), np.float32(224.68448)), 'team': 1, 'referee': True}, {'frame': 216, 'label': 'person', 'confidence': np.float32(0.2861707), 'bbox': (np.float32(207.14038), np.float32(430.06152), np.float32(314.58838), np.float32(566.38556)), 'referee': True}, {'frame': 216, 'label': 'chair', 'confidence': np.float32(0.2689773), 'bbox': (np.float32(1198.6564), np.float32(62.746613), np.float32(1235.495), np.float32(89.487335))}, {'frame': 216, 'label': 'person', 'confidence': np.float32(0.25923693), 'bbox': (np.float32(299.65897), np.float32(2.998479), np.float32(347.82758), np.float32(67.72186))}, {'frame': 217, 'label': 'person', 'confidence': np.float32(0.8910116), 'bbox': (np.float32(960.6769), np.float32(78.07766), np.float32(1014.9053), np.float32(204.20674)), 'referee': True}, {'frame': 217, 'label': 'person', 'confidence': np.float32(0.8570442), 'bbox': (np.float32(1082.0964), np.float32(165.85144), np.float32(1149.6892), np.float32(294.60425)), 'referee': True}, {'frame': 217, 'label': 'person', 'confidence': np.float32(0.8099637), 'bbox': (np.float32(479.98755), np.float32(274.61154), np.float32(566.8375), np.float32(425.1714)), 'referee': True}, {'frame': 217, 'label': 'person', 'confidence': np.float32(0.5654389), 'bbox': (np.float32(579.7097), np.float32(218.76263), np.float32(636.7506), np.float32(322.3508)), 'referee': True}, {'frame': 217, 'label': 'person', 'confidence': np.float32(0.4988444), 'bbox': (np.float32(536.99066), np.float32(223.34436), np.float32(631.5766), np.float32(338.613)), 'referee': True}, {'frame': 217, 'label': 'person', 'confidence': np.float32(0.46710902), 'bbox': (np.float32(319.08392), np.float32(601.06775), np.float32(387.73593), np.float32(717.22943))}, {'frame': 217, 'label': 'person', 'confidence': np.float32(0.4530613), 'bbox': (np.float32(347.8282), np.float32(145.15443), np.float32(449.8917), np.float32(224.89055)), 'team': 1, 'referee': True}, {'frame': 217, 'label': 'person', 'confidence': np.float32(0.30804598), 'bbox': (np.float32(298.61322), np.float32(1.6748598), np.float32(347.40866), np.float32(63.044395))}, {'frame': 217, 'label': 'person', 'confidence': np.float32(0.3069646), 'bbox': (np.float32(17.096535), np.float32(41.72723), np.float32(64.90127), np.float32(108.30782))}, {'frame': 217, 'label': 'skis', 'confidence': np.float32(0.29036847), 'bbox': (np.float32(608.8354), np.float32(302.6903), np.float32(698.5458), np.float32(338.01508))}, {'frame': 218, 'label': 'person', 'confidence': np.float32(0.89025277), 'bbox': (np.float32(960.733), np.float32(76.54101), np.float32(1016.5911), np.float32(203.94008)), 'referee': True}, {'frame': 218, 'label': 'person', 'confidence': np.float32(0.8638143), 'bbox': (np.float32(1081.038), np.float32(164.56038), np.float32(1148.9606), np.float32(294.07614)), 'referee': True}, {'frame': 218, 'label': 'person', 'confidence': np.float32(0.827758), 'bbox': (np.float32(478.6777), np.float32(274.61743), np.float32(565.44037), np.float32(425.6019)), 'referee': True}, {'frame': 218, 'label': 'person', 'confidence': np.float32(0.597468), 'bbox': (np.float32(542.75433), np.float32(220.20782), np.float32(636.32806), np.float32(340.02698)), 'referee': True}, {'frame': 218, 'label': 'person', 'confidence': np.float32(0.47575358), 'bbox': (np.float32(318.08264), np.float32(607.33527), np.float32(387.64883), np.float32(717.52136))}, {'frame': 218, 'label': 'baseball bat', 'confidence': np.float32(0.43269816), 'bbox': (np.float32(613.2327), np.float32(301.79724), np.float32(699.725), np.float32(335.1685))}, {'frame': 218, 'label': 'person', 'confidence': np.float32(0.38481715), 'bbox': (np.float32(0.0), np.float32(594.8055), np.float32(78.63609), np.float32(719.1012))}, {'frame': 218, 'label': 'person', 'confidence': np.float32(0.38325006), 'bbox': (np.float32(15.093069), np.float32(42.61455), np.float32(65.36721), np.float32(109.20748))}, {'frame': 218, 'label': 'person', 'confidence': np.float32(0.38041782), 'bbox': (np.float32(348.14694), np.float32(144.43634), np.float32(451.03625), np.float32(225.55235)), 'team': 1, 'referee': True}, {'frame': 218, 'label': 'person', 'confidence': np.float32(0.3496938), 'bbox': (np.float32(582.2448), np.float32(219.01823), np.float32(635.08295), np.float32(314.2864)), 'referee': True}, {'frame': 218, 'label': 'skis', 'confidence': np.float32(0.34431323), 'bbox': (np.float32(612.1921), np.float32(302.46384), np.float32(699.47314), np.float32(336.2086))}, {'frame': 218, 'label': 'person', 'confidence': np.float32(0.32506868), 'bbox': (np.float32(207.34494), np.float32(434.63272), np.float32(313.09436), np.float32(574.33563)), 'referee': True}, {'frame': 218, 'label': 'person', 'confidence': np.float32(0.31368524), 'bbox': (np.float32(298.7495), np.float32(0.6730642), np.float32(347.14877), np.float32(62.46832))}, {'frame': 218, 'label': 'person', 'confidence': np.float32(0.30615827), 'bbox': (np.float32(1040.9022), np.float32(44.130024), np.float32(1072.9835), np.float32(72.9879)), 'team': 1}, {'frame': 218, 'label': 'chair', 'confidence': np.float32(0.2651643), 'bbox': (np.float32(1220.592), np.float32(55.263092), np.float32(1265.9697), np.float32(86.94304))}, {'frame': 219, 'label': 'person', 'confidence': np.float32(0.89676183), 'bbox': (np.float32(964.52313), np.float32(71.23183), np.float32(1021.3191), np.float32(202.60284)), 'referee': True}, {'frame': 219, 'label': 'person', 'confidence': np.float32(0.86478806), 'bbox': (np.float32(1081.2538), np.float32(160.04926), np.float32(1147.801), np.float32(292.0852)), 'referee': True}, {'frame': 219, 'label': 'person', 'confidence': np.float32(0.8171606), 'bbox': (np.float32(475.5633), np.float32(270.335), np.float32(564.5557), np.float32(423.34555)), 'referee': True}, {'frame': 219, 'label': 'person', 'confidence': np.float32(0.55929977), 'bbox': (np.float32(317.3525), np.float32(613.3489), np.float32(387.9516), np.float32(719.5334))}, {'frame': 219, 'label': 'person', 'confidence': np.float32(0.47695982), 'bbox': (np.float32(542.4773), np.float32(221.49146), np.float32(638.4863), np.float32(338.51907)), 'referee': True}, {'frame': 219, 'label': 'person', 'confidence': np.float32(0.45786342), 'bbox': (np.float32(209.98073), np.float32(438.618), np.float32(288.50867), np.float32(568.9108)), 'referee': True}, {'frame': 219, 'label': 'person', 'confidence': np.float32(0.41082093), 'bbox': (np.float32(583.07007), np.float32(218.0912), np.float32(639.78955), np.float32(308.23288)), 'referee': True}, {'frame': 219, 'label': 'skis', 'confidence': np.float32(0.39299986), 'bbox': (np.float32(601.06085), np.float32(299.71033), np.float32(703.00757), np.float32(336.42545))}, {'frame': 219, 'label': 'person', 'confidence': np.float32(0.37663314), 'bbox': (np.float32(0.6373702), np.float32(36.917248), np.float32(51.383595), np.float32(105.26975))}, {'frame': 219, 'label': 'person', 'confidence': np.float32(0.34540302), 'bbox': (np.float32(298.9405), np.float32(0.212669), np.float32(347.90652), np.float32(61.38886))}, {'frame': 219, 'label': 'person', 'confidence': np.float32(0.33020455), 'bbox': (np.float32(349.07135), np.float32(142.36742), np.float32(452.5465), np.float32(225.60085)), 'team': 1, 'referee': True}, {'frame': 219, 'label': 'person', 'confidence': np.float32(0.2767674), 'bbox': (np.float32(1043.077), np.float32(42.97073), np.float32(1076.4608), np.float32(70.6088)), 'team': 1}, {'frame': 219, 'label': 'chair', 'confidence': np.float32(0.27067026), 'bbox': (np.float32(1232.3597), np.float32(55.879383), np.float32(1268.0), np.float32(83.998436))}, {'frame': 219, 'label': 'person', 'confidence': np.float32(0.26435274), 'bbox': (np.float32(0.0), np.float32(607.5822), np.float32(72.94635), np.float32(719.4139))}, {'frame': 220, 'label': 'person', 'confidence': np.float32(0.8969788), 'bbox': (np.float32(967.20795), np.float32(67.86167), np.float32(1025.8215), np.float32(203.03003)), 'referee': True}, {'frame': 220, 'label': 'person', 'confidence': np.float32(0.8757034), 'bbox': (np.float32(1081.0546), np.float32(156.43715), np.float32(1145.9537), np.float32(288.0103)), 'referee': True}, {'frame': 220, 'label': 'person', 'confidence': np.float32(0.8507617), 'bbox': (np.float32(475.94757), np.float32(268.68344), np.float32(564.6205), np.float32(416.58447)), 'referee': True}, {'frame': 220, 'label': 'person', 'confidence': np.float32(0.6049301), 'bbox': (np.float32(316.39532), np.float32(618.88715), np.float32(388.96854), np.float32(717.8158))}, {'frame': 220, 'label': 'person', 'confidence': np.float32(0.5206915), 'bbox': (np.float32(577.17255), np.float32(218.11768), np.float32(652.24274), np.float32(321.2199)), 'referee': True}, {'frame': 220, 'label': 'person', 'confidence': np.float32(0.51445526), 'bbox': (np.float32(3.6440966), np.float32(34.478657), np.float32(55.274864), np.float32(104.33163))}, {'frame': 220, 'label': 'person', 'confidence': np.float32(0.4301167), 'bbox': (np.float32(353.7909), np.float32(138.77046), np.float32(455.99765), np.float32(225.2851)), 'team': 1, 'referee': True}, {'frame': 220, 'label': 'baseball bat', 'confidence': np.float32(0.42845613), 'bbox': (np.float32(609.87854), np.float32(300.12418), np.float32(700.761), np.float32(330.23163))}, {'frame': 220, 'label': 'baseball bat', 'confidence': np.float32(0.31638688), 'bbox': (np.float32(1012.0137), np.float32(223.99727), np.float32(1087.8755), np.float32(292.35507))}, {'frame': 220, 'label': 'person', 'confidence': np.float32(0.2900949), 'bbox': (np.float32(148.68608), np.float32(547.7505), np.float32(203.93483), np.float32(678.57697))}, {'frame': 220, 'label': 'person', 'confidence': np.float32(0.2668851), 'bbox': (np.float32(370.69785), np.float32(640.57336), np.float32(419.47427), np.float32(715.19183))}, {'frame': 221, 'label': 'person', 'confidence': np.float32(0.9039922), 'bbox': (np.float32(972.13995), np.float32(63.93279), np.float32(1029.511), np.float32(200.92038)), 'referee': True}, {'frame': 221, 'label': 'person', 'confidence': np.float32(0.8755428), 'bbox': (np.float32(477.86395), np.float32(261.0379), np.float32(565.3276), np.float32(415.72028)), 'referee': True}, {'frame': 221, 'label': 'person', 'confidence': np.float32(0.8712045), 'bbox': (np.float32(1079.4453), np.float32(152.27171), np.float32(1146.019), np.float32(286.57474)), 'referee': True}, {'frame': 221, 'label': 'person', 'confidence': np.float32(0.60292286), 'bbox': (np.float32(579.288), np.float32(217.4768), np.float32(664.48126), np.float32(332.07938)), 'referee': True}, {'frame': 221, 'label': 'person', 'confidence': np.float32(0.5214828), 'bbox': (np.float32(0.55156386), np.float32(31.733381), np.float32(54.214878), np.float32(103.934395))}, {'frame': 221, 'label': 'person', 'confidence': np.float32(0.42191574), 'bbox': (np.float32(317.04218), np.float32(623.99896), np.float32(389.74332), np.float32(720.0))}, {'frame': 221, 'label': 'baseball bat', 'confidence': np.float32(0.3944793), 'bbox': (np.float32(610.0841), np.float32(299.8657), np.float32(703.61896), np.float32(329.46545))}, {'frame': 221, 'label': 'person', 'confidence': np.float32(0.35469696), 'bbox': (np.float32(538.0591), np.float32(234.41205), np.float32(595.88464), np.float32(339.06015)), 'referee': True}, {'frame': 221, 'label': 'person', 'confidence': np.float32(0.33750013), 'bbox': (np.float32(356.4476), np.float32(136.7189), np.float32(462.04373), np.float32(225.34683)), 'team': 1, 'referee': True}, {'frame': 221, 'label': 'baseball bat', 'confidence': np.float32(0.25560978), 'bbox': (np.float32(1006.6306), np.float32(220.03795), np.float32(1085.977), np.float32(292.9377))}, {'frame': 222, 'label': 'person', 'confidence': np.float32(0.905782), 'bbox': (np.float32(973.71436), np.float32(60.216972), np.float32(1035.0011), np.float32(200.73427)), 'referee': True}, {'frame': 222, 'label': 'person', 'confidence': np.float32(0.8636979), 'bbox': (np.float32(1079.5371), np.float32(147.8113), np.float32(1146.3064), np.float32(284.25168)), 'referee': True}, {'frame': 222, 'label': 'person', 'confidence': np.float32(0.8410697), 'bbox': (np.float32(476.4589), np.float32(256.81302), np.float32(567.14014), np.float32(414.2687)), 'referee': True}, {'frame': 222, 'label': 'person', 'confidence': np.float32(0.6041107), 'bbox': (np.float32(574.4936), np.float32(216.9221), np.float32(675.99567), np.float32(335.04874)), 'referee': True}, {'frame': 222, 'label': 'person', 'confidence': np.float32(0.50999916), 'bbox': (np.float32(356.906), np.float32(132.77834), np.float32(465.74875), np.float32(224.5499)), 'team': 1, 'referee': True}, {'frame': 222, 'label': 'person', 'confidence': np.float32(0.47143725), 'bbox': (np.float32(537.4872), np.float32(229.91473), np.float32(595.42413), np.float32(337.68805)), 'referee': True}, {'frame': 222, 'label': 'person', 'confidence': np.float32(0.46287054), 'bbox': (np.float32(319.38348), np.float32(627.3388), np.float32(391.03586), np.float32(718.82874))}, {'frame': 222, 'label': 'person', 'confidence': np.float32(0.44243652), 'bbox': (np.float32(0.0), np.float32(28.398191), np.float32(49.639397), np.float32(100.214584))}, {'frame': 222, 'label': 'person', 'confidence': np.float32(0.41004968), 'bbox': (np.float32(218.15842), np.float32(448.05334), np.float32(296.6675), np.float32(593.2846)), 'referee': True}, {'frame': 222, 'label': 'person', 'confidence': np.float32(0.28299832), 'bbox': (np.float32(1243.59), np.float32(504.4401), np.float32(1268.0), np.float32(624.8826))}, {'frame': 223, 'label': 'person', 'confidence': np.float32(0.89627236), 'bbox': (np.float32(978.8481), np.float32(55.477493), np.float32(1038.1705), np.float32(198.21983)), 'referee': True}, {'frame': 223, 'label': 'person', 'confidence': np.float32(0.8673519), 'bbox': (np.float32(1079.2577), np.float32(146.94742), np.float32(1145.1974), np.float32(281.79587)), 'referee': True}, {'frame': 223, 'label': 'person', 'confidence': np.float32(0.8133944), 'bbox': (np.float32(472.26767), np.float32(254.10046), np.float32(567.2527), np.float32(414.18018)), 'referee': True}, {'frame': 223, 'label': 'person', 'confidence': np.float32(0.623784), 'bbox': (np.float32(576.4873), np.float32(215.99794), np.float32(683.012), np.float32(327.72018)), 'referee': True}, {'frame': 223, 'label': 'person', 'confidence': np.float32(0.49882033), 'bbox': (np.float32(534.6819), np.float32(226.20665), np.float32(597.3966), np.float32(334.8275)), 'referee': True}, {'frame': 223, 'label': 'person', 'confidence': np.float32(0.4880113), 'bbox': (np.float32(218.51208), np.float32(447.02954), np.float32(300.04578), np.float32(596.1076)), 'referee': True}, {'frame': 223, 'label': 'person', 'confidence': np.float32(0.46936297), 'bbox': (np.float32(0.0), np.float32(26.577553), np.float32(48.362156), np.float32(98.52644))}, {'frame': 223, 'label': 'person', 'confidence': np.float32(0.45737368), 'bbox': (np.float32(356.2133), np.float32(134.80762), np.float32(469.35895), np.float32(225.17673)), 'team': 1, 'referee': True}, {'frame': 223, 'label': 'person', 'confidence': np.float32(0.43391967), 'bbox': (np.float32(321.6564), np.float32(630.0718), np.float32(392.3166), np.float32(719.05725))}, {'frame': 223, 'label': 'person', 'confidence': np.float32(0.34134865), 'bbox': (np.float32(1242.763), np.float32(501.85962), np.float32(1268.0), np.float32(624.06995))}, {'frame': 223, 'label': 'person', 'confidence': np.float32(0.28732944), 'bbox': (np.float32(0.0), np.float32(618.8746), np.float32(62.1213), np.float32(714.36694))}, {'frame': 224, 'label': 'person', 'confidence': np.float32(0.88466376), 'bbox': (np.float32(982.8087), np.float32(52.023727), np.float32(1041.8726), np.float32(193.8076)), 'referee': True}, {'frame': 224, 'label': 'person', 'confidence': np.float32(0.8670795), 'bbox': (np.float32(1079.1797), np.float32(140.87329), np.float32(1147.4448), np.float32(279.84985)), 'referee': True}, {'frame': 224, 'label': 'person', 'confidence': np.float32(0.8438176), 'bbox': (np.float32(472.0802), np.float32(251.87169), np.float32(568.0095), np.float32(412.3622)), 'referee': True}, {'frame': 224, 'label': 'person', 'confidence': np.float32(0.60357255), 'bbox': (np.float32(580.6578), np.float32(214.90295), np.float32(683.7777), np.float32(321.2914)), 'team': 1, 'referee': True}, {'frame': 224, 'label': 'person', 'confidence': np.float32(0.56951404), 'bbox': (np.float32(531.67456), np.float32(221.72438), np.float32(604.87634), np.float32(335.12018)), 'team': 0, 'referee': True}, {'frame': 224, 'label': 'person', 'confidence': np.float32(0.5259897), 'bbox': (np.float32(355.82144), np.float32(129.62143), np.float32(470.743), np.float32(224.04994)), 'team': 1, 'referee': True}, {'frame': 224, 'label': 'person', 'confidence': np.float32(0.4907466), 'bbox': (np.float32(219.34822), np.float32(448.64404), np.float32(301.9555), np.float32(601.86536)), 'referee': True}, {'frame': 224, 'label': 'person', 'confidence': np.float32(0.4408483), 'bbox': (np.float32(0.0), np.float32(23.810009), np.float32(46.303467), np.float32(97.00796))}, {'frame': 224, 'label': 'person', 'confidence': np.float32(0.38651213), 'bbox': (np.float32(1152.275), np.float32(468.09372), np.float32(1267.6016), np.float32(627.5697)), 'referee': True}, {'frame': 224, 'label': 'person', 'confidence': np.float32(0.33704096), 'bbox': (np.float32(326.35794), np.float32(635.3442), np.float32(388.72028), np.float32(718.7167))}, {'frame': 224, 'label': 'person', 'confidence': np.float32(0.27445912), 'bbox': (np.float32(0.0), np.float32(622.7048), np.float32(53.373573), np.float32(714.7843))}, {'frame': 225, 'label': 'person', 'confidence': np.float32(0.88217664), 'bbox': (np.float32(989.5631), np.float32(47.00327), np.float32(1048.8165), np.float32(189.91814)), 'team': 1, 'referee': True}, {'frame': 225, 'label': 'person', 'confidence': np.float32(0.8602874), 'bbox': (np.float32(1079.8682), np.float32(136.1017), np.float32(1147.9901), np.float32(276.63553)), 'referee': True}, {'frame': 225, 'label': 'person', 'confidence': np.float32(0.8319079), 'bbox': (np.float32(471.58475), np.float32(242.09277), np.float32(571.6408), np.float32(409.5943)), 'referee': True}, {'frame': 225, 'label': 'person', 'confidence': np.float32(0.6749591), 'bbox': (np.float32(585.61707), np.float32(213.04053), np.float32(686.9825), np.float32(319.035)), 'team': 1, 'referee': True}, {'frame': 225, 'label': 'person', 'confidence': np.float32(0.6370155), 'bbox': (np.float32(1154.4135), np.float32(463.20007), np.float32(1266.9963), np.float32(624.67847)), 'referee': True}, {'frame': 225, 'label': 'person', 'confidence': np.float32(0.6308295), 'bbox': (np.float32(358.53885), np.float32(121.2487), np.float32(474.48068), np.float32(224.34418)), 'team': 1, 'referee': True}, {'frame': 225, 'label': 'person', 'confidence': np.float32(0.5746974), 'bbox': (np.float32(528.4939), np.float32(221.24672), np.float32(608.0099), np.float32(335.68454)), 'team': 0, 'referee': True}, {'frame': 225, 'label': 'person', 'confidence': np.float32(0.44330007), 'bbox': (np.float32(327.76517), np.float32(643.4682), np.float32(397.81448), np.float32(718.0325))}, {'frame': 225, 'label': 'person', 'confidence': np.float32(0.39431947), 'bbox': (np.float32(0.14841954), np.float32(21.632738), np.float32(46.30905), np.float32(94.99045))}, {'frame': 225, 'label': 'baseball bat', 'confidence': np.float32(0.26188588), 'bbox': (np.float32(621.808), np.float32(294.05936), np.float32(714.78296), np.float32(323.86734)), 'team': 0}, {'frame': 226, 'label': 'person', 'confidence': np.float32(0.89378667), 'bbox': (np.float32(992.75574), np.float32(45.837826), np.float32(1056.4475), np.float32(187.0496)), 'team': 1, 'referee': True}, {'frame': 226, 'label': 'person', 'confidence': np.float32(0.8471334), 'bbox': (np.float32(1081.2863), np.float32(131.84009), np.float32(1148.2035), np.float32(273.5452)), 'referee': True}, {'frame': 226, 'label': 'person', 'confidence': np.float32(0.8146678), 'bbox': (np.float32(473.32343), np.float32(230.62035), np.float32(573.7685), np.float32(409.04123)), 'referee': True}, {'frame': 226, 'label': 'person', 'confidence': np.float32(0.76558805), 'bbox': (np.float32(358.5175), np.float32(124.97539), np.float32(476.55725), np.float32(223.79791)), 'team': 1, 'referee': True}, {'frame': 226, 'label': 'person', 'confidence': np.float32(0.7044738), 'bbox': (np.float32(582.6938), np.float32(211.51717), np.float32(687.49335), np.float32(321.83002)), 'referee': True}, {'frame': 226, 'label': 'person', 'confidence': np.float32(0.63521314), 'bbox': (np.float32(1158.6735), np.float32(455.79898), np.float32(1267.6229), np.float32(623.23926)), 'referee': True}, {'frame': 226, 'label': 'person', 'confidence': np.float32(0.5299971), 'bbox': (np.float32(330.68173), np.float32(651.288), np.float32(402.50284), np.float32(719.7715))}, {'frame': 226, 'label': 'person', 'confidence': np.float32(0.3910067), 'bbox': (np.float32(525.3403), np.float32(222.84737), np.float32(600.3216), np.float32(326.83566)), 'referee': True}, {'frame': 226, 'label': 'person', 'confidence': np.float32(0.31371543), 'bbox': (np.float32(0.40264928), np.float32(19.323597), np.float32(46.255093), np.float32(92.743095))}, {'frame': 226, 'label': 'baseball bat', 'confidence': np.float32(0.28423008), 'bbox': (np.float32(617.9995), np.float32(291.6578), np.float32(728.52716), np.float32(322.49005))}, {'frame': 226, 'label': 'skis', 'confidence': np.float32(0.2586433), 'bbox': (np.float32(589.31665), np.float32(291.4218), np.float32(727.5092), np.float32(327.60648)), 'referee': True}, {'frame': 227, 'label': 'person', 'confidence': np.float32(0.8785616), 'bbox': (np.float32(998.33624), np.float32(41.893265), np.float32(1064.2223), np.float32(187.39853)), 'team': 1, 'referee': True}, {'frame': 227, 'label': 'person', 'confidence': np.float32(0.8378932), 'bbox': (np.float32(475.31192), np.float32(227.75339), np.float32(576.89777), np.float32(406.27246)), 'referee': True}, {'frame': 227, 'label': 'person', 'confidence': np.float32(0.8319049), 'bbox': (np.float32(1080.3557), np.float32(127.37564), np.float32(1149.945), np.float32(272.4594)), 'referee': True}, {'frame': 227, 'label': 'person', 'confidence': np.float32(0.74145687), 'bbox': (np.float32(582.51556), np.float32(211.49182), np.float32(689.9539), np.float32(318.35257)), 'referee': True}, {'frame': 227, 'label': 'person', 'confidence': np.float32(0.7283865), 'bbox': (np.float32(359.43402), np.float32(127.929924), np.float32(479.07465), np.float32(223.62616)), 'team': 1, 'referee': True}, {'frame': 227, 'label': 'person', 'confidence': np.float32(0.54121995), 'bbox': (np.float32(332.8803), np.float32(654.72064), np.float32(409.99844), np.float32(718.7711))}, {'frame': 227, 'label': 'person', 'confidence': np.float32(0.3979486), 'bbox': (np.float32(0.07093061), np.float32(16.313374), np.float32(45.042385), np.float32(89.34495))}, {'frame': 227, 'label': 'baseball bat', 'confidence': np.float32(0.3268564), 'bbox': (np.float32(637.55066), np.float32(292.32416), np.float32(736.13324), np.float32(320.16382))}, {'frame': 227, 'label': 'person', 'confidence': np.float32(0.2892075), 'bbox': (np.float32(533.44727), np.float32(231.1114), np.float32(584.53503), np.float32(311.68576)), 'referee': True}, {'frame': 228, 'label': 'person', 'confidence': np.float32(0.86975414), 'bbox': (np.float32(1005.2204), np.float32(36.866234), np.float32(1075.4272), np.float32(184.754)), 'team': 1, 'referee': True}, {'frame': 228, 'label': 'person', 'confidence': np.float32(0.8653792), 'bbox': (np.float32(478.28915), np.float32(219.83289), np.float32(578.4011), np.float32(404.4904)), 'referee': True}, {'frame': 228, 'label': 'person', 'confidence': np.float32(0.8362049), 'bbox': (np.float32(1081.111), np.float32(124.53423), np.float32(1151.2794), np.float32(270.82736)), 'referee': True}, {'frame': 228, 'label': 'person', 'confidence': np.float32(0.7883561), 'bbox': (np.float32(581.82623), np.float32(210.90973), np.float32(691.368), np.float32(324.046)), 'referee': True}, {'frame': 228, 'label': 'person', 'confidence': np.float32(0.7447527), 'bbox': (np.float32(360.49084), np.float32(123.633896), np.float32(484.37054), np.float32(222.76959)), 'team': 1, 'referee': True}, {'frame': 228, 'label': 'person', 'confidence': np.float32(0.5551654), 'bbox': (np.float32(338.0585), np.float32(658.5481), np.float32(413.3416), np.float32(720.0))}, {'frame': 228, 'label': 'person', 'confidence': np.float32(0.3650873), 'bbox': (np.float32(0.03277281), np.float32(11.817292), np.float32(47.029675), np.float32(87.58727))}, {'frame': 228, 'label': 'person', 'confidence': np.float32(0.2918103), 'bbox': (np.float32(277.79605), np.float32(640.88794), np.float32(334.41217), np.float32(716.7248))}, {'frame': 228, 'label': 'person', 'confidence': np.float32(0.25836718), 'bbox': (np.float32(858.9684), np.float32(3.3931923), np.float32(904.46405), np.float32(29.95292))}, {'frame': 228, 'label': 'baseball bat', 'confidence': np.float32(0.25445354), 'bbox': (np.float32(640.3687), np.float32(291.7685), np.float32(749.1675), np.float32(319.20596))}, {'frame': 229, 'label': 'person', 'confidence': np.float32(0.86819327), 'bbox': (np.float32(480.58267), np.float32(213.26675), np.float32(580.8039), np.float32(401.86536)), 'referee': True}, {'frame': 229, 'label': 'person', 'confidence': np.float32(0.85768014), 'bbox': (np.float32(1082.0413), np.float32(119.46457), np.float32(1154.4261), np.float32(266.42825)), 'referee': True}, {'frame': 229, 'label': 'person', 'confidence': np.float32(0.8088842), 'bbox': (np.float32(1015.1939), np.float32(32.955215), np.float32(1082.0212), np.float32(179.73466)), 'team': 1, 'referee': True}, {'frame': 229, 'label': 'person', 'confidence': np.float32(0.80436534), 'bbox': (np.float32(586.9293), np.float32(207.38467), np.float32(690.4849), np.float32(322.90146)), 'referee': True}, {'frame': 229, 'label': 'person', 'confidence': np.float32(0.64682806), 'bbox': (np.float32(364.868), np.float32(120.509544), np.float32(484.44162), np.float32(223.04655)), 'team': 1, 'referee': True}, {'frame': 229, 'label': 'person', 'confidence': np.float32(0.45038852), 'bbox': (np.float32(348.6573), np.float32(665.95514), np.float32(415.53253), np.float32(718.6388))}, {'frame': 229, 'label': 'person', 'confidence': np.float32(0.41795707), 'bbox': (np.float32(0.21007288), np.float32(10.343878), np.float32(47.81956), np.float32(84.1745))}, {'frame': 229, 'label': 'person', 'confidence': np.float32(0.29262298), 'bbox': (np.float32(283.3882), np.float32(644.79846), np.float32(357.06104), np.float32(716.68134))}, {'frame': 229, 'label': 'person', 'confidence': np.float32(0.25685903), 'bbox': (np.float32(147.75142), np.float32(589.3339), np.float32(209.05577), np.float32(717.8519))}, {'frame': 229, 'label': 'person', 'confidence': np.float32(0.2556787), 'bbox': (np.float32(46.143074), np.float32(539.4594), np.float32(106.472466), np.float32(657.08405))}, {'frame': 230, 'label': 'person', 'confidence': np.float32(0.85812783), 'bbox': (np.float32(1081.6857), np.float32(113.65409), np.float32(1157.677), np.float32(264.08752)), 'referee': True}, {'frame': 230, 'label': 'person', 'confidence': np.float32(0.851369), 'bbox': (np.float32(480.8361), np.float32(211.16199), np.float32(584.3729), np.float32(399.54636)), 'referee': True}, {'frame': 230, 'label': 'person', 'confidence': np.float32(0.8184478), 'bbox': (np.float32(1020.0855), np.float32(34.585934), np.float32(1091.8801), np.float32(176.83563)), 'team': 1, 'referee': True}, {'frame': 230, 'label': 'person', 'confidence': np.float32(0.79278725), 'bbox': (np.float32(586.8698), np.float32(207.17384), np.float32(687.0624), np.float32(325.9028)), 'referee': True}, {'frame': 230, 'label': 'person', 'confidence': np.float32(0.7058916), 'bbox': (np.float32(371.08588), np.float32(114.39957), np.float32(480.72842), np.float32(221.82492)), 'team': 1, 'referee': True}, {'frame': 230, 'label': 'person', 'confidence': np.float32(0.28482467), 'bbox': (np.float32(288.02594), np.float32(650.4064), np.float32(358.26373), np.float32(716.4448))}, {'frame': 230, 'label': 'person', 'confidence': np.float32(0.26808465), 'bbox': (np.float32(0.3422109), np.float32(5.555064), np.float32(44.400425), np.float32(81.03409))}, {'frame': 230, 'label': 'hockey stick', 'confidence': np.float32(0.2675071), 'bbox': (np.float32(666.9718), np.float32(292.6607), np.float32(775.2021), np.float32(316.7156))}, {'frame': 230, 'label': 'person', 'confidence': np.float32(0.2578104), 'bbox': (np.float32(363.42084), np.float32(671.8588), np.float32(412.94696), np.float32(717.8397))}, {'frame': 231, 'label': 'person', 'confidence': np.float32(0.8727994), 'bbox': (np.float32(1088.1064), np.float32(112.025055), np.float32(1160.4025), np.float32(261.57648)), 'referee': True}, {'frame': 231, 'label': 'person', 'confidence': np.float32(0.7981251), 'bbox': (np.float32(1029.6627), np.float32(34.551407), np.float32(1104.0114), np.float32(172.95235)), 'team': 1, 'referee': True}, {'frame': 231, 'label': 'person', 'confidence': np.float32(0.79776365), 'bbox': (np.float32(593.2702), np.float32(203.06485), np.float32(682.80334), np.float32(321.86435)), 'referee': True}, {'frame': 231, 'label': 'person', 'confidence': np.float32(0.7952483), 'bbox': (np.float32(479.1228), np.float32(214.04857), np.float32(588.15466), np.float32(396.46753)), 'referee': True}, {'frame': 231, 'label': 'baseball bat', 'confidence': np.float32(0.53400874), 'bbox': (np.float32(424.72458), np.float32(259.7126), np.float32(491.93246), np.float32(298.8282))}, {'frame': 231, 'label': 'person', 'confidence': np.float32(0.52218187), 'bbox': (np.float32(372.16656), np.float32(115.31563), np.float32(501.8119), np.float32(221.835)), 'team': 1, 'referee': True}, {'frame': 231, 'label': 'skis', 'confidence': np.float32(0.2819509), 'bbox': (np.float32(1217.1688), np.float32(438.95767), np.float32(1266.6438), np.float32(476.83118))}, {'frame': 231, 'label': 'person', 'confidence': np.float32(0.27917588), 'bbox': (np.float32(286.3315), np.float32(654.4148), np.float32(349.07983), np.float32(720.0))}, {'frame': 231, 'label': 'person', 'confidence': np.float32(0.25788552), 'bbox': (np.float32(0.76926637), np.float32(9.827626), np.float32(46.630447), np.float32(79.00017))}, {'frame': 232, 'label': 'person', 'confidence': np.float32(0.86069614), 'bbox': (np.float32(1089.3466), np.float32(106.97117), np.float32(1163.7264), np.float32(257.598)), 'referee': True}, {'frame': 232, 'label': 'person', 'confidence': np.float32(0.8388513), 'bbox': (np.float32(482.5194), np.float32(220.65382), np.float32(593.9965), np.float32(394.1452)), 'referee': True}, {'frame': 232, 'label': 'person', 'confidence': np.float32(0.8335698), 'bbox': (np.float32(1035.5304), np.float32(14.751779), np.float32(1111.4873), np.float32(170.21487)), 'team': 1, 'referee': True}, {'frame': 232, 'label': 'person', 'confidence': np.float32(0.7895866), 'bbox': (np.float32(592.4388), np.float32(197.70876), np.float32(685.1754), np.float32(322.45084)), 'referee': True}, {'frame': 232, 'label': 'person', 'confidence': np.float32(0.52090627), 'bbox': (np.float32(375.8491), np.float32(113.232376), np.float32(489.57706), np.float32(219.87004)), 'team': 1, 'referee': True}, {'frame': 232, 'label': 'baseball bat', 'confidence': np.float32(0.4913685), 'bbox': (np.float32(416.2844), np.float32(261.49158), np.float32(485.63306), np.float32(311.17816))}, {'frame': 232, 'label': 'person', 'confidence': np.float32(0.3115841), 'bbox': (np.float32(247.1217), np.float32(474.9337), np.float32(321.18036), np.float32(630.103)), 'referee': True}, {'frame': 232, 'label': 'person', 'confidence': np.float32(0.30988505), 'bbox': (np.float32(48.738186), np.float32(565.8397), np.float32(114.40958), np.float32(686.4909))}, {'frame': 232, 'label': 'person', 'confidence': np.float32(0.307716), 'bbox': (np.float32(59.880413), np.float32(639.27405), np.float32(125.57755), np.float32(718.97485))}, {'frame': 232, 'label': 'person', 'confidence': np.float32(0.29069316), 'bbox': (np.float32(0.0), np.float32(556.71936), np.float32(54.302776), np.float32(701.27466))}, {'frame': 232, 'label': 'person', 'confidence': np.float32(0.28642988), 'bbox': (np.float32(0.592981), np.float32(1.7487776), np.float32(49.96584), np.float32(75.583664))}, {'frame': 233, 'label': 'person', 'confidence': np.float32(0.8513431), 'bbox': (np.float32(481.6694), np.float32(218.65906), np.float32(598.43665), np.float32(392.36057)), 'referee': True}, {'frame': 233, 'label': 'person', 'confidence': np.float32(0.8476943), 'bbox': (np.float32(604.7817), np.float32(188.89905), np.float32(692.2509), np.float32(322.5613)), 'referee': True}, {'frame': 233, 'label': 'person', 'confidence': np.float32(0.77259916), 'bbox': (np.float32(1080.8497), np.float32(94.40095), np.float32(1166.1346), np.float32(255.4715)), 'referee': True}, {'frame': 233, 'label': 'person', 'confidence': np.float32(0.74346787), 'bbox': (np.float32(1047.1727), np.float32(9.262475), np.float32(1117.5952), np.float32(167.0121)), 'team': 1, 'referee': True}, {'frame': 233, 'label': 'person', 'confidence': np.float32(0.523208), 'bbox': (np.float32(458.34683), np.float32(190.75784), np.float32(532.51483), np.float32(315.38272)), 'referee': True}, {'frame': 233, 'label': 'baseball bat', 'confidence': np.float32(0.49176523), 'bbox': (np.float32(407.2369), np.float32(266.8819), np.float32(477.67847), np.float32(317.39304))}, {'frame': 233, 'label': 'person', 'confidence': np.float32(0.35560763), 'bbox': (np.float32(376.88565), np.float32(106.67848), np.float32(515.22064), np.float32(224.41003)), 'team': 1, 'referee': True}, {'frame': 233, 'label': 'person', 'confidence': np.float32(0.3352715), 'bbox': (np.float32(62.23543), np.float32(647.3095), np.float32(127.0217), np.float32(719.1662))}, {'frame': 233, 'label': 'person', 'confidence': np.float32(0.32604948), 'bbox': (np.float32(50.285988), np.float32(561.26276), np.float32(118.35351), np.float32(698.05)), 'referee': True}, {'frame': 233, 'label': 'person', 'confidence': np.float32(0.2959593), 'bbox': (np.float32(251.60663), np.float32(477.78284), np.float32(327.0357), np.float32(633.95996)), 'referee': True}, {'frame': 233, 'label': 'person', 'confidence': np.float32(0.27673063), 'bbox': (np.float32(395.02475), np.float32(123.93786), np.float32(534.2484), np.float32(311.5205)), 'team': 0, 'referee': True}, {'frame': 233, 'label': 'person', 'confidence': np.float32(0.2551064), 'bbox': (np.float32(0.75390124), np.float32(2.6587565), np.float32(51.012386), np.float32(72.391556))}, {'frame': 234, 'label': 'person', 'confidence': np.float32(0.87572175), 'bbox': (np.float32(491.84296), np.float32(222.44208), np.float32(600.4814), np.float32(384.5981)), 'referee': True}, {'frame': 234, 'label': 'person', 'confidence': np.float32(0.8327738), 'bbox': (np.float32(611.0772), np.float32(181.09923), np.float32(699.94324), np.float32(323.19208)), 'referee': True}, {'frame': 234, 'label': 'person', 'confidence': np.float32(0.8086433), 'bbox': (np.float32(1081.8989), np.float32(92.73841), np.float32(1169.004), np.float32(253.98573)), 'referee': True}, {'frame': 234, 'label': 'person', 'confidence': np.float32(0.7001839), 'bbox': (np.float32(1057.3462), np.float32(7.559997), np.float32(1133.1815), np.float32(164.1404)), 'team': 0, 'referee': True}, {'frame': 234, 'label': 'baseball bat', 'confidence': np.float32(0.47404408), 'bbox': (np.float32(409.6458), np.float32(261.078), np.float32(475.48337), np.float32(314.78986))}, {'frame': 234, 'label': 'person', 'confidence': np.float32(0.40966648), 'bbox': (np.float32(456.04242), np.float32(202.6351), np.float32(528.90924), np.float32(321.41556)), 'referee': True}, {'frame': 234, 'label': 'person', 'confidence': np.float32(0.4082177), 'bbox': (np.float32(51.449135), np.float32(562.22015), np.float32(117.87238), np.float32(702.93585))}, {'frame': 234, 'label': 'person', 'confidence': np.float32(0.35368675), 'bbox': (np.float32(383.95963), np.float32(103.099754), np.float32(518.4955), np.float32(223.41568)), 'team': 1, 'referee': True}, {'frame': 234, 'label': 'person', 'confidence': np.float32(0.29963827), 'bbox': (np.float32(1077.0046), np.float32(4.955321), np.float32(1130.2), np.float32(59.826637)), 'team': 1}, {'frame': 234, 'label': 'person', 'confidence': np.float32(0.28863323), 'bbox': (np.float32(69.05114), np.float32(647.1044), np.float32(133.87689), np.float32(718.21606))}, {'frame': 234, 'label': 'person', 'confidence': np.float32(0.27934957), 'bbox': (np.float32(3.9568336), np.float32(10.802189), np.float32(54.277065), np.float32(67.75432))}, {'frame': 234, 'label': 'person', 'confidence': np.float32(0.27305692), 'bbox': (np.float32(0.30112064), np.float32(562.46606), np.float32(58.489292), np.float32(699.85736))}, {'frame': 234, 'label': 'person', 'confidence': np.float32(0.25147983), 'bbox': (np.float32(255.02821), np.float32(479.57056), np.float32(337.86905), np.float32(645.35254)), 'referee': True}, {'frame': 235, 'label': 'person', 'confidence': np.float32(0.84470457), 'bbox': (np.float32(614.9294), np.float32(175.32475), np.float32(705.5168), np.float32(322.97433)), 'referee': True}, {'frame': 235, 'label': 'person', 'confidence': np.float32(0.84130335), 'bbox': (np.float32(492.33408), np.float32(213.94923), np.float32(604.31024), np.float32(388.391)), 'referee': True}, {'frame': 235, 'label': 'person', 'confidence': np.float32(0.8071719), 'bbox': (np.float32(1085.5804), np.float32(89.12091), np.float32(1172.7368), np.float32(251.35051)), 'referee': True}, {'frame': 235, 'label': 'person', 'confidence': np.float32(0.6992545), 'bbox': (np.float32(1066.1688), np.float32(17.609825), np.float32(1141.9475), np.float32(163.10268)), 'team': 0, 'referee': True}, {'frame': 235, 'label': 'person', 'confidence': np.float32(0.6024585), 'bbox': (np.float32(385.35333), np.float32(100.4847), np.float32(513.61615), np.float32(216.12071)), 'team': 1, 'referee': True}, {'frame': 235, 'label': 'baseball bat', 'confidence': np.float32(0.4829722), 'bbox': (np.float32(408.6546), np.float32(261.06503), np.float32(463.32062), np.float32(311.56564))}, {'frame': 235, 'label': 'person', 'confidence': np.float32(0.47739556), 'bbox': (np.float32(441.95175), np.float32(197.761), np.float32(520.78546), np.float32(318.17392)), 'team': 0, 'referee': True}, {'frame': 235, 'label': 'person', 'confidence': np.float32(0.42297283), 'bbox': (np.float32(51.955288), np.float32(569.10315), np.float32(120.579865), np.float32(703.8954))}, {'frame': 235, 'label': 'person', 'confidence': np.float32(0.41469115), 'bbox': (np.float32(1089.9276), np.float32(1.6938356), np.float32(1140.694), np.float32(57.193977)), 'team': 1}, {'frame': 235, 'label': 'person', 'confidence': np.float32(0.2852412), 'bbox': (np.float32(9.470653), np.float32(9.931469), np.float32(59.854336), np.float32(66.007256))}, {'frame': 235, 'label': 'person', 'confidence': np.float32(0.2674258), 'bbox': (np.float32(1045.3878), np.float32(46.124992), np.float32(1066.8604), np.float32(71.49695)), 'team': 1}, {'frame': 236, 'label': 'person', 'confidence': np.float32(0.8576243), 'bbox': (np.float32(618.63837), np.float32(174.55475), np.float32(709.7432), np.float32(325.41293)), 'referee': True}, {'frame': 236, 'label': 'person', 'confidence': np.float32(0.8359308), 'bbox': (np.float32(490.69598), np.float32(212.57031), np.float32(607.49493), np.float32(387.32626)), 'referee': True}, {'frame': 236, 'label': 'person', 'confidence': np.float32(0.8111606), 'bbox': (np.float32(1085.2496), np.float32(87.54383), np.float32(1174.0532), np.float32(250.25128)), 'team': 1, 'referee': True}, {'frame': 236, 'label': 'person', 'confidence': np.float32(0.62256575), 'bbox': (np.float32(385.85297), np.float32(101.22733), np.float32(516.98425), np.float32(215.63782)), 'team': 1, 'referee': True}, {'frame': 236, 'label': 'person', 'confidence': np.float32(0.54331774), 'bbox': (np.float32(1068.5394), np.float32(32.44392), np.float32(1156.7046), np.float32(159.37422)), 'team': 0, 'referee': True}, {'frame': 236, 'label': 'person', 'confidence': np.float32(0.49092585), 'bbox': (np.float32(427.80798), np.float32(183.88177), np.float32(529.8013), np.float32(315.26416)), 'team': 0, 'referee': True}, {'frame': 236, 'label': 'person', 'confidence': np.float32(0.35523793), 'bbox': (np.float32(1092.756), np.float32(0.2696629), np.float32(1147.167), np.float32(58.373367)), 'team': 1}, {'frame': 236, 'label': 'person', 'confidence': np.float32(0.34368262), 'bbox': (np.float32(261.1977), np.float32(484.75677), np.float32(345.49127), np.float32(658.79486)), 'referee': True}, {'frame': 236, 'label': 'baseball bat', 'confidence': np.float32(0.3335588), 'bbox': (np.float32(405.65308), np.float32(262.67758), np.float32(453.29474), np.float32(308.4882)), 'team': 1}, {'frame': 236, 'label': 'person', 'confidence': np.float32(0.30699757), 'bbox': (np.float32(0.12113375), np.float32(569.71326), np.float32(59.379196), np.float32(693.4086))}, {'frame': 236, 'label': 'person', 'confidence': np.float32(0.28765693), 'bbox': (np.float32(53.745686), np.float32(584.9075), np.float32(123.45258), np.float32(702.08185))}, {'frame': 237, 'label': 'person', 'confidence': np.float32(0.8608248), 'bbox': (np.float32(495.13095), np.float32(207.6437), np.float32(613.7306), np.float32(385.50342)), 'referee': True}, {'frame': 237, 'label': 'person', 'confidence': np.float32(0.82821417), 'bbox': (np.float32(628.05707), np.float32(166.32962), np.float32(715.0813), np.float32(328.86035)), 'referee': True}, {'frame': 237, 'label': 'person', 'confidence': np.float32(0.6848575), 'bbox': (np.float32(392.9673), np.float32(97.73356), np.float32(516.6876), np.float32(216.48329)), 'team': 1, 'referee': True}, {'frame': 237, 'label': 'person', 'confidence': np.float32(0.6117825), 'bbox': (np.float32(1083.3362), np.float32(66.9912), np.float32(1176.031), np.float32(246.38106)), 'team': 1, 'referee': True}, {'frame': 237, 'label': 'person', 'confidence': np.float32(0.5543785), 'bbox': (np.float32(419.64243), np.float32(190.5372), np.float32(527.8397), np.float32(314.80026)), 'team': 0, 'referee': True}, {'frame': 237, 'label': 'person', 'confidence': np.float32(0.4569952), 'bbox': (np.float32(268.4718), np.float32(488.89435), np.float32(352.64926), np.float32(663.42865)), 'referee': True}, {'frame': 237, 'label': 'baseball bat', 'confidence': np.float32(0.365517), 'bbox': (np.float32(406.58276), np.float32(252.1436), np.float32(458.93198), np.float32(303.13287)), 'team': 1}, {'frame': 237, 'label': 'person', 'confidence': np.float32(0.35037833), 'bbox': (np.float32(1073.5565), np.float32(3.136618), np.float32(1170.6288), np.float32(177.8375)), 'team': 0, 'referee': True}, {'frame': 237, 'label': 'person', 'confidence': np.float32(0.3044798), 'bbox': (np.float32(0.0), np.float32(574.7029), np.float32(62.279663), np.float32(700.57184))}, {'frame': 237, 'label': 'person', 'confidence': np.float32(0.3039651), 'bbox': (np.float32(54.40495), np.float32(578.4677), np.float32(126.51956), np.float32(712.5475)), 'referee': True}, {'frame': 237, 'label': 'person', 'confidence': np.float32(0.2555898), 'bbox': (np.float32(174.07669), np.float32(616.41095), np.float32(236.02126), np.float32(716.63165))}, {'frame': 238, 'label': 'person', 'confidence': np.float32(0.86602086), 'bbox': (np.float32(496.79364), np.float32(204.00923), np.float32(619.6431), np.float32(380.36252)), 'referee': True}, {'frame': 238, 'label': 'person', 'confidence': np.float32(0.8413405), 'bbox': (np.float32(634.9133), np.float32(160.38988), np.float32(722.88245), np.float32(326.40866)), 'referee': True}, {'frame': 238, 'label': 'person', 'confidence': np.float32(0.8303248), 'bbox': (np.float32(1091.5773), np.float32(75.85631), np.float32(1176.4844), np.float32(243.67183)), 'team': 1, 'referee': True}, {'frame': 238, 'label': 'person', 'confidence': np.float32(0.6555704), 'bbox': (np.float32(396.74274), np.float32(95.92401), np.float32(524.05365), np.float32(216.47263)), 'team': 1, 'referee': True}, {'frame': 238, 'label': 'person', 'confidence': np.float32(0.5260529), 'bbox': (np.float32(421.89957), np.float32(175.27383), np.float32(529.157), np.float32(310.20346)), 'team': 0, 'referee': True}, {'frame': 238, 'label': 'person', 'confidence': np.float32(0.43236887), 'bbox': (np.float32(272.6265), np.float32(494.11847), np.float32(358.06277), np.float32(672.7716)), 'referee': True}, {'frame': 238, 'label': 'person', 'confidence': np.float32(0.39565176), 'bbox': (np.float32(0.13062644), np.float32(582.66614), np.float32(67.809006), np.float32(717.81085))}, {'frame': 238, 'label': 'baseball bat', 'confidence': np.float32(0.38369083), 'bbox': (np.float32(408.9247), np.float32(250.004), np.float32(453.97168), np.float32(298.9559)), 'team': 1}, {'frame': 238, 'label': 'person', 'confidence': np.float32(0.31682417), 'bbox': (np.float32(59.681423), np.float32(595.5929), np.float32(129.92476), np.float32(713.5158)), 'team': 1}, {'frame': 238, 'label': 'person', 'confidence': np.float32(0.30156097), 'bbox': (np.float32(15.772821), np.float32(6.435159), np.float32(65.57075), np.float32(59.68081))}, {'frame': 239, 'label': 'person', 'confidence': np.float32(0.85060555), 'bbox': (np.float32(496.4203), np.float32(198.44598), np.float32(627.06976), np.float32(379.87613)), 'referee': True}, {'frame': 239, 'label': 'person', 'confidence': np.float32(0.84528214), 'bbox': (np.float32(645.90576), np.float32(150.99191), np.float32(729.5701), np.float32(325.32797)), 'referee': True}, {'frame': 239, 'label': 'person', 'confidence': np.float32(0.7456645), 'bbox': (np.float32(1086.3231), np.float32(64.41074), np.float32(1181.5785), np.float32(243.12509)), 'team': 1, 'referee': True}, {'frame': 239, 'label': 'person', 'confidence': np.float32(0.584595), 'bbox': (np.float32(408.62326), np.float32(96.53981), np.float32(532.6975), np.float32(311.2704)), 'team': 1, 'referee': True}, {'frame': 239, 'label': 'person', 'confidence': np.float32(0.5691963), 'bbox': (np.float32(280.8381), np.float32(497.69022), np.float32(367.27484), np.float32(676.09735)), 'referee': True}, {'frame': 239, 'label': 'person', 'confidence': np.float32(0.46372044), 'bbox': (np.float32(1116.2423), np.float32(0.0), np.float32(1190.8303), np.float32(141.75392)), 'team': 0, 'referee': True}, {'frame': 239, 'label': 'person', 'confidence': np.float32(0.4214193), 'bbox': (np.float32(61.98616), np.float32(604.32245), np.float32(133.32375), np.float32(715.94604)), 'team': 1}, {'frame': 239, 'label': 'person', 'confidence': np.float32(0.36272085), 'bbox': (np.float32(173.5496), np.float32(633.54785), np.float32(247.97285), np.float32(719.0248))}, {'frame': 239, 'label': 'person', 'confidence': np.float32(0.34512597), 'bbox': (np.float32(0.38286278), np.float32(588.9201), np.float32(70.21347), np.float32(717.4986)), 'team': 0}, {'frame': 240, 'label': 'person', 'confidence': np.float32(0.7495477), 'bbox': (np.float32(461.90256), np.float32(190.67784), np.float32(636.17883), np.float32(379.29965)), 'referee': True}, {'frame': 240, 'label': 'person', 'confidence': np.float32(0.7352902), 'bbox': (np.float32(659.2982), np.float32(146.4515), np.float32(740.70966), np.float32(325.64554)), 'referee': True}, {'frame': 240, 'label': 'person', 'confidence': np.float32(0.7328957), 'bbox': (np.float32(1086.5713), np.float32(62.749767), np.float32(1185.4546), np.float32(242.50487)), 'team': 1, 'referee': True}, {'frame': 240, 'label': 'person', 'confidence': np.float32(0.7109782), 'bbox': (np.float32(1134.0707), np.float32(0.0), np.float32(1202.1047), np.float32(142.89671)), 'team': 0, 'referee': True}, {'frame': 240, 'label': 'person', 'confidence': np.float32(0.51290584), 'bbox': (np.float32(285.9245), np.float32(502.23206), np.float32(373.97604), np.float32(695.5264)), 'referee': True}, {'frame': 240, 'label': 'person', 'confidence': np.float32(0.5043333), 'bbox': (np.float32(418.302), np.float32(94.7536), np.float32(536.7229), np.float32(305.85635)), 'team': 1, 'referee': True}, {'frame': 240, 'label': 'person', 'confidence': np.float32(0.42472577), 'bbox': (np.float32(67.13839), np.float32(618.63354), np.float32(138.26399), np.float32(716.39105)), 'team': 1}, {'frame': 240, 'label': 'person', 'confidence': np.float32(0.33803672), 'bbox': (np.float32(0.6021544), np.float32(588.68146), np.float32(73.20552), np.float32(690.8905)), 'team': 0}, {'frame': 240, 'label': 'person', 'confidence': np.float32(0.3233715), 'bbox': (np.float32(17.747143), np.float32(3.2209165), np.float32(73.22856), np.float32(56.579735))}, {'frame': 240, 'label': 'person', 'confidence': np.float32(0.26929867), 'bbox': (np.float32(167.4153), np.float32(643.6205), np.float32(250.15363), np.float32(719.2801))}, {'frame': 241, 'label': 'person', 'confidence': np.float32(0.8541052), 'bbox': (np.float32(498.65018), np.float32(191.63168), np.float32(642.0165), np.float32(378.57776)), 'referee': True}, {'frame': 241, 'label': 'person', 'confidence': np.float32(0.81207955), 'bbox': (np.float32(1146.2042), np.float32(0.0), np.float32(1211.341), np.float32(145.20787)), 'referee': True}, {'frame': 241, 'label': 'person', 'confidence': np.float32(0.75258166), 'bbox': (np.float32(1087.2137), np.float32(59.43957), np.float32(1186.2811), np.float32(242.53918)), 'team': 1, 'referee': True}, {'frame': 241, 'label': 'person', 'confidence': np.float32(0.74153584), 'bbox': (np.float32(668.03687), np.float32(139.80858), np.float32(765.74066), np.float32(321.32648)), 'referee': True}, {'frame': 241, 'label': 'person', 'confidence': np.float32(0.60825545), 'bbox': (np.float32(426.16165), np.float32(102.917244), np.float32(553.0435), np.float32(309.10413)), 'team': 1, 'referee': True}, {'frame': 241, 'label': 'person', 'confidence': np.float32(0.59458965), 'bbox': (np.float32(291.29663), np.float32(505.6664), np.float32(380.8015), np.float32(702.55804)), 'referee': True}, {'frame': 241, 'label': 'person', 'confidence': np.float32(0.35497054), 'bbox': (np.float32(71.458916), np.float32(625.65155), np.float32(147.04227), np.float32(716.7282))}, {'frame': 241, 'label': 'person', 'confidence': np.float32(0.3350442), 'bbox': (np.float32(26.618582), np.float32(3.2374756), np.float32(80.05016), np.float32(54.2003))}, {'frame': 241, 'label': 'person', 'confidence': np.float32(0.3240272), 'bbox': (np.float32(3.1152894), np.float32(602.78766), np.float32(77.39556), np.float32(709.82477))}, {'frame': 241, 'label': 'person', 'confidence': np.float32(0.31604832), 'bbox': (np.float32(167.74263), np.float32(646.93604), np.float32(251.01605), np.float32(719.3876))}, {'frame': 241, 'label': 'person', 'confidence': np.float32(0.29802063), 'bbox': (np.float32(69.55715), np.float32(578.02496), np.float32(141.91553), np.float32(664.64813)), 'referee': True}, {'frame': 241, 'label': 'person', 'confidence': np.float32(0.29069665), 'bbox': (np.float32(265.7306), np.float32(681.3436), np.float32(309.8677), np.float32(718.3634))}, {'frame': 242, 'label': 'person', 'confidence': np.float32(0.8746984), 'bbox': (np.float32(677.4546), np.float32(137.51692), np.float32(786.1099), np.float32(329.89954)), 'referee': True}, {'frame': 242, 'label': 'person', 'confidence': np.float32(0.8513718), 'bbox': (np.float32(1153.7288), np.float32(0.0), np.float32(1220.5546), np.float32(146.3859)), 'referee': True}, {'frame': 242, 'label': 'person', 'confidence': np.float32(0.8374694), 'bbox': (np.float32(502.97095), np.float32(191.57896), np.float32(642.4353), np.float32(379.71222)), 'referee': True}, {'frame': 242, 'label': 'person', 'confidence': np.float32(0.7721027), 'bbox': (np.float32(1097.0858), np.float32(80.64969), np.float32(1186.5388), np.float32(242.39691)), 'team': 1, 'referee': True}, {'frame': 242, 'label': 'person', 'confidence': np.float32(0.7232529), 'bbox': (np.float32(426.25967), np.float32(96.11052), np.float32(560.04083), np.float32(304.96472)), 'team': 1, 'referee': True}, {'frame': 242, 'label': 'person', 'confidence': np.float32(0.7224186), 'bbox': (np.float32(299.00708), np.float32(516.7052), np.float32(389.44492), np.float32(704.902)), 'referee': True}, {'frame': 242, 'label': 'person', 'confidence': np.float32(0.53342754), 'bbox': (np.float32(76.13955), np.float32(630.9054), np.float32(151.06349), np.float32(719.02014)), 'team': 1}, {'frame': 242, 'label': 'person', 'confidence': np.float32(0.47738194), 'bbox': (np.float32(0.6445578), np.float32(612.9849), np.float32(80.19056), np.float32(715.36816)), 'team': 0}, {'frame': 242, 'label': 'person', 'confidence': np.float32(0.43239075), 'bbox': (np.float32(177.19746), np.float32(645.78864), np.float32(262.3748), np.float32(718.51917))}, {'frame': 242, 'label': 'person', 'confidence': np.float32(0.36253196), 'bbox': (np.float32(30.453712), np.float32(2.5523207), np.float32(86.78939), np.float32(56.159424))}, {'frame': 242, 'label': 'person', 'confidence': np.float32(0.35396865), 'bbox': (np.float32(70.99068), np.float32(581.4387), np.float32(147.7067), np.float32(666.4406)), 'team': 0, 'referee': True}, {'frame': 242, 'label': 'person', 'confidence': np.float32(0.25987932), 'bbox': (np.float32(35.66697), np.float32(613.42615), np.float32(82.60413), np.float32(697.7562)), 'team': 1}, {'frame': 243, 'label': 'person', 'confidence': np.float32(0.87817544), 'bbox': (np.float32(684.6835), np.float32(136.86673), np.float32(785.4023), np.float32(330.02963)), 'referee': True}, {'frame': 243, 'label': 'person', 'confidence': np.float32(0.85623914), 'bbox': (np.float32(1160.3799), np.float32(0.0), np.float32(1235.8556), np.float32(146.91914)), 'referee': True}, {'frame': 243, 'label': 'person', 'confidence': np.float32(0.8258818), 'bbox': (np.float32(500.7568), np.float32(191.22763), np.float32(641.9182), np.float32(379.48425)), 'team': 1, 'referee': True}, {'frame': 243, 'label': 'person', 'confidence': np.float32(0.82083756), 'bbox': (np.float32(1101.0736), np.float32(85.55501), np.float32(1187.4548), np.float32(243.96223)), 'team': 1, 'referee': True}, {'frame': 243, 'label': 'person', 'confidence': np.float32(0.8086736), 'bbox': (np.float32(424.86267), np.float32(99.29096), np.float32(567.7012), np.float32(310.2623)), 'team': 0, 'referee': True}, {'frame': 243, 'label': 'person', 'confidence': np.float32(0.76985955), 'bbox': (np.float32(306.2561), np.float32(524.9174), np.float32(403.03723), np.float32(710.55695)), 'referee': True}, {'frame': 243, 'label': 'person', 'confidence': np.float32(0.5774352), 'bbox': (np.float32(0.86015356), np.float32(619.68726), np.float32(84.39393), np.float32(715.3913))}, {'frame': 243, 'label': 'person', 'confidence': np.float32(0.5434444), 'bbox': (np.float32(79.156265), np.float32(627.86273), np.float32(153.16644), np.float32(719.4172))}, {'frame': 243, 'label': 'person', 'confidence': np.float32(0.32969275), 'bbox': (np.float32(182.37428), np.float32(667.34265), np.float32(257.30563), np.float32(717.05237))}, {'frame': 243, 'label': 'person', 'confidence': np.float32(0.31854233), 'bbox': (np.float32(34.655666), np.float32(2.690014), np.float32(89.80465), np.float32(59.546642))}, {'frame': 243, 'label': 'skis', 'confidence': np.float32(0.285965), 'bbox': (np.float32(680.2642), np.float32(313.66138), np.float32(732.99896), np.float32(337.10275))}, {'frame': 244, 'label': 'person', 'confidence': np.float32(0.88079315), 'bbox': (np.float32(690.3439), np.float32(135.2058), np.float32(798.4529), np.float32(335.45737)), 'referee': True}, {'frame': 244, 'label': 'person', 'confidence': np.float32(0.8416573), 'bbox': (np.float32(1167.0017), np.float32(0.0), np.float32(1246.8601), np.float32(150.19405)), 'referee': True}, {'frame': 244, 'label': 'person', 'confidence': np.float32(0.8411424), 'bbox': (np.float32(503.53174), np.float32(188.93141), np.float32(640.9871), np.float32(381.41388)), 'team': 1, 'referee': True}, {'frame': 244, 'label': 'person', 'confidence': np.float32(0.8238209), 'bbox': (np.float32(1102.2656), np.float32(86.126625), np.float32(1187.6401), np.float32(247.01178)), 'team': 1, 'referee': True}, {'frame': 244, 'label': 'person', 'confidence': np.float32(0.7649946), 'bbox': (np.float32(314.3852), np.float32(529.5219), np.float32(406.80585), np.float32(715.58264)), 'referee': True}, {'frame': 244, 'label': 'person', 'confidence': np.float32(0.7357083), 'bbox': (np.float32(430.77396), np.float32(103.12177), np.float32(567.88684), np.float32(307.81815)), 'team': 0, 'referee': True}, {'frame': 244, 'label': 'person', 'confidence': np.float32(0.56043106), 'bbox': (np.float32(1.6707388), np.float32(627.75085), np.float32(84.75919), np.float32(715.8796))}, {'frame': 244, 'label': 'person', 'confidence': np.float32(0.50081027), 'bbox': (np.float32(81.63336), np.float32(660.04736), np.float32(154.62784), np.float32(718.94977)), 'team': 1}, {'frame': 244, 'label': 'person', 'confidence': np.float32(0.37769684), 'bbox': (np.float32(188.1517), np.float32(679.078), np.float32(260.76306), np.float32(718.3127))}, {'frame': 244, 'label': 'person', 'confidence': np.float32(0.3509618), 'bbox': (np.float32(38.946026), np.float32(2.720251), np.float32(90.18693), np.float32(60.181732))}, {'frame': 245, 'label': 'person', 'confidence': np.float32(0.8832732), 'bbox': (np.float32(690.12), np.float32(133.7676), np.float32(803.84076), np.float32(338.58652)), 'referee': True}, {'frame': 245, 'label': 'person', 'confidence': np.float32(0.85848117), 'bbox': (np.float32(1168.8253), np.float32(0.0), np.float32(1251.4907), np.float32(150.56253)), 'referee': True}, {'frame': 245, 'label': 'person', 'confidence': np.float32(0.8483764), 'bbox': (np.float32(505.17612), np.float32(188.69867), np.float32(641.0447), np.float32(382.5124)), 'referee': True}, {'frame': 245, 'label': 'person', 'confidence': np.float32(0.83439285), 'bbox': (np.float32(1102.2496), np.float32(84.808754), np.float32(1187.4353), np.float32(249.02975)), 'team': 1, 'referee': True}, {'frame': 245, 'label': 'person', 'confidence': np.float32(0.8001093), 'bbox': (np.float32(315.71222), np.float32(537.5477), np.float32(407.69342), np.float32(716.486)), 'referee': True}, {'frame': 245, 'label': 'person', 'confidence': np.float32(0.7491471), 'bbox': (np.float32(430.28903), np.float32(104.54996), np.float32(571.8825), np.float32(309.44757)), 'team': 1, 'referee': True}, {'frame': 245, 'label': 'person', 'confidence': np.float32(0.5490855), 'bbox': (np.float32(1.8425103), np.float32(630.0681), np.float32(84.87734), np.float32(715.93933))}, {'frame': 245, 'label': 'person', 'confidence': np.float32(0.48316082), 'bbox': (np.float32(80.653755), np.float32(641.413), np.float32(157.31656), np.float32(718.9404)), 'team': 1}, {'frame': 245, 'label': 'person', 'confidence': np.float32(0.37618986), 'bbox': (np.float32(193.93938), np.float32(681.51776), np.float32(264.82407), np.float32(718.7117))}, {'frame': 245, 'label': 'person', 'confidence': np.float32(0.37113038), 'bbox': (np.float32(42.699806), np.float32(635.2228), np.float32(91.281456), np.float32(717.46716)), 'team': 0}, {'frame': 245, 'label': 'skis', 'confidence': np.float32(0.3227625), 'bbox': (np.float32(685.00226), np.float32(315.98242), np.float32(756.44165), np.float32(341.15436))}, {'frame': 245, 'label': 'person', 'confidence': np.float32(0.31964022), 'bbox': (np.float32(39.029095), np.float32(1.3647773), np.float32(92.452255), np.float32(62.053997))}, {'frame': 246, 'label': 'person', 'confidence': np.float32(0.87329227), 'bbox': (np.float32(691.2205), np.float32(134.56299), np.float32(814.8034), np.float32(345.31146)), 'referee': True}, {'frame': 246, 'label': 'person', 'confidence': np.float32(0.86909455), 'bbox': (np.float32(1175.4442), np.float32(0.0), np.float32(1265.3115), np.float32(154.88878)), 'referee': True}, {'frame': 246, 'label': 'person', 'confidence': np.float32(0.80822855), 'bbox': (np.float32(319.2177), np.float32(550.345), np.float32(412.0063), np.float32(716.75)), 'referee': True}, {'frame': 246, 'label': 'person', 'confidence': np.float32(0.7769614), 'bbox': (np.float32(504.90717), np.float32(179.55476), np.float32(645.1991), np.float32(385.15173)), 'referee': True}, {'frame': 246, 'label': 'person', 'confidence': np.float32(0.7684393), 'bbox': (np.float32(1099.1176), np.float32(81.32122), np.float32(1187.9521), np.float32(254.17502)), 'team': 1, 'referee': True}, {'frame': 246, 'label': 'person', 'confidence': np.float32(0.7679176), 'bbox': (np.float32(433.252), np.float32(108.99388), np.float32(578.60474), np.float32(312.23358)), 'team': 1, 'referee': True}, {'frame': 246, 'label': 'person', 'confidence': np.float32(0.5134373), 'bbox': (np.float32(0.5033881), np.float32(644.6188), np.float32(90.01288), np.float32(719.7018))}, {'frame': 246, 'label': 'person', 'confidence': np.float32(0.40189108), 'bbox': (np.float32(85.899345), np.float32(644.1257), np.float32(161.34511), np.float32(718.2709))}, {'frame': 246, 'label': 'person', 'confidence': np.float32(0.31958202), 'bbox': (np.float32(40.37038), np.float32(2.9897816), np.float32(94.878174), np.float32(65.8496))}, {'frame': 246, 'label': 'person', 'confidence': np.float32(0.30698013), 'bbox': (np.float32(0.0), np.float32(614.80334), np.float32(20.310999), np.float32(696.5516))}, {'frame': 246, 'label': 'person', 'confidence': np.float32(0.30466512), 'bbox': (np.float32(45.37456), np.float32(646.1473), np.float32(97.10895), np.float32(717.6612))}, {'frame': 246, 'label': 'person', 'confidence': np.float32(0.2934407), 'bbox': (np.float32(1.283878), np.float32(629.3826), np.float32(45.58523), np.float32(714.0644))}, {'frame': 247, 'label': 'person', 'confidence': np.float32(0.8815104), 'bbox': (np.float32(690.49133), np.float32(138.5525), np.float32(828.3677), np.float32(349.78668)), 'referee': True}, {'frame': 247, 'label': 'person', 'confidence': np.float32(0.87779593), 'bbox': (np.float32(1179.0876), np.float32(0.0), np.float32(1268.0), np.float32(158.44162)), 'referee': True}, {'frame': 247, 'label': 'person', 'confidence': np.float32(0.826593), 'bbox': (np.float32(1091.3601), np.float32(82.59451), np.float32(1181.2245), np.float32(259.30017)), 'team': 1, 'referee': True}, {'frame': 247, 'label': 'person', 'confidence': np.float32(0.81775475), 'bbox': (np.float32(325.62042), np.float32(560.83167), np.float32(414.31427), np.float32(717.7382)), 'referee': True}, {'frame': 247, 'label': 'person', 'confidence': np.float32(0.6179263), 'bbox': (np.float32(494.89145), np.float32(143.46454), np.float32(647.8053), np.float32(391.4139)), 'referee': True}, {'frame': 247, 'label': 'person', 'confidence': np.float32(0.50804996), 'bbox': (np.float32(436.62253), np.float32(114.10999), np.float32(605.9471), np.float32(332.67126)), 'team': 1, 'referee': True}, {'frame': 247, 'label': 'person', 'confidence': np.float32(0.44991302), 'bbox': (np.float32(104.997696), np.float32(656.6747), np.float32(164.48149), np.float32(719.3003))}, {'frame': 247, 'label': 'person', 'confidence': np.float32(0.40949917), 'bbox': (np.float32(0.1161739), np.float32(627.7012), np.float32(26.474138), np.float32(712.56757))}, {'frame': 247, 'label': 'person', 'confidence': np.float32(0.3083066), 'bbox': (np.float32(47.057842), np.float32(663.5124), np.float32(88.193085), np.float32(718.21826))}, {'frame': 247, 'label': 'person', 'confidence': np.float32(0.28351167), 'bbox': (np.float32(5.5041695), np.float32(655.19495), np.float32(58.295647), np.float32(720.0))}, {'frame': 247, 'label': 'person', 'confidence': np.float32(0.27096578), 'bbox': (np.float32(42.962006), np.float32(9.507564), np.float32(96.7892), np.float32(68.80465))}, {'frame': 248, 'label': 'person', 'confidence': np.float32(0.8945049), 'bbox': (np.float32(1182.1659), np.float32(2.242333), np.float32(1268.0), np.float32(163.70596)), 'referee': True}, {'frame': 248, 'label': 'person', 'confidence': np.float32(0.8795672), 'bbox': (np.float32(692.9834), np.float32(140.95943), np.float32(832.06256), np.float32(355.22598)), 'referee': True}, {'frame': 248, 'label': 'person', 'confidence': np.float32(0.86379117), 'bbox': (np.float32(1089.7802), np.float32(82.90248), np.float32(1175.8715), np.float32(263.9059)), 'team': 1, 'referee': True}, {'frame': 248, 'label': 'person', 'confidence': np.float32(0.79661304), 'bbox': (np.float32(327.09735), np.float32(567.52203), np.float32(413.39307), np.float32(717.4235)), 'referee': True}, {'frame': 248, 'label': 'person', 'confidence': np.float32(0.6976899), 'bbox': (np.float32(504.50302), np.float32(163.56435), np.float32(648.8385), np.float32(394.33676)), 'referee': True}, {'frame': 248, 'label': 'person', 'confidence': np.float32(0.5265896), 'bbox': (np.float32(438.64917), np.float32(129.74376), np.float32(557.69183), np.float32(314.30627)), 'team': 1, 'referee': True}, {'frame': 248, 'label': 'person', 'confidence': np.float32(0.43720105), 'bbox': (np.float32(0.0), np.float32(635.08765), np.float32(24.761328), np.float32(716.04865))}, {'frame': 248, 'label': 'person', 'confidence': np.float32(0.41306573), 'bbox': (np.float32(103.64405), np.float32(653.73724), np.float32(161.69356), np.float32(718.56104))}, {'frame': 248, 'label': 'person', 'confidence': np.float32(0.33793345), 'bbox': (np.float32(1.9217414), np.float32(647.45355), np.float32(45.994236), np.float32(719.9258))}, {'frame': 248, 'label': 'skis', 'confidence': np.float32(0.28200907), 'bbox': (np.float32(673.56866), np.float32(329.83734), np.float32(782.13983), np.float32(363.2234))}, {'frame': 248, 'label': 'person', 'confidence': np.float32(0.27491096), 'bbox': (np.float32(44.646904), np.float32(13.811719), np.float32(98.347755), np.float32(72.34146))}, {'frame': 248, 'label': 'person', 'confidence': np.float32(0.2681106), 'bbox': (np.float32(51.11239), np.float32(669.826), np.float32(85.30969), np.float32(717.0029))}, {'frame': 248, 'label': 'person', 'confidence': np.float32(0.26724514), 'bbox': (np.float32(8.617033), np.float32(664.1202), np.float32(78.759964), np.float32(718.4199))}, {'frame': 249, 'label': 'person', 'confidence': np.float32(0.88893265), 'bbox': (np.float32(696.1084), np.float32(145.6709), np.float32(837.8424), np.float32(362.71466)), 'referee': True}, {'frame': 249, 'label': 'person', 'confidence': np.float32(0.8868807), 'bbox': (np.float32(1188.9205), np.float32(2.9358506), np.float32(1268.0), np.float32(175.16476)), 'referee': True}, {'frame': 249, 'label': 'person', 'confidence': np.float32(0.85926616), 'bbox': (np.float32(1081.7461), np.float32(91.93433), np.float32(1170.1765), np.float32(271.10266)), 'team': 1, 'referee': True}, {'frame': 249, 'label': 'person', 'confidence': np.float32(0.7932819), 'bbox': (np.float32(505.85916), np.float32(170.25496), np.float32(649.2123), np.float32(400.49744)), 'referee': True}, {'frame': 249, 'label': 'person', 'confidence': np.float32(0.6237882), 'bbox': (np.float32(443.6522), np.float32(138.06541), np.float32(555.7759), np.float32(318.0646)), 'team': 1, 'referee': True}, {'frame': 249, 'label': 'person', 'confidence': np.float32(0.5367057), 'bbox': (np.float32(331.2391), np.float32(582.65784), np.float32(418.1751), np.float32(719.5691)), 'referee': True}, {'frame': 249, 'label': 'skis', 'confidence': np.float32(0.2647207), 'bbox': (np.float32(691.41833), np.float32(333.9285), np.float32(797.70953), np.float32(370.38785))}, {'frame': 250, 'label': 'person', 'confidence': np.float32(0.8861779), 'bbox': (np.float32(698.609), np.float32(148.08426), np.float32(840.7736), np.float32(365.34363)), 'referee': True}, {'frame': 250, 'label': 'person', 'confidence': np.float32(0.8801358), 'bbox': (np.float32(1193.1885), np.float32(3.9076414), np.float32(1267.9514), np.float32(174.44629)), 'referee': True}, {'frame': 250, 'label': 'person', 'confidence': np.float32(0.87004143), 'bbox': (np.float32(1077.0116), np.float32(95.65924), np.float32(1166.9282), np.float32(273.5323)), 'team': 1, 'referee': True}, {'frame': 250, 'label': 'person', 'confidence': np.float32(0.78684735), 'bbox': (np.float32(502.29642), np.float32(141.1294), np.float32(651.15936), np.float32(402.45197)), 'team': 1, 'referee': True}, {'frame': 250, 'label': 'person', 'confidence': np.float32(0.7518972), 'bbox': (np.float32(333.979), np.float32(589.15106), np.float32(418.32285), np.float32(719.4088)), 'referee': True}, {'frame': 250, 'label': 'person', 'confidence': np.float32(0.4071028), 'bbox': (np.float32(447.16675), np.float32(139.77467), np.float32(557.6087), np.float32(315.9274)), 'team': 0, 'referee': True}, {'frame': 250, 'label': 'person', 'confidence': np.float32(0.38099402), 'bbox': (np.float32(0.0), np.float32(657.58203), np.float32(23.28609), np.float32(716.00183))}, {'frame': 250, 'label': 'person', 'confidence': np.float32(0.37344596), 'bbox': (np.float32(88.012535), np.float32(657.3609), np.float32(164.13063), np.float32(717.66895))}, {'frame': 250, 'label': 'person', 'confidence': np.float32(0.3382542), 'bbox': (np.float32(685.85333), np.float32(46.997814), np.float32(725.4002), np.float32(106.57973))}, {'frame': 250, 'label': 'person', 'confidence': np.float32(0.29020074), 'bbox': (np.float32(42.31349), np.float32(14.442721), np.float32(102.850296), np.float32(84.31453))}, {'frame': 251, 'label': 'person', 'confidence': np.float32(0.8851353), 'bbox': (np.float32(705.0712), np.float32(157.69785), np.float32(843.0392), np.float32(370.31476)), 'referee': True}, {'frame': 251, 'label': 'person', 'confidence': np.float32(0.8735696), 'bbox': (np.float32(1195.3434), np.float32(4.1711316), np.float32(1267.8574), np.float32(178.86647)), 'referee': True}, {'frame': 251, 'label': 'person', 'confidence': np.float32(0.873404), 'bbox': (np.float32(1074.4325), np.float32(97.7343), np.float32(1161.7957), np.float32(279.49844)), 'team': 1, 'referee': True}, {'frame': 251, 'label': 'person', 'confidence': np.float32(0.83442986), 'bbox': (np.float32(337.0506), np.float32(596.3133), np.float32(419.0173), np.float32(718.2707)), 'referee': True}, {'frame': 251, 'label': 'person', 'confidence': np.float32(0.7685909), 'bbox': (np.float32(496.6303), np.float32(143.43744), np.float32(651.4098), np.float32(408.2901)), 'team': 1, 'referee': True}, {'frame': 251, 'label': 'person', 'confidence': np.float32(0.37851292), 'bbox': (np.float32(40.645126), np.float32(7.3582244), np.float32(101.76489), np.float32(89.34189))}, {'frame': 251, 'label': 'person', 'confidence': np.float32(0.3625072), 'bbox': (np.float32(449.66107), np.float32(145.7697), np.float32(555.99915), np.float32(326.0222)), 'team': 0, 'referee': True}, {'frame': 251, 'label': 'person', 'confidence': np.float32(0.3584713), 'bbox': (np.float32(92.04315), np.float32(671.6034), np.float32(166.1798), np.float32(718.14716))}, {'frame': 251, 'label': 'person', 'confidence': np.float32(0.32040566), 'bbox': (np.float32(686.78357), np.float32(47.983162), np.float32(730.0518), np.float32(112.83275))}, {'frame': 251, 'label': 'person', 'confidence': np.float32(0.28233603), 'bbox': (np.float32(0.0), np.float32(663.39417), np.float32(22.369448), np.float32(714.2125))}, {'frame': 252, 'label': 'person', 'confidence': np.float32(0.87136745), 'bbox': (np.float32(712.771), np.float32(163.04413), np.float32(844.84784), np.float32(376.38675)), 'referee': True}, {'frame': 252, 'label': 'person', 'confidence': np.float32(0.854225), 'bbox': (np.float32(1199.2146), np.float32(4.70183), np.float32(1268.0), np.float32(187.80531)), 'referee': True}, {'frame': 252, 'label': 'person', 'confidence': np.float32(0.82938313), 'bbox': (np.float32(1068.2574), np.float32(103.176346), np.float32(1150.9495), np.float32(293.21127)), 'team': 1, 'referee': True}, {'frame': 252, 'label': 'person', 'confidence': np.float32(0.8136457), 'bbox': (np.float32(341.22263), np.float32(609.9699), np.float32(421.45938), np.float32(716.6354))}, {'frame': 252, 'label': 'person', 'confidence': np.float32(0.7690738), 'bbox': (np.float32(505.02826), np.float32(164.98079), np.float32(648.71893), np.float32(416.00742)), 'team': 1, 'referee': True}, {'frame': 252, 'label': 'person', 'confidence': np.float32(0.7387686), 'bbox': (np.float32(451.27902), np.float32(156.9968), np.float32(555.4047), np.float32(330.20007)), 'team': 0, 'referee': True}, {'frame': 252, 'label': 'person', 'confidence': np.float32(0.32205233), 'bbox': (np.float32(171.63063), np.float32(29.666592), np.float32(224.43233), np.float32(85.982506))}, {'frame': 253, 'label': 'person', 'confidence': np.float32(0.8780097), 'bbox': (np.float32(716.66986), np.float32(166.20819), np.float32(845.5722), np.float32(379.27682)), 'referee': True}, {'frame': 253, 'label': 'person', 'confidence': np.float32(0.8485851), 'bbox': (np.float32(1060.8743), np.float32(105.51528), np.float32(1145.1104), np.float32(293.80377)), 'team': 1, 'referee': True}, {'frame': 253, 'label': 'person', 'confidence': np.float32(0.82591206), 'bbox': (np.float32(1200.1143), np.float32(12.653177), np.float32(1267.7229), np.float32(195.20787)), 'team': 0, 'referee': True}, {'frame': 253, 'label': 'person', 'confidence': np.float32(0.8006282), 'bbox': (np.float32(343.49887), np.float32(616.4231), np.float32(423.72476), np.float32(718.1847)), 'referee': True}, {'frame': 253, 'label': 'person', 'confidence': np.float32(0.75020444), 'bbox': (np.float32(503.28064), np.float32(170.60217), np.float32(647.1066), np.float32(418.3202)), 'team': 1, 'referee': True}, {'frame': 253, 'label': 'person', 'confidence': np.float32(0.6885636), 'bbox': (np.float32(452.94598), np.float32(159.96822), np.float32(558.7852), np.float32(332.37122)), 'team': 0, 'referee': True}, {'frame': 253, 'label': 'person', 'confidence': np.float32(0.2590398), 'bbox': (np.float32(40.225258), np.float32(9.326816), np.float32(102.734665), np.float32(99.892))}, {'frame': 254, 'label': 'person', 'confidence': np.float32(0.8860143), 'bbox': (np.float32(1046.0901), np.float32(116.10545), np.float32(1135.3091), np.float32(301.29483)), 'team': 1, 'referee': True}, {'frame': 254, 'label': 'person', 'confidence': np.float32(0.87344855), 'bbox': (np.float32(720.3043), np.float32(175.00124), np.float32(843.05206), np.float32(391.84305)), 'referee': True}, {'frame': 254, 'label': 'person', 'confidence': np.float32(0.8397128), 'bbox': (np.float32(1198.6573), np.float32(10.814008), np.float32(1267.896), np.float32(202.9441)), 'team': 0, 'referee': True}, {'frame': 254, 'label': 'person', 'confidence': np.float32(0.7852361), 'bbox': (np.float32(500.77902), np.float32(181.33575), np.float32(646.26697), np.float32(425.10486)), 'team': 1, 'referee': True}, {'frame': 254, 'label': 'person', 'confidence': np.float32(0.718743), 'bbox': (np.float32(452.69116), np.float32(165.06165), np.float32(561.5823), np.float32(338.717)), 'team': 0, 'referee': True}, {'frame': 254, 'label': 'person', 'confidence': np.float32(0.6876903), 'bbox': (np.float32(342.74295), np.float32(631.0052), np.float32(422.01804), np.float32(718.48914))}, {'frame': 254, 'label': 'baseball bat', 'confidence': np.float32(0.42943692), 'bbox': (np.float32(943.7483), np.float32(216.92844), np.float32(1054.4648), np.float32(308.0082)), 'team': 0, 'referee': True}, {'frame': 255, 'label': 'person', 'confidence': np.float32(0.8778139), 'bbox': (np.float32(1042.3235), np.float32(116.68152), np.float32(1130.5117), np.float32(309.40405)), 'team': 1, 'referee': True}, {'frame': 255, 'label': 'person', 'confidence': np.float32(0.87681836), 'bbox': (np.float32(718.2169), np.float32(179.69913), np.float32(841.2806), np.float32(395.7981)), 'referee': True}, {'frame': 255, 'label': 'person', 'confidence': np.float32(0.84634286), 'bbox': (np.float32(1199.4016), np.float32(3.975103), np.float32(1268.0), np.float32(207.87863)), 'team': 0, 'referee': True}, {'frame': 255, 'label': 'person', 'confidence': np.float32(0.8093334), 'bbox': (np.float32(498.4977), np.float32(176.96907), np.float32(645.6989), np.float32(429.9834)), 'team': 1, 'referee': True}, {'frame': 255, 'label': 'person', 'confidence': np.float32(0.6371223), 'bbox': (np.float32(453.79398), np.float32(171.94693), np.float32(565.5142), np.float32(339.8655)), 'team': 0, 'referee': True}, {'frame': 255, 'label': 'person', 'confidence': np.float32(0.5241318), 'bbox': (np.float32(348.0918), np.float32(640.51276), np.float32(424.22736), np.float32(720.0))}, {'frame': 255, 'label': 'person', 'confidence': np.float32(0.33577067), 'bbox': (np.float32(33.351856), np.float32(9.248436), np.float32(98.33864), np.float32(115.77052))}, {'frame': 255, 'label': 'person', 'confidence': np.float32(0.3010978), 'bbox': (np.float32(697.6758), np.float32(3.652431), np.float32(745.07996), np.float32(59.288074))}, {'frame': 255, 'label': 'person', 'confidence': np.float32(0.29850113), 'bbox': (np.float32(645.95105), np.float32(3.5519075), np.float32(696.6348), np.float32(61.013428))}, {'frame': 256, 'label': 'person', 'confidence': np.float32(0.86675835), 'bbox': (np.float32(716.14526), np.float32(185.14415), np.float32(839.28485), np.float32(400.99158)), 'referee': True}, {'frame': 256, 'label': 'person', 'confidence': np.float32(0.85965973), 'bbox': (np.float32(1037.1329), np.float32(119.88871), np.float32(1123.1753), np.float32(314.07446)), 'team': 1, 'referee': True}, {'frame': 256, 'label': 'person', 'confidence': np.float32(0.8266745), 'bbox': (np.float32(1200.5624), np.float32(8.125711), np.float32(1268.0), np.float32(211.21669)), 'team': 0, 'referee': True}, {'frame': 256, 'label': 'person', 'confidence': np.float32(0.81757224), 'bbox': (np.float32(496.2599), np.float32(177.73354), np.float32(646.8845), np.float32(430.43054)), 'team': 1, 'referee': True}, {'frame': 256, 'label': 'person', 'confidence': np.float32(0.60697526), 'bbox': (np.float32(453.52982), np.float32(174.96162), np.float32(562.29474), np.float32(346.78622)), 'team': 0, 'referee': True}, {'frame': 256, 'label': 'person', 'confidence': np.float32(0.3518363), 'bbox': (np.float32(351.35635), np.float32(647.6699), np.float32(423.0478), np.float32(718.3838))}, {'frame': 256, 'label': 'person', 'confidence': np.float32(0.34703317), 'bbox': (np.float32(33.861904), np.float32(18.416416), np.float32(97.56562), np.float32(119.85378))}, {'frame': 256, 'label': 'person', 'confidence': np.float32(0.28360322), 'bbox': (np.float32(647.35144), np.float32(1.7822968), np.float32(700.5289), np.float32(64.90638))}, {'frame': 256, 'label': 'person', 'confidence': np.float32(0.26670298), 'bbox': (np.float32(700.1074), np.float32(2.3570464), np.float32(753.00964), np.float32(62.698948))}, {'frame': 257, 'label': 'person', 'confidence': np.float32(0.8848019), 'bbox': (np.float32(710.3002), np.float32(192.58525), np.float32(841.09265), np.float32(407.95636)), 'referee': True}, {'frame': 257, 'label': 'person', 'confidence': np.float32(0.86333215), 'bbox': (np.float32(1199.4246), np.float32(10.894506), np.float32(1267.9008), np.float32(219.04552)), 'team': 1, 'referee': True}, {'frame': 257, 'label': 'person', 'confidence': np.float32(0.857006), 'bbox': (np.float32(497.19138), np.float32(189.61069), np.float32(647.5502), np.float32(437.16037)), 'team': 1, 'referee': True}, {'frame': 257, 'label': 'person', 'confidence': np.float32(0.84979975), 'bbox': (np.float32(1018.6311), np.float32(130.82051), np.float32(1110.0293), np.float32(325.5851)), 'team': 1, 'referee': True}, {'frame': 257, 'label': 'person', 'confidence': np.float32(0.6926128), 'bbox': (np.float32(451.20865), np.float32(184.79005), np.float32(560.985), np.float32(349.73245)), 'team': 0, 'referee': True}, {'frame': 257, 'label': 'person', 'confidence': np.float32(0.3206546), 'bbox': (np.float32(709.3158), np.float32(4.079069), np.float32(761.62915), np.float32(68.84917))}, {'frame': 257, 'label': 'person', 'confidence': np.float32(0.2952841), 'bbox': (np.float32(788.2115), np.float32(3.1555655), np.float32(836.56177), np.float32(57.41364))}, {'frame': 257, 'label': 'person', 'confidence': np.float32(0.27824202), 'bbox': (np.float32(647.5299), np.float32(3.352104), np.float32(705.98944), np.float32(74.36599))}, {'frame': 257, 'label': 'baseball glove', 'confidence': np.float32(0.27053583), 'bbox': (np.float32(609.9496), np.float32(305.9181), np.float32(647.016), np.float32(341.34048)), 'team': 0}, {'frame': 257, 'label': 'person', 'confidence': np.float32(0.26156336), 'bbox': (np.float32(170.20502), np.float32(54.749928), np.float32(224.04233), np.float32(116.57226))}, {'frame': 258, 'label': 'person', 'confidence': np.float32(0.89553654), 'bbox': (np.float32(709.5924), np.float32(197.21378), np.float32(845.0397), np.float32(415.31192)), 'referee': True}, {'frame': 258, 'label': 'person', 'confidence': np.float32(0.863676), 'bbox': (np.float32(1200.7515), np.float32(13.677427), np.float32(1267.8353), np.float32(224.23991)), 'team': 1, 'referee': True}, {'frame': 258, 'label': 'person', 'confidence': np.float32(0.85500854), 'bbox': (np.float32(1008.1247), np.float32(135.00876), np.float32(1103.2678), np.float32(332.6125)), 'team': 1, 'referee': True}, {'frame': 258, 'label': 'person', 'confidence': np.float32(0.8475316), 'bbox': (np.float32(489.98148), np.float32(189.86975), np.float32(648.177), np.float32(440.57263)), 'team': 1, 'referee': True}, {'frame': 258, 'label': 'person', 'confidence': np.float32(0.6356007), 'bbox': (np.float32(449.78082), np.float32(188.81743), np.float32(553.1351), np.float32(346.38763)), 'team': 0, 'referee': True}, {'frame': 258, 'label': 'baseball bat', 'confidence': np.float32(0.39411402), 'bbox': (np.float32(900.6993), np.float32(235.34988), np.float32(1017.7445), np.float32(328.88882)), 'team': 0, 'referee': True}, {'frame': 258, 'label': 'person', 'confidence': np.float32(0.29812124), 'bbox': (np.float32(32.8563), np.float32(62.894794), np.float32(90.17823), np.float32(132.89046))}, {'frame': 258, 'label': 'person', 'confidence': np.float32(0.2804386), 'bbox': (np.float32(709.2593), np.float32(8.242877), np.float32(760.2783), np.float32(74.2953))}, {'frame': 258, 'label': 'baseball glove', 'confidence': np.float32(0.2613123), 'bbox': (np.float32(609.664), np.float32(315.45612), np.float32(643.2997), np.float32(345.2831))}, {'frame': 259, 'label': 'person', 'confidence': np.float32(0.8980545), 'bbox': (np.float32(710.1873), np.float32(200.7846), np.float32(846.6195), np.float32(423.5021)), 'referee': True}, {'frame': 259, 'label': 'person', 'confidence': np.float32(0.8618054), 'bbox': (np.float32(1001.86017), np.float32(141.58784), np.float32(1098.1409), np.float32(334.16574)), 'team': 1, 'referee': True}, {'frame': 259, 'label': 'person', 'confidence': np.float32(0.84678364), 'bbox': (np.float32(490.36725), np.float32(209.59537), np.float32(647.9533), np.float32(444.71954)), 'team': 1, 'referee': True}, {'frame': 259, 'label': 'person', 'confidence': np.float32(0.8467717), 'bbox': (np.float32(1199.1923), np.float32(19.53034), np.float32(1267.9868), np.float32(229.1885)), 'team': 1, 'referee': True}, {'frame': 259, 'label': 'person', 'confidence': np.float32(0.73243654), 'bbox': (np.float32(450.20514), np.float32(190.6468), np.float32(569.9258), np.float32(352.93198)), 'team': 0, 'referee': True}, {'frame': 259, 'label': 'person', 'confidence': np.float32(0.40438664), 'bbox': (np.float32(31.10715), np.float32(66.73582), np.float32(90.154366), np.float32(134.01111))}, {'frame': 259, 'label': 'person', 'confidence': np.float32(0.2683209), 'bbox': (np.float32(162.10336), np.float32(68.16518), np.float32(220.49092), np.float32(127.28729))}, {'frame': 260, 'label': 'person', 'confidence': np.float32(0.9146824), 'bbox': (np.float32(712.9102), np.float32(207.71355), np.float32(852.25), np.float32(431.17545)), 'team': 1, 'referee': True}, {'frame': 260, 'label': 'person', 'confidence': np.float32(0.85875016), 'bbox': (np.float32(984.45325), np.float32(149.24367), np.float32(1083.1182), np.float32(342.33017)), 'team': 1, 'referee': True}, {'frame': 260, 'label': 'person', 'confidence': np.float32(0.8090732), 'bbox': (np.float32(1199.401), np.float32(27.928598), np.float32(1268.0), np.float32(241.6289)), 'team': 1, 'referee': True}, {'frame': 260, 'label': 'person', 'confidence': np.float32(0.79890954), 'bbox': (np.float32(484.46967), np.float32(213.51675), np.float32(654.65), np.float32(451.39465)), 'team': 1, 'referee': True}, {'frame': 260, 'label': 'person', 'confidence': np.float32(0.68590343), 'bbox': (np.float32(454.5751), np.float32(197.40866), np.float32(570.9677), np.float32(349.60397)), 'team': 0, 'referee': True}, {'frame': 260, 'label': 'baseball bat', 'confidence': np.float32(0.38565323), 'bbox': (np.float32(872.089), np.float32(254.11063), np.float32(988.81177), np.float32(337.03253)), 'team': 0, 'referee': True}, {'frame': 260, 'label': 'person', 'confidence': np.float32(0.26954812), 'bbox': (np.float32(660.4208), np.float32(15.154065), np.float32(712.0576), np.float32(87.27744))}, {'frame': 260, 'label': 'person', 'confidence': np.float32(0.25789645), 'bbox': (np.float32(14.747383), np.float32(46.88378), np.float32(89.50422), np.float32(144.6265))}, {'frame': 261, 'label': 'person', 'confidence': np.float32(0.90683067), 'bbox': (np.float32(712.63763), np.float32(211.46568), np.float32(855.0697), np.float32(435.6043)), 'team': 1, 'referee': True}, {'frame': 261, 'label': 'person', 'confidence': np.float32(0.8763261), 'bbox': (np.float32(975.97406), np.float32(151.71448), np.float32(1078.0669), np.float32(351.53113)), 'team': 1, 'referee': True}, {'frame': 261, 'label': 'person', 'confidence': np.float32(0.7863411), 'bbox': (np.float32(1198.8269), np.float32(30.067581), np.float32(1268.0), np.float32(251.70735)), 'team': 1, 'referee': True}, {'frame': 261, 'label': 'person', 'confidence': np.float32(0.76454777), 'bbox': (np.float32(480.50943), np.float32(209.08847), np.float32(654.3358), np.float32(454.22122)), 'team': 1, 'referee': True}, {'frame': 261, 'label': 'person', 'confidence': np.float32(0.646172), 'bbox': (np.float32(451.09204), np.float32(201.57788), np.float32(569.7488), np.float32(361.8386)), 'team': 0, 'referee': True}, {'frame': 261, 'label': 'baseball bat', 'confidence': np.float32(0.34949538), 'bbox': (np.float32(604.9527), np.float32(325.3455), np.float32(676.84595), np.float32(361.31622)), 'team': 0}, {'frame': 261, 'label': 'baseball bat', 'confidence': np.float32(0.32632443), 'bbox': (np.float32(860.18646), np.float32(262.4554), np.float32(981.62085), np.float32(339.99982)), 'team': 0, 'referee': True}, {'frame': 261, 'label': 'person', 'confidence': np.float32(0.27089053), 'bbox': (np.float32(662.10614), np.float32(18.317638), np.float32(712.8932), np.float32(89.83169))}, {'frame': 261, 'label': 'person', 'confidence': np.float32(0.26057115), 'bbox': (np.float32(715.81354), np.float32(34.54967), np.float32(765.7765), np.float32(92.74677))}, {'frame': 261, 'label': 'person', 'confidence': np.float32(0.25932673), 'bbox': (np.float32(7.55889), np.float32(48.700428), np.float32(89.20679), np.float32(150.51245))}, {'frame': 262, 'label': 'person', 'confidence': np.float32(0.89317596), 'bbox': (np.float32(713.9833), np.float32(211.59152), np.float32(858.63824), np.float32(439.7726)), 'referee': True}, {'frame': 262, 'label': 'person', 'confidence': np.float32(0.8862959), 'bbox': (np.float32(967.74915), np.float32(155.66193), np.float32(1071.3976), np.float32(355.87946)), 'team': 1, 'referee': True}, {'frame': 262, 'label': 'person', 'confidence': np.float32(0.7946297), 'bbox': (np.float32(476.8194), np.float32(206.76723), np.float32(659.60205), np.float32(455.9842)), 'team': 1, 'referee': True}, {'frame': 262, 'label': 'person', 'confidence': np.float32(0.5923006), 'bbox': (np.float32(450.67255), np.float32(203.63959), np.float32(565.52905), np.float32(369.95868)), 'team': 0, 'referee': True}, {'frame': 262, 'label': 'person', 'confidence': np.float32(0.5669087), 'bbox': (np.float32(1200.7098), np.float32(23.96749), np.float32(1268.0), np.float32(299.18918)), 'referee': True}, {'frame': 262, 'label': 'person', 'confidence': np.float32(0.51862645), 'bbox': (np.float32(1228.1635), np.float32(177.9798), np.float32(1268.0), np.float32(340.39316))}, {'frame': 262, 'label': 'person', 'confidence': np.float32(0.35070577), 'bbox': (np.float32(4.1671143), np.float32(43.596176), np.float32(90.267365), np.float32(151.73132))}, {'frame': 262, 'label': 'person', 'confidence': np.float32(0.29076433), 'bbox': (np.float32(290.61957), np.float32(0.68358284), np.float32(358.25574), np.float32(97.35562))}, {'frame': 263, 'label': 'person', 'confidence': np.float32(0.89348423), 'bbox': (np.float32(712.09796), np.float32(215.23064), np.float32(860.5107), np.float32(443.39093)), 'team': 1, 'referee': True}, {'frame': 263, 'label': 'person', 'confidence': np.float32(0.8737266), 'bbox': (np.float32(950.40845), np.float32(161.44106), np.float32(1065.7551), np.float32(359.25723)), 'team': 1, 'referee': True}, {'frame': 263, 'label': 'person', 'confidence': np.float32(0.78515714), 'bbox': (np.float32(474.86835), np.float32(209.15477), np.float32(652.5985), np.float32(457.98596)), 'team': 1, 'referee': True}, {'frame': 263, 'label': 'person', 'confidence': np.float32(0.5881797), 'bbox': (np.float32(1201.0035), np.float32(30.720007), np.float32(1268.0), np.float32(254.45348)), 'referee': True}, {'frame': 263, 'label': 'person', 'confidence': np.float32(0.54758185), 'bbox': (np.float32(450.7344), np.float32(208.92352), np.float32(564.7101), np.float32(371.51532)), 'team': 0, 'referee': True}, {'frame': 263, 'label': 'person', 'confidence': np.float32(0.4986504), 'bbox': (np.float32(1221.3575), np.float32(180.86002), np.float32(1268.0), np.float32(362.8116)), 'referee': True}, {'frame': 263, 'label': 'person', 'confidence': np.float32(0.2887741), 'bbox': (np.float32(290.53424), np.float32(0.94947624), np.float32(359.72253), np.float32(99.24587))}, {'frame': 263, 'label': 'person', 'confidence': np.float32(0.26248506), 'bbox': (np.float32(2.311733), np.float32(46.202225), np.float32(81.994064), np.float32(154.07858))}, {'frame': 264, 'label': 'person', 'confidence': np.float32(0.8904271), 'bbox': (np.float32(717.62366), np.float32(217.30496), np.float32(862.62354), np.float32(448.8949)), 'team': 1, 'referee': True}, {'frame': 264, 'label': 'person', 'confidence': np.float32(0.86792177), 'bbox': (np.float32(937.6692), np.float32(168.32707), np.float32(1051.3463), np.float32(366.61243)), 'team': 1, 'referee': True}, {'frame': 264, 'label': 'person', 'confidence': np.float32(0.8542269), 'bbox': (np.float32(466.79947), np.float32(215.67992), np.float32(645.7913), np.float32(463.49774)), 'team': 1, 'referee': True}, {'frame': 264, 'label': 'person', 'confidence': np.float32(0.7707488), 'bbox': (np.float32(1203.7175), np.float32(189.82822), np.float32(1268.0), np.float32(382.20154)), 'referee': True}, {'frame': 264, 'label': 'person', 'confidence': np.float32(0.47171825), 'bbox': (np.float32(454.09952), np.float32(210.67043), np.float32(571.53735), np.float32(369.2199)), 'team': 0, 'referee': True}, {'frame': 264, 'label': 'person', 'confidence': np.float32(0.3597012), 'bbox': (np.float32(1199.9705), np.float32(40.08817), np.float32(1267.6589), np.float32(262.06006)), 'referee': True}, {'frame': 264, 'label': 'person', 'confidence': np.float32(0.3404897), 'bbox': (np.float32(484.6002), np.float32(0.26536056), np.float32(556.42426), np.float32(98.75334))}, {'frame': 264, 'label': 'person', 'confidence': np.float32(0.2890084), 'bbox': (np.float32(14.991601), np.float32(65.35483), np.float32(83.79073), np.float32(164.80663))}, {'frame': 265, 'label': 'person', 'confidence': np.float32(0.88286465), 'bbox': (np.float32(720.5877), np.float32(216.52669), np.float32(863.3688), np.float32(450.02237)), 'team': 1, 'referee': True}, {'frame': 265, 'label': 'person', 'confidence': np.float32(0.85936844), 'bbox': (np.float32(463.85422), np.float32(220.87445), np.float32(646.5059), np.float32(463.31744)), 'team': 1, 'referee': True}, {'frame': 265, 'label': 'person', 'confidence': np.float32(0.857909), 'bbox': (np.float32(925.72955), np.float32(172.86914), np.float32(1044.1937), np.float32(369.39218)), 'team': 1, 'referee': True}, {'frame': 265, 'label': 'person', 'confidence': np.float32(0.68379533), 'bbox': (np.float32(1197.7408), np.float32(191.57985), np.float32(1268.0), np.float32(386.25317)), 'referee': True}, {'frame': 265, 'label': 'person', 'confidence': np.float32(0.48589048), 'bbox': (np.float32(1216.0753), np.float32(32.593536), np.float32(1267.9734), np.float32(205.26595)), 'referee': True}, {'frame': 265, 'label': 'person', 'confidence': np.float32(0.47898304), 'bbox': (np.float32(452.5622), np.float32(211.28328), np.float32(573.95184), np.float32(369.70773)), 'team': 0, 'referee': True}, {'frame': 265, 'label': 'person', 'confidence': np.float32(0.32320267), 'bbox': (np.float32(485.05655), np.float32(1.154113), np.float32(559.78973), np.float32(97.0371))}, {'frame': 265, 'label': 'person', 'confidence': np.float32(0.30622405), 'bbox': (np.float32(14.901598), np.float32(66.71791), np.float32(81.38917), np.float32(167.56432))}, {'frame': 265, 'label': 'person', 'confidence': np.float32(0.2584833), 'bbox': (np.float32(673.5245), np.float32(52.42793), np.float32(730.19775), np.float32(108.09983))}, {'frame': 265, 'label': 'person', 'confidence': np.float32(0.25778672), 'bbox': (np.float32(156.72868), np.float32(93.5042), np.float32(214.18639), np.float32(153.49995))}, {'frame': 266, 'label': 'person', 'confidence': np.float32(0.88327813), 'bbox': (np.float32(721.6266), np.float32(218.0473), np.float32(864.2759), np.float32(452.4634)), 'team': 1, 'referee': True}, {'frame': 266, 'label': 'person', 'confidence': np.float32(0.87370396), 'bbox': (np.float32(909.48663), np.float32(177.13634), np.float32(1037.8586), np.float32(369.96298)), 'team': 1, 'referee': True}, {'frame': 266, 'label': 'person', 'confidence': np.float32(0.84961367), 'bbox': (np.float32(464.97168), np.float32(223.60814), np.float32(644.555), np.float32(464.60562)), 'team': 1, 'referee': True}, {'frame': 266, 'label': 'person', 'confidence': np.float32(0.6412896), 'bbox': (np.float32(1189.7582), np.float32(187.85767), np.float32(1268.0), np.float32(389.27176)), 'referee': True}, {'frame': 266, 'label': 'person', 'confidence': np.float32(0.39910927), 'bbox': (np.float32(14.604139), np.float32(86.19709), np.float32(78.86774), np.float32(170.96385))}, {'frame': 266, 'label': 'person', 'confidence': np.float32(0.3697677), 'bbox': (np.float32(1216.1195), np.float32(28.909882), np.float32(1268.0), np.float32(210.34914)), 'referee': True}, {'frame': 266, 'label': 'person', 'confidence': np.float32(0.36907697), 'bbox': (np.float32(451.30692), np.float32(210.86523), np.float32(581.80133), np.float32(369.47403)), 'team': 0, 'referee': True}, {'frame': 266, 'label': 'person', 'confidence': np.float32(0.36857942), 'bbox': (np.float32(672.2819), np.float32(34.37181), np.float32(732.56226), np.float32(110.668655))}, {'frame': 266, 'label': 'person', 'confidence': np.float32(0.32195905), 'bbox': (np.float32(486.3539), np.float32(1.8141494), np.float32(559.034), np.float32(98.086136))}, {'frame': 266, 'label': 'person', 'confidence': np.float32(0.31100342), 'bbox': (np.float32(151.56602), np.float32(95.177925), np.float32(213.34242), np.float32(157.25679))}, {'frame': 266, 'label': 'person', 'confidence': np.float32(0.27355433), 'bbox': (np.float32(727.68945), np.float32(44.831306), np.float32(782.301), np.float32(106.982155))}, {'frame': 267, 'label': 'person', 'confidence': np.float32(0.8796067), 'bbox': (np.float32(721.6718), np.float32(213.76709), np.float32(863.45233), np.float32(453.22852)), 'team': 1, 'referee': True}, {'frame': 267, 'label': 'person', 'confidence': np.float32(0.876457), 'bbox': (np.float32(898.9897), np.float32(178.557), np.float32(1031.4408), np.float32(370.77524)), 'team': 1, 'referee': True}, {'frame': 267, 'label': 'person', 'confidence': np.float32(0.8698151), 'bbox': (np.float32(461.62796), np.float32(226.6185), np.float32(643.3542), np.float32(464.42856)), 'team': 1, 'referee': True}, {'frame': 267, 'label': 'person', 'confidence': np.float32(0.6442194), 'bbox': (np.float32(1181.8315), np.float32(187.36794), np.float32(1267.2098), np.float32(393.11438)), 'referee': True}, {'frame': 267, 'label': 'person', 'confidence': np.float32(0.4312958), 'bbox': (np.float32(1202.4082), np.float32(26.80475), np.float32(1267.4293), np.float32(217.43478)), 'referee': True}, {'frame': 267, 'label': 'person', 'confidence': np.float32(0.39761922), 'bbox': (np.float32(140.899), np.float32(95.24387), np.float32(213.87164), np.float32(159.40813))}, {'frame': 267, 'label': 'person', 'confidence': np.float32(0.3231267), 'bbox': (np.float32(449.3), np.float32(211.2177), np.float32(594.3529), np.float32(367.71387)), 'team': 0, 'referee': True}, {'frame': 267, 'label': 'person', 'confidence': np.float32(0.31753713), 'bbox': (np.float32(11.552396), np.float32(85.1395), np.float32(77.8406), np.float32(171.2997))}, {'frame': 267, 'label': 'person', 'confidence': np.float32(0.31148937), 'bbox': (np.float32(485.91803), np.float32(0.9788423), np.float32(560.7897), np.float32(99.61102))}, {'frame': 267, 'label': 'person', 'confidence': np.float32(0.30213472), 'bbox': (np.float32(675.6794), np.float32(42.49125), np.float32(732.8116), np.float32(111.12187))}, {'frame': 268, 'label': 'person', 'confidence': np.float32(0.8817537), 'bbox': (np.float32(888.2609), np.float32(180.28789), np.float32(1016.3104), np.float32(375.91092)), 'team': 1, 'referee': True}, {'frame': 268, 'label': 'person', 'confidence': np.float32(0.87006634), 'bbox': (np.float32(463.09702), np.float32(224.05449), np.float32(646.73846), np.float32(466.77417)), 'team': 1, 'referee': True}, {'frame': 268, 'label': 'person', 'confidence': np.float32(0.867509), 'bbox': (np.float32(725.75775), np.float32(213.67323), np.float32(861.0729), np.float32(456.29144)), 'team': 1, 'referee': True}, {'frame': 268, 'label': 'person', 'confidence': np.float32(0.79679006), 'bbox': (np.float32(1161.2), np.float32(190.90393), np.float32(1267.0392), np.float32(400.15298)), 'referee': True}, {'frame': 268, 'label': 'person', 'confidence': np.float32(0.5833077), 'bbox': (np.float32(1200.3156), np.float32(19.693483), np.float32(1268.0), np.float32(239.43156)), 'referee': True}, {'frame': 268, 'label': 'baseball glove', 'confidence': np.float32(0.46914607), 'bbox': (np.float32(894.81683), np.float32(266.40622), np.float32(924.5708), np.float32(295.3401))}, {'frame': 268, 'label': 'baseball glove', 'confidence': np.float32(0.4475406), 'bbox': (np.float32(633.9396), np.float32(307.28082), np.float32(679.5159), np.float32(349.02835)), 'team': 0}, {'frame': 268, 'label': 'person', 'confidence': np.float32(0.37720212), 'bbox': (np.float32(5.7572446), np.float32(95.84941), np.float32(75.14798), np.float32(169.48157))}, {'frame': 268, 'label': 'person', 'confidence': np.float32(0.36438572), 'bbox': (np.float32(141.9413), np.float32(95.28106), np.float32(211.68349), np.float32(160.58157))}, {'frame': 268, 'label': 'person', 'confidence': np.float32(0.32751325), 'bbox': (np.float32(453.2089), np.float32(216.51367), np.float32(557.8196), np.float32(369.37894)), 'team': 0, 'referee': True}, {'frame': 268, 'label': 'baseball glove', 'confidence': np.float32(0.3039066), 'bbox': (np.float32(1159.0223), np.float32(195.21106), np.float32(1202.0742), np.float32(241.23097))}, {'frame': 268, 'label': 'person', 'confidence': np.float32(0.27381384), 'bbox': (np.float32(489.48557), np.float32(2.2956953), np.float32(556.962), np.float32(96.19213))}, {'frame': 268, 'label': 'person', 'confidence': np.float32(0.26327276), 'bbox': (np.float32(106.034065), np.float32(114.683395), np.float32(161.89313), np.float32(166.6907))}, {'frame': 269, 'label': 'person', 'confidence': np.float32(0.89104456), 'bbox': (np.float32(463.32056), np.float32(228.50319), np.float32(640.3154), np.float32(467.23798)), 'team': 1, 'referee': True}, {'frame': 269, 'label': 'person', 'confidence': np.float32(0.87653404), 'bbox': (np.float32(878.365), np.float32(182.80392), np.float32(1008.4205), np.float32(376.911)), 'team': 1, 'referee': True}, {'frame': 269, 'label': 'person', 'confidence': np.float32(0.8759991), 'bbox': (np.float32(725.8805), np.float32(213.96497), np.float32(859.8098), np.float32(458.2678)), 'team': 1, 'referee': True}, {'frame': 269, 'label': 'person', 'confidence': np.float32(0.73544836), 'bbox': (np.float32(1150.1019), np.float32(191.96721), np.float32(1265.8948), np.float32(401.7192)), 'referee': True}, {'frame': 269, 'label': 'person', 'confidence': np.float32(0.5861091), 'bbox': (np.float32(1201.4819), np.float32(22.634636), np.float32(1268.0), np.float32(253.60268)), 'referee': True}, {'frame': 269, 'label': 'person', 'confidence': np.float32(0.46487713), 'bbox': (np.float32(582.5626), np.float32(220.73264), np.float32(663.533), np.float32(339.87613)), 'team': 0, 'referee': True}, {'frame': 269, 'label': 'person', 'confidence': np.float32(0.38478604), 'bbox': (np.float32(467.99292), np.float32(205.56554), np.float32(579.0254), np.float32(360.5228)), 'team': 0, 'referee': True}, {'frame': 269, 'label': 'person', 'confidence': np.float32(0.33180618), 'bbox': (np.float32(1.2676399), np.float32(82.64849), np.float32(73.03922), np.float32(174.9117))}, {'frame': 269, 'label': 'person', 'confidence': np.float32(0.3064861), 'bbox': (np.float32(142.13664), np.float32(94.98186), np.float32(212.67372), np.float32(161.68619))}, {'frame': 269, 'label': 'person', 'confidence': np.float32(0.30571026), 'bbox': (np.float32(746.94763), np.float32(123.91869), np.float32(798.5501), np.float32(201.01884)), 'team': 0, 'referee': True}, {'frame': 269, 'label': 'person', 'confidence': np.float32(0.28826597), 'bbox': (np.float32(490.72647), np.float32(2.80762), np.float32(557.37006), np.float32(97.47513))}, {'frame': 269, 'label': 'baseball glove', 'confidence': np.float32(0.28209722), 'bbox': (np.float32(886.58344), np.float32(269.39377), np.float32(918.5376), np.float32(299.7114))}, {'frame': 270, 'label': 'person', 'confidence': np.float32(0.893433), 'bbox': (np.float32(464.65466), np.float32(225.05017), np.float32(637.18256), np.float32(465.6071)), 'team': 1, 'referee': True}, {'frame': 270, 'label': 'person', 'confidence': np.float32(0.861427), 'bbox': (np.float32(728.5719), np.float32(212.7265), np.float32(859.05347), np.float32(459.12283)), 'team': 1, 'referee': True}, {'frame': 270, 'label': 'person', 'confidence': np.float32(0.86052257), 'bbox': (np.float32(871.3112), np.float32(182.4764), np.float32(1003.6179), np.float32(376.72308)), 'team': 1, 'referee': True}, {'frame': 270, 'label': 'person', 'confidence': np.float32(0.7803378), 'bbox': (np.float32(1136.9873), np.float32(194.14961), np.float32(1261.1936), np.float32(405.054)), 'referee': True}, {'frame': 270, 'label': 'person', 'confidence': np.float32(0.6600463), 'bbox': (np.float32(1200.5405), np.float32(25.562387), np.float32(1268.0), np.float32(251.67444)), 'referee': True}, {'frame': 270, 'label': 'person', 'confidence': np.float32(0.49263522), 'bbox': (np.float32(586.9663), np.float32(223.39676), np.float32(660.38574), np.float32(343.8403)), 'team': 0, 'referee': True}, {'frame': 270, 'label': 'person', 'confidence': np.float32(0.43857428), 'bbox': (np.float32(455.7354), np.float32(212.50452), np.float32(553.0115), np.float32(365.34314)), 'team': 0, 'referee': True}, {'frame': 270, 'label': 'person', 'confidence': np.float32(0.33176216), 'bbox': (np.float32(1.2716872), np.float32(70.532135), np.float32(70.07226), np.float32(174.5617))}, {'frame': 270, 'label': 'person', 'confidence': np.float32(0.28643256), 'bbox': (np.float32(492.62488), np.float32(2.579429), np.float32(564.8156), np.float32(100.28446))}, {'frame': 270, 'label': 'person', 'confidence': np.float32(0.25271454), 'bbox': (np.float32(143.23184), np.float32(95.70758), np.float32(211.55042), np.float32(161.51552))}, {'frame': 271, 'label': 'person', 'confidence': np.float32(0.8906592), 'bbox': (np.float32(464.7596), np.float32(225.38046), np.float32(635.8049), np.float32(465.17734)), 'team': 1, 'referee': True}, {'frame': 271, 'label': 'person', 'confidence': np.float32(0.8673272), 'bbox': (np.float32(868.8196), np.float32(185.05605), np.float32(993.94104), np.float32(376.63046)), 'team': 1, 'referee': True}, {'frame': 271, 'label': 'person', 'confidence': np.float32(0.8635606), 'bbox': (np.float32(728.30707), np.float32(212.30002), np.float32(856.38055), np.float32(461.0974)), 'team': 1, 'referee': True}, {'frame': 271, 'label': 'person', 'confidence': np.float32(0.813986), 'bbox': (np.float32(1124.8062), np.float32(195.87138), np.float32(1253.5956), np.float32(406.4166)), 'referee': True}, {'frame': 271, 'label': 'person', 'confidence': np.float32(0.79421866), 'bbox': (np.float32(1196.0994), np.float32(29.339153), np.float32(1268.0), np.float32(254.62822)), 'referee': True}, {'frame': 271, 'label': 'person', 'confidence': np.float32(0.5125095), 'bbox': (np.float32(593.8354), np.float32(225.48422), np.float32(664.5096), np.float32(338.59863)), 'team': 0, 'referee': True}, {'frame': 271, 'label': 'person', 'confidence': np.float32(0.4414192), 'bbox': (np.float32(471.08176), np.float32(199.59186), np.float32(565.97174), np.float32(362.57056)), 'team': 0, 'referee': True}, {'frame': 271, 'label': 'person', 'confidence': np.float32(0.42895186), 'bbox': (np.float32(4.345476), np.float32(96.95128), np.float32(72.13288), np.float32(172.60521))}, {'frame': 271, 'label': 'person', 'confidence': np.float32(0.26410127), 'bbox': (np.float32(744.9313), np.float32(41.041824), np.float32(794.06274), np.float32(111.29363))}, {'frame': 272, 'label': 'person', 'confidence': np.float32(0.8809607), 'bbox': (np.float32(460.60538), np.float32(223.42152), np.float32(635.0758), np.float32(465.28067)), 'team': 1, 'referee': True}, {'frame': 272, 'label': 'person', 'confidence': np.float32(0.86653584), 'bbox': (np.float32(724.34467), np.float32(212.06923), np.float32(855.441), np.float32(459.70676)), 'team': 1, 'referee': True}, {'frame': 272, 'label': 'person', 'confidence': np.float32(0.8589289), 'bbox': (np.float32(858.9069), np.float32(187.06975), np.float32(988.6139), np.float32(376.97)), 'team': 1, 'referee': True}, {'frame': 272, 'label': 'person', 'confidence': np.float32(0.8089585), 'bbox': (np.float32(1118.9734), np.float32(199.87312), np.float32(1252.9791), np.float32(405.31543)), 'referee': True}, {'frame': 272, 'label': 'person', 'confidence': np.float32(0.7966735), 'bbox': (np.float32(1194.0776), np.float32(31.060043), np.float32(1268.0), np.float32(259.29303)), 'referee': True}, {'frame': 272, 'label': 'person', 'confidence': np.float32(0.45335132), 'bbox': (np.float32(593.4921), np.float32(230.78302), np.float32(672.38916), np.float32(343.88998)), 'team': 0, 'referee': True}, {'frame': 272, 'label': 'person', 'confidence': np.float32(0.44457394), 'bbox': (np.float32(450.70172), np.float32(190.6863), np.float32(565.9573), np.float32(362.73758)), 'team': 0, 'referee': True}, {'frame': 272, 'label': 'person', 'confidence': np.float32(0.4113837), 'bbox': (np.float32(1.7103459), np.float32(94.66435), np.float32(68.57469), np.float32(176.3684))}, {'frame': 272, 'label': 'person', 'confidence': np.float32(0.29334977), 'bbox': (np.float32(686.7442), np.float32(41.753647), np.float32(744.19385), np.float32(116.21658))}, {'frame': 272, 'label': 'person', 'confidence': np.float32(0.28248602), 'bbox': (np.float32(744.09924), np.float32(42.802925), np.float32(797.0897), np.float32(111.34265))}, {'frame': 272, 'label': 'person', 'confidence': np.float32(0.28094313), 'bbox': (np.float32(492.86813), np.float32(2.9461255), np.float32(567.2984), np.float32(101.03118))}, {'frame': 273, 'label': 'person', 'confidence': np.float32(0.89288056), 'bbox': (np.float32(459.3967), np.float32(228.62828), np.float32(628.72015), np.float32(463.78882)), 'team': 1, 'referee': True}, {'frame': 273, 'label': 'person', 'confidence': np.float32(0.85023415), 'bbox': (np.float32(722.56335), np.float32(208.52849), np.float32(854.4867), np.float32(461.63666)), 'team': 1, 'referee': True}, {'frame': 273, 'label': 'person', 'confidence': np.float32(0.84100187), 'bbox': (np.float32(845.5762), np.float32(185.60138), np.float32(973.8736), np.float32(372.65082)), 'team': 0, 'referee': True}, {'frame': 273, 'label': 'person', 'confidence': np.float32(0.794055), 'bbox': (np.float32(1187.0302), np.float32(32.302532), np.float32(1268.0), np.float32(261.13342)), 'referee': True}, {'frame': 273, 'label': 'person', 'confidence': np.float32(0.7749839), 'bbox': (np.float32(1098.3086), np.float32(200.32576), np.float32(1215.1016), np.float32(414.77396)), 'referee': True}, {'frame': 273, 'label': 'person', 'confidence': np.float32(0.50665987), 'bbox': (np.float32(464.54373), np.float32(186.68248), np.float32(551.0729), np.float32(350.87326)), 'team': 0, 'referee': True}, {'frame': 273, 'label': 'baseball bat', 'confidence': np.float32(0.4421134), 'bbox': (np.float32(712.0501), np.float32(353.15787), np.float32(758.8135), np.float32(419.4607)), 'team': 0}, {'frame': 273, 'label': 'person', 'confidence': np.float32(0.39052382), 'bbox': (np.float32(587.93115), np.float32(236.49706), np.float32(672.5038), np.float32(346.16858)), 'team': 0, 'referee': True}, {'frame': 273, 'label': 'person', 'confidence': np.float32(0.3265801), 'bbox': (np.float32(691.0058), np.float32(45.39801), np.float32(746.83246), np.float32(113.64944))}, {'frame': 273, 'label': 'person', 'confidence': np.float32(0.28995517), 'bbox': (np.float32(0.6534213), np.float32(86.36663), np.float32(63.653526), np.float32(173.71571))}, {'frame': 273, 'label': 'person', 'confidence': np.float32(0.25056484), 'bbox': (np.float32(744.5637), np.float32(42.987827), np.float32(800.61316), np.float32(110.916855))}, {'frame': 274, 'label': 'person', 'confidence': np.float32(0.87867886), 'bbox': (np.float32(455.0506), np.float32(227.89114), np.float32(624.1515), np.float32(463.30585)), 'team': 1, 'referee': True}, {'frame': 274, 'label': 'person', 'confidence': np.float32(0.8771972), 'bbox': (np.float32(1185.1477), np.float32(32.295036), np.float32(1267.8306), np.float32(266.64493)), 'referee': True}, {'frame': 274, 'label': 'person', 'confidence': np.float32(0.86280715), 'bbox': (np.float32(718.2562), np.float32(207.31656), np.float32(852.9092), np.float32(463.56927)), 'team': 1, 'referee': True}, {'frame': 274, 'label': 'person', 'confidence': np.float32(0.8383305), 'bbox': (np.float32(837.569), np.float32(185.90697), np.float32(967.12524), np.float32(373.75113)), 'team': 0, 'referee': True}, {'frame': 274, 'label': 'person', 'confidence': np.float32(0.7978327), 'bbox': (np.float32(1087.3694), np.float32(201.47313), np.float32(1201.2668), np.float32(416.1363)), 'referee': True}, {'frame': 274, 'label': 'person', 'confidence': np.float32(0.69771993), 'bbox': (np.float32(453.8479), np.float32(182.28452), np.float32(546.71173), np.float32(354.07025)), 'team': 0, 'referee': True}, {'frame': 274, 'label': 'person', 'confidence': np.float32(0.42683268), 'bbox': (np.float32(581.75305), np.float32(238.63586), np.float32(667.8479), np.float32(337.3343)), 'team': 0, 'referee': True}, {'frame': 274, 'label': 'baseball bat', 'confidence': np.float32(0.37007204), 'bbox': (np.float32(707.4256), np.float32(352.2559), np.float32(759.1577), np.float32(421.16476)), 'team': 0}, {'frame': 274, 'label': 'person', 'confidence': np.float32(0.3432872), 'bbox': (np.float32(0.9886959), np.float32(95.8276), np.float32(59.285275), np.float32(170.58176))}, {'frame': 274, 'label': 'skis', 'confidence': np.float32(0.3288977), 'bbox': (np.float32(707.1603), np.float32(355.24707), np.float32(757.4935), np.float32(419.85748)), 'team': 0}, {'frame': 274, 'label': 'baseball bat', 'confidence': np.float32(0.26397878), 'bbox': (np.float32(580.9247), np.float32(326.353), np.float32(638.4239), np.float32(368.84637)), 'team': 1}, {'frame': 275, 'label': 'person', 'confidence': np.float32(0.88391954), 'bbox': (np.float32(1183.6362), np.float32(36.20658), np.float32(1268.0), np.float32(266.52194)), 'referee': True}, {'frame': 275, 'label': 'person', 'confidence': np.float32(0.87499106), 'bbox': (np.float32(718.91425), np.float32(206.48987), np.float32(852.1177), np.float32(463.407)), 'team': 1, 'referee': True}, {'frame': 275, 'label': 'person', 'confidence': np.float32(0.8699706), 'bbox': (np.float32(451.87347), np.float32(225.05197), np.float32(620.18854), np.float32(459.53537)), 'team': 1, 'referee': True}, {'frame': 275, 'label': 'person', 'confidence': np.float32(0.86605823), 'bbox': (np.float32(835.27), np.float32(185.93706), np.float32(959.07434), np.float32(373.67255)), 'team': 0, 'referee': True}, {'frame': 275, 'label': 'person', 'confidence': np.float32(0.8482658), 'bbox': (np.float32(1076.1936), np.float32(201.75928), np.float32(1192.5497), np.float32(414.1797)), 'referee': True}, {'frame': 275, 'label': 'person', 'confidence': np.float32(0.5089585), 'bbox': (np.float32(576.89124), np.float32(239.70238), np.float32(662.6893), np.float32(337.1832)), 'team': 0, 'referee': True}, {'frame': 275, 'label': 'baseball bat', 'confidence': np.float32(0.5021216), 'bbox': (np.float32(702.979), np.float32(350.98508), np.float32(757.6681), np.float32(418.44824)), 'team': 0}, {'frame': 275, 'label': 'person', 'confidence': np.float32(0.4611942), 'bbox': (np.float32(459.16895), np.float32(183.96408), np.float32(541.26654), np.float32(348.53326)), 'team': 0, 'referee': True}, {'frame': 275, 'label': 'baseball bat', 'confidence': np.float32(0.42032674), 'bbox': (np.float32(579.9207), np.float32(323.5441), np.float32(636.60095), np.float32(364.01245)), 'team': 1}, {'frame': 275, 'label': 'person', 'confidence': np.float32(0.38800558), 'bbox': (np.float32(0.31906492), np.float32(94.20107), np.float32(56.872673), np.float32(170.89125))}, {'frame': 276, 'label': 'person', 'confidence': np.float32(0.8888161), 'bbox': (np.float32(1181.8479), np.float32(36.03191), np.float32(1268.0), np.float32(267.08755)), 'referee': True}, {'frame': 276, 'label': 'person', 'confidence': np.float32(0.8709195), 'bbox': (np.float32(719.50183), np.float32(206.70222), np.float32(852.68915), np.float32(463.54037)), 'team': 1, 'referee': True}, {'frame': 276, 'label': 'person', 'confidence': np.float32(0.8632001), 'bbox': (np.float32(1063.3639), np.float32(203.92888), np.float32(1180.8556), np.float32(421.32404)), 'referee': True}, {'frame': 276, 'label': 'person', 'confidence': np.float32(0.8616607), 'bbox': (np.float32(445.55698), np.float32(222.7027), np.float32(619.7674), np.float32(461.49283)), 'team': 1, 'referee': True}, {'frame': 276, 'label': 'person', 'confidence': np.float32(0.8566682), 'bbox': (np.float32(828.6893), np.float32(185.58972), np.float32(953.76355), np.float32(370.86316)), 'team': 0, 'referee': True}, {'frame': 276, 'label': 'person', 'confidence': np.float32(0.580698), 'bbox': (np.float32(435.4001), np.float32(182.78673), np.float32(539.1732), np.float32(362.32883)), 'team': 0, 'referee': True}, {'frame': 276, 'label': 'baseball bat', 'confidence': np.float32(0.5418573), 'bbox': (np.float32(700.5545), np.float32(351.96896), np.float32(756.6083), np.float32(420.16357)), 'team': 0}, {'frame': 276, 'label': 'person', 'confidence': np.float32(0.3987894), 'bbox': (np.float32(0.0), np.float32(95.57624), np.float32(52.307537), np.float32(172.08282))}, {'frame': 276, 'label': 'baseball bat', 'confidence': np.float32(0.3670734), 'bbox': (np.float32(578.2492), np.float32(322.16174), np.float32(636.6143), np.float32(365.89526)), 'team': 0}, {'frame': 276, 'label': 'person', 'confidence': np.float32(0.36233607), 'bbox': (np.float32(572.35895), np.float32(241.70485), np.float32(665.3013), np.float32(348.46695)), 'team': 1, 'referee': True}, {'frame': 276, 'label': 'person', 'confidence': np.float32(0.29062453), 'bbox': (np.float32(493.39114), np.float32(1.9546502), np.float32(574.74634), np.float32(104.82431))}, {'frame': 276, 'label': 'person', 'confidence': np.float32(0.2754485), 'bbox': (np.float32(939.71735), np.float32(4.559417), np.float32(1004.0041), np.float32(97.9973))}, {'frame': 277, 'label': 'person', 'confidence': np.float32(0.8913311), 'bbox': (np.float32(1179.5652), np.float32(35.04307), np.float32(1268.0), np.float32(264.43085)), 'referee': True}, {'frame': 277, 'label': 'person', 'confidence': np.float32(0.87578595), 'bbox': (np.float32(1043.3481), np.float32(205.0594), np.float32(1158.035), np.float32(421.2932)), 'referee': True}, {'frame': 277, 'label': 'person', 'confidence': np.float32(0.8680052), 'bbox': (np.float32(440.6184), np.float32(220.38672), np.float32(614.25604), np.float32(459.17468)), 'team': 1, 'referee': True}, {'frame': 277, 'label': 'person', 'confidence': np.float32(0.8456479), 'bbox': (np.float32(829.5532), np.float32(185.64992), np.float32(942.769), np.float32(373.39648)), 'team': 1, 'referee': True}, {'frame': 277, 'label': 'person', 'confidence': np.float32(0.83844894), 'bbox': (np.float32(727.10016), np.float32(205.90062), np.float32(850.28656), np.float32(464.34396)), 'team': 0, 'referee': True}, {'frame': 277, 'label': 'person', 'confidence': np.float32(0.7806512), 'bbox': (np.float32(413.933), np.float32(176.86964), np.float32(524.37036), np.float32(363.94785)), 'team': 0, 'referee': True}, {'frame': 277, 'label': 'baseball bat', 'confidence': np.float32(0.7110665), 'bbox': (np.float32(690.0202), np.float32(351.7154), np.float32(753.087), np.float32(423.21515)), 'team': 1}, {'frame': 277, 'label': 'person', 'confidence': np.float32(0.49116945), 'bbox': (np.float32(570.2031), np.float32(245.73383), np.float32(675.90546), np.float32(371.5315)), 'team': 0, 'referee': True}, {'frame': 277, 'label': 'person', 'confidence': np.float32(0.31454715), 'bbox': (np.float32(943.5214), np.float32(2.7999222), np.float32(1001.89795), np.float32(97.581436))}, {'frame': 277, 'label': 'baseball glove', 'confidence': np.float32(0.26160714), 'bbox': (np.float32(1047.7048), np.float32(294.25702), np.float32(1087.5284), np.float32(328.05133))}, {'frame': 278, 'label': 'person', 'confidence': np.float32(0.88870215), 'bbox': (np.float32(1176.6847), np.float32(36.08591), np.float32(1268.0), np.float32(264.81018)), 'referee': True}, {'frame': 278, 'label': 'person', 'confidence': np.float32(0.8574481), 'bbox': (np.float32(828.58264), np.float32(182.50896), np.float32(939.397), np.float32(369.292)), 'team': 1, 'referee': True}, {'frame': 278, 'label': 'person', 'confidence': np.float32(0.8532199), 'bbox': (np.float32(1027.7643), np.float32(207.31383), np.float32(1146.7607), np.float32(424.13092)), 'referee': True}, {'frame': 278, 'label': 'person', 'confidence': np.float32(0.8525903), 'bbox': (np.float32(437.87915), np.float32(219.82468), np.float32(612.52795), np.float32(458.67496)), 'team': 1, 'referee': True}, {'frame': 278, 'label': 'person', 'confidence': np.float32(0.84149396), 'bbox': (np.float32(725.6038), np.float32(199.58987), np.float32(846.20905), np.float32(464.98718)), 'team': 0, 'referee': True}, {'frame': 278, 'label': 'baseball bat', 'confidence': np.float32(0.76716214), 'bbox': (np.float32(686.64105), np.float32(351.6467), np.float32(751.985), np.float32(423.15775)), 'team': 1}, {'frame': 278, 'label': 'person', 'confidence': np.float32(0.75179964), 'bbox': (np.float32(409.0781), np.float32(169.04532), np.float32(525.46136), np.float32(361.98328)), 'team': 0, 'referee': True}, {'frame': 278, 'label': 'person', 'confidence': np.float32(0.5080478), 'bbox': (np.float32(566.4875), np.float32(244.84766), np.float32(682.70764), np.float32(371.27982)), 'team': 0, 'referee': True}, {'frame': 278, 'label': 'person', 'confidence': np.float32(0.25680256), 'bbox': (np.float32(946.1498), np.float32(3.1687841), np.float32(1002.6621), np.float32(97.561455))}, {'frame': 279, 'label': 'person', 'confidence': np.float32(0.90726715), 'bbox': (np.float32(1171.2382), np.float32(34.09671), np.float32(1268.0), np.float32(264.78543)), 'team': 1, 'referee': True}, {'frame': 279, 'label': 'person', 'confidence': np.float32(0.8926219), 'bbox': (np.float32(1014.1774), np.float32(208.59666), np.float32(1131.9005), np.float32(426.67917)), 'referee': True}, {'frame': 279, 'label': 'person', 'confidence': np.float32(0.8502331), 'bbox': (np.float32(821.416), np.float32(182.72336), np.float32(932.31195), np.float32(369.58932)), 'team': 1, 'referee': True}, {'frame': 279, 'label': 'person', 'confidence': np.float32(0.83532876), 'bbox': (np.float32(728.1858), np.float32(196.55478), np.float32(843.5483), np.float32(463.42648)), 'team': 0, 'referee': True}, {'frame': 279, 'label': 'person', 'confidence': np.float32(0.832982), 'bbox': (np.float32(435.4469), np.float32(218.80176), np.float32(609.7437), np.float32(456.91714)), 'team': 1, 'referee': True}, {'frame': 279, 'label': 'baseball bat', 'confidence': np.float32(0.76201594), 'bbox': (np.float32(681.82947), np.float32(355.8145), np.float32(748.1963), np.float32(422.1248)), 'team': 1}, {'frame': 279, 'label': 'person', 'confidence': np.float32(0.7328995), 'bbox': (np.float32(397.60632), np.float32(157.0103), np.float32(523.4421), np.float32(364.57953)), 'team': 0, 'referee': True}, {'frame': 279, 'label': 'person', 'confidence': np.float32(0.5251029), 'bbox': (np.float32(563.8405), np.float32(246.00084), np.float32(687.2882), np.float32(369.24127)), 'team': 0, 'referee': True}, {'frame': 280, 'label': 'person', 'confidence': np.float32(0.9121826), 'bbox': (np.float32(1166.4166), np.float32(37.108948), np.float32(1268.0), np.float32(265.26257)), 'referee': True}, {'frame': 280, 'label': 'person', 'confidence': np.float32(0.86886245), 'bbox': (np.float32(431.65695), np.float32(212.67197), np.float32(601.42413), np.float32(456.01294)), 'team': 1, 'referee': True}, {'frame': 280, 'label': 'person', 'confidence': np.float32(0.8564727), 'bbox': (np.float32(997.7057), np.float32(211.25797), np.float32(1119.8221), np.float32(428.64105)), 'referee': True}, {'frame': 280, 'label': 'person', 'confidence': np.float32(0.8547127), 'bbox': (np.float32(727.5611), np.float32(193.12729), np.float32(843.6628), np.float32(463.16327)), 'team': 1, 'referee': True}, {'frame': 280, 'label': 'person', 'confidence': np.float32(0.83240485), 'bbox': (np.float32(822.8129), np.float32(183.26804), np.float32(928.5815), np.float32(367.7395)), 'team': 0, 'referee': True}, {'frame': 280, 'label': 'baseball bat', 'confidence': np.float32(0.7746104), 'bbox': (np.float32(678.28156), np.float32(357.6328), np.float32(745.4555), np.float32(421.88626)), 'team': 0}, {'frame': 280, 'label': 'person', 'confidence': np.float32(0.69709057), 'bbox': (np.float32(396.68802), np.float32(157.73811), np.float32(514.96704), np.float32(352.388)), 'team': 0, 'referee': True}, {'frame': 280, 'label': 'person', 'confidence': np.float32(0.6737269), 'bbox': (np.float32(567.7468), np.float32(245.46819), np.float32(697.53455), np.float32(379.91412)), 'team': 1, 'referee': True}, {'frame': 280, 'label': 'baseball glove', 'confidence': np.float32(0.3865849), 'bbox': (np.float32(1010.086), np.float32(304.0259), np.float32(1051.3007), np.float32(330.99033))}, {'frame': 280, 'label': 'person', 'confidence': np.float32(0.351133), 'bbox': (np.float32(132.94217), np.float32(98.746765), np.float32(195.53761), np.float32(167.2331))}, {'frame': 280, 'label': 'person', 'confidence': np.float32(0.25193533), 'bbox': (np.float32(932.79974), np.float32(0.0), np.float32(1015.31476), np.float32(96.15679))}, {'frame': 281, 'label': 'person', 'confidence': np.float32(0.9207992), 'bbox': (np.float32(1160.303), np.float32(27.139225), np.float32(1267.1833), np.float32(267.52335)), 'referee': True}, {'frame': 281, 'label': 'person', 'confidence': np.float32(0.873529), 'bbox': (np.float32(726.18225), np.float32(193.78), np.float32(844.73114), np.float32(460.66348)), 'team': 1, 'referee': True}, {'frame': 281, 'label': 'person', 'confidence': np.float32(0.8727242), 'bbox': (np.float32(974.3965), np.float32(214.16902), np.float32(1097.928), np.float32(429.80133)), 'referee': True}, {'frame': 281, 'label': 'person', 'confidence': np.float32(0.82679224), 'bbox': (np.float32(416.97797), np.float32(214.90634), np.float32(590.26825), np.float32(451.82706)), 'team': 1, 'referee': True}, {'frame': 281, 'label': 'person', 'confidence': np.float32(0.8106949), 'bbox': (np.float32(823.9154), np.float32(178.47888), np.float32(919.7373), np.float32(365.17056)), 'team': 0, 'referee': True}, {'frame': 281, 'label': 'baseball bat', 'confidence': np.float32(0.79196477), 'bbox': (np.float32(673.6708), np.float32(356.27267), np.float32(743.85736), np.float32(419.78586)), 'team': 0}, {'frame': 281, 'label': 'person', 'confidence': np.float32(0.74761146), 'bbox': (np.float32(557.0806), np.float32(243.34563), np.float32(700.9565), np.float32(382.66983)), 'team': 1, 'referee': True}, {'frame': 281, 'label': 'person', 'confidence': np.float32(0.7314138), 'bbox': (np.float32(375.43082), np.float32(163.42242), np.float32(521.37274), np.float32(370.78476)), 'team': 0, 'referee': True}, {'frame': 281, 'label': 'person', 'confidence': np.float32(0.4560736), 'bbox': (np.float32(124.00821), np.float32(100.02363), np.float32(194.99713), np.float32(167.18253))}, {'frame': 282, 'label': 'person', 'confidence': np.float32(0.9218195), 'bbox': (np.float32(1157.6992), np.float32(28.32411), np.float32(1264.286), np.float32(268.56128)), 'referee': True}, {'frame': 282, 'label': 'person', 'confidence': np.float32(0.8966196), 'bbox': (np.float32(725.5473), np.float32(194.03893), np.float32(844.4765), np.float32(459.89264)), 'team': 1, 'referee': True}, {'frame': 282, 'label': 'person', 'confidence': np.float32(0.8508724), 'bbox': (np.float32(971.9038), np.float32(217.43614), np.float32(1084.8904), np.float32(428.07245)), 'referee': True}, {'frame': 282, 'label': 'person', 'confidence': np.float32(0.8450978), 'bbox': (np.float32(414.74008), np.float32(210.62656), np.float32(587.77966), np.float32(449.91895)), 'team': 1, 'referee': True}, {'frame': 282, 'label': 'person', 'confidence': np.float32(0.82644457), 'bbox': (np.float32(823.04047), np.float32(178.27261), np.float32(917.86633), np.float32(366.93756)), 'team': 0, 'referee': True}, {'frame': 282, 'label': 'baseball bat', 'confidence': np.float32(0.787176), 'bbox': (np.float32(670.90875), np.float32(356.02386), np.float32(743.99493), np.float32(419.87082)), 'team': 0}, {'frame': 282, 'label': 'person', 'confidence': np.float32(0.7549678), 'bbox': (np.float32(553.2268), np.float32(243.12256), np.float32(703.21155), np.float32(384.96286)), 'team': 1, 'referee': True}, {'frame': 282, 'label': 'person', 'confidence': np.float32(0.74460864), 'bbox': (np.float32(366.18573), np.float32(157.28711), np.float32(515.2214), np.float32(375.05576)), 'team': 0, 'referee': True}, {'frame': 282, 'label': 'baseball glove', 'confidence': np.float32(0.5301199), 'bbox': (np.float32(981.51056), np.float32(307.09067), np.float32(1015.9986), np.float32(333.9618))}, {'frame': 282, 'label': 'person', 'confidence': np.float32(0.4375642), 'bbox': (np.float32(108.55543), np.float32(99.17162), np.float32(194.37231), np.float32(169.42197))}, {'frame': 282, 'label': 'person', 'confidence': np.float32(0.2864609), 'bbox': (np.float32(756.7624), np.float32(45.538624), np.float32(812.3914), np.float32(114.35161))}, {'frame': 283, 'label': 'person', 'confidence': np.float32(0.91369605), 'bbox': (np.float32(1152.2511), np.float32(28.724117), np.float32(1262.972), np.float32(266.83966)), 'referee': True}, {'frame': 283, 'label': 'person', 'confidence': np.float32(0.8999575), 'bbox': (np.float32(724.5803), np.float32(191.66779), np.float32(843.5402), np.float32(459.85526)), 'team': 1, 'referee': True}, {'frame': 283, 'label': 'person', 'confidence': np.float32(0.876929), 'bbox': (np.float32(412.22876), np.float32(206.11647), np.float32(577.1666), np.float32(445.5519)), 'team': 1, 'referee': True}, {'frame': 283, 'label': 'person', 'confidence': np.float32(0.8350487), 'bbox': (np.float32(956.4911), np.float32(216.47215), np.float32(1073.8969), np.float32(424.77744)), 'referee': True}, {'frame': 283, 'label': 'person', 'confidence': np.float32(0.7808911), 'bbox': (np.float32(820.7732), np.float32(175.92061), np.float32(916.4506), np.float32(363.0912)), 'team': 0, 'referee': True}, {'frame': 283, 'label': 'baseball bat', 'confidence': np.float32(0.77700615), 'bbox': (np.float32(668.29517), np.float32(353.89175), np.float32(743.3413), np.float32(416.9152)), 'team': 0}, {'frame': 283, 'label': 'person', 'confidence': np.float32(0.7448032), 'bbox': (np.float32(358.60275), np.float32(158.02065), np.float32(486.22968), np.float32(375.58075)), 'team': 0, 'referee': True}, {'frame': 283, 'label': 'person', 'confidence': np.float32(0.7388574), 'bbox': (np.float32(553.0271), np.float32(243.00807), np.float32(703.2098), np.float32(387.1201)), 'team': 1, 'referee': True}, {'frame': 283, 'label': 'person', 'confidence': np.float32(0.4013915), 'bbox': (np.float32(105.65306), np.float32(99.23877), np.float32(194.75964), np.float32(169.92961))}, {'frame': 283, 'label': 'person', 'confidence': np.float32(0.3092356), 'bbox': (np.float32(757.6142), np.float32(45.851284), np.float32(812.19867), np.float32(114.62874))}, {'frame': 284, 'label': 'person', 'confidence': np.float32(0.90189797), 'bbox': (np.float32(724.621), np.float32(192.90762), np.float32(842.68524), np.float32(460.99844)), 'team': 1, 'referee': True}, {'frame': 284, 'label': 'person', 'confidence': np.float32(0.89228296), 'bbox': (np.float32(1146.9878), np.float32(34.133724), np.float32(1259.5382), np.float32(265.2694)), 'referee': True}, {'frame': 284, 'label': 'person', 'confidence': np.float32(0.87650293), 'bbox': (np.float32(409.98453), np.float32(206.33533), np.float32(573.80865), np.float32(444.87772)), 'team': 1, 'referee': True}, {'frame': 284, 'label': 'person', 'confidence': np.float32(0.8659488), 'bbox': (np.float32(949.4709), np.float32(220.34277), np.float32(1060.3894), np.float32(422.21518)), 'referee': True}, {'frame': 284, 'label': 'person', 'confidence': np.float32(0.81975186), 'bbox': (np.float32(353.08426), np.float32(145.92755), np.float32(484.37332), np.float32(375.5594)), 'team': 0, 'referee': True}, {'frame': 284, 'label': 'baseball bat', 'confidence': np.float32(0.79562813), 'bbox': (np.float32(665.8886), np.float32(353.07657), np.float32(742.8268), np.float32(415.34802)), 'team': 0}, {'frame': 284, 'label': 'person', 'confidence': np.float32(0.78093946), 'bbox': (np.float32(818.805), np.float32(175.6783), np.float32(913.3382), np.float32(365.2832)), 'team': 1, 'referee': True}, {'frame': 284, 'label': 'person', 'confidence': np.float32(0.7804382), 'bbox': (np.float32(539.42566), np.float32(241.09003), np.float32(699.89856), np.float32(388.35397)), 'team': 1, 'referee': True}, {'frame': 284, 'label': 'person', 'confidence': np.float32(0.42659074), 'bbox': (np.float32(110.13085), np.float32(98.621925), np.float32(194.27945), np.float32(170.89471))}, {'frame': 284, 'label': 'person', 'confidence': np.float32(0.30836067), 'bbox': (np.float32(758.0155), np.float32(47.483284), np.float32(813.559), np.float32(114.45872))}, {'frame': 284, 'label': 'person', 'confidence': np.float32(0.2784788), 'bbox': (np.float32(692.9909), np.float32(45.10034), np.float32(759.0525), np.float32(121.48182))}, {'frame': 284, 'label': 'person', 'confidence': np.float32(0.25384408), 'bbox': (np.float32(193.70547), np.float32(97.40254), np.float32(248.85881), np.float32(167.12758))}, {'frame': 285, 'label': 'person', 'confidence': np.float32(0.90466195), 'bbox': (np.float32(1141.7937), np.float32(26.881176), np.float32(1254.864), np.float32(265.80927)), 'referee': True}, {'frame': 285, 'label': 'person', 'confidence': np.float32(0.87532085), 'bbox': (np.float32(407.78818), np.float32(205.002), np.float32(572.1171), np.float32(440.7772)), 'team': 1, 'referee': True}, {'frame': 285, 'label': 'person', 'confidence': np.float32(0.8704546), 'bbox': (np.float32(723.08405), np.float32(191.16725), np.float32(845.7747), np.float32(458.7317)), 'team': 1, 'referee': True}, {'frame': 285, 'label': 'person', 'confidence': np.float32(0.83424073), 'bbox': (np.float32(349.8597), np.float32(142.46062), np.float32(476.33115), np.float32(366.424)), 'team': 0, 'referee': True}, {'frame': 285, 'label': 'person', 'confidence': np.float32(0.8159128), 'bbox': (np.float32(938.46655), np.float32(219.45818), np.float32(1050.6575), np.float32(433.55298)), 'referee': True}, {'frame': 285, 'label': 'baseball bat', 'confidence': np.float32(0.7836605), 'bbox': (np.float32(661.5005), np.float32(351.32236), np.float32(741.9567), np.float32(413.49344)), 'team': 0}, {'frame': 285, 'label': 'person', 'confidence': np.float32(0.77988875), 'bbox': (np.float32(538.32025), np.float32(239.93933), np.float32(701.7538), np.float32(388.4492)), 'team': 1, 'referee': True}, {'frame': 285, 'label': 'person', 'confidence': np.float32(0.5736546), 'bbox': (np.float32(814.1714), np.float32(175.41214), np.float32(912.6762), np.float32(361.917)), 'team': 1, 'referee': True}, {'frame': 285, 'label': 'person', 'confidence': np.float32(0.39521852), 'bbox': (np.float32(129.78564), np.float32(99.3161), np.float32(194.1991), np.float32(168.37563))}, {'frame': 285, 'label': 'person', 'confidence': np.float32(0.33088243), 'bbox': (np.float32(195.29387), np.float32(98.38109), np.float32(249.352), np.float32(167.01804))}, {'frame': 285, 'label': 'person', 'confidence': np.float32(0.29639128), 'bbox': (np.float32(759.0759), np.float32(46.167824), np.float32(813.1251), np.float32(114.943375))}, {'frame': 285, 'label': 'person', 'confidence': np.float32(0.2731945), 'bbox': (np.float32(76.53818), np.float32(117.31095), np.float32(137.6269), np.float32(176.10884))}, {'frame': 285, 'label': 'person', 'confidence': np.float32(0.25705802), 'bbox': (np.float32(693.2208), np.float32(45.177998), np.float32(759.82983), np.float32(121.56283))}, {'frame': 286, 'label': 'person', 'confidence': np.float32(0.90234977), 'bbox': (np.float32(1135.2179), np.float32(34.63509), np.float32(1246.2767), np.float32(266.34317)), 'referee': True}, {'frame': 286, 'label': 'person', 'confidence': np.float32(0.86946446), 'bbox': (np.float32(722.5696), np.float32(190.63544), np.float32(846.79736), np.float32(457.58633)), 'team': 1, 'referee': True}, {'frame': 286, 'label': 'person', 'confidence': np.float32(0.86369056), 'bbox': (np.float32(399.13773), np.float32(198.35185), np.float32(557.72345), np.float32(437.02908)), 'team': 1, 'referee': True}, {'frame': 286, 'label': 'person', 'confidence': np.float32(0.80797684), 'bbox': (np.float32(344.0339), np.float32(141.39285), np.float32(471.57217), np.float32(359.01517)), 'team': 0, 'referee': True}, {'frame': 286, 'label': 'person', 'confidence': np.float32(0.7943227), 'bbox': (np.float32(919.0712), np.float32(220.19171), np.float32(1027.5663), np.float32(437.18063)), 'referee': True}, {'frame': 286, 'label': 'person', 'confidence': np.float32(0.7391426), 'bbox': (np.float32(530.1577), np.float32(238.7164), np.float32(702.0524), np.float32(386.29514)), 'team': 1, 'referee': True}, {'frame': 286, 'label': 'baseball bat', 'confidence': np.float32(0.72762483), 'bbox': (np.float32(659.0397), np.float32(351.26923), np.float32(740.71875), np.float32(412.9429)), 'team': 0, 'referee': True}, {'frame': 286, 'label': 'person', 'confidence': np.float32(0.6641493), 'bbox': (np.float32(809.3681), np.float32(169.33708), np.float32(912.6979), np.float32(347.24997)), 'team': 1, 'referee': True}, {'frame': 286, 'label': 'person', 'confidence': np.float32(0.37143794), 'bbox': (np.float32(193.59601), np.float32(96.70783), np.float32(249.94745), np.float32(167.94041))}, {'frame': 286, 'label': 'person', 'confidence': np.float32(0.34843126), 'bbox': (np.float32(77.31178), np.float32(120.74739), np.float32(136.99013), np.float32(175.98976))}, {'frame': 286, 'label': 'person', 'confidence': np.float32(0.34782645), 'bbox': (np.float32(135.84053), np.float32(97.03929), np.float32(193.79521), np.float32(167.95052))}, {'frame': 286, 'label': 'baseball glove', 'confidence': np.float32(0.33529767), 'bbox': (np.float32(926.3984), np.float32(314.77954), np.float32(962.7873), np.float32(341.54657))}, {'frame': 286, 'label': 'person', 'confidence': np.float32(0.3004791), 'bbox': (np.float32(696.1714), np.float32(44.799206), np.float32(761.25696), np.float32(122.86969))}, {'frame': 286, 'label': 'person', 'confidence': np.float32(0.2704806), 'bbox': (np.float32(759.18036), np.float32(46.71332), np.float32(815.2244), np.float32(116.38457))}, {'frame': 287, 'label': 'person', 'confidence': np.float32(0.89499056), 'bbox': (np.float32(1132.7794), np.float32(29.988844), np.float32(1241.7124), np.float32(267.3332)), 'referee': True}, {'frame': 287, 'label': 'person', 'confidence': np.float32(0.889281), 'bbox': (np.float32(397.7738), np.float32(194.26514), np.float32(550.6277), np.float32(436.64517)), 'team': 1, 'referee': True}, {'frame': 287, 'label': 'person', 'confidence': np.float32(0.84293747), 'bbox': (np.float32(721.00977), np.float32(188.83122), np.float32(850.3715), np.float32(456.46323)), 'team': 1, 'referee': True}, {'frame': 287, 'label': 'person', 'confidence': np.float32(0.8221205), 'bbox': (np.float32(338.71112), np.float32(142.30724), np.float32(465.92215), np.float32(360.57895)), 'team': 0, 'referee': True}, {'frame': 287, 'label': 'person', 'confidence': np.float32(0.75472534), 'bbox': (np.float32(909.44385), np.float32(223.70233), np.float32(1014.7108), np.float32(434.55368)), 'referee': True}, {'frame': 287, 'label': 'person', 'confidence': np.float32(0.75401115), 'bbox': (np.float32(524.00256), np.float32(237.60976), np.float32(699.0074), np.float32(383.5472)), 'team': 0, 'referee': True}, {'frame': 287, 'label': 'baseball bat', 'confidence': np.float32(0.73024493), 'bbox': (np.float32(656.91693), np.float32(349.53973), np.float32(740.1287), np.float32(412.3629)), 'team': 1, 'referee': True}, {'frame': 287, 'label': 'person', 'confidence': np.float32(0.59824616), 'bbox': (np.float32(802.94257), np.float32(170.96027), np.float32(915.7037), np.float32(350.15192)), 'team': 0, 'referee': True}, {'frame': 287, 'label': 'baseball glove', 'confidence': np.float32(0.37537152), 'bbox': (np.float32(917.54346), np.float32(318.29315), np.float32(952.8449), np.float32(342.55698))}, {'frame': 287, 'label': 'person', 'confidence': np.float32(0.3143295), 'bbox': (np.float32(774.65717), np.float32(133.49333), np.float32(841.8817), np.float32(217.12944)), 'team': 1, 'referee': True}, {'frame': 287, 'label': 'person', 'confidence': np.float32(0.30881894), 'bbox': (np.float32(132.87393), np.float32(99.75066), np.float32(193.95367), np.float32(168.81094))}, {'frame': 287, 'label': 'person', 'confidence': np.float32(0.29697675), 'bbox': (np.float32(696.5496), np.float32(45.047688), np.float32(761.0886), np.float32(123.35198))}, {'frame': 287, 'label': 'person', 'confidence': np.float32(0.2739405), 'bbox': (np.float32(759.82086), np.float32(46.397), np.float32(816.4536), np.float32(116.301414)), 'team': 0}, {'frame': 287, 'label': 'person', 'confidence': np.float32(0.2695699), 'bbox': (np.float32(191.77278), np.float32(112.066895), np.float32(250.22087), np.float32(171.0339))}, {'frame': 287, 'label': 'person', 'confidence': np.float32(0.26013413), 'bbox': (np.float32(77.19629), np.float32(120.543), np.float32(136.39224), np.float32(176.6408))}, {'frame': 287, 'label': 'person', 'confidence': np.float32(0.25709727), 'bbox': (np.float32(333.34723), np.float32(8.736361), np.float32(394.41138), np.float32(124.99742)), 'team': 1}, {'frame': 288, 'label': 'person', 'confidence': np.float32(0.9022184), 'bbox': (np.float32(393.34796), np.float32(188.01163), np.float32(545.4406), np.float32(433.1893)), 'team': 1, 'referee': True}, {'frame': 288, 'label': 'person', 'confidence': np.float32(0.8969607), 'bbox': (np.float32(1128.1406), np.float32(26.493631), np.float32(1237.0206), np.float32(266.67468)), 'team': 1, 'referee': True}, {'frame': 288, 'label': 'person', 'confidence': np.float32(0.8172839), 'bbox': (np.float32(329.39227), np.float32(140.45586), np.float32(450.31866), np.float32(361.58606)), 'team': 0, 'referee': True}, {'frame': 288, 'label': 'person', 'confidence': np.float32(0.7980634), 'bbox': (np.float32(718.0339), np.float32(182.6373), np.float32(887.72534), np.float32(455.2523)), 'team': 1, 'referee': True}, {'frame': 288, 'label': 'person', 'confidence': np.float32(0.7229227), 'bbox': (np.float32(872.3538), np.float32(223.95033), np.float32(1004.4353), np.float32(450.04153)), 'team': 0, 'referee': True}, {'frame': 288, 'label': 'person', 'confidence': np.float32(0.7188149), 'bbox': (np.float32(531.46875), np.float32(236.226), np.float32(701.30786), np.float32(386.49792)), 'team': 0, 'referee': True}, {'frame': 288, 'label': 'baseball bat', 'confidence': np.float32(0.6165572), 'bbox': (np.float32(657.0349), np.float32(348.76468), np.float32(738.2092), np.float32(409.29584)), 'team': 1, 'referee': True}, {'frame': 288, 'label': 'person', 'confidence': np.float32(0.427611), 'bbox': (np.float32(775.91797), np.float32(132.20949), np.float32(841.90686), np.float32(215.4265)), 'team': 0, 'referee': True}, {'frame': 288, 'label': 'person', 'confidence': np.float32(0.3262584), 'bbox': (np.float32(134.9012), np.float32(100.93261), np.float32(193.40309), np.float32(169.49031))}, {'frame': 288, 'label': 'person', 'confidence': np.float32(0.29915506), 'bbox': (np.float32(696.7914), np.float32(44.621475), np.float32(764.69354), np.float32(124.29184))}, {'frame': 288, 'label': 'person', 'confidence': np.float32(0.2929013), 'bbox': (np.float32(192.86633), np.float32(114.12062), np.float32(251.75105), np.float32(170.9341))}, {'frame': 288, 'label': 'person', 'confidence': np.float32(0.28111842), 'bbox': (np.float32(77.2767), np.float32(118.77175), np.float32(141.87424), np.float32(176.85268))}, {'frame': 289, 'label': 'person', 'confidence': np.float32(0.88943017), 'bbox': (np.float32(1125.4553), np.float32(28.548351), np.float32(1233.6465), np.float32(267.27805)), 'referee': True}, {'frame': 289, 'label': 'person', 'confidence': np.float32(0.8748835), 'bbox': (np.float32(387.60892), np.float32(182.68524), np.float32(540.2753), np.float32(430.0579)), 'team': 0, 'referee': True}, {'frame': 289, 'label': 'person', 'confidence': np.float32(0.8057361), 'bbox': (np.float32(717.6937), np.float32(182.47186), np.float32(869.0231), np.float32(454.56558)), 'team': 1, 'referee': True}, {'frame': 289, 'label': 'person', 'confidence': np.float32(0.77197915), 'bbox': (np.float32(324.18512), np.float32(143.94861), np.float32(443.11734), np.float32(361.6283)), 'team': 1, 'referee': True}, {'frame': 289, 'label': 'person', 'confidence': np.float32(0.76095146), 'bbox': (np.float32(846.11053), np.float32(225.24934), np.float32(991.8144), np.float32(451.8775)), 'team': 0, 'referee': True}, {'frame': 289, 'label': 'person', 'confidence': np.float32(0.688696), 'bbox': (np.float32(543.3378), np.float32(236.05365), np.float32(701.659), np.float32(387.47836)), 'team': 1, 'referee': True}, {'frame': 289, 'label': 'baseball bat', 'confidence': np.float32(0.674863), 'bbox': (np.float32(655.2723), np.float32(348.9215), np.float32(737.6619), np.float32(410.4663)), 'team': 0, 'referee': True}, {'frame': 289, 'label': 'person', 'confidence': np.float32(0.45781836), 'bbox': (np.float32(775.90216), np.float32(133.15063), np.float32(842.32764), np.float32(216.12552)), 'team': 0, 'referee': True}, {'frame': 289, 'label': 'person', 'confidence': np.float32(0.32695135), 'bbox': (np.float32(76.87843), np.float32(117.68269), np.float32(141.5697), np.float32(178.40466))}, {'frame': 289, 'label': 'person', 'confidence': np.float32(0.30016387), 'bbox': (np.float32(699.9824), np.float32(45.640602), np.float32(765.0664), np.float32(124.9148))}, {'frame': 289, 'label': 'person', 'confidence': np.float32(0.29734677), 'bbox': (np.float32(332.8206), np.float32(9.5788965), np.float32(395.86517), np.float32(127.63668)), 'team': 0}, {'frame': 289, 'label': 'person', 'confidence': np.float32(0.2833792), 'bbox': (np.float32(183.78734), np.float32(113.33474), np.float32(253.86049), np.float32(172.69418))}, {'frame': 289, 'label': 'chair', 'confidence': np.float32(0.27203572), 'bbox': (np.float32(185.37692), np.float32(115.55627), np.float32(252.91408), np.float32(172.37114))}, {'frame': 289, 'label': 'person', 'confidence': np.float32(0.2708918), 'bbox': (np.float32(131.61302), np.float32(101.66699), np.float32(193.7336), np.float32(171.59799))}, {'frame': 289, 'label': 'person', 'confidence': np.float32(0.25340313), 'bbox': (np.float32(495.53305), np.float32(2.765243), np.float32(565.8708), np.float32(114.10829))}, {'frame': 289, 'label': 'person', 'confidence': np.float32(0.25060147), 'bbox': (np.float32(762.89557), np.float32(46.1925), np.float32(818.75464), np.float32(116.67744)), 'team': 1}, {'frame': 290, 'label': 'person', 'confidence': np.float32(0.88940656), 'bbox': (np.float32(1115.0128), np.float32(45.03974), np.float32(1227.2207), np.float32(267.12885)), 'referee': True}, {'frame': 290, 'label': 'person', 'confidence': np.float32(0.87323165), 'bbox': (np.float32(381.87747), np.float32(182.2501), np.float32(526.10803), np.float32(426.55325)), 'team': 0, 'referee': True}, {'frame': 290, 'label': 'person', 'confidence': np.float32(0.83329004), 'bbox': (np.float32(312.74908), np.float32(142.05981), np.float32(431.75214), np.float32(366.22906)), 'team': 1, 'referee': True}, {'frame': 290, 'label': 'person', 'confidence': np.float32(0.8306029), 'bbox': (np.float32(717.50085), np.float32(186.33035), np.float32(852.0315), np.float32(451.1399)), 'team': 1, 'referee': True}, {'frame': 290, 'label': 'person', 'confidence': np.float32(0.8165671), 'bbox': (np.float32(836.96356), np.float32(224.1512), np.float32(974.0825), np.float32(451.7727)), 'team': 0, 'referee': True}, {'frame': 290, 'label': 'person', 'confidence': np.float32(0.71107644), 'bbox': (np.float32(524.4076), np.float32(233.56935), np.float32(702.21075), np.float32(384.19678)), 'team': 1, 'referee': True}, {'frame': 290, 'label': 'baseball bat', 'confidence': np.float32(0.7071817), 'bbox': (np.float32(652.5952), np.float32(348.23126), np.float32(735.9906), np.float32(406.87524)), 'team': 0, 'referee': True}, {'frame': 290, 'label': 'person', 'confidence': np.float32(0.37320927), 'bbox': (np.float32(773.99634), np.float32(131.13445), np.float32(841.01056), np.float32(216.25833)), 'team': 0, 'referee': True}, {'frame': 290, 'label': 'person', 'confidence': np.float32(0.3731333), 'bbox': (np.float32(495.5209), np.float32(2.6143918), np.float32(570.0222), np.float32(129.76176))}, {'frame': 290, 'label': 'chair', 'confidence': np.float32(0.35978636), 'bbox': (np.float32(185.1813), np.float32(121.393845), np.float32(251.44583), np.float32(172.52307))}, {'frame': 290, 'label': 'person', 'confidence': np.float32(0.30838028), 'bbox': (np.float32(76.73161), np.float32(120.61431), np.float32(136.5966), np.float32(177.96022))}, {'frame': 290, 'label': 'baseball bat', 'confidence': np.float32(0.29962742), 'bbox': (np.float32(495.8374), np.float32(272.61053), np.float32(553.2761), np.float32(321.11774)), 'team': 0}, {'frame': 290, 'label': 'person', 'confidence': np.float32(0.28623134), 'bbox': (np.float32(707.0055), np.float32(46.599422), np.float32(765.4179), np.float32(119.66432))}, {'frame': 290, 'label': 'person', 'confidence': np.float32(0.28532687), 'bbox': (np.float32(132.79993), np.float32(103.55202), np.float32(194.34744), np.float32(172.22986))}, {'frame': 290, 'label': 'person', 'confidence': np.float32(0.27924007), 'bbox': (np.float32(275.7374), np.float32(8.808167), np.float32(355.35623), np.float32(122.19944)), 'team': 0, 'referee': True}, {'frame': 290, 'label': 'person', 'confidence': np.float32(0.2532383), 'bbox': (np.float32(436.24884), np.float32(1.690582), np.float32(497.11588), np.float32(110.531876))}, {'frame': 291, 'label': 'person', 'confidence': np.float32(0.88899785), 'bbox': (np.float32(1112.06), np.float32(44.2261), np.float32(1222.4546), np.float32(266.37573)), 'referee': True}, {'frame': 291, 'label': 'person', 'confidence': np.float32(0.8697173), 'bbox': (np.float32(379.02673), np.float32(178.317), np.float32(519.58026), np.float32(424.37088)), 'team': 0, 'referee': True}, {'frame': 291, 'label': 'person', 'confidence': np.float32(0.83218753), 'bbox': (np.float32(718.4842), np.float32(184.3122), np.float32(853.3113), np.float32(447.44318)), 'team': 1, 'referee': True}, {'frame': 291, 'label': 'person', 'confidence': np.float32(0.82095844), 'bbox': (np.float32(834.5771), np.float32(225.32187), np.float32(967.8321), np.float32(451.03983)), 'team': 0, 'referee': True}, {'frame': 291, 'label': 'person', 'confidence': np.float32(0.8083014), 'bbox': (np.float32(309.08887), np.float32(143.31194), np.float32(427.5525), np.float32(359.28232)), 'team': 1, 'referee': True}, {'frame': 291, 'label': 'baseball bat', 'confidence': np.float32(0.74053925), 'bbox': (np.float32(647.9579), np.float32(347.4832), np.float32(736.4824), np.float32(405.94516)), 'team': 0}, {'frame': 291, 'label': 'person', 'confidence': np.float32(0.7181882), 'bbox': (np.float32(532.27856), np.float32(231.84972), np.float32(703.3146), np.float32(384.7138)), 'team': 1, 'referee': True}, {'frame': 291, 'label': 'person', 'confidence': np.float32(0.37322953), 'bbox': (np.float32(496.4999), np.float32(2.5621934), np.float32(569.7285), np.float32(128.16557))}, {'frame': 291, 'label': 'chair', 'confidence': np.float32(0.3541265), 'bbox': (np.float32(185.60597), np.float32(123.34183), np.float32(250.47232), np.float32(172.86337))}, {'frame': 291, 'label': 'person', 'confidence': np.float32(0.33386272), 'bbox': (np.float32(132.2646), np.float32(105.56519), np.float32(194.62663), np.float32(172.69328))}, {'frame': 291, 'label': 'person', 'confidence': np.float32(0.32519072), 'bbox': (np.float32(77.42101), np.float32(122.56876), np.float32(135.42947), np.float32(178.16669))}, {'frame': 291, 'label': 'person', 'confidence': np.float32(0.30759364), 'bbox': (np.float32(708.19775), np.float32(46.91926), np.float32(766.72144), np.float32(119.81527))}, {'frame': 291, 'label': 'person', 'confidence': np.float32(0.2997382), 'bbox': (np.float32(277.8606), np.float32(9.211312), np.float32(356.46698), np.float32(122.874374)), 'team': 0, 'referee': True}, {'frame': 292, 'label': 'person', 'confidence': np.float32(0.88763225), 'bbox': (np.float32(1108.394), np.float32(46.926445), np.float32(1218.7869), np.float32(267.1497)), 'referee': True}, {'frame': 292, 'label': 'person', 'confidence': np.float32(0.8510002), 'bbox': (np.float32(717.99756), np.float32(187.12161), np.float32(854.80945), np.float32(448.2906)), 'team': 1, 'referee': True}, {'frame': 292, 'label': 'person', 'confidence': np.float32(0.8287226), 'bbox': (np.float32(373.8216), np.float32(178.60571), np.float32(511.55038), np.float32(423.04156)), 'team': 0, 'referee': True}, {'frame': 292, 'label': 'person', 'confidence': np.float32(0.8229722), 'bbox': (np.float32(305.97678), np.float32(140.98488), np.float32(423.84283), np.float32(354.46924)), 'team': 1, 'referee': True}, {'frame': 292, 'label': 'person', 'confidence': np.float32(0.760648), 'bbox': (np.float32(834.05145), np.float32(226.6108), np.float32(957.87256), np.float32(444.4098)), 'team': 0, 'referee': True}, {'frame': 292, 'label': 'person', 'confidence': np.float32(0.70111567), 'bbox': (np.float32(525.7555), np.float32(231.70433), np.float32(700.4342), np.float32(384.0045)), 'team': 1, 'referee': True}, {'frame': 292, 'label': 'baseball bat', 'confidence': np.float32(0.6983769), 'bbox': (np.float32(646.63995), np.float32(344.4717), np.float32(737.2344), np.float32(403.5974)), 'team': 0, 'referee': True}, {'frame': 292, 'label': 'person', 'confidence': np.float32(0.40615472), 'bbox': (np.float32(127.93145), np.float32(104.90442), np.float32(195.42123), np.float32(173.74847))}, {'frame': 292, 'label': 'person', 'confidence': np.float32(0.38120347), 'bbox': (np.float32(496.76422), np.float32(2.3507204), np.float32(569.19666), np.float32(129.27583))}, {'frame': 292, 'label': 'person', 'confidence': np.float32(0.35948843), 'bbox': (np.float32(708.22266), np.float32(46.95026), np.float32(766.46313), np.float32(120.57019))}, {'frame': 292, 'label': 'chair', 'confidence': np.float32(0.3268009), 'bbox': (np.float32(185.53502), np.float32(123.67079), np.float32(250.03738), np.float32(172.8782))}, {'frame': 292, 'label': 'person', 'confidence': np.float32(0.3173471), 'bbox': (np.float32(77.64339), np.float32(122.70719), np.float32(135.53891), np.float32(178.2689))}, {'frame': 292, 'label': 'person', 'confidence': np.float32(0.27562883), 'bbox': (np.float32(278.70532), np.float32(9.855458), np.float32(356.89444), np.float32(123.88725)), 'team': 0, 'referee': True}, {'frame': 292, 'label': 'person', 'confidence': np.float32(0.2653707), 'bbox': (np.float32(441.08475), np.float32(1.7564867), np.float32(498.69656), np.float32(111.1651)), 'team': 0}, {'frame': 292, 'label': 'person', 'confidence': np.float32(0.25741976), 'bbox': (np.float32(767.93286), np.float32(46.123135), np.float32(823.4924), np.float32(118.78995))}, {'frame': 293, 'label': 'person', 'confidence': np.float32(0.87978905), 'bbox': (np.float32(370.2618), np.float32(174.63683), np.float32(505.7325), np.float32(422.24365)), 'team': 0, 'referee': True}, {'frame': 293, 'label': 'person', 'confidence': np.float32(0.87795943), 'bbox': (np.float32(1106.0735), np.float32(49.329506), np.float32(1216.1326), np.float32(266.993)), 'referee': True}, {'frame': 293, 'label': 'person', 'confidence': np.float32(0.8418917), 'bbox': (np.float32(717.19763), np.float32(185.56096), np.float32(857.13696), np.float32(448.3136)), 'team': 1, 'referee': True}, {'frame': 293, 'label': 'person', 'confidence': np.float32(0.8361604), 'bbox': (np.float32(305.20862), np.float32(139.75902), np.float32(418.32272), np.float32(352.60217)), 'team': 1, 'referee': True}, {'frame': 293, 'label': 'person', 'confidence': np.float32(0.78257734), 'bbox': (np.float32(825.38635), np.float32(228.6204), np.float32(958.2411), np.float32(446.2143)), 'team': 0, 'referee': True}, {'frame': 293, 'label': 'person', 'confidence': np.float32(0.7105611), 'bbox': (np.float32(523.19086), np.float32(229.40115), np.float32(704.0086), np.float32(382.28482)), 'team': 1, 'referee': True}, {'frame': 293, 'label': 'person', 'confidence': np.float32(0.4350576), 'bbox': (np.float32(496.23923), np.float32(2.47343), np.float32(569.23474), np.float32(131.67557))}, {'frame': 293, 'label': 'baseball bat', 'confidence': np.float32(0.4270757), 'bbox': (np.float32(650.06036), np.float32(345.39972), np.float32(733.17566), np.float32(399.03)), 'team': 0, 'referee': True}, {'frame': 293, 'label': 'person', 'confidence': np.float32(0.4182106), 'bbox': (np.float32(129.93517), np.float32(104.20006), np.float32(196.15129), np.float32(170.22089))}, {'frame': 293, 'label': 'person', 'confidence': np.float32(0.35272342), 'bbox': (np.float32(709.49133), np.float32(47.14433), np.float32(767.28644), np.float32(119.527405))}, {'frame': 293, 'label': 'chair', 'confidence': np.float32(0.34071225), 'bbox': (np.float32(185.01582), np.float32(121.194), np.float32(250.67143), np.float32(172.58972))}, {'frame': 293, 'label': 'person', 'confidence': np.float32(0.2839682), 'bbox': (np.float32(869.99756), np.float32(149.88387), np.float32(902.7408), np.float32(222.79237)), 'team': 1}, {'frame': 293, 'label': 'person', 'confidence': np.float32(0.27054784), 'bbox': (np.float32(771.3607), np.float32(48.65547), np.float32(826.1321), np.float32(117.151436))}, {'frame': 293, 'label': 'person', 'confidence': np.float32(0.25271195), 'bbox': (np.float32(279.00858), np.float32(9.443531), np.float32(356.3452), np.float32(122.74944)), 'team': 0, 'referee': True}, {'frame': 294, 'label': 'person', 'confidence': np.float32(0.8699775), 'bbox': (np.float32(360.2991), np.float32(176.91891), np.float32(490.1891), np.float32(416.23608)), 'team': 0, 'referee': True}, {'frame': 294, 'label': 'person', 'confidence': np.float32(0.8538797), 'bbox': (np.float32(1098.3729), np.float32(48.06757), np.float32(1208.7043), np.float32(266.91006)), 'referee': True}, {'frame': 294, 'label': 'person', 'confidence': np.float32(0.769826), 'bbox': (np.float32(719.50256), np.float32(185.76318), np.float32(857.5018), np.float32(447.82864)), 'team': 1, 'referee': True}, {'frame': 294, 'label': 'person', 'confidence': np.float32(0.75168616), 'bbox': (np.float32(303.0368), np.float32(145.84106), np.float32(403.97485), np.float32(354.8496)), 'team': 1, 'referee': True}, {'frame': 294, 'label': 'person', 'confidence': np.float32(0.7184935), 'bbox': (np.float32(530.81006), np.float32(228.6675), np.float32(701.7293), np.float32(387.8915)), 'team': 1, 'referee': True}, {'frame': 294, 'label': 'baseball bat', 'confidence': np.float32(0.5964634), 'bbox': (np.float32(651.6492), np.float32(339.31897), np.float32(741.74854), np.float32(394.96655)), 'team': 0, 'referee': True}, {'frame': 294, 'label': 'person', 'confidence': np.float32(0.51709926), 'bbox': (np.float32(781.6429), np.float32(234.7007), np.float32(958.0687), np.float32(449.9395)), 'team': 0, 'referee': True}, {'frame': 294, 'label': 'person', 'confidence': np.float32(0.4973278), 'bbox': (np.float32(131.8638), np.float32(105.434105), np.float32(195.38756), np.float32(172.2586))}, {'frame': 294, 'label': 'person', 'confidence': np.float32(0.34900674), 'bbox': (np.float32(793.6507), np.float32(143.00839), np.float32(882.1454), np.float32(312.82172)), 'team': 0, 'referee': True}, {'frame': 294, 'label': 'person', 'confidence': np.float32(0.3299174), 'bbox': (np.float32(496.455), np.float32(2.229885), np.float32(572.91266), np.float32(132.39635))}, {'frame': 294, 'label': 'person', 'confidence': np.float32(0.32413787), 'bbox': (np.float32(863.99066), np.float32(149.53246), np.float32(899.9856), np.float32(227.27373)), 'team': 1, 'referee': True}, {'frame': 294, 'label': 'chair', 'confidence': np.float32(0.31240186), 'bbox': (np.float32(187.51955), np.float32(115.71285), np.float32(251.55164), np.float32(173.56523))}, {'frame': 294, 'label': 'person', 'confidence': np.float32(0.29574028), 'bbox': (np.float32(83.39221), np.float32(134.06497), np.float32(134.58516), np.float32(179.81242))}, {'frame': 294, 'label': 'person', 'confidence': np.float32(0.29275897), 'bbox': (np.float32(192.56627), np.float32(113.827225), np.float32(253.52524), np.float32(172.64398))}, {'frame': 294, 'label': 'person', 'confidence': np.float32(0.285295), 'bbox': (np.float32(772.3017), np.float32(50.08472), np.float32(827.518), np.float32(117.671265))}, {'frame': 294, 'label': 'person', 'confidence': np.float32(0.26826116), 'bbox': (np.float32(709.80255), np.float32(47.19406), np.float32(770.4786), np.float32(124.17697))}, {'frame': 295, 'label': 'person', 'confidence': np.float32(0.8871463), 'bbox': (np.float32(354.0439), np.float32(171.52144), np.float32(482.29535), np.float32(414.8127)), 'team': 0, 'referee': True}, {'frame': 295, 'label': 'person', 'confidence': np.float32(0.86034155), 'bbox': (np.float32(1096.2001), np.float32(44.996098), np.float32(1204.0529), np.float32(266.57745)), 'referee': True}, {'frame': 295, 'label': 'person', 'confidence': np.float32(0.762458), 'bbox': (np.float32(302.04782), np.float32(145.74579), np.float32(399.77252), np.float32(357.2704)), 'team': 1, 'referee': True}, {'frame': 295, 'label': 'person', 'confidence': np.float32(0.7542549), 'bbox': (np.float32(719.86884), np.float32(182.54634), np.float32(851.4429), np.float32(444.32712)), 'team': 1, 'referee': True}, {'frame': 295, 'label': 'person', 'confidence': np.float32(0.694783), 'bbox': (np.float32(527.833), np.float32(227.78639), np.float32(703.10583), np.float32(384.2568)), 'team': 1, 'referee': True}, {'frame': 295, 'label': 'person', 'confidence': np.float32(0.5303335), 'bbox': (np.float32(771.58813), np.float32(49.644608), np.float32(827.59247), np.float32(118.0273))}, {'frame': 295, 'label': 'person', 'confidence': np.float32(0.50332433), 'bbox': (np.float32(130.25916), np.float32(105.0462), np.float32(197.25066), np.float32(173.04433))}, {'frame': 295, 'label': 'person', 'confidence': np.float32(0.44170222), 'bbox': (np.float32(748.6793), np.float32(232.84131), np.float32(957.5461), np.float32(444.99817)), 'team': 0, 'referee': True}, {'frame': 295, 'label': 'person', 'confidence': np.float32(0.3968124), 'bbox': (np.float32(496.97253), np.float32(2.3765833), np.float32(571.43787), np.float32(130.52986))}, {'frame': 295, 'label': 'person', 'confidence': np.float32(0.35194683), 'bbox': (np.float32(789.9362), np.float32(139.15076), np.float32(886.14996), np.float32(315.8016)), 'team': 0, 'referee': True}, {'frame': 295, 'label': 'chair', 'confidence': np.float32(0.34466594), 'bbox': (np.float32(187.21307), np.float32(117.607086), np.float32(252.11478), np.float32(173.90233))}, {'frame': 295, 'label': 'person', 'confidence': np.float32(0.31955373), 'bbox': (np.float32(710.7689), np.float32(46.6008), np.float32(768.01056), np.float32(119.111534))}, {'frame': 295, 'label': 'person', 'confidence': np.float32(0.28100434), 'bbox': (np.float32(283.23483), np.float32(11.131052), np.float32(357.72714), np.float32(125.09736)), 'team': 0, 'referee': True}, {'frame': 295, 'label': 'person', 'confidence': np.float32(0.26531598), 'bbox': (np.float32(392.40778), np.float32(23.907661), np.float32(455.91547), np.float32(113.63154))}, {'frame': 296, 'label': 'person', 'confidence': np.float32(0.8758152), 'bbox': (np.float32(350.59152), np.float32(170.37718), np.float32(480.81982), np.float32(412.56512)), 'team': 0, 'referee': True}, {'frame': 296, 'label': 'person', 'confidence': np.float32(0.8553112), 'bbox': (np.float32(1091.7046), np.float32(43.360317), np.float32(1200.33), np.float32(264.82706)), 'team': 1, 'referee': True}, {'frame': 296, 'label': 'person', 'confidence': np.float32(0.7212805), 'bbox': (np.float32(300.89774), np.float32(145.42232), np.float32(394.95117), np.float32(362.3263)), 'team': 1, 'referee': True}, {'frame': 296, 'label': 'person', 'confidence': np.float32(0.7040592), 'bbox': (np.float32(720.3095), np.float32(177.85072), np.float32(845.2885), np.float32(439.60556)), 'team': 1, 'referee': True}, {'frame': 296, 'label': 'person', 'confidence': np.float32(0.637437), 'bbox': (np.float32(524.06836), np.float32(227.48798), np.float32(701.06323), np.float32(380.61508)), 'team': 1, 'referee': True}, {'frame': 296, 'label': 'person', 'confidence': np.float32(0.61345947), 'bbox': (np.float32(1224.7849), np.float32(201.82681), np.float32(1267.5707), np.float32(452.57468)), 'team': 1, 'referee': True}, {'frame': 296, 'label': 'person', 'confidence': np.float32(0.54660535), 'bbox': (np.float32(773.02454), np.float32(49.866276), np.float32(829.4696), np.float32(118.538155))}, {'frame': 296, 'label': 'person', 'confidence': np.float32(0.5240888), 'bbox': (np.float32(128.44974), np.float32(105.06545), np.float32(198.1143), np.float32(173.12094))}, {'frame': 296, 'label': 'person', 'confidence': np.float32(0.49461988), 'bbox': (np.float32(750.8662), np.float32(242.0926), np.float32(961.6444), np.float32(441.99875)), 'team': 0, 'referee': True}, {'frame': 296, 'label': 'person', 'confidence': np.float32(0.34946042), 'bbox': (np.float32(499.9283), np.float32(3.408002), np.float32(568.8272), np.float32(126.166595))}, {'frame': 296, 'label': 'person', 'confidence': np.float32(0.33209455), 'bbox': (np.float32(787.71765), np.float32(139.84119), np.float32(886.20856), np.float32(315.1659)), 'team': 0, 'referee': True}, {'frame': 296, 'label': 'chair', 'confidence': np.float32(0.31953335), 'bbox': (np.float32(189.59564), np.float32(114.919235), np.float32(251.4515), np.float32(174.00027))}, {'frame': 296, 'label': 'person', 'confidence': np.float32(0.31910068), 'bbox': (np.float32(709.62), np.float32(48.2185), np.float32(771.4468), np.float32(124.83209))}, {'frame': 296, 'label': 'person', 'confidence': np.float32(0.27969915), 'bbox': (np.float32(283.7115), np.float32(10.618878), np.float32(356.95093), np.float32(126.16071)), 'team': 0, 'referee': True}, {'frame': 296, 'label': 'person', 'confidence': np.float32(0.26231986), 'bbox': (np.float32(192.6305), np.float32(113.53371), np.float32(253.91022), np.float32(173.0668))}, {'frame': 297, 'label': 'person', 'confidence': np.float32(0.8525355), 'bbox': (np.float32(346.75458), np.float32(171.69876), np.float32(475.17856), np.float32(412.62622)), 'team': 0, 'referee': True}, {'frame': 297, 'label': 'person', 'confidence': np.float32(0.83988047), 'bbox': (np.float32(1084.1678), np.float32(48.24037), np.float32(1197.6871), np.float32(264.46646)), 'team': 1, 'referee': True}, {'frame': 297, 'label': 'person', 'confidence': np.float32(0.76430094), 'bbox': (np.float32(300.0131), np.float32(147.35374), np.float32(388.93567), np.float32(360.39413)), 'team': 1, 'referee': True}, {'frame': 297, 'label': 'person', 'confidence': np.float32(0.71051514), 'bbox': (np.float32(719.3509), np.float32(161.15715), np.float32(875.826), np.float32(435.9051)), 'team': 0, 'referee': True}, {'frame': 297, 'label': 'person', 'confidence': np.float32(0.6646147), 'bbox': (np.float32(521.03265), np.float32(226.4143), np.float32(706.89905), np.float32(379.72504)), 'team': 1, 'referee': True}, {'frame': 297, 'label': 'person', 'confidence': np.float32(0.61965764), 'bbox': (np.float32(1221.5787), np.float32(198.67993), np.float32(1268.0), np.float32(451.14615)), 'team': 1, 'referee': True}, {'frame': 297, 'label': 'person', 'confidence': np.float32(0.5689172), 'bbox': (np.float32(774.6779), np.float32(50.276688), np.float32(831.28577), np.float32(119.11683))}, {'frame': 297, 'label': 'person', 'confidence': np.float32(0.4928486), 'bbox': (np.float32(129.43002), np.float32(106.286514), np.float32(198.85455), np.float32(174.64757))}, {'frame': 297, 'label': 'person', 'confidence': np.float32(0.41673106), 'bbox': (np.float32(499.71176), np.float32(3.559269), np.float32(569.75165), np.float32(129.60345))}, {'frame': 297, 'label': 'tennis racket', 'confidence': np.float32(0.38545), 'bbox': (np.float32(1190.4525), np.float32(350.8762), np.float32(1266.4943), np.float32(436.65692)), 'team': 0}, {'frame': 297, 'label': 'person', 'confidence': np.float32(0.36886495), 'bbox': (np.float32(711.4262), np.float32(49.313423), np.float32(772.9167), np.float32(125.21069))}, {'frame': 297, 'label': 'person', 'confidence': np.float32(0.32595316), 'bbox': (np.float32(782.2101), np.float32(134.56631), np.float32(886.3736), np.float32(287.43903)), 'team': 1, 'referee': True}, {'frame': 297, 'label': 'chair', 'confidence': np.float32(0.2927874), 'bbox': (np.float32(188.80975), np.float32(112.21304), np.float32(254.62807), np.float32(175.09294))}, {'frame': 297, 'label': 'person', 'confidence': np.float32(0.2878995), 'bbox': (np.float32(192.56245), np.float32(111.36588), np.float32(255.8397), np.float32(173.66528))}, {'frame': 297, 'label': 'person', 'confidence': np.float32(0.27270094), 'bbox': (np.float32(284.7541), np.float32(10.224406), np.float32(362.821), np.float32(127.5879)), 'team': 0, 'referee': True}, {'frame': 298, 'label': 'person', 'confidence': np.float32(0.8745308), 'bbox': (np.float32(345.31052), np.float32(168.66302), np.float32(472.51456), np.float32(409.55264)), 'team': 0, 'referee': True}, {'frame': 298, 'label': 'person', 'confidence': np.float32(0.8267814), 'bbox': (np.float32(1069.9297), np.float32(43.74719), np.float32(1193.1641), np.float32(265.1466)), 'team': 0, 'referee': True}, {'frame': 298, 'label': 'person', 'confidence': np.float32(0.77645487), 'bbox': (np.float32(296.16147), np.float32(147.38179), np.float32(387.22827), np.float32(359.0851)), 'team': 1, 'referee': True}, {'frame': 298, 'label': 'person', 'confidence': np.float32(0.7521795), 'bbox': (np.float32(719.857), np.float32(146.55656), np.float32(892.1591), np.float32(433.8353)), 'team': 0, 'referee': True}, {'frame': 298, 'label': 'person', 'confidence': np.float32(0.6966655), 'bbox': (np.float32(523.74396), np.float32(222.26532), np.float32(704.2244), np.float32(373.9428)), 'team': 1, 'referee': True}, {'frame': 298, 'label': 'person', 'confidence': np.float32(0.6446813), 'bbox': (np.float32(774.4791), np.float32(49.778217), np.float32(831.2219), np.float32(118.66221))}, {'frame': 298, 'label': 'person', 'confidence': np.float32(0.53697217), 'bbox': (np.float32(1216.432), np.float32(199.6817), np.float32(1268.0), np.float32(449.36185)), 'team': 1, 'referee': True}, {'frame': 298, 'label': 'person', 'confidence': np.float32(0.43071207), 'bbox': (np.float32(127.39667), np.float32(105.30118), np.float32(199.10075), np.float32(174.84773))}, {'frame': 298, 'label': 'person', 'confidence': np.float32(0.42912778), 'bbox': (np.float32(712.6817), np.float32(48.16703), np.float32(774.6326), np.float32(120.65062))}, {'frame': 298, 'label': 'tennis racket', 'confidence': np.float32(0.40330288), 'bbox': (np.float32(1190.3596), np.float32(346.80713), np.float32(1266.6212), np.float32(436.8776)), 'team': 0, 'referee': True}, {'frame': 298, 'label': 'person', 'confidence': np.float32(0.37709102), 'bbox': (np.float32(503.85275), np.float32(4.040788), np.float32(583.1403), np.float32(128.29675))}, {'frame': 298, 'label': 'person', 'confidence': np.float32(0.29825974), 'bbox': (np.float32(284.89526), np.float32(9.944353), np.float32(362.84302), np.float32(132.08005)), 'team': 0, 'referee': True}, {'frame': 298, 'label': 'person', 'confidence': np.float32(0.283056), 'bbox': (np.float32(959.20514), np.float32(0.37624207), np.float32(1022.88153), np.float32(103.97073))}, {'frame': 298, 'label': 'person', 'confidence': np.float32(0.26738808), 'bbox': (np.float32(192.44608), np.float32(107.713104), np.float32(257.42798), np.float32(171.30093))}, {'frame': 298, 'label': 'person', 'confidence': np.float32(0.2626263), 'bbox': (np.float32(453.3979), np.float32(1.2339091), np.float32(507.4027), np.float32(113.343475))}, {'frame': 299, 'label': 'person', 'confidence': np.float32(0.8781225), 'bbox': (np.float32(335.53845), np.float32(167.56534), np.float32(466.77783), np.float32(408.19693)), 'team': 0, 'referee': True}, {'frame': 299, 'label': 'person', 'confidence': np.float32(0.8457997), 'bbox': (np.float32(1069.138), np.float32(46.416824), np.float32(1188.3375), np.float32(264.16388)), 'team': 0, 'referee': True}, {'frame': 299, 'label': 'person', 'confidence': np.float32(0.8037386), 'bbox': (np.float32(288.35568), np.float32(148.0964), np.float32(382.0092), np.float32(359.62704)), 'team': 1, 'referee': True}, {'frame': 299, 'label': 'person', 'confidence': np.float32(0.78988427), 'bbox': (np.float32(723.35754), np.float32(141.96483), np.float32(885.07495), np.float32(434.8489)), 'team': 0, 'referee': True}, {'frame': 299, 'label': 'person', 'confidence': np.float32(0.7348993), 'bbox': (np.float32(1212.893), np.float32(200.9547), np.float32(1268.0), np.float32(443.03857)), 'team': 1, 'referee': True}, {'frame': 299, 'label': 'person', 'confidence': np.float32(0.6508396), 'bbox': (np.float32(527.4282), np.float32(225.1222), np.float32(703.8919), np.float32(380.90048)), 'team': 1, 'referee': True}, {'frame': 299, 'label': 'person', 'confidence': np.float32(0.5418412), 'bbox': (np.float32(775.98584), np.float32(49.868336), np.float32(833.52264), np.float32(119.61457)), 'team': 1}, {'frame': 299, 'label': 'person', 'confidence': np.float32(0.4405385), 'bbox': (np.float32(712.39136), np.float32(47.548344), np.float32(778.3263), np.float32(121.12878)), 'team': 0}, {'frame': 299, 'label': 'person', 'confidence': np.float32(0.37462914), 'bbox': (np.float32(507.978), np.float32(3.969121), np.float32(588.14087), np.float32(128.4717))}, {'frame': 299, 'label': 'person', 'confidence': np.float32(0.36959454), 'bbox': (np.float32(88.72227), np.float32(128.30324), np.float32(143.30315), np.float32(180.1412))}, {'frame': 299, 'label': 'person', 'confidence': np.float32(0.355345), 'bbox': (np.float32(137.44339), np.float32(105.94228), np.float32(203.94865), np.float32(175.31352))}, {'frame': 300, 'label': 'person', 'confidence': np.float32(0.86164594), 'bbox': (np.float32(337.76434), np.float32(162.13464), np.float32(464.5166), np.float32(402.4997)), 'team': 0, 'referee': True}, {'frame': 300, 'label': 'person', 'confidence': np.float32(0.856475), 'bbox': (np.float32(728.2171), np.float32(142.58305), np.float32(881.02814), np.float32(437.437)), 'team': 1, 'referee': True}, {'frame': 300, 'label': 'person', 'confidence': np.float32(0.84771544), 'bbox': (np.float32(1071.7494), np.float32(47.412075), np.float32(1184.5702), np.float32(264.41858)), 'team': 0, 'referee': True}, {'frame': 300, 'label': 'person', 'confidence': np.float32(0.77804), 'bbox': (np.float32(282.97195), np.float32(143.63103), np.float32(377.7821), np.float32(359.4746)), 'team': 1, 'referee': True}, {'frame': 300, 'label': 'person', 'confidence': np.float32(0.74758196), 'bbox': (np.float32(1205.2737), np.float32(202.14429), np.float32(1268.0), np.float32(439.22482)), 'team': 1, 'referee': True}, {'frame': 300, 'label': 'person', 'confidence': np.float32(0.73010314), 'bbox': (np.float32(530.6941), np.float32(223.62007), np.float32(715.3727), np.float32(379.69803)), 'team': 1, 'referee': True}, {'frame': 300, 'label': 'person', 'confidence': np.float32(0.51076305), 'bbox': (np.float32(713.50494), np.float32(48.28312), np.float32(780.45667), np.float32(121.722664)), 'team': 0}, {'frame': 300, 'label': 'person', 'confidence': np.float32(0.49391937), 'bbox': (np.float32(775.9168), np.float32(51.20989), np.float32(834.8228), np.float32(120.19931)), 'team': 1}, {'frame': 300, 'label': 'person', 'confidence': np.float32(0.43061683), 'bbox': (np.float32(0.0), np.float32(108.96343), np.float32(39.439064), np.float32(181.72429))}, {'frame': 300, 'label': 'person', 'confidence': np.float32(0.42862934), 'bbox': (np.float32(90.49769), np.float32(125.60881), np.float32(143.86516), np.float32(180.47115))}, {'frame': 300, 'label': 'person', 'confidence': np.float32(0.41099727), 'bbox': (np.float32(507.882), np.float32(3.916794), np.float32(592.5398), np.float32(131.81601))}, {'frame': 300, 'label': 'baseball bat', 'confidence': np.float32(0.3981696), 'bbox': (np.float32(1127.516), np.float32(330.33508), np.float32(1233.0306), np.float32(372.32376)), 'team': 0}, {'frame': 300, 'label': 'person', 'confidence': np.float32(0.38015163), 'bbox': (np.float32(139.60504), np.float32(103.93399), np.float32(206.99162), np.float32(174.94044))}, {'frame': 300, 'label': 'person', 'confidence': np.float32(0.31683743), 'bbox': (np.float32(290.8312), np.float32(9.322953), np.float32(365.7463), np.float32(131.54836)), 'team': 0, 'referee': True}, {'frame': 300, 'label': 'person', 'confidence': np.float32(0.28877714), 'bbox': (np.float32(345.45105), np.float32(12.080755), np.float32(403.86108), np.float32(132.43593)), 'team': 1}, {'frame': 300, 'label': 'person', 'confidence': np.float32(0.28594518), 'bbox': (np.float32(399.64005), np.float32(22.15555), np.float32(462.49612), np.float32(116.30702)), 'team': 0}, {'frame': 301, 'label': 'person', 'confidence': np.float32(0.865187), 'bbox': (np.float32(335.64822), np.float32(160.2806), np.float32(461.2661), np.float32(397.6896)), 'team': 1, 'referee': True}, {'frame': 301, 'label': 'person', 'confidence': np.float32(0.8475587), 'bbox': (np.float32(1069.4539), np.float32(48.76488), np.float32(1182.4572), np.float32(264.55637)), 'team': 0, 'referee': True}, {'frame': 301, 'label': 'person', 'confidence': np.float32(0.8450137), 'bbox': (np.float32(730.2752), np.float32(141.99896), np.float32(878.54016), np.float32(433.51367)), 'team': 1, 'referee': True}, {'frame': 301, 'label': 'person', 'confidence': np.float32(0.8042453), 'bbox': (np.float32(1197.3209), np.float32(196.2865), np.float32(1267.9545), np.float32(441.2775)), 'team': 1, 'referee': True}, {'frame': 301, 'label': 'person', 'confidence': np.float32(0.7990012), 'bbox': (np.float32(279.71548), np.float32(142.39337), np.float32(372.11218), np.float32(358.18777)), 'team': 0, 'referee': True}, {'frame': 301, 'label': 'person', 'confidence': np.float32(0.6317402), 'bbox': (np.float32(533.64966), np.float32(220.57117), np.float32(704.87256), np.float32(374.23102)), 'team': 1, 'referee': True}, {'frame': 301, 'label': 'person', 'confidence': np.float32(0.5136622), 'bbox': (np.float32(775.6728), np.float32(51.950886), np.float32(834.64905), np.float32(120.304276)), 'team': 0}, {'frame': 301, 'label': 'person', 'confidence': np.float32(0.5114228), 'bbox': (np.float32(715.4815), np.float32(47.896557), np.float32(780.56573), np.float32(121.45011)), 'team': 1}, {'frame': 301, 'label': 'person', 'confidence': np.float32(0.48650873), 'bbox': (np.float32(91.951065), np.float32(127.443306), np.float32(146.96872), np.float32(181.0216))}, {'frame': 301, 'label': 'person', 'confidence': np.float32(0.41888916), 'bbox': (np.float32(509.82068), np.float32(4.505121), np.float32(590.91504), np.float32(132.17375))}, {'frame': 301, 'label': 'person', 'confidence': np.float32(0.41225967), 'bbox': (np.float32(0.0), np.float32(109.631836), np.float32(41.01783), np.float32(181.75777))}, {'frame': 301, 'label': 'baseball bat', 'confidence': np.float32(0.39576662), 'bbox': (np.float32(1125.7332), np.float32(327.575), np.float32(1230.4697), np.float32(368.87967)), 'team': 0}, {'frame': 301, 'label': 'person', 'confidence': np.float32(0.36616638), 'bbox': (np.float32(147.14496), np.float32(104.92486), np.float32(208.17236), np.float32(174.93884))}, {'frame': 301, 'label': 'person', 'confidence': np.float32(0.32375187), 'bbox': (np.float32(344.95712), np.float32(11.326813), np.float32(405.84796), np.float32(133.69263)), 'team': 1}, {'frame': 301, 'label': 'baseball bat', 'confidence': np.float32(0.29246038), 'bbox': (np.float32(857.94403), np.float32(349.6627), np.float32(957.34467), np.float32(384.43777)), 'team': 0}, {'frame': 301, 'label': 'person', 'confidence': np.float32(0.2854897), 'bbox': (np.float32(292.77182), np.float32(9.904648), np.float32(362.93646), np.float32(133.27626)), 'team': 1, 'referee': True}, {'frame': 301, 'label': 'person', 'confidence': np.float32(0.2644686), 'bbox': (np.float32(403.2084), np.float32(22.498606), np.float32(464.86942), np.float32(116.45537)), 'team': 0}, {'frame': 301, 'label': 'person', 'confidence': np.float32(0.26394257), 'bbox': (np.float32(577.73627), np.float32(5.128657), np.float32(661.28595), np.float32(101.28006))}, {'frame': 302, 'label': 'person', 'confidence': np.float32(0.866475), 'bbox': (np.float32(1066.7782), np.float32(44.866085), np.float32(1179.1599), np.float32(264.02792)), 'team': 0, 'referee': True}, {'frame': 302, 'label': 'person', 'confidence': np.float32(0.8590448), 'bbox': (np.float32(336.7209), np.float32(159.5668), np.float32(459.3528), np.float32(396.55542)), 'team': 1, 'referee': True}, {'frame': 302, 'label': 'person', 'confidence': np.float32(0.8427865), 'bbox': (np.float32(1195.5225), np.float32(197.67706), np.float32(1267.8171), np.float32(440.81604)), 'team': 1, 'referee': True}, {'frame': 302, 'label': 'person', 'confidence': np.float32(0.84217113), 'bbox': (np.float32(732.2083), np.float32(143.58766), np.float32(875.92456), np.float32(434.42944)), 'team': 1, 'referee': True}, {'frame': 302, 'label': 'person', 'confidence': np.float32(0.7373291), 'bbox': (np.float32(279.63016), np.float32(141.39223), np.float32(369.49594), np.float32(352.72488)), 'team': 0, 'referee': True}, {'frame': 302, 'label': 'person', 'confidence': np.float32(0.52764195), 'bbox': (np.float32(535.6726), np.float32(226.64204), np.float32(695.35443), np.float32(379.34113)), 'team': 1, 'referee': True}, {'frame': 302, 'label': 'person', 'confidence': np.float32(0.51458555), 'bbox': (np.float32(775.8433), np.float32(51.933887), np.float32(836.37585), np.float32(120.216965)), 'team': 0}, {'frame': 302, 'label': 'person', 'confidence': np.float32(0.48462448), 'bbox': (np.float32(716.1487), np.float32(48.847603), np.float32(782.42224), np.float32(122.87229)), 'team': 1}, {'frame': 302, 'label': 'person', 'confidence': np.float32(0.43347776), 'bbox': (np.float32(0.0), np.float32(108.72278), np.float32(43.07668), np.float32(182.77173))}, {'frame': 302, 'label': 'person', 'confidence': np.float32(0.42622074), 'bbox': (np.float32(509.87128), np.float32(4.279534), np.float32(590.8746), np.float32(133.65887))}, {'frame': 302, 'label': 'baseball bat', 'confidence': np.float32(0.39134976), 'bbox': (np.float32(449.25388), np.float32(283.53662), np.float32(557.6863), np.float32(347.0824)), 'team': 0, 'referee': True}, {'frame': 302, 'label': 'person', 'confidence': np.float32(0.38214788), 'bbox': (np.float32(142.68349), np.float32(108.77728), np.float32(208.99919), np.float32(175.77054))}, {'frame': 302, 'label': 'baseball bat', 'confidence': np.float32(0.3738624), 'bbox': (np.float32(1116.8684), np.float32(331.54443), np.float32(1221.4307), np.float32(369.94205)), 'team': 0}, {'frame': 302, 'label': 'person', 'confidence': np.float32(0.33893132), 'bbox': (np.float32(92.62728), np.float32(125.16648), np.float32(147.00648), np.float32(181.02055))}, {'frame': 302, 'label': 'person', 'confidence': np.float32(0.3207668), 'bbox': (np.float32(577.43207), np.float32(4.5702853), np.float32(666.255), np.float32(113.76336))}, {'frame': 303, 'label': 'person', 'confidence': np.float32(0.85749567), 'bbox': (np.float32(1061.5775), np.float32(40.870808), np.float32(1173.4983), np.float32(262.45892)), 'team': 0, 'referee': True}, {'frame': 303, 'label': 'person', 'confidence': np.float32(0.856508), 'bbox': (np.float32(336.3641), np.float32(159.98082), np.float32(455.10934), np.float32(392.42856)), 'team': 1, 'referee': True}, {'frame': 303, 'label': 'person', 'confidence': np.float32(0.8502549), 'bbox': (np.float32(728.80457), np.float32(143.96747), np.float32(874.2542), np.float32(427.95242)), 'team': 0, 'referee': True}, {'frame': 303, 'label': 'person', 'confidence': np.float32(0.8292277), 'bbox': (np.float32(1183.0403), np.float32(197.90814), np.float32(1267.5985), np.float32(435.41754)), 'team': 1, 'referee': True}, {'frame': 303, 'label': 'person', 'confidence': np.float32(0.6998974), 'bbox': (np.float32(253.64319), np.float32(143.73993), np.float32(360.10562), np.float32(360.8109)), 'team': 0, 'referee': True}, {'frame': 303, 'label': 'person', 'confidence': np.float32(0.60312843), 'bbox': (np.float32(535.2092), np.float32(232.49432), np.float32(686.9646), np.float32(388.30908)), 'team': 1, 'referee': True}, {'frame': 303, 'label': 'person', 'confidence': np.float32(0.53729427), 'bbox': (np.float32(0.0), np.float32(106.50693), np.float32(51.785534), np.float32(181.66481))}, {'frame': 303, 'label': 'person', 'confidence': np.float32(0.52871495), 'bbox': (np.float32(720.25287), np.float32(49.12883), np.float32(782.97577), np.float32(123.151306)), 'team': 1}, {'frame': 303, 'label': 'person', 'confidence': np.float32(0.491021), 'bbox': (np.float32(148.20644), np.float32(108.22133), np.float32(211.74846), np.float32(175.64021))}, {'frame': 303, 'label': 'person', 'confidence': np.float32(0.47603798), 'bbox': (np.float32(780.69257), np.float32(52.13532), np.float32(839.55304), np.float32(119.61497)), 'team': 0}, {'frame': 303, 'label': 'person', 'confidence': np.float32(0.4499282), 'bbox': (np.float32(637.1208), np.float32(228.00119), np.float32(720.977), np.float32(350.98352)), 'team': 0, 'referee': True}, {'frame': 303, 'label': 'person', 'confidence': np.float32(0.4447999), 'bbox': (np.float32(512.84564), np.float32(3.3844404), np.float32(595.07513), np.float32(133.38747))}, {'frame': 303, 'label': 'person', 'confidence': np.float32(0.43051943), 'bbox': (np.float32(578.5075), np.float32(4.337714), np.float32(670.1338), np.float32(121.855484))}, {'frame': 303, 'label': 'person', 'confidence': np.float32(0.42510277), 'bbox': (np.float32(94.77851), np.float32(122.246574), np.float32(154.18846), np.float32(180.02177))}, {'frame': 303, 'label': 'baseball bat', 'confidence': np.float32(0.39693967), 'bbox': (np.float32(448.78928), np.float32(279.47668), np.float32(561.1658), np.float32(346.8515)), 'team': 0, 'referee': True}, {'frame': 303, 'label': 'baseball bat', 'confidence': np.float32(0.38708374), 'bbox': (np.float32(1097.8058), np.float32(328.9315), np.float32(1205.5244), np.float32(368.45908)), 'team': 0}, {'frame': 303, 'label': 'baseball bat', 'confidence': np.float32(0.2791969), 'bbox': (np.float32(848.99536), np.float32(349.4244), np.float32(952.75305), np.float32(384.72522)), 'team': 1}, {'frame': 303, 'label': 'person', 'confidence': np.float32(0.2744671), 'bbox': (np.float32(205.19345), np.float32(113.7278), np.float32(265.70288), np.float32(173.40543)), 'team': 1}, {'frame': 303, 'label': 'person', 'confidence': np.float32(0.25584465), 'bbox': (np.float32(343.14322), np.float32(14.431102), np.float32(410.56137), np.float32(138.3631)), 'team': 0}, {'frame': 304, 'label': 'person', 'confidence': np.float32(0.867522), 'bbox': (np.float32(724.7912), np.float32(140.94461), np.float32(875.71387), np.float32(424.73004)), 'team': 0, 'referee': True}, {'frame': 304, 'label': 'person', 'confidence': np.float32(0.85189164), 'bbox': (np.float32(1057.2815), np.float32(36.34915), np.float32(1172.0293), np.float32(260.05756)), 'team': 1, 'referee': True}, {'frame': 304, 'label': 'person', 'confidence': np.float32(0.8419931), 'bbox': (np.float32(339.20203), np.float32(157.29558), np.float32(454.80707), np.float32(387.6251)), 'team': 1, 'referee': True}, {'frame': 304, 'label': 'person', 'confidence': np.float32(0.81845003), 'bbox': (np.float32(1173.4857), np.float32(195.40631), np.float32(1268.0), np.float32(431.58127)), 'team': 1, 'referee': True}, {'frame': 304, 'label': 'person', 'confidence': np.float32(0.6852588), 'bbox': (np.float32(247.1621), np.float32(143.4235), np.float32(359.35056), np.float32(358.24725)), 'team': 0, 'referee': True}, {'frame': 304, 'label': 'person', 'confidence': np.float32(0.61777145), 'bbox': (np.float32(543.4794), np.float32(232.53207), np.float32(697.2017), np.float32(387.47324)), 'team': 1, 'referee': True}, {'frame': 304, 'label': 'person', 'confidence': np.float32(0.58287346), 'bbox': (np.float32(0.0), np.float32(103.02927), np.float32(53.98969), np.float32(183.25581))}, {'frame': 304, 'label': 'person', 'confidence': np.float32(0.5089819), 'bbox': (np.float32(721.8325), np.float32(49.677086), np.float32(784.2397), np.float32(123.30442)), 'team': 1}, {'frame': 304, 'label': 'baseball bat', 'confidence': np.float32(0.4997815), 'bbox': (np.float32(450.6399), np.float32(275.65192), np.float32(565.0607), np.float32(347.56366)), 'team': 0, 'referee': True}, {'frame': 304, 'label': 'person', 'confidence': np.float32(0.45715135), 'bbox': (np.float32(784.205), np.float32(52.62502), np.float32(841.748), np.float32(120.6822)), 'team': 0}, {'frame': 304, 'label': 'person', 'confidence': np.float32(0.45154122), 'bbox': (np.float32(156.99275), np.float32(109.54737), np.float32(212.37228), np.float32(174.7925))}, {'frame': 304, 'label': 'person', 'confidence': np.float32(0.43849388), 'bbox': (np.float32(516.14703), np.float32(1.7522353), np.float32(604.37085), np.float32(134.10085))}, {'frame': 304, 'label': 'person', 'confidence': np.float32(0.4355217), 'bbox': (np.float32(210.66074), np.float32(112.01213), np.float32(269.51013), np.float32(173.70949)), 'team': 1}, {'frame': 304, 'label': 'baseball bat', 'confidence': np.float32(0.43242353), 'bbox': (np.float32(1105.7899), np.float32(327.29633), np.float32(1202.4146), np.float32(365.5976)), 'team': 0}, {'frame': 304, 'label': 'person', 'confidence': np.float32(0.40163326), 'bbox': (np.float32(98.097694), np.float32(126.38174), np.float32(154.45468), np.float32(181.2552))}, {'frame': 304, 'label': 'baseball bat', 'confidence': np.float32(0.38460484), 'bbox': (np.float32(849.9466), np.float32(348.75485), np.float32(951.4383), np.float32(384.866)), 'team': 1}, {'frame': 304, 'label': 'person', 'confidence': np.float32(0.37090176), 'bbox': (np.float32(639.5766), np.float32(228.99826), np.float32(716.60516), np.float32(348.67816)), 'team': 1, 'referee': True}, {'frame': 304, 'label': 'person', 'confidence': np.float32(0.3281129), 'bbox': (np.float32(581.3083), np.float32(5.2542987), np.float32(668.528), np.float32(114.36252))}, {'frame': 305, 'label': 'person', 'confidence': np.float32(0.8745705), 'bbox': (np.float32(727.226), np.float32(144.4068), np.float32(877.21704), np.float32(424.09338)), 'team': 0, 'referee': True}, {'frame': 305, 'label': 'person', 'confidence': np.float32(0.84578776), 'bbox': (np.float32(1059.194), np.float32(32.808147), np.float32(1170.1355), np.float32(262.52985)), 'team': 1, 'referee': True}, {'frame': 305, 'label': 'person', 'confidence': np.float32(0.84405077), 'bbox': (np.float32(337.99515), np.float32(155.97963), np.float32(451.15707), np.float32(385.7246)), 'team': 1, 'referee': True}, {'frame': 305, 'label': 'person', 'confidence': np.float32(0.8422713), 'bbox': (np.float32(1175.2291), np.float32(194.7057), np.float32(1267.5292), np.float32(430.835)), 'team': 1, 'referee': True}, {'frame': 305, 'label': 'person', 'confidence': np.float32(0.80011076), 'bbox': (np.float32(238.55348), np.float32(143.21428), np.float32(356.28925), np.float32(354.04462)), 'team': 0, 'referee': True}, {'frame': 305, 'label': 'person', 'confidence': np.float32(0.62019384), 'bbox': (np.float32(0.0), np.float32(103.30256), np.float32(56.519024), np.float32(185.50906))}, {'frame': 305, 'label': 'person', 'confidence': np.float32(0.52605367), 'bbox': (np.float32(720.08374), np.float32(51.789307), np.float32(788.7022), np.float32(126.12332)), 'team': 1}, {'frame': 305, 'label': 'person', 'confidence': np.float32(0.52276), 'bbox': (np.float32(564.4698), np.float32(231.94246), np.float32(713.69116), np.float32(378.0571)), 'team': 1, 'referee': True}, {'frame': 305, 'label': 'baseball bat', 'confidence': np.float32(0.5224399), 'bbox': (np.float32(1100.2688), np.float32(326.04492), np.float32(1199.5403), np.float32(365.1691)), 'team': 0}, {'frame': 305, 'label': 'person', 'confidence': np.float32(0.51389927), 'bbox': (np.float32(784.34314), np.float32(54.38024), np.float32(843.40656), np.float32(120.10314)), 'team': 0}, {'frame': 305, 'label': 'person', 'confidence': np.float32(0.48001668), 'bbox': (np.float32(211.3139), np.float32(112.2479), np.float32(270.87976), np.float32(174.75916)), 'team': 1}, {'frame': 305, 'label': 'person', 'confidence': np.float32(0.4087332), 'bbox': (np.float32(157.42406), np.float32(110.10777), np.float32(214.81165), np.float32(175.0842)), 'team': 0}, {'frame': 305, 'label': 'person', 'confidence': np.float32(0.37207508), 'bbox': (np.float32(642.21106), np.float32(231.23474), np.float32(714.0331), np.float32(354.70306)), 'team': 0, 'referee': True}, {'frame': 305, 'label': 'person', 'confidence': np.float32(0.3579507), 'bbox': (np.float32(516.6936), np.float32(3.9748611), np.float32(597.0149), np.float32(133.57039))}, {'frame': 305, 'label': 'person', 'confidence': np.float32(0.33908847), 'bbox': (np.float32(100.63261), np.float32(124.66619), np.float32(159.97452), np.float32(182.04482)), 'team': 1}, {'frame': 305, 'label': 'baseball bat', 'confidence': np.float32(0.3133351), 'bbox': (np.float32(846.7788), np.float32(347.95636), np.float32(953.07837), np.float32(385.40384)), 'team': 1}, {'frame': 306, 'label': 'person', 'confidence': np.float32(0.86649877), 'bbox': (np.float32(1172.8671), np.float32(193.95554), np.float32(1267.4819), np.float32(430.9759)), 'team': 1, 'referee': True}, {'frame': 306, 'label': 'person', 'confidence': np.float32(0.8660512), 'bbox': (np.float32(730.8861), np.float32(144.05888), np.float32(878.8405), np.float32(422.2891)), 'team': 0, 'referee': True}, {'frame': 306, 'label': 'person', 'confidence': np.float32(0.84892803), 'bbox': (np.float32(1057.9594), np.float32(34.855915), np.float32(1168.631), np.float32(262.13104)), 'team': 1, 'referee': True}, {'frame': 306, 'label': 'person', 'confidence': np.float32(0.8296743), 'bbox': (np.float32(334.63446), np.float32(153.84644), np.float32(451.49133), np.float32(384.38425)), 'team': 1, 'referee': True}, {'frame': 306, 'label': 'person', 'confidence': np.float32(0.79544115), 'bbox': (np.float32(231.66489), np.float32(139.11073), np.float32(353.0953), np.float32(359.39743)), 'team': 0, 'referee': True}, {'frame': 306, 'label': 'person', 'confidence': np.float32(0.59729755), 'bbox': (np.float32(0.0), np.float32(103.48067), np.float32(58.86752), np.float32(185.2072))}, {'frame': 306, 'label': 'person', 'confidence': np.float32(0.5803647), 'bbox': (np.float32(784.9539), np.float32(52.89654), np.float32(844.59686), np.float32(120.27719)), 'team': 1}, {'frame': 306, 'label': 'person', 'confidence': np.float32(0.5506988), 'bbox': (np.float32(720.9084), np.float32(51.528362), np.float32(787.79956), np.float32(125.48052)), 'team': 0}, {'frame': 306, 'label': 'person', 'confidence': np.float32(0.53357315), 'bbox': (np.float32(551.5857), np.float32(234.42375), np.float32(703.5509), np.float32(385.62885)), 'team': 1, 'referee': True}, {'frame': 306, 'label': 'baseball bat', 'confidence': np.float32(0.46632937), 'bbox': (np.float32(1096.7126), np.float32(323.1681), np.float32(1199.228), np.float32(361.84955)), 'team': 0}, {'frame': 306, 'label': 'person', 'confidence': np.float32(0.43524832), 'bbox': (np.float32(517.23334), np.float32(5.6220007), np.float32(591.77606), np.float32(133.58778))}, {'frame': 306, 'label': 'person', 'confidence': np.float32(0.37096292), 'bbox': (np.float32(644.89465), np.float32(229.45981), np.float32(712.05255), np.float32(355.54825)), 'team': 0, 'referee': True}, {'frame': 306, 'label': 'person', 'confidence': np.float32(0.35722438), 'bbox': (np.float32(158.42546), np.float32(108.847046), np.float32(216.57631), np.float32(175.16805))}, {'frame': 306, 'label': 'person', 'confidence': np.float32(0.30125514), 'bbox': (np.float32(419.8219), np.float32(25.680243), np.float32(476.01132), np.float32(114.8725))}, {'frame': 306, 'label': 'person', 'confidence': np.float32(0.30007982), 'bbox': (np.float32(102.18188), np.float32(124.64015), np.float32(162.78893), np.float32(180.99141))}, {'frame': 306, 'label': 'baseball bat', 'confidence': np.float32(0.29394257), 'bbox': (np.float32(453.39996), np.float32(272.77008), np.float32(568.6559), np.float32(353.7729)), 'team': 0, 'referee': True}, {'frame': 306, 'label': 'person', 'confidence': np.float32(0.25570235), 'bbox': (np.float32(211.97963), np.float32(111.83178), np.float32(269.6313), np.float32(174.76576)), 'team': 1}, {'frame': 306, 'label': 'person', 'confidence': np.float32(0.2554399), 'bbox': (np.float32(303.58374), np.float32(8.282601), np.float32(376.63382), np.float32(133.3468)), 'team': 0, 'referee': True}, {'frame': 307, 'label': 'person', 'confidence': np.float32(0.88923544), 'bbox': (np.float32(715.01154), np.float32(148.1952), np.float32(880.68414), np.float32(420.6737)), 'team': 0, 'referee': True}, {'frame': 307, 'label': 'person', 'confidence': np.float32(0.86203676), 'bbox': (np.float32(1164.579), np.float32(190.02203), np.float32(1267.3557), np.float32(426.7206)), 'team': 1, 'referee': True}, {'frame': 307, 'label': 'person', 'confidence': np.float32(0.8278247), 'bbox': (np.float32(1055.7878), np.float32(51.549557), np.float32(1167.4706), np.float32(264.64706)), 'team': 0, 'referee': True}, {'frame': 307, 'label': 'person', 'confidence': np.float32(0.8189095), 'bbox': (np.float32(222.01135), np.float32(131.78557), np.float32(350.9719), np.float32(364.2748)), 'referee': True}, {'frame': 307, 'label': 'person', 'confidence': np.float32(0.77184534), 'bbox': (np.float32(331.5207), np.float32(148.12083), np.float32(455.5825), np.float32(380.92596)), 'team': 0, 'referee': True}, {'frame': 307, 'label': 'person', 'confidence': np.float32(0.65499026), 'bbox': (np.float32(0.59705466), np.float32(107.469986), np.float32(61.282703), np.float32(184.58755))}, {'frame': 307, 'label': 'person', 'confidence': np.float32(0.5594946), 'bbox': (np.float32(552.5595), np.float32(233.34373), np.float32(700.39264), np.float32(387.94504)), 'team': 1, 'referee': True}, {'frame': 307, 'label': 'person', 'confidence': np.float32(0.5200074), 'bbox': (np.float32(721.6889), np.float32(52.3371), np.float32(789.2945), np.float32(126.75691)), 'team': 1}, {'frame': 307, 'label': 'person', 'confidence': np.float32(0.4723332), 'bbox': (np.float32(788.23236), np.float32(52.701782), np.float32(847.4681), np.float32(120.861275)), 'team': 0}, {'frame': 307, 'label': 'person', 'confidence': np.float32(0.45230252), 'bbox': (np.float32(520.5587), np.float32(7.0829177), np.float32(594.3577), np.float32(131.37244))}, {'frame': 307, 'label': 'baseball bat', 'confidence': np.float32(0.4156776), 'bbox': (np.float32(1090.4744), np.float32(315.96646), np.float32(1203.47), np.float32(358.123)), 'team': 0}, {'frame': 307, 'label': 'person', 'confidence': np.float32(0.33213177), 'bbox': (np.float32(415.2618), np.float32(26.062416), np.float32(476.6386), np.float32(116.12435))}, {'frame': 307, 'label': 'person', 'confidence': np.float32(0.3022906), 'bbox': (np.float32(594.372), np.float32(5.6391377), np.float32(687.5151), np.float32(118.763016))}, {'frame': 307, 'label': 'person', 'confidence': np.float32(0.29839817), 'bbox': (np.float32(301.1228), np.float32(11.722724), np.float32(388.00717), np.float32(134.13176)), 'team': 1, 'referee': True}, {'frame': 307, 'label': 'person', 'confidence': np.float32(0.29563385), 'bbox': (np.float32(105.53744), np.float32(126.21318), np.float32(165.54756), np.float32(181.61871))}, {'frame': 307, 'label': 'person', 'confidence': np.float32(0.2902052), 'bbox': (np.float32(167.96272), np.float32(116.6208), np.float32(218.51338), np.float32(175.16559))}, {'frame': 307, 'label': 'person', 'confidence': np.float32(0.26588753), 'bbox': (np.float32(655.97107), np.float32(231.62866), np.float32(705.9263), np.float32(349.62897)), 'team': 0, 'referee': True}, {'frame': 307, 'label': 'person', 'confidence': np.float32(0.25999212), 'bbox': (np.float32(474.59604), np.float32(6.0394216), np.float32(524.40796), np.float32(110.09639)), 'referee': True}, {'frame': 308, 'label': 'person', 'confidence': np.float32(0.8783248), 'bbox': (np.float32(717.17395), np.float32(152.865), np.float32(878.9445), np.float32(418.8823)), 'team': 0, 'referee': True}, {'frame': 308, 'label': 'person', 'confidence': np.float32(0.8544778), 'bbox': (np.float32(1161.5044), np.float32(190.45726), np.float32(1267.6139), np.float32(425.30405)), 'team': 1, 'referee': True}, {'frame': 308, 'label': 'person', 'confidence': np.float32(0.83145374), 'bbox': (np.float32(224.05565), np.float32(129.9009), np.float32(347.53372), np.float32(365.40454)), 'referee': True}, {'frame': 308, 'label': 'person', 'confidence': np.float32(0.82912284), 'bbox': (np.float32(1054.1992), np.float32(45.042404), np.float32(1169.4677), np.float32(263.81192)), 'team': 0, 'referee': True}, {'frame': 308, 'label': 'person', 'confidence': np.float32(0.8001154), 'bbox': (np.float32(333.84064), np.float32(151.0906), np.float32(453.3533), np.float32(380.78)), 'team': 0, 'referee': True}, {'frame': 308, 'label': 'person', 'confidence': np.float32(0.6834095), 'bbox': (np.float32(0.45572063), np.float32(107.00415), np.float32(63.138496), np.float32(185.7515))}, {'frame': 308, 'label': 'person', 'confidence': np.float32(0.58802843), 'bbox': (np.float32(554.90857), np.float32(234.08337), np.float32(697.0456), np.float32(388.00504)), 'team': 1, 'referee': True}, {'frame': 308, 'label': 'person', 'confidence': np.float32(0.518085), 'bbox': (np.float32(721.46136), np.float32(50.143337), np.float32(792.2933), np.float32(128.14952))}, {'frame': 308, 'label': 'person', 'confidence': np.float32(0.40986797), 'bbox': (np.float32(523.1943), np.float32(7.3477645), np.float32(593.0498), np.float32(131.80304))}, {'frame': 308, 'label': 'person', 'confidence': np.float32(0.4072296), 'bbox': (np.float32(793.1976), np.float32(54.394135), np.float32(847.97046), np.float32(123.01377)), 'team': 1}, {'frame': 308, 'label': 'person', 'confidence': np.float32(0.39089227), 'bbox': (np.float32(108.077675), np.float32(127.06057), np.float32(165.00035), np.float32(182.63634))}, {'frame': 308, 'label': 'baseball bat', 'confidence': np.float32(0.39038107), 'bbox': (np.float32(1089.5776), np.float32(314.19064), np.float32(1199.4238), np.float32(351.92563)), 'team': 0}, {'frame': 308, 'label': 'person', 'confidence': np.float32(0.3426724), 'bbox': (np.float32(168.58571), np.float32(113.61656), np.float32(221.69928), np.float32(175.92267))}, {'frame': 308, 'label': 'person', 'confidence': np.float32(0.33260947), 'bbox': (np.float32(657.3906), np.float32(231.79395), np.float32(705.42175), np.float32(353.00125)), 'team': 0, 'referee': True}, {'frame': 308, 'label': 'person', 'confidence': np.float32(0.2994027), 'bbox': (np.float32(304.50415), np.float32(9.275829), np.float32(380.61557), np.float32(130.07533)), 'team': 1, 'referee': True}, {'frame': 308, 'label': 'person', 'confidence': np.float32(0.28316692), 'bbox': (np.float32(417.4407), np.float32(22.305605), np.float32(477.9957), np.float32(120.24549))}, {'frame': 309, 'label': 'person', 'confidence': np.float32(0.8747116), 'bbox': (np.float32(219.50209), np.float32(130.142), np.float32(342.3829), np.float32(363.35663)), 'referee': True}, {'frame': 309, 'label': 'person', 'confidence': np.float32(0.8673223), 'bbox': (np.float32(717.1537), np.float32(143.84097), np.float32(891.59283), np.float32(414.28555)), 'team': 0, 'referee': True}, {'frame': 309, 'label': 'person', 'confidence': np.float32(0.8663416), 'bbox': (np.float32(1153.4661), np.float32(188.23862), np.float32(1268.0), np.float32(422.73627)), 'team': 1, 'referee': True}, {'frame': 309, 'label': 'person', 'confidence': np.float32(0.8591449), 'bbox': (np.float32(1051.4103), np.float32(41.098034), np.float32(1171.1168), np.float32(262.0068)), 'team': 0, 'referee': True}, {'frame': 309, 'label': 'person', 'confidence': np.float32(0.8098711), 'bbox': (np.float32(334.0604), np.float32(146.17114), np.float32(452.1428), np.float32(378.67365)), 'team': 1, 'referee': True}, {'frame': 309, 'label': 'person', 'confidence': np.float32(0.68165), 'bbox': (np.float32(554.28204), np.float32(232.67834), np.float32(699.8963), np.float32(383.31146)), 'team': 1, 'referee': True}, {'frame': 309, 'label': 'person', 'confidence': np.float32(0.5382118), 'bbox': (np.float32(1.1358514), np.float32(107.30598), np.float32(63.795303), np.float32(185.22334))}, {'frame': 309, 'label': 'person', 'confidence': np.float32(0.5037375), 'bbox': (np.float32(723.0674), np.float32(50.85401), np.float32(797.1343), np.float32(128.02373)), 'team': 1}, {'frame': 309, 'label': 'baseball bat', 'confidence': np.float32(0.4280862), 'bbox': (np.float32(1073.9506), np.float32(309.23746), np.float32(1189.85), np.float32(348.85223)), 'team': 0}, {'frame': 309, 'label': 'person', 'confidence': np.float32(0.41229454), 'bbox': (np.float32(793.6686), np.float32(54.270443), np.float32(849.65674), np.float32(122.85938)), 'team': 0}, {'frame': 309, 'label': 'person', 'confidence': np.float32(0.3961425), 'bbox': (np.float32(524.7845), np.float32(4.497669), np.float32(594.8383), np.float32(132.52496))}, {'frame': 309, 'label': 'person', 'confidence': np.float32(0.3491519), 'bbox': (np.float32(418.63278), np.float32(22.292223), np.float32(480.06488), np.float32(126.408134)), 'team': 0}, {'frame': 309, 'label': 'person', 'confidence': np.float32(0.30188507), 'bbox': (np.float32(657.2656), np.float32(231.50424), np.float32(706.14764), np.float32(354.24738)), 'team': 0, 'referee': True}, {'frame': 309, 'label': 'person', 'confidence': np.float32(0.29510617), 'bbox': (np.float32(109.951294), np.float32(129.28183), np.float32(167.35347), np.float32(182.62398))}, {'frame': 309, 'label': 'person', 'confidence': np.float32(0.28674394), 'bbox': (np.float32(166.74173), np.float32(110.64385), np.float32(224.55707), np.float32(176.10733))}, {'frame': 309, 'label': 'chair', 'confidence': np.float32(0.2607039), 'bbox': (np.float32(220.70886), np.float32(125.43434), np.float32(276.73236), np.float32(177.47314))}, {'frame': 309, 'label': 'person', 'confidence': np.float32(0.25778106), 'bbox': (np.float32(477.049), np.float32(2.2024765), np.float32(526.5921), np.float32(110.28756)), 'team': 1}, {'frame': 309, 'label': 'person', 'confidence': np.float32(0.25071308), 'bbox': (np.float32(305.8977), np.float32(7.780921), np.float32(378.71454), np.float32(129.87614)), 'team': 0, 'referee': True}, {'frame': 310, 'label': 'person', 'confidence': np.float32(0.875932), 'bbox': (np.float32(1147.5365), np.float32(188.67497), np.float32(1268.0), np.float32(419.7063)), 'team': 1, 'referee': True}, {'frame': 310, 'label': 'person', 'confidence': np.float32(0.86643153), 'bbox': (np.float32(216.66498), np.float32(130.45074), np.float32(342.62982), np.float32(362.1936)), 'referee': True}, {'frame': 310, 'label': 'person', 'confidence': np.float32(0.85484517), 'bbox': (np.float32(716.2577), np.float32(141.1675), np.float32(895.62616), np.float32(413.11356)), 'team': 0, 'referee': True}, {'frame': 310, 'label': 'person', 'confidence': np.float32(0.8376426), 'bbox': (np.float32(1049.4338), np.float32(45.320305), np.float32(1170.1049), np.float32(263.50912)), 'team': 0, 'referee': True}, {'frame': 310, 'label': 'person', 'confidence': np.float32(0.8011045), 'bbox': (np.float32(336.44455), np.float32(147.734), np.float32(449.38437), np.float32(377.1888)), 'team': 1, 'referee': True}, {'frame': 310, 'label': 'person', 'confidence': np.float32(0.5902007), 'bbox': (np.float32(558.2106), np.float32(232.1176), np.float32(702.47217), np.float32(381.0433)), 'team': 1, 'referee': True}, {'frame': 310, 'label': 'person', 'confidence': np.float32(0.48138133), 'bbox': (np.float32(2.6499667), np.float32(112.75242), np.float32(65.61626), np.float32(185.4903))}, {'frame': 310, 'label': 'person', 'confidence': np.float32(0.46505144), 'bbox': (np.float32(726.06573), np.float32(51.420967), np.float32(798.18384), np.float32(128.41489)), 'team': 1}, {'frame': 310, 'label': 'person', 'confidence': np.float32(0.42953244), 'bbox': (np.float32(794.546), np.float32(53.86499), np.float32(849.46155), np.float32(121.504555)), 'team': 0}, {'frame': 310, 'label': 'person', 'confidence': np.float32(0.41167483), 'bbox': (np.float32(165.69101), np.float32(110.89056), np.float32(225.47496), np.float32(177.02768))}, {'frame': 310, 'label': 'person', 'confidence': np.float32(0.405002), 'bbox': (np.float32(527.3162), np.float32(5.7762904), np.float32(594.1387), np.float32(127.15799))}, {'frame': 310, 'label': 'person', 'confidence': np.float32(0.3956809), 'bbox': (np.float32(418.79904), np.float32(22.264719), np.float32(480.8054), np.float32(126.156876)), 'team': 0}, {'frame': 310, 'label': 'person', 'confidence': np.float32(0.32006356), 'bbox': (np.float32(111.848625), np.float32(130.30936), np.float32(168.61952), np.float32(181.89441))}, {'frame': 310, 'label': 'chair', 'confidence': np.float32(0.28685415), 'bbox': (np.float32(222.70316), np.float32(124.17344), np.float32(277.65286), np.float32(178.39891))}, {'frame': 310, 'label': 'person', 'confidence': np.float32(0.2862595), 'bbox': (np.float32(474.8372), np.float32(2.0485868), np.float32(528.1159), np.float32(110.71715)), 'team': 1}, {'frame': 310, 'label': 'person', 'confidence': np.float32(0.2674485), 'bbox': (np.float32(368.47287), np.float32(13.233912), np.float32(427.37558), np.float32(131.466)), 'team': 1}, {'frame': 311, 'label': 'person', 'confidence': np.float32(0.87728053), 'bbox': (np.float32(211.22939), np.float32(132.06932), np.float32(340.34708), np.float32(361.4165)), 'referee': True}, {'frame': 311, 'label': 'person', 'confidence': np.float32(0.8626379), 'bbox': (np.float32(714.1896), np.float32(140.5532), np.float32(903.22736), np.float32(414.16928)), 'team': 0, 'referee': True}, {'frame': 311, 'label': 'person', 'confidence': np.float32(0.8472824), 'bbox': (np.float32(1140.2319), np.float32(186.106), np.float32(1267.6644), np.float32(416.84863)), 'team': 1, 'referee': True}, {'frame': 311, 'label': 'person', 'confidence': np.float32(0.83823), 'bbox': (np.float32(1047.4993), np.float32(43.91647), np.float32(1165.8011), np.float32(262.07385)), 'team': 0, 'referee': True}, {'frame': 311, 'label': 'person', 'confidence': np.float32(0.7681186), 'bbox': (np.float32(332.7239), np.float32(145.06377), np.float32(464.0245), np.float32(373.71048)), 'team': 0, 'referee': True}, {'frame': 311, 'label': 'person', 'confidence': np.float32(0.6713715), 'bbox': (np.float32(567.15967), np.float32(233.21179), np.float32(706.87823), np.float32(383.5087)), 'team': 1, 'referee': True}, {'frame': 311, 'label': 'person', 'confidence': np.float32(0.49923322), 'bbox': (np.float32(733.2727), np.float32(52.55506), np.float32(801.66644), np.float32(127.70044)), 'team': 1}, {'frame': 311, 'label': 'person', 'confidence': np.float32(0.44699308), 'bbox': (np.float32(797.6695), np.float32(53.37476), np.float32(857.653), np.float32(123.12629)), 'team': 0}, {'frame': 311, 'label': 'person', 'confidence': np.float32(0.43569925), 'bbox': (np.float32(164.64241), np.float32(109.45505), np.float32(227.02621), np.float32(177.01021))}, {'frame': 311, 'label': 'person', 'confidence': np.float32(0.42294005), 'bbox': (np.float32(8.12799), np.float32(113.95468), np.float32(69.097595), np.float32(185.32896))}, {'frame': 311, 'label': 'person', 'confidence': np.float32(0.39966428), 'bbox': (np.float32(531.60077), np.float32(3.7603915), np.float32(599.7136), np.float32(126.06255))}, {'frame': 311, 'label': 'person', 'confidence': np.float32(0.3205573), 'bbox': (np.float32(307.08517), np.float32(7.8554115), np.float32(391.7745), np.float32(128.98299)), 'team': 1, 'referee': True}, {'frame': 311, 'label': 'person', 'confidence': np.float32(0.3135521), 'bbox': (np.float32(421.69843), np.float32(18.60534), np.float32(485.39584), np.float32(124.11383)), 'team': 1}, {'frame': 311, 'label': 'person', 'confidence': np.float32(0.27608863), 'bbox': (np.float32(600.49194), np.float32(7.0645485), np.float32(687.5025), np.float32(97.073654))}, {'frame': 311, 'label': 'person', 'confidence': np.float32(0.27055058), 'bbox': (np.float32(115.93986), np.float32(135.5885), np.float32(166.48758), np.float32(182.78143))}, {'frame': 311, 'label': 'person', 'confidence': np.float32(0.2522098), 'bbox': (np.float32(369.71454), np.float32(12.827239), np.float32(430.22183), np.float32(128.73146)), 'team': 0, 'referee': True}, {'frame': 312, 'label': 'person', 'confidence': np.float32(0.8531238), 'bbox': (np.float32(712.7579), np.float32(139.10411), np.float32(909.11383), np.float32(412.9877)), 'team': 0, 'referee': True}, {'frame': 312, 'label': 'person', 'confidence': np.float32(0.85079986), 'bbox': (np.float32(1135.813), np.float32(185.05765), np.float32(1266.6149), np.float32(414.94888)), 'team': 1, 'referee': True}, {'frame': 312, 'label': 'person', 'confidence': np.float32(0.8495214), 'bbox': (np.float32(205.22339), np.float32(134.82272), np.float32(341.34424), np.float32(363.4714)), 'referee': True}, {'frame': 312, 'label': 'person', 'confidence': np.float32(0.8358734), 'bbox': (np.float32(1047.1176), np.float32(44.61478), np.float32(1165.6263), np.float32(260.8452)), 'team': 0, 'referee': True}, {'frame': 312, 'label': 'person', 'confidence': np.float32(0.71725833), 'bbox': (np.float32(331.03903), np.float32(143.87311), np.float32(475.0673), np.float32(372.28247)), 'team': 0, 'referee': True}, {'frame': 312, 'label': 'person', 'confidence': np.float32(0.67226934), 'bbox': (np.float32(562.9544), np.float32(232.72281), np.float32(709.38434), np.float32(385.0258)), 'team': 1, 'referee': True}, {'frame': 312, 'label': 'person', 'confidence': np.float32(0.5205203), 'bbox': (np.float32(736.7681), np.float32(51.606087), np.float32(801.95856), np.float32(127.68381)), 'team': 1}, {'frame': 312, 'label': 'person', 'confidence': np.float32(0.5013853), 'bbox': (np.float32(798.6317), np.float32(53.550095), np.float32(858.8168), np.float32(123.00233)), 'team': 0}, {'frame': 312, 'label': 'person', 'confidence': np.float32(0.39286247), 'bbox': (np.float32(163.96567), np.float32(107.99855), np.float32(228.54405), np.float32(176.93404))}, {'frame': 312, 'label': 'person', 'confidence': np.float32(0.39074656), 'bbox': (np.float32(532.7104), np.float32(4.30415), np.float32(597.8179), np.float32(131.9211))}, {'frame': 312, 'label': 'person', 'confidence': np.float32(0.37773535), 'bbox': (np.float32(305.9829), np.float32(11.0871105), np.float32(395.14624), np.float32(129.56662)), 'team': 1, 'referee': True}, {'frame': 312, 'label': 'person', 'confidence': np.float32(0.3406646), 'bbox': (np.float32(3.409521), np.float32(104.65563), np.float32(72.21747), np.float32(188.40236))}, {'frame': 312, 'label': 'chair', 'confidence': np.float32(0.2673579), 'bbox': (np.float32(222.7671), np.float32(119.92534), np.float32(282.4021), np.float32(178.3099))}, {'frame': 312, 'label': 'person', 'confidence': np.float32(0.25605294), 'bbox': (np.float32(423.37067), np.float32(20.02524), np.float32(488.5879), np.float32(125.81568)), 'team': 1}, {'frame': 313, 'label': 'person', 'confidence': np.float32(0.8312267), 'bbox': (np.float32(716.82355), np.float32(140.88608), np.float32(914.4289), np.float32(412.9376)), 'team': 0, 'referee': True}, {'frame': 313, 'label': 'person', 'confidence': np.float32(0.8243589), 'bbox': (np.float32(1045.1492), np.float32(46.266808), np.float32(1168.0488), np.float32(261.42175)), 'team': 1, 'referee': True}, {'frame': 313, 'label': 'person', 'confidence': np.float32(0.81652266), 'bbox': (np.float32(1136.4838), np.float32(185.19191), np.float32(1267.1306), np.float32(413.39737)), 'team': 1, 'referee': True}, {'frame': 313, 'label': 'person', 'confidence': np.float32(0.76805454), 'bbox': (np.float32(196.21216), np.float32(139.78284), np.float32(348.1686), np.float32(363.81763)), 'team': 1, 'referee': True}, {'frame': 313, 'label': 'person', 'confidence': np.float32(0.6822911), 'bbox': (np.float32(560.90643), np.float32(230.1972), np.float32(713.1835), np.float32(383.95227)), 'team': 1, 'referee': True}, {'frame': 313, 'label': 'person', 'confidence': np.float32(0.62500256), 'bbox': (np.float32(327.0417), np.float32(145.16147), np.float32(474.81525), np.float32(372.40298)), 'team': 0, 'referee': True}, {'frame': 313, 'label': 'person', 'confidence': np.float32(0.53669834), 'bbox': (np.float32(801.1843), np.float32(53.25366), np.float32(862.999), np.float32(122.379135)), 'team': 1}, {'frame': 313, 'label': 'person', 'confidence': np.float32(0.4755677), 'bbox': (np.float32(737.11774), np.float32(52.90533), np.float32(802.5731), np.float32(128.31349)), 'team': 1}, {'frame': 313, 'label': 'person', 'confidence': np.float32(0.4206303), 'bbox': (np.float32(9.200561), np.float32(108.00097), np.float32(73.27525), np.float32(185.98897))}, {'frame': 313, 'label': 'person', 'confidence': np.float32(0.41232863), 'bbox': (np.float32(534.06805), np.float32(5.9189415), np.float32(598.6061), np.float32(133.09515))}, {'frame': 313, 'label': 'person', 'confidence': np.float32(0.3656346), 'bbox': (np.float32(1201.5089), np.float32(307.60736), np.float32(1266.8309), np.float32(616.303)), 'team': 0, 'referee': True}, {'frame': 313, 'label': 'person', 'confidence': np.float32(0.34740523), 'bbox': (np.float32(167.7833), np.float32(108.93606), np.float32(229.81015), np.float32(176.139)), 'team': 0}, {'frame': 313, 'label': 'person', 'confidence': np.float32(0.3336265), 'bbox': (np.float32(314.29773), np.float32(5.29968), np.float32(398.3902), np.float32(119.16796)), 'team': 1, 'referee': True}, {'frame': 314, 'label': 'person', 'confidence': np.float32(0.8341733), 'bbox': (np.float32(194.9173), np.float32(141.52151), np.float32(344.431), np.float32(359.66595)), 'referee': True}, {'frame': 314, 'label': 'person', 'confidence': np.float32(0.82676166), 'bbox': (np.float32(1134.6318), np.float32(181.20938), np.float32(1268.0), np.float32(411.52148)), 'team': 1, 'referee': True}, {'frame': 314, 'label': 'person', 'confidence': np.float32(0.8062958), 'bbox': (np.float32(722.219), np.float32(139.58624), np.float32(916.982), np.float32(411.71902)), 'team': 0, 'referee': True}, {'frame': 314, 'label': 'person', 'confidence': np.float32(0.8035598), 'bbox': (np.float32(1043.8538), np.float32(49.574337), np.float32(1160.0585), np.float32(262.71664)), 'team': 0, 'referee': True}, {'frame': 314, 'label': 'person', 'confidence': np.float32(0.6995242), 'bbox': (np.float32(566.2162), np.float32(227.3808), np.float32(715.5206), np.float32(381.83386)), 'team': 1, 'referee': True}, {'frame': 314, 'label': 'person', 'confidence': np.float32(0.6971871), 'bbox': (np.float32(326.16757), np.float32(146.12425), np.float32(459.8133), np.float32(369.86865)), 'team': 0, 'referee': True}, {'frame': 314, 'label': 'person', 'confidence': np.float32(0.52153724), 'bbox': (np.float32(802.7734), np.float32(52.71368), np.float32(862.8133), np.float32(120.42106)), 'team': 1}, {'frame': 314, 'label': 'person', 'confidence': np.float32(0.45411906), 'bbox': (np.float32(737.46985), np.float32(50.232807), np.float32(804.10645), np.float32(128.14293)), 'team': 1}, {'frame': 314, 'label': 'person', 'confidence': np.float32(0.39535293), 'bbox': (np.float32(532.4241), np.float32(5.3791814), np.float32(612.559), np.float32(141.97325))}, {'frame': 314, 'label': 'person', 'confidence': np.float32(0.36969155), 'bbox': (np.float32(9.841956), np.float32(100.629616), np.float32(76.35215), np.float32(188.78561))}, {'frame': 314, 'label': 'baseball bat', 'confidence': np.float32(0.35719493), 'bbox': (np.float32(431.01324), np.float32(254.19325), np.float32(546.4502), np.float32(319.29056)), 'team': 1, 'referee': True}, {'frame': 314, 'label': 'person', 'confidence': np.float32(0.3328059), 'bbox': (np.float32(317.73138), np.float32(5.468508), np.float32(400.5788), np.float32(130.2312)), 'team': 1, 'referee': True}, {'frame': 314, 'label': 'person', 'confidence': np.float32(0.32010373), 'bbox': (np.float32(1222.8187), np.float32(327.03363), np.float32(1267.0712), np.float32(610.92126)), 'team': 0}, {'frame': 314, 'label': 'person', 'confidence': np.float32(0.28924343), 'bbox': (np.float32(168.47993), np.float32(109.60339), np.float32(231.00903), np.float32(176.0555))}, {'frame': 315, 'label': 'person', 'confidence': np.float32(0.8807634), 'bbox': (np.float32(1131.6874), np.float32(178.13805), np.float32(1267.4098), np.float32(408.97653)), 'team': 1, 'referee': True}, {'frame': 315, 'label': 'person', 'confidence': np.float32(0.8583555), 'bbox': (np.float32(185.73715), np.float32(143.47484), np.float32(343.45096), np.float32(356.5197)), 'team': 1, 'referee': True}, {'frame': 315, 'label': 'person', 'confidence': np.float32(0.8104536), 'bbox': (np.float32(1039.8809), np.float32(47.869183), np.float32(1152.8477), np.float32(261.6831)), 'team': 0, 'referee': True}, {'frame': 315, 'label': 'person', 'confidence': np.float32(0.78175735), 'bbox': (np.float32(334.5749), np.float32(145.04315), np.float32(448.42422), np.float32(366.51382)), 'team': 0, 'referee': True}, {'frame': 315, 'label': 'person', 'confidence': np.float32(0.7443524), 'bbox': (np.float32(734.09), np.float32(137.88539), np.float32(924.8403), np.float32(407.377)), 'team': 0, 'referee': True}, {'frame': 315, 'label': 'person', 'confidence': np.float32(0.57384956), 'bbox': (np.float32(576.18353), np.float32(223.57108), np.float32(717.0326), np.float32(365.345)), 'team': 1, 'referee': True}, {'frame': 315, 'label': 'person', 'confidence': np.float32(0.4710076), 'bbox': (np.float32(17.160177), np.float32(110.745415), np.float32(81.5088), np.float32(189.63185))}, {'frame': 315, 'label': 'person', 'confidence': np.float32(0.44105276), 'bbox': (np.float32(1216.0509), np.float32(348.81085), np.float32(1267.22), np.float32(608.85114)), 'team': 0, 'referee': True}, {'frame': 315, 'label': 'person', 'confidence': np.float32(0.40803263), 'bbox': (np.float32(743.5782), np.float32(51.35999), np.float32(810.6772), np.float32(127.994934)), 'team': 1}, {'frame': 315, 'label': 'person', 'confidence': np.float32(0.35132492), 'bbox': (np.float32(542.9649), np.float32(4.236575), np.float32(616.4016), np.float32(137.68187))}, {'frame': 315, 'label': 'person', 'confidence': np.float32(0.3183192), 'bbox': (np.float32(321.4166), np.float32(9.42246), np.float32(398.30292), np.float32(133.55232)), 'team': 1, 'referee': True}, {'frame': 315, 'label': 'person', 'confidence': np.float32(0.31451917), 'bbox': (np.float32(810.4114), np.float32(53.962006), np.float32(865.0346), np.float32(121.52478)), 'team': 1}, {'frame': 315, 'label': 'baseball bat', 'confidence': np.float32(0.29477206), 'bbox': (np.float32(423.21274), np.float32(248.99078), np.float32(538.1683), np.float32(322.64767)), 'team': 1, 'referee': True}, {'frame': 315, 'label': 'person', 'confidence': np.float32(0.28030765), 'bbox': (np.float32(184.65555), np.float32(104.75308), np.float32(237.02602), np.float32(175.6761)), 'team': 0}, {'frame': 315, 'label': 'person', 'confidence': np.float32(0.2664598), 'bbox': (np.float32(126.35069), np.float32(118.40278), np.float32(188.99802), np.float32(180.13327)), 'team': 1}, {'frame': 316, 'label': 'person', 'confidence': np.float32(0.89079595), 'bbox': (np.float32(1130.0585), np.float32(177.87976), np.float32(1267.6921), np.float32(406.8392)), 'team': 1, 'referee': True}, {'frame': 316, 'label': 'person', 'confidence': np.float32(0.852503), 'bbox': (np.float32(181.20375), np.float32(147.9313), np.float32(344.43912), np.float32(355.59424)), 'team': 1, 'referee': True}, {'frame': 316, 'label': 'person', 'confidence': np.float32(0.7998768), 'bbox': (np.float32(1036.6549), np.float32(42.94133), np.float32(1152.6812), np.float32(261.26584)), 'team': 0, 'referee': True}, {'frame': 316, 'label': 'person', 'confidence': np.float32(0.7944717), 'bbox': (np.float32(332.84967), np.float32(145.71535), np.float32(443.1286), np.float32(364.1076)), 'team': 0, 'referee': True}, {'frame': 316, 'label': 'person', 'confidence': np.float32(0.7289482), 'bbox': (np.float32(740.0114), np.float32(144.06636), np.float32(929.3197), np.float32(406.4882)), 'team': 0, 'referee': True}, {'frame': 316, 'label': 'person', 'confidence': np.float32(0.5710446), 'bbox': (np.float32(586.0617), np.float32(223.9083), np.float32(718.2714), np.float32(358.78128)), 'team': 1, 'referee': True}, {'frame': 316, 'label': 'person', 'confidence': np.float32(0.44058773), 'bbox': (np.float32(19.661669), np.float32(112.76347), np.float32(83.75853), np.float32(190.21413))}, {'frame': 316, 'label': 'person', 'confidence': np.float32(0.43122652), 'bbox': (np.float32(1213.7402), np.float32(344.42743), np.float32(1267.2207), np.float32(605.7722)), 'team': 0, 'referee': True}, {'frame': 316, 'label': 'baseball bat', 'confidence': np.float32(0.3737148), 'bbox': (np.float32(430.5462), np.float32(251.44359), np.float32(522.4488), np.float32(317.8266)), 'team': 1}, {'frame': 316, 'label': 'person', 'confidence': np.float32(0.36241266), 'bbox': (np.float32(185.49419), np.float32(112.04869), np.float32(240.06912), np.float32(175.39558)), 'team': 0}, {'frame': 316, 'label': 'person', 'confidence': np.float32(0.33524898), 'bbox': (np.float32(745.1851), np.float32(49.800045), np.float32(812.0471), np.float32(128.14256)), 'team': 1}, {'frame': 316, 'label': 'person', 'confidence': np.float32(0.3298182), 'bbox': (np.float32(544.7304), np.float32(3.8737898), np.float32(612.86597), np.float32(131.77945))}, {'frame': 316, 'label': 'person', 'confidence': np.float32(0.3085766), 'bbox': (np.float32(808.6192), np.float32(53.962315), np.float32(865.3948), np.float32(121.1927)), 'team': 0}, {'frame': 316, 'label': 'person', 'confidence': np.float32(0.29454488), 'bbox': (np.float32(127.384865), np.float32(117.52261), np.float32(191.57515), np.float32(180.62802)), 'team': 1}, {'frame': 316, 'label': 'person', 'confidence': np.float32(0.28550905), 'bbox': (np.float32(762.65405), np.float32(136.82784), np.float32(877.3545), np.float32(313.7121)), 'team': 1, 'referee': True}, {'frame': 316, 'label': 'person', 'confidence': np.float32(0.27694562), 'bbox': (np.float32(611.7103), np.float32(7.8082123), np.float32(693.64136), np.float32(109.09795))}, {'frame': 316, 'label': 'person', 'confidence': np.float32(0.25842592), 'bbox': (np.float32(235.25125), np.float32(116.295654), np.float32(291.48904), np.float32(177.26474)), 'team': 0}, {'frame': 317, 'label': 'person', 'confidence': np.float32(0.89610285), 'bbox': (np.float32(1127.1584), np.float32(175.55391), np.float32(1266.9342), np.float32(403.7783)), 'team': 1, 'referee': True}, {'frame': 317, 'label': 'person', 'confidence': np.float32(0.85629725), 'bbox': (np.float32(180.66098), np.float32(145.30147), np.float32(342.3873), np.float32(353.98477)), 'team': 1, 'referee': True}, {'frame': 317, 'label': 'person', 'confidence': np.float32(0.8422572), 'bbox': (np.float32(1036.0907), np.float32(39.493816), np.float32(1146.2288), np.float32(260.21298)), 'team': 0, 'referee': True}, {'frame': 317, 'label': 'person', 'confidence': np.float32(0.7986245), 'bbox': (np.float32(331.7535), np.float32(144.35828), np.float32(448.41437), np.float32(362.75122)), 'team': 0, 'referee': True}, {'frame': 317, 'label': 'person', 'confidence': np.float32(0.7756664), 'bbox': (np.float32(738.6387), np.float32(146.85703), np.float32(932.365), np.float32(407.8881)), 'team': 0, 'referee': True}, {'frame': 317, 'label': 'person', 'confidence': np.float32(0.55259436), 'bbox': (np.float32(577.52496), np.float32(220.82632), np.float32(721.76337), np.float32(363.59213)), 'team': 1, 'referee': True}, {'frame': 317, 'label': 'person', 'confidence': np.float32(0.5351284), 'bbox': (np.float32(1203.2346), np.float32(331.92505), np.float32(1268.0), np.float32(605.52374)), 'team': 0, 'referee': True}, {'frame': 317, 'label': 'baseball bat', 'confidence': np.float32(0.4001261), 'bbox': (np.float32(429.9919), np.float32(254.30193), np.float32(516.6495), np.float32(311.42642)), 'team': 1}, {'frame': 317, 'label': 'person', 'confidence': np.float32(0.37899134), 'bbox': (np.float32(546.33984), np.float32(4.15351), np.float32(611.78973), np.float32(116.97039))}, {'frame': 317, 'label': 'person', 'confidence': np.float32(0.3592443), 'bbox': (np.float32(178.73956), np.float32(109.873085), np.float32(240.48874), np.float32(176.41393)), 'team': 0}, {'frame': 317, 'label': 'person', 'confidence': np.float32(0.35069707), 'bbox': (np.float32(20.56876), np.float32(107.57622), np.float32(90.46641), np.float32(189.70995))}, {'frame': 317, 'label': 'person', 'confidence': np.float32(0.34598106), 'bbox': (np.float32(748.39417), np.float32(51.25152), np.float32(814.09314), np.float32(127.151764)), 'team': 1}, {'frame': 317, 'label': 'person', 'confidence': np.float32(0.32821494), 'bbox': (np.float32(326.5191), np.float32(8.867621), np.float32(418.3215), np.float32(131.72253)), 'team': 1, 'referee': True}, {'frame': 317, 'label': 'person', 'confidence': np.float32(0.3103175), 'bbox': (np.float32(612.79694), np.float32(7.4196625), np.float32(693.26855), np.float32(97.26107))}, {'frame': 317, 'label': 'person', 'confidence': np.float32(0.27991983), 'bbox': (np.float32(816.93005), np.float32(52.969723), np.float32(869.803), np.float32(120.114334)), 'team': 1}, {'frame': 318, 'label': 'person', 'confidence': np.float32(0.8984185), 'bbox': (np.float32(1128.6016), np.float32(174.2408), np.float32(1267.2903), np.float32(402.13324)), 'team': 1, 'referee': True}, {'frame': 318, 'label': 'person', 'confidence': np.float32(0.8378609), 'bbox': (np.float32(1034.6567), np.float32(47.473106), np.float32(1143.7203), np.float32(261.9378)), 'team': 0, 'referee': True}, {'frame': 318, 'label': 'person', 'confidence': np.float32(0.8227597), 'bbox': (np.float32(330.7472), np.float32(144.22871), np.float32(443.96765), np.float32(363.39767)), 'team': 1, 'referee': True}, {'frame': 318, 'label': 'person', 'confidence': np.float32(0.77093613), 'bbox': (np.float32(729.4366), np.float32(164.01556), np.float32(935.57477), np.float32(407.02502)), 'team': 1, 'referee': True}, {'frame': 318, 'label': 'person', 'confidence': np.float32(0.76963454), 'bbox': (np.float32(186.0948), np.float32(143.24495), np.float32(342.35974), np.float32(348.68362)), 'team': 0, 'referee': True}, {'frame': 318, 'label': 'person', 'confidence': np.float32(0.6585191), 'bbox': (np.float32(1197.8948), np.float32(308.43958), np.float32(1268.0), np.float32(604.30664)), 'team': 0, 'referee': True}, {'frame': 318, 'label': 'baseball bat', 'confidence': np.float32(0.6131654), 'bbox': (np.float32(430.43924), np.float32(253.33397), np.float32(519.1579), np.float32(316.6686)), 'team': 0}, {'frame': 318, 'label': 'person', 'confidence': np.float32(0.5782779), 'bbox': (np.float32(594.45276), np.float32(218.88861), np.float32(724.4671), np.float32(365.86423)), 'team': 1, 'referee': True}, {'frame': 318, 'label': 'person', 'confidence': np.float32(0.46680072), 'bbox': (np.float32(329.45743), np.float32(9.048323), np.float32(408.87082), np.float32(130.47838)), 'team': 0, 'referee': True}, {'frame': 318, 'label': 'person', 'confidence': np.float32(0.43835077), 'bbox': (np.float32(189.05873), np.float32(103.6542), np.float32(242.87753), np.float32(176.2875)), 'team': 1}, {'frame': 318, 'label': 'person', 'confidence': np.float32(0.43343836), 'bbox': (np.float32(747.84406), np.float32(48.787548), np.float32(815.6826), np.float32(127.67808))}, {'frame': 318, 'label': 'person', 'confidence': np.float32(0.3923678), 'bbox': (np.float32(545.7195), np.float32(3.5566993), np.float32(613.8639), np.float32(114.55452))}, {'frame': 318, 'label': 'person', 'confidence': np.float32(0.38305628), 'bbox': (np.float32(19.54024), np.float32(101.247604), np.float32(92.7145), np.float32(190.27716))}, {'frame': 318, 'label': 'person', 'confidence': np.float32(0.33046895), 'bbox': (np.float32(815.30566), np.float32(54.210545), np.float32(874.07904), np.float32(123.06903))}, {'frame': 318, 'label': 'person', 'confidence': np.float32(0.29748452), 'bbox': (np.float32(131.22139), np.float32(122.60307), np.float32(189.50696), np.float32(181.9247)), 'team': 1}, {'frame': 318, 'label': 'person', 'confidence': np.float32(0.2659307), 'bbox': (np.float32(241.28284), np.float32(112.2082), np.float32(294.93814), np.float32(174.72537)), 'team': 1}, {'frame': 319, 'label': 'person', 'confidence': np.float32(0.8996789), 'bbox': (np.float32(1132.7236), np.float32(171.66057), np.float32(1267.0525), np.float32(397.13177)), 'team': 1, 'referee': True}, {'frame': 319, 'label': 'person', 'confidence': np.float32(0.8425227), 'bbox': (np.float32(1029.6561), np.float32(45.22582), np.float32(1144.6327), np.float32(263.5101)), 'team': 0, 'referee': True}, {'frame': 319, 'label': 'person', 'confidence': np.float32(0.8401851), 'bbox': (np.float32(328.84985), np.float32(141.50134), np.float32(444.05875), np.float32(359.82257)), 'team': 1, 'referee': True}, {'frame': 319, 'label': 'person', 'confidence': np.float32(0.7216257), 'bbox': (np.float32(735.8781), np.float32(146.90146), np.float32(941.2488), np.float32(404.88052)), 'team': 1, 'referee': True}, {'frame': 319, 'label': 'person', 'confidence': np.float32(0.691483), 'bbox': (np.float32(229.26688), np.float32(140.16118), np.float32(343.42868), np.float32(332.3166)), 'team': 0, 'referee': True}, {'frame': 319, 'label': 'person', 'confidence': np.float32(0.6874795), 'bbox': (np.float32(1195.751), np.float32(310.53433), np.float32(1267.7961), np.float32(602.32654)), 'team': 0, 'referee': True}, {'frame': 319, 'label': 'person', 'confidence': np.float32(0.55201775), 'bbox': (np.float32(603.2216), np.float32(217.31049), np.float32(729.21576), np.float32(374.35068)), 'team': 1, 'referee': True}, {'frame': 319, 'label': 'person', 'confidence': np.float32(0.5174192), 'bbox': (np.float32(132.00452), np.float32(116.73001), np.float32(190.70576), np.float32(181.87697))}, {'frame': 319, 'label': 'person', 'confidence': np.float32(0.4344645), 'bbox': (np.float32(189.20491), np.float32(105.6161), np.float32(244.6365), np.float32(176.6033)), 'team': 1}, {'frame': 319, 'label': 'person', 'confidence': np.float32(0.40906623), 'bbox': (np.float32(752.6722), np.float32(48.07484), np.float32(816.8591), np.float32(126.09193)), 'team': 0}, {'frame': 319, 'label': 'person', 'confidence': np.float32(0.4027331), 'bbox': (np.float32(329.26227), np.float32(10.18627), np.float32(409.65442), np.float32(128.76529)), 'team': 0, 'referee': True}, {'frame': 319, 'label': 'person', 'confidence': np.float32(0.39185777), 'bbox': (np.float32(818.2533), np.float32(54.29322), np.float32(876.23096), np.float32(122.65713)), 'team': 0}, {'frame': 319, 'label': 'person', 'confidence': np.float32(0.32393065), 'bbox': (np.float32(4.4986367), np.float32(72.130745), np.float32(91.96607), np.float32(189.61049))}, {'frame': 319, 'label': 'person', 'confidence': np.float32(0.27145535), 'bbox': (np.float32(566.76025), np.float32(172.24591), np.float32(651.5236), np.float32(340.5344)), 'team': 0, 'referee': True}, {'frame': 320, 'label': 'person', 'confidence': np.float32(0.88274395), 'bbox': (np.float32(1139.813), np.float32(165.55847), np.float32(1267.9619), np.float32(390.82712)), 'team': 1, 'referee': True}, {'frame': 320, 'label': 'person', 'confidence': np.float32(0.8444543), 'bbox': (np.float32(1024.2125), np.float32(44.858967), np.float32(1145.3988), np.float32(260.01624)), 'team': 0, 'referee': True}, {'frame': 320, 'label': 'person', 'confidence': np.float32(0.8020166), 'bbox': (np.float32(323.871), np.float32(139.95697), np.float32(443.6248), np.float32(356.52368)), 'team': 1, 'referee': True}, {'frame': 320, 'label': 'person', 'confidence': np.float32(0.7880428), 'bbox': (np.float32(726.98267), np.float32(136.89748), np.float32(950.70624), np.float32(395.47406)), 'team': 1, 'referee': True}, {'frame': 320, 'label': 'person', 'confidence': np.float32(0.7563037), 'bbox': (np.float32(1182.2819), np.float32(316.4138), np.float32(1267.9475), np.float32(597.41473)), 'team': 0, 'referee': True}, {'frame': 320, 'label': 'person', 'confidence': np.float32(0.75337625), 'bbox': (np.float32(173.09857), np.float32(140.63591), np.float32(341.32495), np.float32(348.329)), 'team': 0, 'referee': True}, {'frame': 320, 'label': 'person', 'confidence': np.float32(0.5408753), 'bbox': (np.float32(629.07794), np.float32(213.33107), np.float32(733.07007), np.float32(356.36176)), 'team': 1, 'referee': True}, {'frame': 320, 'label': 'person', 'confidence': np.float32(0.3528179), 'bbox': (np.float32(187.3857), np.float32(93.75871), np.float32(244.57233), np.float32(176.61772)), 'team': 1}, {'frame': 320, 'label': 'person', 'confidence': np.float32(0.34280083), 'bbox': (np.float32(11.253395), np.float32(95.133354), np.float32(100.47716), np.float32(188.32639))}, {'frame': 320, 'label': 'person', 'confidence': np.float32(0.3386308), 'bbox': (np.float32(819.67816), np.float32(51.236797), np.float32(879.6025), np.float32(122.65409)), 'team': 0}, {'frame': 320, 'label': 'person', 'confidence': np.float32(0.2633705), 'bbox': (np.float32(570.1733), np.float32(183.88159), np.float32(664.83435), np.float32(359.461)), 'team': 1, 'referee': True}, {'frame': 321, 'label': 'person', 'confidence': np.float32(0.8654212), 'bbox': (np.float32(1140.092), np.float32(164.57304), np.float32(1268.0), np.float32(386.77017)), 'team': 1, 'referee': True}, {'frame': 321, 'label': 'person', 'confidence': np.float32(0.8263819), 'bbox': (np.float32(727.02386), np.float32(144.14143), np.float32(961.12964), np.float32(394.01593)), 'team': 1, 'referee': True}, {'frame': 321, 'label': 'person', 'confidence': np.float32(0.77229667), 'bbox': (np.float32(1176.2732), np.float32(303.1747), np.float32(1268.0), np.float32(594.9231)), 'team': 0, 'referee': True}, {'frame': 321, 'label': 'person', 'confidence': np.float32(0.6911478), 'bbox': (np.float32(1021.38), np.float32(57.9465), np.float32(1137.5753), np.float32(260.9817)), 'team': 1, 'referee': True}, {'frame': 321, 'label': 'person', 'confidence': np.float32(0.6891512), 'bbox': (np.float32(327.21725), np.float32(142.3732), np.float32(447.34204), np.float32(355.15015)), 'team': 1, 'referee': True}, {'frame': 321, 'label': 'person', 'confidence': np.float32(0.602246), 'bbox': (np.float32(232.88326), np.float32(138.64885), np.float32(344.85895), np.float32(321.0732)), 'team': 0, 'referee': True}, {'frame': 321, 'label': 'person', 'confidence': np.float32(0.27857214), 'bbox': (np.float32(633.2832), np.float32(212.57835), np.float32(730.71185), np.float32(336.96298)), 'team': 1, 'referee': True}, {'frame': 321, 'label': 'person', 'confidence': np.float32(0.2593093), 'bbox': (np.float32(839.61035), np.float32(140.1971), np.float32(893.89484), np.float32(215.1257)), 'team': 0, 'referee': True}, {'frame': 322, 'label': 'person', 'confidence': np.float32(0.78306985), 'bbox': (np.float32(736.11273), np.float32(147.07373), np.float32(973.1045), np.float32(391.36658)), 'team': 1, 'referee': True}, {'frame': 322, 'label': 'person', 'confidence': np.float32(0.60129297), 'bbox': (np.float32(1021.7979), np.float32(50.69438), np.float32(1133.0651), np.float32(251.0306)), 'team': 1, 'referee': True}, {'frame': 322, 'label': 'person', 'confidence': np.float32(0.5577614), 'bbox': (np.float32(1153.7512), np.float32(218.17249), np.float32(1267.8663), np.float32(594.16425)), 'team': 1, 'referee': True}, {'frame': 322, 'label': 'person', 'confidence': np.float32(0.49307504), 'bbox': (np.float32(235.13942), np.float32(137.86728), np.float32(343.3343), np.float32(318.01013)), 'team': 1, 'referee': True}, {'frame': 322, 'label': 'person', 'confidence': np.float32(0.46385673), 'bbox': (np.float32(321.17935), np.float32(144.67017), np.float32(450.76373), np.float32(360.3217)), 'team': 0, 'referee': True}, {'frame': 322, 'label': 'person', 'confidence': np.float32(0.3685438), 'bbox': (np.float32(313.8713), np.float32(258.3681), np.float32(520.2), np.float32(523.63794)), 'team': 1, 'referee': True}, {'frame': 322, 'label': 'person', 'confidence': np.float32(0.3436522), 'bbox': (np.float32(1027.9695), np.float32(179.84682), np.float32(1166.1208), np.float32(528.2895)), 'team': 0, 'referee': True}, {'frame': 323, 'label': 'person', 'confidence': np.float32(0.7594986), 'bbox': (np.float32(738.5875), np.float32(135.87985), np.float32(978.46875), np.float32(388.46225)), 'team': 1, 'referee': True}, {'frame': 323, 'label': 'person', 'confidence': np.float32(0.64736015), 'bbox': (np.float32(1023.75684), np.float32(49.66269), np.float32(1127.0043), np.float32(250.70624)), 'team': 1, 'referee': True}, {'frame': 323, 'label': 'person', 'confidence': np.float32(0.60741657), 'bbox': (np.float32(1158.2961), np.float32(294.3583), np.float32(1266.3308), np.float32(586.51196)), 'referee': True}, {'frame': 323, 'label': 'person', 'confidence': np.float32(0.574742), 'bbox': (np.float32(303.60776), np.float32(189.8762), np.float32(525.0822), np.float32(535.0014)), 'team': 1, 'referee': True}, {'frame': 323, 'label': 'person', 'confidence': np.float32(0.3531876), 'bbox': (np.float32(993.0232), np.float32(234.75333), np.float32(1142.6772), np.float32(528.9405)), 'team': 0}, {'frame': 323, 'label': 'person', 'confidence': np.float32(0.288399), 'bbox': (np.float32(1160.3658), np.float32(162.64867), np.float32(1268.0), np.float32(367.02805)), 'team': 1, 'referee': True}, {'frame': 324, 'label': 'person', 'confidence': np.float32(0.5971931), 'bbox': (np.float32(750.3987), np.float32(136.84236), np.float32(965.7087), np.float32(383.99487)), 'team': 1, 'referee': True}, {'frame': 324, 'label': 'person', 'confidence': np.float32(0.5868774), 'bbox': (np.float32(165.17847), np.float32(138.66663), np.float32(518.56775), np.float32(531.5292)), 'team': 1, 'referee': True}, {'frame': 324, 'label': 'person', 'confidence': np.float32(0.58116055), 'bbox': (np.float32(1152.9087), np.float32(290.24045), np.float32(1267.3264), np.float32(586.104)), 'referee': True}, {'frame': 324, 'label': 'person', 'confidence': np.float32(0.28040877), 'bbox': (np.float32(1021.9634), np.float32(135.05513), np.float32(1111.2145), np.float32(249.70204)), 'team': 1}, {'frame': 325, 'label': 'person', 'confidence': np.float32(0.6754357), 'bbox': (np.float32(232.36183), np.float32(141.27644), np.float32(509.88953), np.float32(542.1875)), 'team': 1, 'referee': True}, {'frame': 325, 'label': 'person', 'confidence': np.float32(0.65330374), 'bbox': (np.float32(1150.0422), np.float32(168.36803), np.float32(1267.7985), np.float32(581.18774)), 'team': 1, 'referee': True}, {'frame': 325, 'label': 'person', 'confidence': np.float32(0.6026143), 'bbox': (np.float32(806.8417), np.float32(137.22244), np.float32(1029.1278), np.float32(512.13654)), 'team': 1}, {'frame': 325, 'label': 'person', 'confidence': np.float32(0.2644787), 'bbox': (np.float32(1018.075), np.float32(48.289474), np.float32(1108.871), np.float32(251.54791)), 'team': 1, 'referee': True}, {'frame': 326, 'label': 'person', 'confidence': np.float32(0.7383636), 'bbox': (np.float32(292.36154), np.float32(151.96764), np.float32(500.11844), np.float32(541.2968)), 'team': 1, 'referee': True}, {'frame': 326, 'label': 'person', 'confidence': np.float32(0.6125204), 'bbox': (np.float32(727.9662), np.float32(16.05384), np.float32(982.4661), np.float32(520.786)), 'team': 1}, {'frame': 326, 'label': 'person', 'confidence': np.float32(0.49376047), 'bbox': (np.float32(1149.1), np.float32(185.24483), np.float32(1267.6141), np.float32(577.2517)), 'team': 1}, {'frame': 327, 'label': 'person', 'confidence': np.float32(0.8425881), 'bbox': (np.float32(294.06696), np.float32(155.25783), np.float32(496.82562), np.float32(539.3329)), 'team': 1, 'referee': True}, {'frame': 327, 'label': 'person', 'confidence': np.float32(0.5283326), 'bbox': (np.float32(1150.0165), np.float32(190.14763), np.float32(1267.825), np.float32(574.78186)), 'team': 1}, {'frame': 328, 'label': 'person', 'confidence': np.float32(0.8587449), 'bbox': (np.float32(287.6216), np.float32(150.00488), np.float32(501.45557), np.float32(539.97186)), 'team': 1, 'referee': True}, {'frame': 328, 'label': 'person', 'confidence': np.float32(0.7832644), 'bbox': (np.float32(598.2574), np.float32(44.78892), np.float32(903.0289), np.float32(525.3977)), 'team': 1}, {'frame': 328, 'label': 'person', 'confidence': np.float32(0.5763039), 'bbox': (np.float32(1141.202), np.float32(206.6318), np.float32(1267.579), np.float32(565.5953))}, {'frame': 328, 'label': 'baseball bat', 'confidence': np.float32(0.25913504), 'bbox': (np.float32(483.64948), np.float32(339.37387), np.float32(633.8709), np.float32(397.54047)), 'team': 0, 'referee': True}, {'frame': 329, 'label': 'person', 'confidence': np.float32(0.8828344), 'bbox': (np.float32(542.4114), np.float32(19.332731), np.float32(859.8506), np.float32(523.3639)), 'team': 1, 'referee': True}, {'frame': 329, 'label': 'person', 'confidence': np.float32(0.8647177), 'bbox': (np.float32(294.23306), np.float32(147.61342), np.float32(506.3082), np.float32(535.8871)), 'team': 1, 'referee': True}, {'frame': 329, 'label': 'baseball bat', 'confidence': np.float32(0.3188264), 'bbox': (np.float32(490.31067), np.float32(338.0508), np.float32(666.57166), np.float32(442.7641)), 'team': 0, 'referee': True}, {'frame': 329, 'label': 'person', 'confidence': np.float32(0.25570357), 'bbox': (np.float32(1142.4175), np.float32(217.69377), np.float32(1267.8862), np.float32(566.9264))}, {'frame': 330, 'label': 'person', 'confidence': np.float32(0.8828663), 'bbox': (np.float32(488.4691), np.float32(15.007468), np.float32(822.0362), np.float32(506.88135)), 'team': 1, 'referee': True}, {'frame': 330, 'label': 'person', 'confidence': np.float32(0.7910785), 'bbox': (np.float32(296.47394), np.float32(137.22878), np.float32(520.5881), np.float32(527.96515)), 'team': 0, 'referee': True}, {'frame': 330, 'label': 'baseball glove', 'confidence': np.float32(0.5672478), 'bbox': (np.float32(390.522), np.float32(253.58714), np.float32(450.5686), np.float32(316.9172))}, {'frame': 330, 'label': 'baseball glove', 'confidence': np.float32(0.4741817), 'bbox': (np.float32(298.336), np.float32(138.16829), np.float32(519.19916), np.float32(525.9254)), 'team': 0, 'referee': True}, {'frame': 330, 'label': 'baseball bat', 'confidence': np.float32(0.39801738), 'bbox': (np.float32(476.0656), np.float32(331.96173), np.float32(631.5959), np.float32(456.38797)), 'team': 1, 'referee': True}, {'frame': 331, 'label': 'person', 'confidence': np.float32(0.87397367), 'bbox': (np.float32(432.3528), np.float32(2.8772695), np.float32(782.3625), np.float32(512.882)), 'team': 1, 'referee': True}, {'frame': 331, 'label': 'person', 'confidence': np.float32(0.788699), 'bbox': (np.float32(305.4865), np.float32(127.80669), np.float32(554.08026), np.float32(524.683)), 'team': 0, 'referee': True}, {'frame': 331, 'label': 'baseball glove', 'confidence': np.float32(0.6334884), 'bbox': (np.float32(399.1625), np.float32(245.45319), np.float32(456.1926), np.float32(318.12805)), 'team': 0}, {'frame': 331, 'label': 'baseball glove', 'confidence': np.float32(0.42359617), 'bbox': (np.float32(306.20026), np.float32(129.34464), np.float32(552.16064), np.float32(522.2475)), 'team': 1, 'referee': True}, {'frame': 332, 'label': 'person', 'confidence': np.float32(0.78347987), 'bbox': (np.float32(366.04874), np.float32(0.0), np.float32(748.6683), np.float32(510.61026)), 'team': 1, 'referee': True}, {'frame': 332, 'label': 'person', 'confidence': np.float32(0.41926876), 'bbox': (np.float32(314.47906), np.float32(106.96464), np.float32(535.0498), np.float32(522.296)), 'team': 0, 'referee': True}, {'frame': 333, 'label': 'person', 'confidence': np.float32(0.7294895), 'bbox': (np.float32(366.1351), np.float32(0.0), np.float32(699.3589), np.float32(484.18213)), 'team': 1, 'referee': True}, {'frame': 333, 'label': 'person', 'confidence': np.float32(0.26788303), 'bbox': (np.float32(1013.58405), np.float32(0.0), np.float32(1182.9713), np.float32(82.11534)), 'team': 1, 'referee': True}, {'frame': 334, 'label': 'person', 'confidence': np.float32(0.6485659), 'bbox': (np.float32(339.88168), np.float32(9.029738), np.float32(657.8923), np.float32(526.8823)), 'team': 1, 'referee': True}, {'frame': 335, 'label': 'person', 'confidence': np.float32(0.7905532), 'bbox': (np.float32(316.80466), np.float32(105.45545), np.float32(618.4289), np.float32(538.7417)), 'team': 1, 'referee': True}, {'frame': 335, 'label': 'person', 'confidence': np.float32(0.67623204), 'bbox': (np.float32(320.67212), np.float32(0.0), np.float32(581.83856), np.float32(194.9341)), 'team': 0, 'referee': True}, {'frame': 336, 'label': 'person', 'confidence': np.float32(0.7134683), 'bbox': (np.float32(288.0368), np.float32(0.0), np.float32(577.97156), np.float32(520.38696)), 'team': 1, 'referee': True}, {'frame': 337, 'label': 'person', 'confidence': np.float32(0.61346495), 'bbox': (np.float32(401.262), np.float32(129.07736), np.float32(612.4625), np.float32(566.0085)), 'team': 1, 'referee': True}, {'frame': 337, 'label': 'person', 'confidence': np.float32(0.6064443), 'bbox': (np.float32(262.3834), np.float32(0.0), np.float32(504.5469), np.float32(482.80402)), 'team': 0, 'referee': True}, {'frame': 337, 'label': 'skis', 'confidence': np.float32(0.25737953), 'bbox': (np.float32(66.74539), np.float32(416.86444), np.float32(850.96954), np.float32(599.44745)), 'team': 0, 'referee': True}, {'frame': 338, 'label': 'person', 'confidence': np.float32(0.82936513), 'bbox': (np.float32(233.10036), np.float32(0.0), np.float32(475.2883), np.float32(468.84412)), 'team': 1, 'referee': True}, {'frame': 338, 'label': 'person', 'confidence': np.float32(0.70286405), 'bbox': (np.float32(416.127), np.float32(142.33345), np.float32(642.8597), np.float32(574.24316)), 'team': 0, 'referee': True}, {'frame': 338, 'label': 'person', 'confidence': np.float32(0.32205847), 'bbox': (np.float32(956.68805), np.float32(0.0), np.float32(1125.2443), np.float32(94.96782)), 'team': 1, 'referee': True}, {'frame': 339, 'label': 'person', 'confidence': np.float32(0.86701757), 'bbox': (np.float32(207.57924), np.float32(2.1706843), np.float32(480.98608), np.float32(466.1307)), 'team': 1, 'referee': True}, {'frame': 339, 'label': 'person', 'confidence': np.float32(0.77403253), 'bbox': (np.float32(432.80954), np.float32(149.50218), np.float32(636.2049), np.float32(577.297)), 'team': 0, 'referee': True}, {'frame': 340, 'label': 'person', 'confidence': np.float32(0.827327), 'bbox': (np.float32(153.09048), np.float32(0.0), np.float32(462.04657), np.float32(471.39172)), 'team': 1, 'referee': True}, {'frame': 340, 'label': 'person', 'confidence': np.float32(0.80109435), 'bbox': (np.float32(440.3963), np.float32(154.23378), np.float32(633.7767), np.float32(573.9441)), 'team': 0, 'referee': True}, {'frame': 341, 'label': 'person', 'confidence': np.float32(0.8774667), 'bbox': (np.float32(125.13666), np.float32(3.6378179), np.float32(430.76215), np.float32(466.67157)), 'team': 1, 'referee': True}, {'frame': 341, 'label': 'person', 'confidence': np.float32(0.6902229), 'bbox': (np.float32(445.1152), np.float32(164.052), np.float32(645.0516), np.float32(562.29584)), 'team': 1, 'referee': True}, {'frame': 341, 'label': 'skis', 'confidence': np.float32(0.27872524), 'bbox': (np.float32(71.082306), np.float32(401.8398), np.float32(695.1974), np.float32(588.7447)), 'team': 0, 'referee': True}, {'frame': 342, 'label': 'person', 'confidence': np.float32(0.9010741), 'bbox': (np.float32(89.38035), np.float32(0.0), np.float32(394.85007), np.float32(450.5646)), 'team': 1, 'referee': True}, {'frame': 342, 'label': 'person', 'confidence': np.float32(0.8496618), 'bbox': (np.float32(453.91476), np.float32(167.13393), np.float32(657.5321), np.float32(586.3862)), 'team': 1, 'referee': True}, {'frame': 342, 'label': 'skis', 'confidence': np.float32(0.41856387), 'bbox': (np.float32(465.47943), np.float32(484.10672), np.float32(696.1091), np.float32(604.1601)), 'team': 0, 'referee': True}, {'frame': 343, 'label': 'person', 'confidence': np.float32(0.8744336), 'bbox': (np.float32(459.51263), np.float32(160.2877), np.float32(652.484), np.float32(579.7295)), 'team': 1, 'referee': True}, {'frame': 343, 'label': 'person', 'confidence': np.float32(0.8672624), 'bbox': (np.float32(61.063866), np.float32(0.0), np.float32(362.2371), np.float32(448.64703)), 'team': 1, 'referee': True}, {'frame': 343, 'label': 'person', 'confidence': np.float32(0.7138437), 'bbox': (np.float32(0.30471063), np.float32(2.3519032), np.float32(87.413315), np.float32(87.5589)), 'team': 0, 'referee': True}, {'frame': 343, 'label': 'skis', 'confidence': np.float32(0.52980345), 'bbox': (np.float32(449.6546), np.float32(475.35284), np.float32(682.9184), np.float32(597.6032)), 'team': 0, 'referee': True}, {'frame': 344, 'label': 'person', 'confidence': np.float32(0.86368126), 'bbox': (np.float32(466.20135), np.float32(158.43802), np.float32(670.83484), np.float32(588.4375)), 'team': 1, 'referee': True}, {'frame': 344, 'label': 'person', 'confidence': np.float32(0.84790957), 'bbox': (np.float32(44.385735), np.float32(0.51186806), np.float32(321.39853), np.float32(426.0524)), 'team': 1, 'referee': True}, {'frame': 344, 'label': 'skis', 'confidence': np.float32(0.25574625), 'bbox': (np.float32(560.4514), np.float32(488.20004), np.float32(671.8521), np.float32(596.58545)), 'team': 0, 'referee': True}, {'frame': 345, 'label': 'person', 'confidence': np.float32(0.69054925), 'bbox': (np.float32(471.82455), np.float32(149.48099), np.float32(675.33887), np.float32(556.4357)), 'team': 1, 'referee': True}, {'frame': 345, 'label': 'person', 'confidence': np.float32(0.66910625), 'bbox': (np.float32(35.875317), np.float32(1.1570834), np.float32(293.94193), np.float32(408.0284)), 'team': 1, 'referee': True}, {'frame': 345, 'label': 'person', 'confidence': np.float32(0.3170136), 'bbox': (np.float32(1.5080954), np.float32(0.39216274), np.float32(53.666782), np.float32(53.741215)), 'team': 0}, {'frame': 345, 'label': 'skis', 'confidence': np.float32(0.29714242), 'bbox': (np.float32(556.0953), np.float32(453.0195), np.float32(671.1932), np.float32(590.55853)), 'team': 0, 'referee': True}, {'frame': 346, 'label': 'person', 'confidence': np.float32(0.7612429), 'bbox': (np.float32(4.5544705), np.float32(5.118042), np.float32(249.91492), np.float32(393.9984)), 'team': 1, 'referee': True}, {'frame': 346, 'label': 'person', 'confidence': np.float32(0.7556049), 'bbox': (np.float32(470.243), np.float32(143.2668), np.float32(675.3965), np.float32(549.0166)), 'team': 1, 'referee': True}, {'frame': 346, 'label': 'skis', 'confidence': np.float32(0.3293011), 'bbox': (np.float32(547.0846), np.float32(419.1983), np.float32(676.4219), np.float32(585.6387)), 'team': 0, 'referee': True}, {'frame': 347, 'label': 'person', 'confidence': np.float32(0.84431976), 'bbox': (np.float32(463.1081), np.float32(129.71002), np.float32(670.44403), np.float32(540.8766)), 'team': 1, 'referee': True}, {'frame': 347, 'label': 'person', 'confidence': np.float32(0.641322), 'bbox': (np.float32(0.545202), np.float32(0.08317057), np.float32(201.71101), np.float32(365.6816)), 'team': 1, 'referee': True}, {'frame': 348, 'label': 'person', 'confidence': np.float32(0.7869451), 'bbox': (np.float32(461.03973), np.float32(120.56845), np.float32(657.247), np.float32(540.6933)), 'team': 1, 'referee': True}, {'frame': 348, 'label': 'person', 'confidence': np.float32(0.60281277), 'bbox': (np.float32(0.83242375), np.float32(0.12856314), np.float32(163.47952), np.float32(335.98276)), 'team': 1, 'referee': True}, {'frame': 349, 'label': 'person', 'confidence': np.float32(0.8474491), 'bbox': (np.float32(456.8712), np.float32(105.08413), np.float32(640.96893), np.float32(531.836)), 'team': 1, 'referee': True}, {'frame': 349, 'label': 'person', 'confidence': np.float32(0.79983735), 'bbox': (np.float32(0.6499654), np.float32(1.6740869), np.float32(126.878746), np.float32(282.09808)), 'team': 1}, {'frame': 350, 'label': 'person', 'confidence': np.float32(0.7540004), 'bbox': (np.float32(430.31567), np.float32(91.74241), np.float32(623.5665), np.float32(523.7715)), 'team': 1, 'referee': True}, {'frame': 350, 'label': 'person', 'confidence': np.float32(0.6860555), 'bbox': (np.float32(0.099095), np.float32(3.6232162), np.float32(85.05786), np.float32(248.00128)), 'team': 1}, {'frame': 351, 'label': 'person', 'confidence': np.float32(0.7802427), 'bbox': (np.float32(442.55914), np.float32(85.22394), np.float32(613.9641), np.float32(516.62756)), 'team': 1, 'referee': True}, {'frame': 351, 'label': 'person', 'confidence': np.float32(0.3168607), 'bbox': (np.float32(0.8257123), np.float32(3.5526786), np.float32(44.537502), np.float32(170.8797)), 'team': 1}, {'frame': 351, 'label': 'skis', 'confidence': np.float32(0.2876677), 'bbox': (np.float32(244.10689), np.float32(572.72833), np.float32(681.7948), np.float32(686.7531))}, {'frame': 352, 'label': 'person', 'confidence': np.float32(0.81606), 'bbox': (np.float32(445.1308), np.float32(78.864586), np.float32(605.17847), np.float32(518.3203)), 'team': 1, 'referee': True}, {'frame': 353, 'label': 'person', 'confidence': np.float32(0.84533125), 'bbox': (np.float32(442.51263), np.float32(74.783424), np.float32(604.2361), np.float32(523.88055)), 'team': 1, 'referee': True}, {'frame': 353, 'label': 'skis', 'confidence': np.float32(0.38199064), 'bbox': (np.float32(222.41576), np.float32(540.4542), np.float32(637.9918), np.float32(646.3317))}, {'frame': 354, 'label': 'person', 'confidence': np.float32(0.8402915), 'bbox': (np.float32(442.2646), np.float32(71.91355), np.float32(606.9243), np.float32(517.2308)), 'team': 1, 'referee': True}, {'frame': 354, 'label': 'skis', 'confidence': np.float32(0.37593222), 'bbox': (np.float32(230.78888), np.float32(529.5115), np.float32(624.4972), np.float32(638.86017))}, {'frame': 355, 'label': 'person', 'confidence': np.float32(0.8589468), 'bbox': (np.float32(444.61966), np.float32(72.64455), np.float32(608.20123), np.float32(519.5546)), 'team': 1, 'referee': True}, {'frame': 356, 'label': 'person', 'confidence': np.float32(0.89576226), 'bbox': (np.float32(445.6435), np.float32(77.65901), np.float32(610.00415), np.float32(523.6429)), 'team': 1, 'referee': True}, {'frame': 356, 'label': 'skis', 'confidence': np.float32(0.3848093), 'bbox': (np.float32(182.95497), np.float32(508.66885), np.float32(610.01685), np.float32(624.6014)), 'team': 0}, {'frame': 357, 'label': 'person', 'confidence': np.float32(0.88254356), 'bbox': (np.float32(448.33652), np.float32(84.75856), np.float32(614.5571), np.float32(533.7402)), 'team': 1, 'referee': True}, {'frame': 357, 'label': 'skis', 'confidence': np.float32(0.33295652), 'bbox': (np.float32(181.37425), np.float32(502.37094), np.float32(597.04724), np.float32(618.9146)), 'team': 0, 'referee': True}, {'frame': 358, 'label': 'person', 'confidence': np.float32(0.8587389), 'bbox': (np.float32(449.96887), np.float32(88.49759), np.float32(617.51135), np.float32(542.68414)), 'team': 1, 'referee': True}, {'frame': 358, 'label': 'skis', 'confidence': np.float32(0.26337388), 'bbox': (np.float32(179.89641), np.float32(499.9414), np.float32(589.1386), np.float32(598.2587)), 'team': 0, 'referee': True}, {'frame': 359, 'label': 'person', 'confidence': np.float32(0.87986976), 'bbox': (np.float32(449.51508), np.float32(96.11403), np.float32(627.78033), np.float32(559.78436)), 'team': 1, 'referee': True}, {'frame': 359, 'label': 'skis', 'confidence': np.float32(0.31577054), 'bbox': (np.float32(158.01976), np.float32(494.10565), np.float32(569.75867), np.float32(585.65295)), 'team': 0, 'referee': True}, {'frame': 360, 'label': 'person', 'confidence': np.float32(0.874303), 'bbox': (np.float32(451.52713), np.float32(101.62075), np.float32(633.6928), np.float32(562.2416)), 'team': 1, 'referee': True}, {'frame': 360, 'label': 'skis', 'confidence': np.float32(0.28141642), 'bbox': (np.float32(172.92426), np.float32(485.0686), np.float32(565.949), np.float32(592.1547)), 'team': 0, 'referee': True}, {'frame': 361, 'label': 'person', 'confidence': np.float32(0.8814938), 'bbox': (np.float32(449.77078), np.float32(106.667145), np.float32(637.4335), np.float32(564.69495)), 'team': 1, 'referee': True}, {'frame': 361, 'label': 'skis', 'confidence': np.float32(0.49071532), 'bbox': (np.float32(150.22653), np.float32(478.2438), np.float32(550.6219), np.float32(593.7423)), 'team': 0, 'referee': True}, {'frame': 362, 'label': 'person', 'confidence': np.float32(0.8877082), 'bbox': (np.float32(451.8812), np.float32(113.111206), np.float32(642.5781), np.float32(571.90375)), 'team': 1, 'referee': True}, {'frame': 363, 'label': 'person', 'confidence': np.float32(0.8799703), 'bbox': (np.float32(455.00806), np.float32(115.97821), np.float32(644.3663), np.float32(573.0047)), 'team': 1, 'referee': True}, {'frame': 364, 'label': 'person', 'confidence': np.float32(0.8911138), 'bbox': (np.float32(457.57526), np.float32(119.23112), np.float32(646.25006), np.float32(573.2417)), 'team': 1, 'referee': True}, {'frame': 365, 'label': 'person', 'confidence': np.float32(0.8923374), 'bbox': (np.float32(452.44357), np.float32(123.259674), np.float32(647.8349), np.float32(575.30963)), 'team': 1, 'referee': True}, {'frame': 366, 'label': 'person', 'confidence': np.float32(0.8865645), 'bbox': (np.float32(449.35992), np.float32(123.44306), np.float32(648.70557), np.float32(577.8349)), 'team': 1, 'referee': True}, {'frame': 367, 'label': 'person', 'confidence': np.float32(0.88149214), 'bbox': (np.float32(443.07755), np.float32(122.95639), np.float32(650.13416), np.float32(574.85657)), 'team': 1, 'referee': True}, {'frame': 368, 'label': 'person', 'confidence': np.float32(0.86359847), 'bbox': (np.float32(442.0182), np.float32(121.200424), np.float32(651.4996), np.float32(568.9547)), 'team': 1, 'referee': True}, {'frame': 369, 'label': 'person', 'confidence': np.float32(0.84737617), 'bbox': (np.float32(440.92404), np.float32(117.79134), np.float32(655.5406), np.float32(561.096)), 'team': 1, 'referee': True}, {'frame': 370, 'label': 'person', 'confidence': np.float32(0.8545371), 'bbox': (np.float32(438.9479), np.float32(112.94285), np.float32(651.62537), np.float32(560.17145)), 'team': 1, 'referee': True}, {'frame': 371, 'label': 'person', 'confidence': np.float32(0.88247657), 'bbox': (np.float32(438.75705), np.float32(111.112564), np.float32(650.96326), np.float32(552.09827)), 'team': 1, 'referee': True}, {'frame': 371, 'label': 'fork', 'confidence': np.float32(0.32968566), 'bbox': (np.float32(2.285394), np.float32(322.43478), np.float32(368.37244), np.float32(435.4816))}, {'frame': 372, 'label': 'person', 'confidence': np.float32(0.87351537), 'bbox': (np.float32(439.3223), np.float32(100.891075), np.float32(657.83374), np.float32(545.1221)), 'team': 1, 'referee': True}, {'frame': 372, 'label': 'fork', 'confidence': np.float32(0.36036894), 'bbox': (np.float32(1.044951), np.float32(308.43378), np.float32(346.0248), np.float32(417.0797))}, {'frame': 373, 'label': 'person', 'confidence': np.float32(0.88288385), 'bbox': (np.float32(442.61624), np.float32(97.29867), np.float32(662.41425), np.float32(535.5038)), 'team': 1, 'referee': True}, {'frame': 374, 'label': 'person', 'confidence': np.float32(0.8916875), 'bbox': (np.float32(441.92184), np.float32(100.94839), np.float32(668.07385), np.float32(525.97986)), 'team': 1, 'referee': True}, {'frame': 374, 'label': 'fork', 'confidence': np.float32(0.2568325), 'bbox': (np.float32(0.0), np.float32(270.76102), np.float32(301.01215), np.float32(364.02246))}, {'frame': 375, 'label': 'person', 'confidence': np.float32(0.89019847), 'bbox': (np.float32(444.13626), np.float32(93.93371), np.float32(674.457), np.float32(518.6766)), 'team': 1, 'referee': True}, {'frame': 375, 'label': 'fork', 'confidence': np.float32(0.39697784), 'bbox': (np.float32(0.0), np.float32(255.86118), np.float32(280.8256), np.float32(360.86707))}, {'frame': 376, 'label': 'person', 'confidence': np.float32(0.8751983), 'bbox': (np.float32(442.19153), np.float32(88.51946), np.float32(679.2393), np.float32(514.4391)), 'team': 1, 'referee': True}, {'frame': 377, 'label': 'person', 'confidence': np.float32(0.8547728), 'bbox': (np.float32(446.3168), np.float32(85.59603), np.float32(683.9435), np.float32(511.71558)), 'team': 1, 'referee': True}, {'frame': 378, 'label': 'person', 'confidence': np.float32(0.7943544), 'bbox': (np.float32(454.6989), np.float32(93.32338), np.float32(680.15894), np.float32(513.2446)), 'team': 1, 'referee': True}, {'frame': 379, 'label': 'person', 'confidence': np.float32(0.77278787), 'bbox': (np.float32(454.08823), np.float32(92.63014), np.float32(680.60315), np.float32(509.56165)), 'team': 1, 'referee': True}, {'frame': 380, 'label': 'person', 'confidence': np.float32(0.8253248), 'bbox': (np.float32(451.4961), np.float32(90.195435), np.float32(680.7532), np.float32(503.29114)), 'team': 1, 'referee': True}, {'frame': 380, 'label': 'frisbee', 'confidence': np.float32(0.26190096), 'bbox': (np.float32(3.0849862), np.float32(323.07748), np.float32(329.45013), np.float32(710.6513))}, {'frame': 381, 'label': 'person', 'confidence': np.float32(0.87368995), 'bbox': (np.float32(447.76956), np.float32(91.69302), np.float32(678.36475), np.float32(506.005)), 'team': 1, 'referee': True}, {'frame': 381, 'label': 'frisbee', 'confidence': np.float32(0.32710925), 'bbox': (np.float32(2.2743595), np.float32(333.3771), np.float32(287.2506), np.float32(711.1715))}, {'frame': 382, 'label': 'person', 'confidence': np.float32(0.89063877), 'bbox': (np.float32(442.25455), np.float32(95.7896), np.float32(670.0792), np.float32(508.96396)), 'team': 1, 'referee': True}, {'frame': 382, 'label': 'frisbee', 'confidence': np.float32(0.61566794), 'bbox': (np.float32(0.9653289), np.float32(349.0772), np.float32(245.0467), np.float32(707.753))}, {'frame': 383, 'label': 'person', 'confidence': np.float32(0.8957603), 'bbox': (np.float32(424.72333), np.float32(101.22385), np.float32(660.1008), np.float32(515.31537)), 'team': 1, 'referee': True}, {'frame': 383, 'label': 'frisbee', 'confidence': np.float32(0.62512445), 'bbox': (np.float32(1.877201), np.float32(369.38562), np.float32(196.42313), np.float32(710.02856))}, {'frame': 384, 'label': 'person', 'confidence': np.float32(0.88734853), 'bbox': (np.float32(411.1116), np.float32(102.349754), np.float32(650.9426), np.float32(522.11725)), 'referee': True}, {'frame': 384, 'label': 'kite', 'confidence': np.float32(0.34285098), 'bbox': (np.float32(1040.2959), np.float32(47.857166), np.float32(1171.0204), np.float32(88.37515)), 'team': 1, 'referee': True}, {'frame': 384, 'label': 'frisbee', 'confidence': np.float32(0.32359093), 'bbox': (np.float32(1.7310544), np.float32(389.44876), np.float32(152.4961), np.float32(711.7326))}, {'frame': 385, 'label': 'person', 'confidence': np.float32(0.8438799), 'bbox': (np.float32(395.33588), np.float32(109.07587), np.float32(637.1068), np.float32(523.0419)), 'referee': True}, {'frame': 385, 'label': 'kite', 'confidence': np.float32(0.55341476), 'bbox': (np.float32(1038.1505), np.float32(47.06145), np.float32(1173.362), np.float32(89.465416)), 'team': 1, 'referee': True}, {'frame': 385, 'label': 'frisbee', 'confidence': np.float32(0.3033099), 'bbox': (np.float32(1.1983455), np.float32(426.86322), np.float32(107.161606), np.float32(708.00024))}, {'frame': 386, 'label': 'person', 'confidence': np.float32(0.8609888), 'bbox': (np.float32(384.19907), np.float32(129.93263), np.float32(618.46094), np.float32(527.29376)), 'referee': True}, {'frame': 386, 'label': 'kite', 'confidence': np.float32(0.65530795), 'bbox': (np.float32(1037.4722), np.float32(46.152744), np.float32(1174.1571), np.float32(90.5362)), 'team': 1, 'referee': True}, {'frame': 386, 'label': 'skis', 'confidence': np.float32(0.2961084), 'bbox': (np.float32(364.4028), np.float32(458.38022), np.float32(611.7264), np.float32(540.2387)), 'referee': True}, {'frame': 387, 'label': 'person', 'confidence': np.float32(0.7125924), 'bbox': (np.float32(367.3153), np.float32(118.78472), np.float32(604.328), np.float32(532.80505)), 'referee': True}, {'frame': 387, 'label': 'kite', 'confidence': np.float32(0.6781096), 'bbox': (np.float32(1037.3108), np.float32(46.24189), np.float32(1174.1191), np.float32(90.175026)), 'team': 1, 'referee': True}, {'frame': 387, 'label': 'skis', 'confidence': np.float32(0.32200414), 'bbox': (np.float32(360.6169), np.float32(395.23798), np.float32(704.0877), np.float32(532.8726)), 'referee': True}, {'frame': 388, 'label': 'person', 'confidence': np.float32(0.7227809), 'bbox': (np.float32(386.94446), np.float32(152.8861), np.float32(601.2659), np.float32(519.3844)), 'team': 0, 'referee': True}, {'frame': 388, 'label': 'kite', 'confidence': np.float32(0.6912209), 'bbox': (np.float32(1037.1986), np.float32(46.09263), np.float32(1174.1058), np.float32(89.95804)), 'team': 1, 'referee': True}, {'frame': 388, 'label': 'skis', 'confidence': np.float32(0.35450524), 'bbox': (np.float32(370.9184), np.float32(425.61783), np.float32(667.29224), np.float32(531.25525)), 'team': 1, 'referee': True}, {'frame': 389, 'label': 'person', 'confidence': np.float32(0.75888324), 'bbox': (np.float32(399.62024), np.float32(176.2455), np.float32(590.9377), np.float32(511.91724)), 'referee': True}, {'frame': 389, 'label': 'kite', 'confidence': np.float32(0.69745374), 'bbox': (np.float32(1037.5244), np.float32(45.82777), np.float32(1174.095), np.float32(89.768456)), 'team': 1, 'referee': True}, {'frame': 389, 'label': 'snowboard', 'confidence': np.float32(0.6215258), 'bbox': (np.float32(379.71375), np.float32(457.13672), np.float32(614.5012), np.float32(562.74963)), 'referee': True}, {'frame': 390, 'label': 'person', 'confidence': np.float32(0.7950067), 'bbox': (np.float32(437.13998), np.float32(189.78441), np.float32(591.9216), np.float32(512.9693)), 'team': 0, 'referee': True}, {'frame': 390, 'label': 'kite', 'confidence': np.float32(0.6776044), 'bbox': (np.float32(1037.5603), np.float32(46.106644), np.float32(1174.2467), np.float32(89.06443)), 'team': 1, 'referee': True}, {'frame': 390, 'label': 'skis', 'confidence': np.float32(0.45290604), 'bbox': (np.float32(398.3323), np.float32(471.59378), np.float32(592.97253), np.float32(587.9886)), 'team': 1, 'referee': True}, {'frame': 391, 'label': 'person', 'confidence': np.float32(0.791255), 'bbox': (np.float32(437.01663), np.float32(210.55846), np.float32(591.6483), np.float32(534.56146)), 'referee': True}, {'frame': 391, 'label': 'kite', 'confidence': np.float32(0.67942303), 'bbox': (np.float32(1037.6404), np.float32(46.30818), np.float32(1174.2849), np.float32(89.25069)), 'team': 1, 'referee': True}, {'frame': 391, 'label': 'skis', 'confidence': np.float32(0.306795), 'bbox': (np.float32(429.52316), np.float32(440.0494), np.float32(852.3451), np.float32(709.2814)), 'referee': True}, {'frame': 392, 'label': 'person', 'confidence': np.float32(0.8259122), 'bbox': (np.float32(445.04443), np.float32(234.9683), np.float32(601.62115), np.float32(540.06494)), 'referee': True}, {'frame': 392, 'label': 'kite', 'confidence': np.float32(0.69087535), 'bbox': (np.float32(1037.7078), np.float32(46.218327), np.float32(1174.3374), np.float32(88.59678)), 'team': 1, 'referee': True}, {'frame': 393, 'label': 'person', 'confidence': np.float32(0.88650495), 'bbox': (np.float32(447.94034), np.float32(255.3707), np.float32(610.68713), np.float32(561.6078)), 'referee': True}, {'frame': 393, 'label': 'kite', 'confidence': np.float32(0.68986577), 'bbox': (np.float32(1037.6947), np.float32(46.209816), np.float32(1174.3064), np.float32(88.72827)), 'team': 1, 'referee': True}, {'frame': 394, 'label': 'person', 'confidence': np.float32(0.8468849), 'bbox': (np.float32(461.3765), np.float32(281.86475), np.float32(620.64386), np.float32(575.5543)), 'team': 1, 'referee': True}, {'frame': 394, 'label': 'kite', 'confidence': np.float32(0.6848508), 'bbox': (np.float32(1037.6483), np.float32(46.051544), np.float32(1174.2524), np.float32(88.656334)), 'team': 1, 'referee': True}, {'frame': 394, 'label': 'skis', 'confidence': np.float32(0.31515807), 'bbox': (np.float32(386.6607), np.float32(477.43918), np.float32(735.5506), np.float32(708.5646)), 'team': 0, 'referee': True}, {'frame': 395, 'label': 'person', 'confidence': np.float32(0.83533853), 'bbox': (np.float32(469.2977), np.float32(299.8407), np.float32(634.47107), np.float32(601.2413)), 'referee': True}, {'frame': 395, 'label': 'kite', 'confidence': np.float32(0.6835227), 'bbox': (np.float32(1037.5486), np.float32(46.023613), np.float32(1174.1847), np.float32(88.70355)), 'team': 1, 'referee': True}, {'frame': 395, 'label': 'skis', 'confidence': np.float32(0.3799336), 'bbox': (np.float32(392.7864), np.float32(485.09534), np.float32(716.64075), np.float32(715.5553)), 'referee': True}, {'frame': 396, 'label': 'person', 'confidence': np.float32(0.8411375), 'bbox': (np.float32(468.6508), np.float32(320.83057), np.float32(648.5919), np.float32(615.0402)), 'team': 1, 'referee': True}, {'frame': 396, 'label': 'kite', 'confidence': np.float32(0.68759865), 'bbox': (np.float32(1037.9508), np.float32(45.94869), np.float32(1174.3313), np.float32(88.73644)), 'team': 1, 'referee': True}, {'frame': 397, 'label': 'person', 'confidence': np.float32(0.74569947), 'bbox': (np.float32(470.72745), np.float32(348.58017), np.float32(657.9158), np.float32(626.74286)), 'team': 1, 'referee': True}, {'frame': 397, 'label': 'kite', 'confidence': np.float32(0.678656), 'bbox': (np.float32(1037.7947), np.float32(46.202263), np.float32(1173.7296), np.float32(88.63857)), 'team': 1, 'referee': True}, {'frame': 398, 'label': 'person', 'confidence': np.float32(0.82322), 'bbox': (np.float32(472.7315), np.float32(363.50665), np.float32(684.2956), np.float32(639.69995)), 'team': 1, 'referee': True}, {'frame': 398, 'label': 'kite', 'confidence': np.float32(0.67935634), 'bbox': (np.float32(1037.6663), np.float32(45.88241), np.float32(1173.2859), np.float32(88.240364)), 'team': 1, 'referee': True}, {'frame': 399, 'label': 'person', 'confidence': np.float32(0.81878823), 'bbox': (np.float32(471.9477), np.float32(370.62646), np.float32(698.33167), np.float32(643.0295)), 'team': 1, 'referee': True}, {'frame': 399, 'label': 'kite', 'confidence': np.float32(0.67006785), 'bbox': (np.float32(1038.1711), np.float32(45.74023), np.float32(1173.2181), np.float32(88.3423)), 'team': 1, 'referee': True}, {'frame': 399, 'label': 'skis', 'confidence': np.float32(0.5294764), 'bbox': (np.float32(390.85367), np.float32(552.7313), np.float32(702.9464), np.float32(714.1966)), 'team': 0, 'referee': True}, {'frame': 400, 'label': 'person', 'confidence': np.float32(0.89510584), 'bbox': (np.float32(470.03357), np.float32(371.31772), np.float32(709.28925), np.float32(641.6806)), 'team': 1, 'referee': True}, {'frame': 400, 'label': 'kite', 'confidence': np.float32(0.6883078), 'bbox': (np.float32(1037.9907), np.float32(45.974537), np.float32(1173.4918), np.float32(88.87427)), 'team': 1, 'referee': True}, {'frame': 400, 'label': 'skis', 'confidence': np.float32(0.36796904), 'bbox': (np.float32(390.56104), np.float32(561.60706), np.float32(709.56854), np.float32(712.7924)), 'team': 0, 'referee': True}, {'frame': 401, 'label': 'person', 'confidence': np.float32(0.90038526), 'bbox': (np.float32(473.26913), np.float32(373.49002), np.float32(724.7782), np.float32(641.9684)), 'team': 1, 'referee': True}, {'frame': 401, 'label': 'kite', 'confidence': np.float32(0.7058596), 'bbox': (np.float32(1037.8104), np.float32(46.186733), np.float32(1173.3914), np.float32(88.71438)), 'team': 1, 'referee': True}, {'frame': 401, 'label': 'skis', 'confidence': np.float32(0.34328395), 'bbox': (np.float32(401.84875), np.float32(579.3299), np.float32(737.27826), np.float32(704.93665)), 'team': 0, 'referee': True}, {'frame': 402, 'label': 'person', 'confidence': np.float32(0.9168301), 'bbox': (np.float32(473.2228), np.float32(371.79095), np.float32(732.9468), np.float32(641.2363)), 'team': 1, 'referee': True}, {'frame': 402, 'label': 'kite', 'confidence': np.float32(0.7089637), 'bbox': (np.float32(1037.9855), np.float32(45.707253), np.float32(1173.5134), np.float32(89.044685)), 'team': 1, 'referee': True}, {'frame': 402, 'label': 'skis', 'confidence': np.float32(0.51788986), 'bbox': (np.float32(414.7529), np.float32(579.0359), np.float32(740.413), np.float32(712.344)), 'team': 0, 'referee': True}, {'frame': 403, 'label': 'person', 'confidence': np.float32(0.9067722), 'bbox': (np.float32(473.35587), np.float32(368.16586), np.float32(738.9399), np.float32(641.85754)), 'team': 1, 'referee': True}, {'frame': 403, 'label': 'kite', 'confidence': np.float32(0.7173795), 'bbox': (np.float32(1038.4021), np.float32(45.726307), np.float32(1173.5516), np.float32(89.28654)), 'team': 1, 'referee': True}, {'frame': 403, 'label': 'skis', 'confidence': np.float32(0.28170225), 'bbox': (np.float32(424.82553), np.float32(586.59814), np.float32(741.4805), np.float32(703.6052)), 'team': 0, 'referee': True}, {'frame': 404, 'label': 'person', 'confidence': np.float32(0.8676038), 'bbox': (np.float32(481.57233), np.float32(364.30484), np.float32(736.6686), np.float32(640.32086)), 'team': 1, 'referee': True}, {'frame': 404, 'label': 'kite', 'confidence': np.float32(0.70809704), 'bbox': (np.float32(1038.0955), np.float32(45.687897), np.float32(1173.6747), np.float32(89.196495)), 'team': 1, 'referee': True}, {'frame': 404, 'label': 'skis', 'confidence': np.float32(0.5323817), 'bbox': (np.float32(430.14584), np.float32(577.2507), np.float32(742.5906), np.float32(704.66656)), 'team': 0, 'referee': True}, {'frame': 405, 'label': 'person', 'confidence': np.float32(0.8708142), 'bbox': (np.float32(494.54523), np.float32(354.7392), np.float32(748.6509), np.float32(649.42017)), 'team': 1, 'referee': True}, {'frame': 405, 'label': 'kite', 'confidence': np.float32(0.7062561), 'bbox': (np.float32(1038.0555), np.float32(45.76126), np.float32(1174.0554), np.float32(89.32819)), 'team': 1, 'referee': True}, {'frame': 405, 'label': 'skis', 'confidence': np.float32(0.5678092), 'bbox': (np.float32(429.3047), np.float32(572.8053), np.float32(750.3694), np.float32(711.04297)), 'team': 0, 'referee': True}, {'frame': 406, 'label': 'person', 'confidence': np.float32(0.7914023), 'bbox': (np.float32(510.71902), np.float32(348.3169), np.float32(734.5087), np.float32(606.99286)), 'team': 1, 'referee': True}, {'frame': 406, 'label': 'kite', 'confidence': np.float32(0.70700496), 'bbox': (np.float32(1038.7148), np.float32(45.78191), np.float32(1173.9589), np.float32(89.94968)), 'team': 1, 'referee': True}, {'frame': 406, 'label': 'skis', 'confidence': np.float32(0.52930766), 'bbox': (np.float32(448.87256), np.float32(565.6499), np.float32(775.98584), np.float32(678.305)), 'team': 0, 'referee': True}, {'frame': 407, 'label': 'person', 'confidence': np.float32(0.836537), 'bbox': (np.float32(535.6754), np.float32(340.39777), np.float32(766.5086), np.float32(596.29095)), 'team': 1, 'referee': True}, {'frame': 407, 'label': 'kite', 'confidence': np.float32(0.71783346), 'bbox': (np.float32(1038.811), np.float32(45.644024), np.float32(1174.3055), np.float32(89.975)), 'team': 1, 'referee': True}, {'frame': 407, 'label': 'skis', 'confidence': np.float32(0.55513203), 'bbox': (np.float32(457.25955), np.float32(532.39777), np.float32(805.713), np.float32(668.0764)), 'team': 0, 'referee': True}, {'frame': 408, 'label': 'person', 'confidence': np.float32(0.8253481), 'bbox': (np.float32(564.06506), np.float32(337.5096), np.float32(793.9947), np.float32(574.5781)), 'team': 1, 'referee': True}, {'frame': 408, 'label': 'kite', 'confidence': np.float32(0.70535195), 'bbox': (np.float32(1038.6562), np.float32(45.588097), np.float32(1174.5438), np.float32(90.06279)), 'team': 1, 'referee': True}, {'frame': 408, 'label': 'skis', 'confidence': np.float32(0.49017745), 'bbox': (np.float32(475.3038), np.float32(510.71112), np.float32(841.4476), np.float32(645.3112)), 'team': 0, 'referee': True}, {'frame': 409, 'label': 'kite', 'confidence': np.float32(0.7031757), 'bbox': (np.float32(1038.2284), np.float32(45.667236), np.float32(1174.3053), np.float32(90.14209)), 'team': 1, 'referee': True}, {'frame': 409, 'label': 'person', 'confidence': np.float32(0.58038664), 'bbox': (np.float32(594.5139), np.float32(332.9097), np.float32(828.91003), np.float32(568.8213)), 'referee': True}, {'frame': 410, 'label': 'person', 'confidence': np.float32(0.6999906), 'bbox': (np.float32(635.8424), np.float32(322.80875), np.float32(863.46436), np.float32(559.12787)), 'referee': True}, {'frame': 410, 'label': 'kite', 'confidence': np.float32(0.6995178), 'bbox': (np.float32(1037.9321), np.float32(45.843075), np.float32(1174.4258), np.float32(89.780716)), 'team': 1, 'referee': True}, {'frame': 410, 'label': 'skis', 'confidence': np.float32(0.2763185), 'bbox': (np.float32(531.7746), np.float32(398.39346), np.float32(917.50476), np.float32(615.0722)), 'referee': True}, {'frame': 411, 'label': 'person', 'confidence': np.float32(0.7162063), 'bbox': (np.float32(668.7071), np.float32(308.55325), np.float32(942.46497), np.float32(561.37524)), 'referee': True}, {'frame': 411, 'label': 'kite', 'confidence': np.float32(0.6711865), 'bbox': (np.float32(1037.6198), np.float32(45.700127), np.float32(1173.7596), np.float32(89.98763)), 'team': 1, 'referee': True}, {'frame': 411, 'label': 'skis', 'confidence': np.float32(0.26965117), 'bbox': (np.float32(558.13513), np.float32(467.07135), np.float32(963.87115), np.float32(600.22815)), 'referee': True}, {'frame': 412, 'label': 'kite', 'confidence': np.float32(0.6861258), 'bbox': (np.float32(1039.4961), np.float32(44.102726), np.float32(1175.8518), np.float32(91.24108)), 'team': 1, 'referee': True}, {'frame': 412, 'label': 'person', 'confidence': np.float32(0.66095936), 'bbox': (np.float32(696.0531), np.float32(297.88724), np.float32(991.988), np.float32(556.0939)), 'referee': True}, {'frame': 412, 'label': 'skis', 'confidence': np.float32(0.40002412), 'bbox': (np.float32(578.6287), np.float32(455.69666), np.float32(1003.27783), np.float32(579.5493)), 'referee': True}, {'frame': 413, 'label': 'person', 'confidence': np.float32(0.7219747), 'bbox': (np.float32(715.16705), np.float32(280.1226), np.float32(1004.1431), np.float32(548.70886)), 'referee': True}, {'frame': 413, 'label': 'kite', 'confidence': np.float32(0.71533364), 'bbox': (np.float32(1039.6733), np.float32(44.1574), np.float32(1176.2673), np.float32(91.97015)), 'team': 1, 'referee': True}, {'frame': 413, 'label': 'skis', 'confidence': np.float32(0.47487465), 'bbox': (np.float32(593.39185), np.float32(447.00772), np.float32(1040.8861), np.float32(571.3228)), 'referee': True}, {'frame': 414, 'label': 'kite', 'confidence': np.float32(0.67712677), 'bbox': (np.float32(1039.229), np.float32(44.009705), np.float32(1175.9897), np.float32(91.83213)), 'team': 1, 'referee': True}, {'frame': 414, 'label': 'person', 'confidence': np.float32(0.56614286), 'bbox': (np.float32(716.59595), np.float32(270.0224), np.float32(1040.3514), np.float32(540.70325)), 'referee': True}, {'frame': 414, 'label': 'skis', 'confidence': np.float32(0.4774257), 'bbox': (np.float32(554.3612), np.float32(368.6333), np.float32(1062.044), np.float32(562.72614)), 'referee': True}, {'frame': 415, 'label': 'kite', 'confidence': np.float32(0.68150496), 'bbox': (np.float32(1039.1119), np.float32(43.784206), np.float32(1175.7723), np.float32(92.03092)), 'team': 1, 'referee': True}, {'frame': 415, 'label': 'airplane', 'confidence': np.float32(0.46917418), 'bbox': (np.float32(599.19635), np.float32(264.16595), np.float32(1091.3309), np.float32(544.3426)), 'team': 1, 'referee': True}, {'frame': 415, 'label': 'person', 'confidence': np.float32(0.4401021), 'bbox': (np.float32(721.8415), np.float32(270.09717), np.float32(1088.1633), np.float32(541.4932)), 'team': 1, 'referee': True}, {'frame': 416, 'label': 'person', 'confidence': np.float32(0.5915081), 'bbox': (np.float32(741.60815), np.float32(245.10556), np.float32(1120.3118), np.float32(535.34717)), 'team': 1, 'referee': True}, {'frame': 416, 'label': 'kite', 'confidence': np.float32(0.5276915), 'bbox': (np.float32(1038.8127), np.float32(44.429756), np.float32(1175.8529), np.float32(90.820045)), 'team': 1, 'referee': True}, {'frame': 416, 'label': 'skis', 'confidence': np.float32(0.2837434), 'bbox': (np.float32(558.8129), np.float32(322.37985), np.float32(1137.9575), np.float32(542.54175)), 'team': 0, 'referee': True}, {'frame': 417, 'label': 'person', 'confidence': np.float32(0.7792711), 'bbox': (np.float32(770.67596), np.float32(232.41255), np.float32(1142.0292), np.float32(520.54926)), 'team': 1, 'referee': True}, {'frame': 417, 'label': 'kite', 'confidence': np.float32(0.44653237), 'bbox': (np.float32(1038.5782), np.float32(44.113686), np.float32(1176.3706), np.float32(90.43031)), 'team': 1, 'referee': True}, {'frame': 417, 'label': 'skis', 'confidence': np.float32(0.31403062), 'bbox': (np.float32(578.8294), np.float32(359.41583), np.float32(1156.0898), np.float32(536.8871)), 'team': 0, 'referee': True}, {'frame': 418, 'label': 'person', 'confidence': np.float32(0.8784966), 'bbox': (np.float32(796.2538), np.float32(222.4805), np.float32(1160.8832), np.float32(518.9997)), 'team': 1, 'referee': True}, {'frame': 418, 'label': 'kite', 'confidence': np.float32(0.48734322), 'bbox': (np.float32(1037.5037), np.float32(46.289574), np.float32(1173.4691), np.float32(90.14011)), 'team': 1, 'referee': True}, {'frame': 418, 'label': 'skis', 'confidence': np.float32(0.26937792), 'bbox': (np.float32(620.4653), np.float32(359.35223), np.float32(1143.807), np.float32(518.45935)), 'team': 0, 'referee': True}, {'frame': 419, 'label': 'person', 'confidence': np.float32(0.7793028), 'bbox': (np.float32(809.71204), np.float32(223.08206), np.float32(1174.0205), np.float32(519.04913)), 'team': 1, 'referee': True}, {'frame': 419, 'label': 'kite', 'confidence': np.float32(0.5255671), 'bbox': (np.float32(1038.2068), np.float32(46.178314), np.float32(1173.4423), np.float32(90.63403)), 'team': 1, 'referee': True}, {'frame': 420, 'label': 'person', 'confidence': np.float32(0.8061938), 'bbox': (np.float32(840.2778), np.float32(212.49854), np.float32(1162.8851), np.float32(513.74835)), 'team': 1, 'referee': True}, {'frame': 420, 'label': 'kite', 'confidence': np.float32(0.45345703), 'bbox': (np.float32(1039.3632), np.float32(46.38713), np.float32(1172.0604), np.float32(90.64316)), 'team': 1, 'referee': True}, {'frame': 421, 'label': 'person', 'confidence': np.float32(0.71880364), 'bbox': (np.float32(849.4518), np.float32(210.99074), np.float32(1147.5935), np.float32(514.99835)), 'team': 1, 'referee': True}, {'frame': 421, 'label': 'kite', 'confidence': np.float32(0.31908616), 'bbox': (np.float32(1039.7693), np.float32(46.778023), np.float32(1170.9479), np.float32(90.36822)), 'team': 1, 'referee': True}, {'frame': 422, 'label': 'person', 'confidence': np.float32(0.8363794), 'bbox': (np.float32(842.5801), np.float32(204.53235), np.float32(1149.6097), np.float32(530.9029)), 'referee': True}, {'frame': 422, 'label': 'kite', 'confidence': np.float32(0.2532052), 'bbox': (np.float32(1039.8751), np.float32(46.95202), np.float32(1171.2448), np.float32(89.98292)), 'team': 1, 'referee': True}, {'frame': 423, 'label': 'person', 'confidence': np.float32(0.8286478), 'bbox': (np.float32(874.4584), np.float32(206.9227), np.float32(1169.0388), np.float32(535.946)), 'team': 0, 'referee': True}, {'frame': 423, 'label': 'kite', 'confidence': np.float32(0.26310474), 'bbox': (np.float32(1040.3257), np.float32(43.985806), np.float32(1175.5813), np.float32(89.175606)), 'team': 1, 'referee': True}, {'frame': 424, 'label': 'person', 'confidence': np.float32(0.8987042), 'bbox': (np.float32(888.72766), np.float32(214.66193), np.float32(1179.577), np.float32(551.8327)), 'referee': True}, {'frame': 424, 'label': 'kite', 'confidence': np.float32(0.332258), 'bbox': (np.float32(1039.3988), np.float32(45.70283), np.float32(1173.2428), np.float32(89.32833)), 'team': 1, 'referee': True}, {'frame': 424, 'label': 'traffic light', 'confidence': np.float32(0.26915863), 'bbox': (np.float32(5.2843714), np.float32(608.3149), np.float32(104.46741), np.float32(718.02466))}, {'frame': 425, 'label': 'person', 'confidence': np.float32(0.87501097), 'bbox': (np.float32(895.777), np.float32(218.48715), np.float32(1164.646), np.float32(555.7908)), 'referee': True}, {'frame': 426, 'label': 'person', 'confidence': np.float32(0.85605615), 'bbox': (np.float32(900.38153), np.float32(221.83409), np.float32(1173.5701), np.float32(561.15955)), 'referee': True}, {'frame': 427, 'label': 'person', 'confidence': np.float32(0.7011997), 'bbox': (np.float32(909.0619), np.float32(227.74901), np.float32(1170.9724), np.float32(568.9885)), 'referee': True}, {'frame': 427, 'label': 'skis', 'confidence': np.float32(0.47150078), 'bbox': (np.float32(736.354), np.float32(443.68704), np.float32(1210.2141), np.float32(575.0457)), 'referee': True}, {'frame': 428, 'label': 'person', 'confidence': np.float32(0.84140307), 'bbox': (np.float32(920.5789), np.float32(238.62051), np.float32(1195.7932), np.float32(576.5051)), 'referee': True}, {'frame': 429, 'label': 'person', 'confidence': np.float32(0.5737015), 'bbox': (np.float32(939.964), np.float32(242.03441), np.float32(1140.0168), np.float32(443.8346)), 'referee': True}, {'frame': 430, 'label': 'person', 'confidence': np.float32(0.7712378), 'bbox': (np.float32(951.77673), np.float32(243.27661), np.float32(1239.5729), np.float32(577.07605)), 'referee': True}, {'frame': 431, 'label': 'person', 'confidence': np.float32(0.88157654), 'bbox': (np.float32(954.4827), np.float32(238.21024), np.float32(1241.5359), np.float32(570.84607)), 'referee': True}, {'frame': 431, 'label': 'person', 'confidence': np.float32(0.60428804), 'bbox': (np.float32(313.26364), np.float32(603.7106), np.float32(459.1644), np.float32(717.089))}, {'frame': 431, 'label': 'skis', 'confidence': np.float32(0.33637655), 'bbox': (np.float32(1086.3192), np.float32(509.5025), np.float32(1251.8275), np.float32(577.6835)), 'referee': True}, {'frame': 432, 'label': 'person', 'confidence': np.float32(0.91953444), 'bbox': (np.float32(964.35126), np.float32(231.71477), np.float32(1248.918), np.float32(572.19293)), 'referee': True}, {'frame': 432, 'label': 'kite', 'confidence': np.float32(0.5600869), 'bbox': (np.float32(1036.0869), np.float32(46.426258), np.float32(1173.784), np.float32(83.91543)), 'team': 1}, {'frame': 432, 'label': 'person', 'confidence': np.float32(0.3754913), 'bbox': (np.float32(348.96558), np.float32(588.0202), np.float32(493.5311), np.float32(714.5249))}, {'frame': 433, 'label': 'person', 'confidence': np.float32(0.9272595), 'bbox': (np.float32(967.8801), np.float32(224.87831), np.float32(1254.482), np.float32(575.40265)), 'referee': True}, {'frame': 433, 'label': 'kite', 'confidence': np.float32(0.53089046), 'bbox': (np.float32(1038.2192), np.float32(45.15495), np.float32(1169.1316), np.float32(89.528854)), 'team': 1}, {'frame': 433, 'label': 'person', 'confidence': np.float32(0.348183), 'bbox': (np.float32(365.19165), np.float32(572.9115), np.float32(493.39694), np.float32(716.14606))}, {'frame': 434, 'label': 'person', 'confidence': np.float32(0.9196402), 'bbox': (np.float32(969.8057), np.float32(217.08266), np.float32(1242.7832), np.float32(571.681)), 'referee': True}, {'frame': 434, 'label': 'person', 'confidence': np.float32(0.55887336), 'bbox': (np.float32(376.91214), np.float32(553.68), np.float32(530.42847), np.float32(715.01685))}, {'frame': 434, 'label': 'kite', 'confidence': np.float32(0.44610953), 'bbox': (np.float32(1040.2177), np.float32(45.668007), np.float32(1171.0779), np.float32(92.079926)), 'team': 1, 'referee': True}, {'frame': 435, 'label': 'person', 'confidence': np.float32(0.92185944), 'bbox': (np.float32(966.9257), np.float32(207.90445), np.float32(1223.0326), np.float32(559.22034)), 'referee': True}, {'frame': 435, 'label': 'person', 'confidence': np.float32(0.7189879), 'bbox': (np.float32(387.89722), np.float32(532.80304), np.float32(565.62555), np.float32(715.60846))}, {'frame': 436, 'label': 'person', 'confidence': np.float32(0.8183985), 'bbox': (np.float32(964.1629), np.float32(199.1144), np.float32(1183.8811), np.float32(538.9864)), 'referee': True}, {'frame': 436, 'label': 'person', 'confidence': np.float32(0.5339281), 'bbox': (np.float32(405.1376), np.float32(515.4899), np.float32(622.7608), np.float32(717.5282)), 'referee': True}, {'frame': 437, 'label': 'person', 'confidence': np.float32(0.68061703), 'bbox': (np.float32(400.5191), np.float32(497.78168), np.float32(644.6142), np.float32(716.6751)), 'referee': True}, {'frame': 437, 'label': 'dog', 'confidence': np.float32(0.5799553), 'bbox': (np.float32(961.8414), np.float32(194.61436), np.float32(1168.028), np.float32(526.5883)), 'referee': True}, {'frame': 437, 'label': 'kite', 'confidence': np.float32(0.50250065), 'bbox': (np.float32(1038.3712), np.float32(46.539307), np.float32(1172.897), np.float32(90.82687)), 'team': 1, 'referee': True}, {'frame': 437, 'label': 'person', 'confidence': np.float32(0.47172734), 'bbox': (np.float32(957.3246), np.float32(203.17479), np.float32(1172.0537), np.float32(534.7772)), 'referee': True}, {'frame': 438, 'label': 'person', 'confidence': np.float32(0.66500276), 'bbox': (np.float32(410.10208), np.float32(483.92383), np.float32(656.491), np.float32(713.2955)), 'referee': True}, {'frame': 438, 'label': 'dog', 'confidence': np.float32(0.64308256), 'bbox': (np.float32(954.23016), np.float32(190.01445), np.float32(1183.084), np.float32(527.125)), 'referee': True}, {'frame': 438, 'label': 'kite', 'confidence': np.float32(0.63791674), 'bbox': (np.float32(1037.6543), np.float32(46.099743), np.float32(1173.5446), np.float32(90.82113)), 'team': 1, 'referee': True}, {'frame': 439, 'label': 'kite', 'confidence': np.float32(0.68162966), 'bbox': (np.float32(1039.1112), np.float32(44.268818), np.float32(1175.4741), np.float32(91.98331)), 'team': 1, 'referee': True}, {'frame': 439, 'label': 'dog', 'confidence': np.float32(0.562039), 'bbox': (np.float32(951.76825), np.float32(180.4835), np.float32(1164.581), np.float32(499.73773)), 'referee': True}, {'frame': 439, 'label': 'person', 'confidence': np.float32(0.4351838), 'bbox': (np.float32(416.1298), np.float32(468.424), np.float32(681.5355), np.float32(714.73944)), 'referee': True}, {'frame': 440, 'label': 'person', 'confidence': np.float32(0.8688502), 'bbox': (np.float32(942.447), np.float32(180.83849), np.float32(1110.5375), np.float32(509.33765)), 'referee': True}, {'frame': 440, 'label': 'person', 'confidence': np.float32(0.49316266), 'bbox': (np.float32(429.68167), np.float32(456.09912), np.float32(694.4538), np.float32(713.3433)), 'referee': True}, {'frame': 440, 'label': 'kite', 'confidence': np.float32(0.48972), 'bbox': (np.float32(1039.0103), np.float32(44.098522), np.float32(1176.4266), np.float32(91.33457)), 'team': 1, 'referee': True}, {'frame': 441, 'label': 'person', 'confidence': np.float32(0.8709101), 'bbox': (np.float32(932.9474), np.float32(178.58817), np.float32(1118.6821), np.float32(511.43515)), 'referee': True}, {'frame': 441, 'label': 'person', 'confidence': np.float32(0.81675816), 'bbox': (np.float32(444.3616), np.float32(446.27292), np.float32(706.8402), np.float32(716.5647)), 'referee': True}, {'frame': 441, 'label': 'kite', 'confidence': np.float32(0.6825561), 'bbox': (np.float32(1038.8168), np.float32(44.166946), np.float32(1176.7786), np.float32(92.81998)), 'team': 1, 'referee': True}, {'frame': 442, 'label': 'person', 'confidence': np.float32(0.8752648), 'bbox': (np.float32(458.46484), np.float32(444.15366), np.float32(719.0425), np.float32(715.47363)), 'referee': True}, {'frame': 442, 'label': 'person', 'confidence': np.float32(0.8282211), 'bbox': (np.float32(920.54724), np.float32(181.6067), np.float32(1142.6927), np.float32(526.0353)), 'referee': True}, {'frame': 442, 'label': 'kite', 'confidence': np.float32(0.75429296), 'bbox': (np.float32(1038.7953), np.float32(44.37521), np.float32(1176.3635), np.float32(92.96387)), 'team': 1, 'referee': True}, {'frame': 443, 'label': 'person', 'confidence': np.float32(0.8432233), 'bbox': (np.float32(903.2047), np.float32(188.88599), np.float32(1059.3306), np.float32(533.0781)), 'referee': True}, {'frame': 443, 'label': 'kite', 'confidence': np.float32(0.73523957), 'bbox': (np.float32(1038.6875), np.float32(44.274734), np.float32(1176.1764), np.float32(92.919426)), 'team': 1, 'referee': True}, {'frame': 443, 'label': 'person', 'confidence': np.float32(0.62784183), 'bbox': (np.float32(468.89523), np.float32(447.10968), np.float32(716.1531), np.float32(711.8109)), 'referee': True}, {'frame': 444, 'label': 'person', 'confidence': np.float32(0.8731034), 'bbox': (np.float32(892.08417), np.float32(196.7542), np.float32(1049.9723), np.float32(547.47833)), 'referee': True}, {'frame': 444, 'label': 'kite', 'confidence': np.float32(0.6017693), 'bbox': (np.float32(1038.7898), np.float32(44.459503), np.float32(1175.7859), np.float32(91.608574)), 'team': 1, 'referee': True}, {'frame': 444, 'label': 'person', 'confidence': np.float32(0.5850929), 'bbox': (np.float32(482.7399), np.float32(451.55484), np.float32(718.8026), np.float32(709.6147)), 'referee': True}, {'frame': 445, 'label': 'person', 'confidence': np.float32(0.83904254), 'bbox': (np.float32(886.61334), np.float32(206.4565), np.float32(1054.4003), np.float32(556.608)), 'referee': True}, {'frame': 445, 'label': 'person', 'confidence': np.float32(0.8309881), 'bbox': (np.float32(495.96616), np.float32(459.1311), np.float32(743.31305), np.float32(716.6434)), 'referee': True}, {'frame': 445, 'label': 'kite', 'confidence': np.float32(0.6583724), 'bbox': (np.float32(1038.9371), np.float32(44.53664), np.float32(1176.2316), np.float32(91.520325)), 'team': 1, 'referee': True}, {'frame': 446, 'label': 'person', 'confidence': np.float32(0.84952354), 'bbox': (np.float32(503.8453), np.float32(466.16235), np.float32(749.59045), np.float32(717.8825)), 'referee': True}, {'frame': 446, 'label': 'kite', 'confidence': np.float32(0.5512841), 'bbox': (np.float32(1038.6216), np.float32(44.43125), np.float32(1176.7584), np.float32(91.02123)), 'team': 1, 'referee': True}, {'frame': 446, 'label': 'person', 'confidence': np.float32(0.37101877), 'bbox': (np.float32(863.8252), np.float32(212.73268), np.float32(1052.4333), np.float32(559.7538)), 'referee': True}, {'frame': 447, 'label': 'person', 'confidence': np.float32(0.8758363), 'bbox': (np.float32(509.9916), np.float32(468.95496), np.float32(753.0626), np.float32(717.55066)), 'referee': True}, {'frame': 448, 'label': 'person', 'confidence': np.float32(0.74074805), 'bbox': (np.float32(511.96747), np.float32(469.53772), np.float32(749.70514), np.float32(719.54224)), 'referee': True}, {'frame': 448, 'label': 'person', 'confidence': np.float32(0.7233772), 'bbox': (np.float32(843.5247), np.float32(210.68045), np.float32(1040.4563), np.float32(543.7387)), 'referee': True}, {'frame': 449, 'label': 'person', 'confidence': np.float32(0.84132624), 'bbox': (np.float32(832.683), np.float32(214.45557), np.float32(1056.6816), np.float32(566.42395)), 'referee': True}, {'frame': 449, 'label': 'person', 'confidence': np.float32(0.78609234), 'bbox': (np.float32(516.33), np.float32(465.6207), np.float32(749.8789), np.float32(719.8933)), 'referee': True}, {'frame': 450, 'label': 'person', 'confidence': np.float32(0.8421575), 'bbox': (np.float32(522.51166), np.float32(460.50415), np.float32(749.9004), np.float32(715.7544)), 'referee': True}, {'frame': 450, 'label': 'person', 'confidence': np.float32(0.5599659), 'bbox': (np.float32(820.8913), np.float32(215.29884), np.float32(1063.834), np.float32(538.08435)), 'referee': True}, {'frame': 451, 'label': 'person', 'confidence': np.float32(0.8680939), 'bbox': (np.float32(808.4682), np.float32(199.61966), np.float32(959.63745), np.float32(485.99472)), 'referee': True}, {'frame': 451, 'label': 'person', 'confidence': np.float32(0.81002176), 'bbox': (np.float32(536.09357), np.float32(452.73325), np.float32(754.0924), np.float32(715.4894)), 'referee': True}, {'frame': 452, 'label': 'person', 'confidence': np.float32(0.87752974), 'bbox': (np.float32(535.18274), np.float32(450.637), np.float32(767.0834), np.float32(716.22485)), 'referee': True}, {'frame': 452, 'label': 'person', 'confidence': np.float32(0.84332526), 'bbox': (np.float32(794.2759), np.float32(206.45819), np.float32(954.11816), np.float32(467.28455)), 'referee': True}, {'frame': 452, 'label': 'kite', 'confidence': np.float32(0.3890623), 'bbox': (np.float32(1039.3301), np.float32(42.833527), np.float32(1170.3068), np.float32(85.50128)), 'team': 1}, {'frame': 453, 'label': 'person', 'confidence': np.float32(0.8715828), 'bbox': (np.float32(545.3317), np.float32(448.173), np.float32(782.7809), np.float32(717.90295)), 'referee': True}, {'frame': 453, 'label': 'person', 'confidence': np.float32(0.6723528), 'bbox': (np.float32(784.1997), np.float32(217.13043), np.float32(953.1699), np.float32(453.68964)), 'referee': True}, {'frame': 453, 'label': 'baseball glove', 'confidence': np.float32(0.5241249), 'bbox': (np.float32(544.76843), np.float32(592.49255), np.float32(606.3171), np.float32(653.91797))}, {'frame': 454, 'label': 'person', 'confidence': np.float32(0.819178), 'bbox': (np.float32(575.6026), np.float32(450.03284), np.float32(792.75385), np.float32(716.2003)), 'referee': True}, {'frame': 454, 'label': 'person', 'confidence': np.float32(0.80586797), 'bbox': (np.float32(767.29895), np.float32(208.98831), np.float32(971.03107), np.float32(458.8469)), 'referee': True}, {'frame': 455, 'label': 'person', 'confidence': np.float32(0.86963016), 'bbox': (np.float32(762.9998), np.float32(213.72011), np.float32(963.1448), np.float32(447.21393)), 'referee': True}, {'frame': 455, 'label': 'person', 'confidence': np.float32(0.73256576), 'bbox': (np.float32(592.3888), np.float32(455.4999), np.float32(809.9863), np.float32(715.977)), 'referee': True}, {'frame': 456, 'label': 'person', 'confidence': np.float32(0.87481785), 'bbox': (np.float32(756.7428), np.float32(217.91824), np.float32(968.19116), np.float32(483.59683)), 'referee': True}, {'frame': 456, 'label': 'person', 'confidence': np.float32(0.7115629), 'bbox': (np.float32(605.79346), np.float32(456.81415), np.float32(835.62946), np.float32(717.9649)), 'referee': True}, {'frame': 457, 'label': 'person', 'confidence': np.float32(0.88344675), 'bbox': (np.float32(756.1714), np.float32(220.10077), np.float32(977.7277), np.float32(495.9553)), 'referee': True}, {'frame': 457, 'label': 'person', 'confidence': np.float32(0.5899748), 'bbox': (np.float32(622.15125), np.float32(447.85287), np.float32(864.7997), np.float32(717.4511)), 'referee': True}, {'frame': 458, 'label': 'person', 'confidence': np.float32(0.842162), 'bbox': (np.float32(760.1863), np.float32(214.92888), np.float32(997.27264), np.float32(495.70673)), 'referee': True}, {'frame': 458, 'label': 'person', 'confidence': np.float32(0.27576458), 'bbox': (np.float32(644.14014), np.float32(444.6706), np.float32(912.34766), np.float32(715.7485)), 'referee': True}, {'frame': 459, 'label': 'person', 'confidence': np.float32(0.8508758), 'bbox': (np.float32(769.2133), np.float32(215.6308), np.float32(1015.83484), np.float32(464.1913)), 'referee': True}, {'frame': 459, 'label': 'person', 'confidence': np.float32(0.694713), 'bbox': (np.float32(674.6299), np.float32(436.18558), np.float32(864.7047), np.float32(713.8834)), 'referee': True}, {'frame': 459, 'label': 'person', 'confidence': np.float32(0.33160648), 'bbox': (np.float32(862.0616), np.float32(487.60342), np.float32(927.5771), np.float32(617.04803))}, {'frame': 460, 'label': 'person', 'confidence': np.float32(0.83834815), 'bbox': (np.float32(781.7145), np.float32(217.97131), np.float32(1032.4945), np.float32(437.2203)), 'referee': True}, {'frame': 460, 'label': 'person', 'confidence': np.float32(0.3660433), 'bbox': (np.float32(701.4923), np.float32(425.73984), np.float32(874.5319), np.float32(630.795)), 'referee': True}, {'frame': 461, 'label': 'person', 'confidence': np.float32(0.5567541), 'bbox': (np.float32(784.7081), np.float32(218.36787), np.float32(1020.84564), np.float32(529.2842)), 'referee': True}, {'frame': 461, 'label': 'person', 'confidence': np.float32(0.3450167), 'bbox': (np.float32(724.4819), np.float32(409.818), np.float32(937.7414), np.float32(718.56177)), 'referee': True}, {'frame': 462, 'label': 'person', 'confidence': np.float32(0.6890712), 'bbox': (np.float32(789.81116), np.float32(214.7459), np.float32(1042.7689), np.float32(441.87616)), 'referee': True}, {'frame': 462, 'label': 'person', 'confidence': np.float32(0.669889), 'bbox': (np.float32(748.0745), np.float32(397.287), np.float32(978.8101), np.float32(715.81006)), 'referee': True}, {'frame': 463, 'label': 'person', 'confidence': np.float32(0.5711371), 'bbox': (np.float32(777.00494), np.float32(231.3494), np.float32(1033.7194), np.float32(716.82526)), 'referee': True}, {'frame': 464, 'label': 'person', 'confidence': np.float32(0.5107534), 'bbox': (np.float32(812.26953), np.float32(208.4992), np.float32(1042.8982), np.float32(720.0)), 'referee': True}, {'frame': 465, 'label': 'person', 'confidence': np.float32(0.873597), 'bbox': (np.float32(826.4588), np.float32(205.43533), np.float32(1054.6724), np.float32(720.0)), 'referee': True}, {'frame': 466, 'label': 'person', 'confidence': np.float32(0.7331095), 'bbox': (np.float32(826.70337), np.float32(203.43651), np.float32(1070.259), np.float32(701.8276)), 'referee': True}, {'frame': 467, 'label': 'person', 'confidence': np.float32(0.5779957), 'bbox': (np.float32(830.3646), np.float32(203.55841), np.float32(1094.4655), np.float32(642.97906)), 'referee': True}, {'frame': 469, 'label': 'person', 'confidence': np.float32(0.53259194), 'bbox': (np.float32(832.8431), np.float32(201.06981), np.float32(1166.9205), np.float32(705.7934)), 'referee': True}, {'frame': 470, 'label': 'person', 'confidence': np.float32(0.44631723), 'bbox': (np.float32(903.73004), np.float32(383.91953), np.float32(1233.1378), np.float32(695.15765)), 'referee': True}, {'frame': 470, 'label': 'person', 'confidence': np.float32(0.41565526), 'bbox': (np.float32(830.14246), np.float32(189.19061), np.float32(1057.6409), np.float32(447.28485)), 'referee': True}, {'frame': 471, 'label': 'person', 'confidence': np.float32(0.6316203), 'bbox': (np.float32(929.4439), np.float32(385.06412), np.float32(1262.7573), np.float32(675.77454)), 'referee': True}, {'frame': 471, 'label': 'person', 'confidence': np.float32(0.506388), 'bbox': (np.float32(844.4809), np.float32(186.91275), np.float32(1064.5623), np.float32(443.22006)), 'referee': True}, {'frame': 472, 'label': 'person', 'confidence': np.float32(0.75633264), 'bbox': (np.float32(950.5906), np.float32(376.34113), np.float32(1265.1458), np.float32(657.18207)), 'referee': True}, {'frame': 472, 'label': 'person', 'confidence': np.float32(0.60282284), 'bbox': (np.float32(854.5895), np.float32(181.90645), np.float32(1067.405), np.float32(452.3025)), 'referee': True}, {'frame': 472, 'label': 'person', 'confidence': np.float32(0.3133182), 'bbox': (np.float32(0.4541146), np.float32(5.59124), np.float32(74.50031), np.float32(217.61533)), 'referee': True}, {'frame': 473, 'label': 'person', 'confidence': np.float32(0.7422904), 'bbox': (np.float32(0.22026655), np.float32(4.5646167), np.float32(104.357864), np.float32(223.56575)), 'referee': True}, {'frame': 473, 'label': 'person', 'confidence': np.float32(0.6529872), 'bbox': (np.float32(958.7278), np.float32(370.607), np.float32(1264.8284), np.float32(697.5836)), 'referee': True}, {'frame': 473, 'label': 'person', 'confidence': np.float32(0.30583513), 'bbox': (np.float32(857.242), np.float32(191.65273), np.float32(1071.7183), np.float32(456.04114)), 'referee': True}, {'frame': 474, 'label': 'person', 'confidence': np.float32(0.8109867), 'bbox': (np.float32(0.37661618), np.float32(0.3374173), np.float32(134.01898), np.float32(229.54803)), 'referee': True}, {'frame': 474, 'label': 'person', 'confidence': np.float32(0.6989595), 'bbox': (np.float32(869.391), np.float32(191.23831), np.float32(1077.1718), np.float32(454.00717)), 'referee': True}, {'frame': 474, 'label': 'person', 'confidence': np.float32(0.69734687), 'bbox': (np.float32(981.2046), np.float32(365.22028), np.float32(1264.4271), np.float32(703.98535)), 'referee': True}, {'frame': 475, 'label': 'person', 'confidence': np.float32(0.87615633), 'bbox': (np.float32(0.97410357), np.float32(0.0), np.float32(153.20831), np.float32(233.75609)), 'referee': True}, {'frame': 475, 'label': 'person', 'confidence': np.float32(0.80268604), 'bbox': (np.float32(886.92926), np.float32(190.77292), np.float32(1084.5087), np.float32(442.0191)), 'referee': True}, {'frame': 475, 'label': 'person', 'confidence': np.float32(0.6338442), 'bbox': (np.float32(1007.8098), np.float32(364.46753), np.float32(1267.8129), np.float32(653.77124)), 'referee': True}, {'frame': 475, 'label': 'skateboard', 'confidence': np.float32(0.3079471), 'bbox': (np.float32(40.285706), np.float32(213.76965), np.float32(105.50476), np.float32(241.93881))}, {'frame': 476, 'label': 'person', 'confidence': np.float32(0.88226), 'bbox': (np.float32(899.63983), np.float32(188.6296), np.float32(1088.973), np.float32(440.99374)), 'referee': True}, {'frame': 476, 'label': 'person', 'confidence': np.float32(0.8561896), 'bbox': (np.float32(5.26361), np.float32(0.0), np.float32(168.8805), np.float32(237.96304)), 'referee': True}, {'frame': 476, 'label': 'person', 'confidence': np.float32(0.70576036), 'bbox': (np.float32(1028.9792), np.float32(354.8077), np.float32(1268.0), np.float32(660.6953)), 'referee': True}, {'frame': 476, 'label': 'kite', 'confidence': np.float32(0.2681189), 'bbox': (np.float32(1036.6508), np.float32(41.211697), np.float32(1170.2089), np.float32(88.30155)), 'team': 1}, {'frame': 477, 'label': 'person', 'confidence': np.float32(0.88457644), 'bbox': (np.float32(0.64133054), np.float32(0.80265707), np.float32(188.7258), np.float32(246.01724)), 'referee': True}, {'frame': 477, 'label': 'person', 'confidence': np.float32(0.8712365), 'bbox': (np.float32(907.36444), np.float32(186.3492), np.float32(1092.6761), np.float32(465.8175)), 'referee': True}, {'frame': 477, 'label': 'person', 'confidence': np.float32(0.66912717), 'bbox': (np.float32(1042.9806), np.float32(353.25726), np.float32(1267.8807), np.float32(673.80145)), 'referee': True}, {'frame': 477, 'label': 'kite', 'confidence': np.float32(0.35531884), 'bbox': (np.float32(1040.0991), np.float32(43.535038), np.float32(1173.01), np.float32(89.40819)), 'team': 1}, {'frame': 478, 'label': 'person', 'confidence': np.float32(0.8956204), 'bbox': (np.float32(911.87994), np.float32(190.69286), np.float32(1094.2096), np.float32(493.82892)), 'referee': True}, {'frame': 478, 'label': 'person', 'confidence': np.float32(0.83556306), 'bbox': (np.float32(7.9849267), np.float32(0.49796155), np.float32(209.27036), np.float32(257.9471)), 'referee': True}, {'frame': 478, 'label': 'person', 'confidence': np.float32(0.8145397), 'bbox': (np.float32(1060.8079), np.float32(350.08398), np.float32(1268.0), np.float32(668.6067)), 'referee': True}, {'frame': 478, 'label': 'kite', 'confidence': np.float32(0.6837687), 'bbox': (np.float32(1040.8284), np.float32(46.184715), np.float32(1170.118), np.float32(90.42082)), 'team': 1}, {'frame': 479, 'label': 'person', 'confidence': np.float32(0.85663843), 'bbox': (np.float32(39.56605), np.float32(0.0), np.float32(229.65501), np.float32(264.9846)), 'referee': True}, {'frame': 479, 'label': 'person', 'confidence': np.float32(0.85497874), 'bbox': (np.float32(1081.0603), np.float32(352.77997), np.float32(1267.598), np.float32(684.3209)), 'referee': True}, {'frame': 479, 'label': 'person', 'confidence': np.float32(0.83602786), 'bbox': (np.float32(907.79645), np.float32(199.10237), np.float32(1096.3646), np.float32(494.21988)), 'referee': True}, {'frame': 479, 'label': 'kite', 'confidence': np.float32(0.36319903), 'bbox': (np.float32(1040.5664), np.float32(45.699326), np.float32(1172.4712), np.float32(89.73851)), 'team': 1}, {'frame': 480, 'label': 'person', 'confidence': np.float32(0.8015251), 'bbox': (np.float32(64.40326), np.float32(0.0), np.float32(248.02567), np.float32(273.52075)), 'referee': True}, {'frame': 480, 'label': 'person', 'confidence': np.float32(0.7443326), 'bbox': (np.float32(853.138), np.float32(208.55318), np.float32(1096.6527), np.float32(490.01843)), 'referee': True}, {'frame': 480, 'label': 'person', 'confidence': np.float32(0.7299336), 'bbox': (np.float32(1107.9392), np.float32(357.58167), np.float32(1267.5409), np.float32(702.6559)), 'referee': True}, {'frame': 480, 'label': 'kite', 'confidence': np.float32(0.4710864), 'bbox': (np.float32(1038.6257), np.float32(46.35993), np.float32(1174.0533), np.float32(89.01588)), 'team': 1}, {'frame': 480, 'label': 'skis', 'confidence': np.float32(0.35381013), 'bbox': (np.float32(705.92896), np.float32(512.5652), np.float32(1133.9136), np.float32(577.31635)), 'referee': True}, {'frame': 481, 'label': 'person', 'confidence': np.float32(0.8401377), 'bbox': (np.float32(829.6666), np.float32(212.3593), np.float32(1096.2085), np.float32(504.92816)), 'referee': True}, {'frame': 481, 'label': 'person', 'confidence': np.float32(0.78377235), 'bbox': (np.float32(73.501724), np.float32(0.0), np.float32(260.96548), np.float32(265.26245)), 'referee': True}, {'frame': 481, 'label': 'person', 'confidence': np.float32(0.7060329), 'bbox': (np.float32(1112.8615), np.float32(367.74112), np.float32(1267.3075), np.float32(703.3333)), 'referee': True}, {'frame': 481, 'label': 'kite', 'confidence': np.float32(0.7003616), 'bbox': (np.float32(1037.9155), np.float32(46.168472), np.float32(1174.3026), np.float32(88.9324)), 'team': 1}, {'frame': 481, 'label': 'frisbee', 'confidence': np.float32(0.48138377), 'bbox': (np.float32(738.3119), np.float32(522.24036), np.float32(899.2796), np.float32(582.3339))}, {'frame': 481, 'label': 'skateboard', 'confidence': np.float32(0.31796035), 'bbox': (np.float32(74.07962), np.float32(186.43944), np.float32(150.59384), np.float32(285.4742)), 'referee': True}, {'frame': 482, 'label': 'person', 'confidence': np.float32(0.8516935), 'bbox': (np.float32(1114.51), np.float32(378.19528), np.float32(1268.0), np.float32(712.89746)), 'referee': True}, {'frame': 482, 'label': 'person', 'confidence': np.float32(0.8323213), 'bbox': (np.float32(74.517006), np.float32(0.0), np.float32(266.78723), np.float32(285.78568)), 'referee': True}, {'frame': 482, 'label': 'person', 'confidence': np.float32(0.7693087), 'bbox': (np.float32(882.8824), np.float32(216.64778), np.float32(1087.2556), np.float32(506.04648)), 'referee': True}, {'frame': 482, 'label': 'kite', 'confidence': np.float32(0.69098026), 'bbox': (np.float32(1037.5609), np.float32(46.06428), np.float32(1174.3678), np.float32(88.09994)), 'team': 1}, {'frame': 483, 'label': 'person', 'confidence': np.float32(0.85931796), 'bbox': (np.float32(1112.6207), np.float32(392.54437), np.float32(1267.9341), np.float32(705.3322)), 'referee': True}, {'frame': 483, 'label': 'person', 'confidence': np.float32(0.8503102), 'bbox': (np.float32(74.97686), np.float32(0.0), np.float32(271.73087), np.float32(300.40604)), 'referee': True}, {'frame': 483, 'label': 'person', 'confidence': np.float32(0.77841544), 'bbox': (np.float32(771.0127), np.float32(221.54199), np.float32(1072.4294), np.float32(507.81305)), 'referee': True}, {'frame': 483, 'label': 'kite', 'confidence': np.float32(0.7001624), 'bbox': (np.float32(1037.7441), np.float32(45.67424), np.float32(1174.5629), np.float32(87.96142)), 'team': 1}, {'frame': 483, 'label': 'traffic light', 'confidence': np.float32(0.4168443), 'bbox': (np.float32(179.36598), np.float32(484.13315), np.float32(225.89755), np.float32(541.8705))}, {'frame': 484, 'label': 'person', 'confidence': np.float32(0.87031275), 'bbox': (np.float32(78.47469), np.float32(0.0), np.float32(274.51483), np.float32(300.76602)), 'referee': True}, {'frame': 484, 'label': 'person', 'confidence': np.float32(0.7798505), 'bbox': (np.float32(742.37537), np.float32(223.00029), np.float32(1056.4508), np.float32(508.33957)), 'referee': True}, {'frame': 484, 'label': 'person', 'confidence': np.float32(0.771461), 'bbox': (np.float32(1087.4711), np.float32(405.38855), np.float32(1268.0), np.float32(712.72253)), 'referee': True}, {'frame': 484, 'label': 'kite', 'confidence': np.float32(0.70334727), 'bbox': (np.float32(1037.8411), np.float32(45.755222), np.float32(1174.5768), np.float32(88.188896)), 'team': 1}, {'frame': 484, 'label': 'skis', 'confidence': np.float32(0.43110672), 'bbox': (np.float32(838.2346), np.float32(540.51855), np.float32(1142.5962), np.float32(608.05096)), 'referee': True}, {'frame': 484, 'label': 'person', 'confidence': np.float32(0.25921786), 'bbox': (np.float32(42.095444), np.float32(3.0181634), np.float32(509.36526), np.float32(311.94714)), 'referee': True}, {'frame': 485, 'label': 'person', 'confidence': np.float32(0.8463792), 'bbox': (np.float32(84.867165), np.float32(0.0), np.float32(271.921), np.float32(298.63406)), 'referee': True}, {'frame': 485, 'label': 'person', 'confidence': np.float32(0.79013383), 'bbox': (np.float32(1068.331), np.float32(413.17435), np.float32(1267.4851), np.float32(700.2453)), 'referee': True}, {'frame': 485, 'label': 'person', 'confidence': np.float32(0.775577), 'bbox': (np.float32(848.2555), np.float32(224.02196), np.float32(1028.7721), np.float32(510.99124)), 'referee': True}, {'frame': 485, 'label': 'kite', 'confidence': np.float32(0.6678966), 'bbox': (np.float32(1038.8619), np.float32(44.001366), np.float32(1176.6683), np.float32(89.12778)), 'team': 1}, {'frame': 485, 'label': 'skis', 'confidence': np.float32(0.45964783), 'bbox': (np.float32(849.08954), np.float32(529.1289), np.float32(1224.8663), np.float32(643.6236)), 'referee': True}, {'frame': 485, 'label': 'person', 'confidence': np.float32(0.2797036), 'bbox': (np.float32(45.321957), np.float32(12.282056), np.float32(505.67715), np.float32(307.3888)), 'referee': True}, {'frame': 485, 'label': 'traffic light', 'confidence': np.float32(0.27901474), 'bbox': (np.float32(259.43295), np.float32(501.04053), np.float32(301.48526), np.float32(558.5087))}, {'frame': 486, 'label': 'person', 'confidence': np.float32(0.86534685), 'bbox': (np.float32(828.8878), np.float32(223.61594), np.float32(1006.6986), np.float32(508.81796)), 'referee': True}, {'frame': 486, 'label': 'person', 'confidence': np.float32(0.7931563), 'bbox': (np.float32(96.122986), np.float32(0.0), np.float32(274.03534), np.float32(296.52518)), 'referee': True}, {'frame': 486, 'label': 'person', 'confidence': np.float32(0.78240466), 'bbox': (np.float32(1053.7084), np.float32(421.0128), np.float32(1267.3997), np.float32(678.7606)), 'referee': True}, {'frame': 486, 'label': 'kite', 'confidence': np.float32(0.5592258), 'bbox': (np.float32(1037.499), np.float32(46.135574), np.float32(1174.5809), np.float32(88.60411)), 'team': 1}, {'frame': 486, 'label': 'traffic light', 'confidence': np.float32(0.50272065), 'bbox': (np.float32(296.5019), np.float32(510.72394), np.float32(342.92252), np.float32(566.21875))}, {'frame': 486, 'label': 'skis', 'confidence': np.float32(0.31552434), 'bbox': (np.float32(857.69855), np.float32(519.00476), np.float32(1138.3607), np.float32(625.18036)), 'referee': True}, {'frame': 486, 'label': 'person', 'confidence': np.float32(0.2984853), 'bbox': (np.float32(61.671867), np.float32(10.968982), np.float32(492.99225), np.float32(300.85312)), 'referee': True}, {'frame': 487, 'label': 'person', 'confidence': np.float32(0.8640571), 'bbox': (np.float32(112.25859), np.float32(0.111724205), np.float32(285.98108), np.float32(291.10904)), 'referee': True}, {'frame': 487, 'label': 'person', 'confidence': np.float32(0.8439759), 'bbox': (np.float32(812.9261), np.float32(218.6555), np.float32(996.2726), np.float32(496.4599)), 'referee': True}, {'frame': 487, 'label': 'person', 'confidence': np.float32(0.80845606), 'bbox': (np.float32(1049.8383), np.float32(429.9196), np.float32(1267.0623), np.float32(659.3342)), 'referee': True}, {'frame': 487, 'label': 'kite', 'confidence': np.float32(0.53080755), 'bbox': (np.float32(1037.541), np.float32(46.00325), np.float32(1174.4785), np.float32(88.9294)), 'team': 1}, {'frame': 487, 'label': 'traffic light', 'confidence': np.float32(0.48328298), 'bbox': (np.float32(338.36487), np.float32(518.0064), np.float32(383.7185), np.float32(575.6783))}, {'frame': 487, 'label': 'skis', 'confidence': np.float32(0.31718054), 'bbox': (np.float32(875.84753), np.float32(516.3807), np.float32(1199.2258), np.float32(654.92224)), 'referee': True}, {'frame': 488, 'label': 'person', 'confidence': np.float32(0.8659244), 'bbox': (np.float32(1052.7075), np.float32(436.3402), np.float32(1268.0), np.float32(710.8744)), 'referee': True}, {'frame': 488, 'label': 'person', 'confidence': np.float32(0.8007043), 'bbox': (np.float32(127.20665), np.float32(0.57730407), np.float32(300.74203), np.float32(284.9826)), 'referee': True}, {'frame': 488, 'label': 'person', 'confidence': np.float32(0.68406343), 'bbox': (np.float32(799.6662), np.float32(218.44368), np.float32(997.4445), np.float32(508.88333)), 'team': 0, 'referee': True}, {'frame': 488, 'label': 'kite', 'confidence': np.float32(0.55829287), 'bbox': (np.float32(1040.778), np.float32(45.277718), np.float32(1173.7408), np.float32(91.26546)), 'team': 1}, {'frame': 489, 'label': 'person', 'confidence': np.float32(0.8355415), 'bbox': (np.float32(1070.0778), np.float32(443.10382), np.float32(1268.0), np.float32(711.60614)), 'referee': True}, {'frame': 489, 'label': 'person', 'confidence': np.float32(0.8112485), 'bbox': (np.float32(788.61707), np.float32(213.18178), np.float32(999.9714), np.float32(515.3062)), 'referee': True}, {'frame': 489, 'label': 'person', 'confidence': np.float32(0.7717752), 'bbox': (np.float32(141.86836), np.float32(1.1168755), np.float32(439.99353), np.float32(275.25626)), 'referee': True}, {'frame': 489, 'label': 'kite', 'confidence': np.float32(0.33254594), 'bbox': (np.float32(1037.4807), np.float32(46.62846), np.float32(1173.5294), np.float32(90.09056)), 'team': 1}, {'frame': 490, 'label': 'person', 'confidence': np.float32(0.7834314), 'bbox': (np.float32(153.10217), np.float32(0.0), np.float32(352.51425), np.float32(270.8082)), 'referee': True}, {'frame': 490, 'label': 'person', 'confidence': np.float32(0.7777325), 'bbox': (np.float32(1076.2191), np.float32(446.03647), np.float32(1268.0), np.float32(711.59625)), 'referee': True}, {'frame': 490, 'label': 'person', 'confidence': np.float32(0.7553495), 'bbox': (np.float32(776.85376), np.float32(207.0624), np.float32(977.75024), np.float32(521.8428)), 'team': 0, 'referee': True}, {'frame': 491, 'label': 'person', 'confidence': np.float32(0.83043593), 'bbox': (np.float32(761.9773), np.float32(208.48723), np.float32(999.99603), np.float32(532.2254)), 'team': 0, 'referee': True}, {'frame': 491, 'label': 'person', 'confidence': np.float32(0.76608), 'bbox': (np.float32(169.41927), np.float32(0.0), np.float32(443.1704), np.float32(259.53146)), 'referee': True}, {'frame': 491, 'label': 'person', 'confidence': np.float32(0.7485352), 'bbox': (np.float32(1077.1305), np.float32(448.77493), np.float32(1267.3474), np.float32(699.7073)), 'referee': True}, {'frame': 491, 'label': 'snowboard', 'confidence': np.float32(0.25678825), 'bbox': (np.float32(182.94757), np.float32(232.82585), np.float32(241.28912), np.float32(267.449))}, {'frame': 492, 'label': 'person', 'confidence': np.float32(0.8993829), 'bbox': (np.float32(754.16315), np.float32(208.7018), np.float32(970.687), np.float32(531.7714)), 'referee': True}, {'frame': 492, 'label': 'person', 'confidence': np.float32(0.8209971), 'bbox': (np.float32(1086.7197), np.float32(447.76273), np.float32(1266.8108), np.float32(702.9547)), 'referee': True}, {'frame': 492, 'label': 'person', 'confidence': np.float32(0.79498076), 'bbox': (np.float32(185.17676), np.float32(0.0), np.float32(488.78458), np.float32(254.38551)), 'referee': True}, {'frame': 492, 'label': 'skis', 'confidence': np.float32(0.3601422), 'bbox': (np.float32(886.37555), np.float32(481.3437), np.float32(994.7086), np.float32(546.5763))}, {'frame': 493, 'label': 'person', 'confidence': np.float32(0.9018804), 'bbox': (np.float32(748.71265), np.float32(210.63474), np.float32(968.21375), np.float32(538.05255)), 'referee': True}, {'frame': 493, 'label': 'person', 'confidence': np.float32(0.82508487), 'bbox': (np.float32(1097.6938), np.float32(444.06506), np.float32(1267.4984), np.float32(708.7409)), 'referee': True}, {'frame': 493, 'label': 'person', 'confidence': np.float32(0.7159757), 'bbox': (np.float32(205.49863), np.float32(0.0), np.float32(481.32538), np.float32(250.51558)), 'referee': True}, {'frame': 493, 'label': 'skis', 'confidence': np.float32(0.37257025), 'bbox': (np.float32(896.98615), np.float32(488.92477), np.float32(1003.866), np.float32(552.4603))}, {'frame': 494, 'label': 'person', 'confidence': np.float32(0.8916624), 'bbox': (np.float32(743.8878), np.float32(211.54776), np.float32(972.8743), np.float32(551.82465)), 'referee': True}, {'frame': 494, 'label': 'person', 'confidence': np.float32(0.71450543), 'bbox': (np.float32(225.72289), np.float32(0.0), np.float32(426.62848), np.float32(245.87483)), 'referee': True}, {'frame': 494, 'label': 'person', 'confidence': np.float32(0.59581894), 'bbox': (np.float32(1114.7753), np.float32(437.57556), np.float32(1268.0), np.float32(712.4221)), 'referee': True}, {'frame': 495, 'label': 'person', 'confidence': np.float32(0.8914433), 'bbox': (np.float32(746.11365), np.float32(215.14867), np.float32(978.16516), np.float32(565.21765)), 'referee': True}, {'frame': 495, 'label': 'person', 'confidence': np.float32(0.635003), 'bbox': (np.float32(247.50003), np.float32(0.0), np.float32(448.1839), np.float32(241.4877)), 'referee': True}, {'frame': 495, 'label': 'person', 'confidence': np.float32(0.63087445), 'bbox': (np.float32(1126.0906), np.float32(425.53305), np.float32(1267.7631), np.float32(711.60864)), 'referee': True}, {'frame': 495, 'label': 'kite', 'confidence': np.float32(0.35567167), 'bbox': (np.float32(1039.1451), np.float32(46.165268), np.float32(1173.9524), np.float32(88.96817)), 'team': 1}, {'frame': 496, 'label': 'person', 'confidence': np.float32(0.8994876), 'bbox': (np.float32(751.5725), np.float32(218.86636), np.float32(985.0184), np.float32(578.5916)), 'referee': True}, {'frame': 496, 'label': 'person', 'confidence': np.float32(0.70193386), 'bbox': (np.float32(1149.5809), np.float32(414.41788), np.float32(1268.0), np.float32(711.97363)), 'referee': True}, {'frame': 496, 'label': 'kite', 'confidence': np.float32(0.57142574), 'bbox': (np.float32(1039.1482), np.float32(45.537323), np.float32(1174.1315), np.float32(89.69501)), 'team': 1, 'referee': True}, {'frame': 496, 'label': 'person', 'confidence': np.float32(0.5472034), 'bbox': (np.float32(266.3846), np.float32(0.0), np.float32(620.2456), np.float32(242.61862)), 'referee': True}, {'frame': 496, 'label': 'skis', 'confidence': np.float32(0.30785418), 'bbox': (np.float32(256.67014), np.float32(5.7920675), np.float32(641.00085), np.float32(246.24985)), 'referee': True}, {'frame': 497, 'label': 'person', 'confidence': np.float32(0.8860465), 'bbox': (np.float32(765.9121), np.float32(217.64508), np.float32(987.19684), np.float32(590.07465)), 'referee': True}, {'frame': 497, 'label': 'person', 'confidence': np.float32(0.7921997), 'bbox': (np.float32(1172.7645), np.float32(402.1351), np.float32(1268.0), np.float32(679.2876)), 'referee': True}, {'frame': 497, 'label': 'person', 'confidence': np.float32(0.6267859), 'bbox': (np.float32(293.40906), np.float32(0.0), np.float32(494.67163), np.float32(237.8522)), 'referee': True}, {'frame': 497, 'label': 'kite', 'confidence': np.float32(0.60891795), 'bbox': (np.float32(1039.1368), np.float32(45.577038), np.float32(1174.3682), np.float32(89.75838)), 'team': 1, 'referee': True}, {'frame': 497, 'label': 'skis', 'confidence': np.float32(0.320956), 'bbox': (np.float32(281.2598), np.float32(7.2935214), np.float32(676.1836), np.float32(245.50615)), 'referee': True}, {'frame': 498, 'label': 'person', 'confidence': np.float32(0.878637), 'bbox': (np.float32(787.283), np.float32(217.10138), np.float32(997.21265), np.float32(599.1166)), 'referee': True}, {'frame': 498, 'label': 'person', 'confidence': np.float32(0.6699076), 'bbox': (np.float32(1202.706), np.float32(388.29483), np.float32(1268.0), np.float32(691.59375)), 'referee': True}, {'frame': 498, 'label': 'kite', 'confidence': np.float32(0.64495134), 'bbox': (np.float32(1039.0803), np.float32(45.319088), np.float32(1174.3682), np.float32(89.796104)), 'team': 1, 'referee': True}, {'frame': 498, 'label': 'person', 'confidence': np.float32(0.5429891), 'bbox': (np.float32(319.38025), np.float32(0.0), np.float32(524.48846), np.float32(235.65547)), 'referee': True}, {'frame': 498, 'label': 'skis', 'confidence': np.float32(0.35360312), 'bbox': (np.float32(313.17664), np.float32(4.0988026), np.float32(712.0434), np.float32(249.63986)), 'referee': True}, {'frame': 499, 'label': 'person', 'confidence': np.float32(0.88662404), 'bbox': (np.float32(764.6845), np.float32(215.88242), np.float32(1005.7296), np.float32(597.41205)), 'referee': True}, {'frame': 499, 'label': 'kite', 'confidence': np.float32(0.7038581), 'bbox': (np.float32(1039.05), np.float32(45.450333), np.float32(1174.3717), np.float32(89.627655)), 'team': 1, 'referee': True}, {'frame': 499, 'label': 'person', 'confidence': np.float32(0.70192033), 'bbox': (np.float32(350.8776), np.float32(0.0), np.float32(546.1786), np.float32(240.6447)), 'referee': True}, {'frame': 499, 'label': 'person', 'confidence': np.float32(0.6540523), 'bbox': (np.float32(1229.3077), np.float32(379.0493), np.float32(1268.0), np.float32(578.8812))}, {'frame': 499, 'label': 'skis', 'confidence': np.float32(0.39384797), 'bbox': (np.float32(351.6356), np.float32(8.757609), np.float32(742.7811), np.float32(246.56795)), 'referee': True}, {'frame': 500, 'label': 'person', 'confidence': np.float32(0.8810952), 'bbox': (np.float32(827.78546), np.float32(211.04405), np.float32(1018.63367), np.float32(601.2057)), 'referee': True}, {'frame': 500, 'label': 'person', 'confidence': np.float32(0.70381457), 'bbox': (np.float32(382.58548), np.float32(0.0), np.float32(577.547), np.float32(236.5928)), 'referee': True}, {'frame': 500, 'label': 'kite', 'confidence': np.float32(0.6944754), 'bbox': (np.float32(1039.0928), np.float32(45.581303), np.float32(1174.3922), np.float32(89.94504)), 'team': 1, 'referee': True}, {'frame': 500, 'label': 'skis', 'confidence': np.float32(0.47180766), 'bbox': (np.float32(374.62036), np.float32(56.81504), np.float32(796.8217), np.float32(242.55925)), 'referee': True}, {'frame': 501, 'label': 'person', 'confidence': np.float32(0.8589983), 'bbox': (np.float32(831.9058), np.float32(204.88864), np.float32(1034.8713), np.float32(598.87054)), 'referee': True}, {'frame': 501, 'label': 'person', 'confidence': np.float32(0.7863931), 'bbox': (np.float32(417.26544), np.float32(0.0), np.float32(606.4544), np.float32(245.39662)), 'referee': True}, {'frame': 501, 'label': 'kite', 'confidence': np.float32(0.69130605), 'bbox': (np.float32(1039.6759), np.float32(43.930195), np.float32(1176.8564), np.float32(91.14943)), 'team': 1, 'referee': True}, {'frame': 502, 'label': 'person', 'confidence': np.float32(0.84510964), 'bbox': (np.float32(845.78357), np.float32(196.03386), np.float32(1059.5986), np.float32(584.3571)), 'referee': True}, {'frame': 502, 'label': 'person', 'confidence': np.float32(0.7931909), 'bbox': (np.float32(450.54187), np.float32(0.0), np.float32(642.70465), np.float32(244.26527)), 'referee': True}, {'frame': 502, 'label': 'kite', 'confidence': np.float32(0.68161356), 'bbox': (np.float32(1039.0092), np.float32(45.78473), np.float32(1174.2196), np.float32(89.378006)), 'team': 1}, {'frame': 503, 'label': 'person', 'confidence': np.float32(0.83040285), 'bbox': (np.float32(482.27023), np.float32(0.0), np.float32(682.45355), np.float32(251.90356)), 'referee': True}, {'frame': 503, 'label': 'person', 'confidence': np.float32(0.73081386), 'bbox': (np.float32(855.5199), np.float32(190.41235), np.float32(1080.9077), np.float32(596.0003)), 'referee': True}, {'frame': 503, 'label': 'kite', 'confidence': np.float32(0.687925), 'bbox': (np.float32(1039.6824), np.float32(44.225407), np.float32(1175.9973), np.float32(91.00169)), 'team': 1, 'referee': True}, {'frame': 504, 'label': 'person', 'confidence': np.float32(0.75153583), 'bbox': (np.float32(512.9156), np.float32(0.0), np.float32(724.2162), np.float32(251.87094)), 'referee': True}, {'frame': 504, 'label': 'person', 'confidence': np.float32(0.7394558), 'bbox': (np.float32(866.4518), np.float32(182.66267), np.float32(1117.8546), np.float32(565.9565)), 'referee': True}, {'frame': 504, 'label': 'kite', 'confidence': np.float32(0.6289722), 'bbox': (np.float32(1038.7297), np.float32(46.35646), np.float32(1173.9181), np.float32(90.647285)), 'team': 1, 'referee': True}, {'frame': 505, 'label': 'person', 'confidence': np.float32(0.83391315), 'bbox': (np.float32(541.50024), np.float32(0.0), np.float32(768.86914), np.float32(250.14633)), 'referee': True}, {'frame': 505, 'label': 'person', 'confidence': np.float32(0.8090821), 'bbox': (np.float32(884.84607), np.float32(176.73505), np.float32(1238.0518), np.float32(556.1738)), 'referee': True}, {'frame': 505, 'label': 'kite', 'confidence': np.float32(0.508613), 'bbox': (np.float32(1040.3815), np.float32(45.801464), np.float32(1172.932), np.float32(89.78427)), 'team': 1}, {'frame': 506, 'label': 'person', 'confidence': np.float32(0.8017534), 'bbox': (np.float32(569.7236), np.float32(0.0), np.float32(809.2374), np.float32(248.90556)), 'referee': True}, {'frame': 506, 'label': 'person', 'confidence': np.float32(0.77636003), 'bbox': (np.float32(904.8651), np.float32(164.77997), np.float32(1244.215), np.float32(544.161)), 'referee': True}, {'frame': 506, 'label': 'kite', 'confidence': np.float32(0.46242672), 'bbox': (np.float32(1040.2213), np.float32(45.47505), np.float32(1173.3715), np.float32(90.04393)), 'team': 1, 'referee': True}, {'frame': 507, 'label': 'person', 'confidence': np.float32(0.8674817), 'bbox': (np.float32(596.3715), np.float32(0.0), np.float32(848.6617), np.float32(255.43237)), 'referee': True}, {'frame': 507, 'label': 'person', 'confidence': np.float32(0.72736627), 'bbox': (np.float32(934.664), np.float32(160.12056), np.float32(1209.3531), np.float32(536.27374)), 'referee': True}, {'frame': 508, 'label': 'person', 'confidence': np.float32(0.8730906), 'bbox': (np.float32(959.5854), np.float32(154.60222), np.float32(1230.3578), np.float32(526.1991)), 'referee': True}, {'frame': 508, 'label': 'person', 'confidence': np.float32(0.8506629), 'bbox': (np.float32(620.9467), np.float32(0.0), np.float32(881.7388), np.float32(255.46355)), 'referee': True}, {'frame': 508, 'label': 'baseball bat', 'confidence': np.float32(0.2625905), 'bbox': (np.float32(1201.8201), np.float32(317.10428), np.float32(1268.0), np.float32(348.9505))}, {'frame': 509, 'label': 'person', 'confidence': np.float32(0.8731235), 'bbox': (np.float32(982.1773), np.float32(154.1344), np.float32(1252.4745), np.float32(518.7372)), 'referee': True}, {'frame': 509, 'label': 'person', 'confidence': np.float32(0.8720984), 'bbox': (np.float32(637.84064), np.float32(0.0), np.float32(907.1298), np.float32(263.2558)), 'referee': True}, {'frame': 510, 'label': 'person', 'confidence': np.float32(0.9071577), 'bbox': (np.float32(993.3868), np.float32(144.22401), np.float32(1264.5682), np.float32(515.16943)), 'referee': True}, {'frame': 510, 'label': 'person', 'confidence': np.float32(0.86108), 'bbox': (np.float32(653.47504), np.float32(0.0), np.float32(927.7441), np.float32(276.7237)), 'referee': True}, {'frame': 511, 'label': 'person', 'confidence': np.float32(0.9130794), 'bbox': (np.float32(1018.22797), np.float32(146.68005), np.float32(1267.1569), np.float32(507.1856)), 'referee': True}, {'frame': 511, 'label': 'person', 'confidence': np.float32(0.8987404), 'bbox': (np.float32(665.42096), np.float32(0.7180921), np.float32(936.7045), np.float32(286.6368)), 'referee': True}, {'frame': 512, 'label': 'person', 'confidence': np.float32(0.9233975), 'bbox': (np.float32(1034.4298), np.float32(147.32144), np.float32(1268.0), np.float32(504.3572)), 'referee': True}, {'frame': 512, 'label': 'person', 'confidence': np.float32(0.91818476), 'bbox': (np.float32(676.14496), np.float32(1.247929), np.float32(943.60065), np.float32(291.44205)), 'referee': True}, {'frame': 513, 'label': 'person', 'confidence': np.float32(0.91940606), 'bbox': (np.float32(1050.4414), np.float32(150.26384), np.float32(1267.7168), np.float32(501.53076)), 'referee': True}, {'frame': 513, 'label': 'person', 'confidence': np.float32(0.89861053), 'bbox': (np.float32(679.2998), np.float32(2.3487327), np.float32(941.28516), np.float32(299.26154)), 'referee': True}, {'frame': 514, 'label': 'person', 'confidence': np.float32(0.9200896), 'bbox': (np.float32(1058.787), np.float32(157.88782), np.float32(1266.8796), np.float32(498.20648)), 'referee': True}, {'frame': 514, 'label': 'person', 'confidence': np.float32(0.83298117), 'bbox': (np.float32(677.7884), np.float32(0.9478513), np.float32(930.0103), np.float32(308.43625)), 'referee': True}, {'frame': 515, 'label': 'person', 'confidence': np.float32(0.9200006), 'bbox': (np.float32(1053.4462), np.float32(169.9267), np.float32(1266.5979), np.float32(500.3848)), 'referee': True}, {'frame': 515, 'label': 'person', 'confidence': np.float32(0.8106041), 'bbox': (np.float32(673.4924), np.float32(3.1427321), np.float32(914.35614), np.float32(318.98798)), 'referee': True}, {'frame': 516, 'label': 'person', 'confidence': np.float32(0.9068133), 'bbox': (np.float32(1029.3901), np.float32(176.176), np.float32(1263.448), np.float32(500.39633)), 'referee': True}, {'frame': 516, 'label': 'person', 'confidence': np.float32(0.7707243), 'bbox': (np.float32(660.05927), np.float32(2.2994554), np.float32(898.2596), np.float32(331.1286)), 'referee': True}, {'frame': 516, 'label': 'kite', 'confidence': np.float32(0.3678314), 'bbox': (np.float32(1039.9213), np.float32(45.21355), np.float32(1173.7018), np.float32(90.20763)), 'team': 1, 'referee': True}, {'frame': 517, 'label': 'person', 'confidence': np.float32(0.74313927), 'bbox': (np.float32(997.57465), np.float32(185.18625), np.float32(1235.4968), np.float32(500.70102)), 'referee': True}, {'frame': 517, 'label': 'person', 'confidence': np.float32(0.58843017), 'bbox': (np.float32(639.6205), np.float32(0.58734095), np.float32(876.04443), np.float32(344.77734)), 'referee': True}, {'frame': 517, 'label': 'kite', 'confidence': np.float32(0.37301672), 'bbox': (np.float32(1039.6737), np.float32(45.381413), np.float32(1173.4436), np.float32(90.33519)), 'team': 1, 'referee': True}, {'frame': 518, 'label': 'person', 'confidence': np.float32(0.84288025), 'bbox': (np.float32(956.4714), np.float32(189.30347), np.float32(1172.1621), np.float32(512.2512)), 'referee': True}, {'frame': 518, 'label': 'person', 'confidence': np.float32(0.8422762), 'bbox': (np.float32(617.751), np.float32(6.7055116), np.float32(850.60034), np.float32(355.00433)), 'referee': True}, {'frame': 518, 'label': 'kite', 'confidence': np.float32(0.5863494), 'bbox': (np.float32(1040.6204), np.float32(45.151833), np.float32(1173.2379), np.float32(90.370514)), 'team': 1, 'referee': True}, {'frame': 519, 'label': 'person', 'confidence': np.float32(0.86692774), 'bbox': (np.float32(595.3765), np.float32(22.979675), np.float32(816.2412), np.float32(369.2456)), 'referee': True}, {'frame': 519, 'label': 'person', 'confidence': np.float32(0.69424415), 'bbox': (np.float32(901.41187), np.float32(203.46532), np.float32(1124.8069), np.float32(527.83167)), 'referee': True}, {'frame': 519, 'label': 'kite', 'confidence': np.float32(0.6547096), 'bbox': (np.float32(1039.8232), np.float32(44.25329), np.float32(1176.0916), np.float32(91.464294)), 'team': 1, 'referee': True}, {'frame': 520, 'label': 'person', 'confidence': np.float32(0.8352894), 'bbox': (np.float32(565.0839), np.float32(42.514652), np.float32(785.5417), np.float32(393.67682)), 'referee': True}, {'frame': 520, 'label': 'kite', 'confidence': np.float32(0.6841278), 'bbox': (np.float32(1039.8441), np.float32(44.19618), np.float32(1175.7919), np.float32(91.934494)), 'team': 1, 'referee': True}, {'frame': 520, 'label': 'person', 'confidence': np.float32(0.36642262), 'bbox': (np.float32(826.8906), np.float32(209.72661), np.float32(1117.2068), np.float32(549.2615)), 'referee': True}, {'frame': 520, 'label': 'mouse', 'confidence': np.float32(0.25389594), 'bbox': (np.float32(2.6829226), np.float32(245.67575), np.float32(384.9212), np.float32(699.4738))}, {'frame': 521, 'label': 'person', 'confidence': np.float32(0.8109176), 'bbox': (np.float32(540.5653), np.float32(59.319016), np.float32(744.34143), np.float32(403.56653)), 'referee': True}, {'frame': 521, 'label': 'kite', 'confidence': np.float32(0.6105051), 'bbox': (np.float32(1038.7933), np.float32(45.313126), np.float32(1173.9518), np.float32(89.82343)), 'team': 1, 'referee': True}, {'frame': 521, 'label': 'traffic light', 'confidence': np.float32(0.4325181), 'bbox': (np.float32(1163.2053), np.float32(400.39587), np.float32(1267.8193), np.float32(720.0))}, {'frame': 521, 'label': 'skis', 'confidence': np.float32(0.31850925), 'bbox': (np.float32(829.48), np.float32(417.49304), np.float32(1121.6978), np.float32(574.0144))}, {'frame': 522, 'label': 'kite', 'confidence': np.float32(0.64300454), 'bbox': (np.float32(1038.2498), np.float32(45.33587), np.float32(1174.1775), np.float32(90.265434)), 'team': 1, 'referee': True}, {'frame': 522, 'label': 'person', 'confidence': np.float32(0.5351131), 'bbox': (np.float32(500.55057), np.float32(78.71681), np.float32(710.1311), np.float32(422.51886)), 'referee': True}, {'frame': 522, 'label': 'person', 'confidence': np.float32(0.53199977), 'bbox': (np.float32(1108.2399), np.float32(410.93396), np.float32(1267.6389), np.float32(711.2832)), 'referee': True}, {'frame': 522, 'label': 'person', 'confidence': np.float32(0.402879), 'bbox': (np.float32(496.1223), np.float32(80.43122), np.float32(925.4099), np.float32(461.49115)), 'referee': True}, {'frame': 523, 'label': 'person', 'confidence': np.float32(0.8352312), 'bbox': (np.float32(1046.6509), np.float32(418.0791), np.float32(1257.5774), np.float32(713.97003)), 'referee': True}, {'frame': 523, 'label': 'person', 'confidence': np.float32(0.63017476), 'bbox': (np.float32(464.7792), np.float32(92.959724), np.float32(684.4663), np.float32(438.00217)), 'referee': True}, {'frame': 523, 'label': 'kite', 'confidence': np.float32(0.49171022), 'bbox': (np.float32(1037.9647), np.float32(46.42431), np.float32(1174.4739), np.float32(90.292564)), 'team': 1, 'referee': True}, {'frame': 523, 'label': 'frisbee', 'confidence': np.float32(0.3657519), 'bbox': (np.float32(5.5704217), np.float32(353.2561), np.float32(342.6673), np.float32(711.65265))}, {'frame': 523, 'label': 'skis', 'confidence': np.float32(0.32492554), 'bbox': (np.float32(738.4865), np.float32(518.88837), np.float32(979.9541), np.float32(612.1756))}, {'frame': 523, 'label': 'mouse', 'confidence': np.float32(0.28267026), 'bbox': (np.float32(3.2162967), np.float32(352.75977), np.float32(341.5572), np.float32(710.9382)), 'referee': True}, {'frame': 524, 'label': 'person', 'confidence': np.float32(0.884319), 'bbox': (np.float32(1002.2205), np.float32(424.5601), np.float32(1209.8109), np.float32(712.54016)), 'referee': True}, {'frame': 524, 'label': 'person', 'confidence': np.float32(0.8526189), 'bbox': (np.float32(423.49246), np.float32(108.22173), np.float32(651.4891), np.float32(459.03036)), 'referee': True}, {'frame': 524, 'label': 'person', 'confidence': np.float32(0.7069892), 'bbox': (np.float32(585.66846), np.float32(236.44923), np.float32(892.0419), np.float32(576.74414)), 'referee': True}, {'frame': 524, 'label': 'frisbee', 'confidence': np.float32(0.36054105), 'bbox': (np.float32(4.492987), np.float32(380.4665), np.float32(334.52386), np.float32(711.0644))}, {'frame': 524, 'label': 'kite', 'confidence': np.float32(0.3080243), 'bbox': (np.float32(1040.6168), np.float32(46.99328), np.float32(1173.4541), np.float32(89.830765)), 'team': 1, 'referee': True}, {'frame': 524, 'label': 'skis', 'confidence': np.float32(0.2916316), 'bbox': (np.float32(682.37213), np.float32(540.0687), np.float32(927.03296), np.float32(624.0934)), 'referee': True}, {'frame': 525, 'label': 'person', 'confidence': np.float32(0.8291908), 'bbox': (np.float32(406.56177), np.float32(120.80967), np.float32(627.01605), np.float32(469.4196)), 'referee': True}, {'frame': 525, 'label': 'person', 'confidence': np.float32(0.7584465), 'bbox': (np.float32(568.73956), np.float32(239.79364), np.float32(856.1696), np.float32(599.0617)), 'referee': True}, {'frame': 525, 'label': 'person', 'confidence': np.float32(0.7450119), 'bbox': (np.float32(954.5455), np.float32(427.31012), np.float32(1173.8042), np.float32(711.158)), 'referee': True}, {'frame': 525, 'label': 'frisbee', 'confidence': np.float32(0.29498833), 'bbox': (np.float32(4.625582), np.float32(404.38214), np.float32(336.43814), np.float32(712.3398))}, {'frame': 525, 'label': 'skis', 'confidence': np.float32(0.266138), 'bbox': (np.float32(643.58984), np.float32(542.72925), np.float32(894.28613), np.float32(624.64606)), 'referee': True}, {'frame': 526, 'label': 'person', 'confidence': np.float32(0.8713012), 'bbox': (np.float32(398.63687), np.float32(131.08865), np.float32(604.4762), np.float32(487.6894)), 'referee': True}, {'frame': 526, 'label': 'person', 'confidence': np.float32(0.8398956), 'bbox': (np.float32(542.35187), np.float32(243.63246), np.float32(805.54987), np.float32(571.4096)), 'referee': True}, {'frame': 526, 'label': 'person', 'confidence': np.float32(0.7650018), 'bbox': (np.float32(934.2503), np.float32(428.52063), np.float32(1140.7401), np.float32(717.171)), 'referee': True}, {'frame': 526, 'label': 'skis', 'confidence': np.float32(0.59418225), 'bbox': (np.float32(605.0066), np.float32(523.5927), np.float32(838.2959), np.float32(613.72144)), 'referee': True}, {'frame': 526, 'label': 'skis', 'confidence': np.float32(0.27951774), 'bbox': (np.float32(889.0251), np.float32(554.01), np.float32(1157.6931), np.float32(712.7254)), 'referee': True}, {'frame': 527, 'label': 'person', 'confidence': np.float32(0.8750528), 'bbox': (np.float32(392.03555), np.float32(136.80132), np.float32(594.1614), np.float32(508.21823)), 'referee': True}, {'frame': 527, 'label': 'person', 'confidence': np.float32(0.8332208), 'bbox': (np.float32(518.04193), np.float32(245.62544), np.float32(784.0319), np.float32(581.38043)), 'referee': True}, {'frame': 527, 'label': 'person', 'confidence': np.float32(0.6703955), 'bbox': (np.float32(911.8844), np.float32(430.95935), np.float32(1098.301), np.float32(718.871)), 'referee': True}, {'frame': 527, 'label': 'skis', 'confidence': np.float32(0.29789743), 'bbox': (np.float32(575.7963), np.float32(550.47736), np.float32(803.119), np.float32(614.25256))}, {'frame': 528, 'label': 'person', 'confidence': np.float32(0.81331635), 'bbox': (np.float32(382.78183), np.float32(145.26334), np.float32(593.6484), np.float32(520.11066)), 'referee': True}, {'frame': 528, 'label': 'person', 'confidence': np.float32(0.728636), 'bbox': (np.float32(885.73096), np.float32(427.2658), np.float32(1088.0463), np.float32(711.539)), 'referee': True}, {'frame': 528, 'label': 'person', 'confidence': np.float32(0.65885925), 'bbox': (np.float32(486.28558), np.float32(290.3941), np.float32(740.8368), np.float32(570.52155)), 'referee': True}, {'frame': 528, 'label': 'skis', 'confidence': np.float32(0.5029814), 'bbox': (np.float32(537.2096), np.float32(531.7697), np.float32(757.84753), np.float32(617.8909)), 'referee': True}, {'frame': 529, 'label': 'person', 'confidence': np.float32(0.7684036), 'bbox': (np.float32(374.6841), np.float32(152.48692), np.float32(582.60364), np.float32(539.5327)), 'referee': True}, {'frame': 529, 'label': 'person', 'confidence': np.float32(0.70518553), 'bbox': (np.float32(865.3609), np.float32(425.69202), np.float32(1075.5345), np.float32(718.9117)), 'referee': True}, {'frame': 529, 'label': 'person', 'confidence': np.float32(0.6769328), 'bbox': (np.float32(472.18018), np.float32(243.86925), np.float32(710.06335), np.float32(567.9094)), 'referee': True}, {'frame': 530, 'label': 'person', 'confidence': np.float32(0.787221), 'bbox': (np.float32(370.82388), np.float32(160.53047), np.float32(691.59973), np.float32(568.53546)), 'referee': True}, {'frame': 530, 'label': 'person', 'confidence': np.float32(0.6297971), 'bbox': (np.float32(848.114), np.float32(420.58163), np.float32(1045.747), np.float32(713.7724)), 'referee': True}, {'frame': 530, 'label': 'skis', 'confidence': np.float32(0.38368225), 'bbox': (np.float32(1001.4515), np.float32(518.8942), np.float32(1112.3872), np.float32(589.6886))}, {'frame': 531, 'label': 'person', 'confidence': np.float32(0.8410718), 'bbox': (np.float32(371.48492), np.float32(163.34044), np.float32(676.84296), np.float32(560.0222)), 'team': 1, 'referee': True}, {'frame': 531, 'label': 'person', 'confidence': np.float32(0.7087781), 'bbox': (np.float32(829.5145), np.float32(411.75653), np.float32(1037.567), np.float32(718.7474)), 'referee': True}, {'frame': 531, 'label': 'skis', 'confidence': np.float32(0.5252692), 'bbox': (np.float32(983.18915), np.float32(508.30414), np.float32(1102.5562), np.float32(578.9193))}, {'frame': 531, 'label': 'skis', 'confidence': np.float32(0.41807002), 'bbox': (np.float32(384.33337), np.float32(490.49365), np.float32(665.5299), np.float32(571.83905)), 'team': 0, 'referee': True}, {'frame': 532, 'label': 'person', 'confidence': np.float32(0.7538108), 'bbox': (np.float32(380.86118), np.float32(156.66988), np.float32(635.8004), np.float32(549.01294)), 'team': 1, 'referee': True}, {'frame': 532, 'label': 'person', 'confidence': np.float32(0.75077385), 'bbox': (np.float32(818.3509), np.float32(400.01828), np.float32(1009.5736), np.float32(713.6979)), 'referee': True}, {'frame': 532, 'label': 'skis', 'confidence': np.float32(0.41910037), 'bbox': (np.float32(968.574), np.float32(479.76935), np.float32(1097.4674), np.float32(561.2989))}, {'frame': 533, 'label': 'person', 'confidence': np.float32(0.869536), 'bbox': (np.float32(397.13364), np.float32(141.68031), np.float32(629.3029), np.float32(547.3929)), 'referee': True}, {'frame': 533, 'label': 'person', 'confidence': np.float32(0.65749085), 'bbox': (np.float32(814.3262), np.float32(386.18256), np.float32(1024.7672), np.float32(713.6518)), 'referee': True}, {'frame': 533, 'label': 'skis', 'confidence': np.float32(0.4094189), 'bbox': (np.float32(964.2869), np.float32(456.41684), np.float32(1098.6145), np.float32(541.61273))}, {'frame': 534, 'label': 'person', 'confidence': np.float32(0.68395424), 'bbox': (np.float32(813.57056), np.float32(375.14243), np.float32(1091.7689), np.float32(717.8568)), 'referee': True}, {'frame': 534, 'label': 'person', 'confidence': np.float32(0.6785453), 'bbox': (np.float32(380.97784), np.float32(139.619), np.float32(641.79407), np.float32(538.5472)), 'referee': True}, {'frame': 534, 'label': 'baseball bat', 'confidence': np.float32(0.34118372), 'bbox': (np.float32(693.38214), np.float32(552.3776), np.float32(822.9603), np.float32(601.1358))}, {'frame': 535, 'label': 'person', 'confidence': np.float32(0.86967075), 'bbox': (np.float32(819.1851), np.float32(354.7305), np.float32(1010.2535), np.float32(716.93524)), 'team': 1, 'referee': True}, {'frame': 535, 'label': 'baseball bat', 'confidence': np.float32(0.73202574), 'bbox': (np.float32(701.4288), np.float32(532.2643), np.float32(832.0172), np.float32(585.8255)), 'team': 0}, {'frame': 535, 'label': 'person', 'confidence': np.float32(0.6885742), 'bbox': (np.float32(373.99554), np.float32(148.11278), np.float32(667.9998), np.float32(520.3505)), 'referee': True}, {'frame': 535, 'label': 'baseball bat', 'confidence': np.float32(0.4691626), 'bbox': (np.float32(961.96564), np.float32(414.1126), np.float32(1106.4045), np.float32(506.07684)), 'team': 0}, {'frame': 536, 'label': 'person', 'confidence': np.float32(0.856602), 'bbox': (np.float32(829.93567), np.float32(342.30276), np.float32(1028.3246), np.float32(717.36774)), 'team': 1, 'referee': True}, {'frame': 536, 'label': 'person', 'confidence': np.float32(0.7863567), 'bbox': (np.float32(479.13028), np.float32(140.89711), np.float32(712.4019), np.float32(406.20947)), 'referee': True}, {'frame': 536, 'label': 'person', 'confidence': np.float32(0.7379365), 'bbox': (np.float32(361.72833), np.float32(190.51353), np.float32(592.38776), np.float32(535.9309)), 'referee': True}, {'frame': 536, 'label': 'baseball bat', 'confidence': np.float32(0.57506806), 'bbox': (np.float32(714.9681), np.float32(516.85657), np.float32(844.5506), np.float32(571.13416)), 'team': 0}, {'frame': 536, 'label': 'baseball bat', 'confidence': np.float32(0.37374872), 'bbox': (np.float32(959.9309), np.float32(393.8116), np.float32(1124.2913), np.float32(492.40567)), 'team': 0, 'referee': True}, {'frame': 536, 'label': 'skis', 'confidence': np.float32(0.27152455), 'bbox': (np.float32(713.00275), np.float32(515.2187), np.float32(848.16406), np.float32(571.3272)), 'team': 1, 'referee': True}, {'frame': 537, 'label': 'person', 'confidence': np.float32(0.86283094), 'bbox': (np.float32(841.5718), np.float32(326.73206), np.float32(1041.6029), np.float32(718.6603)), 'referee': True}, {'frame': 537, 'label': 'person', 'confidence': np.float32(0.8043041), 'bbox': (np.float32(364.70932), np.float32(137.77368), np.float32(766.80597), np.float32(529.61066)), 'referee': True}, {'frame': 537, 'label': 'baseball bat', 'confidence': np.float32(0.36849874), 'bbox': (np.float32(955.26447), np.float32(376.46475), np.float32(1136.7161), np.float32(477.6559)), 'referee': True}, {'frame': 537, 'label': 'skis', 'confidence': np.float32(0.2833434), 'bbox': (np.float32(63.81738), np.float32(349.71143), np.float32(721.6207), np.float32(534.38226)), 'referee': True}, {'frame': 538, 'label': 'person', 'confidence': np.float32(0.86865306), 'bbox': (np.float32(860.5594), np.float32(308.98846), np.float32(1070.3248), np.float32(718.43774)), 'referee': True}, {'frame': 538, 'label': 'person', 'confidence': np.float32(0.7563249), 'bbox': (np.float32(564.586), np.float32(125.04575), np.float32(811.1426), np.float32(467.55576)), 'referee': True}, {'frame': 538, 'label': 'person', 'confidence': np.float32(0.62601775), 'bbox': (np.float32(373.645), np.float32(176.13681), np.float32(607.70746), np.float32(519.88184)), 'referee': True}, {'frame': 538, 'label': 'skis', 'confidence': np.float32(0.26937026), 'bbox': (np.float32(999.00867), np.float32(360.78842), np.float32(1153.4371), np.float32(458.3825))}, {'frame': 539, 'label': 'person', 'confidence': np.float32(0.90299827), 'bbox': (np.float32(884.615), np.float32(296.40298), np.float32(1094.6638), np.float32(714.45215)), 'referee': True}, {'frame': 539, 'label': 'person', 'confidence': np.float32(0.8246799), 'bbox': (np.float32(391.30292), np.float32(168.40923), np.float32(603.49475), np.float32(513.2863)), 'referee': True}, {'frame': 539, 'label': 'person', 'confidence': np.float32(0.7420953), 'bbox': (np.float32(612.9619), np.float32(113.589066), np.float32(866.72687), np.float32(459.44357)), 'referee': True}, {'frame': 539, 'label': 'skis', 'confidence': np.float32(0.39558524), 'bbox': (np.float32(977.41394), np.float32(347.79556), np.float32(1181.9279), np.float32(456.44766)), 'referee': True}, {'frame': 539, 'label': 'skis', 'confidence': np.float32(0.330506), 'bbox': (np.float32(164.89473), np.float32(371.79086), np.float32(398.34332), np.float32(471.88214))}, {'frame': 540, 'label': 'person', 'confidence': np.float32(0.8694484), 'bbox': (np.float32(411.09406), np.float32(161.11147), np.float32(783.13684), np.float32(515.7126)), 'referee': True}, {'frame': 540, 'label': 'person', 'confidence': np.float32(0.85720986), 'bbox': (np.float32(909.73535), np.float32(286.32797), np.float32(1132.3022), np.float32(711.3779)), 'referee': True}, {'frame': 540, 'label': 'person', 'confidence': np.float32(0.8320331), 'bbox': (np.float32(667.0538), np.float32(94.9522), np.float32(908.66895), np.float32(440.67786)), 'referee': True}, {'frame': 540, 'label': 'baseball bat', 'confidence': np.float32(0.29501188), 'bbox': (np.float32(817.8775), np.float32(470.9405), np.float32(958.8823), np.float32(524.85114))}, {'frame': 541, 'label': 'person', 'confidence': np.float32(0.8663312), 'bbox': (np.float32(725.88617), np.float32(77.372826), np.float32(953.5332), np.float32(459.954)), 'referee': True}, {'frame': 541, 'label': 'person', 'confidence': np.float32(0.8567025), 'bbox': (np.float32(937.02734), np.float32(274.65027), np.float32(1160.898), np.float32(714.41113)), 'referee': True}, {'frame': 541, 'label': 'person', 'confidence': np.float32(0.81217206), 'bbox': (np.float32(428.16403), np.float32(153.99492), np.float32(756.20496), np.float32(515.67017)), 'referee': True}, {'frame': 541, 'label': 'baseball bat', 'confidence': np.float32(0.2722142), 'bbox': (np.float32(858.71155), np.float32(463.78842), np.float32(996.0263), np.float32(511.94376))}, {'frame': 542, 'label': 'person', 'confidence': np.float32(0.8741344), 'bbox': (np.float32(452.5328), np.float32(149.65099), np.float32(768.47906), np.float32(513.55756)), 'referee': True}, {'frame': 542, 'label': 'person', 'confidence': np.float32(0.83485764), 'bbox': (np.float32(784.5507), np.float32(62.67997), np.float32(1011.1526), np.float32(463.86627)), 'referee': True}, {'frame': 542, 'label': 'person', 'confidence': np.float32(0.74112666), 'bbox': (np.float32(963.93884), np.float32(269.52667), np.float32(1207.2285), np.float32(699.2257)), 'referee': True}, {'frame': 542, 'label': 'baseball bat', 'confidence': np.float32(0.3329988), 'bbox': (np.float32(896.6613), np.float32(462.47235), np.float32(1013.4315), np.float32(507.40155))}, {'frame': 542, 'label': 'baseball bat', 'confidence': np.float32(0.30396858), 'bbox': (np.float32(1104.4635), np.float32(304.23618), np.float32(1250.0614), np.float32(415.70718)), 'referee': True}, {'frame': 542, 'label': 'skis', 'confidence': np.float32(0.26384896), 'bbox': (np.float32(1108.6356), np.float32(304.60132), np.float32(1250.1254), np.float32(414.41718)), 'referee': True}, {'frame': 543, 'label': 'person', 'confidence': np.float32(0.8663748), 'bbox': (np.float32(469.3368), np.float32(146.941), np.float32(769.3153), np.float32(511.99347)), 'referee': True}, {'frame': 543, 'label': 'person', 'confidence': np.float32(0.832505), 'bbox': (np.float32(986.5417), np.float32(256.6365), np.float32(1241.7937), np.float32(706.5765)), 'referee': True}, {'frame': 543, 'label': 'person', 'confidence': np.float32(0.7097117), 'bbox': (np.float32(844.21027), np.float32(52.869823), np.float32(1088.145), np.float32(462.81543)), 'team': 1, 'referee': True}, {'frame': 544, 'label': 'person', 'confidence': np.float32(0.8649854), 'bbox': (np.float32(481.29523), np.float32(143.40022), np.float32(783.3455), np.float32(504.5828)), 'referee': True}, {'frame': 544, 'label': 'person', 'confidence': np.float32(0.50984323), 'bbox': (np.float32(885.94916), np.float32(24.417469), np.float32(1261.8309), np.float32(720.0)), 'team': 1, 'referee': True}, {'frame': 545, 'label': 'person', 'confidence': np.float32(0.8569776), 'bbox': (np.float32(510.7868), np.float32(145.52328), np.float32(795.27893), np.float32(504.10822)), 'referee': True}, {'frame': 545, 'label': 'person', 'confidence': np.float32(0.80258137), 'bbox': (np.float32(941.61365), np.float32(34.563667), np.float32(1268.0), np.float32(712.6492)), 'team': 1, 'referee': True}, {'frame': 545, 'label': 'baseball bat', 'confidence': np.float32(0.34926105), 'bbox': (np.float32(1210.1873), np.float32(329.46982), np.float32(1267.4093), np.float32(371.16748))}, {'frame': 546, 'label': 'person', 'confidence': np.float32(0.87218696), 'bbox': (np.float32(527.4862), np.float32(145.52614), np.float32(808.12646), np.float32(504.30945)), 'referee': True}, {'frame': 546, 'label': 'person', 'confidence': np.float32(0.79306227), 'bbox': (np.float32(984.27264), np.float32(35.86749), np.float32(1268.0), np.float32(708.2791)), 'team': 1, 'referee': True}, {'frame': 547, 'label': 'person', 'confidence': np.float32(0.8312599), 'bbox': (np.float32(539.024), np.float32(144.50916), np.float32(828.8227), np.float32(506.1171)), 'referee': True}, {'frame': 547, 'label': 'person', 'confidence': np.float32(0.5314906), 'bbox': (np.float32(1084.8826), np.float32(254.69255), np.float32(1266.3336), np.float32(706.2335)), 'referee': True}, {'frame': 547, 'label': 'skis', 'confidence': np.float32(0.28107163), 'bbox': (np.float32(540.37115), np.float32(406.07736), np.float32(1182.4075), np.float32(521.112)), 'referee': True}, {'frame': 548, 'label': 'person', 'confidence': np.float32(0.7780615), 'bbox': (np.float32(511.77417), np.float32(144.85362), np.float32(841.93506), np.float32(504.0037)), 'referee': True}, {'frame': 548, 'label': 'person', 'confidence': np.float32(0.52062035), 'bbox': (np.float32(1076.2996), np.float32(35.32937), np.float32(1267.0902), np.float32(703.59894)), 'team': 0, 'referee': True}, {'frame': 548, 'label': 'skis', 'confidence': np.float32(0.28727585), 'bbox': (np.float32(546.7878), np.float32(406.63535), np.float32(1189.9742), np.float32(518.30963)), 'team': 1, 'referee': True}, {'frame': 549, 'label': 'person', 'confidence': np.float32(0.8710646), 'bbox': (np.float32(597.6224), np.float32(140.36662), np.float32(857.2726), np.float32(504.23187)), 'referee': True}, {'frame': 549, 'label': 'person', 'confidence': np.float32(0.6224415), 'bbox': (np.float32(1123.3357), np.float32(42.75147), np.float32(1267.9662), np.float32(712.0371)), 'referee': True}, {'frame': 549, 'label': 'person', 'confidence': np.float32(0.5988791), 'bbox': (np.float32(78.70313), np.float32(1.9740512), np.float32(409.7967), np.float32(190.92278))}, {'frame': 550, 'label': 'person', 'confidence': np.float32(0.8564844), 'bbox': (np.float32(615.65533), np.float32(139.2774), np.float32(867.2788), np.float32(501.88293)), 'referee': True}, {'frame': 550, 'label': 'person', 'confidence': np.float32(0.6976878), 'bbox': (np.float32(1147.2916), np.float32(62.439236), np.float32(1266.7947), np.float32(710.84503)), 'referee': True}, {'frame': 550, 'label': 'person', 'confidence': np.float32(0.56440645), 'bbox': (np.float32(128.462), np.float32(1.8094182), np.float32(455.07257), np.float32(195.57018))}, {'frame': 551, 'label': 'person', 'confidence': np.float32(0.8795922), 'bbox': (np.float32(635.0898), np.float32(133.17986), np.float32(887.781), np.float32(502.93604)), 'referee': True}, {'frame': 551, 'label': 'person', 'confidence': np.float32(0.747481), 'bbox': (np.float32(1173.7186), np.float32(137.40175), np.float32(1267.9847), np.float32(696.271)), 'referee': True}, {'frame': 551, 'label': 'person', 'confidence': np.float32(0.63547015), 'bbox': (np.float32(178.98381), np.float32(2.0637555), np.float32(528.1145), np.float32(207.64622))}, {'frame': 551, 'label': 'kite', 'confidence': np.float32(0.3809305), 'bbox': (np.float32(1039.3478), np.float32(44.866425), np.float32(1174.421), np.float32(89.96726)), 'team': 1}, {'frame': 552, 'label': 'person', 'confidence': np.float32(0.88637835), 'bbox': (np.float32(646.66534), np.float32(129.79688), np.float32(902.5894), np.float32(503.16046)), 'referee': True}, {'frame': 552, 'label': 'person', 'confidence': np.float32(0.7620666), 'bbox': (np.float32(1186.527), np.float32(173.71199), np.float32(1267.9343), np.float32(697.6172)), 'referee': True}, {'frame': 552, 'label': 'person', 'confidence': np.float32(0.50001425), 'bbox': (np.float32(213.2905), np.float32(0.0), np.float32(559.4709), np.float32(210.06459))}, {'frame': 552, 'label': 'kite', 'confidence': np.float32(0.26810646), 'bbox': (np.float32(1035.0374), np.float32(41.98689), np.float32(1261.9991), np.float32(106.18418)), 'team': 1}, {'frame': 552, 'label': 'kite', 'confidence': np.float32(0.2628813), 'bbox': (np.float32(1040.4991), np.float32(43.791946), np.float32(1173.6957), np.float32(92.535835)), 'team': 1}, {'frame': 553, 'label': 'person', 'confidence': np.float32(0.8832319), 'bbox': (np.float32(664.5305), np.float32(126.97065), np.float32(921.4172), np.float32(496.1571)), 'referee': True}, {'frame': 553, 'label': 'person', 'confidence': np.float32(0.66083366), 'bbox': (np.float32(237.13246), np.float32(1.0496709), np.float32(589.6079), np.float32(213.90349))}, {'frame': 553, 'label': 'person', 'confidence': np.float32(0.6369249), 'bbox': (np.float32(1198.6371), np.float32(266.57388), np.float32(1267.9056), np.float32(691.37756)), 'referee': True}, {'frame': 553, 'label': 'kite', 'confidence': np.float32(0.31233197), 'bbox': (np.float32(1039.3915), np.float32(46.379066), np.float32(1175.3639), np.float32(95.0911)), 'team': 1}, {'frame': 554, 'label': 'person', 'confidence': np.float32(0.8783835), 'bbox': (np.float32(663.8926), np.float32(120.880684), np.float32(943.066), np.float32(502.06644)), 'referee': True}, {'frame': 554, 'label': 'person', 'confidence': np.float32(0.69834304), 'bbox': (np.float32(258.0685), np.float32(0.42314622), np.float32(615.97675), np.float32(217.94902))}, {'frame': 554, 'label': 'kite', 'confidence': np.float32(0.43688825), 'bbox': (np.float32(1041.1189), np.float32(44.95105), np.float32(1172.3486), np.float32(91.763565)), 'team': 1}, {'frame': 554, 'label': 'person', 'confidence': np.float32(0.41460475), 'bbox': (np.float32(1216.1968), np.float32(326.0468), np.float32(1267.9697), np.float32(678.18414))}, {'frame': 555, 'label': 'person', 'confidence': np.float32(0.86723536), 'bbox': (np.float32(690.1092), np.float32(121.881256), np.float32(951.99927), np.float32(488.83395)), 'referee': True}, {'frame': 555, 'label': 'person', 'confidence': np.float32(0.6885644), 'bbox': (np.float32(286.57965), np.float32(0.43758175), np.float32(646.6544), np.float32(220.50273))}, {'frame': 555, 'label': 'kite', 'confidence': np.float32(0.44342038), 'bbox': (np.float32(1041.2438), np.float32(45.36836), np.float32(1172.315), np.float32(91.3331)), 'team': 1}, {'frame': 555, 'label': 'person', 'confidence': np.float32(0.25216895), 'bbox': (np.float32(1226.8823), np.float32(327.92303), np.float32(1267.8956), np.float32(677.5874))}, {'frame': 556, 'label': 'person', 'confidence': np.float32(0.8849058), 'bbox': (np.float32(703.5201), np.float32(121.92516), np.float32(984.3035), np.float32(484.29733)), 'referee': True}, {'frame': 556, 'label': 'person', 'confidence': np.float32(0.706349), 'bbox': (np.float32(326.6765), np.float32(0.0), np.float32(670.36127), np.float32(230.53917))}, {'frame': 556, 'label': 'kite', 'confidence': np.float32(0.54570407), 'bbox': (np.float32(1040.9454), np.float32(45.307873), np.float32(1173.0638), np.float32(91.29273)), 'team': 1}, {'frame': 557, 'label': 'person', 'confidence': np.float32(0.8965743), 'bbox': (np.float32(707.5518), np.float32(121.55344), np.float32(999.81146), np.float32(484.03375)), 'referee': True}, {'frame': 557, 'label': 'person', 'confidence': np.float32(0.7456191), 'bbox': (np.float32(348.2194), np.float32(0.0), np.float32(729.80023), np.float32(233.64746)), 'referee': True}, {'frame': 557, 'label': 'kite', 'confidence': np.float32(0.59317476), 'bbox': (np.float32(1039.7378), np.float32(45.15782), np.float32(1173.3967), np.float32(91.91122)), 'team': 1}, {'frame': 558, 'label': 'person', 'confidence': np.float32(0.906966), 'bbox': (np.float32(714.20654), np.float32(122.234055), np.float32(1013.76605), np.float32(479.8587)), 'referee': True}, {'frame': 558, 'label': 'person', 'confidence': np.float32(0.74712366), 'bbox': (np.float32(374.26443), np.float32(0.0), np.float32(714.0673), np.float32(238.23561)), 'referee': True}, {'frame': 558, 'label': 'kite', 'confidence': np.float32(0.6439438), 'bbox': (np.float32(1039.5511), np.float32(45.06274), np.float32(1173.705), np.float32(92.36865)), 'team': 1}, {'frame': 559, 'label': 'person', 'confidence': np.float32(0.9041535), 'bbox': (np.float32(723.7519), np.float32(123.56045), np.float32(1022.98047), np.float32(473.91577)), 'referee': True}, {'frame': 559, 'label': 'person', 'confidence': np.float32(0.67938477), 'bbox': (np.float32(387.03366), np.float32(1.052233), np.float32(706.47296), np.float32(243.43355)), 'referee': True}, {'frame': 559, 'label': 'kite', 'confidence': np.float32(0.5835591), 'bbox': (np.float32(1039.5441), np.float32(45.263405), np.float32(1173.7386), np.float32(92.17149)), 'team': 1}, {'frame': 560, 'label': 'person', 'confidence': np.float32(0.8772806), 'bbox': (np.float32(729.9922), np.float32(123.548676), np.float32(1030.4569), np.float32(472.93625)), 'referee': True}, {'frame': 560, 'label': 'person', 'confidence': np.float32(0.53426135), 'bbox': (np.float32(394.3761), np.float32(1.7124583), np.float32(718.50024), np.float32(251.82483)), 'referee': True}, {'frame': 560, 'label': 'kite', 'confidence': np.float32(0.44151664), 'bbox': (np.float32(1040.54), np.float32(44.895546), np.float32(1174.1586), np.float32(91.8919)), 'team': 1}, {'frame': 560, 'label': 'baseball glove', 'confidence': np.float32(0.25988057), 'bbox': (np.float32(789.5795), np.float32(275.7066), np.float32(846.6911), np.float32(319.8607))}, {'frame': 561, 'label': 'person', 'confidence': np.float32(0.83595526), 'bbox': (np.float32(735.27167), np.float32(122.367516), np.float32(1036.5653), np.float32(476.8024)), 'referee': True}, {'frame': 561, 'label': 'person', 'confidence': np.float32(0.66599596), 'bbox': (np.float32(410.71494), np.float32(5.9397483), np.float32(736.9896), np.float32(262.37906)), 'referee': True}, {'frame': 561, 'label': 'kite', 'confidence': np.float32(0.51667494), 'bbox': (np.float32(1040.6047), np.float32(44.510452), np.float32(1174.3596), np.float32(92.26281)), 'team': 1}, {'frame': 562, 'label': 'person', 'confidence': np.float32(0.89816827), 'bbox': (np.float32(742.8287), np.float32(125.93067), np.float32(1035.6155), np.float32(482.90128)), 'team': 0, 'referee': True}, {'frame': 562, 'label': 'person', 'confidence': np.float32(0.7039753), 'bbox': (np.float32(432.7691), np.float32(14.536916), np.float32(751.20776), np.float32(275.53384)), 'team': 1, 'referee': True}, {'frame': 562, 'label': 'kite', 'confidence': np.float32(0.52104646), 'bbox': (np.float32(1040.7338), np.float32(44.680534), np.float32(1174.4381), np.float32(91.64532)), 'team': 1}, {'frame': 562, 'label': 'baseball glove', 'confidence': np.float32(0.37092423), 'bbox': (np.float32(788.95654), np.float32(293.7805), np.float32(837.5852), np.float32(334.32434))}, {'frame': 562, 'label': 'baseball glove', 'confidence': np.float32(0.2978826), 'bbox': (np.float32(676.3616), np.float32(94.871956), np.float32(756.72266), np.float32(157.11119)), 'team': 1}, {'frame': 563, 'label': 'person', 'confidence': np.float32(0.92180836), 'bbox': (np.float32(742.46204), np.float32(125.07649), np.float32(1033.5441), np.float32(491.78268)), 'team': 0, 'referee': True}, {'frame': 563, 'label': 'person', 'confidence': np.float32(0.60103744), 'bbox': (np.float32(427.0517), np.float32(28.21285), np.float32(765.5263), np.float32(284.5013)), 'team': 1, 'referee': True}, {'frame': 563, 'label': 'baseball glove', 'confidence': np.float32(0.43149444), 'bbox': (np.float32(794.3233), np.float32(299.52573), np.float32(840.42316), np.float32(336.846))}, {'frame': 563, 'label': 'kite', 'confidence': np.float32(0.34180287), 'bbox': (np.float32(1039.9147), np.float32(45.07952), np.float32(1174.5592), np.float32(91.13663)), 'team': 1}, {'frame': 564, 'label': 'person', 'confidence': np.float32(0.92437124), 'bbox': (np.float32(745.5521), np.float32(124.618385), np.float32(1027.3248), np.float32(497.06827)), 'team': 0, 'referee': True}, {'frame': 564, 'label': 'person', 'confidence': np.float32(0.64763373), 'bbox': (np.float32(439.3776), np.float32(36.851723), np.float32(776.2461), np.float32(294.944)), 'team': 1, 'referee': True}, {'frame': 564, 'label': 'kite', 'confidence': np.float32(0.41189387), 'bbox': (np.float32(1040.4941), np.float32(45.208443), np.float32(1174.8486), np.float32(90.339806)), 'team': 1}, {'frame': 564, 'label': 'baseball glove', 'confidence': np.float32(0.35063073), 'bbox': (np.float32(800.33997), np.float32(301.73752), np.float32(842.2897), np.float32(337.97488))}, {'frame': 565, 'label': 'person', 'confidence': np.float32(0.92687446), 'bbox': (np.float32(746.63214), np.float32(128.14098), np.float32(1024.03), np.float32(501.1678)), 'team': 0, 'referee': True}, {'frame': 565, 'label': 'person', 'confidence': np.float32(0.5848753), 'bbox': (np.float32(448.7607), np.float32(47.794308), np.float32(781.413), np.float32(308.8804)), 'team': 1, 'referee': True}, {'frame': 565, 'label': 'kite', 'confidence': np.float32(0.4483481), 'bbox': (np.float32(1038.7582), np.float32(45.50694), np.float32(1174.1705), np.float32(91.837395)), 'team': 1}, {'frame': 566, 'label': 'person', 'confidence': np.float32(0.922184), 'bbox': (np.float32(753.27515), np.float32(136.42969), np.float32(1019.8347), np.float32(509.13284)), 'team': 0, 'referee': True}, {'frame': 566, 'label': 'kite', 'confidence': np.float32(0.41959995), 'bbox': (np.float32(1038.7228), np.float32(45.984634), np.float32(1174.1157), np.float32(92.287796)), 'team': 1}, {'frame': 566, 'label': 'person', 'confidence': np.float32(0.40598214), 'bbox': (np.float32(448.10977), np.float32(57.10917), np.float32(785.8965), np.float32(320.1873)), 'team': 1, 'referee': True}, {'frame': 566, 'label': 'baseball glove', 'confidence': np.float32(0.3219224), 'bbox': (np.float32(699.00775), np.float32(135.7878), np.float32(789.77606), np.float32(206.54799)), 'team': 1}, {'frame': 567, 'label': 'person', 'confidence': np.float32(0.9175832), 'bbox': (np.float32(743.2184), np.float32(145.33397), np.float32(1015.2677), np.float32(522.421)), 'team': 0, 'referee': True}, {'frame': 567, 'label': 'person', 'confidence': np.float32(0.77980226), 'bbox': (np.float32(459.57623), np.float32(84.99264), np.float32(797.0862), np.float32(346.63522)), 'team': 1, 'referee': True}, {'frame': 567, 'label': 'baseball glove', 'confidence': np.float32(0.50447893), 'bbox': (np.float32(699.5594), np.float32(162.22931), np.float32(796.7911), np.float32(245.34297)), 'team': 1}, {'frame': 567, 'label': 'person', 'confidence': np.float32(0.3411491), 'bbox': (np.float32(1226.0615), np.float32(470.12653), np.float32(1267.5824), np.float32(711.818))}, {'frame': 568, 'label': 'person', 'confidence': np.float32(0.9312435), 'bbox': (np.float32(737.51807), np.float32(151.55501), np.float32(1012.08374), np.float32(531.2268)), 'team': 0, 'referee': True}, {'frame': 568, 'label': 'person', 'confidence': np.float32(0.7585268), 'bbox': (np.float32(463.517), np.float32(95.69735), np.float32(794.40393), np.float32(353.42722)), 'team': 1, 'referee': True}, {'frame': 568, 'label': 'baseball glove', 'confidence': np.float32(0.6814222), 'bbox': (np.float32(715.0852), np.float32(173.57066), np.float32(798.5681), np.float32(261.51794))}, {'frame': 568, 'label': 'baseball glove', 'confidence': np.float32(0.39349142), 'bbox': (np.float32(785.68536), np.float32(259.75122), np.float32(828.22424), np.float32(319.49527)), 'team': 0}, {'frame': 568, 'label': 'person', 'confidence': np.float32(0.34732106), 'bbox': (np.float32(1236.0372), np.float32(466.52124), np.float32(1267.9246), np.float32(712.18945))}, {'frame': 569, 'label': 'person', 'confidence': np.float32(0.86381274), 'bbox': (np.float32(717.55896), np.float32(153.80786), np.float32(1012.3977), np.float32(535.71954)), 'referee': True}, {'frame': 569, 'label': 'person', 'confidence': np.float32(0.808389), 'bbox': (np.float32(473.36325), np.float32(107.58556), np.float32(798.59845), np.float32(371.54773)), 'referee': True}, {'frame': 569, 'label': 'person', 'confidence': np.float32(0.35061005), 'bbox': (np.float32(1226.339), np.float32(390.73642), np.float32(1267.2229), np.float32(705.85803))}, {'frame': 569, 'label': 'baseball bat', 'confidence': np.float32(0.2836296), 'bbox': (np.float32(455.11557), np.float32(129.93033), np.float32(559.49475), np.float32(240.33841)), 'referee': True}, {'frame': 570, 'label': 'person', 'confidence': np.float32(0.7860892), 'bbox': (np.float32(583.8872), np.float32(125.85352), np.float32(1012.82117), np.float32(546.2893)), 'team': 0, 'referee': True}, {'frame': 570, 'label': 'person', 'confidence': np.float32(0.57393503), 'bbox': (np.float32(1219.4573), np.float32(384.22122), np.float32(1268.0), np.float32(700.8782))}, {'frame': 570, 'label': 'person', 'confidence': np.float32(0.4553272), 'bbox': (np.float32(483.80457), np.float32(122.71691), np.float32(777.6303), np.float32(379.92172)), 'team': 1, 'referee': True}, {'frame': 571, 'label': 'person', 'confidence': np.float32(0.76481944), 'bbox': (np.float32(634.052), np.float32(142.41673), np.float32(1001.157), np.float32(552.7189)), 'team': 0, 'referee': True}, {'frame': 571, 'label': 'person', 'confidence': np.float32(0.6463717), 'bbox': (np.float32(1212.9292), np.float32(395.4688), np.float32(1268.0), np.float32(709.60065)), 'referee': True}, {'frame': 571, 'label': 'person', 'confidence': np.float32(0.6402416), 'bbox': (np.float32(483.6172), np.float32(139.88457), np.float32(776.3118), np.float32(393.91074)), 'team': 1, 'referee': True}, {'frame': 572, 'label': 'person', 'confidence': np.float32(0.7506855), 'bbox': (np.float32(674.9029), np.float32(196.1702), np.float32(1006.7518), np.float32(560.8121)), 'team': 0, 'referee': True}, {'frame': 572, 'label': 'person', 'confidence': np.float32(0.68325984), 'bbox': (np.float32(486.83133), np.float32(151.08636), np.float32(781.64014), np.float32(404.49127)), 'team': 1, 'referee': True}, {'frame': 572, 'label': 'person', 'confidence': np.float32(0.5361028), 'bbox': (np.float32(1212.411), np.float32(394.01437), np.float32(1268.0), np.float32(704.51337)), 'referee': True}, {'frame': 573, 'label': 'person', 'confidence': np.float32(0.8526566), 'bbox': (np.float32(663.3109), np.float32(179.83643), np.float32(1034.212), np.float32(573.0086)), 'team': 0, 'referee': True}, {'frame': 573, 'label': 'person', 'confidence': np.float32(0.7227706), 'bbox': (np.float32(1196.5396), np.float32(345.13974), np.float32(1267.6838), np.float32(711.4602)), 'referee': True}, {'frame': 573, 'label': 'person', 'confidence': np.float32(0.456668), 'bbox': (np.float32(491.58444), np.float32(164.94096), np.float32(786.50555), np.float32(429.80536)), 'team': 1, 'referee': True}, {'frame': 574, 'label': 'person', 'confidence': np.float32(0.76885545), 'bbox': (np.float32(663.0036), np.float32(188.34845), np.float32(1027.391), np.float32(577.45526)), 'team': 0, 'referee': True}, {'frame': 574, 'label': 'person', 'confidence': np.float32(0.6060757), 'bbox': (np.float32(1190.3464), np.float32(347.20203), np.float32(1267.6932), np.float32(709.6895)), 'referee': True}, {'frame': 574, 'label': 'person', 'confidence': np.float32(0.3187581), 'bbox': (np.float32(496.6435), np.float32(176.6256), np.float32(791.6269), np.float32(437.33347)), 'team': 1, 'referee': True}, {'frame': 575, 'label': 'person', 'confidence': np.float32(0.86277634), 'bbox': (np.float32(658.4919), np.float32(198.88306), np.float32(1007.3543), np.float32(582.2808)), 'team': 0, 'referee': True}, {'frame': 575, 'label': 'person', 'confidence': np.float32(0.70442116), 'bbox': (np.float32(1183.6215), np.float32(351.1725), np.float32(1267.9503), np.float32(711.1595)), 'referee': True}, {'frame': 576, 'label': 'person', 'confidence': np.float32(0.83572495), 'bbox': (np.float32(645.4876), np.float32(200.7915), np.float32(995.30707), np.float32(586.9765)), 'team': 0, 'referee': True}, {'frame': 576, 'label': 'person', 'confidence': np.float32(0.82529485), 'bbox': (np.float32(1174.7102), np.float32(356.01373), np.float32(1267.5734), np.float32(710.64764)), 'referee': True}, {'frame': 577, 'label': 'person', 'confidence': np.float32(0.8310531), 'bbox': (np.float32(615.888), np.float32(209.50717), np.float32(981.3232), np.float32(591.0552)), 'team': 0, 'referee': True}, {'frame': 577, 'label': 'person', 'confidence': np.float32(0.81433225), 'bbox': (np.float32(1159.5612), np.float32(359.7045), np.float32(1267.8119), np.float32(714.7387)), 'referee': True}, {'frame': 578, 'label': 'person', 'confidence': np.float32(0.7973206), 'bbox': (np.float32(616.9878), np.float32(220.10886), np.float32(958.0088), np.float32(589.9895)), 'team': 0, 'referee': True}, {'frame': 578, 'label': 'person', 'confidence': np.float32(0.5496371), 'bbox': (np.float32(1151.8414), np.float32(359.73807), np.float32(1268.0), np.float32(687.1948)), 'referee': True}, {'frame': 578, 'label': 'person', 'confidence': np.float32(0.49110177), 'bbox': (np.float32(611.8854), np.float32(203.04457), np.float32(802.1669), np.float32(428.9381)), 'team': 1, 'referee': True}, {'frame': 579, 'label': 'person', 'confidence': np.float32(0.7637696), 'bbox': (np.float32(610.5958), np.float32(208.64096), np.float32(924.2635), np.float32(568.2957)), 'referee': True}, {'frame': 579, 'label': 'person', 'confidence': np.float32(0.60770434), 'bbox': (np.float32(1085.7852), np.float32(354.87903), np.float32(1267.7465), np.float32(703.8544)), 'referee': True}, {'frame': 580, 'label': 'person', 'confidence': np.float32(0.73110116), 'bbox': (np.float32(1073.3096), np.float32(351.06613), np.float32(1268.0), np.float32(714.257)), 'referee': True}, {'frame': 580, 'label': 'person', 'confidence': np.float32(0.6811663), 'bbox': (np.float32(555.7307), np.float32(218.43034), np.float32(900.5818), np.float32(535.53815)), 'referee': True}, {'frame': 581, 'label': 'person', 'confidence': np.float32(0.8896296), 'bbox': (np.float32(1054.9491), np.float32(351.06354), np.float32(1266.7201), np.float32(715.90125)), 'referee': True}, {'frame': 581, 'label': 'person', 'confidence': np.float32(0.72579634), 'bbox': (np.float32(500.9641), np.float32(224.21063), np.float32(901.1938), np.float32(555.4918)), 'referee': True}, {'frame': 582, 'label': 'person', 'confidence': np.float32(0.8293983), 'bbox': (np.float32(1052.1432), np.float32(342.50845), np.float32(1256.9564), np.float32(709.94275)), 'referee': True}, {'frame': 582, 'label': 'person', 'confidence': np.float32(0.7743548), 'bbox': (np.float32(529.90924), np.float32(223.97246), np.float32(891.7427), np.float32(544.36584)), 'referee': True}, {'frame': 583, 'label': 'person', 'confidence': np.float32(0.8853571), 'bbox': (np.float32(1004.5482), np.float32(335.40317), np.float32(1244.1128), np.float32(716.2159)), 'referee': True}, {'frame': 583, 'label': 'person', 'confidence': np.float32(0.855081), 'bbox': (np.float32(501.0206), np.float32(209.47989), np.float32(888.63275), np.float32(559.99005)), 'referee': True}, {'frame': 583, 'label': 'baseball glove', 'confidence': np.float32(0.4040183), 'bbox': (np.float32(840.72943), np.float32(379.12262), np.float32(893.6663), np.float32(438.06027))}, {'frame': 584, 'label': 'person', 'confidence': np.float32(0.88296103), 'bbox': (np.float32(966.78204), np.float32(324.77045), np.float32(1206.4089), np.float32(711.4506)), 'referee': True}, {'frame': 584, 'label': 'baseball glove', 'confidence': np.float32(0.58927464), 'bbox': (np.float32(793.6068), np.float32(371.47943), np.float32(883.1823), np.float32(434.29694))}, {'frame': 584, 'label': 'person', 'confidence': np.float32(0.5872184), 'bbox': (np.float32(516.1014), np.float32(194.30914), np.float32(851.1098), np.float32(514.296)), 'referee': True}, {'frame': 584, 'label': 'person', 'confidence': np.float32(0.39363548), 'bbox': (np.float32(1199.407), np.float32(240.08244), np.float32(1267.9406), np.float32(458.29465))}, {'frame': 585, 'label': 'person', 'confidence': np.float32(0.8786708), 'bbox': (np.float32(929.3414), np.float32(314.11276), np.float32(1164.589), np.float32(710.8538)), 'referee': True}, {'frame': 585, 'label': 'person', 'confidence': np.float32(0.51647514), 'bbox': (np.float32(670.453), np.float32(258.77078), np.float32(870.3809), np.float32(494.03952)), 'referee': True}, {'frame': 585, 'label': 'person', 'confidence': np.float32(0.5066031), 'bbox': (np.float32(462.632), np.float32(166.11354), np.float32(707.232), np.float32(527.35803)), 'referee': True}, {'frame': 585, 'label': 'baseball bat', 'confidence': np.float32(0.27803907), 'bbox': (np.float32(1137.7532), np.float32(560.0612), np.float32(1268.0), np.float32(628.3292)), 'referee': True}, {'frame': 585, 'label': 'person', 'confidence': np.float32(0.27351055), 'bbox': (np.float32(1153.8503), np.float32(102.798454), np.float32(1267.5977), np.float32(466.52875)), 'referee': True}, {'frame': 586, 'label': 'person', 'confidence': np.float32(0.885123), 'bbox': (np.float32(882.14087), np.float32(301.82074), np.float32(1132.7231), np.float32(713.673)), 'referee': True}, {'frame': 586, 'label': 'person', 'confidence': np.float32(0.54624987), 'bbox': (np.float32(1125.1903), np.float32(99.83752), np.float32(1267.5859), np.float32(458.97052)), 'referee': True}, {'frame': 586, 'label': 'person', 'confidence': np.float32(0.44967866), 'bbox': (np.float32(452.3443), np.float32(142.1551), np.float32(684.80585), np.float32(515.44165)), 'referee': True}, {'frame': 587, 'label': 'person', 'confidence': np.float32(0.91136026), 'bbox': (np.float32(842.2888), np.float32(292.7108), np.float32(1094.3802), np.float32(713.5761)), 'referee': True}, {'frame': 587, 'label': 'person', 'confidence': np.float32(0.7886889), 'bbox': (np.float32(1101.3813), np.float32(94.49199), np.float32(1266.3872), np.float32(455.0534)), 'referee': True}, {'frame': 587, 'label': 'baseball glove', 'confidence': np.float32(0.6536136), 'bbox': (np.float32(780.4923), np.float32(343.50018), np.float32(859.6712), np.float32(412.25757))}, {'frame': 587, 'label': 'person', 'confidence': np.float32(0.62796277), 'bbox': (np.float32(582.0312), np.float32(251.55357), np.float32(849.42126), np.float32(513.0198)), 'referee': True}, {'frame': 587, 'label': 'person', 'confidence': np.float32(0.6080669), 'bbox': (np.float32(358.71045), np.float32(126.628975), np.float32(668.71735), np.float32(554.2296)), 'team': 1, 'referee': True}, {'frame': 587, 'label': 'baseball glove', 'confidence': np.float32(0.5839741), 'bbox': (np.float32(757.5904), np.float32(264.9349), np.float32(824.53894), np.float32(340.19794))}, {'frame': 587, 'label': 'baseball bat', 'confidence': np.float32(0.3991032), 'bbox': (np.float32(1028.4131), np.float32(336.2487), np.float32(1118.1774), np.float32(422.86316)), 'referee': True}, {'frame': 587, 'label': 'baseball glove', 'confidence': np.float32(0.32777542), 'bbox': (np.float32(766.525), np.float32(271.4436), np.float32(843.17444), np.float32(398.94492)), 'referee': True}, {'frame': 587, 'label': 'baseball bat', 'confidence': np.float32(0.29077923), 'bbox': (np.float32(427.87988), np.float32(100.92204), np.float32(725.0725), np.float32(201.52478)), 'team': 0, 'referee': True}, {'frame': 588, 'label': 'person', 'confidence': np.float32(0.88689476), 'bbox': (np.float32(807.83405), np.float32(281.5807), np.float32(1062.0531), np.float32(711.8545)), 'referee': True}, {'frame': 588, 'label': 'person', 'confidence': np.float32(0.8518146), 'bbox': (np.float32(1098.1484), np.float32(68.55112), np.float32(1267.4384), np.float32(450.3245)), 'referee': True}, {'frame': 588, 'label': 'person', 'confidence': np.float32(0.6276037), 'bbox': (np.float32(566.62494), np.float32(246.26865), np.float32(841.8148), np.float32(518.92194)), 'referee': True}, {'frame': 588, 'label': 'skis', 'confidence': np.float32(0.5470089), 'bbox': (np.float32(1071.3799), np.float32(529.6296), np.float32(1267.1945), np.float32(630.3823)), 'referee': True}, {'frame': 588, 'label': 'person', 'confidence': np.float32(0.33042142), 'bbox': (np.float32(361.684), np.float32(109.13376), np.float32(703.41113), np.float32(542.268)), 'team': 1, 'referee': True}, {'frame': 588, 'label': 'kite', 'confidence': np.float32(0.26569512), 'bbox': (np.float32(1039.9785), np.float32(46.793472), np.float32(1172.3395), np.float32(84.34481)), 'team': 1, 'referee': True}, {'frame': 589, 'label': 'person', 'confidence': np.float32(0.893149), 'bbox': (np.float32(774.8541), np.float32(266.43396), np.float32(1029.0851), np.float32(714.09973)), 'referee': True}, {'frame': 589, 'label': 'person', 'confidence': np.float32(0.8700145), 'bbox': (np.float32(1090.9933), np.float32(23.781746), np.float32(1268.0), np.float32(450.85983)), 'referee': True}, {'frame': 589, 'label': 'person', 'confidence': np.float32(0.8356708), 'bbox': (np.float32(290.317), np.float32(103.024475), np.float32(618.36707), np.float32(553.71014)), 'team': 1, 'referee': True}, {'frame': 589, 'label': 'person', 'confidence': np.float32(0.6425546), 'bbox': (np.float32(578.79706), np.float32(244.60713), np.float32(838.7501), np.float32(506.89502)), 'team': 0, 'referee': True}, {'frame': 589, 'label': 'skis', 'confidence': np.float32(0.40594655), 'bbox': (np.float32(1064.5654), np.float32(515.8303), np.float32(1267.0172), np.float32(623.9728)), 'referee': True}, {'frame': 589, 'label': 'baseball bat', 'confidence': np.float32(0.33851174), 'bbox': (np.float32(567.44824), np.float32(342.6237), np.float32(709.612), np.float32(422.59033)), 'referee': True}, {'frame': 590, 'label': 'person', 'confidence': np.float32(0.8742759), 'bbox': (np.float32(751.51917), np.float32(245.33345), np.float32(998.706), np.float32(712.73145)), 'referee': True}, {'frame': 590, 'label': 'person', 'confidence': np.float32(0.8500806), 'bbox': (np.float32(303.78214), np.float32(95.6329), np.float32(619.25415), np.float32(544.19965)), 'team': 1, 'referee': True}, {'frame': 590, 'label': 'person', 'confidence': np.float32(0.836208), 'bbox': (np.float32(1076.6427), np.float32(29.729956), np.float32(1267.6614), np.float32(441.3146)), 'team': 1, 'referee': True}, {'frame': 590, 'label': 'skis', 'confidence': np.float32(0.38466394), 'bbox': (np.float32(1062.5103), np.float32(507.69632), np.float32(1267.6543), np.float32(617.6667)), 'referee': True}, {'frame': 590, 'label': 'person', 'confidence': np.float32(0.34878245), 'bbox': (np.float32(598.3304), np.float32(248.37395), np.float32(795.7025), np.float32(493.9259)), 'team': 0, 'referee': True}, {'frame': 591, 'label': 'person', 'confidence': np.float32(0.8824421), 'bbox': (np.float32(284.6616), np.float32(91.13943), np.float32(572.2272), np.float32(543.98987)), 'team': 0, 'referee': True}, {'frame': 591, 'label': 'person', 'confidence': np.float32(0.832846), 'bbox': (np.float32(700.90936), np.float32(239.12018), np.float32(979.7616), np.float32(706.38544)), 'referee': True}, {'frame': 591, 'label': 'person', 'confidence': np.float32(0.8276347), 'bbox': (np.float32(1077.4385), np.float32(36.923462), np.float32(1267.6399), np.float32(437.63126)), 'team': 1, 'referee': True}, {'frame': 591, 'label': 'skis', 'confidence': np.float32(0.3541611), 'bbox': (np.float32(1064.1453), np.float32(504.7388), np.float32(1268.0), np.float32(611.4277)), 'referee': True}, {'frame': 591, 'label': 'person', 'confidence': np.float32(0.3031133), 'bbox': (np.float32(605.6323), np.float32(245.69109), np.float32(815.78864), np.float32(497.25534)), 'referee': True}, {'frame': 592, 'label': 'person', 'confidence': np.float32(0.88304216), 'bbox': (np.float32(275.63882), np.float32(86.23982), np.float32(568.02075), np.float32(542.2716)), 'team': 0, 'referee': True}, {'frame': 592, 'label': 'person', 'confidence': np.float32(0.8589392), 'bbox': (np.float32(595.79877), np.float32(232.66814), np.float32(971.43427), np.float32(711.45844)), 'referee': True}, {'frame': 592, 'label': 'person', 'confidence': np.float32(0.7746493), 'bbox': (np.float32(1060.6864), np.float32(38.637314), np.float32(1267.5205), np.float32(438.9139)), 'team': 1, 'referee': True}, {'frame': 592, 'label': 'skis', 'confidence': np.float32(0.33430958), 'bbox': (np.float32(1072.0096), np.float32(509.28262), np.float32(1267.1094), np.float32(604.3162)), 'referee': True}, {'frame': 592, 'label': 'baseball bat', 'confidence': np.float32(0.30059388), 'bbox': (np.float32(552.8535), np.float32(302.0294), np.float32(658.3989), np.float32(387.48224)), 'team': 1, 'referee': True}, {'frame': 593, 'label': 'person', 'confidence': np.float32(0.88658625), 'bbox': (np.float32(1038.3184), np.float32(19.27378), np.float32(1266.8424), np.float32(426.4007)), 'team': 1, 'referee': True}, {'frame': 593, 'label': 'person', 'confidence': np.float32(0.8205044), 'bbox': (np.float32(629.5021), np.float32(219.6906), np.float32(954.22076), np.float32(704.09796)), 'referee': True}, {'frame': 593, 'label': 'person', 'confidence': np.float32(0.8105758), 'bbox': (np.float32(276.0237), np.float32(87.921646), np.float32(563.3477), np.float32(523.33344)), 'team': 0, 'referee': True}, {'frame': 593, 'label': 'skis', 'confidence': np.float32(0.28736165), 'bbox': (np.float32(1088.6729), np.float32(513.2105), np.float32(1266.217), np.float32(596.85065)), 'referee': True}, {'frame': 594, 'label': 'person', 'confidence': np.float32(0.8975683), 'bbox': (np.float32(272.69818), np.float32(86.57352), np.float32(567.124), np.float32(520.21533)), 'team': 0, 'referee': True}, {'frame': 594, 'label': 'person', 'confidence': np.float32(0.87550265), 'bbox': (np.float32(673.6715), np.float32(211.6638), np.float32(938.5611), np.float32(695.94476)), 'referee': True}, {'frame': 594, 'label': 'person', 'confidence': np.float32(0.83204913), 'bbox': (np.float32(1043.4073), np.float32(15.2024765), np.float32(1266.9474), np.float32(417.3038)), 'team': 1, 'referee': True}, {'frame': 594, 'label': 'person', 'confidence': np.float32(0.6400622), 'bbox': (np.float32(852.23303), np.float32(222.42384), np.float32(990.9141), np.float32(535.4456)), 'referee': True}, {'frame': 594, 'label': 'baseball glove', 'confidence': np.float32(0.372192), 'bbox': (np.float32(502.28067), np.float32(267.54456), np.float32(568.1287), np.float32(322.18216)), 'team': 1}, {'frame': 594, 'label': 'skis', 'confidence': np.float32(0.2666238), 'bbox': (np.float32(1106.1627), np.float32(514.3981), np.float32(1265.9143), np.float32(586.75336))}, {'frame': 595, 'label': 'person', 'confidence': np.float32(0.9309905), 'bbox': (np.float32(265.96796), np.float32(91.56606), np.float32(570.7911), np.float32(535.8776)), 'team': 0, 'referee': True}, {'frame': 595, 'label': 'person', 'confidence': np.float32(0.8384291), 'bbox': (np.float32(1046.0828), np.float32(6.6642456), np.float32(1266.7167), np.float32(433.00238)), 'team': 1, 'referee': True}, {'frame': 595, 'label': 'person', 'confidence': np.float32(0.8244701), 'bbox': (np.float32(664.7816), np.float32(193.53484), np.float32(935.29144), np.float32(682.7815)), 'referee': True}, {'frame': 595, 'label': 'baseball bat', 'confidence': np.float32(0.4912055), 'bbox': (np.float32(559.4569), np.float32(294.803), np.float32(701.0178), np.float32(373.73267)), 'team': 1, 'referee': True}, {'frame': 595, 'label': 'person', 'confidence': np.float32(0.48859754), 'bbox': (np.float32(867.803), np.float32(218.24089), np.float32(1007.4674), np.float32(512.21234)), 'referee': True}, {'frame': 595, 'label': 'person', 'confidence': np.float32(0.25427434), 'bbox': (np.float32(881.06525), np.float32(221.9411), np.float32(983.3692), np.float32(378.97507))}, {'frame': 596, 'label': 'person', 'confidence': np.float32(0.9140437), 'bbox': (np.float32(270.78137), np.float32(88.30217), np.float32(573.0851), np.float32(538.0282)), 'team': 0, 'referee': True}, {'frame': 596, 'label': 'person', 'confidence': np.float32(0.8144562), 'bbox': (np.float32(1058.1846), np.float32(6.8069987), np.float32(1266.8993), np.float32(426.53503)), 'team': 1, 'referee': True}, {'frame': 596, 'label': 'person', 'confidence': np.float32(0.79624707), 'bbox': (np.float32(668.84576), np.float32(182.31389), np.float32(928.61615), np.float32(673.25037)), 'referee': True}, {'frame': 596, 'label': 'baseball bat', 'confidence': np.float32(0.54838085), 'bbox': (np.float32(876.83606), np.float32(426.588), np.float32(1034.7604), np.float32(534.12573)), 'referee': True}, {'frame': 596, 'label': 'baseball bat', 'confidence': np.float32(0.5269124), 'bbox': (np.float32(568.518), np.float32(297.12622), np.float32(701.6462), np.float32(361.00006)), 'team': 1, 'referee': True}, {'frame': 596, 'label': 'person', 'confidence': np.float32(0.48507693), 'bbox': (np.float32(860.7961), np.float32(219.02359), np.float32(1020.82294), np.float32(495.3605)), 'referee': True}, {'frame': 596, 'label': 'baseball glove', 'confidence': np.float32(0.4159998), 'bbox': (np.float32(510.7246), np.float32(269.94797), np.float32(577.57135), np.float32(320.39963)), 'team': 0}, {'frame': 597, 'label': 'person', 'confidence': np.float32(0.91506517), 'bbox': (np.float32(279.69678), np.float32(101.074196), np.float32(576.57355), np.float32(543.1163)), 'team': 0, 'referee': True}, {'frame': 597, 'label': 'person', 'confidence': np.float32(0.8767524), 'bbox': (np.float32(666.1725), np.float32(180.43863), np.float32(901.29614), np.float32(660.597)), 'referee': True}, {'frame': 597, 'label': 'person', 'confidence': np.float32(0.8532059), 'bbox': (np.float32(1112.5981), np.float32(8.342697), np.float32(1266.9485), np.float32(430.32083)), 'team': 1, 'referee': True}, {'frame': 597, 'label': 'person', 'confidence': np.float32(0.6579635), 'bbox': (np.float32(882.29156), np.float32(220.53557), np.float32(1061.3041), np.float32(516.43945)), 'referee': True}, {'frame': 597, 'label': 'skis', 'confidence': np.float32(0.47545934), 'bbox': (np.float32(1163.6888), np.float32(512.55786), np.float32(1267.4456), np.float32(556.0011)), 'team': 0}, {'frame': 597, 'label': 'baseball bat', 'confidence': np.float32(0.47043395), 'bbox': (np.float32(570.20245), np.float32(297.3875), np.float32(701.6407), np.float32(357.73062)), 'team': 1, 'referee': True}, {'frame': 597, 'label': 'baseball glove', 'confidence': np.float32(0.3553509), 'bbox': (np.float32(521.09845), np.float32(272.11847), np.float32(578.0392), np.float32(320.261)), 'team': 0}, {'frame': 597, 'label': 'baseball glove', 'confidence': np.float32(0.2738878), 'bbox': (np.float32(943.8479), np.float32(217.39455), np.float32(1017.1951), np.float32(322.82925))}, {'frame': 598, 'label': 'person', 'confidence': np.float32(0.89946043), 'bbox': (np.float32(665.7787), np.float32(175.7727), np.float32(902.54205), np.float32(645.0755)), 'referee': True}, {'frame': 598, 'label': 'person', 'confidence': np.float32(0.89925426), 'bbox': (np.float32(289.774), np.float32(103.36437), np.float32(578.5305), np.float32(540.3587)), 'team': 0, 'referee': True}, {'frame': 598, 'label': 'person', 'confidence': np.float32(0.8234834), 'bbox': (np.float32(1128.086), np.float32(6.8537216), np.float32(1267.1907), np.float32(420.97668)), 'team': 1, 'referee': True}, {'frame': 598, 'label': 'person', 'confidence': np.float32(0.7012409), 'bbox': (np.float32(882.0622), np.float32(221.41026), np.float32(1081.9773), np.float32(522.6434)), 'referee': True}, {'frame': 598, 'label': 'baseball bat', 'confidence': np.float32(0.2747767), 'bbox': (np.float32(569.0335), np.float32(299.37622), np.float32(687.79083), np.float32(350.96942)), 'team': 1}, {'frame': 598, 'label': 'skis', 'confidence': np.float32(0.26912355), 'bbox': (np.float32(1187.243), np.float32(504.7944), np.float32(1267.156), np.float32(543.93884))}, {'frame': 599, 'label': 'person', 'confidence': np.float32(0.90461344), 'bbox': (np.float32(659.9626), np.float32(163.56462), np.float32(898.59064), np.float32(628.4231)), 'referee': True}, {'frame': 599, 'label': 'person', 'confidence': np.float32(0.8827405), 'bbox': (np.float32(289.7811), np.float32(97.80149), np.float32(575.7414), np.float32(545.084)), 'team': 0, 'referee': True}, {'frame': 599, 'label': 'person', 'confidence': np.float32(0.79704875), 'bbox': (np.float32(1130.3628), np.float32(6.371499), np.float32(1267.0862), np.float32(430.74683)), 'team': 1, 'referee': True}, {'frame': 599, 'label': 'person', 'confidence': np.float32(0.77256155), 'bbox': (np.float32(875.8244), np.float32(222.94034), np.float32(1109.8439), np.float32(514.87036)), 'referee': True}, {'frame': 599, 'label': 'baseball bat', 'confidence': np.float32(0.5551296), 'bbox': (np.float32(573.2111), np.float32(297.11722), np.float32(695.8941), np.float32(348.17862)), 'team': 1}, {'frame': 599, 'label': 'baseball bat', 'confidence': np.float32(0.44950685), 'bbox': (np.float32(1205.7567), np.float32(493.39056), np.float32(1268.0), np.float32(532.509)), 'team': 0}, {'frame': 599, 'label': 'baseball glove', 'confidence': np.float32(0.37160656), 'bbox': (np.float32(522.4519), np.float32(276.57422), np.float32(574.93036), np.float32(321.61917)), 'team': 0}, {'frame': 599, 'label': 'baseball glove', 'confidence': np.float32(0.33241144), 'bbox': (np.float32(1056.0023), np.float32(304.48196), np.float32(1123.8079), np.float32(369.47595))}, {'frame': 600, 'label': 'person', 'confidence': np.float32(0.9036525), 'bbox': (np.float32(294.624), np.float32(108.00162), np.float32(570.659), np.float32(546.75134)), 'team': 0, 'referee': True}, {'frame': 600, 'label': 'person', 'confidence': np.float32(0.8895805), 'bbox': (np.float32(660.6799), np.float32(154.54941), np.float32(895.24176), np.float32(614.10803)), 'referee': True}, {'frame': 600, 'label': 'person', 'confidence': np.float32(0.83798677), 'bbox': (np.float32(1145.0948), np.float32(4.1046824), np.float32(1266.9681), np.float32(413.2378)), 'team': 1, 'referee': True}, {'frame': 600, 'label': 'person', 'confidence': np.float32(0.6255872), 'bbox': (np.float32(879.27496), np.float32(217.1868), np.float32(1147.8711), np.float32(487.09686)), 'team': 0, 'referee': True}, {'frame': 600, 'label': 'baseball bat', 'confidence': np.float32(0.3006692), 'bbox': (np.float32(567.72565), np.float32(295.83533), np.float32(690.78186), np.float32(335.2877)), 'team': 1}, {'frame': 600, 'label': 'baseball bat', 'confidence': np.float32(0.25047365), 'bbox': (np.float32(1223.7887), np.float32(483.4609), np.float32(1266.743), np.float32(517.96893)), 'team': 0}, {'frame': 601, 'label': 'person', 'confidence': np.float32(0.8979053), 'bbox': (np.float32(294.18204), np.float32(110.0755), np.float32(569.5581), np.float32(545.2814)), 'team': 0, 'referee': True}, {'frame': 601, 'label': 'person', 'confidence': np.float32(0.86869), 'bbox': (np.float32(649.0359), np.float32(144.17894), np.float32(895.7406), np.float32(599.5605)), 'team': 1, 'referee': True}, {'frame': 601, 'label': 'person', 'confidence': np.float32(0.7765006), 'bbox': (np.float32(1174.5205), np.float32(1.7236212), np.float32(1267.4185), np.float32(383.0464)), 'team': 1, 'referee': True}, {'frame': 601, 'label': 'person', 'confidence': np.float32(0.6712543), 'bbox': (np.float32(904.4465), np.float32(215.61629), np.float32(1188.4557), np.float32(480.18896)), 'team': 0, 'referee': True}, {'frame': 601, 'label': 'baseball glove', 'confidence': np.float32(0.27593717), 'bbox': (np.float32(911.10675), np.float32(342.498), np.float32(1002.4783), np.float32(421.95816))}, {'frame': 601, 'label': 'baseball glove', 'confidence': np.float32(0.2756628), 'bbox': (np.float32(1114.2084), np.float32(311.51608), np.float32(1214.011), np.float32(393.8809)), 'team': 0, 'referee': True}, {'frame': 602, 'label': 'person', 'confidence': np.float32(0.90218776), 'bbox': (np.float32(287.1145), np.float32(89.99311), np.float32(567.2718), np.float32(544.0572)), 'team': 0, 'referee': True}, {'frame': 602, 'label': 'person', 'confidence': np.float32(0.81025153), 'bbox': (np.float32(631.4485), np.float32(140.86932), np.float32(878.3589), np.float32(601.9608)), 'team': 1, 'referee': True}, {'frame': 602, 'label': 'person', 'confidence': np.float32(0.6770567), 'bbox': (np.float32(922.7895), np.float32(226.96135), np.float32(1169.1393), np.float32(472.48154)), 'referee': True}, {'frame': 602, 'label': 'person', 'confidence': np.float32(0.646041), 'bbox': (np.float32(1173.4252), np.float32(0.617255), np.float32(1266.9689), np.float32(364.1906)), 'team': 1, 'referee': True}, {'frame': 603, 'label': 'person', 'confidence': np.float32(0.8727128), 'bbox': (np.float32(284.62585), np.float32(87.3789), np.float32(566.3108), np.float32(538.36847)), 'team': 0, 'referee': True}, {'frame': 603, 'label': 'person', 'confidence': np.float32(0.8610873), 'bbox': (np.float32(631.186), np.float32(134.16502), np.float32(870.7604), np.float32(572.3778)), 'team': 1, 'referee': True}, {'frame': 603, 'label': 'person', 'confidence': np.float32(0.6238142), 'bbox': (np.float32(1169.1465), np.float32(0.0), np.float32(1267.1096), np.float32(374.0193)), 'team': 1, 'referee': True}, {'frame': 603, 'label': 'person', 'confidence': np.float32(0.60057414), 'bbox': (np.float32(935.57074), np.float32(221.76111), np.float32(1197.6726), np.float32(475.32596)), 'team': 0, 'referee': True}, {'frame': 603, 'label': 'person', 'confidence': np.float32(0.25082314), 'bbox': (np.float32(0.25973374), np.float32(4.8647094), np.float32(82.0292), np.float32(155.71867))}, {'frame': 604, 'label': 'person', 'confidence': np.float32(0.882842), 'bbox': (np.float32(621.283), np.float32(130.42998), np.float32(852.587), np.float32(560.86865)), 'team': 1, 'referee': True}, {'frame': 604, 'label': 'person', 'confidence': np.float32(0.84312963), 'bbox': (np.float32(279.8303), np.float32(84.28247), np.float32(568.26636), np.float32(542.81323)), 'team': 0, 'referee': True}, {'frame': 604, 'label': 'person', 'confidence': np.float32(0.56765807), 'bbox': (np.float32(962.5293), np.float32(211.35718), np.float32(1249.9695), np.float32(481.0536)), 'referee': True}, {'frame': 604, 'label': 'skateboard', 'confidence': np.float32(0.451787), 'bbox': (np.float32(1014.8221), np.float32(404.11948), np.float32(1193.6915), np.float32(547.5396)), 'referee': True}, {'frame': 604, 'label': 'person', 'confidence': np.float32(0.3207863), 'bbox': (np.float32(5.2877803), np.float32(1.1552317), np.float32(159.47092), np.float32(152.58714))}, {'frame': 604, 'label': 'person', 'confidence': np.float32(0.31442106), 'bbox': (np.float32(1197.2909), np.float32(3.549421), np.float32(1268.0), np.float32(344.1342)), 'team': 1, 'referee': True}, {'frame': 605, 'label': 'person', 'confidence': np.float32(0.8937735), 'bbox': (np.float32(273.13565), np.float32(75.47249), np.float32(568.12616), np.float32(539.9179)), 'team': 0, 'referee': True}, {'frame': 605, 'label': 'person', 'confidence': np.float32(0.8895148), 'bbox': (np.float32(615.1807), np.float32(129.8931), np.float32(844.03284), np.float32(548.0891)), 'team': 1, 'referee': True}, {'frame': 605, 'label': 'person', 'confidence': np.float32(0.7144041), 'bbox': (np.float32(971.746), np.float32(210.12912), np.float32(1255.4543), np.float32(479.77393)), 'referee': True}, {'frame': 605, 'label': 'person', 'confidence': np.float32(0.32700574), 'bbox': (np.float32(63.032955), np.float32(2.8847897), np.float32(183.29369), np.float32(141.87764))}, {'frame': 605, 'label': 'person', 'confidence': np.float32(0.31770444), 'bbox': (np.float32(1191.3317), np.float32(1.4883296), np.float32(1268.0), np.float32(359.9392)), 'team': 1, 'referee': True}, {'frame': 606, 'label': 'person', 'confidence': np.float32(0.90901744), 'bbox': (np.float32(263.05692), np.float32(84.171036), np.float32(562.48956), np.float32(537.6374)), 'team': 0, 'referee': True}, {'frame': 606, 'label': 'person', 'confidence': np.float32(0.89418536), 'bbox': (np.float32(605.12366), np.float32(127.735054), np.float32(827.1037), np.float32(539.3359)), 'team': 1, 'referee': True}, {'frame': 606, 'label': 'person', 'confidence': np.float32(0.4495332), 'bbox': (np.float32(973.86066), np.float32(158.87631), np.float32(1266.1486), np.float32(495.12686)), 'referee': True}, {'frame': 606, 'label': 'skateboard', 'confidence': np.float32(0.41589847), 'bbox': (np.float32(1076.4205), np.float32(412.4005), np.float32(1262.143), np.float32(545.4354)), 'referee': True}, {'frame': 606, 'label': 'person', 'confidence': np.float32(0.2975833), 'bbox': (np.float32(82.18005), np.float32(2.4353306), np.float32(191.1727), np.float32(146.02956))}, {'frame': 607, 'label': 'person', 'confidence': np.float32(0.8889928), 'bbox': (np.float32(266.52463), np.float32(88.285545), np.float32(559.55804), np.float32(541.20856)), 'team': 0, 'referee': True}, {'frame': 607, 'label': 'person', 'confidence': np.float32(0.88342047), 'bbox': (np.float32(598.31757), np.float32(124.64331), np.float32(817.92676), np.float32(533.089)), 'team': 0, 'referee': True}, {'frame': 607, 'label': 'person', 'confidence': np.float32(0.42214242), 'bbox': (np.float32(986.3386), np.float32(226.02458), np.float32(1261.7943), np.float32(484.84485)), 'referee': True}, {'frame': 607, 'label': 'person', 'confidence': np.float32(0.28750628), 'bbox': (np.float32(1188.4088), np.float32(43.190235), np.float32(1268.0), np.float32(330.92157)), 'team': 1, 'referee': True}, {'frame': 608, 'label': 'person', 'confidence': np.float32(0.8800852), 'bbox': (np.float32(281.74756), np.float32(91.84522), np.float32(561.366), np.float32(545.94635)), 'team': 0, 'referee': True}, {'frame': 608, 'label': 'person', 'confidence': np.float32(0.8748997), 'bbox': (np.float32(580.20087), np.float32(122.63249), np.float32(807.712), np.float32(524.0418)), 'team': 0, 'referee': True}, {'frame': 608, 'label': 'person', 'confidence': np.float32(0.45213655), 'bbox': (np.float32(980.0077), np.float32(220.23083), np.float32(1266.1141), np.float32(470.63763)), 'referee': True}, {'frame': 608, 'label': 'person', 'confidence': np.float32(0.43898535), 'bbox': (np.float32(95.54945), np.float32(9.722787), np.float32(214.94379), np.float32(150.16968))}, {'frame': 608, 'label': 'person', 'confidence': np.float32(0.32405213), 'bbox': (np.float32(5.003181), np.float32(16.839851), np.float32(193.70638), np.float32(158.18356)), 'referee': True}, {'frame': 609, 'label': 'person', 'confidence': np.float32(0.88229465), 'bbox': (np.float32(282.66318), np.float32(94.4375), np.float32(560.02295), np.float32(544.4095)), 'team': 0, 'referee': True}, {'frame': 609, 'label': 'person', 'confidence': np.float32(0.88113725), 'bbox': (np.float32(564.4851), np.float32(124.7808), np.float32(797.94977), np.float32(518.37897)), 'team': 0, 'referee': True}, {'frame': 609, 'label': 'person', 'confidence': np.float32(0.47385755), 'bbox': (np.float32(992.23517), np.float32(216.94109), np.float32(1267.8761), np.float32(458.50876)), 'referee': True}, {'frame': 609, 'label': 'person', 'confidence': np.float32(0.47087196), 'bbox': (np.float32(106.177345), np.float32(5.609908), np.float32(222.24203), np.float32(147.8225))}, {'frame': 609, 'label': 'skateboard', 'confidence': np.float32(0.34111875), 'bbox': (np.float32(1117.1178), np.float32(423.5358), np.float32(1268.0), np.float32(534.7411))}, {'frame': 609, 'label': 'snowboard', 'confidence': np.float32(0.324936), 'bbox': (np.float32(1112.069), np.float32(424.05914), np.float32(1267.313), np.float32(534.9873)), 'referee': True}, {'frame': 609, 'label': 'person', 'confidence': np.float32(0.2699925), 'bbox': (np.float32(262.92386), np.float32(0.0), np.float32(347.8831), np.float32(114.850426)), 'team': 1}, {'frame': 610, 'label': 'person', 'confidence': np.float32(0.89766), 'bbox': (np.float32(537.33636), np.float32(116.088615), np.float32(795.05365), np.float32(517.94336)), 'team': 0, 'referee': True}, {'frame': 610, 'label': 'person', 'confidence': np.float32(0.871308), 'bbox': (np.float32(276.58472), np.float32(103.76016), np.float32(553.4637), np.float32(539.319)), 'team': 1, 'referee': True}, {'frame': 610, 'label': 'person', 'confidence': np.float32(0.40776694), 'bbox': (np.float32(109.13185), np.float32(12.257311), np.float32(227.34546), np.float32(151.10416))}, {'frame': 610, 'label': 'person', 'confidence': np.float32(0.3285553), 'bbox': (np.float32(273.82147), np.float32(0.09684276), np.float32(378.8979), np.float32(113.571754)), 'team': 0, 'referee': True}, {'frame': 610, 'label': 'person', 'confidence': np.float32(0.32747194), 'bbox': (np.float32(968.10425), np.float32(225.17397), np.float32(1263.7012), np.float32(463.2588)), 'referee': True}, {'frame': 611, 'label': 'person', 'confidence': np.float32(0.8959782), 'bbox': (np.float32(526.19073), np.float32(105.314285), np.float32(781.2291), np.float32(517.1461)), 'team': 0, 'referee': True}, {'frame': 611, 'label': 'person', 'confidence': np.float32(0.87131923), 'bbox': (np.float32(257.55386), np.float32(108.549446), np.float32(543.60223), np.float32(541.04944)), 'team': 1, 'referee': True}, {'frame': 611, 'label': 'person', 'confidence': np.float32(0.35231096), 'bbox': (np.float32(107.08847), np.float32(9.060355), np.float32(231.72914), np.float32(150.40448))}, {'frame': 611, 'label': 'horse', 'confidence': np.float32(0.28206706), 'bbox': (np.float32(979.8358), np.float32(223.03882), np.float32(1266.8844), np.float32(482.4879)), 'referee': True}, {'frame': 611, 'label': 'person', 'confidence': np.float32(0.25218675), 'bbox': (np.float32(980.64734), np.float32(219.66714), np.float32(1266.048), np.float32(482.84988)), 'referee': True}, {'frame': 612, 'label': 'person', 'confidence': np.float32(0.8829586), 'bbox': (np.float32(249.66846), np.float32(112.44283), np.float32(527.1357), np.float32(535.56714)), 'team': 0, 'referee': True}, {'frame': 612, 'label': 'person', 'confidence': np.float32(0.87298805), 'bbox': (np.float32(502.38733), np.float32(96.328445), np.float32(768.9714), np.float32(517.3004)), 'team': 0, 'referee': True}, {'frame': 612, 'label': 'person', 'confidence': np.float32(0.33198696), 'bbox': (np.float32(107.83811), np.float32(13.370699), np.float32(233.3252), np.float32(150.58437))}, {'frame': 613, 'label': 'person', 'confidence': np.float32(0.885597), 'bbox': (np.float32(480.2125), np.float32(94.284584), np.float32(750.37213), np.float32(516.8934)), 'team': 0, 'referee': True}, {'frame': 613, 'label': 'person', 'confidence': np.float32(0.8101736), 'bbox': (np.float32(227.13507), np.float32(116.91253), np.float32(542.4069), np.float32(530.95483)), 'team': 0, 'referee': True}, {'frame': 613, 'label': 'baseball bat', 'confidence': np.float32(0.5066364), 'bbox': (np.float32(740.2758), np.float32(322.7802), np.float32(909.4906), np.float32(433.50952)), 'team': 1, 'referee': True}, {'frame': 613, 'label': 'person', 'confidence': np.float32(0.35679263), 'bbox': (np.float32(106.67756), np.float32(14.019012), np.float32(233.75868), np.float32(151.82129)), 'team': 1}, {'frame': 613, 'label': 'dog', 'confidence': np.float32(0.32881582), 'bbox': (np.float32(1050.976), np.float32(200.0618), np.float32(1267.2407), np.float32(476.3649)), 'referee': True}]\n"
     ]
    },
    {
     "name": "stderr",
     "output_type": "stream",
     "text": [
      "/home/prasanna-nage/.cache/torch/hub/ultralytics_yolov5_master/models/common.py:892: FutureWarning: `torch.cuda.amp.autocast(args...)` is deprecated. Please use `torch.amp.autocast('cuda', args...)` instead.\n",
      "  with amp.autocast(autocast):\n"
     ]
    }
   ],
   "source": [
    "import cv2\n",
    "import torch\n",
    "import os\n",
    "import numpy as np\n",
    "\n",
    "# Load YOLOv5 model (small version for faster processing)\n",
    "yolo_model = torch.hub.load('ultralytics/yolov5', 'yolov5s')  # You can also use 'yolov5m' or 'yolov5l' for larger models\n",
    "\n",
    "# Create a directory for saving frames if it doesn't exist\n",
    "if not os.path.exists('results/frames'):\n",
    "    os.makedirs('results/frames')\n",
    "\n",
    "# Function to detect entities (events) from the video\n",
    "def detect_entities(video_path):\n",
    "    # Initialize the video capture\n",
    "    cap = cv2.VideoCapture(video_path)\n",
    "    frame_count = 0\n",
    "    event_log = []\n",
    "\n",
    "    while True:\n",
    "        ret, frame = cap.read()\n",
    "        if not ret:\n",
    "            break\n",
    "\n",
    "        # Detect objects in the current frame using YOLO\n",
    "        results = yolo_model(frame)  # Perform detection\n",
    "        \n",
    "        # Check the type of result (depending on the YOLO version, the results could be a list or Results object)\n",
    "        if isinstance(results, list):  # In case of older YOLO versions, where result is a list\n",
    "            detections = results[0]  # Get the first detection result\n",
    "        else:  # For newer versions, the result is a Results object (like YOLOv5)\n",
    "            detections = results.xyxy[0].cpu().numpy()  # Get detections as a NumPy array\n",
    "        \n",
    "        # Process each detected object\n",
    "        for detection in detections:\n",
    "            x1, y1, x2, y2, conf, cls = detection\n",
    "            label = yolo_model.names[int(cls)]  # Get class label of detected object\n",
    "\n",
    "            # Check if the label is similar to \"baseball bat\" or \"sports equipment\" and classify it as a \"hockey stick\"\n",
    "            if label == \"baseball bat\" or label == \"sports ball\":  # Adjust this based on actual YOLO class\n",
    "                if is_hockey_stick(frame[int(y1):int(y2), int(x1):int(x2)]):  # Check if it looks like a hockey stick\n",
    "                    label = \"hockey stick\"  # Classify it as hockey stick\n",
    "            \n",
    "            # Log detected events with frame count, label, confidence, and bounding box\n",
    "            event_log.append({\n",
    "                'frame': frame_count,\n",
    "                'label': label,\n",
    "                'confidence': conf,\n",
    "                'bbox': (x1, y1, x2, y2)\n",
    "            })\n",
    "\n",
    "            # Detect teams and referees\n",
    "            team = classify_team(frame[int(y1):int(y2), int(x1):int(x2)])\n",
    "            is_referee = classify_referee(frame[int(y1):int(y2), int(x1):int(x2)])\n",
    "\n",
    "            # Add team and referee information to the event log\n",
    "            if team is not None:\n",
    "                event_log[-1]['team'] = team\n",
    "            if is_referee:\n",
    "                event_log[-1]['referee'] = True\n",
    "\n",
    "            # Draw bounding box around the detected object on the frame\n",
    "            color = (0, 255, 0)  # Default color (green) for objects\n",
    "            if team == 0:\n",
    "                color = (0, 0, 255)  # Team 1 (Blue)\n",
    "            elif team == 1:\n",
    "                color = (255, 0, 0)  # Team 2 (Red)\n",
    "            elif is_referee:\n",
    "                color = (255, 255, 255)  # Referee (White)\n",
    "\n",
    "            cv2.rectangle(frame, (int(x1), int(y1)), (int(x2), int(y2)), color, 2)  # Draw colored box\n",
    "            cv2.putText(frame, f'{label} {conf:.2f}', (int(x1), int(y1)-10), cv2.FONT_HERSHEY_SIMPLEX, 0.9, color, 2)\n",
    "\n",
    "        # Save the frame with bounding boxes\n",
    "        save_frame(frame, frame_count)\n",
    "\n",
    "        # Display the frame with bounding boxes\n",
    "        cv2.imshow(\"Detected Entities\", frame)\n",
    "        if cv2.waitKey(1) & 0xFF == ord('q'):  # Press 'q' to quit early\n",
    "            break\n",
    "        \n",
    "        frame_count += 1\n",
    "\n",
    "    cap.release()\n",
    "    cv2.destroyAllWindows()\n",
    "\n",
    "    return event_log\n",
    "\n",
    "# Function to save the frame with bounding boxes\n",
    "def save_frame(frame, frame_count):\n",
    "    output_frame_path = f\"results/frames/frame_{frame_count:04d}.jpg\"\n",
    "    cv2.imwrite(output_frame_path, frame)\n",
    "    print(f\"Saved frame {frame_count}.\")\n",
    "\n",
    "# Function to classify the team (based on color or other features)\n",
    "def classify_team(player_image):\n",
    "    # Convert the player image to HSV for easier color detection\n",
    "    hsv = cv2.cvtColor(player_image, cv2.COLOR_BGR2HSV)\n",
    "    \n",
    "    # Define color ranges for team detection\n",
    "    # Example: Team 1 (Blue) and Team 2 (Red)\n",
    "    team_1_lower = np.array([100, 150, 50])  # HSV range for blue color\n",
    "    team_1_upper = np.array([140, 255, 255])\n",
    "    team_2_lower = np.array([0, 120, 70])    # HSV range for red color\n",
    "    team_2_upper = np.array([10, 255, 255])\n",
    "    \n",
    "    # Mask to detect blue color (Team 1)\n",
    "    mask_team_1 = cv2.inRange(hsv, team_1_lower, team_1_upper)\n",
    "    # Mask to detect red color (Team 2)\n",
    "    mask_team_2 = cv2.inRange(hsv, team_2_lower, team_2_upper)\n",
    "\n",
    "    # Count the number of pixels that match each team color\n",
    "    if cv2.countNonZero(mask_team_1) > cv2.countNonZero(mask_team_2):\n",
    "        return 0  # Team 1 (Blue)\n",
    "    elif cv2.countNonZero(mask_team_2) > cv2.countNonZero(mask_team_1):\n",
    "        return 1  # Team 2 (Red)\n",
    "    else:\n",
    "        return None  # Undetermined (could be referees or other cases)\n",
    "\n",
    "# Function to classify if the detected player is a referee\n",
    "def classify_referee(player_image):\n",
    "    # Convert the player image to grayscale and apply edge detection\n",
    "    gray = cv2.cvtColor(player_image, cv2.COLOR_BGR2GRAY)\n",
    "    edges = cv2.Canny(gray, threshold1=100, threshold2=200)\n",
    "\n",
    "    # A simple heuristic: if there are a lot of edges (referee shirts often have more distinct lines)\n",
    "    if np.count_nonzero(edges) > 500:\n",
    "        return True  # Likely a referee\n",
    "    return False\n",
    "\n",
    "# Function to check if an object looks like a hockey stick (simple heuristic based on shape)\n",
    "def is_hockey_stick(obj_image):\n",
    "    # Check aspect ratio (hockey sticks are typically long and narrow)\n",
    "    height, width = obj_image.shape[:2]\n",
    "    aspect_ratio = width / height\n",
    "    \n",
    "    # A hockey stick should have an elongated shape (aspect ratio higher than a normal bat or other equipment)\n",
    "    if aspect_ratio > 4:  # You can adjust this threshold based on observations\n",
    "        return True\n",
    "    return False\n",
    "\n",
    "# Path to your video (update with your actual video file path)\n",
    "video_path = 'clip.mp4'\n",
    "\n",
    "print(\"Starting Entity Detection...\")\n",
    "event_log = detect_entities(video_path)\n",
    "print(\"Entity Detection Completed!\")\n",
    "print(\"Detected Events:\", event_log)\n"
   ]
  },
  {
   "cell_type": "code",
   "execution_count": null,
   "id": "0ab8886d-60fa-4801-9567-ce329f7084ba",
   "metadata": {},
   "outputs": [],
   "source": []
  }
 ],
 "metadata": {
  "kernelspec": {
   "display_name": "Python 3 (ipykernel)",
   "language": "python",
   "name": "python3"
  },
  "language_info": {
   "codemirror_mode": {
    "name": "ipython",
    "version": 3
   },
   "file_extension": ".py",
   "mimetype": "text/x-python",
   "name": "python",
   "nbconvert_exporter": "python",
   "pygments_lexer": "ipython3",
   "version": "3.12.3"
  }
 },
 "nbformat": 4,
 "nbformat_minor": 5
}
