{
 "cells": [
  {
   "cell_type": "code",
   "execution_count": 1,
   "id": "a1ef0f50-3076-4f28-8aab-014d6dcac96b",
   "metadata": {},
   "outputs": [],
   "source": [
    "import cv2\n",
    "import torch\n",
    "import os\n",
    "import numpy as np"
   ]
  },
  {
   "cell_type": "code",
   "execution_count": 2,
   "id": "6be93f9f-1e09-4718-8421-416f7637aa1e",
   "metadata": {},
   "outputs": [
    {
     "name": "stderr",
     "output_type": "stream",
     "text": [
      "Using cache found in /home/prasanna-nage/.cache/torch/hub/ultralytics_yolov5_master\n",
      "YOLOv5 🚀 2024-11-27 Python-3.12.3 torch-2.5.1+cu124 CPU\n",
      "\n",
      "Fusing layers... \n",
      "YOLOv5s summary: 213 layers, 7225885 parameters, 0 gradients, 16.4 GFLOPs\n",
      "Adding AutoShape... \n"
     ]
    }
   ],
   "source": [
    "# Load YOLOv5 model (small version for faster processing)\n",
    "yolo_model = torch.hub.load('ultralytics/yolov5', 'yolov5s')  # You can also use 'yolov5m' or 'yolov5l' for larger models\n",
    "\n",
    "# Create a directory for saving frames if it doesn't exist\n",
    "if not os.path.exists('results/frames'):\n",
    "    os.makedirs('results/frames')"
   ]
  },
  {
   "cell_type": "code",
   "execution_count": 3,
   "id": "71a7ec73-7660-4f55-8d1d-99e4b347002e",
   "metadata": {},
   "outputs": [],
   "source": [
    "def detect_entities(video_path):\n",
    "    # Initialize the video capture\n",
    "    cap = cv2.VideoCapture(video_path)\n",
    "    frame_count = 0\n",
    "    event_log = []\n",
    "\n",
    "    while True:\n",
    "        ret, frame = cap.read()\n",
    "        if not ret:\n",
    "            break\n",
    "\n",
    "        # Detect objects in the current frame using YOLO\n",
    "        results = yolo_model(frame)  # Perform detection\n",
    "        \n",
    "        # Check the type of result (depending on the YOLO version, the results could be a list or Results object)\n",
    "        if isinstance(results, list):  # In case of older YOLO versions, where result is a list\n",
    "            detections = results[0]  # Get the first detection result\n",
    "        else:  # For newer versions, the result is a Results object (like YOLOv5)\n",
    "            detections = results.xyxy[0].cpu().numpy()  # Get detections as a NumPy array\n",
    "        \n",
    "        # Process each detected object\n",
    "        for detection in detections:\n",
    "            x1, y1, x2, y2, conf, cls = detection\n",
    "            label = yolo_model.names[int(cls)]  # Get class label of detected object\n",
    "\n",
    "            # Check if the label is similar to \"baseball bat\" or \"sports equipment\" and classify it as a \"hockey stick\"\n",
    "            if label == \"baseball bat\" or label == \"sports ball\":  # Adjust this based on actual YOLO class\n",
    "                if is_hockey_stick(frame[int(y1):int(y2), int(x1):int(x2)]):  # Check if it looks like a hockey stick\n",
    "                    label = \"hockey stick\"  # Classify it as hockey stick\n",
    "            \n",
    "            # Log detected events with frame count, label, confidence, and bounding box\n",
    "            event_log.append({\n",
    "                'frame': frame_count,\n",
    "                'label': label,\n",
    "                'confidence': conf,\n",
    "                'bbox': (x1, y1, x2, y2)\n",
    "            })\n",
    "\n",
    "            # Detect teams and referees\n",
    "            team = classify_team(frame[int(y1):int(y2), int(x1):int(x2)])\n",
    "            is_referee = classify_referee(frame[int(y1):int(y2), int(x1):int(x2)])\n",
    "\n",
    "            # Add team and referee information to the event log\n",
    "            if team is not None:\n",
    "                event_log[-1]['team'] = team\n",
    "            if is_referee:\n",
    "                event_log[-1]['referee'] = True\n",
    "\n",
    "            # Draw bounding box around the detected object on the frame\n",
    "            color = (0, 255, 0)  # Default color (green) for objects\n",
    "            if team == 0:\n",
    "                color = (0, 0, 255)  # Team 1 (Blue)\n",
    "            elif team == 1:\n",
    "                color = (255, 0, 0)  # Team 2 (Red)\n",
    "            elif is_referee:\n",
    "                color = (255, 255, 255)  # Referee (White)\n",
    "\n",
    "            cv2.rectangle(frame, (int(x1), int(y1)), (int(x2), int(y2)), color, 2)  # Draw colored box\n",
    "            cv2.putText(frame, f'{label} {conf:.2f}', (int(x1), int(y1)-10), cv2.FONT_HERSHEY_SIMPLEX, 0.9, color, 2)\n",
    "\n",
    "        # Save the frame with bounding boxes\n",
    "        save_frame(frame, frame_count)\n",
    "\n",
    "        # Display the frame with bounding boxes\n",
    "        cv2.imshow(\"Detected Entities\", frame)\n",
    "        if cv2.waitKey(1) & 0xFF == ord('q'):  # Press 'q' to quit early\n",
    "            break\n",
    "        \n",
    "        frame_count += 1\n",
    "\n",
    "    cap.release()\n",
    "    cv2.destroyAllWindows()\n",
    "\n",
    "    return event_log"
   ]
  },
  {
   "cell_type": "code",
   "execution_count": 4,
   "id": "5b25323c-ecab-4641-aaa0-cadd00fd69ae",
   "metadata": {},
   "outputs": [],
   "source": [
    "# Function to save the frame with bounding boxes\n",
    "def save_frame(frame, frame_count):\n",
    "    output_frame_path = f\"results/frames/frame_{frame_count:04d}.jpg\"\n",
    "    cv2.imwrite(output_frame_path, frame)\n",
    "    print(f\"Saved frame {frame_count}.\")"
   ]
  },
  {
   "cell_type": "code",
   "execution_count": 5,
   "id": "d4d6eec5-fb12-474b-b598-94843346acaa",
   "metadata": {},
   "outputs": [],
   "source": [
    "def classify_team(player_image):\n",
    "    # Convert the player image to HSV for easier color detection\n",
    "    hsv = cv2.cvtColor(player_image, cv2.COLOR_BGR2HSV)\n",
    "    \n",
    "    # Define color ranges for team detection\n",
    "    # Example: Team 1 (Blue) and Team 2 (Red)\n",
    "    team_1_lower = np.array([100, 150, 50])  # HSV range for blue color\n",
    "    team_1_upper = np.array([140, 255, 255])\n",
    "    team_2_lower = np.array([0, 120, 70])    # HSV range for red color\n",
    "    team_2_upper = np.array([10, 255, 255])\n",
    "    \n",
    "    # Mask to detect blue color (Team 1)\n",
    "    mask_team_1 = cv2.inRange(hsv, team_1_lower, team_1_upper)\n",
    "    # Mask to detect red color (Team 2)\n",
    "    mask_team_2 = cv2.inRange(hsv, team_2_lower, team_2_upper)\n",
    "\n",
    "    # Count the number of pixels that match each team color\n",
    "    if cv2.countNonZero(mask_team_1) > cv2.countNonZero(mask_team_2):\n",
    "        return 0  # Team 1 (Blue)\n",
    "    elif cv2.countNonZero(mask_team_2) > cv2.countNonZero(mask_team_1):\n",
    "        return 1  # Team 2 (Red)\n",
    "    else:\n",
    "        return None  # Undetermined (could be referees or other cases)"
   ]
  },
  {
   "cell_type": "code",
   "execution_count": 6,
   "id": "e9940c70-4772-4601-934e-6f2bb9cc11ec",
   "metadata": {},
   "outputs": [],
   "source": [
    "# Function to classify if the detected player is a referee\n",
    "def classify_referee(player_image):\n",
    "    # Convert the player image to grayscale and apply edge detection\n",
    "    gray = cv2.cvtColor(player_image, cv2.COLOR_BGR2GRAY)\n",
    "    edges = cv2.Canny(gray, threshold1=100, threshold2=200)\n",
    "\n",
    "    # A simple heuristic: if there are a lot of edges (referee shirts often have more distinct lines)\n",
    "    if np.count_nonzero(edges) > 500:\n",
    "        return True  # Likely a referee\n",
    "    return False\n"
   ]
  },
  {
   "cell_type": "code",
   "execution_count": 7,
   "id": "85d9a4a7-f459-40b7-9e49-0c5624aeac0c",
   "metadata": {},
   "outputs": [],
   "source": [
    "# Function to check if an object looks like a hockey stick (simple heuristic based on shape)\n",
    "def is_hockey_stick(obj_image):\n",
    "    # Check aspect ratio (hockey sticks are typically long and narrow)\n",
    "    height, width = obj_image.shape[:2]\n",
    "    aspect_ratio = width / height\n",
    "    \n",
    "    # A hockey stick should have an elongated shape (aspect ratio higher than a normal bat or other equipment)\n",
    "    if aspect_ratio > 4:  # You can adjust this threshold based on observations\n",
    "        return True\n",
    "    return False"
   ]
  },
  {
   "cell_type": "code",
   "execution_count": 8,
   "id": "463c1345-4ebd-4967-b279-3752d3deaf6c",
   "metadata": {},
   "outputs": [
    {
     "name": "stdout",
     "output_type": "stream",
     "text": [
      "Starting Entity Detection...\n",
      "Saved frame 0.\n"
     ]
    },
    {
     "name": "stderr",
     "output_type": "stream",
     "text": [
      "/home/prasanna-nage/.cache/torch/hub/ultralytics_yolov5_master/models/common.py:892: FutureWarning: `torch.cuda.amp.autocast(args...)` is deprecated. Please use `torch.amp.autocast('cuda', args...)` instead.\n",
      "  with amp.autocast(autocast):\n",
      "Warning: Ignoring XDG_SESSION_TYPE=wayland on Gnome. Use QT_QPA_PLATFORM=wayland to run on Wayland anyway.\n",
      "/home/prasanna-nage/.cache/torch/hub/ultralytics_yolov5_master/models/common.py:892: FutureWarning: `torch.cuda.amp.autocast(args...)` is deprecated. Please use `torch.amp.autocast('cuda', args...)` instead.\n",
      "  with amp.autocast(autocast):\n"
     ]
    },
    {
     "name": "stdout",
     "output_type": "stream",
     "text": [
      "Saved frame 1.\n",
      "Saved frame 2.\n",
      "Saved frame 3.\n"
     ]
    },
    {
     "name": "stderr",
     "output_type": "stream",
     "text": [
      "/home/prasanna-nage/.cache/torch/hub/ultralytics_yolov5_master/models/common.py:892: FutureWarning: `torch.cuda.amp.autocast(args...)` is deprecated. Please use `torch.amp.autocast('cuda', args...)` instead.\n",
      "  with amp.autocast(autocast):\n",
      "/home/prasanna-nage/.cache/torch/hub/ultralytics_yolov5_master/models/common.py:892: FutureWarning: `torch.cuda.amp.autocast(args...)` is deprecated. Please use `torch.amp.autocast('cuda', args...)` instead.\n",
      "  with amp.autocast(autocast):\n",
      "/home/prasanna-nage/.cache/torch/hub/ultralytics_yolov5_master/models/common.py:892: FutureWarning: `torch.cuda.amp.autocast(args...)` is deprecated. Please use `torch.amp.autocast('cuda', args...)` instead.\n",
      "  with amp.autocast(autocast):\n"
     ]
    },
    {
     "name": "stdout",
     "output_type": "stream",
     "text": [
      "Saved frame 4.\n",
      "Saved frame 5.\n",
      "Saved frame 6.\n"
     ]
    },
    {
     "name": "stderr",
     "output_type": "stream",
     "text": [
      "/home/prasanna-nage/.cache/torch/hub/ultralytics_yolov5_master/models/common.py:892: FutureWarning: `torch.cuda.amp.autocast(args...)` is deprecated. Please use `torch.amp.autocast('cuda', args...)` instead.\n",
      "  with amp.autocast(autocast):\n",
      "/home/prasanna-nage/.cache/torch/hub/ultralytics_yolov5_master/models/common.py:892: FutureWarning: `torch.cuda.amp.autocast(args...)` is deprecated. Please use `torch.amp.autocast('cuda', args...)` instead.\n",
      "  with amp.autocast(autocast):\n",
      "/home/prasanna-nage/.cache/torch/hub/ultralytics_yolov5_master/models/common.py:892: FutureWarning: `torch.cuda.amp.autocast(args...)` is deprecated. Please use `torch.amp.autocast('cuda', args...)` instead.\n",
      "  with amp.autocast(autocast):\n"
     ]
    },
    {
     "name": "stdout",
     "output_type": "stream",
     "text": [
      "Saved frame 7.\n",
      "Saved frame 8.\n",
      "Saved frame 9.\n"
     ]
    },
    {
     "name": "stderr",
     "output_type": "stream",
     "text": [
      "/home/prasanna-nage/.cache/torch/hub/ultralytics_yolov5_master/models/common.py:892: FutureWarning: `torch.cuda.amp.autocast(args...)` is deprecated. Please use `torch.amp.autocast('cuda', args...)` instead.\n",
      "  with amp.autocast(autocast):\n",
      "/home/prasanna-nage/.cache/torch/hub/ultralytics_yolov5_master/models/common.py:892: FutureWarning: `torch.cuda.amp.autocast(args...)` is deprecated. Please use `torch.amp.autocast('cuda', args...)` instead.\n",
      "  with amp.autocast(autocast):\n",
      "/home/prasanna-nage/.cache/torch/hub/ultralytics_yolov5_master/models/common.py:892: FutureWarning: `torch.cuda.amp.autocast(args...)` is deprecated. Please use `torch.amp.autocast('cuda', args...)` instead.\n",
      "  with amp.autocast(autocast):\n"
     ]
    },
    {
     "name": "stdout",
     "output_type": "stream",
     "text": [
      "Saved frame 10.\n",
      "Saved frame 11.\n",
      "Saved frame 12.\n"
     ]
    },
    {
     "name": "stderr",
     "output_type": "stream",
     "text": [
      "/home/prasanna-nage/.cache/torch/hub/ultralytics_yolov5_master/models/common.py:892: FutureWarning: `torch.cuda.amp.autocast(args...)` is deprecated. Please use `torch.amp.autocast('cuda', args...)` instead.\n",
      "  with amp.autocast(autocast):\n",
      "/home/prasanna-nage/.cache/torch/hub/ultralytics_yolov5_master/models/common.py:892: FutureWarning: `torch.cuda.amp.autocast(args...)` is deprecated. Please use `torch.amp.autocast('cuda', args...)` instead.\n",
      "  with amp.autocast(autocast):\n",
      "/home/prasanna-nage/.cache/torch/hub/ultralytics_yolov5_master/models/common.py:892: FutureWarning: `torch.cuda.amp.autocast(args...)` is deprecated. Please use `torch.amp.autocast('cuda', args...)` instead.\n",
      "  with amp.autocast(autocast):\n"
     ]
    },
    {
     "name": "stdout",
     "output_type": "stream",
     "text": [
      "Saved frame 13.\n",
      "Saved frame 14.\n",
      "Saved frame 15.\n"
     ]
    },
    {
     "name": "stderr",
     "output_type": "stream",
     "text": [
      "/home/prasanna-nage/.cache/torch/hub/ultralytics_yolov5_master/models/common.py:892: FutureWarning: `torch.cuda.amp.autocast(args...)` is deprecated. Please use `torch.amp.autocast('cuda', args...)` instead.\n",
      "  with amp.autocast(autocast):\n",
      "/home/prasanna-nage/.cache/torch/hub/ultralytics_yolov5_master/models/common.py:892: FutureWarning: `torch.cuda.amp.autocast(args...)` is deprecated. Please use `torch.amp.autocast('cuda', args...)` instead.\n",
      "  with amp.autocast(autocast):\n",
      "/home/prasanna-nage/.cache/torch/hub/ultralytics_yolov5_master/models/common.py:892: FutureWarning: `torch.cuda.amp.autocast(args...)` is deprecated. Please use `torch.amp.autocast('cuda', args...)` instead.\n",
      "  with amp.autocast(autocast):\n"
     ]
    },
    {
     "name": "stdout",
     "output_type": "stream",
     "text": [
      "Saved frame 16.\n",
      "Saved frame 17.\n",
      "Saved frame 18.\n"
     ]
    },
    {
     "name": "stderr",
     "output_type": "stream",
     "text": [
      "/home/prasanna-nage/.cache/torch/hub/ultralytics_yolov5_master/models/common.py:892: FutureWarning: `torch.cuda.amp.autocast(args...)` is deprecated. Please use `torch.amp.autocast('cuda', args...)` instead.\n",
      "  with amp.autocast(autocast):\n",
      "/home/prasanna-nage/.cache/torch/hub/ultralytics_yolov5_master/models/common.py:892: FutureWarning: `torch.cuda.amp.autocast(args...)` is deprecated. Please use `torch.amp.autocast('cuda', args...)` instead.\n",
      "  with amp.autocast(autocast):\n",
      "/home/prasanna-nage/.cache/torch/hub/ultralytics_yolov5_master/models/common.py:892: FutureWarning: `torch.cuda.amp.autocast(args...)` is deprecated. Please use `torch.amp.autocast('cuda', args...)` instead.\n",
      "  with amp.autocast(autocast):\n"
     ]
    },
    {
     "name": "stdout",
     "output_type": "stream",
     "text": [
      "Saved frame 19.\n",
      "Saved frame 20.\n",
      "Saved frame 21.\n"
     ]
    },
    {
     "name": "stderr",
     "output_type": "stream",
     "text": [
      "/home/prasanna-nage/.cache/torch/hub/ultralytics_yolov5_master/models/common.py:892: FutureWarning: `torch.cuda.amp.autocast(args...)` is deprecated. Please use `torch.amp.autocast('cuda', args...)` instead.\n",
      "  with amp.autocast(autocast):\n",
      "/home/prasanna-nage/.cache/torch/hub/ultralytics_yolov5_master/models/common.py:892: FutureWarning: `torch.cuda.amp.autocast(args...)` is deprecated. Please use `torch.amp.autocast('cuda', args...)` instead.\n",
      "  with amp.autocast(autocast):\n",
      "/home/prasanna-nage/.cache/torch/hub/ultralytics_yolov5_master/models/common.py:892: FutureWarning: `torch.cuda.amp.autocast(args...)` is deprecated. Please use `torch.amp.autocast('cuda', args...)` instead.\n",
      "  with amp.autocast(autocast):\n"
     ]
    },
    {
     "name": "stdout",
     "output_type": "stream",
     "text": [
      "Saved frame 22.\n",
      "Saved frame 23.\n",
      "Saved frame 24.\n"
     ]
    },
    {
     "name": "stderr",
     "output_type": "stream",
     "text": [
      "/home/prasanna-nage/.cache/torch/hub/ultralytics_yolov5_master/models/common.py:892: FutureWarning: `torch.cuda.amp.autocast(args...)` is deprecated. Please use `torch.amp.autocast('cuda', args...)` instead.\n",
      "  with amp.autocast(autocast):\n",
      "/home/prasanna-nage/.cache/torch/hub/ultralytics_yolov5_master/models/common.py:892: FutureWarning: `torch.cuda.amp.autocast(args...)` is deprecated. Please use `torch.amp.autocast('cuda', args...)` instead.\n",
      "  with amp.autocast(autocast):\n",
      "/home/prasanna-nage/.cache/torch/hub/ultralytics_yolov5_master/models/common.py:892: FutureWarning: `torch.cuda.amp.autocast(args...)` is deprecated. Please use `torch.amp.autocast('cuda', args...)` instead.\n",
      "  with amp.autocast(autocast):\n"
     ]
    },
    {
     "name": "stdout",
     "output_type": "stream",
     "text": [
      "Saved frame 25.\n",
      "Saved frame 26.\n",
      "Saved frame 27.\n"
     ]
    },
    {
     "name": "stderr",
     "output_type": "stream",
     "text": [
      "/home/prasanna-nage/.cache/torch/hub/ultralytics_yolov5_master/models/common.py:892: FutureWarning: `torch.cuda.amp.autocast(args...)` is deprecated. Please use `torch.amp.autocast('cuda', args...)` instead.\n",
      "  with amp.autocast(autocast):\n",
      "/home/prasanna-nage/.cache/torch/hub/ultralytics_yolov5_master/models/common.py:892: FutureWarning: `torch.cuda.amp.autocast(args...)` is deprecated. Please use `torch.amp.autocast('cuda', args...)` instead.\n",
      "  with amp.autocast(autocast):\n",
      "/home/prasanna-nage/.cache/torch/hub/ultralytics_yolov5_master/models/common.py:892: FutureWarning: `torch.cuda.amp.autocast(args...)` is deprecated. Please use `torch.amp.autocast('cuda', args...)` instead.\n",
      "  with amp.autocast(autocast):\n"
     ]
    },
    {
     "name": "stdout",
     "output_type": "stream",
     "text": [
      "Saved frame 28.\n",
      "Saved frame 29.\n",
      "Saved frame 30.\n"
     ]
    },
    {
     "name": "stderr",
     "output_type": "stream",
     "text": [
      "/home/prasanna-nage/.cache/torch/hub/ultralytics_yolov5_master/models/common.py:892: FutureWarning: `torch.cuda.amp.autocast(args...)` is deprecated. Please use `torch.amp.autocast('cuda', args...)` instead.\n",
      "  with amp.autocast(autocast):\n",
      "/home/prasanna-nage/.cache/torch/hub/ultralytics_yolov5_master/models/common.py:892: FutureWarning: `torch.cuda.amp.autocast(args...)` is deprecated. Please use `torch.amp.autocast('cuda', args...)` instead.\n",
      "  with amp.autocast(autocast):\n",
      "/home/prasanna-nage/.cache/torch/hub/ultralytics_yolov5_master/models/common.py:892: FutureWarning: `torch.cuda.amp.autocast(args...)` is deprecated. Please use `torch.amp.autocast('cuda', args...)` instead.\n",
      "  with amp.autocast(autocast):\n"
     ]
    },
    {
     "name": "stdout",
     "output_type": "stream",
     "text": [
      "Saved frame 31.\n",
      "Saved frame 32.\n",
      "Saved frame 33.\n"
     ]
    },
    {
     "name": "stderr",
     "output_type": "stream",
     "text": [
      "/home/prasanna-nage/.cache/torch/hub/ultralytics_yolov5_master/models/common.py:892: FutureWarning: `torch.cuda.amp.autocast(args...)` is deprecated. Please use `torch.amp.autocast('cuda', args...)` instead.\n",
      "  with amp.autocast(autocast):\n",
      "/home/prasanna-nage/.cache/torch/hub/ultralytics_yolov5_master/models/common.py:892: FutureWarning: `torch.cuda.amp.autocast(args...)` is deprecated. Please use `torch.amp.autocast('cuda', args...)` instead.\n",
      "  with amp.autocast(autocast):\n",
      "/home/prasanna-nage/.cache/torch/hub/ultralytics_yolov5_master/models/common.py:892: FutureWarning: `torch.cuda.amp.autocast(args...)` is deprecated. Please use `torch.amp.autocast('cuda', args...)` instead.\n",
      "  with amp.autocast(autocast):\n"
     ]
    },
    {
     "name": "stdout",
     "output_type": "stream",
     "text": [
      "Saved frame 34.\n",
      "Saved frame 35.\n",
      "Saved frame 36.\n"
     ]
    },
    {
     "name": "stderr",
     "output_type": "stream",
     "text": [
      "/home/prasanna-nage/.cache/torch/hub/ultralytics_yolov5_master/models/common.py:892: FutureWarning: `torch.cuda.amp.autocast(args...)` is deprecated. Please use `torch.amp.autocast('cuda', args...)` instead.\n",
      "  with amp.autocast(autocast):\n",
      "/home/prasanna-nage/.cache/torch/hub/ultralytics_yolov5_master/models/common.py:892: FutureWarning: `torch.cuda.amp.autocast(args...)` is deprecated. Please use `torch.amp.autocast('cuda', args...)` instead.\n",
      "  with amp.autocast(autocast):\n",
      "/home/prasanna-nage/.cache/torch/hub/ultralytics_yolov5_master/models/common.py:892: FutureWarning: `torch.cuda.amp.autocast(args...)` is deprecated. Please use `torch.amp.autocast('cuda', args...)` instead.\n",
      "  with amp.autocast(autocast):\n"
     ]
    },
    {
     "name": "stdout",
     "output_type": "stream",
     "text": [
      "Saved frame 37.\n",
      "Saved frame 38.\n",
      "Saved frame 39.\n"
     ]
    },
    {
     "name": "stderr",
     "output_type": "stream",
     "text": [
      "/home/prasanna-nage/.cache/torch/hub/ultralytics_yolov5_master/models/common.py:892: FutureWarning: `torch.cuda.amp.autocast(args...)` is deprecated. Please use `torch.amp.autocast('cuda', args...)` instead.\n",
      "  with amp.autocast(autocast):\n",
      "/home/prasanna-nage/.cache/torch/hub/ultralytics_yolov5_master/models/common.py:892: FutureWarning: `torch.cuda.amp.autocast(args...)` is deprecated. Please use `torch.amp.autocast('cuda', args...)` instead.\n",
      "  with amp.autocast(autocast):\n",
      "/home/prasanna-nage/.cache/torch/hub/ultralytics_yolov5_master/models/common.py:892: FutureWarning: `torch.cuda.amp.autocast(args...)` is deprecated. Please use `torch.amp.autocast('cuda', args...)` instead.\n",
      "  with amp.autocast(autocast):\n"
     ]
    },
    {
     "name": "stdout",
     "output_type": "stream",
     "text": [
      "Saved frame 40.\n",
      "Saved frame 41.\n",
      "Saved frame 42.\n"
     ]
    },
    {
     "name": "stderr",
     "output_type": "stream",
     "text": [
      "/home/prasanna-nage/.cache/torch/hub/ultralytics_yolov5_master/models/common.py:892: FutureWarning: `torch.cuda.amp.autocast(args...)` is deprecated. Please use `torch.amp.autocast('cuda', args...)` instead.\n",
      "  with amp.autocast(autocast):\n",
      "/home/prasanna-nage/.cache/torch/hub/ultralytics_yolov5_master/models/common.py:892: FutureWarning: `torch.cuda.amp.autocast(args...)` is deprecated. Please use `torch.amp.autocast('cuda', args...)` instead.\n",
      "  with amp.autocast(autocast):\n",
      "/home/prasanna-nage/.cache/torch/hub/ultralytics_yolov5_master/models/common.py:892: FutureWarning: `torch.cuda.amp.autocast(args...)` is deprecated. Please use `torch.amp.autocast('cuda', args...)` instead.\n",
      "  with amp.autocast(autocast):\n"
     ]
    },
    {
     "name": "stdout",
     "output_type": "stream",
     "text": [
      "Saved frame 43.\n",
      "Saved frame 44.\n",
      "Saved frame 45.\n"
     ]
    },
    {
     "name": "stderr",
     "output_type": "stream",
     "text": [
      "/home/prasanna-nage/.cache/torch/hub/ultralytics_yolov5_master/models/common.py:892: FutureWarning: `torch.cuda.amp.autocast(args...)` is deprecated. Please use `torch.amp.autocast('cuda', args...)` instead.\n",
      "  with amp.autocast(autocast):\n",
      "/home/prasanna-nage/.cache/torch/hub/ultralytics_yolov5_master/models/common.py:892: FutureWarning: `torch.cuda.amp.autocast(args...)` is deprecated. Please use `torch.amp.autocast('cuda', args...)` instead.\n",
      "  with amp.autocast(autocast):\n",
      "/home/prasanna-nage/.cache/torch/hub/ultralytics_yolov5_master/models/common.py:892: FutureWarning: `torch.cuda.amp.autocast(args...)` is deprecated. Please use `torch.amp.autocast('cuda', args...)` instead.\n",
      "  with amp.autocast(autocast):\n"
     ]
    },
    {
     "name": "stdout",
     "output_type": "stream",
     "text": [
      "Saved frame 46.\n",
      "Saved frame 47.\n",
      "Saved frame 48.\n"
     ]
    },
    {
     "name": "stderr",
     "output_type": "stream",
     "text": [
      "/home/prasanna-nage/.cache/torch/hub/ultralytics_yolov5_master/models/common.py:892: FutureWarning: `torch.cuda.amp.autocast(args...)` is deprecated. Please use `torch.amp.autocast('cuda', args...)` instead.\n",
      "  with amp.autocast(autocast):\n",
      "/home/prasanna-nage/.cache/torch/hub/ultralytics_yolov5_master/models/common.py:892: FutureWarning: `torch.cuda.amp.autocast(args...)` is deprecated. Please use `torch.amp.autocast('cuda', args...)` instead.\n",
      "  with amp.autocast(autocast):\n",
      "/home/prasanna-nage/.cache/torch/hub/ultralytics_yolov5_master/models/common.py:892: FutureWarning: `torch.cuda.amp.autocast(args...)` is deprecated. Please use `torch.amp.autocast('cuda', args...)` instead.\n",
      "  with amp.autocast(autocast):\n"
     ]
    },
    {
     "name": "stdout",
     "output_type": "stream",
     "text": [
      "Saved frame 49.\n",
      "Saved frame 50.\n",
      "Saved frame 51.\n"
     ]
    },
    {
     "name": "stderr",
     "output_type": "stream",
     "text": [
      "/home/prasanna-nage/.cache/torch/hub/ultralytics_yolov5_master/models/common.py:892: FutureWarning: `torch.cuda.amp.autocast(args...)` is deprecated. Please use `torch.amp.autocast('cuda', args...)` instead.\n",
      "  with amp.autocast(autocast):\n",
      "/home/prasanna-nage/.cache/torch/hub/ultralytics_yolov5_master/models/common.py:892: FutureWarning: `torch.cuda.amp.autocast(args...)` is deprecated. Please use `torch.amp.autocast('cuda', args...)` instead.\n",
      "  with amp.autocast(autocast):\n",
      "/home/prasanna-nage/.cache/torch/hub/ultralytics_yolov5_master/models/common.py:892: FutureWarning: `torch.cuda.amp.autocast(args...)` is deprecated. Please use `torch.amp.autocast('cuda', args...)` instead.\n",
      "  with amp.autocast(autocast):\n"
     ]
    },
    {
     "name": "stdout",
     "output_type": "stream",
     "text": [
      "Saved frame 52.\n",
      "Saved frame 53.\n",
      "Saved frame 54.\n"
     ]
    },
    {
     "name": "stderr",
     "output_type": "stream",
     "text": [
      "/home/prasanna-nage/.cache/torch/hub/ultralytics_yolov5_master/models/common.py:892: FutureWarning: `torch.cuda.amp.autocast(args...)` is deprecated. Please use `torch.amp.autocast('cuda', args...)` instead.\n",
      "  with amp.autocast(autocast):\n",
      "/home/prasanna-nage/.cache/torch/hub/ultralytics_yolov5_master/models/common.py:892: FutureWarning: `torch.cuda.amp.autocast(args...)` is deprecated. Please use `torch.amp.autocast('cuda', args...)` instead.\n",
      "  with amp.autocast(autocast):\n",
      "/home/prasanna-nage/.cache/torch/hub/ultralytics_yolov5_master/models/common.py:892: FutureWarning: `torch.cuda.amp.autocast(args...)` is deprecated. Please use `torch.amp.autocast('cuda', args...)` instead.\n",
      "  with amp.autocast(autocast):\n"
     ]
    },
    {
     "name": "stdout",
     "output_type": "stream",
     "text": [
      "Saved frame 55.\n",
      "Saved frame 56.\n",
      "Saved frame 57.\n"
     ]
    },
    {
     "name": "stderr",
     "output_type": "stream",
     "text": [
      "/home/prasanna-nage/.cache/torch/hub/ultralytics_yolov5_master/models/common.py:892: FutureWarning: `torch.cuda.amp.autocast(args...)` is deprecated. Please use `torch.amp.autocast('cuda', args...)` instead.\n",
      "  with amp.autocast(autocast):\n",
      "/home/prasanna-nage/.cache/torch/hub/ultralytics_yolov5_master/models/common.py:892: FutureWarning: `torch.cuda.amp.autocast(args...)` is deprecated. Please use `torch.amp.autocast('cuda', args...)` instead.\n",
      "  with amp.autocast(autocast):\n",
      "/home/prasanna-nage/.cache/torch/hub/ultralytics_yolov5_master/models/common.py:892: FutureWarning: `torch.cuda.amp.autocast(args...)` is deprecated. Please use `torch.amp.autocast('cuda', args...)` instead.\n",
      "  with amp.autocast(autocast):\n"
     ]
    },
    {
     "name": "stdout",
     "output_type": "stream",
     "text": [
      "Saved frame 58.\n",
      "Saved frame 59.\n",
      "Saved frame 60.\n"
     ]
    },
    {
     "name": "stderr",
     "output_type": "stream",
     "text": [
      "/home/prasanna-nage/.cache/torch/hub/ultralytics_yolov5_master/models/common.py:892: FutureWarning: `torch.cuda.amp.autocast(args...)` is deprecated. Please use `torch.amp.autocast('cuda', args...)` instead.\n",
      "  with amp.autocast(autocast):\n",
      "/home/prasanna-nage/.cache/torch/hub/ultralytics_yolov5_master/models/common.py:892: FutureWarning: `torch.cuda.amp.autocast(args...)` is deprecated. Please use `torch.amp.autocast('cuda', args...)` instead.\n",
      "  with amp.autocast(autocast):\n",
      "/home/prasanna-nage/.cache/torch/hub/ultralytics_yolov5_master/models/common.py:892: FutureWarning: `torch.cuda.amp.autocast(args...)` is deprecated. Please use `torch.amp.autocast('cuda', args...)` instead.\n",
      "  with amp.autocast(autocast):\n"
     ]
    },
    {
     "name": "stdout",
     "output_type": "stream",
     "text": [
      "Saved frame 61.\n",
      "Saved frame 62.\n",
      "Saved frame 63.\n"
     ]
    },
    {
     "name": "stderr",
     "output_type": "stream",
     "text": [
      "/home/prasanna-nage/.cache/torch/hub/ultralytics_yolov5_master/models/common.py:892: FutureWarning: `torch.cuda.amp.autocast(args...)` is deprecated. Please use `torch.amp.autocast('cuda', args...)` instead.\n",
      "  with amp.autocast(autocast):\n",
      "/home/prasanna-nage/.cache/torch/hub/ultralytics_yolov5_master/models/common.py:892: FutureWarning: `torch.cuda.amp.autocast(args...)` is deprecated. Please use `torch.amp.autocast('cuda', args...)` instead.\n",
      "  with amp.autocast(autocast):\n",
      "/home/prasanna-nage/.cache/torch/hub/ultralytics_yolov5_master/models/common.py:892: FutureWarning: `torch.cuda.amp.autocast(args...)` is deprecated. Please use `torch.amp.autocast('cuda', args...)` instead.\n",
      "  with amp.autocast(autocast):\n"
     ]
    },
    {
     "name": "stdout",
     "output_type": "stream",
     "text": [
      "Saved frame 64.\n"
     ]
    },
    {
     "name": "stderr",
     "output_type": "stream",
     "text": [
      "/home/prasanna-nage/.cache/torch/hub/ultralytics_yolov5_master/models/common.py:892: FutureWarning: `torch.cuda.amp.autocast(args...)` is deprecated. Please use `torch.amp.autocast('cuda', args...)` instead.\n",
      "  with amp.autocast(autocast):\n"
     ]
    },
    {
     "name": "stdout",
     "output_type": "stream",
     "text": [
      "Saved frame 65.\n",
      "Saved frame 66.\n",
      "Saved frame 67.\n"
     ]
    },
    {
     "name": "stderr",
     "output_type": "stream",
     "text": [
      "/home/prasanna-nage/.cache/torch/hub/ultralytics_yolov5_master/models/common.py:892: FutureWarning: `torch.cuda.amp.autocast(args...)` is deprecated. Please use `torch.amp.autocast('cuda', args...)` instead.\n",
      "  with amp.autocast(autocast):\n",
      "/home/prasanna-nage/.cache/torch/hub/ultralytics_yolov5_master/models/common.py:892: FutureWarning: `torch.cuda.amp.autocast(args...)` is deprecated. Please use `torch.amp.autocast('cuda', args...)` instead.\n",
      "  with amp.autocast(autocast):\n",
      "/home/prasanna-nage/.cache/torch/hub/ultralytics_yolov5_master/models/common.py:892: FutureWarning: `torch.cuda.amp.autocast(args...)` is deprecated. Please use `torch.amp.autocast('cuda', args...)` instead.\n",
      "  with amp.autocast(autocast):\n"
     ]
    },
    {
     "name": "stdout",
     "output_type": "stream",
     "text": [
      "Saved frame 68.\n",
      "Saved frame 69.\n",
      "Saved frame 70.\n"
     ]
    },
    {
     "name": "stderr",
     "output_type": "stream",
     "text": [
      "/home/prasanna-nage/.cache/torch/hub/ultralytics_yolov5_master/models/common.py:892: FutureWarning: `torch.cuda.amp.autocast(args...)` is deprecated. Please use `torch.amp.autocast('cuda', args...)` instead.\n",
      "  with amp.autocast(autocast):\n",
      "/home/prasanna-nage/.cache/torch/hub/ultralytics_yolov5_master/models/common.py:892: FutureWarning: `torch.cuda.amp.autocast(args...)` is deprecated. Please use `torch.amp.autocast('cuda', args...)` instead.\n",
      "  with amp.autocast(autocast):\n",
      "/home/prasanna-nage/.cache/torch/hub/ultralytics_yolov5_master/models/common.py:892: FutureWarning: `torch.cuda.amp.autocast(args...)` is deprecated. Please use `torch.amp.autocast('cuda', args...)` instead.\n",
      "  with amp.autocast(autocast):\n"
     ]
    },
    {
     "name": "stdout",
     "output_type": "stream",
     "text": [
      "Saved frame 71.\n",
      "Saved frame 72.\n",
      "Saved frame 73.\n"
     ]
    },
    {
     "name": "stderr",
     "output_type": "stream",
     "text": [
      "/home/prasanna-nage/.cache/torch/hub/ultralytics_yolov5_master/models/common.py:892: FutureWarning: `torch.cuda.amp.autocast(args...)` is deprecated. Please use `torch.amp.autocast('cuda', args...)` instead.\n",
      "  with amp.autocast(autocast):\n",
      "/home/prasanna-nage/.cache/torch/hub/ultralytics_yolov5_master/models/common.py:892: FutureWarning: `torch.cuda.amp.autocast(args...)` is deprecated. Please use `torch.amp.autocast('cuda', args...)` instead.\n",
      "  with amp.autocast(autocast):\n",
      "/home/prasanna-nage/.cache/torch/hub/ultralytics_yolov5_master/models/common.py:892: FutureWarning: `torch.cuda.amp.autocast(args...)` is deprecated. Please use `torch.amp.autocast('cuda', args...)` instead.\n",
      "  with amp.autocast(autocast):\n"
     ]
    },
    {
     "name": "stdout",
     "output_type": "stream",
     "text": [
      "Saved frame 74.\n",
      "Saved frame 75.\n",
      "Saved frame 76.\n"
     ]
    },
    {
     "name": "stderr",
     "output_type": "stream",
     "text": [
      "/home/prasanna-nage/.cache/torch/hub/ultralytics_yolov5_master/models/common.py:892: FutureWarning: `torch.cuda.amp.autocast(args...)` is deprecated. Please use `torch.amp.autocast('cuda', args...)` instead.\n",
      "  with amp.autocast(autocast):\n",
      "/home/prasanna-nage/.cache/torch/hub/ultralytics_yolov5_master/models/common.py:892: FutureWarning: `torch.cuda.amp.autocast(args...)` is deprecated. Please use `torch.amp.autocast('cuda', args...)` instead.\n",
      "  with amp.autocast(autocast):\n",
      "/home/prasanna-nage/.cache/torch/hub/ultralytics_yolov5_master/models/common.py:892: FutureWarning: `torch.cuda.amp.autocast(args...)` is deprecated. Please use `torch.amp.autocast('cuda', args...)` instead.\n",
      "  with amp.autocast(autocast):\n"
     ]
    },
    {
     "name": "stdout",
     "output_type": "stream",
     "text": [
      "Saved frame 77.\n",
      "Saved frame 78.\n",
      "Saved frame 79.\n"
     ]
    },
    {
     "name": "stderr",
     "output_type": "stream",
     "text": [
      "/home/prasanna-nage/.cache/torch/hub/ultralytics_yolov5_master/models/common.py:892: FutureWarning: `torch.cuda.amp.autocast(args...)` is deprecated. Please use `torch.amp.autocast('cuda', args...)` instead.\n",
      "  with amp.autocast(autocast):\n",
      "/home/prasanna-nage/.cache/torch/hub/ultralytics_yolov5_master/models/common.py:892: FutureWarning: `torch.cuda.amp.autocast(args...)` is deprecated. Please use `torch.amp.autocast('cuda', args...)` instead.\n",
      "  with amp.autocast(autocast):\n",
      "/home/prasanna-nage/.cache/torch/hub/ultralytics_yolov5_master/models/common.py:892: FutureWarning: `torch.cuda.amp.autocast(args...)` is deprecated. Please use `torch.amp.autocast('cuda', args...)` instead.\n",
      "  with amp.autocast(autocast):\n"
     ]
    },
    {
     "name": "stdout",
     "output_type": "stream",
     "text": [
      "Saved frame 80.\n",
      "Saved frame 81.\n",
      "Saved frame 82.\n"
     ]
    },
    {
     "name": "stderr",
     "output_type": "stream",
     "text": [
      "/home/prasanna-nage/.cache/torch/hub/ultralytics_yolov5_master/models/common.py:892: FutureWarning: `torch.cuda.amp.autocast(args...)` is deprecated. Please use `torch.amp.autocast('cuda', args...)` instead.\n",
      "  with amp.autocast(autocast):\n",
      "/home/prasanna-nage/.cache/torch/hub/ultralytics_yolov5_master/models/common.py:892: FutureWarning: `torch.cuda.amp.autocast(args...)` is deprecated. Please use `torch.amp.autocast('cuda', args...)` instead.\n",
      "  with amp.autocast(autocast):\n",
      "/home/prasanna-nage/.cache/torch/hub/ultralytics_yolov5_master/models/common.py:892: FutureWarning: `torch.cuda.amp.autocast(args...)` is deprecated. Please use `torch.amp.autocast('cuda', args...)` instead.\n",
      "  with amp.autocast(autocast):\n"
     ]
    },
    {
     "name": "stdout",
     "output_type": "stream",
     "text": [
      "Saved frame 83.\n",
      "Saved frame 84.\n",
      "Saved frame 85.\n"
     ]
    },
    {
     "name": "stderr",
     "output_type": "stream",
     "text": [
      "/home/prasanna-nage/.cache/torch/hub/ultralytics_yolov5_master/models/common.py:892: FutureWarning: `torch.cuda.amp.autocast(args...)` is deprecated. Please use `torch.amp.autocast('cuda', args...)` instead.\n",
      "  with amp.autocast(autocast):\n",
      "/home/prasanna-nage/.cache/torch/hub/ultralytics_yolov5_master/models/common.py:892: FutureWarning: `torch.cuda.amp.autocast(args...)` is deprecated. Please use `torch.amp.autocast('cuda', args...)` instead.\n",
      "  with amp.autocast(autocast):\n",
      "/home/prasanna-nage/.cache/torch/hub/ultralytics_yolov5_master/models/common.py:892: FutureWarning: `torch.cuda.amp.autocast(args...)` is deprecated. Please use `torch.amp.autocast('cuda', args...)` instead.\n",
      "  with amp.autocast(autocast):\n"
     ]
    },
    {
     "name": "stdout",
     "output_type": "stream",
     "text": [
      "Saved frame 86.\n",
      "Saved frame 87.\n",
      "Saved frame 88.\n"
     ]
    },
    {
     "name": "stderr",
     "output_type": "stream",
     "text": [
      "/home/prasanna-nage/.cache/torch/hub/ultralytics_yolov5_master/models/common.py:892: FutureWarning: `torch.cuda.amp.autocast(args...)` is deprecated. Please use `torch.amp.autocast('cuda', args...)` instead.\n",
      "  with amp.autocast(autocast):\n",
      "/home/prasanna-nage/.cache/torch/hub/ultralytics_yolov5_master/models/common.py:892: FutureWarning: `torch.cuda.amp.autocast(args...)` is deprecated. Please use `torch.amp.autocast('cuda', args...)` instead.\n",
      "  with amp.autocast(autocast):\n",
      "/home/prasanna-nage/.cache/torch/hub/ultralytics_yolov5_master/models/common.py:892: FutureWarning: `torch.cuda.amp.autocast(args...)` is deprecated. Please use `torch.amp.autocast('cuda', args...)` instead.\n",
      "  with amp.autocast(autocast):\n"
     ]
    },
    {
     "name": "stdout",
     "output_type": "stream",
     "text": [
      "Saved frame 89.\n",
      "Saved frame 90.\n",
      "Saved frame 91.\n"
     ]
    },
    {
     "name": "stderr",
     "output_type": "stream",
     "text": [
      "/home/prasanna-nage/.cache/torch/hub/ultralytics_yolov5_master/models/common.py:892: FutureWarning: `torch.cuda.amp.autocast(args...)` is deprecated. Please use `torch.amp.autocast('cuda', args...)` instead.\n",
      "  with amp.autocast(autocast):\n",
      "/home/prasanna-nage/.cache/torch/hub/ultralytics_yolov5_master/models/common.py:892: FutureWarning: `torch.cuda.amp.autocast(args...)` is deprecated. Please use `torch.amp.autocast('cuda', args...)` instead.\n",
      "  with amp.autocast(autocast):\n",
      "/home/prasanna-nage/.cache/torch/hub/ultralytics_yolov5_master/models/common.py:892: FutureWarning: `torch.cuda.amp.autocast(args...)` is deprecated. Please use `torch.amp.autocast('cuda', args...)` instead.\n",
      "  with amp.autocast(autocast):\n"
     ]
    },
    {
     "name": "stdout",
     "output_type": "stream",
     "text": [
      "Saved frame 92.\n",
      "Saved frame 93.\n",
      "Saved frame 94.\n"
     ]
    },
    {
     "name": "stderr",
     "output_type": "stream",
     "text": [
      "/home/prasanna-nage/.cache/torch/hub/ultralytics_yolov5_master/models/common.py:892: FutureWarning: `torch.cuda.amp.autocast(args...)` is deprecated. Please use `torch.amp.autocast('cuda', args...)` instead.\n",
      "  with amp.autocast(autocast):\n",
      "/home/prasanna-nage/.cache/torch/hub/ultralytics_yolov5_master/models/common.py:892: FutureWarning: `torch.cuda.amp.autocast(args...)` is deprecated. Please use `torch.amp.autocast('cuda', args...)` instead.\n",
      "  with amp.autocast(autocast):\n",
      "/home/prasanna-nage/.cache/torch/hub/ultralytics_yolov5_master/models/common.py:892: FutureWarning: `torch.cuda.amp.autocast(args...)` is deprecated. Please use `torch.amp.autocast('cuda', args...)` instead.\n",
      "  with amp.autocast(autocast):\n"
     ]
    },
    {
     "name": "stdout",
     "output_type": "stream",
     "text": [
      "Saved frame 95.\n",
      "Saved frame 96.\n"
     ]
    },
    {
     "name": "stderr",
     "output_type": "stream",
     "text": [
      "/home/prasanna-nage/.cache/torch/hub/ultralytics_yolov5_master/models/common.py:892: FutureWarning: `torch.cuda.amp.autocast(args...)` is deprecated. Please use `torch.amp.autocast('cuda', args...)` instead.\n",
      "  with amp.autocast(autocast):\n",
      "/home/prasanna-nage/.cache/torch/hub/ultralytics_yolov5_master/models/common.py:892: FutureWarning: `torch.cuda.amp.autocast(args...)` is deprecated. Please use `torch.amp.autocast('cuda', args...)` instead.\n",
      "  with amp.autocast(autocast):\n"
     ]
    },
    {
     "name": "stdout",
     "output_type": "stream",
     "text": [
      "Saved frame 97.\n",
      "Saved frame 98.\n",
      "Saved frame 99.\n"
     ]
    },
    {
     "name": "stderr",
     "output_type": "stream",
     "text": [
      "/home/prasanna-nage/.cache/torch/hub/ultralytics_yolov5_master/models/common.py:892: FutureWarning: `torch.cuda.amp.autocast(args...)` is deprecated. Please use `torch.amp.autocast('cuda', args...)` instead.\n",
      "  with amp.autocast(autocast):\n",
      "/home/prasanna-nage/.cache/torch/hub/ultralytics_yolov5_master/models/common.py:892: FutureWarning: `torch.cuda.amp.autocast(args...)` is deprecated. Please use `torch.amp.autocast('cuda', args...)` instead.\n",
      "  with amp.autocast(autocast):\n",
      "/home/prasanna-nage/.cache/torch/hub/ultralytics_yolov5_master/models/common.py:892: FutureWarning: `torch.cuda.amp.autocast(args...)` is deprecated. Please use `torch.amp.autocast('cuda', args...)` instead.\n",
      "  with amp.autocast(autocast):\n"
     ]
    },
    {
     "name": "stdout",
     "output_type": "stream",
     "text": [
      "Saved frame 100.\n",
      "Saved frame 101.\n",
      "Saved frame 102.\n"
     ]
    },
    {
     "name": "stderr",
     "output_type": "stream",
     "text": [
      "/home/prasanna-nage/.cache/torch/hub/ultralytics_yolov5_master/models/common.py:892: FutureWarning: `torch.cuda.amp.autocast(args...)` is deprecated. Please use `torch.amp.autocast('cuda', args...)` instead.\n",
      "  with amp.autocast(autocast):\n",
      "/home/prasanna-nage/.cache/torch/hub/ultralytics_yolov5_master/models/common.py:892: FutureWarning: `torch.cuda.amp.autocast(args...)` is deprecated. Please use `torch.amp.autocast('cuda', args...)` instead.\n",
      "  with amp.autocast(autocast):\n",
      "/home/prasanna-nage/.cache/torch/hub/ultralytics_yolov5_master/models/common.py:892: FutureWarning: `torch.cuda.amp.autocast(args...)` is deprecated. Please use `torch.amp.autocast('cuda', args...)` instead.\n",
      "  with amp.autocast(autocast):\n"
     ]
    },
    {
     "name": "stdout",
     "output_type": "stream",
     "text": [
      "Saved frame 103.\n",
      "Saved frame 104.\n",
      "Saved frame 105.\n"
     ]
    },
    {
     "name": "stderr",
     "output_type": "stream",
     "text": [
      "/home/prasanna-nage/.cache/torch/hub/ultralytics_yolov5_master/models/common.py:892: FutureWarning: `torch.cuda.amp.autocast(args...)` is deprecated. Please use `torch.amp.autocast('cuda', args...)` instead.\n",
      "  with amp.autocast(autocast):\n",
      "/home/prasanna-nage/.cache/torch/hub/ultralytics_yolov5_master/models/common.py:892: FutureWarning: `torch.cuda.amp.autocast(args...)` is deprecated. Please use `torch.amp.autocast('cuda', args...)` instead.\n",
      "  with amp.autocast(autocast):\n",
      "/home/prasanna-nage/.cache/torch/hub/ultralytics_yolov5_master/models/common.py:892: FutureWarning: `torch.cuda.amp.autocast(args...)` is deprecated. Please use `torch.amp.autocast('cuda', args...)` instead.\n",
      "  with amp.autocast(autocast):\n"
     ]
    },
    {
     "name": "stdout",
     "output_type": "stream",
     "text": [
      "Saved frame 106.\n",
      "Saved frame 107.\n",
      "Saved frame 108.\n"
     ]
    },
    {
     "name": "stderr",
     "output_type": "stream",
     "text": [
      "/home/prasanna-nage/.cache/torch/hub/ultralytics_yolov5_master/models/common.py:892: FutureWarning: `torch.cuda.amp.autocast(args...)` is deprecated. Please use `torch.amp.autocast('cuda', args...)` instead.\n",
      "  with amp.autocast(autocast):\n",
      "/home/prasanna-nage/.cache/torch/hub/ultralytics_yolov5_master/models/common.py:892: FutureWarning: `torch.cuda.amp.autocast(args...)` is deprecated. Please use `torch.amp.autocast('cuda', args...)` instead.\n",
      "  with amp.autocast(autocast):\n",
      "/home/prasanna-nage/.cache/torch/hub/ultralytics_yolov5_master/models/common.py:892: FutureWarning: `torch.cuda.amp.autocast(args...)` is deprecated. Please use `torch.amp.autocast('cuda', args...)` instead.\n",
      "  with amp.autocast(autocast):\n"
     ]
    },
    {
     "name": "stdout",
     "output_type": "stream",
     "text": [
      "Saved frame 109.\n",
      "Saved frame 110.\n",
      "Saved frame 111.\n"
     ]
    },
    {
     "name": "stderr",
     "output_type": "stream",
     "text": [
      "/home/prasanna-nage/.cache/torch/hub/ultralytics_yolov5_master/models/common.py:892: FutureWarning: `torch.cuda.amp.autocast(args...)` is deprecated. Please use `torch.amp.autocast('cuda', args...)` instead.\n",
      "  with amp.autocast(autocast):\n",
      "/home/prasanna-nage/.cache/torch/hub/ultralytics_yolov5_master/models/common.py:892: FutureWarning: `torch.cuda.amp.autocast(args...)` is deprecated. Please use `torch.amp.autocast('cuda', args...)` instead.\n",
      "  with amp.autocast(autocast):\n",
      "/home/prasanna-nage/.cache/torch/hub/ultralytics_yolov5_master/models/common.py:892: FutureWarning: `torch.cuda.amp.autocast(args...)` is deprecated. Please use `torch.amp.autocast('cuda', args...)` instead.\n",
      "  with amp.autocast(autocast):\n"
     ]
    },
    {
     "name": "stdout",
     "output_type": "stream",
     "text": [
      "Saved frame 112.\n",
      "Saved frame 113.\n",
      "Saved frame 114.\n"
     ]
    },
    {
     "name": "stderr",
     "output_type": "stream",
     "text": [
      "/home/prasanna-nage/.cache/torch/hub/ultralytics_yolov5_master/models/common.py:892: FutureWarning: `torch.cuda.amp.autocast(args...)` is deprecated. Please use `torch.amp.autocast('cuda', args...)` instead.\n",
      "  with amp.autocast(autocast):\n",
      "/home/prasanna-nage/.cache/torch/hub/ultralytics_yolov5_master/models/common.py:892: FutureWarning: `torch.cuda.amp.autocast(args...)` is deprecated. Please use `torch.amp.autocast('cuda', args...)` instead.\n",
      "  with amp.autocast(autocast):\n",
      "/home/prasanna-nage/.cache/torch/hub/ultralytics_yolov5_master/models/common.py:892: FutureWarning: `torch.cuda.amp.autocast(args...)` is deprecated. Please use `torch.amp.autocast('cuda', args...)` instead.\n",
      "  with amp.autocast(autocast):\n"
     ]
    },
    {
     "name": "stdout",
     "output_type": "stream",
     "text": [
      "Saved frame 115.\n",
      "Saved frame 116.\n",
      "Saved frame 117.\n"
     ]
    },
    {
     "name": "stderr",
     "output_type": "stream",
     "text": [
      "/home/prasanna-nage/.cache/torch/hub/ultralytics_yolov5_master/models/common.py:892: FutureWarning: `torch.cuda.amp.autocast(args...)` is deprecated. Please use `torch.amp.autocast('cuda', args...)` instead.\n",
      "  with amp.autocast(autocast):\n",
      "/home/prasanna-nage/.cache/torch/hub/ultralytics_yolov5_master/models/common.py:892: FutureWarning: `torch.cuda.amp.autocast(args...)` is deprecated. Please use `torch.amp.autocast('cuda', args...)` instead.\n",
      "  with amp.autocast(autocast):\n",
      "/home/prasanna-nage/.cache/torch/hub/ultralytics_yolov5_master/models/common.py:892: FutureWarning: `torch.cuda.amp.autocast(args...)` is deprecated. Please use `torch.amp.autocast('cuda', args...)` instead.\n",
      "  with amp.autocast(autocast):\n"
     ]
    },
    {
     "name": "stdout",
     "output_type": "stream",
     "text": [
      "Saved frame 118.\n"
     ]
    },
    {
     "name": "stderr",
     "output_type": "stream",
     "text": [
      "/home/prasanna-nage/.cache/torch/hub/ultralytics_yolov5_master/models/common.py:892: FutureWarning: `torch.cuda.amp.autocast(args...)` is deprecated. Please use `torch.amp.autocast('cuda', args...)` instead.\n",
      "  with amp.autocast(autocast):\n"
     ]
    },
    {
     "name": "stdout",
     "output_type": "stream",
     "text": [
      "Saved frame 119.\n",
      "Saved frame 120.\n",
      "Saved frame 121.\n"
     ]
    },
    {
     "name": "stderr",
     "output_type": "stream",
     "text": [
      "/home/prasanna-nage/.cache/torch/hub/ultralytics_yolov5_master/models/common.py:892: FutureWarning: `torch.cuda.amp.autocast(args...)` is deprecated. Please use `torch.amp.autocast('cuda', args...)` instead.\n",
      "  with amp.autocast(autocast):\n",
      "/home/prasanna-nage/.cache/torch/hub/ultralytics_yolov5_master/models/common.py:892: FutureWarning: `torch.cuda.amp.autocast(args...)` is deprecated. Please use `torch.amp.autocast('cuda', args...)` instead.\n",
      "  with amp.autocast(autocast):\n",
      "/home/prasanna-nage/.cache/torch/hub/ultralytics_yolov5_master/models/common.py:892: FutureWarning: `torch.cuda.amp.autocast(args...)` is deprecated. Please use `torch.amp.autocast('cuda', args...)` instead.\n",
      "  with amp.autocast(autocast):\n"
     ]
    },
    {
     "name": "stdout",
     "output_type": "stream",
     "text": [
      "Saved frame 122.\n",
      "Saved frame 123.\n",
      "Saved frame 124.\n"
     ]
    },
    {
     "name": "stderr",
     "output_type": "stream",
     "text": [
      "/home/prasanna-nage/.cache/torch/hub/ultralytics_yolov5_master/models/common.py:892: FutureWarning: `torch.cuda.amp.autocast(args...)` is deprecated. Please use `torch.amp.autocast('cuda', args...)` instead.\n",
      "  with amp.autocast(autocast):\n",
      "/home/prasanna-nage/.cache/torch/hub/ultralytics_yolov5_master/models/common.py:892: FutureWarning: `torch.cuda.amp.autocast(args...)` is deprecated. Please use `torch.amp.autocast('cuda', args...)` instead.\n",
      "  with amp.autocast(autocast):\n",
      "/home/prasanna-nage/.cache/torch/hub/ultralytics_yolov5_master/models/common.py:892: FutureWarning: `torch.cuda.amp.autocast(args...)` is deprecated. Please use `torch.amp.autocast('cuda', args...)` instead.\n",
      "  with amp.autocast(autocast):\n"
     ]
    },
    {
     "name": "stdout",
     "output_type": "stream",
     "text": [
      "Saved frame 125.\n",
      "Saved frame 126.\n",
      "Saved frame 127.\n"
     ]
    },
    {
     "name": "stderr",
     "output_type": "stream",
     "text": [
      "/home/prasanna-nage/.cache/torch/hub/ultralytics_yolov5_master/models/common.py:892: FutureWarning: `torch.cuda.amp.autocast(args...)` is deprecated. Please use `torch.amp.autocast('cuda', args...)` instead.\n",
      "  with amp.autocast(autocast):\n",
      "/home/prasanna-nage/.cache/torch/hub/ultralytics_yolov5_master/models/common.py:892: FutureWarning: `torch.cuda.amp.autocast(args...)` is deprecated. Please use `torch.amp.autocast('cuda', args...)` instead.\n",
      "  with amp.autocast(autocast):\n",
      "/home/prasanna-nage/.cache/torch/hub/ultralytics_yolov5_master/models/common.py:892: FutureWarning: `torch.cuda.amp.autocast(args...)` is deprecated. Please use `torch.amp.autocast('cuda', args...)` instead.\n",
      "  with amp.autocast(autocast):\n"
     ]
    },
    {
     "name": "stdout",
     "output_type": "stream",
     "text": [
      "Saved frame 128.\n",
      "Saved frame 129.\n",
      "Saved frame 130.\n"
     ]
    },
    {
     "name": "stderr",
     "output_type": "stream",
     "text": [
      "/home/prasanna-nage/.cache/torch/hub/ultralytics_yolov5_master/models/common.py:892: FutureWarning: `torch.cuda.amp.autocast(args...)` is deprecated. Please use `torch.amp.autocast('cuda', args...)` instead.\n",
      "  with amp.autocast(autocast):\n",
      "/home/prasanna-nage/.cache/torch/hub/ultralytics_yolov5_master/models/common.py:892: FutureWarning: `torch.cuda.amp.autocast(args...)` is deprecated. Please use `torch.amp.autocast('cuda', args...)` instead.\n",
      "  with amp.autocast(autocast):\n",
      "/home/prasanna-nage/.cache/torch/hub/ultralytics_yolov5_master/models/common.py:892: FutureWarning: `torch.cuda.amp.autocast(args...)` is deprecated. Please use `torch.amp.autocast('cuda', args...)` instead.\n",
      "  with amp.autocast(autocast):\n"
     ]
    },
    {
     "name": "stdout",
     "output_type": "stream",
     "text": [
      "Saved frame 131.\n",
      "Saved frame 132.\n",
      "Saved frame 133.\n"
     ]
    },
    {
     "name": "stderr",
     "output_type": "stream",
     "text": [
      "/home/prasanna-nage/.cache/torch/hub/ultralytics_yolov5_master/models/common.py:892: FutureWarning: `torch.cuda.amp.autocast(args...)` is deprecated. Please use `torch.amp.autocast('cuda', args...)` instead.\n",
      "  with amp.autocast(autocast):\n",
      "/home/prasanna-nage/.cache/torch/hub/ultralytics_yolov5_master/models/common.py:892: FutureWarning: `torch.cuda.amp.autocast(args...)` is deprecated. Please use `torch.amp.autocast('cuda', args...)` instead.\n",
      "  with amp.autocast(autocast):\n",
      "/home/prasanna-nage/.cache/torch/hub/ultralytics_yolov5_master/models/common.py:892: FutureWarning: `torch.cuda.amp.autocast(args...)` is deprecated. Please use `torch.amp.autocast('cuda', args...)` instead.\n",
      "  with amp.autocast(autocast):\n"
     ]
    },
    {
     "name": "stdout",
     "output_type": "stream",
     "text": [
      "Saved frame 134.\n",
      "Saved frame 135.\n",
      "Saved frame 136.\n"
     ]
    },
    {
     "name": "stderr",
     "output_type": "stream",
     "text": [
      "/home/prasanna-nage/.cache/torch/hub/ultralytics_yolov5_master/models/common.py:892: FutureWarning: `torch.cuda.amp.autocast(args...)` is deprecated. Please use `torch.amp.autocast('cuda', args...)` instead.\n",
      "  with amp.autocast(autocast):\n",
      "/home/prasanna-nage/.cache/torch/hub/ultralytics_yolov5_master/models/common.py:892: FutureWarning: `torch.cuda.amp.autocast(args...)` is deprecated. Please use `torch.amp.autocast('cuda', args...)` instead.\n",
      "  with amp.autocast(autocast):\n",
      "/home/prasanna-nage/.cache/torch/hub/ultralytics_yolov5_master/models/common.py:892: FutureWarning: `torch.cuda.amp.autocast(args...)` is deprecated. Please use `torch.amp.autocast('cuda', args...)` instead.\n",
      "  with amp.autocast(autocast):\n"
     ]
    },
    {
     "name": "stdout",
     "output_type": "stream",
     "text": [
      "Saved frame 137.\n",
      "Saved frame 138.\n",
      "Saved frame 139.\n"
     ]
    },
    {
     "name": "stderr",
     "output_type": "stream",
     "text": [
      "/home/prasanna-nage/.cache/torch/hub/ultralytics_yolov5_master/models/common.py:892: FutureWarning: `torch.cuda.amp.autocast(args...)` is deprecated. Please use `torch.amp.autocast('cuda', args...)` instead.\n",
      "  with amp.autocast(autocast):\n",
      "/home/prasanna-nage/.cache/torch/hub/ultralytics_yolov5_master/models/common.py:892: FutureWarning: `torch.cuda.amp.autocast(args...)` is deprecated. Please use `torch.amp.autocast('cuda', args...)` instead.\n",
      "  with amp.autocast(autocast):\n",
      "/home/prasanna-nage/.cache/torch/hub/ultralytics_yolov5_master/models/common.py:892: FutureWarning: `torch.cuda.amp.autocast(args...)` is deprecated. Please use `torch.amp.autocast('cuda', args...)` instead.\n",
      "  with amp.autocast(autocast):\n"
     ]
    },
    {
     "name": "stdout",
     "output_type": "stream",
     "text": [
      "Saved frame 140.\n",
      "Saved frame 141.\n",
      "Saved frame 142.\n"
     ]
    },
    {
     "name": "stderr",
     "output_type": "stream",
     "text": [
      "/home/prasanna-nage/.cache/torch/hub/ultralytics_yolov5_master/models/common.py:892: FutureWarning: `torch.cuda.amp.autocast(args...)` is deprecated. Please use `torch.amp.autocast('cuda', args...)` instead.\n",
      "  with amp.autocast(autocast):\n",
      "/home/prasanna-nage/.cache/torch/hub/ultralytics_yolov5_master/models/common.py:892: FutureWarning: `torch.cuda.amp.autocast(args...)` is deprecated. Please use `torch.amp.autocast('cuda', args...)` instead.\n",
      "  with amp.autocast(autocast):\n",
      "/home/prasanna-nage/.cache/torch/hub/ultralytics_yolov5_master/models/common.py:892: FutureWarning: `torch.cuda.amp.autocast(args...)` is deprecated. Please use `torch.amp.autocast('cuda', args...)` instead.\n",
      "  with amp.autocast(autocast):\n"
     ]
    },
    {
     "name": "stdout",
     "output_type": "stream",
     "text": [
      "Saved frame 143.\n",
      "Saved frame 144.\n",
      "Saved frame 145.\n"
     ]
    },
    {
     "name": "stderr",
     "output_type": "stream",
     "text": [
      "/home/prasanna-nage/.cache/torch/hub/ultralytics_yolov5_master/models/common.py:892: FutureWarning: `torch.cuda.amp.autocast(args...)` is deprecated. Please use `torch.amp.autocast('cuda', args...)` instead.\n",
      "  with amp.autocast(autocast):\n",
      "/home/prasanna-nage/.cache/torch/hub/ultralytics_yolov5_master/models/common.py:892: FutureWarning: `torch.cuda.amp.autocast(args...)` is deprecated. Please use `torch.amp.autocast('cuda', args...)` instead.\n",
      "  with amp.autocast(autocast):\n",
      "/home/prasanna-nage/.cache/torch/hub/ultralytics_yolov5_master/models/common.py:892: FutureWarning: `torch.cuda.amp.autocast(args...)` is deprecated. Please use `torch.amp.autocast('cuda', args...)` instead.\n",
      "  with amp.autocast(autocast):\n"
     ]
    },
    {
     "name": "stdout",
     "output_type": "stream",
     "text": [
      "Saved frame 146.\n",
      "Saved frame 147.\n",
      "Saved frame 148.\n"
     ]
    },
    {
     "name": "stderr",
     "output_type": "stream",
     "text": [
      "/home/prasanna-nage/.cache/torch/hub/ultralytics_yolov5_master/models/common.py:892: FutureWarning: `torch.cuda.amp.autocast(args...)` is deprecated. Please use `torch.amp.autocast('cuda', args...)` instead.\n",
      "  with amp.autocast(autocast):\n",
      "/home/prasanna-nage/.cache/torch/hub/ultralytics_yolov5_master/models/common.py:892: FutureWarning: `torch.cuda.amp.autocast(args...)` is deprecated. Please use `torch.amp.autocast('cuda', args...)` instead.\n",
      "  with amp.autocast(autocast):\n",
      "/home/prasanna-nage/.cache/torch/hub/ultralytics_yolov5_master/models/common.py:892: FutureWarning: `torch.cuda.amp.autocast(args...)` is deprecated. Please use `torch.amp.autocast('cuda', args...)` instead.\n",
      "  with amp.autocast(autocast):\n"
     ]
    },
    {
     "name": "stdout",
     "output_type": "stream",
     "text": [
      "Saved frame 149.\n",
      "Saved frame 150.\n",
      "Saved frame 151.\n"
     ]
    },
    {
     "name": "stderr",
     "output_type": "stream",
     "text": [
      "/home/prasanna-nage/.cache/torch/hub/ultralytics_yolov5_master/models/common.py:892: FutureWarning: `torch.cuda.amp.autocast(args...)` is deprecated. Please use `torch.amp.autocast('cuda', args...)` instead.\n",
      "  with amp.autocast(autocast):\n",
      "/home/prasanna-nage/.cache/torch/hub/ultralytics_yolov5_master/models/common.py:892: FutureWarning: `torch.cuda.amp.autocast(args...)` is deprecated. Please use `torch.amp.autocast('cuda', args...)` instead.\n",
      "  with amp.autocast(autocast):\n",
      "/home/prasanna-nage/.cache/torch/hub/ultralytics_yolov5_master/models/common.py:892: FutureWarning: `torch.cuda.amp.autocast(args...)` is deprecated. Please use `torch.amp.autocast('cuda', args...)` instead.\n",
      "  with amp.autocast(autocast):\n"
     ]
    },
    {
     "name": "stdout",
     "output_type": "stream",
     "text": [
      "Saved frame 152.\n",
      "Saved frame 153.\n",
      "Saved frame 154.\n"
     ]
    },
    {
     "name": "stderr",
     "output_type": "stream",
     "text": [
      "/home/prasanna-nage/.cache/torch/hub/ultralytics_yolov5_master/models/common.py:892: FutureWarning: `torch.cuda.amp.autocast(args...)` is deprecated. Please use `torch.amp.autocast('cuda', args...)` instead.\n",
      "  with amp.autocast(autocast):\n",
      "/home/prasanna-nage/.cache/torch/hub/ultralytics_yolov5_master/models/common.py:892: FutureWarning: `torch.cuda.amp.autocast(args...)` is deprecated. Please use `torch.amp.autocast('cuda', args...)` instead.\n",
      "  with amp.autocast(autocast):\n",
      "/home/prasanna-nage/.cache/torch/hub/ultralytics_yolov5_master/models/common.py:892: FutureWarning: `torch.cuda.amp.autocast(args...)` is deprecated. Please use `torch.amp.autocast('cuda', args...)` instead.\n",
      "  with amp.autocast(autocast):\n"
     ]
    },
    {
     "name": "stdout",
     "output_type": "stream",
     "text": [
      "Saved frame 155.\n",
      "Saved frame 156.\n",
      "Saved frame 157.\n"
     ]
    },
    {
     "name": "stderr",
     "output_type": "stream",
     "text": [
      "/home/prasanna-nage/.cache/torch/hub/ultralytics_yolov5_master/models/common.py:892: FutureWarning: `torch.cuda.amp.autocast(args...)` is deprecated. Please use `torch.amp.autocast('cuda', args...)` instead.\n",
      "  with amp.autocast(autocast):\n",
      "/home/prasanna-nage/.cache/torch/hub/ultralytics_yolov5_master/models/common.py:892: FutureWarning: `torch.cuda.amp.autocast(args...)` is deprecated. Please use `torch.amp.autocast('cuda', args...)` instead.\n",
      "  with amp.autocast(autocast):\n",
      "/home/prasanna-nage/.cache/torch/hub/ultralytics_yolov5_master/models/common.py:892: FutureWarning: `torch.cuda.amp.autocast(args...)` is deprecated. Please use `torch.amp.autocast('cuda', args...)` instead.\n",
      "  with amp.autocast(autocast):\n"
     ]
    },
    {
     "name": "stdout",
     "output_type": "stream",
     "text": [
      "Saved frame 158.\n",
      "Entity Detection Completed!\n",
      "Detected Events: [{'frame': 0, 'label': 'person', 'confidence': np.float32(0.84099084), 'bbox': (np.float32(560.69086), np.float32(789.789), np.float32(765.5529), np.float32(1016.9264)), 'team': 0, 'referee': True}, {'frame': 0, 'label': 'person', 'confidence': np.float32(0.83934027), 'bbox': (np.float32(561.8473), np.float32(553.87634), np.float32(653.9218), np.float32(718.03766)), 'team': 1, 'referee': True}, {'frame': 0, 'label': 'person', 'confidence': np.float32(0.8168632), 'bbox': (np.float32(19.091795), np.float32(509.1971), np.float32(116.874985), np.float32(661.25446)), 'team': 1, 'referee': True}, {'frame': 0, 'label': 'person', 'confidence': np.float32(0.78326), 'bbox': (np.float32(1566.964), np.float32(391.0603), np.float32(1640.4006), np.float32(540.13513)), 'team': 1}, {'frame': 0, 'label': 'person', 'confidence': np.float32(0.7428544), 'bbox': (np.float32(1343.3119), np.float32(450.56287), np.float32(1444.3934), np.float32(593.6704)), 'team': 0, 'referee': True}, {'frame': 0, 'label': 'person', 'confidence': np.float32(0.66287196), 'bbox': (np.float32(1471.2012), np.float32(533.4094), np.float32(1587.5596), np.float32(750.6948)), 'team': 0, 'referee': True}, {'frame': 0, 'label': 'skateboard', 'confidence': np.float32(0.3150142), 'bbox': (np.float32(28.813982), np.float32(633.9395), np.float32(96.36402), np.float32(662.52246)), 'team': 0}, {'frame': 0, 'label': 'person', 'confidence': np.float32(0.26371622), 'bbox': (np.float32(1807.9995), np.float32(332.80804), np.float32(1870.4912), np.float32(425.68542))}, {'frame': 1, 'label': 'person', 'confidence': np.float32(0.8317871), 'bbox': (np.float32(558.9265), np.float32(552.41833), np.float32(645.4277), np.float32(713.7229)), 'team': 1, 'referee': True}, {'frame': 1, 'label': 'person', 'confidence': np.float32(0.8251953), 'bbox': (np.float32(22.386137), np.float32(508.71478), np.float32(121.83911), np.float32(661.0895)), 'team': 1, 'referee': True}, {'frame': 1, 'label': 'person', 'confidence': np.float32(0.78786224), 'bbox': (np.float32(544.8456), np.float32(785.9823), np.float32(754.62714), np.float32(997.1399)), 'team': 0, 'referee': True}, {'frame': 1, 'label': 'person', 'confidence': np.float32(0.7506218), 'bbox': (np.float32(1333.6584), np.float32(445.3896), np.float32(1429.6826), np.float32(590.7607)), 'team': 0, 'referee': True}, {'frame': 1, 'label': 'person', 'confidence': np.float32(0.7372269), 'bbox': (np.float32(1594.3628), np.float32(389.19226), np.float32(1666.7455), np.float32(543.966)), 'team': 1}, {'frame': 1, 'label': 'person', 'confidence': np.float32(0.70395166), 'bbox': (np.float32(1467.2458), np.float32(533.0249), np.float32(1585.5538), np.float32(726.09796)), 'team': 0, 'referee': True}, {'frame': 1, 'label': 'person', 'confidence': np.float32(0.38540944), 'bbox': (np.float32(1475.0365), np.float32(655.8065), np.float32(1601.5583), np.float32(868.6037)), 'team': 1, 'referee': True}, {'frame': 1, 'label': 'skateboard', 'confidence': np.float32(0.3646451), 'bbox': (np.float32(39.004044), np.float32(634.0536), np.float32(96.42915), np.float32(662.80286)), 'team': 0}, {'frame': 1, 'label': 'person', 'confidence': np.float32(0.32101363), 'bbox': (np.float32(1787.3658), np.float32(318.2464), np.float32(1876.436), np.float32(438.87958))}, {'frame': 1, 'label': 'person', 'confidence': np.float32(0.25461736), 'bbox': (np.float32(1885.8362), np.float32(391.64493), np.float32(1920.0), np.float32(456.18787))}, {'frame': 2, 'label': 'person', 'confidence': np.float32(0.81339985), 'bbox': (np.float32(553.3184), np.float32(546.04065), np.float32(638.55804), np.float32(709.98157)), 'team': 0, 'referee': True}, {'frame': 2, 'label': 'person', 'confidence': np.float32(0.7687783), 'bbox': (np.float32(1617.0531), np.float32(394.9173), np.float32(1686.5153), np.float32(547.3135)), 'team': 1}, {'frame': 2, 'label': 'person', 'confidence': np.float32(0.7576641), 'bbox': (np.float32(27.47987), np.float32(510.7644), np.float32(123.12692), np.float32(658.7862)), 'team': 1, 'referee': True}, {'frame': 2, 'label': 'person', 'confidence': np.float32(0.7479325), 'bbox': (np.float32(1461.2738), np.float32(540.1047), np.float32(1593.0063), np.float32(872.9371)), 'team': 0, 'referee': True}, {'frame': 2, 'label': 'person', 'confidence': np.float32(0.68551755), 'bbox': (np.float32(522.81976), np.float32(788.1752), np.float32(654.5682), np.float32(979.55426)), 'team': 0, 'referee': True}, {'frame': 2, 'label': 'person', 'confidence': np.float32(0.654736), 'bbox': (np.float32(1336.1755), np.float32(445.07404), np.float32(1425.4547), np.float32(591.89844)), 'team': 0, 'referee': True}, {'frame': 2, 'label': 'baseball bat', 'confidence': np.float32(0.48218352), 'bbox': (np.float32(1380.9854), np.float32(641.84906), np.float32(1491.602), np.float32(719.7617)), 'team': 1, 'referee': True}, {'frame': 2, 'label': 'skateboard', 'confidence': np.float32(0.3515641), 'bbox': (np.float32(46.943092), np.float32(634.8997), np.float32(101.307816), np.float32(664.6774)), 'team': 0}, {'frame': 2, 'label': 'person', 'confidence': np.float32(0.32903376), 'bbox': (np.float32(1363.0973), np.float32(457.4978), np.float32(1490.0658), np.float32(598.2724)), 'team': 1, 'referee': True}, {'frame': 3, 'label': 'person', 'confidence': np.float32(0.8642252), 'bbox': (np.float32(545.0926), np.float32(544.2696), np.float32(637.31195), np.float32(707.72107)), 'team': 0, 'referee': True}, {'frame': 3, 'label': 'person', 'confidence': np.float32(0.7970645), 'bbox': (np.float32(29.282593), np.float32(502.61563), np.float32(128.52727), np.float32(655.0675)), 'team': 1, 'referee': True}, {'frame': 3, 'label': 'person', 'confidence': np.float32(0.79401946), 'bbox': (np.float32(1643.9667), np.float32(392.75842), np.float32(1708.233), np.float32(549.0684)), 'team': 1}, {'frame': 3, 'label': 'person', 'confidence': np.float32(0.6960343), 'bbox': (np.float32(525.48627), np.float32(784.3438), np.float32(700.98596), np.float32(977.79034)), 'team': 0, 'referee': True}, {'frame': 3, 'label': 'person', 'confidence': np.float32(0.66209984), 'bbox': (np.float32(1455.4355), np.float32(609.09955), np.float32(1583.6647), np.float32(861.5541)), 'team': 1, 'referee': True}, {'frame': 3, 'label': 'person', 'confidence': np.float32(0.65787405), 'bbox': (np.float32(1331.0076), np.float32(444.47388), np.float32(1408.3862), np.float32(586.62256)), 'team': 0, 'referee': True}, {'frame': 3, 'label': 'person', 'confidence': np.float32(0.5120563), 'bbox': (np.float32(1338.2267), np.float32(450.85403), np.float32(1486.143), np.float32(591.3871)), 'team': 1, 'referee': True}, {'frame': 3, 'label': 'person', 'confidence': np.float32(0.46088827), 'bbox': (np.float32(1464.107), np.float32(531.9506), np.float32(1584.3951), np.float32(721.0111)), 'team': 0, 'referee': True}, {'frame': 3, 'label': 'skateboard', 'confidence': np.float32(0.4089952), 'bbox': (np.float32(54.70782), np.float32(632.8305), np.float32(101.62978), np.float32(661.1809)), 'team': 0}, {'frame': 3, 'label': 'person', 'confidence': np.float32(0.27963355), 'bbox': (np.float32(1530.279), np.float32(359.51437), np.float32(1588.049), np.float32(416.20453))}, {'frame': 4, 'label': 'person', 'confidence': np.float32(0.85810506), 'bbox': (np.float32(537.81775), np.float32(541.2384), np.float32(639.14545), np.float32(708.8048)), 'team': 0, 'referee': True}, {'frame': 4, 'label': 'person', 'confidence': np.float32(0.7683176), 'bbox': (np.float32(514.5888), np.float32(789.3252), np.float32(647.1494), np.float32(977.0757)), 'team': 0, 'referee': True}, {'frame': 4, 'label': 'person', 'confidence': np.float32(0.7596019), 'bbox': (np.float32(22.260572), np.float32(495.37317), np.float32(137.89426), np.float32(650.6596)), 'team': 1, 'referee': True}, {'frame': 4, 'label': 'person', 'confidence': np.float32(0.7551654), 'bbox': (np.float32(1663.4943), np.float32(384.55154), np.float32(1733.0161), np.float32(549.94495)), 'team': 1, 'referee': True}, {'frame': 4, 'label': 'person', 'confidence': np.float32(0.704445), 'bbox': (np.float32(1451.7872), np.float32(646.2244), np.float32(1582.507), np.float32(863.7351)), 'team': 1, 'referee': True}, {'frame': 4, 'label': 'person', 'confidence': np.float32(0.6698609), 'bbox': (np.float32(1462.2986), np.float32(530.74805), np.float32(1587.5262), np.float32(721.4804)), 'team': 0, 'referee': True}, {'frame': 4, 'label': 'person', 'confidence': np.float32(0.5244574), 'bbox': (np.float32(1373.8734), np.float32(452.48376), np.float32(1483.7473), np.float32(595.72046)), 'team': 1, 'referee': True}, {'frame': 4, 'label': 'skateboard', 'confidence': np.float32(0.5190165), 'bbox': (np.float32(61.26556), np.float32(632.6727), np.float32(106.33363), np.float32(659.38306)), 'team': 0}, {'frame': 4, 'label': 'person', 'confidence': np.float32(0.48529205), 'bbox': (np.float32(1331.3007), np.float32(443.0749), np.float32(1400.2593), np.float32(583.6285)), 'team': 0, 'referee': True}, {'frame': 4, 'label': 'person', 'confidence': np.float32(0.31388262), 'bbox': (np.float32(1839.6973), np.float32(332.7643), np.float32(1891.4978), np.float32(425.46674))}, {'frame': 5, 'label': 'person', 'confidence': np.float32(0.8453559), 'bbox': (np.float32(527.0411), np.float32(535.8893), np.float32(639.5807), np.float32(706.33887)), 'team': 0, 'referee': True}, {'frame': 5, 'label': 'person', 'confidence': np.float32(0.7641095), 'bbox': (np.float32(1685.2236), np.float32(377.72778), np.float32(1759.3077), np.float32(550.81036)), 'team': 1, 'referee': True}, {'frame': 5, 'label': 'person', 'confidence': np.float32(0.7629664), 'bbox': (np.float32(498.34592), np.float32(788.84296), np.float32(631.4632), np.float32(978.18774)), 'referee': True}, {'frame': 5, 'label': 'person', 'confidence': np.float32(0.6949134), 'bbox': (np.float32(17.91544), np.float32(491.73596), np.float32(150.80392), np.float32(645.3108)), 'team': 1, 'referee': True}, {'frame': 5, 'label': 'person', 'confidence': np.float32(0.65551925), 'bbox': (np.float32(1444.5309), np.float32(619.4713), np.float32(1574.8236), np.float32(861.508)), 'team': 1, 'referee': True}, {'frame': 5, 'label': 'person', 'confidence': np.float32(0.58622974), 'bbox': (np.float32(1459.8914), np.float32(532.65686), np.float32(1589.4563), np.float32(715.17017)), 'team': 0, 'referee': True}, {'frame': 5, 'label': 'person', 'confidence': np.float32(0.54360485), 'bbox': (np.float32(1374.3607), np.float32(450.59592), np.float32(1480.6611), np.float32(587.8689)), 'team': 1, 'referee': True}, {'frame': 5, 'label': 'person', 'confidence': np.float32(0.53754586), 'bbox': (np.float32(1317.706), np.float32(439.51044), np.float32(1391.8923), np.float32(575.3335)), 'team': 0, 'referee': True}, {'frame': 5, 'label': 'person', 'confidence': np.float32(0.44810298), 'bbox': (np.float32(40.507267), np.float32(980.6323), np.float32(214.49112), np.float32(1072.4916)), 'team': 1, 'referee': True}, {'frame': 5, 'label': 'skateboard', 'confidence': np.float32(0.40774733), 'bbox': (np.float32(63.69649), np.float32(628.4335), np.float32(109.17105), np.float32(658.67377)), 'team': 0}, {'frame': 5, 'label': 'person', 'confidence': np.float32(0.3514351), 'bbox': (np.float32(1860.0883), np.float32(325.07684), np.float32(1918.6776), np.float32(441.57697))}, {'frame': 6, 'label': 'person', 'confidence': np.float32(0.84224385), 'bbox': (np.float32(515.9368), np.float32(536.36426), np.float32(636.8778), np.float32(700.8981)), 'team': 0, 'referee': True}, {'frame': 6, 'label': 'person', 'confidence': np.float32(0.7742847), 'bbox': (np.float32(24.27103), np.float32(495.75946), np.float32(142.25697), np.float32(647.16516)), 'team': 1, 'referee': True}, {'frame': 6, 'label': 'person', 'confidence': np.float32(0.76703626), 'bbox': (np.float32(482.71573), np.float32(793.6848), np.float32(604.53186), np.float32(970.9844)), 'team': 0, 'referee': True}, {'frame': 6, 'label': 'person', 'confidence': np.float32(0.72997004), 'bbox': (np.float32(1705.573), np.float32(383.35397), np.float32(1785.2202), np.float32(552.6018)), 'team': 1}, {'frame': 6, 'label': 'person', 'confidence': np.float32(0.6629629), 'bbox': (np.float32(1462.8563), np.float32(531.827), np.float32(1590.8754), np.float32(709.6159)), 'team': 0, 'referee': True}, {'frame': 6, 'label': 'person', 'confidence': np.float32(0.6613585), 'bbox': (np.float32(1307.9766), np.float32(442.07), np.float32(1388.2375), np.float32(573.73773)), 'team': 0, 'referee': True}, {'frame': 6, 'label': 'person', 'confidence': np.float32(0.6545857), 'bbox': (np.float32(1371.5469), np.float32(442.52417), np.float32(1479.4827), np.float32(587.7236)), 'team': 1, 'referee': True}, {'frame': 6, 'label': 'person', 'confidence': np.float32(0.558214), 'bbox': (np.float32(1438.1719), np.float32(623.9668), np.float32(1568.825), np.float32(859.8113)), 'team': 1, 'referee': True}, {'frame': 6, 'label': 'skateboard', 'confidence': np.float32(0.45580867), 'bbox': (np.float32(62.40627), np.float32(629.8889), np.float32(107.31702), np.float32(654.7185)), 'team': 0}, {'frame': 6, 'label': 'person', 'confidence': np.float32(0.42586356), 'bbox': (np.float32(1878.3777), np.float32(328.88544), np.float32(1919.4102), np.float32(440.47192))}, {'frame': 6, 'label': 'person', 'confidence': np.float32(0.40690088), 'bbox': (np.float32(39.244907), np.float32(976.5764), np.float32(202.71913), np.float32(1074.5284)), 'team': 1, 'referee': True}, {'frame': 7, 'label': 'person', 'confidence': np.float32(0.8368604), 'bbox': (np.float32(508.92804), np.float32(535.1883), np.float32(631.4006), np.float32(697.0642)), 'team': 0, 'referee': True}, {'frame': 7, 'label': 'person', 'confidence': np.float32(0.7688349), 'bbox': (np.float32(26.464445), np.float32(487.83362), np.float32(133.47665), np.float32(647.15137)), 'team': 1, 'referee': True}, {'frame': 7, 'label': 'person', 'confidence': np.float32(0.76654017), 'bbox': (np.float32(1731.041), np.float32(384.8845), np.float32(1802.242), np.float32(552.34155)), 'team': 1}, {'frame': 7, 'label': 'person', 'confidence': np.float32(0.7537657), 'bbox': (np.float32(1456.5667), np.float32(531.3502), np.float32(1586.7799), np.float32(702.1865)), 'team': 0, 'referee': True}, {'frame': 7, 'label': 'person', 'confidence': np.float32(0.7365655), 'bbox': (np.float32(462.22037), np.float32(793.541), np.float32(585.4054), np.float32(974.7898)), 'referee': True}, {'frame': 7, 'label': 'person', 'confidence': np.float32(0.70998204), 'bbox': (np.float32(1299.2018), np.float32(441.124), np.float32(1393.2444), np.float32(576.2166)), 'team': 1, 'referee': True}, {'frame': 7, 'label': 'person', 'confidence': np.float32(0.6379349), 'bbox': (np.float32(1388.8766), np.float32(439.90973), np.float32(1481.9705), np.float32(577.92236)), 'team': 0, 'referee': True}, {'frame': 7, 'label': 'person', 'confidence': np.float32(0.46209195), 'bbox': (np.float32(1411.3197), np.float32(634.31244), np.float32(1541.4877), np.float32(796.88855)), 'team': 1, 'referee': True}, {'frame': 7, 'label': 'person', 'confidence': np.float32(0.39281946), 'bbox': (np.float32(36.708218), np.float32(973.1056), np.float32(191.50621), np.float32(1070.5349)), 'team': 1, 'referee': True}, {'frame': 7, 'label': 'person', 'confidence': np.float32(0.2596396), 'bbox': (np.float32(155.45288), np.float32(312.27805), np.float32(216.2482), np.float32(473.15958)), 'team': 0}, {'frame': 7, 'label': 'skis', 'confidence': np.float32(0.25603697), 'bbox': (np.float32(1453.7045), np.float32(805.74646), np.float32(1552.6699), np.float32(858.1496))}, {'frame': 8, 'label': 'person', 'confidence': np.float32(0.82834655), 'bbox': (np.float32(499.64868), np.float32(530.0211), np.float32(621.3913), np.float32(694.5368)), 'team': 0, 'referee': True}, {'frame': 8, 'label': 'person', 'confidence': np.float32(0.8086519), 'bbox': (np.float32(443.38388), np.float32(790.5134), np.float32(575.7467), np.float32(994.3609)), 'team': 0, 'referee': True}, {'frame': 8, 'label': 'person', 'confidence': np.float32(0.7844964), 'bbox': (np.float32(33.92374), np.float32(484.7398), np.float32(125.47611), np.float32(646.64496)), 'team': 1, 'referee': True}, {'frame': 8, 'label': 'person', 'confidence': np.float32(0.7839426), 'bbox': (np.float32(1467.5386), np.float32(534.82056), np.float32(1578.1721), np.float32(698.54315)), 'team': 0, 'referee': True}, {'frame': 8, 'label': 'person', 'confidence': np.float32(0.7333229), 'bbox': (np.float32(1292.4299), np.float32(440.04935), np.float32(1389.8829), np.float32(574.29675)), 'team': 0, 'referee': True}, {'frame': 8, 'label': 'person', 'confidence': np.float32(0.67055345), 'bbox': (np.float32(1756.9746), np.float32(389.5425), np.float32(1826.7649), np.float32(551.84717)), 'team': 1}, {'frame': 8, 'label': 'person', 'confidence': np.float32(0.6434338), 'bbox': (np.float32(1406.8125), np.float32(633.1268), np.float32(1535.613), np.float32(850.7463)), 'team': 1, 'referee': True}, {'frame': 8, 'label': 'person', 'confidence': np.float32(0.57945806), 'bbox': (np.float32(1372.2147), np.float32(436.15817), np.float32(1483.8018), np.float32(583.2814)), 'team': 1, 'referee': True}, {'frame': 8, 'label': 'person', 'confidence': np.float32(0.37481242), 'bbox': (np.float32(165.72449), np.float32(317.4244), np.float32(236.86752), np.float32(483.22604)), 'team': 0}, {'frame': 9, 'label': 'person', 'confidence': np.float32(0.83644027), 'bbox': (np.float32(36.112827), np.float32(484.11816), np.float32(127.9541), np.float32(649.16705)), 'team': 1, 'referee': True}, {'frame': 9, 'label': 'person', 'confidence': np.float32(0.8154852), 'bbox': (np.float32(492.13004), np.float32(513.12616), np.float32(600.5989), np.float32(691.47894)), 'team': 0, 'referee': True}, {'frame': 9, 'label': 'person', 'confidence': np.float32(0.79741603), 'bbox': (np.float32(1284.6234), np.float32(434.0552), np.float32(1388.2456), np.float32(575.0771)), 'team': 0, 'referee': True}, {'frame': 9, 'label': 'person', 'confidence': np.float32(0.7772409), 'bbox': (np.float32(430.36853), np.float32(793.6456), np.float32(567.45667), np.float32(1007.73035)), 'team': 0, 'referee': True}, {'frame': 9, 'label': 'person', 'confidence': np.float32(0.6784676), 'bbox': (np.float32(1372.5502), np.float32(433.15186), np.float32(1489.2087), np.float32(579.40393)), 'team': 1, 'referee': True}, {'frame': 9, 'label': 'person', 'confidence': np.float32(0.6634382), 'bbox': (np.float32(1469.7867), np.float32(534.30273), np.float32(1570.2876), np.float32(694.53754)), 'team': 0, 'referee': True}, {'frame': 9, 'label': 'person', 'confidence': np.float32(0.64150107), 'bbox': (np.float32(1779.1367), np.float32(390.22342), np.float32(1845.5894), np.float32(553.3531)), 'team': 1}, {'frame': 9, 'label': 'person', 'confidence': np.float32(0.61747015), 'bbox': (np.float32(1414.6652), np.float32(595.8242), np.float32(1548.1161), np.float32(846.33234)), 'team': 1, 'referee': True}, {'frame': 9, 'label': 'person', 'confidence': np.float32(0.47114867), 'bbox': (np.float32(167.37245), np.float32(325.27963), np.float32(255.6047), np.float32(483.50665)), 'team': 0}, {'frame': 9, 'label': 'person', 'confidence': np.float32(0.28477845), 'bbox': (np.float32(28.599255), np.float32(968.26886), np.float32(154.49837), np.float32(1073.673)), 'team': 1, 'referee': True}, {'frame': 10, 'label': 'person', 'confidence': np.float32(0.83445984), 'bbox': (np.float32(37.78717), np.float32(483.06906), np.float32(131.42747), np.float32(648.4035)), 'team': 1, 'referee': True}, {'frame': 10, 'label': 'person', 'confidence': np.float32(0.82718325), 'bbox': (np.float32(486.65002), np.float32(514.9716), np.float32(586.64966), np.float32(687.1243)), 'team': 0, 'referee': True}, {'frame': 10, 'label': 'person', 'confidence': np.float32(0.78113985), 'bbox': (np.float32(417.06677), np.float32(795.7749), np.float32(572.2048), np.float32(1012.7448)), 'team': 0, 'referee': True}, {'frame': 10, 'label': 'person', 'confidence': np.float32(0.7513477), 'bbox': (np.float32(1279.461), np.float32(434.452), np.float32(1387.6655), np.float32(573.07983)), 'team': 0, 'referee': True}, {'frame': 10, 'label': 'person', 'confidence': np.float32(0.69521666), 'bbox': (np.float32(1799.1108), np.float32(392.24304), np.float32(1868.2328), np.float32(552.024)), 'team': 1}, {'frame': 10, 'label': 'person', 'confidence': np.float32(0.68869776), 'bbox': (np.float32(1396.63), np.float32(537.5947), np.float32(1565.045), np.float32(848.2343)), 'team': 0, 'referee': True}, {'frame': 10, 'label': 'person', 'confidence': np.float32(0.6375278), 'bbox': (np.float32(1359.258), np.float32(434.32666), np.float32(1509.7144), np.float32(580.2001)), 'team': 1, 'referee': True}, {'frame': 10, 'label': 'person', 'confidence': np.float32(0.4583175), 'bbox': (np.float32(1463.9539), np.float32(533.87256), np.float32(1566.8785), np.float32(692.8703)), 'team': 1, 'referee': True}, {'frame': 10, 'label': 'person', 'confidence': np.float32(0.4470001), 'bbox': (np.float32(157.01794), np.float32(349.2541), np.float32(270.6308), np.float32(482.9545)), 'team': 0}, {'frame': 10, 'label': 'person', 'confidence': np.float32(0.32449356), 'bbox': (np.float32(14.458969), np.float32(967.34), np.float32(141.43892), np.float32(1076.0)), 'team': 1, 'referee': True}, {'frame': 11, 'label': 'person', 'confidence': np.float32(0.8245198), 'bbox': (np.float32(395.50708), np.float32(795.29706), np.float32(572.3138), np.float32(1017.8665)), 'team': 0, 'referee': True}, {'frame': 11, 'label': 'person', 'confidence': np.float32(0.82318425), 'bbox': (np.float32(31.754803), np.float32(485.19913), np.float32(141.42218), np.float32(648.70844)), 'team': 1, 'referee': True}, {'frame': 11, 'label': 'person', 'confidence': np.float32(0.8112743), 'bbox': (np.float32(478.18893), np.float32(514.4603), np.float32(576.4197), np.float32(688.319)), 'team': 0, 'referee': True}, {'frame': 11, 'label': 'person', 'confidence': np.float32(0.7627473), 'bbox': (np.float32(1456.9369), np.float32(531.1547), np.float32(1560.6487), np.float32(698.6838)), 'team': 0, 'referee': True}, {'frame': 11, 'label': 'person', 'confidence': np.float32(0.74868095), 'bbox': (np.float32(1277.4595), np.float32(430.14902), np.float32(1392.3981), np.float32(573.1944)), 'team': 0, 'referee': True}, {'frame': 11, 'label': 'person', 'confidence': np.float32(0.6135321), 'bbox': (np.float32(1362.1586), np.float32(438.3685), np.float32(1518.56), np.float32(578.2859)), 'team': 1, 'referee': True}, {'frame': 11, 'label': 'person', 'confidence': np.float32(0.56868505), 'bbox': (np.float32(1381.9098), np.float32(625.1535), np.float32(1516.8208), np.float32(847.4956)), 'team': 1, 'referee': True}, {'frame': 11, 'label': 'person', 'confidence': np.float32(0.5045825), 'bbox': (np.float32(1827.7075), np.float32(403.3953), np.float32(1889.22), np.float32(551.60406)), 'team': 1}, {'frame': 11, 'label': 'person', 'confidence': np.float32(0.41088125), 'bbox': (np.float32(3.68145), np.float32(964.81976), np.float32(135.48953), np.float32(1076.0)), 'team': 1, 'referee': True}, {'frame': 11, 'label': 'person', 'confidence': np.float32(0.27418327), 'bbox': (np.float32(203.13255), np.float32(360.1669), np.float32(273.9177), np.float32(485.43503))}, {'frame': 12, 'label': 'person', 'confidence': np.float32(0.82249415), 'bbox': (np.float32(470.61163), np.float32(526.1729), np.float32(570.0433), np.float32(686.61456)), 'team': 0, 'referee': True}, {'frame': 12, 'label': 'person', 'confidence': np.float32(0.82156813), 'bbox': (np.float32(32.297585), np.float32(483.3676), np.float32(130.52066), np.float32(652.8439)), 'team': 1, 'referee': True}, {'frame': 12, 'label': 'person', 'confidence': np.float32(0.8103129), 'bbox': (np.float32(1456.7611), np.float32(528.27026), np.float32(1560.7438), np.float32(693.6993)), 'team': 0, 'referee': True}, {'frame': 12, 'label': 'person', 'confidence': np.float32(0.7667206), 'bbox': (np.float32(1363.5823), np.float32(629.806), np.float32(1493.054), np.float32(847.4632)), 'team': 1, 'referee': True}, {'frame': 12, 'label': 'person', 'confidence': np.float32(0.7607198), 'bbox': (np.float32(351.17517), np.float32(799.42535), np.float32(572.3468), np.float32(1021.74176)), 'team': 0, 'referee': True}, {'frame': 12, 'label': 'person', 'confidence': np.float32(0.6998348), 'bbox': (np.float32(1266.8236), np.float32(432.08426), np.float32(1370.0317), np.float32(568.461)), 'team': 0, 'referee': True}, {'frame': 12, 'label': 'person', 'confidence': np.float32(0.65008724), 'bbox': (np.float32(1845.2052), np.float32(372.78256), np.float32(1919.5757), np.float32(554.1028)), 'team': 1}, {'frame': 12, 'label': 'person', 'confidence': np.float32(0.6024738), 'bbox': (np.float32(1356.5883), np.float32(444.4317), np.float32(1483.4506), np.float32(583.6431)), 'team': 1, 'referee': True}, {'frame': 12, 'label': 'person', 'confidence': np.float32(0.47129074), 'bbox': (np.float32(1.1354656), np.float32(967.04297), np.float32(127.909355), np.float32(1074.932)), 'team': 1, 'referee': True}, {'frame': 13, 'label': 'person', 'confidence': np.float32(0.85602117), 'bbox': (np.float32(26.57127), np.float32(485.19672), np.float32(146.14256), np.float32(652.9157)), 'team': 1, 'referee': True}, {'frame': 13, 'label': 'person', 'confidence': np.float32(0.84666646), 'bbox': (np.float32(1358.9557), np.float32(630.6114), np.float32(1486.5543), np.float32(844.89667)), 'team': 1, 'referee': True}, {'frame': 13, 'label': 'person', 'confidence': np.float32(0.8289438), 'bbox': (np.float32(1455.9956), np.float32(525.6546), np.float32(1561.3265), np.float32(688.68695)), 'team': 0, 'referee': True}, {'frame': 13, 'label': 'person', 'confidence': np.float32(0.8200041), 'bbox': (np.float32(462.2979), np.float32(521.6496), np.float32(562.59283), np.float32(682.3891)), 'team': 0, 'referee': True}, {'frame': 13, 'label': 'person', 'confidence': np.float32(0.7604478), 'bbox': (np.float32(320.16138), np.float32(800.34503), np.float32(492.4995), np.float32(1027.6659)), 'team': 0, 'referee': True}, {'frame': 13, 'label': 'person', 'confidence': np.float32(0.6904722), 'bbox': (np.float32(1264.2272), np.float32(432.55026), np.float32(1358.2396), np.float32(566.1135)), 'team': 0, 'referee': True}, {'frame': 13, 'label': 'person', 'confidence': np.float32(0.5527254), 'bbox': (np.float32(1875.9329), np.float32(402.10968), np.float32(1919.3479), np.float32(557.315)), 'team': 1}, {'frame': 13, 'label': 'person', 'confidence': np.float32(0.46084175), 'bbox': (np.float32(1352.2694), np.float32(444.45633), np.float32(1468.7434), np.float32(575.53674)), 'team': 1, 'referee': True}, {'frame': 13, 'label': 'person', 'confidence': np.float32(0.33645922), 'bbox': (np.float32(0.0), np.float32(391.76096), np.float32(46.54493), np.float32(492.44434)), 'team': 0}, {'frame': 14, 'label': 'person', 'confidence': np.float32(0.83087873), 'bbox': (np.float32(1356.022), np.float32(626.6627), np.float32(1486.9966), np.float32(841.6868)), 'team': 1, 'referee': True}, {'frame': 14, 'label': 'person', 'confidence': np.float32(0.8289322), 'bbox': (np.float32(457.329), np.float32(515.38165), np.float32(558.95685), np.float32(680.3901)), 'team': 0, 'referee': True}, {'frame': 14, 'label': 'person', 'confidence': np.float32(0.8206322), 'bbox': (np.float32(1456.9017), np.float32(519.1064), np.float32(1565.1575), np.float32(689.89185)), 'team': 0, 'referee': True}, {'frame': 14, 'label': 'person', 'confidence': np.float32(0.7954059), 'bbox': (np.float32(37.028744), np.float32(483.25058), np.float32(132.52701), np.float32(654.42267)), 'team': 1, 'referee': True}, {'frame': 14, 'label': 'person', 'confidence': np.float32(0.770644), 'bbox': (np.float32(1270.5166), np.float32(431.25058), np.float32(1345.3839), np.float32(567.0899)), 'team': 0, 'referee': True}, {'frame': 14, 'label': 'person', 'confidence': np.float32(0.73078674), 'bbox': (np.float32(282.3773), np.float32(804.5521), np.float32(492.41803), np.float32(1032.1768)), 'team': 0, 'referee': True}, {'frame': 14, 'label': 'person', 'confidence': np.float32(0.455156), 'bbox': (np.float32(1.1767273), np.float32(964.7364), np.float32(111.06418), np.float32(1075.1423)), 'team': 1, 'referee': True}, {'frame': 14, 'label': 'person', 'confidence': np.float32(0.38609606), 'bbox': (np.float32(1404.2677), np.float32(438.95575), np.float32(1461.9332), np.float32(536.4595)), 'team': 1, 'referee': True}, {'frame': 14, 'label': 'person', 'confidence': np.float32(0.25573474), 'bbox': (np.float32(0.0), np.float32(410.63345), np.float32(51.28355), np.float32(493.00803)), 'team': 0}, {'frame': 15, 'label': 'person', 'confidence': np.float32(0.8241505), 'bbox': (np.float32(1436.3566), np.float32(513.8214), np.float32(1574.2046), np.float32(691.30884)), 'team': 0, 'referee': True}, {'frame': 15, 'label': 'person', 'confidence': np.float32(0.80613875), 'bbox': (np.float32(1346.2961), np.float32(627.8033), np.float32(1475.8978), np.float32(831.6283)), 'team': 1, 'referee': True}, {'frame': 15, 'label': 'person', 'confidence': np.float32(0.80569005), 'bbox': (np.float32(460.21463), np.float32(523.22107), np.float32(555.7616), np.float32(676.7224)), 'team': 0, 'referee': True}, {'frame': 15, 'label': 'person', 'confidence': np.float32(0.80177903), 'bbox': (np.float32(54.39806), np.float32(486.2462), np.float32(133.02708), np.float32(647.7272)), 'team': 1, 'referee': True}, {'frame': 15, 'label': 'person', 'confidence': np.float32(0.67552906), 'bbox': (np.float32(1264.7238), np.float32(429.7982), np.float32(1335.5824), np.float32(566.9099)), 'team': 0, 'referee': True}, {'frame': 15, 'label': 'person', 'confidence': np.float32(0.62723935), 'bbox': (np.float32(248.9474), np.float32(807.7718), np.float32(477.99475), np.float32(1029.8691)), 'team': 0, 'referee': True}, {'frame': 15, 'label': 'person', 'confidence': np.float32(0.58495706), 'bbox': (np.float32(1399.0538), np.float32(436.9128), np.float32(1472.217), np.float32(569.7834)), 'team': 1, 'referee': True}, {'frame': 15, 'label': 'person', 'confidence': np.float32(0.4690926), 'bbox': (np.float32(0.9111042), np.float32(970.0285), np.float32(100.81272), np.float32(1074.6962)), 'team': 1, 'referee': True}, {'frame': 15, 'label': 'person', 'confidence': np.float32(0.26385826), 'bbox': (np.float32(0.0), np.float32(410.95114), np.float32(74.00441), np.float32(493.31427)), 'team': 0}, {'frame': 16, 'label': 'person', 'confidence': np.float32(0.8342888), 'bbox': (np.float32(1340.213), np.float32(624.5061), np.float32(1468.2843), np.float32(831.1418)), 'team': 1, 'referee': True}, {'frame': 16, 'label': 'person', 'confidence': np.float32(0.8210834), 'bbox': (np.float32(457.68713), np.float32(515.7281), np.float32(553.7855), np.float32(677.59735)), 'team': 0, 'referee': True}, {'frame': 16, 'label': 'person', 'confidence': np.float32(0.8021649), 'bbox': (np.float32(1438.2363), np.float32(513.41705), np.float32(1578.0641), np.float32(690.9303)), 'team': 0, 'referee': True}, {'frame': 16, 'label': 'person', 'confidence': np.float32(0.7850963), 'bbox': (np.float32(63.325745), np.float32(483.0307), np.float32(135.23521), np.float32(644.30695)), 'team': 1, 'referee': True}, {'frame': 16, 'label': 'person', 'confidence': np.float32(0.74519855), 'bbox': (np.float32(1260.6771), np.float32(428.1311), np.float32(1337.5616), np.float32(561.59064)), 'team': 0, 'referee': True}, {'frame': 16, 'label': 'person', 'confidence': np.float32(0.6264764), 'bbox': (np.float32(1397.7953), np.float32(439.1406), np.float32(1473.9745), np.float32(558.789)), 'team': 1, 'referee': True}, {'frame': 16, 'label': 'person', 'confidence': np.float32(0.59501654), 'bbox': (np.float32(309.91693), np.float32(807.2637), np.float32(468.95914), np.float32(1028.8121)), 'team': 0, 'referee': True}, {'frame': 16, 'label': 'person', 'confidence': np.float32(0.2814945), 'bbox': (np.float32(1277.348), np.float32(231.32947), np.float32(1342.8562), np.float32(305.58096))}, {'frame': 16, 'label': 'person', 'confidence': np.float32(0.279042), 'bbox': (np.float32(28.912745), np.float32(412.90292), np.float32(101.40015), np.float32(488.53903)), 'team': 0}, {'frame': 17, 'label': 'person', 'confidence': np.float32(0.84176254), 'bbox': (np.float32(1333.5116), np.float32(622.2551), np.float32(1453.8635), np.float32(825.9719)), 'team': 1, 'referee': True}, {'frame': 17, 'label': 'person', 'confidence': np.float32(0.83965105), 'bbox': (np.float32(451.67157), np.float32(503.1789), np.float32(554.7475), np.float32(676.9929)), 'team': 0, 'referee': True}, {'frame': 17, 'label': 'person', 'confidence': np.float32(0.8375598), 'bbox': (np.float32(1446.3977), np.float32(512.51917), np.float32(1582.009), np.float32(689.81836)), 'team': 0, 'referee': True}, {'frame': 17, 'label': 'person', 'confidence': np.float32(0.78192854), 'bbox': (np.float32(64.81842), np.float32(481.08447), np.float32(157.58635), np.float32(652.94507)), 'team': 1, 'referee': True}, {'frame': 17, 'label': 'person', 'confidence': np.float32(0.72292256), 'bbox': (np.float32(1255.1359), np.float32(426.20236), np.float32(1340.9414), np.float32(557.9199)), 'team': 0, 'referee': True}, {'frame': 17, 'label': 'person', 'confidence': np.float32(0.66526854), 'bbox': (np.float32(296.93314), np.float32(808.19867), np.float32(463.3884), np.float32(1031.0973)), 'team': 0, 'referee': True}, {'frame': 17, 'label': 'person', 'confidence': np.float32(0.5071831), 'bbox': (np.float32(1398.3141), np.float32(434.92685), np.float32(1462.893), np.float32(551.02136)), 'team': 1, 'referee': True}, {'frame': 17, 'label': 'person', 'confidence': np.float32(0.4384376), 'bbox': (np.float32(1436.0481), np.float32(444.4963), np.float32(1477.9895), np.float32(547.58484)), 'team': 1, 'referee': True}, {'frame': 17, 'label': 'baseball bat', 'confidence': np.float32(0.40118995), 'bbox': (np.float32(362.7587), np.float32(500.21503), np.float32(462.72073), np.float32(578.55707)), 'team': 1}, {'frame': 17, 'label': 'person', 'confidence': np.float32(0.25715965), 'bbox': (np.float32(55.771225), np.float32(415.24323), np.float32(123.956726), np.float32(484.6782)), 'team': 0}, {'frame': 17, 'label': 'person', 'confidence': np.float32(0.25217292), 'bbox': (np.float32(1302.4658), np.float32(230.96962), np.float32(1365.7052), np.float32(304.95682))}, {'frame': 18, 'label': 'person', 'confidence': np.float32(0.8444262), 'bbox': (np.float32(453.8769), np.float32(497.00696), np.float32(555.2045), np.float32(672.7278)), 'team': 0, 'referee': True}, {'frame': 18, 'label': 'person', 'confidence': np.float32(0.804437), 'bbox': (np.float32(1331.2914), np.float32(614.33936), np.float32(1448.0449), np.float32(823.55164)), 'team': 1, 'referee': True}, {'frame': 18, 'label': 'person', 'confidence': np.float32(0.7969868), 'bbox': (np.float32(1464.4222), np.float32(514.4849), np.float32(1574.9921), np.float32(684.93634)), 'team': 0, 'referee': True}, {'frame': 18, 'label': 'person', 'confidence': np.float32(0.72703457), 'bbox': (np.float32(1253.4049), np.float32(421.9682), np.float32(1347.1047), np.float32(555.2035)), 'team': 0, 'referee': True}, {'frame': 18, 'label': 'person', 'confidence': np.float32(0.6941145), 'bbox': (np.float32(68.02865), np.float32(480.02078), np.float32(164.85683), np.float32(654.5416)), 'team': 1, 'referee': True}, {'frame': 18, 'label': 'person', 'confidence': np.float32(0.64900213), 'bbox': (np.float32(287.26236), np.float32(802.98175), np.float32(469.57538), np.float32(1029.2886)), 'team': 0, 'referee': True}, {'frame': 18, 'label': 'person', 'confidence': np.float32(0.5965977), 'bbox': (np.float32(1391.51), np.float32(430.5406), np.float32(1471.7721), np.float32(546.92993)), 'team': 1, 'referee': True}, {'frame': 18, 'label': 'baseball bat', 'confidence': np.float32(0.4330692), 'bbox': (np.float32(363.17978), np.float32(492.50742), np.float32(469.39786), np.float32(569.0766)), 'team': 1}, {'frame': 18, 'label': 'person', 'confidence': np.float32(0.30307183), 'bbox': (np.float32(1066.6208), np.float32(311.9653), np.float32(1129.7648), np.float32(418.67563))}, {'frame': 18, 'label': 'person', 'confidence': np.float32(0.27562654), 'bbox': (np.float32(85.126335), np.float32(416.60376), np.float32(149.53116), np.float32(484.14944)), 'team': 0}, {'frame': 19, 'label': 'person', 'confidence': np.float32(0.85552645), 'bbox': (np.float32(452.1865), np.float32(500.58435), np.float32(557.6691), np.float32(672.5937)), 'team': 0, 'referee': True}, {'frame': 19, 'label': 'person', 'confidence': np.float32(0.8493467), 'bbox': (np.float32(282.7353), np.float32(796.5326), np.float32(471.68063), np.float32(1030.7959)), 'team': 0, 'referee': True}, {'frame': 19, 'label': 'person', 'confidence': np.float32(0.7895837), 'bbox': (np.float32(1254.1718), np.float32(420.0869), np.float32(1331.7565), np.float32(552.5756)), 'team': 0, 'referee': True}, {'frame': 19, 'label': 'person', 'confidence': np.float32(0.7599254), 'bbox': (np.float32(1330.5249), np.float32(609.86646), np.float32(1441.1683), np.float32(817.01465)), 'team': 1, 'referee': True}, {'frame': 19, 'label': 'person', 'confidence': np.float32(0.74062943), 'bbox': (np.float32(1464.5582), np.float32(510.20837), np.float32(1569.4586), np.float32(682.02765)), 'team': 0, 'referee': True}, {'frame': 19, 'label': 'person', 'confidence': np.float32(0.7363227), 'bbox': (np.float32(76.09627), np.float32(483.24948), np.float32(174.86967), np.float32(658.49835)), 'team': 1, 'referee': True}, {'frame': 19, 'label': 'person', 'confidence': np.float32(0.663569), 'bbox': (np.float32(1394.3536), np.float32(425.55057), np.float32(1477.0817), np.float32(543.03284)), 'team': 1, 'referee': True}, {'frame': 19, 'label': 'baseball bat', 'confidence': np.float32(0.43693742), 'bbox': (np.float32(371.07413), np.float32(480.9315), np.float32(462.7314), np.float32(569.5521)), 'team': 1, 'referee': True}, {'frame': 19, 'label': 'tennis racket', 'confidence': np.float32(0.3281683), 'bbox': (np.float32(181.48874), np.float32(867.937), np.float32(300.9833), np.float32(925.08295)), 'team': 1}, {'frame': 20, 'label': 'person', 'confidence': np.float32(0.84273076), 'bbox': (np.float32(447.75522), np.float32(500.18906), np.float32(560.6972), np.float32(670.0286)), 'team': 0, 'referee': True}, {'frame': 20, 'label': 'person', 'confidence': np.float32(0.83342886), 'bbox': (np.float32(272.28653), np.float32(791.64276), np.float32(475.75186), np.float32(1026.4315)), 'team': 0, 'referee': True}, {'frame': 20, 'label': 'person', 'confidence': np.float32(0.8205985), 'bbox': (np.float32(1330.4191), np.float32(602.91956), np.float32(1434.5804), np.float32(800.8028)), 'team': 1, 'referee': True}, {'frame': 20, 'label': 'person', 'confidence': np.float32(0.80757076), 'bbox': (np.float32(1255.8289), np.float32(419.84238), np.float32(1328.2128), np.float32(549.2211)), 'team': 0, 'referee': True}, {'frame': 20, 'label': 'person', 'confidence': np.float32(0.7205379), 'bbox': (np.float32(1465.0576), np.float32(514.8287), np.float32(1568.0801), np.float32(679.669)), 'team': 0, 'referee': True}, {'frame': 20, 'label': 'person', 'confidence': np.float32(0.6873328), 'bbox': (np.float32(81.08743), np.float32(486.9429), np.float32(185.50818), np.float32(653.0245)), 'team': 1, 'referee': True}, {'frame': 20, 'label': 'person', 'confidence': np.float32(0.6333699), 'bbox': (np.float32(1399.2675), np.float32(424.51404), np.float32(1485.4369), np.float32(540.8135)), 'team': 1, 'referee': True}, {'frame': 20, 'label': 'person', 'confidence': np.float32(0.31193367), 'bbox': (np.float32(0.0), np.float32(136.15869), np.float32(55.000717), np.float32(281.5469)), 'team': 1}, {'frame': 20, 'label': 'person', 'confidence': np.float32(0.2655924), 'bbox': (np.float32(0.0), np.float32(950.03986), np.float32(52.467663), np.float32(1066.3933)), 'team': 1, 'referee': True}, {'frame': 21, 'label': 'person', 'confidence': np.float32(0.8666129), 'bbox': (np.float32(449.38077), np.float32(497.84988), np.float32(563.4094), np.float32(668.27014)), 'team': 0, 'referee': True}, {'frame': 21, 'label': 'person', 'confidence': np.float32(0.82348126), 'bbox': (np.float32(261.68225), np.float32(790.37384), np.float32(478.17307), np.float32(1012.179)), 'team': 0, 'referee': True}, {'frame': 21, 'label': 'person', 'confidence': np.float32(0.79258376), 'bbox': (np.float32(1254.8383), np.float32(420.01318), np.float32(1329.3094), np.float32(549.1646)), 'team': 0, 'referee': True}, {'frame': 21, 'label': 'person', 'confidence': np.float32(0.7914493), 'bbox': (np.float32(1330.6228), np.float32(599.8121), np.float32(1436.6737), np.float32(802.2054)), 'team': 1, 'referee': True}, {'frame': 21, 'label': 'person', 'confidence': np.float32(0.64589083), 'bbox': (np.float32(1461.921), np.float32(515.72644), np.float32(1567.2869), np.float32(681.70557)), 'team': 0, 'referee': True}, {'frame': 21, 'label': 'person', 'confidence': np.float32(0.61193293), 'bbox': (np.float32(99.671524), np.float32(494.75293), np.float32(215.08768), np.float32(655.823)), 'team': 1, 'referee': True}, {'frame': 21, 'label': 'person', 'confidence': np.float32(0.5461118), 'bbox': (np.float32(1401.5216), np.float32(427.0372), np.float32(1492.7246), np.float32(535.86255)), 'team': 1, 'referee': True}, {'frame': 21, 'label': 'person', 'confidence': np.float32(0.48518282), 'bbox': (np.float32(0.035533905), np.float32(944.9649), np.float32(54.508656), np.float32(1070.4095)), 'team': 1, 'referee': True}, {'frame': 22, 'label': 'person', 'confidence': np.float32(0.85491663), 'bbox': (np.float32(456.52927), np.float32(495.93512), np.float32(557.95074), np.float32(665.6675)), 'team': 0, 'referee': True}, {'frame': 22, 'label': 'person', 'confidence': np.float32(0.8293583), 'bbox': (np.float32(1335.4669), np.float32(598.4665), np.float32(1456.901), np.float32(794.6951)), 'team': 1, 'referee': True}, {'frame': 22, 'label': 'person', 'confidence': np.float32(0.80825883), 'bbox': (np.float32(1252.8212), np.float32(419.77884), np.float32(1329.4941), np.float32(548.02185)), 'team': 0, 'referee': True}, {'frame': 22, 'label': 'person', 'confidence': np.float32(0.7638048), 'bbox': (np.float32(1471.5529), np.float32(520.2694), np.float32(1573.6813), np.float32(681.6877)), 'team': 0, 'referee': True}, {'frame': 22, 'label': 'person', 'confidence': np.float32(0.75831157), 'bbox': (np.float32(255.62793), np.float32(789.62994), np.float32(482.11926), np.float32(1003.4393)), 'team': 0, 'referee': True}, {'frame': 22, 'label': 'person', 'confidence': np.float32(0.7318222), 'bbox': (np.float32(112.51887), np.float32(497.22458), np.float32(228.22545), np.float32(656.7975)), 'team': 1, 'referee': True}, {'frame': 22, 'label': 'person', 'confidence': np.float32(0.6127336), 'bbox': (np.float32(1409.0758), np.float32(428.92047), np.float32(1478.503), np.float32(536.5634)), 'team': 1, 'referee': True}, {'frame': 22, 'label': 'person', 'confidence': np.float32(0.54910487), 'bbox': (np.float32(0.0), np.float32(938.03143), np.float32(58.181683), np.float32(1065.4529)), 'team': 1, 'referee': True}, {'frame': 22, 'label': 'person', 'confidence': np.float32(0.45847976), 'bbox': (np.float32(1448.9978), np.float32(429.8457), np.float32(1500.5912), np.float32(536.0659)), 'team': 0, 'referee': True}, {'frame': 22, 'label': 'person', 'confidence': np.float32(0.29927868), 'bbox': (np.float32(1429.2075), np.float32(224.69989), np.float32(1493.6971), np.float32(293.8759))}, {'frame': 23, 'label': 'person', 'confidence': np.float32(0.8670824), 'bbox': (np.float32(454.10324), np.float32(491.07178), np.float32(553.4524), np.float32(666.0717)), 'team': 0, 'referee': True}, {'frame': 23, 'label': 'person', 'confidence': np.float32(0.8221727), 'bbox': (np.float32(1479.7705), np.float32(514.0668), np.float32(1572.1711), np.float32(676.4143)), 'team': 0, 'referee': True}, {'frame': 23, 'label': 'person', 'confidence': np.float32(0.7900781), 'bbox': (np.float32(1257.0648), np.float32(419.0597), np.float32(1331.118), np.float32(544.9564)), 'team': 0, 'referee': True}, {'frame': 23, 'label': 'person', 'confidence': np.float32(0.75261205), 'bbox': (np.float32(1336.6195), np.float32(611.8773), np.float32(1431.6226), np.float32(762.38434)), 'team': 1, 'referee': True}, {'frame': 23, 'label': 'person', 'confidence': np.float32(0.68580306), 'bbox': (np.float32(1421.261), np.float32(424.46414), np.float32(1503.4131), np.float32(538.3121)), 'team': 1, 'referee': True}, {'frame': 23, 'label': 'person', 'confidence': np.float32(0.6557037), 'bbox': (np.float32(122.63082), np.float32(509.86835), np.float32(235.09946), np.float32(654.3763)), 'team': 1, 'referee': True}, {'frame': 23, 'label': 'person', 'confidence': np.float32(0.6345461), 'bbox': (np.float32(255.37706), np.float32(796.7588), np.float32(381.3364), np.float32(974.5447)), 'team': 0, 'referee': True}, {'frame': 23, 'label': 'person', 'confidence': np.float32(0.47550118), 'bbox': (np.float32(0.26977158), np.float32(928.9466), np.float32(63.79778), np.float32(1061.1064)), 'team': 1, 'referee': True}, {'frame': 23, 'label': 'person', 'confidence': np.float32(0.3611149), 'bbox': (np.float32(254.94783), np.float32(358.65524), np.float32(327.1256), np.float32(467.969))}, {'frame': 24, 'label': 'person', 'confidence': np.float32(0.84230244), 'bbox': (np.float32(456.685), np.float32(493.62692), np.float32(556.1356), np.float32(665.88257)), 'team': 0, 'referee': True}, {'frame': 24, 'label': 'person', 'confidence': np.float32(0.7974551), 'bbox': (np.float32(1478.0984), np.float32(512.4966), np.float32(1579.4485), np.float32(680.6264)), 'team': 0, 'referee': True}, {'frame': 24, 'label': 'person', 'confidence': np.float32(0.7899584), 'bbox': (np.float32(1331.4446), np.float32(593.91156), np.float32(1435.2229), np.float32(767.1491)), 'team': 1, 'referee': True}, {'frame': 24, 'label': 'person', 'confidence': np.float32(0.7203026), 'bbox': (np.float32(1260.4653), np.float32(422.4054), np.float32(1333.5951), np.float32(551.50116)), 'team': 0, 'referee': True}, {'frame': 24, 'label': 'person', 'confidence': np.float32(0.66662997), 'bbox': (np.float32(1434.5442), np.float32(423.752), np.float32(1516.085), np.float32(530.2297)), 'team': 1, 'referee': True}, {'frame': 24, 'label': 'person', 'confidence': np.float32(0.62707895), 'bbox': (np.float32(0.43075562), np.float32(918.36365), np.float32(67.113365), np.float32(1067.2175)), 'team': 1, 'referee': True}, {'frame': 24, 'label': 'person', 'confidence': np.float32(0.5165943), 'bbox': (np.float32(208.11502), np.float32(789.81134), np.float32(421.78156), np.float32(974.7389)), 'team': 0, 'referee': True}, {'frame': 24, 'label': 'person', 'confidence': np.float32(0.50859404), 'bbox': (np.float32(126.587814), np.float32(509.2607), np.float32(274.9118), np.float32(659.9169)), 'team': 1, 'referee': True}, {'frame': 25, 'label': 'person', 'confidence': np.float32(0.83116406), 'bbox': (np.float32(457.04648), np.float32(486.67944), np.float32(564.97504), np.float32(664.3907)), 'team': 1, 'referee': True}, {'frame': 25, 'label': 'person', 'confidence': np.float32(0.8164259), 'bbox': (np.float32(1261.3639), np.float32(423.72916), np.float32(1343.8916), np.float32(551.91046)), 'team': 0, 'referee': True}, {'frame': 25, 'label': 'person', 'confidence': np.float32(0.8018036), 'bbox': (np.float32(1322.9337), np.float32(596.03265), np.float32(1436.9762), np.float32(763.525)), 'team': 1, 'referee': True}, {'frame': 25, 'label': 'person', 'confidence': np.float32(0.79278815), 'bbox': (np.float32(1477.9897), np.float32(508.28723), np.float32(1583.2714), np.float32(684.1159)), 'team': 0, 'referee': True}, {'frame': 25, 'label': 'person', 'confidence': np.float32(0.7795404), 'bbox': (np.float32(0.869854), np.float32(914.02423), np.float32(67.830215), np.float32(1070.187)), 'team': 1, 'referee': True}, {'frame': 25, 'label': 'person', 'confidence': np.float32(0.738556), 'bbox': (np.float32(204.82681), np.float32(785.94543), np.float32(413.283), np.float32(976.5756)), 'team': 0, 'referee': True}, {'frame': 25, 'label': 'person', 'confidence': np.float32(0.7348036), 'bbox': (np.float32(135.43723), np.float32(508.73346), np.float32(292.3148), np.float32(663.1062)), 'team': 1, 'referee': True}, {'frame': 25, 'label': 'person', 'confidence': np.float32(0.6039259), 'bbox': (np.float32(1443.7156), np.float32(424.877), np.float32(1526.7078), np.float32(527.9867)), 'team': 1, 'referee': True}, {'frame': 26, 'label': 'person', 'confidence': np.float32(0.83034), 'bbox': (np.float32(466.572), np.float32(489.25427), np.float32(578.7151), np.float32(663.7428)), 'team': 1, 'referee': True}, {'frame': 26, 'label': 'person', 'confidence': np.float32(0.81223035), 'bbox': (np.float32(1314.8147), np.float32(596.2759), np.float32(1444.6512), np.float32(763.3802)), 'team': 1, 'referee': True}, {'frame': 26, 'label': 'person', 'confidence': np.float32(0.80396974), 'bbox': (np.float32(191.97484), np.float32(788.4742), np.float32(373.95563), np.float32(976.70917)), 'team': 0, 'referee': True}, {'frame': 26, 'label': 'person', 'confidence': np.float32(0.7925559), 'bbox': (np.float32(0.8522215), np.float32(903.0129), np.float32(66.5875), np.float32(1070.1799)), 'team': 1, 'referee': True}, {'frame': 26, 'label': 'person', 'confidence': np.float32(0.78081816), 'bbox': (np.float32(1258.0052), np.float32(427.5325), np.float32(1355.1467), np.float32(560.0448)), 'team': 0, 'referee': True}, {'frame': 26, 'label': 'person', 'confidence': np.float32(0.7375598), 'bbox': (np.float32(154.65076), np.float32(498.54135), np.float32(281.10626), np.float32(665.29083)), 'team': 1, 'referee': True}, {'frame': 26, 'label': 'person', 'confidence': np.float32(0.6842945), 'bbox': (np.float32(1481.7074), np.float32(509.94424), np.float32(1588.2874), np.float32(684.319)), 'team': 0, 'referee': True}, {'frame': 26, 'label': 'person', 'confidence': np.float32(0.5752926), 'bbox': (np.float32(1453.5194), np.float32(422.14215), np.float32(1535.3187), np.float32(529.01135)), 'team': 1, 'referee': True}, {'frame': 27, 'label': 'person', 'confidence': np.float32(0.82443523), 'bbox': (np.float32(465.53275), np.float32(491.02042), np.float32(598.2021), np.float32(665.1591)), 'team': 1, 'referee': True}, {'frame': 27, 'label': 'person', 'confidence': np.float32(0.80701375), 'bbox': (np.float32(1307.555), np.float32(595.9162), np.float32(1452.2483), np.float32(759.95135)), 'team': 1, 'referee': True}, {'frame': 27, 'label': 'person', 'confidence': np.float32(0.7459912), 'bbox': (np.float32(0.8709984), np.float32(901.01624), np.float32(66.24198), np.float32(1071.3241)), 'team': 1, 'referee': True}, {'frame': 27, 'label': 'person', 'confidence': np.float32(0.74596375), 'bbox': (np.float32(165.7575), np.float32(498.85284), np.float32(291.06146), np.float32(661.4774)), 'team': 1, 'referee': True}, {'frame': 27, 'label': 'person', 'confidence': np.float32(0.7257716), 'bbox': (np.float32(1261.9812), np.float32(428.00107), np.float32(1337.3884), np.float32(563.19037)), 'team': 0, 'referee': True}, {'frame': 27, 'label': 'person', 'confidence': np.float32(0.7110044), 'bbox': (np.float32(1473.3778), np.float32(456.2388), np.float32(1593.3407), np.float32(692.1546)), 'team': 0, 'referee': True}, {'frame': 27, 'label': 'person', 'confidence': np.float32(0.6546283), 'bbox': (np.float32(192.7425), np.float32(791.4663), np.float32(363.05145), np.float32(977.36194)), 'team': 0, 'referee': True}, {'frame': 28, 'label': 'person', 'confidence': np.float32(0.812049), 'bbox': (np.float32(1303.3779), np.float32(592.4974), np.float32(1454.2297), np.float32(754.4271)), 'team': 1, 'referee': True}, {'frame': 28, 'label': 'person', 'confidence': np.float32(0.7753131), 'bbox': (np.float32(1254.2955), np.float32(430.4489), np.float32(1341.6566), np.float32(567.42303)), 'team': 0, 'referee': True}, {'frame': 28, 'label': 'person', 'confidence': np.float32(0.72725844), 'bbox': (np.float32(1494.2681), np.float32(502.09726), np.float32(1601.9121), np.float32(689.7999)), 'team': 0, 'referee': True}, {'frame': 28, 'label': 'person', 'confidence': np.float32(0.6888149), 'bbox': (np.float32(482.58572), np.float32(508.61032), np.float32(608.3859), np.float32(664.9369)), 'team': 1, 'referee': True}, {'frame': 28, 'label': 'person', 'confidence': np.float32(0.5836934), 'bbox': (np.float32(180.08507), np.float32(496.50732), np.float32(292.34537), np.float32(663.99023)), 'team': 1, 'referee': True}, {'frame': 28, 'label': 'person', 'confidence': np.float32(0.49227262), 'bbox': (np.float32(0.18720818), np.float32(896.5781), np.float32(62.971703), np.float32(1068.6786)), 'team': 1, 'referee': True}, {'frame': 28, 'label': 'person', 'confidence': np.float32(0.399561), 'bbox': (np.float32(193.38103), np.float32(794.8903), np.float32(351.93118), np.float32(980.0396)), 'team': 0, 'referee': True}, {'frame': 28, 'label': 'person', 'confidence': np.float32(0.36764446), 'bbox': (np.float32(1472.9922), np.float32(427.01013), np.float32(1562.0409), np.float32(535.97437)), 'team': 1, 'referee': True}, {'frame': 29, 'label': 'person', 'confidence': np.float32(0.8375202), 'bbox': (np.float32(1303.862), np.float32(585.18146), np.float32(1466.6136), np.float32(751.1852)), 'team': 1, 'referee': True}, {'frame': 29, 'label': 'person', 'confidence': np.float32(0.80408525), 'bbox': (np.float32(1250.2933), np.float32(434.3185), np.float32(1356.8853), np.float32(567.40137)), 'team': 0, 'referee': True}, {'frame': 29, 'label': 'person', 'confidence': np.float32(0.78445965), 'bbox': (np.float32(1508.6329), np.float32(510.3361), np.float32(1608.8738), np.float32(687.51514)), 'team': 0, 'referee': True}, {'frame': 29, 'label': 'person', 'confidence': np.float32(0.68840504), 'bbox': (np.float32(473.2731), np.float32(493.9499), np.float32(595.3516), np.float32(663.4549)), 'team': 1, 'referee': True}, {'frame': 29, 'label': 'person', 'confidence': np.float32(0.65507), 'bbox': (np.float32(181.6052), np.float32(795.59015), np.float32(343.75223), np.float32(982.81824)), 'team': 0, 'referee': True}, {'frame': 29, 'label': 'person', 'confidence': np.float32(0.5752778), 'bbox': (np.float32(191.0426), np.float32(503.23737), np.float32(308.60693), np.float32(660.09174)), 'team': 1, 'referee': True}, {'frame': 29, 'label': 'person', 'confidence': np.float32(0.46968746), 'bbox': (np.float32(1491.3566), np.float32(428.15067), np.float32(1569.7065), np.float32(550.045)), 'team': 1, 'referee': True}, {'frame': 29, 'label': 'person', 'confidence': np.float32(0.45439625), 'bbox': (np.float32(0.14215851), np.float32(890.99255), np.float32(70.091835), np.float32(1069.2466)), 'team': 1, 'referee': True}, {'frame': 30, 'label': 'person', 'confidence': np.float32(0.8495842), 'bbox': (np.float32(1308.3591), np.float32(580.14246), np.float32(1475.0986), np.float32(749.12854)), 'team': 1, 'referee': True}, {'frame': 30, 'label': 'person', 'confidence': np.float32(0.80915016), 'bbox': (np.float32(1256.2936), np.float32(436.84976), np.float32(1357.3419), np.float32(573.4261)), 'team': 0, 'referee': True}, {'frame': 30, 'label': 'person', 'confidence': np.float32(0.80311877), 'bbox': (np.float32(1524.5068), np.float32(517.79004), np.float32(1617.7632), np.float32(684.19086)), 'team': 0, 'referee': True}, {'frame': 30, 'label': 'person', 'confidence': np.float32(0.76930606), 'bbox': (np.float32(484.54312), np.float32(497.02335), np.float32(588.7638), np.float32(662.0162)), 'team': 1, 'referee': True}, {'frame': 30, 'label': 'person', 'confidence': np.float32(0.7669378), 'bbox': (np.float32(176.45842), np.float32(800.0001), np.float32(336.44772), np.float32(986.9012)), 'team': 0, 'referee': True}, {'frame': 30, 'label': 'person', 'confidence': np.float32(0.6261163), 'bbox': (np.float32(199.25665), np.float32(504.945), np.float32(328.27972), np.float32(652.16644)), 'team': 1, 'referee': True}, {'frame': 30, 'label': 'person', 'confidence': np.float32(0.6157608), 'bbox': (np.float32(1502.2166), np.float32(421.03357), np.float32(1582.1514), np.float32(550.1638)), 'team': 1, 'referee': True}, {'frame': 30, 'label': 'person', 'confidence': np.float32(0.5186008), 'bbox': (np.float32(0.0), np.float32(879.4116), np.float32(63.952938), np.float32(1055.3492)), 'team': 1, 'referee': True}, {'frame': 31, 'label': 'person', 'confidence': np.float32(0.8272631), 'bbox': (np.float32(496.8369), np.float32(498.7153), np.float32(585.8765), np.float32(659.6214)), 'team': 1, 'referee': True}, {'frame': 31, 'label': 'person', 'confidence': np.float32(0.78396523), 'bbox': (np.float32(172.36845), np.float32(803.5413), np.float32(331.53275), np.float32(987.86993)), 'team': 0, 'referee': True}, {'frame': 31, 'label': 'person', 'confidence': np.float32(0.7803446), 'bbox': (np.float32(1530.1926), np.float32(520.90247), np.float32(1626.5216), np.float32(683.8425)), 'team': 0, 'referee': True}, {'frame': 31, 'label': 'person', 'confidence': np.float32(0.6434718), 'bbox': (np.float32(207.45259), np.float32(513.18365), np.float32(328.07904), np.float32(663.45746)), 'team': 1, 'referee': True}, {'frame': 31, 'label': 'person', 'confidence': np.float32(0.58841735), 'bbox': (np.float32(1271.2349), np.float32(444.70258), np.float32(1469.6869), np.float32(744.5594)), 'team': 0, 'referee': True}, {'frame': 31, 'label': 'person', 'confidence': np.float32(0.57526064), 'bbox': (np.float32(1259.2577), np.float32(436.12097), np.float32(1373.9142), np.float32(584.83307)), 'team': 1, 'referee': True}, {'frame': 31, 'label': 'person', 'confidence': np.float32(0.4624359), 'bbox': (np.float32(1506.3436), np.float32(423.87875), np.float32(1592.2402), np.float32(551.7881)), 'team': 1, 'referee': True}, {'frame': 31, 'label': 'person', 'confidence': np.float32(0.45265502), 'bbox': (np.float32(0.0), np.float32(870.03485), np.float32(56.119255), np.float32(1045.8325)), 'team': 1, 'referee': True}, {'frame': 31, 'label': 'person', 'confidence': np.float32(0.28536347), 'bbox': (np.float32(1306.7959), np.float32(583.0611), np.float32(1468.0023), np.float32(742.27954)), 'team': 0, 'referee': True}, {'frame': 31, 'label': 'person', 'confidence': np.float32(0.25394475), 'bbox': (np.float32(2.7330666), np.float32(946.2377), np.float32(134.77501), np.float32(1067.4492)), 'team': 0, 'referee': True}, {'frame': 32, 'label': 'person', 'confidence': np.float32(0.79794663), 'bbox': (np.float32(1535.5253), np.float32(517.508), np.float32(1636.0833), np.float32(687.6661)), 'team': 0, 'referee': True}, {'frame': 32, 'label': 'person', 'confidence': np.float32(0.78810006), 'bbox': (np.float32(1273.1635), np.float32(436.51587), np.float32(1377.204), np.float32(570.5009)), 'team': 0, 'referee': True}, {'frame': 32, 'label': 'person', 'confidence': np.float32(0.77193874), 'bbox': (np.float32(1308.9928), np.float32(582.90674), np.float32(1449.033), np.float32(737.70483)), 'team': 1, 'referee': True}, {'frame': 32, 'label': 'person', 'confidence': np.float32(0.76154625), 'bbox': (np.float32(168.81001), np.float32(803.7803), np.float32(329.64764), np.float32(986.6404)), 'team': 0, 'referee': True}, {'frame': 32, 'label': 'person', 'confidence': np.float32(0.7122843), 'bbox': (np.float32(219.67863), np.float32(506.4759), np.float32(331.27362), np.float32(663.6)), 'team': 0, 'referee': True}, {'frame': 32, 'label': 'person', 'confidence': np.float32(0.64879435), 'bbox': (np.float32(488.35016), np.float32(496.0624), np.float32(587.4994), np.float32(656.79785)), 'team': 1, 'referee': True}, {'frame': 32, 'label': 'person', 'confidence': np.float32(0.6372403), 'bbox': (np.float32(0.0), np.float32(847.54816), np.float32(58.689285), np.float32(1034.3796)), 'team': 1, 'referee': True}, {'frame': 32, 'label': 'person', 'confidence': np.float32(0.50056475), 'bbox': (np.float32(1515.0267), np.float32(414.56537), np.float32(1605.8417), np.float32(527.5662)), 'team': 1, 'referee': True}, {'frame': 33, 'label': 'person', 'confidence': np.float32(0.83226466), 'bbox': (np.float32(1545.2996), np.float32(508.4602), np.float32(1643.5953), np.float32(683.0291)), 'team': 0, 'referee': True}, {'frame': 33, 'label': 'person', 'confidence': np.float32(0.82895786), 'bbox': (np.float32(166.10239), np.float32(802.8381), np.float32(323.3488), np.float32(988.5248)), 'team': 0, 'referee': True}, {'frame': 33, 'label': 'person', 'confidence': np.float32(0.7336707), 'bbox': (np.float32(487.40326), np.float32(493.76086), np.float32(593.7379), np.float32(663.2589)), 'team': 1, 'referee': True}, {'frame': 33, 'label': 'person', 'confidence': np.float32(0.72911566), 'bbox': (np.float32(229.84357), np.float32(496.61548), np.float32(343.05817), np.float32(664.5609)), 'team': 0, 'referee': True}, {'frame': 33, 'label': 'person', 'confidence': np.float32(0.6964533), 'bbox': (np.float32(1303.3849), np.float32(550.44543), np.float32(1444.9775), np.float32(729.23804)), 'team': 1, 'referee': True}, {'frame': 33, 'label': 'person', 'confidence': np.float32(0.62924767), 'bbox': (np.float32(1272.3105), np.float32(431.6987), np.float32(1381.4515), np.float32(569.929)), 'team': 0, 'referee': True}, {'frame': 33, 'label': 'person', 'confidence': np.float32(0.56492835), 'bbox': (np.float32(0.71578217), np.float32(837.9708), np.float32(72.06189), np.float32(1038.0518)), 'team': 1, 'referee': True}, {'frame': 33, 'label': 'person', 'confidence': np.float32(0.34297454), 'bbox': (np.float32(1285.1415), np.float32(433.14362), np.float32(1434.1539), np.float32(694.1867)), 'team': 0, 'referee': True}, {'frame': 34, 'label': 'person', 'confidence': np.float32(0.83471406), 'bbox': (np.float32(163.83484), np.float32(802.02747), np.float32(318.09677), np.float32(988.2913)), 'team': 0, 'referee': True}, {'frame': 34, 'label': 'person', 'confidence': np.float32(0.7912954), 'bbox': (np.float32(238.23094), np.float32(484.65082), np.float32(351.84146), np.float32(667.27185)), 'team': 1, 'referee': True}, {'frame': 34, 'label': 'person', 'confidence': np.float32(0.77631927), 'bbox': (np.float32(492.35114), np.float32(494.3174), np.float32(600.20703), np.float32(664.7424)), 'team': 1, 'referee': True}, {'frame': 34, 'label': 'person', 'confidence': np.float32(0.6678046), 'bbox': (np.float32(1271.8065), np.float32(430.9865), np.float32(1398.2058), np.float32(569.0743)), 'team': 0, 'referee': True}, {'frame': 34, 'label': 'person', 'confidence': np.float32(0.66159445), 'bbox': (np.float32(1542.3516), np.float32(426.1338), np.float32(1649.3419), np.float32(694.8017)), 'team': 0, 'referee': True}, {'frame': 34, 'label': 'person', 'confidence': np.float32(0.65999854), 'bbox': (np.float32(1305.1094), np.float32(556.9154), np.float32(1442.6477), np.float32(729.01935)), 'team': 1, 'referee': True}, {'frame': 34, 'label': 'person', 'confidence': np.float32(0.655634), 'bbox': (np.float32(2.2789307), np.float32(835.82886), np.float32(80.28326), np.float32(1030.2983)), 'team': 1, 'referee': True}, {'frame': 35, 'label': 'person', 'confidence': np.float32(0.82096356), 'bbox': (np.float32(156.81892), np.float32(796.5896), np.float32(307.30392), np.float32(987.97766)), 'team': 0, 'referee': True}, {'frame': 35, 'label': 'person', 'confidence': np.float32(0.79682434), 'bbox': (np.float32(498.7091), np.float32(495.13257), np.float32(612.3828), np.float32(666.92)), 'team': 1, 'referee': True}, {'frame': 35, 'label': 'person', 'confidence': np.float32(0.77433074), 'bbox': (np.float32(246.76488), np.float32(474.1723), np.float32(351.151), np.float32(659.9621)), 'team': 0, 'referee': True}, {'frame': 35, 'label': 'person', 'confidence': np.float32(0.74865675), 'bbox': (np.float32(0.516572), np.float32(833.22754), np.float32(79.4117), np.float32(1028.7238)), 'team': 1, 'referee': True}, {'frame': 35, 'label': 'person', 'confidence': np.float32(0.7174989), 'bbox': (np.float32(1516.5941), np.float32(401.1839), np.float32(1647.3798), np.float32(700.4057)), 'team': 0, 'referee': True}, {'frame': 35, 'label': 'person', 'confidence': np.float32(0.6697744), 'bbox': (np.float32(1270.8835), np.float32(425.9655), np.float32(1412.6814), np.float32(582.2484)), 'team': 0, 'referee': True}, {'frame': 35, 'label': 'person', 'confidence': np.float32(0.62387156), 'bbox': (np.float32(1309.9479), np.float32(551.67914), np.float32(1443.1619), np.float32(720.8935)), 'team': 1, 'referee': True}, {'frame': 35, 'label': 'person', 'confidence': np.float32(0.34048474), 'bbox': (np.float32(1281.8181), np.float32(436.4461), np.float32(1432.1378), np.float32(713.26447)), 'team': 0, 'referee': True}, {'frame': 36, 'label': 'person', 'confidence': np.float32(0.8304296), 'bbox': (np.float32(152.70396), np.float32(798.27325), np.float32(300.52472), np.float32(986.9909)), 'team': 0, 'referee': True}, {'frame': 36, 'label': 'person', 'confidence': np.float32(0.7976206), 'bbox': (np.float32(252.08052), np.float32(479.8748), np.float32(348.12817), np.float32(653.94946)), 'team': 0, 'referee': True}, {'frame': 36, 'label': 'person', 'confidence': np.float32(0.7799204), 'bbox': (np.float32(489.5345), np.float32(496.20126), np.float32(624.09045), np.float32(667.30634)), 'team': 1, 'referee': True}, {'frame': 36, 'label': 'person', 'confidence': np.float32(0.6931546), 'bbox': (np.float32(0.38205528), np.float32(832.16986), np.float32(78.26605), np.float32(1019.4307)), 'team': 1, 'referee': True}, {'frame': 36, 'label': 'person', 'confidence': np.float32(0.68881947), 'bbox': (np.float32(1556.5035), np.float32(500.23383), np.float32(1658.3442), np.float32(693.8802)), 'team': 0, 'referee': True}, {'frame': 36, 'label': 'person', 'confidence': np.float32(0.6779038), 'bbox': (np.float32(1284.7906), np.float32(432.18918), np.float32(1444.901), np.float32(720.949)), 'team': 0, 'referee': True}, {'frame': 36, 'label': 'person', 'confidence': np.float32(0.47795776), 'bbox': (np.float32(1274.8693), np.float32(421.15915), np.float32(1390.9902), np.float32(559.3036)), 'team': 1, 'referee': True}, {'frame': 36, 'label': 'person', 'confidence': np.float32(0.3172429), 'bbox': (np.float32(1529.1249), np.float32(391.2078), np.float32(1647.734), np.float32(642.9774)), 'team': 1, 'referee': True}, {'frame': 36, 'label': 'person', 'confidence': np.float32(0.25430045), 'bbox': (np.float32(1518.2833), np.float32(392.17194), np.float32(1639.0372), np.float32(509.59967)), 'team': 1, 'referee': True}, {'frame': 37, 'label': 'person', 'confidence': np.float32(0.8397954), 'bbox': (np.float32(491.71902), np.float32(482.2646), np.float32(627.88684), np.float32(663.6121)), 'team': 1, 'referee': True}, {'frame': 37, 'label': 'person', 'confidence': np.float32(0.8128232), 'bbox': (np.float32(258.9919), np.float32(479.11075), np.float32(347.8227), np.float32(651.34094)), 'team': 1, 'referee': True}, {'frame': 37, 'label': 'person', 'confidence': np.float32(0.7017239), 'bbox': (np.float32(0.5427532), np.float32(834.36957), np.float32(89.22516), np.float32(1013.1248)), 'team': 1, 'referee': True}, {'frame': 37, 'label': 'person', 'confidence': np.float32(0.68381053), 'bbox': (np.float32(1269.5039), np.float32(417.66577), np.float32(1366.5293), np.float32(554.3249)), 'team': 0, 'referee': True}, {'frame': 37, 'label': 'person', 'confidence': np.float32(0.6758825), 'bbox': (np.float32(1305.4094), np.float32(511.6096), np.float32(1457.4083), np.float32(716.5001)), 'team': 1, 'referee': True}, {'frame': 37, 'label': 'person', 'confidence': np.float32(0.6599393), 'bbox': (np.float32(137.6114), np.float32(795.42926), np.float32(329.57697), np.float32(1059.4261)), 'team': 0, 'referee': True}, {'frame': 37, 'label': 'person', 'confidence': np.float32(0.6294931), 'bbox': (np.float32(1545.8094), np.float32(415.9946), np.float32(1663.5972), np.float32(686.0399)), 'team': 0, 'referee': True}, {'frame': 38, 'label': 'person', 'confidence': np.float32(0.7249526), 'bbox': (np.float32(1015.69904), np.float32(273.20035), np.float32(1451.4017), np.float32(724.4683)), 'team': 0, 'referee': True}, {'frame': 38, 'label': 'person', 'confidence': np.float32(0.4711416), 'bbox': (np.float32(1105.2755), np.float32(14.027049), np.float32(1340.6726), np.float32(253.07626)), 'team': 1}, {'frame': 39, 'label': 'person', 'confidence': np.float32(0.77614504), 'bbox': (np.float32(980.76306), np.float32(273.3235), np.float32(1389.2937), np.float32(712.15936)), 'team': 0, 'referee': True}, {'frame': 39, 'label': 'person', 'confidence': np.float32(0.75663763), 'bbox': (np.float32(1261.8934), np.float32(616.5218), np.float32(1596.4048), np.float32(1071.6283)), 'team': 1, 'referee': True}, {'frame': 39, 'label': 'person', 'confidence': np.float32(0.55295235), 'bbox': (np.float32(1180.8613), np.float32(7.6197195), np.float32(1435.2579), np.float32(245.1947)), 'team': 0}, {'frame': 39, 'label': 'person', 'confidence': np.float32(0.29339007), 'bbox': (np.float32(0.7866554), np.float32(369.97675), np.float32(129.19505), np.float32(604.4068))}, {'frame': 40, 'label': 'person', 'confidence': np.float32(0.84293544), 'bbox': (np.float32(957.7011), np.float32(255.30505), np.float32(1385.0564), np.float32(724.7255)), 'team': 0, 'referee': True}, {'frame': 40, 'label': 'person', 'confidence': np.float32(0.8031577), 'bbox': (np.float32(1224.626), np.float32(622.7772), np.float32(1573.8993), np.float32(1074.0171)), 'team': 1, 'referee': True}, {'frame': 40, 'label': 'person', 'confidence': np.float32(0.4939436), 'bbox': (np.float32(1266.8436), np.float32(3.6422796), np.float32(1519.8387), np.float32(230.26437))}, {'frame': 40, 'label': 'person', 'confidence': np.float32(0.2939343), 'bbox': (np.float32(667.53577), np.float32(6.316306), np.float32(982.8952), np.float32(265.41577)), 'team': 1}, {'frame': 41, 'label': 'person', 'confidence': np.float32(0.80454165), 'bbox': (np.float32(1198.2628), np.float32(616.76636), np.float32(1560.9514), np.float32(1074.2834)), 'team': 1, 'referee': True}, {'frame': 41, 'label': 'person', 'confidence': np.float32(0.75811094), 'bbox': (np.float32(952.1044), np.float32(245.8125), np.float32(1429.59), np.float32(709.29834)), 'team': 0, 'referee': True}, {'frame': 41, 'label': 'person', 'confidence': np.float32(0.38381252), 'bbox': (np.float32(1353.2188), np.float32(3.7894278), np.float32(1613.6715), np.float32(221.34206))}, {'frame': 42, 'label': 'person', 'confidence': np.float32(0.8432679), 'bbox': (np.float32(933.97253), np.float32(238.85898), np.float32(1320.7668), np.float32(716.16046)), 'team': 0, 'referee': True}, {'frame': 42, 'label': 'person', 'confidence': np.float32(0.5795075), 'bbox': (np.float32(1191.6873), np.float32(629.75433), np.float32(1554.043), np.float32(1069.83)), 'team': 1, 'referee': True}, {'frame': 42, 'label': 'person', 'confidence': np.float32(0.38962018), 'bbox': (np.float32(1444.9177), np.float32(0.0), np.float32(1696.1317), np.float32(211.0033)), 'team': 0}, {'frame': 42, 'label': 'skis', 'confidence': np.float32(0.30059445), 'bbox': (np.float32(679.47144), np.float32(546.3164), np.float32(1530.0593), np.float32(972.224)), 'team': 0, 'referee': True}, {'frame': 43, 'label': 'person', 'confidence': np.float32(0.8687091), 'bbox': (np.float32(935.6996), np.float32(234.05673), np.float32(1300.4238), np.float32(711.9047)), 'team': 0, 'referee': True}, {'frame': 43, 'label': 'person', 'confidence': np.float32(0.67267203), 'bbox': (np.float32(1165.3043), np.float32(620.90314), np.float32(1544.1329), np.float32(1064.9568)), 'team': 1, 'referee': True}, {'frame': 44, 'label': 'person', 'confidence': np.float32(0.836737), 'bbox': (np.float32(927.4109), np.float32(208.17079), np.float32(1298.0197), np.float32(706.17633)), 'team': 0, 'referee': True}, {'frame': 44, 'label': 'person', 'confidence': np.float32(0.57266706), 'bbox': (np.float32(1135.568), np.float32(618.45685), np.float32(1577.0094), np.float32(1071.0966)), 'team': 1, 'referee': True}, {'frame': 44, 'label': 'person', 'confidence': np.float32(0.3623749), 'bbox': (np.float32(724.49365), np.float32(55.356834), np.float32(975.9678), np.float32(244.75595)), 'team': 1}, {'frame': 45, 'label': 'person', 'confidence': np.float32(0.6335753), 'bbox': (np.float32(874.31946), np.float32(203.17818), np.float32(1307.5592), np.float32(689.479)), 'team': 0, 'referee': True}, {'frame': 45, 'label': 'person', 'confidence': np.float32(0.6144004), 'bbox': (np.float32(1109.5433), np.float32(588.65515), np.float32(1608.9192), np.float32(1072.6705)), 'team': 1, 'referee': True}, {'frame': 45, 'label': 'person', 'confidence': np.float32(0.281071), 'bbox': (np.float32(892.57294), np.float32(186.91489), np.float32(1581.8464), np.float32(1054.3158)), 'team': 0, 'referee': True}, {'frame': 46, 'label': 'person', 'confidence': np.float32(0.8746848), 'bbox': (np.float32(1072.7463), np.float32(599.33606), np.float32(1693.2404), np.float32(1067.8765)), 'team': 1, 'referee': True}, {'frame': 46, 'label': 'person', 'confidence': np.float32(0.8496734), 'bbox': (np.float32(914.5957), np.float32(192.64409), np.float32(1297.1968), np.float32(679.7377)), 'team': 0, 'referee': True}, {'frame': 46, 'label': 'tennis racket', 'confidence': np.float32(0.6345459), 'bbox': (np.float32(652.4262), np.float32(507.0738), np.float32(943.9343), np.float32(696.2487)), 'team': 1, 'referee': True}, {'frame': 46, 'label': 'sports ball', 'confidence': np.float32(0.31140485), 'bbox': (np.float32(735.37244), np.float32(760.8187), np.float32(763.7525), np.float32(781.4718))}, {'frame': 47, 'label': 'person', 'confidence': np.float32(0.5903571), 'bbox': (np.float32(909.3666), np.float32(186.1886), np.float32(1274.3306), np.float32(665.3733)), 'team': 0, 'referee': True}, {'frame': 47, 'label': 'person', 'confidence': np.float32(0.55860746), 'bbox': (np.float32(730.3417), np.float32(7.975505), np.float32(933.0777), np.float32(235.10712)), 'team': 1}, {'frame': 47, 'label': 'person', 'confidence': np.float32(0.46978635), 'bbox': (np.float32(1027.4418), np.float32(580.82385), np.float32(1466.0156), np.float32(1052.3679)), 'team': 1, 'referee': True}, {'frame': 48, 'label': 'person', 'confidence': np.float32(0.48660442), 'bbox': (np.float32(912.69385), np.float32(174.73466), np.float32(1463.5854), np.float32(1064.404)), 'team': 0, 'referee': True}, {'frame': 48, 'label': 'person', 'confidence': np.float32(0.46377602), 'bbox': (np.float32(706.713), np.float32(13.390094), np.float32(979.477), np.float32(234.0408)), 'team': 1}, {'frame': 48, 'label': 'person', 'confidence': np.float32(0.45026904), 'bbox': (np.float32(984.0434), np.float32(581.4034), np.float32(1624.3291), np.float32(1069.9125)), 'team': 1, 'referee': True}, {'frame': 48, 'label': 'person', 'confidence': np.float32(0.35092396), 'bbox': (np.float32(911.29895), np.float32(171.59299), np.float32(1274.0233), np.float32(682.32886)), 'team': 0, 'referee': True}, {'frame': 49, 'label': 'person', 'confidence': np.float32(0.8207403), 'bbox': (np.float32(928.9759), np.float32(166.07925), np.float32(1265.9132), np.float32(702.89685)), 'team': 0, 'referee': True}, {'frame': 49, 'label': 'person', 'confidence': np.float32(0.75534105), 'bbox': (np.float32(966.0563), np.float32(599.7299), np.float32(1506.3738), np.float32(1069.5996)), 'team': 1, 'referee': True}, {'frame': 49, 'label': 'person', 'confidence': np.float32(0.5060121), 'bbox': (np.float32(737.7875), np.float32(0.37471676), np.float32(973.9538), np.float32(238.55237)), 'team': 0}, {'frame': 50, 'label': 'person', 'confidence': np.float32(0.858683), 'bbox': (np.float32(919.15485), np.float32(172.5545), np.float32(1276.1749), np.float32(702.54193)), 'team': 0, 'referee': True}, {'frame': 50, 'label': 'person', 'confidence': np.float32(0.7607643), 'bbox': (np.float32(952.4821), np.float32(627.60974), np.float32(1477.6498), np.float32(1072.8657)), 'team': 1, 'referee': True}, {'frame': 50, 'label': 'person', 'confidence': np.float32(0.39627957), 'bbox': (np.float32(786.03973), np.float32(47.405983), np.float32(971.78046), np.float32(239.91437)), 'team': 1}, {'frame': 51, 'label': 'person', 'confidence': np.float32(0.8522195), 'bbox': (np.float32(923.4192), np.float32(190.89981), np.float32(1274.9448), np.float32(711.34076)), 'team': 0, 'referee': True}, {'frame': 51, 'label': 'person', 'confidence': np.float32(0.5711835), 'bbox': (np.float32(949.9712), np.float32(650.0167), np.float32(1412.8744), np.float32(1067.6891)), 'team': 1, 'referee': True}, {'frame': 51, 'label': 'person', 'confidence': np.float32(0.25355658), 'bbox': (np.float32(1414.3754), np.float32(256.4188), np.float32(1593.9921), np.float32(503.0597)), 'team': 0}, {'frame': 52, 'label': 'person', 'confidence': np.float32(0.8793777), 'bbox': (np.float32(914.24634), np.float32(209.87582), np.float32(1261.257), np.float32(719.6733)), 'team': 0, 'referee': True}, {'frame': 52, 'label': 'person', 'confidence': np.float32(0.5173015), 'bbox': (np.float32(952.9979), np.float32(610.83405), np.float32(1391.3092), np.float32(1066.4241)), 'team': 1, 'referee': True}, {'frame': 53, 'label': 'person', 'confidence': np.float32(0.77777743), 'bbox': (np.float32(912.74286), np.float32(235.18011), np.float32(1249.5729), np.float32(736.4536)), 'team': 0, 'referee': True}, {'frame': 53, 'label': 'person', 'confidence': np.float32(0.5823518), 'bbox': (np.float32(969.8267), np.float32(622.35986), np.float32(1372.2957), np.float32(1066.1313)), 'team': 1, 'referee': True}, {'frame': 53, 'label': 'person', 'confidence': np.float32(0.52218765), 'bbox': (np.float32(1246.2081), np.float32(270.5199), np.float32(1414.3878), np.float32(520.5062)), 'team': 1, 'referee': True}, {'frame': 53, 'label': 'person', 'confidence': np.float32(0.37125692), 'bbox': (np.float32(1593.9636), np.float32(260.96866), np.float32(1776.9948), np.float32(509.18356)), 'team': 0}, {'frame': 54, 'label': 'person', 'confidence': np.float32(0.864396), 'bbox': (np.float32(911.14), np.float32(252.95494), np.float32(1256.7217), np.float32(735.0468)), 'team': 0, 'referee': True}, {'frame': 54, 'label': 'person', 'confidence': np.float32(0.7952724), 'bbox': (np.float32(965.4342), np.float32(656.6603), np.float32(1352.3976), np.float32(1071.6786)), 'team': 1, 'referee': True}, {'frame': 54, 'label': 'person', 'confidence': np.float32(0.3266512), 'bbox': (np.float32(1677.5936), np.float32(260.49564), np.float32(1902.4849), np.float32(511.32303)), 'team': 0}, {'frame': 55, 'label': 'person', 'confidence': np.float32(0.79015076), 'bbox': (np.float32(956.1889), np.float32(630.1804), np.float32(1331.0559), np.float32(1071.8481)), 'team': 1, 'referee': True}, {'frame': 55, 'label': 'person', 'confidence': np.float32(0.7049376), 'bbox': (np.float32(920.2509), np.float32(262.89682), np.float32(1252.1288), np.float32(739.4588)), 'team': 0, 'referee': True}, {'frame': 56, 'label': 'person', 'confidence': np.float32(0.7163261), 'bbox': (np.float32(941.3663), np.float32(589.1977), np.float32(1318.9175), np.float32(1074.0801)), 'team': 0, 'referee': True}, {'frame': 56, 'label': 'person', 'confidence': np.float32(0.5697358), 'bbox': (np.float32(929.85156), np.float32(294.24628), np.float32(1269.0035), np.float32(960.22565)), 'team': 0, 'referee': True}, {'frame': 56, 'label': 'person', 'confidence': np.float32(0.37195998), 'bbox': (np.float32(696.8018), np.float32(3.3522863), np.float32(904.2521), np.float32(272.9857)), 'team': 0}, {'frame': 57, 'label': 'person', 'confidence': np.float32(0.6491236), 'bbox': (np.float32(912.44275), np.float32(286.3384), np.float32(1316.755), np.float32(1053.4585)), 'team': 0, 'referee': True}, {'frame': 58, 'label': 'person', 'confidence': np.float32(0.82648844), 'bbox': (np.float32(916.84955), np.float32(288.48083), np.float32(1314.7607), np.float32(1067.5048)), 'team': 0, 'referee': True}, {'frame': 58, 'label': 'person', 'confidence': np.float32(0.44081408), 'bbox': (np.float32(760.6031), np.float32(57.962837), np.float32(1016.81854), np.float32(267.79593)), 'team': 1}, {'frame': 59, 'label': 'person', 'confidence': np.float32(0.88931614), 'bbox': (np.float32(938.1636), np.float32(310.61166), np.float32(1325.9086), np.float32(1075.726)), 'team': 0, 'referee': True}, {'frame': 60, 'label': 'person', 'confidence': np.float32(0.8431541), 'bbox': (np.float32(940.8945), np.float32(490.83856), np.float32(1332.0314), np.float32(1070.0002)), 'team': 0, 'referee': True}, {'frame': 60, 'label': 'person', 'confidence': np.float32(0.49071684), 'bbox': (np.float32(1049.079), np.float32(307.41196), np.float32(1316.4648), np.float32(622.82556)), 'team': 0, 'referee': True}, {'frame': 60, 'label': 'person', 'confidence': np.float32(0.43085846), 'bbox': (np.float32(992.6904), np.float32(6.6120214), np.float32(1235.4606), np.float32(258.18686))}, {'frame': 61, 'label': 'person', 'confidence': np.float32(0.7192867), 'bbox': (np.float32(928.09045), np.float32(322.87354), np.float32(1354.7692), np.float32(1053.5642)), 'team': 0, 'referee': True}, {'frame': 61, 'label': 'skis', 'confidence': np.float32(0.4456467), 'bbox': (np.float32(1052.6595), np.float32(984.755), np.float32(1202.8495), np.float32(1067.3264)), 'team': 1}, {'frame': 61, 'label': 'person', 'confidence': np.float32(0.3220104), 'bbox': (np.float32(1090.8096), np.float32(8.132049), np.float32(1331.2915), np.float32(249.35426))}, {'frame': 61, 'label': 'person', 'confidence': np.float32(0.30120072), 'bbox': (np.float32(1072.6382), np.float32(313.52084), np.float32(1349.4796), np.float32(640.05444)), 'team': 0, 'referee': True}, {'frame': 62, 'label': 'person', 'confidence': np.float32(0.7823528), 'bbox': (np.float32(918.25037), np.float32(310.5694), np.float32(1376.5382), np.float32(1044.4412)), 'team': 0, 'referee': True}, {'frame': 62, 'label': 'person', 'confidence': np.float32(0.4907101), 'bbox': (np.float32(484.94952), np.float32(24.349035), np.float32(782.97363), np.float32(272.73816)), 'team': 0, 'referee': True}, {'frame': 62, 'label': 'person', 'confidence': np.float32(0.27380213), 'bbox': (np.float32(1181.6946), np.float32(1.3865805), np.float32(1419.4578), np.float32(239.26114)), 'team': 0}, {'frame': 62, 'label': 'person', 'confidence': np.float32(0.25920457), 'bbox': (np.float32(1094.94), np.float32(309.80972), np.float32(1388.9562), np.float32(663.95764)), 'team': 0, 'referee': True}, {'frame': 63, 'label': 'person', 'confidence': np.float32(0.90029716), 'bbox': (np.float32(909.73004), np.float32(306.4702), np.float32(1424.6694), np.float32(1028.2759)), 'team': 0, 'referee': True}, {'frame': 63, 'label': 'person', 'confidence': np.float32(0.5482395), 'bbox': (np.float32(577.6016), np.float32(5.112056), np.float32(879.10657), np.float32(254.78143)), 'team': 0, 'referee': True}, {'frame': 63, 'label': 'person', 'confidence': np.float32(0.2555713), 'bbox': (np.float32(1251.4291), np.float32(0.46581173), np.float32(1500.7896), np.float32(227.49284)), 'team': 0}, {'frame': 64, 'label': 'person', 'confidence': np.float32(0.8749878), 'bbox': (np.float32(898.7457), np.float32(303.85254), np.float32(1465.8224), np.float32(1024.0781)), 'team': 0, 'referee': True}, {'frame': 64, 'label': 'person', 'confidence': np.float32(0.60513914), 'bbox': (np.float32(1356.4684), np.float32(2.4229002), np.float32(1576.7289), np.float32(212.76811))}, {'frame': 64, 'label': 'person', 'confidence': np.float32(0.5364377), 'bbox': (np.float32(638.95605), np.float32(0.97046185), np.float32(953.35364), np.float32(243.11858)), 'team': 0, 'referee': True}, {'frame': 64, 'label': 'person', 'confidence': np.float32(0.25712034), 'bbox': (np.float32(788.99), np.float32(4.531394), np.float32(995.01074), np.float32(236.20314)), 'team': 0}, {'frame': 65, 'label': 'person', 'confidence': np.float32(0.66694283), 'bbox': (np.float32(1413.3483), np.float32(0.0), np.float32(1629.4581), np.float32(198.21297))}, {'frame': 65, 'label': 'person', 'confidence': np.float32(0.62881106), 'bbox': (np.float32(852.4517), np.float32(287.43353), np.float32(1474.1393), np.float32(962.2759)), 'team': 0, 'referee': True}, {'frame': 65, 'label': 'person', 'confidence': np.float32(0.5246817), 'bbox': (np.float32(721.73584), np.float32(0.79620266), np.float32(1011.806), np.float32(228.78847)), 'team': 0, 'referee': True}, {'frame': 65, 'label': 'person', 'confidence': np.float32(0.32955748), 'bbox': (np.float32(1000.06696), np.float32(3.304267), np.float32(1200.5962), np.float32(216.22879)), 'team': 0}, {'frame': 65, 'label': 'skis', 'confidence': np.float32(0.32663226), 'bbox': (np.float32(678.59015), np.float32(837.2029), np.float32(1019.57446), np.float32(1033.7546)), 'team': 1, 'referee': True}, {'frame': 66, 'label': 'person', 'confidence': np.float32(0.82567114), 'bbox': (np.float32(788.4655), np.float32(272.39236), np.float32(1470.4307), np.float32(954.948)), 'team': 0, 'referee': True}, {'frame': 66, 'label': 'person', 'confidence': np.float32(0.71377367), 'bbox': (np.float32(1453.0134), np.float32(0.6005945), np.float32(1667.925), np.float32(185.71939))}, {'frame': 66, 'label': 'person', 'confidence': np.float32(0.526301), 'bbox': (np.float32(729.874), np.float32(1.9571257), np.float32(1042.5537), np.float32(217.27773)), 'team': 0, 'referee': True}, {'frame': 66, 'label': 'person', 'confidence': np.float32(0.39259726), 'bbox': (np.float32(1067.4708), np.float32(0.7036314), np.float32(1242.2633), np.float32(201.43338)), 'team': 0}, {'frame': 66, 'label': 'skateboard', 'confidence': np.float32(0.31675512), 'bbox': (np.float32(732.81287), np.float32(770.3513), np.float32(957.26025), np.float32(1028.7065)), 'team': 1, 'referee': True}, {'frame': 66, 'label': 'person', 'confidence': np.float32(0.28173524), 'bbox': (np.float32(1249.5194), np.float32(3.3405905), np.float32(1414.723), np.float32(196.15463))}, {'frame': 67, 'label': 'person', 'confidence': np.float32(0.76977843), 'bbox': (np.float32(1488.0138), np.float32(0.0), np.float32(1690.0785), np.float32(171.3834))}, {'frame': 67, 'label': 'person', 'confidence': np.float32(0.7580853), 'bbox': (np.float32(1078.1749), np.float32(255.0498), np.float32(1447.469), np.float32(824.26465)), 'team': 0, 'referee': True}, {'frame': 67, 'label': 'person', 'confidence': np.float32(0.67417467), 'bbox': (np.float32(747.6887), np.float32(370.16956), np.float32(1143.8408), np.float32(884.3059)), 'team': 1, 'referee': True}, {'frame': 67, 'label': 'person', 'confidence': np.float32(0.47267652), 'bbox': (np.float32(1096.7565), np.float32(0.0), np.float32(1266.3523), np.float32(193.23405)), 'team': 0}, {'frame': 67, 'label': 'person', 'confidence': np.float32(0.44390404), 'bbox': (np.float32(774.39246), np.float32(1.719924), np.float32(1033.1388), np.float32(206.21942)), 'team': 0, 'referee': True}, {'frame': 68, 'label': 'person', 'confidence': np.float32(0.825006), 'bbox': (np.float32(1050.2023), np.float32(234.38861), np.float32(1415.7665), np.float32(833.6022)), 'team': 0, 'referee': True}, {'frame': 68, 'label': 'person', 'confidence': np.float32(0.7459286), 'bbox': (np.float32(695.64795), np.float32(334.4484), np.float32(1077.5427), np.float32(865.4032)), 'team': 1, 'referee': True}, {'frame': 68, 'label': 'person', 'confidence': np.float32(0.6079385), 'bbox': (np.float32(1500.8595), np.float32(0.021454811), np.float32(1704.3501), np.float32(162.69743))}, {'frame': 69, 'label': 'person', 'confidence': np.float32(0.8035925), 'bbox': (np.float32(1019.75665), np.float32(222.19711), np.float32(1369.3967), np.float32(828.2216)), 'team': 0, 'referee': True}, {'frame': 69, 'label': 'person', 'confidence': np.float32(0.72017586), 'bbox': (np.float32(616.7047), np.float32(314.0538), np.float32(993.2767), np.float32(904.1736)), 'team': 1, 'referee': True}, {'frame': 69, 'label': 'person', 'confidence': np.float32(0.5947956), 'bbox': (np.float32(1500.3805), np.float32(0.0), np.float32(1699.7267), np.float32(151.85918))}, {'frame': 69, 'label': 'person', 'confidence': np.float32(0.37989798), 'bbox': (np.float32(1161.2278), np.float32(6.3616934), np.float32(1283.6316), np.float32(172.11969)), 'team': 0}, {'frame': 70, 'label': 'person', 'confidence': np.float32(0.8677394), 'bbox': (np.float32(989.5884), np.float32(213.58919), np.float32(1326.5392), np.float32(822.26404)), 'team': 0, 'referee': True}, {'frame': 70, 'label': 'person', 'confidence': np.float32(0.7405553), 'bbox': (np.float32(1489.6641), np.float32(0.0), np.float32(1689.9818), np.float32(146.9704))}, {'frame': 70, 'label': 'person', 'confidence': np.float32(0.5124908), 'bbox': (np.float32(591.7469), np.float32(329.72824), np.float32(907.99915), np.float32(858.5332)), 'team': 1, 'referee': True}, {'frame': 70, 'label': 'person', 'confidence': np.float32(0.42639473), 'bbox': (np.float32(1156.1493), np.float32(0.71319866), np.float32(1272.8127), np.float32(164.70648)), 'team': 0}, {'frame': 70, 'label': 'person', 'confidence': np.float32(0.3972708), 'bbox': (np.float32(773.1793), np.float32(2.2701101), np.float32(987.95123), np.float32(175.68965)), 'team': 0, 'referee': True}, {'frame': 71, 'label': 'person', 'confidence': np.float32(0.8718408), 'bbox': (np.float32(936.91394), np.float32(208.1196), np.float32(1269.6162), np.float32(831.96094)), 'team': 0, 'referee': True}, {'frame': 71, 'label': 'person', 'confidence': np.float32(0.68337256), 'bbox': (np.float32(1482.7898), np.float32(0.0), np.float32(1679.4789), np.float32(140.34468))}, {'frame': 71, 'label': 'chair', 'confidence': np.float32(0.28453246), 'bbox': (np.float32(542.32764), np.float32(326.28168), np.float32(832.7719), np.float32(797.02625)), 'team': 0, 'referee': True}, {'frame': 72, 'label': 'person', 'confidence': np.float32(0.7996229), 'bbox': (np.float32(895.73975), np.float32(203.77274), np.float32(1220.7842), np.float32(845.7376)), 'team': 0, 'referee': True}, {'frame': 72, 'label': 'person', 'confidence': np.float32(0.70044243), 'bbox': (np.float32(1479.3955), np.float32(0.0), np.float32(1678.9475), np.float32(135.03506)), 'referee': True}, {'frame': 72, 'label': 'chair', 'confidence': np.float32(0.49437723), 'bbox': (np.float32(438.916), np.float32(326.98865), np.float32(757.38654), np.float32(748.9859)), 'team': 0, 'referee': True}, {'frame': 72, 'label': 'baseball bat', 'confidence': np.float32(0.2895038), 'bbox': (np.float32(1196.6008), np.float32(561.19183), np.float32(1605.8837), np.float32(790.6423)), 'team': 1}, {'frame': 73, 'label': 'person', 'confidence': np.float32(0.818158), 'bbox': (np.float32(841.3759), np.float32(209.9128), np.float32(1171.8628), np.float32(854.94507)), 'team': 0, 'referee': True}, {'frame': 73, 'label': 'person', 'confidence': np.float32(0.7147275), 'bbox': (np.float32(1481.9497), np.float32(0.0), np.float32(1679.1483), np.float32(129.18204)), 'team': 0, 'referee': True}, {'frame': 73, 'label': 'person', 'confidence': np.float32(0.34719014), 'bbox': (np.float32(276.02866), np.float32(302.55933), np.float32(713.5778), np.float32(757.5476)), 'team': 0, 'referee': True}, {'frame': 73, 'label': 'chair', 'confidence': np.float32(0.2721618), 'bbox': (np.float32(784.6873), np.float32(31.51921), np.float32(975.3719), np.float32(159.30666)), 'team': 0, 'referee': True}, {'frame': 73, 'label': 'skis', 'confidence': np.float32(0.2656416), 'bbox': (np.float32(1.3265533), np.float32(941.248), np.float32(122.89048), np.float32(996.85254))}, {'frame': 74, 'label': 'person', 'confidence': np.float32(0.8634807), 'bbox': (np.float32(802.93634), np.float32(215.07126), np.float32(1093.7183), np.float32(844.44617)), 'team': 0, 'referee': True}, {'frame': 74, 'label': 'person', 'confidence': np.float32(0.6195095), 'bbox': (np.float32(1490.8715), np.float32(0.0), np.float32(1682.7784), np.float32(118.17763))}, {'frame': 74, 'label': 'person', 'confidence': np.float32(0.53976417), 'bbox': (np.float32(422.22064), np.float32(292.9981), np.float32(692.4783), np.float32(645.10486)), 'team': 1, 'referee': True}, {'frame': 74, 'label': 'person', 'confidence': np.float32(0.48003563), 'bbox': (np.float32(780.323), np.float32(3.5556307), np.float32(985.0545), np.float32(154.0831)), 'team': 0, 'referee': True}, {'frame': 74, 'label': 'person', 'confidence': np.float32(0.34236515), 'bbox': (np.float32(896.19214), np.float32(0.0), np.float32(1081.2872), np.float32(146.99629)), 'team': 0, 'referee': True}, {'frame': 75, 'label': 'person', 'confidence': np.float32(0.90286344), 'bbox': (np.float32(757.3601), np.float32(223.2314), np.float32(1049.1271), np.float32(861.1493)), 'team': 0, 'referee': True}, {'frame': 75, 'label': 'person', 'confidence': np.float32(0.5192013), 'bbox': (np.float32(1507.8816), np.float32(0.0), np.float32(1694.0424), np.float32(108.15304))}, {'frame': 75, 'label': 'person', 'confidence': np.float32(0.3824908), 'bbox': (np.float32(856.6637), np.float32(0.0), np.float32(1094.0442), np.float32(140.2646)), 'team': 0, 'referee': True}, {'frame': 75, 'label': 'person', 'confidence': np.float32(0.35095623), 'bbox': (np.float32(1126.1555), np.float32(0.0), np.float32(1283.6365), np.float32(131.66309)), 'team': 0}, {'frame': 75, 'label': 'person', 'confidence': np.float32(0.33871028), 'bbox': (np.float32(1333.1554), np.float32(3.474841), np.float32(1517.551), np.float32(118.36299))}, {'frame': 75, 'label': 'person', 'confidence': np.float32(0.25736868), 'bbox': (np.float32(457.61227), np.float32(290.32077), np.float32(672.9216), np.float32(641.14825)), 'team': 1, 'referee': True}, {'frame': 76, 'label': 'person', 'confidence': np.float32(0.86922395), 'bbox': (np.float32(714.153), np.float32(230.86913), np.float32(1046.6774), np.float32(856.851)), 'team': 0, 'referee': True}, {'frame': 76, 'label': 'motorcycle', 'confidence': np.float32(0.51733124), 'bbox': (np.float32(233.47574), np.float32(302.3443), np.float32(651.09906), np.float32(670.72626)), 'team': 1, 'referee': True}, {'frame': 76, 'label': 'person', 'confidence': np.float32(0.4655619), 'bbox': (np.float32(829.1567), np.float32(0.0), np.float32(1111.4355), np.float32(129.89809)), 'team': 0, 'referee': True}, {'frame': 76, 'label': 'person', 'confidence': np.float32(0.4307268), 'bbox': (np.float32(1529.4258), np.float32(0.0), np.float32(1717.0942), np.float32(98.869385))}, {'frame': 76, 'label': 'person', 'confidence': np.float32(0.2679355), 'bbox': (np.float32(1852.1372), np.float32(166.11617), np.float32(1919.4797), np.float32(430.1363)), 'team': 0}, {'frame': 77, 'label': 'person', 'confidence': np.float32(0.82050854), 'bbox': (np.float32(672.9357), np.float32(229.50966), np.float32(1076.763), np.float32(863.4101)), 'team': 0, 'referee': True}, {'frame': 77, 'label': 'person', 'confidence': np.float32(0.34111214), 'bbox': (np.float32(220.88947), np.float32(320.51962), np.float32(645.8121), np.float32(661.8437)), 'team': 1, 'referee': True}, {'frame': 77, 'label': 'person', 'confidence': np.float32(0.33207497), 'bbox': (np.float32(848.8579), np.float32(0.0), np.float32(1035.0393), np.float32(114.02237)), 'referee': True}, {'frame': 77, 'label': 'person', 'confidence': np.float32(0.32175708), 'bbox': (np.float32(1188.55), np.float32(2.671071), np.float32(1328.1683), np.float32(101.896)), 'team': 0}, {'frame': 77, 'label': 'baseball glove', 'confidence': np.float32(0.30156723), 'bbox': (np.float32(670.3141), np.float32(282.12878), np.float32(866.39465), np.float32(446.87808)), 'team': 0, 'referee': True}, {'frame': 78, 'label': 'person', 'confidence': np.float32(0.84561175), 'bbox': (np.float32(642.82605), np.float32(232.61137), np.float32(1116.477), np.float32(881.0129)), 'team': 0, 'referee': True}, {'frame': 78, 'label': 'person', 'confidence': np.float32(0.6402041), 'bbox': (np.float32(1705.8519), np.float32(195.1773), np.float32(1920.0), np.float32(708.84576)), 'team': 1, 'referee': True}, {'frame': 78, 'label': 'skis', 'confidence': np.float32(0.42766324), 'bbox': (np.float32(822.7266), np.float32(640.64496), np.float32(1176.5573), np.float32(934.322)), 'team': 0, 'referee': True}, {'frame': 78, 'label': 'person', 'confidence': np.float32(0.38998538), 'bbox': (np.float32(1799.4983), np.float32(958.7059), np.float32(1919.4954), np.float32(1070.7323)), 'team': 0}, {'frame': 78, 'label': 'person', 'confidence': np.float32(0.3690516), 'bbox': (np.float32(875.1047), np.float32(0.0), np.float32(1130.2458), np.float32(104.96238)), 'team': 0, 'referee': True}, {'frame': 78, 'label': 'person', 'confidence': np.float32(0.26272672), 'bbox': (np.float32(1022.58325), np.float32(0.0), np.float32(1155.1644), np.float32(95.27392)), 'team': 0, 'referee': True}, {'frame': 79, 'label': 'person', 'confidence': np.float32(0.85246664), 'bbox': (np.float32(631.2648), np.float32(232.9315), np.float32(1112.5507), np.float32(879.0037)), 'team': 0, 'referee': True}, {'frame': 79, 'label': 'person', 'confidence': np.float32(0.6675879), 'bbox': (np.float32(1760.067), np.float32(943.7394), np.float32(1916.6456), np.float32(1075.7358)), 'team': 0}, {'frame': 79, 'label': 'person', 'confidence': np.float32(0.5897725), 'bbox': (np.float32(1666.9655), np.float32(189.39944), np.float32(1919.8484), np.float32(644.2595)), 'team': 1, 'referee': True}, {'frame': 79, 'label': 'person', 'confidence': np.float32(0.38625833), 'bbox': (np.float32(913.552), np.float32(0.52819633), np.float32(1119.091), np.float32(88.13143))}, {'frame': 79, 'label': 'person', 'confidence': np.float32(0.36430737), 'bbox': (np.float32(1057.6106), np.float32(0.0), np.float32(1187.3123), np.float32(77.67422)), 'team': 0}, {'frame': 79, 'label': 'person', 'confidence': np.float32(0.33988038), 'bbox': (np.float32(1241.9729), np.float32(0.0), np.float32(1376.0251), np.float32(71.06044)), 'team': 0}, {'frame': 80, 'label': 'person', 'confidence': np.float32(0.80920404), 'bbox': (np.float32(607.8688), np.float32(236.76765), np.float32(1098.7252), np.float32(875.25354)), 'team': 0, 'referee': True}, {'frame': 80, 'label': 'person', 'confidence': np.float32(0.7518431), 'bbox': (np.float32(1616.5306), np.float32(177.89081), np.float32(1920.0), np.float32(536.5944)), 'team': 1, 'referee': True}, {'frame': 80, 'label': 'person', 'confidence': np.float32(0.73334473), 'bbox': (np.float32(1721.7463), np.float32(925.3838), np.float32(1920.0), np.float32(1073.8718)), 'team': 0, 'referee': True}, {'frame': 81, 'label': 'person', 'confidence': np.float32(0.83783007), 'bbox': (np.float32(1564.254), np.float32(149.51279), np.float32(1918.0497), np.float32(672.2677)), 'team': 1, 'referee': True}, {'frame': 81, 'label': 'person', 'confidence': np.float32(0.83265066), 'bbox': (np.float32(596.17786), np.float32(223.36363), np.float32(1057.4227), np.float32(869.0071)), 'team': 0, 'referee': True}, {'frame': 81, 'label': 'person', 'confidence': np.float32(0.71296644), 'bbox': (np.float32(1692.3036), np.float32(906.829), np.float32(1920.0), np.float32(1072.3179)), 'team': 0, 'referee': True}, {'frame': 81, 'label': 'skis', 'confidence': np.float32(0.31762677), 'bbox': (np.float32(1602.0851), np.float32(593.96704), np.float32(1803.3766), np.float32(672.6213)), 'team': 0, 'referee': True}, {'frame': 82, 'label': 'person', 'confidence': np.float32(0.83982074), 'bbox': (np.float32(612.59045), np.float32(216.11482), np.float32(1042.8633), np.float32(867.25916)), 'team': 0, 'referee': True}, {'frame': 82, 'label': 'person', 'confidence': np.float32(0.8022087), 'bbox': (np.float32(1551.3882), np.float32(114.2873), np.float32(1914.4841), np.float32(665.2964)), 'team': 1, 'referee': True}, {'frame': 82, 'label': 'person', 'confidence': np.float32(0.64999527), 'bbox': (np.float32(1664.4406), np.float32(900.0237), np.float32(1918.5646), np.float32(1072.6471)), 'team': 0, 'referee': True}, {'frame': 83, 'label': 'person', 'confidence': np.float32(0.88794094), 'bbox': (np.float32(631.44745), np.float32(192.09517), np.float32(1013.3031), np.float32(838.45844)), 'team': 0, 'referee': True}, {'frame': 83, 'label': 'person', 'confidence': np.float32(0.8375458), 'bbox': (np.float32(1530.1422), np.float32(124.19001), np.float32(1904.9089), np.float32(650.2617)), 'team': 1, 'referee': True}, {'frame': 83, 'label': 'person', 'confidence': np.float32(0.8125863), 'bbox': (np.float32(1641.0337), np.float32(892.1379), np.float32(1918.0298), np.float32(1072.8387)), 'team': 0, 'referee': True}, {'frame': 84, 'label': 'person', 'confidence': np.float32(0.8548758), 'bbox': (np.float32(1621.5029), np.float32(891.5137), np.float32(1913.8945), np.float32(1073.5436)), 'team': 0, 'referee': True}, {'frame': 84, 'label': 'person', 'confidence': np.float32(0.84666073), 'bbox': (np.float32(1534.44), np.float32(116.93267), np.float32(1899.0948), np.float32(648.85834)), 'team': 1, 'referee': True}, {'frame': 84, 'label': 'person', 'confidence': np.float32(0.8429681), 'bbox': (np.float32(653.6596), np.float32(191.95601), np.float32(996.5148), np.float32(810.09814)), 'team': 0, 'referee': True}, {'frame': 85, 'label': 'person', 'confidence': np.float32(0.8792616), 'bbox': (np.float32(1538.6306), np.float32(112.364555), np.float32(1880.056), np.float32(652.17145)), 'team': 1, 'referee': True}, {'frame': 85, 'label': 'person', 'confidence': np.float32(0.8622905), 'bbox': (np.float32(1617.1575), np.float32(893.05615), np.float32(1897.8215), np.float32(1073.441)), 'team': 0, 'referee': True}, {'frame': 85, 'label': 'person', 'confidence': np.float32(0.855379), 'bbox': (np.float32(677.4532), np.float32(188.34183), np.float32(1011.0068), np.float32(807.5911)), 'team': 0, 'referee': True}, {'frame': 86, 'label': 'person', 'confidence': np.float32(0.8808525), 'bbox': (np.float32(1552.5404), np.float32(94.39243), np.float32(1871.8877), np.float32(652.3993)), 'team': 1, 'referee': True}, {'frame': 86, 'label': 'person', 'confidence': np.float32(0.8684632), 'bbox': (np.float32(700.3484), np.float32(194.62007), np.float32(1020.1626), np.float32(813.25476)), 'team': 0, 'referee': True}, {'frame': 86, 'label': 'person', 'confidence': np.float32(0.82759076), 'bbox': (np.float32(1617.1959), np.float32(901.35297), np.float32(1876.7904), np.float32(1073.6023)), 'team': 0, 'referee': True}, {'frame': 87, 'label': 'person', 'confidence': np.float32(0.8549078), 'bbox': (np.float32(716.6832), np.float32(193.06677), np.float32(1045.0537), np.float32(823.5299)), 'team': 0, 'referee': True}, {'frame': 87, 'label': 'person', 'confidence': np.float32(0.7060573), 'bbox': (np.float32(1567.6553), np.float32(82.96784), np.float32(1877.1533), np.float32(641.3517)), 'team': 1, 'referee': True}, {'frame': 87, 'label': 'person', 'confidence': np.float32(0.5442726), 'bbox': (np.float32(1616.1212), np.float32(907.88605), np.float32(1866.0913), np.float32(1074.6735)), 'team': 0, 'referee': True}, {'frame': 88, 'label': 'person', 'confidence': np.float32(0.91936606), 'bbox': (np.float32(730.3645), np.float32(199.10245), np.float32(1098.36), np.float32(820.7536)), 'team': 0, 'referee': True}, {'frame': 88, 'label': 'person', 'confidence': np.float32(0.8064624), 'bbox': (np.float32(1575.1014), np.float32(94.6976), np.float32(1908.1886), np.float32(624.40283)), 'team': 1, 'referee': True}, {'frame': 88, 'label': 'person', 'confidence': np.float32(0.764268), 'bbox': (np.float32(1607.9597), np.float32(911.5073), np.float32(1863.5988), np.float32(1075.5123)), 'team': 0, 'referee': True}, {'frame': 89, 'label': 'person', 'confidence': np.float32(0.8409825), 'bbox': (np.float32(1587.5044), np.float32(43.150555), np.float32(1919.3915), np.float32(603.2989)), 'team': 1, 'referee': True}, {'frame': 89, 'label': 'person', 'confidence': np.float32(0.8274497), 'bbox': (np.float32(745.411), np.float32(193.59015), np.float32(1157.031), np.float32(831.4232)), 'team': 0, 'referee': True}, {'frame': 89, 'label': 'person', 'confidence': np.float32(0.7400233), 'bbox': (np.float32(1607.713), np.float32(916.9578), np.float32(1861.8649), np.float32(1074.9565)), 'team': 0, 'referee': True}, {'frame': 89, 'label': 'skis', 'confidence': np.float32(0.28788432), 'bbox': (np.float32(874.11774), np.float32(809.6721), np.float32(1242.1637), np.float32(933.0092)), 'team': 1, 'referee': True}, {'frame': 90, 'label': 'person', 'confidence': np.float32(0.8405987), 'bbox': (np.float32(753.90857), np.float32(205.26645), np.float32(1225.0887), np.float32(802.50165)), 'team': 0, 'referee': True}, {'frame': 90, 'label': 'person', 'confidence': np.float32(0.7785451), 'bbox': (np.float32(1610.5096), np.float32(920.80176), np.float32(1871.3558), np.float32(1074.2603)), 'team': 0, 'referee': True}, {'frame': 90, 'label': 'person', 'confidence': np.float32(0.64435476), 'bbox': (np.float32(1582.8315), np.float32(6.906638), np.float32(1919.1318), np.float32(594.79724)), 'team': 1, 'referee': True}, {'frame': 90, 'label': 'skis', 'confidence': np.float32(0.37992), 'bbox': (np.float32(854.0519), np.float32(771.3478), np.float32(1334.7543), np.float32(931.8082)), 'team': 1, 'referee': True}, {'frame': 90, 'label': 'motorcycle', 'confidence': np.float32(0.3321969), 'bbox': (np.float32(1603.2577), np.float32(121.305435), np.float32(1919.044), np.float32(598.2325)), 'team': 0, 'referee': True}, {'frame': 91, 'label': 'person', 'confidence': np.float32(0.82371396), 'bbox': (np.float32(1622.8748), np.float32(926.0268), np.float32(1880.127), np.float32(1075.5419)), 'team': 0, 'referee': True}, {'frame': 91, 'label': 'person', 'confidence': np.float32(0.8166214), 'bbox': (np.float32(757.5875), np.float32(211.95668), np.float32(1281.8947), np.float32(804.2438)), 'team': 0, 'referee': True}, {'frame': 91, 'label': 'person', 'confidence': np.float32(0.6777366), 'bbox': (np.float32(1621.9667), np.float32(95.78335), np.float32(1918.562), np.float32(597.65735)), 'team': 1, 'referee': True}, {'frame': 91, 'label': 'skis', 'confidence': np.float32(0.55953026), 'bbox': (np.float32(826.7133), np.float32(757.63806), np.float32(1408.6737), np.float32(915.3126)), 'team': 1, 'referee': True}, {'frame': 92, 'label': 'person', 'confidence': np.float32(0.87376475), 'bbox': (np.float32(781.5568), np.float32(217.45624), np.float32(1359.5603), np.float32(797.29596)), 'team': 0, 'referee': True}, {'frame': 92, 'label': 'person', 'confidence': np.float32(0.7761176), 'bbox': (np.float32(1633.5095), np.float32(929.4555), np.float32(1885.1005), np.float32(1075.1263)), 'team': 0, 'referee': True}, {'frame': 92, 'label': 'person', 'confidence': np.float32(0.711165), 'bbox': (np.float32(1649.4559), np.float32(88.69394), np.float32(1914.6), np.float32(582.7252)), 'team': 1, 'referee': True}, {'frame': 92, 'label': 'skis', 'confidence': np.float32(0.41272095), 'bbox': (np.float32(809.77515), np.float32(752.1877), np.float32(1514.5398), np.float32(894.2836)), 'team': 1, 'referee': True}, {'frame': 93, 'label': 'person', 'confidence': np.float32(0.8510495), 'bbox': (np.float32(804.4647), np.float32(217.7132), np.float32(1401.5592), np.float32(809.8118)), 'team': 0, 'referee': True}, {'frame': 93, 'label': 'person', 'confidence': np.float32(0.81755024), 'bbox': (np.float32(1652.9606), np.float32(930.17084), np.float32(1904.7408), np.float32(1075.4679)), 'team': 0, 'referee': True}, {'frame': 93, 'label': 'person', 'confidence': np.float32(0.7973124), 'bbox': (np.float32(1686.2234), np.float32(137.0462), np.float32(1919.5294), np.float32(650.64075)), 'team': 1, 'referee': True}, {'frame': 94, 'label': 'person', 'confidence': np.float32(0.9160341), 'bbox': (np.float32(833.7862), np.float32(206.27693), np.float32(1399.069), np.float32(783.91504)), 'team': 0, 'referee': True}, {'frame': 94, 'label': 'person', 'confidence': np.float32(0.82646674), 'bbox': (np.float32(1716.3795), np.float32(145.14532), np.float32(1919.5706), np.float32(663.85864)), 'team': 0, 'referee': True}, {'frame': 94, 'label': 'person', 'confidence': np.float32(0.7965421), 'bbox': (np.float32(1672.2405), np.float32(931.9834), np.float32(1912.9341), np.float32(1074.6025)), 'team': 0, 'referee': True}, {'frame': 95, 'label': 'person', 'confidence': np.float32(0.8813447), 'bbox': (np.float32(871.97644), np.float32(201.92578), np.float32(1398.9526), np.float32(767.4161)), 'team': 0, 'referee': True}, {'frame': 95, 'label': 'person', 'confidence': np.float32(0.6689889), 'bbox': (np.float32(1691.1578), np.float32(931.7042), np.float32(1917.4363), np.float32(1073.2782)), 'team': 0, 'referee': True}, {'frame': 95, 'label': 'person', 'confidence': np.float32(0.45156565), 'bbox': (np.float32(1753.6868), np.float32(160.49254), np.float32(1919.2097), np.float32(549.2642)), 'team': 0, 'referee': True}, {'frame': 96, 'label': 'person', 'confidence': np.float32(0.90330434), 'bbox': (np.float32(898.7355), np.float32(201.98721), np.float32(1375.2654), np.float32(741.64996)), 'team': 0, 'referee': True}, {'frame': 96, 'label': 'person', 'confidence': np.float32(0.7899812), 'bbox': (np.float32(1782.359), np.float32(187.32687), np.float32(1919.806), np.float32(520.84973)), 'team': 1, 'referee': True}, {'frame': 96, 'label': 'person', 'confidence': np.float32(0.72691536), 'bbox': (np.float32(1715.2014), np.float32(932.0861), np.float32(1918.5521), np.float32(1069.083)), 'team': 0, 'referee': True}, {'frame': 97, 'label': 'person', 'confidence': np.float32(0.9044063), 'bbox': (np.float32(931.8727), np.float32(196.06793), np.float32(1355.8792), np.float32(739.0673)), 'team': 0, 'referee': True}, {'frame': 97, 'label': 'person', 'confidence': np.float32(0.82275003), 'bbox': (np.float32(1801.84), np.float32(202.75801), np.float32(1920.0), np.float32(524.7622)), 'team': 1, 'referee': True}, {'frame': 97, 'label': 'person', 'confidence': np.float32(0.7744115), 'bbox': (np.float32(1736.0391), np.float32(934.4896), np.float32(1917.9675), np.float32(1071.0387)), 'team': 0, 'referee': True}, {'frame': 98, 'label': 'person', 'confidence': np.float32(0.8773922), 'bbox': (np.float32(956.64246), np.float32(180.325), np.float32(1362.7916), np.float32(722.07056)), 'team': 0, 'referee': True}, {'frame': 98, 'label': 'person', 'confidence': np.float32(0.6161964), 'bbox': (np.float32(1817.7242), np.float32(211.71355), np.float32(1919.3859), np.float32(523.00085)), 'team': 1, 'referee': True}, {'frame': 98, 'label': 'person', 'confidence': np.float32(0.58498126), 'bbox': (np.float32(1755.7639), np.float32(937.36743), np.float32(1917.0103), np.float32(1069.4854)), 'team': 0, 'referee': True}, {'frame': 99, 'label': 'person', 'confidence': np.float32(0.91088426), 'bbox': (np.float32(984.79694), np.float32(166.92146), np.float32(1438.1337), np.float32(721.25336)), 'team': 0, 'referee': True}, {'frame': 99, 'label': 'person', 'confidence': np.float32(0.6699693), 'bbox': (np.float32(1829.4834), np.float32(217.12231), np.float32(1919.5687), np.float32(519.9565)), 'team': 1, 'referee': True}, {'frame': 99, 'label': 'person', 'confidence': np.float32(0.62517434), 'bbox': (np.float32(1771.9601), np.float32(939.46765), np.float32(1917.4304), np.float32(1071.6914)), 'team': 0, 'referee': True}, {'frame': 99, 'label': 'skis', 'confidence': np.float32(0.3254244), 'bbox': (np.float32(1215.4037), np.float32(642.19055), np.float32(1456.046), np.float32(731.94885)), 'team': 1, 'referee': True}, {'frame': 100, 'label': 'person', 'confidence': np.float32(0.9014835), 'bbox': (np.float32(1005.0667), np.float32(156.70792), np.float32(1521.6866), np.float32(739.322)), 'team': 0, 'referee': True}, {'frame': 100, 'label': 'person', 'confidence': np.float32(0.7331721), 'bbox': (np.float32(1845.0099), np.float32(233.89935), np.float32(1919.8293), np.float32(510.57516)), 'team': 1, 'referee': True}, {'frame': 100, 'label': 'person', 'confidence': np.float32(0.43886295), 'bbox': (np.float32(1791.7877), np.float32(945.87476), np.float32(1919.4174), np.float32(1072.2784)), 'team': 0, 'referee': True}, {'frame': 101, 'label': 'person', 'confidence': np.float32(0.9210199), 'bbox': (np.float32(1024.1815), np.float32(151.43683), np.float32(1547.0101), np.float32(739.8783)), 'team': 0, 'referee': True}, {'frame': 101, 'label': 'person', 'confidence': np.float32(0.26282716), 'bbox': (np.float32(1859.4534), np.float32(236.2391), np.float32(1920.0), np.float32(516.84186)), 'team': 1, 'referee': True}, {'frame': 102, 'label': 'person', 'confidence': np.float32(0.9163735), 'bbox': (np.float32(1045.2837), np.float32(158.2668), np.float32(1524.5176), np.float32(741.1432)), 'team': 0, 'referee': True}, {'frame': 102, 'label': 'person', 'confidence': np.float32(0.45004565), 'bbox': (np.float32(1872.1045), np.float32(225.1969), np.float32(1919.7676), np.float32(514.6726)), 'referee': True}, {'frame': 103, 'label': 'person', 'confidence': np.float32(0.9031265), 'bbox': (np.float32(1048.0847), np.float32(161.32455), np.float32(1471.8295), np.float32(749.781)), 'team': 0, 'referee': True}, {'frame': 103, 'label': 'person', 'confidence': np.float32(0.35681427), 'bbox': (np.float32(1885.911), np.float32(216.94171), np.float32(1920.0), np.float32(500.44257)), 'referee': True}, {'frame': 104, 'label': 'person', 'confidence': np.float32(0.89314795), 'bbox': (np.float32(1030.4432), np.float32(169.56093), np.float32(1450.1471), np.float32(748.52155)), 'team': 0, 'referee': True}, {'frame': 104, 'label': 'person', 'confidence': np.float32(0.26691532), 'bbox': (np.float32(1891.0043), np.float32(228.07846), np.float32(1918.7872), np.float32(437.50198))}, {'frame': 105, 'label': 'person', 'confidence': np.float32(0.90033644), 'bbox': (np.float32(1022.6216), np.float32(180.23418), np.float32(1495.6655), np.float32(754.0045)), 'team': 0, 'referee': True}, {'frame': 105, 'label': 'baseball bat', 'confidence': np.float32(0.2714855), 'bbox': (np.float32(576.1306), np.float32(475.5651), np.float32(1027.7064), np.float32(684.82086)), 'team': 1, 'referee': True}, {'frame': 105, 'label': 'skis', 'confidence': np.float32(0.26847944), 'bbox': (np.float32(576.94617), np.float32(474.78665), np.float32(1028.258), np.float32(685.45496)), 'team': 0, 'referee': True}, {'frame': 106, 'label': 'person', 'confidence': np.float32(0.9296292), 'bbox': (np.float32(1024.362), np.float32(185.51677), np.float32(1557.4131), np.float32(744.6535)), 'team': 0, 'referee': True}, {'frame': 106, 'label': 'skis', 'confidence': np.float32(0.28220266), 'bbox': (np.float32(1232.919), np.float32(653.3183), np.float32(1554.0529), np.float32(763.68164)), 'team': 1, 'referee': True}, {'frame': 107, 'label': 'person', 'confidence': np.float32(0.94172454), 'bbox': (np.float32(1047.3519), np.float32(185.96075), np.float32(1615.7576), np.float32(758.66174)), 'team': 0, 'referee': True}, {'frame': 108, 'label': 'person', 'confidence': np.float32(0.93613225), 'bbox': (np.float32(1058.7645), np.float32(200.03587), np.float32(1640.3373), np.float32(732.8928)), 'team': 0, 'referee': True}, {'frame': 109, 'label': 'person', 'confidence': np.float32(0.9347893), 'bbox': (np.float32(1042.4866), np.float32(205.44348), np.float32(1623.9453), np.float32(710.5581)), 'team': 0, 'referee': True}, {'frame': 110, 'label': 'person', 'confidence': np.float32(0.9342207), 'bbox': (np.float32(1042.2046), np.float32(220.39972), np.float32(1561.5404), np.float32(700.9738)), 'team': 0, 'referee': True}, {'frame': 110, 'label': 'person', 'confidence': np.float32(0.32655263), 'bbox': (np.float32(1894.5474), np.float32(251.30005), np.float32(1920.0), np.float32(450.24265))}, {'frame': 111, 'label': 'person', 'confidence': np.float32(0.9026132), 'bbox': (np.float32(1044.9744), np.float32(235.06876), np.float32(1456.5907), np.float32(688.2537)), 'team': 0, 'referee': True}, {'frame': 111, 'label': 'skateboard', 'confidence': np.float32(0.26644668), 'bbox': (np.float32(1290.5692), np.float32(629.8463), np.float32(1404.9102), np.float32(696.2093)), 'team': 1, 'referee': True}, {'frame': 112, 'label': 'person', 'confidence': np.float32(0.9270428), 'bbox': (np.float32(1048.7318), np.float32(248.14793), np.float32(1454.1781), np.float32(685.4262)), 'team': 0, 'referee': True}, {'frame': 112, 'label': 'skateboard', 'confidence': np.float32(0.41156858), 'bbox': (np.float32(1333.5133), np.float32(568.1333), np.float32(1471.6129), np.float32(693.46985)), 'team': 1, 'referee': True}, {'frame': 113, 'label': 'person', 'confidence': np.float32(0.9161333), 'bbox': (np.float32(1053.1565), np.float32(253.47026), np.float32(1463.0681), np.float32(727.4255)), 'team': 0, 'referee': True}, {'frame': 113, 'label': 'person', 'confidence': np.float32(0.31442615), 'bbox': (np.float32(1855.6858), np.float32(232.45515), np.float32(1919.3065), np.float32(638.8424)), 'referee': True}, {'frame': 114, 'label': 'person', 'confidence': np.float32(0.9095894), 'bbox': (np.float32(1063.4276), np.float32(257.15747), np.float32(1504.617), np.float32(741.19885)), 'team': 0, 'referee': True}, {'frame': 114, 'label': 'person', 'confidence': np.float32(0.54687047), 'bbox': (np.float32(1847.0117), np.float32(238.16505), np.float32(1920.0), np.float32(566.1503)), 'referee': True}, {'frame': 114, 'label': 'skis', 'confidence': np.float32(0.3762112), 'bbox': (np.float32(1787.9869), np.float32(526.1925), np.float32(1920.0), np.float32(704.7227)), 'referee': True}, {'frame': 115, 'label': 'person', 'confidence': np.float32(0.9226601), 'bbox': (np.float32(1075.9672), np.float32(257.96173), np.float32(1558.1064), np.float32(748.40735)), 'team': 0, 'referee': True}, {'frame': 115, 'label': 'person', 'confidence': np.float32(0.72215754), 'bbox': (np.float32(1830.6017), np.float32(241.13728), np.float32(1919.3353), np.float32(580.3647)), 'referee': True}, {'frame': 115, 'label': 'skis', 'confidence': np.float32(0.3775926), 'bbox': (np.float32(1741.378), np.float32(549.2755), np.float32(1919.9886), np.float32(743.0632)), 'referee': True}, {'frame': 116, 'label': 'person', 'confidence': np.float32(0.9385258), 'bbox': (np.float32(1079.3795), np.float32(254.16327), np.float32(1604.2295), np.float32(756.5138)), 'team': 0, 'referee': True}, {'frame': 116, 'label': 'person', 'confidence': np.float32(0.8171995), 'bbox': (np.float32(1810.6014), np.float32(246.24998), np.float32(1920.0), np.float32(594.62213)), 'referee': True}, {'frame': 117, 'label': 'person', 'confidence': np.float32(0.8794393), 'bbox': (np.float32(1075.3127), np.float32(242.04608), np.float32(1592.9106), np.float32(774.4417)), 'team': 0, 'referee': True}, {'frame': 117, 'label': 'person', 'confidence': np.float32(0.6714494), 'bbox': (np.float32(1794.1946), np.float32(252.18633), np.float32(1918.6459), np.float32(590.8325)), 'team': 1, 'referee': True}, {'frame': 118, 'label': 'person', 'confidence': np.float32(0.86996275), 'bbox': (np.float32(1062.3241), np.float32(238.22765), np.float32(1499.2863), np.float32(781.01685)), 'team': 0, 'referee': True}, {'frame': 118, 'label': 'person', 'confidence': np.float32(0.56817573), 'bbox': (np.float32(1771.799), np.float32(261.44153), np.float32(1919.289), np.float32(643.3456)), 'team': 1, 'referee': True}, {'frame': 119, 'label': 'person', 'confidence': np.float32(0.91335773), 'bbox': (np.float32(1050.7593), np.float32(240.23892), np.float32(1459.4657), np.float32(784.82355)), 'team': 0, 'referee': True}, {'frame': 119, 'label': 'person', 'confidence': np.float32(0.61325353), 'bbox': (np.float32(1745.2776), np.float32(277.2524), np.float32(1920.0), np.float32(694.4207)), 'team': 1, 'referee': True}, {'frame': 120, 'label': 'person', 'confidence': np.float32(0.9214139), 'bbox': (np.float32(1043.344), np.float32(247.94957), np.float32(1454.4745), np.float32(785.84406)), 'team': 0, 'referee': True}, {'frame': 120, 'label': 'person', 'confidence': np.float32(0.7374856), 'bbox': (np.float32(1729.1504), np.float32(297.8348), np.float32(1919.846), np.float32(800.4786)), 'team': 1, 'referee': True}, {'frame': 121, 'label': 'person', 'confidence': np.float32(0.8452775), 'bbox': (np.float32(330.1874), np.float32(418.2586), np.float32(456.89438), np.float32(620.4302)), 'team': 1, 'referee': True}, {'frame': 121, 'label': 'person', 'confidence': np.float32(0.84176487), 'bbox': (np.float32(1212.9246), np.float32(371.98322), np.float32(1347.2928), np.float32(538.35455)), 'team': 0, 'referee': True}, {'frame': 121, 'label': 'person', 'confidence': np.float32(0.8177859), 'bbox': (np.float32(564.5475), np.float32(630.3721), np.float32(698.43317), np.float32(884.82465)), 'team': 0, 'referee': True}, {'frame': 121, 'label': 'person', 'confidence': np.float32(0.8177775), 'bbox': (np.float32(573.451), np.float32(213.99371), np.float32(706.6325), np.float32(344.98993)), 'team': 0, 'referee': True}, {'frame': 121, 'label': 'person', 'confidence': np.float32(0.8132652), 'bbox': (np.float32(1279.4504), np.float32(699.2712), np.float32(1445.61), np.float32(991.26276)), 'team': 0, 'referee': True}, {'frame': 121, 'label': 'person', 'confidence': np.float32(0.7975215), 'bbox': (np.float32(1415.2538), np.float32(381.5799), np.float32(1554.9108), np.float32(580.36237)), 'referee': True}, {'frame': 122, 'label': 'person', 'confidence': np.float32(0.8640266), 'bbox': (np.float32(1213.004), np.float32(368.8165), np.float32(1357.2708), np.float32(537.04736)), 'team': 0, 'referee': True}, {'frame': 122, 'label': 'person', 'confidence': np.float32(0.8506553), 'bbox': (np.float32(344.7704), np.float32(411.60406), np.float32(465.77966), np.float32(617.0557)), 'team': 1, 'referee': True}, {'frame': 122, 'label': 'person', 'confidence': np.float32(0.84608567), 'bbox': (np.float32(1270.908), np.float32(706.8508), np.float32(1437.0818), np.float32(996.3815)), 'team': 0, 'referee': True}, {'frame': 122, 'label': 'person', 'confidence': np.float32(0.8290511), 'bbox': (np.float32(567.17633), np.float32(637.34216), np.float32(718.81696), np.float32(895.8293)), 'team': 0, 'referee': True}, {'frame': 122, 'label': 'person', 'confidence': np.float32(0.81125546), 'bbox': (np.float32(601.8634), np.float32(214.22241), np.float32(732.5678), np.float32(343.39984)), 'team': 0, 'referee': True}, {'frame': 122, 'label': 'person', 'confidence': np.float32(0.7812363), 'bbox': (np.float32(1409.8368), np.float32(388.06924), np.float32(1536.2513), np.float32(558.4065)), 'team': 1, 'referee': True}, {'frame': 122, 'label': 'baseball bat', 'confidence': np.float32(0.26812065), 'bbox': (np.float32(445.48773), np.float32(530.84814), np.float32(613.99976), np.float32(619.5223)), 'team': 0, 'referee': True}, {'frame': 122, 'label': 'baseball bat', 'confidence': np.float32(0.25651738), 'bbox': (np.float32(1366.0862), np.float32(451.8613), np.float32(1429.2429), np.float32(496.23178)), 'team': 0}, {'frame': 123, 'label': 'person', 'confidence': np.float32(0.86845684), 'bbox': (np.float32(1261.4908), np.float32(710.40546), np.float32(1439.3359), np.float32(1010.42255)), 'team': 0, 'referee': True}, {'frame': 123, 'label': 'person', 'confidence': np.float32(0.85366684), 'bbox': (np.float32(1210.1927), np.float32(363.4574), np.float32(1366.8658), np.float32(536.4643)), 'team': 0, 'referee': True}, {'frame': 123, 'label': 'person', 'confidence': np.float32(0.85299855), 'bbox': (np.float32(358.9021), np.float32(406.57315), np.float32(480.3698), np.float32(613.8845)), 'team': 1, 'referee': True}, {'frame': 123, 'label': 'person', 'confidence': np.float32(0.8266138), 'bbox': (np.float32(576.6297), np.float32(649.82043), np.float32(735.7391), np.float32(904.5192)), 'team': 0, 'referee': True}, {'frame': 123, 'label': 'person', 'confidence': np.float32(0.8118273), 'bbox': (np.float32(633.15186), np.float32(212.32448), np.float32(764.3044), np.float32(341.4803)), 'team': 0, 'referee': True}, {'frame': 123, 'label': 'person', 'confidence': np.float32(0.7864178), 'bbox': (np.float32(1402.5863), np.float32(386.41525), np.float32(1514.2059), np.float32(538.4345)), 'team': 1, 'referee': True}, {'frame': 123, 'label': 'person', 'confidence': np.float32(0.3311144), 'bbox': (np.float32(0.5732002), np.float32(977.612), np.float32(114.146965), np.float32(1075.0898)), 'referee': True}, {'frame': 123, 'label': 'baseball bat', 'confidence': np.float32(0.28618133), 'bbox': (np.float32(448.83893), np.float32(520.18506), np.float32(626.11835), np.float32(619.4379)), 'team': 0, 'referee': True}, {'frame': 124, 'label': 'person', 'confidence': np.float32(0.88992023), 'bbox': (np.float32(1251.6055), np.float32(719.07666), np.float32(1439.6079), np.float32(1011.92786)), 'team': 0, 'referee': True}, {'frame': 124, 'label': 'person', 'confidence': np.float32(0.88022953), 'bbox': (np.float32(372.8737), np.float32(405.3002), np.float32(504.73657), np.float32(612.7427)), 'team': 1, 'referee': True}, {'frame': 124, 'label': 'person', 'confidence': np.float32(0.83351254), 'bbox': (np.float32(582.7085), np.float32(656.1385), np.float32(754.2961), np.float32(915.9198)), 'team': 0, 'referee': True}, {'frame': 124, 'label': 'person', 'confidence': np.float32(0.82916266), 'bbox': (np.float32(1204.608), np.float32(362.11392), np.float32(1380.0889), np.float32(531.84314)), 'team': 0, 'referee': True}, {'frame': 124, 'label': 'person', 'confidence': np.float32(0.82063305), 'bbox': (np.float32(1391.0892), np.float32(387.32202), np.float32(1506.8346), np.float32(544.4791)), 'team': 1, 'referee': True}, {'frame': 124, 'label': 'person', 'confidence': np.float32(0.7521898), 'bbox': (np.float32(662.5895), np.float32(218.07039), np.float32(791.731), np.float32(341.7137)), 'team': 0, 'referee': True}, {'frame': 124, 'label': 'person', 'confidence': np.float32(0.5017585), 'bbox': (np.float32(4.245598), np.float32(971.95465), np.float32(150.86366), np.float32(1076.0)), 'referee': True}, {'frame': 124, 'label': 'baseball bat', 'confidence': np.float32(0.3863727), 'bbox': (np.float32(467.0651), np.float32(521.10516), np.float32(637.54553), np.float32(615.0093)), 'team': 0, 'referee': True}, {'frame': 125, 'label': 'person', 'confidence': np.float32(0.881651), 'bbox': (np.float32(1239.9738), np.float32(722.08673), np.float32(1433.4679), np.float32(1013.56683)), 'team': 0, 'referee': True}, {'frame': 125, 'label': 'person', 'confidence': np.float32(0.86679554), 'bbox': (np.float32(386.01755), np.float32(398.72464), np.float32(513.03937), np.float32(607.944)), 'team': 1, 'referee': True}, {'frame': 125, 'label': 'person', 'confidence': np.float32(0.84031326), 'bbox': (np.float32(591.583), np.float32(665.7801), np.float32(775.43774), np.float32(918.87714)), 'team': 0, 'referee': True}, {'frame': 125, 'label': 'person', 'confidence': np.float32(0.81858647), 'bbox': (np.float32(1206.56), np.float32(359.36377), np.float32(1331.0714), np.float32(508.89188)), 'team': 0, 'referee': True}, {'frame': 125, 'label': 'person', 'confidence': np.float32(0.8157144), 'bbox': (np.float32(693.3048), np.float32(219.08044), np.float32(825.6828), np.float32(342.8614)), 'team': 0, 'referee': True}, {'frame': 125, 'label': 'person', 'confidence': np.float32(0.7985435), 'bbox': (np.float32(1389.386), np.float32(387.30884), np.float32(1504.8289), np.float32(538.0255)), 'team': 1, 'referee': True}, {'frame': 126, 'label': 'person', 'confidence': np.float32(0.8949624), 'bbox': (np.float32(1232.9728), np.float32(725.19666), np.float32(1424.2332), np.float32(1015.62854)), 'team': 0, 'referee': True}, {'frame': 126, 'label': 'person', 'confidence': np.float32(0.8647982), 'bbox': (np.float32(396.4964), np.float32(396.0026), np.float32(526.11346), np.float32(600.763)), 'team': 1, 'referee': True}, {'frame': 126, 'label': 'person', 'confidence': np.float32(0.79638153), 'bbox': (np.float32(1207.1605), np.float32(358.88898), np.float32(1341.1658), np.float32(505.5458)), 'team': 0, 'referee': True}, {'frame': 126, 'label': 'person', 'confidence': np.float32(0.782471), 'bbox': (np.float32(593.22437), np.float32(677.3742), np.float32(798.52), np.float32(929.90265)), 'team': 0, 'referee': True}, {'frame': 126, 'label': 'person', 'confidence': np.float32(0.73326063), 'bbox': (np.float32(731.58356), np.float32(216.27518), np.float32(859.65405), np.float32(339.9667)), 'team': 0, 'referee': True}, {'frame': 126, 'label': 'person', 'confidence': np.float32(0.6660882), 'bbox': (np.float32(1380.6046), np.float32(389.17294), np.float32(1505.279), np.float32(529.77136)), 'team': 1, 'referee': True}, {'frame': 127, 'label': 'person', 'confidence': np.float32(0.8821358), 'bbox': (np.float32(1229.7719), np.float32(729.9988), np.float32(1417.3132), np.float32(1014.14575)), 'team': 0, 'referee': True}, {'frame': 127, 'label': 'person', 'confidence': np.float32(0.84683245), 'bbox': (np.float32(406.02567), np.float32(386.28088), np.float32(541.75916), np.float32(596.39716)), 'team': 1, 'referee': True}, {'frame': 127, 'label': 'person', 'confidence': np.float32(0.82260305), 'bbox': (np.float32(1212.2849), np.float32(361.10886), np.float32(1337.4749), np.float32(506.23602)), 'team': 0, 'referee': True}, {'frame': 127, 'label': 'person', 'confidence': np.float32(0.78175175), 'bbox': (np.float32(619.96747), np.float32(688.1093), np.float32(824.0823), np.float32(941.65546)), 'team': 0, 'referee': True}, {'frame': 127, 'label': 'person', 'confidence': np.float32(0.66196734), 'bbox': (np.float32(763.19025), np.float32(225.88547), np.float32(895.8463), np.float32(341.54962)), 'team': 0, 'referee': True}, {'frame': 127, 'label': 'person', 'confidence': np.float32(0.6511605), 'bbox': (np.float32(1381.8352), np.float32(391.41882), np.float32(1502.1028), np.float32(543.0618)), 'referee': True}, {'frame': 128, 'label': 'person', 'confidence': np.float32(0.8799017), 'bbox': (np.float32(1224.9532), np.float32(730.63837), np.float32(1407.683), np.float32(1013.7775)), 'team': 0, 'referee': True}, {'frame': 128, 'label': 'person', 'confidence': np.float32(0.8607542), 'bbox': (np.float32(427.17365), np.float32(382.4544), np.float32(560.6132), np.float32(591.8192)), 'referee': True}, {'frame': 128, 'label': 'person', 'confidence': np.float32(0.80223155), 'bbox': (np.float32(618.3459), np.float32(696.7599), np.float32(853.11163), np.float32(945.9211)), 'team': 0, 'referee': True}, {'frame': 128, 'label': 'person', 'confidence': np.float32(0.7402494), 'bbox': (np.float32(799.7172), np.float32(212.67627), np.float32(929.6591), np.float32(339.9485)), 'team': 0, 'referee': True}, {'frame': 128, 'label': 'person', 'confidence': np.float32(0.7138193), 'bbox': (np.float32(1215.4849), np.float32(373.14615), np.float32(1505.9869), np.float32(544.13416)), 'team': 0, 'referee': True}, {'frame': 128, 'label': 'person', 'confidence': np.float32(0.4846804), 'bbox': (np.float32(1209.8287), np.float32(366.55414), np.float32(1338.7482), np.float32(498.80084)), 'team': 1, 'referee': True}, {'frame': 128, 'label': 'tennis racket', 'confidence': np.float32(0.38085926), 'bbox': (np.float32(1059.0605), np.float32(437.7214), np.float32(1231.5787), np.float32(497.34238)), 'referee': True}, {'frame': 129, 'label': 'person', 'confidence': np.float32(0.8553585), 'bbox': (np.float32(1223.3234), np.float32(728.7707), np.float32(1397.2655), np.float32(1014.1234)), 'team': 0, 'referee': True}, {'frame': 129, 'label': 'person', 'confidence': np.float32(0.84535366), 'bbox': (np.float32(443.68863), np.float32(378.17184), np.float32(578.25354), np.float32(587.61334)), 'referee': True}, {'frame': 129, 'label': 'person', 'confidence': np.float32(0.8045431), 'bbox': (np.float32(1216.0647), np.float32(366.7301), np.float32(1343.6068), np.float32(507.77393)), 'team': 0, 'referee': True}, {'frame': 129, 'label': 'person', 'confidence': np.float32(0.7566444), 'bbox': (np.float32(1380.4479), np.float32(396.3684), np.float32(1517.371), np.float32(543.8145)), 'team': 1, 'referee': True}, {'frame': 129, 'label': 'person', 'confidence': np.float32(0.69033444), 'bbox': (np.float32(643.1303), np.float32(710.64087), np.float32(870.97363), np.float32(953.88885)), 'team': 0, 'referee': True}, {'frame': 129, 'label': 'person', 'confidence': np.float32(0.6803398), 'bbox': (np.float32(835.09717), np.float32(219.19402), np.float32(966.2503), np.float32(337.41968)), 'team': 0, 'referee': True}, {'frame': 130, 'label': 'person', 'confidence': np.float32(0.86790234), 'bbox': (np.float32(483.11996), np.float32(375.38156), np.float32(602.7542), np.float32(576.29364)), 'team': 1, 'referee': True}, {'frame': 130, 'label': 'person', 'confidence': np.float32(0.84817773), 'bbox': (np.float32(1225.6876), np.float32(727.216), np.float32(1393.1742), np.float32(1013.5414)), 'team': 0, 'referee': True}, {'frame': 130, 'label': 'person', 'confidence': np.float32(0.7481783), 'bbox': (np.float32(874.3751), np.float32(214.07593), np.float32(1005.8258), np.float32(342.32248)), 'team': 0, 'referee': True}, {'frame': 130, 'label': 'person', 'confidence': np.float32(0.6859383), 'bbox': (np.float32(716.31287), np.float32(724.4541), np.float32(902.2539), np.float32(969.7911)), 'team': 0, 'referee': True}, {'frame': 130, 'label': 'person', 'confidence': np.float32(0.66749686), 'bbox': (np.float32(1222.162), np.float32(370.44815), np.float32(1357.2632), np.float32(515.6356)), 'team': 0, 'referee': True}, {'frame': 130, 'label': 'person', 'confidence': np.float32(0.64044726), 'bbox': (np.float32(1369.1675), np.float32(395.65543), np.float32(1519.9893), np.float32(546.7959)), 'team': 1, 'referee': True}, {'frame': 130, 'label': 'baseball bat', 'confidence': np.float32(0.30842316), 'bbox': (np.float32(581.6095), np.float32(493.03235), np.float32(727.52936), np.float32(579.1663)), 'team': 0, 'referee': True}, {'frame': 130, 'label': 'tennis racket', 'confidence': np.float32(0.27713108), 'bbox': (np.float32(1091.5017), np.float32(847.22736), np.float32(1264.1895), np.float32(911.08997)), 'team': 1, 'referee': True}, {'frame': 131, 'label': 'person', 'confidence': np.float32(0.86655134), 'bbox': (np.float32(509.53885), np.float32(372.7789), np.float32(622.5782), np.float32(570.43756)), 'team': 1, 'referee': True}, {'frame': 131, 'label': 'person', 'confidence': np.float32(0.8392547), 'bbox': (np.float32(1232.4819), np.float32(728.00885), np.float32(1390.2207), np.float32(999.66675)), 'team': 0, 'referee': True}, {'frame': 131, 'label': 'person', 'confidence': np.float32(0.7588824), 'bbox': (np.float32(725.564), np.float32(736.7138), np.float32(925.81805), np.float32(981.10565)), 'team': 0, 'referee': True}, {'frame': 131, 'label': 'person', 'confidence': np.float32(0.7183494), 'bbox': (np.float32(1218.8363), np.float32(369.92816), np.float32(1380.4933), np.float32(516.82074)), 'team': 0, 'referee': True}, {'frame': 131, 'label': 'person', 'confidence': np.float32(0.7050172), 'bbox': (np.float32(909.99554), np.float32(230.68309), np.float32(1040.7477), np.float32(340.3676)), 'team': 0, 'referee': True}, {'frame': 131, 'label': 'person', 'confidence': np.float32(0.6841216), 'bbox': (np.float32(1371.1498), np.float32(395.11206), np.float32(1532.4141), np.float32(549.7643)), 'team': 1, 'referee': True}, {'frame': 131, 'label': 'tennis racket', 'confidence': np.float32(0.2811606), 'bbox': (np.float32(1093.0142), np.float32(847.4393), np.float32(1271.4768), np.float32(912.69696)), 'team': 1, 'referee': True}, {'frame': 131, 'label': 'skateboard', 'confidence': np.float32(0.2797016), 'bbox': (np.float32(520.0619), np.float32(540.53723), np.float32(562.7115), np.float32(574.1866)), 'team': 0}, {'frame': 131, 'label': 'hockey stick', 'confidence': np.float32(0.26548725), 'bbox': (np.float32(1047.0306), np.float32(454.0128), np.float32(1227.7319), np.float32(495.52106)), 'team': 1}, {'frame': 132, 'label': 'person', 'confidence': np.float32(0.8821702), 'bbox': (np.float32(536.508), np.float32(373.16592), np.float32(647.8753), np.float32(572.8918)), 'team': 1, 'referee': True}, {'frame': 132, 'label': 'person', 'confidence': np.float32(0.8381078), 'bbox': (np.float32(1244.9564), np.float32(727.43835), np.float32(1391.9211), np.float32(997.8877)), 'team': 0, 'referee': True}, {'frame': 132, 'label': 'person', 'confidence': np.float32(0.7824723), 'bbox': (np.float32(749.686), np.float32(749.1491), np.float32(955.6905), np.float32(992.31433)), 'team': 0, 'referee': True}, {'frame': 132, 'label': 'person', 'confidence': np.float32(0.7178574), 'bbox': (np.float32(1230.2233), np.float32(370.0643), np.float32(1378.0472), np.float32(522.2175)), 'team': 0, 'referee': True}, {'frame': 132, 'label': 'person', 'confidence': np.float32(0.7024533), 'bbox': (np.float32(948.8269), np.float32(214.48814), np.float32(1077.3765), np.float32(342.51273)), 'team': 0, 'referee': True}, {'frame': 132, 'label': 'person', 'confidence': np.float32(0.6103507), 'bbox': (np.float32(1369.2622), np.float32(393.6268), np.float32(1534.9999), np.float32(551.7781)), 'team': 1, 'referee': True}, {'frame': 132, 'label': 'baseball bat', 'confidence': np.float32(0.25007915), 'bbox': (np.float32(627.29114), np.float32(493.47052), np.float32(782.0345), np.float32(576.7586)), 'team': 0, 'referee': True}, {'frame': 133, 'label': 'person', 'confidence': np.float32(0.87126446), 'bbox': (np.float32(555.8879), np.float32(373.80365), np.float32(673.26166), np.float32(569.92163)), 'team': 1, 'referee': True}, {'frame': 133, 'label': 'person', 'confidence': np.float32(0.8221945), 'bbox': (np.float32(1248.1708), np.float32(724.9501), np.float32(1396.0427), np.float32(995.62506)), 'team': 0, 'referee': True}, {'frame': 133, 'label': 'person', 'confidence': np.float32(0.77637744), 'bbox': (np.float32(770.14386), np.float32(760.56036), np.float32(966.85223), np.float32(1001.421)), 'team': 0, 'referee': True}, {'frame': 133, 'label': 'person', 'confidence': np.float32(0.7291191), 'bbox': (np.float32(1242.988), np.float32(369.72122), np.float32(1385.6472), np.float32(521.8451)), 'team': 0, 'referee': True}, {'frame': 133, 'label': 'person', 'confidence': np.float32(0.72435457), 'bbox': (np.float32(987.25366), np.float32(220.41331), np.float32(1116.9166), np.float32(342.57825)), 'team': 0, 'referee': True}, {'frame': 133, 'label': 'person', 'confidence': np.float32(0.64586544), 'bbox': (np.float32(1371.5645), np.float32(393.78738), np.float32(1540.0891), np.float32(554.23694)), 'team': 1, 'referee': True}, {'frame': 133, 'label': 'baseball bat', 'confidence': np.float32(0.37099737), 'bbox': (np.float32(653.3278), np.float32(493.823), np.float32(823.74536), np.float32(577.90015)), 'team': 0, 'referee': True}, {'frame': 134, 'label': 'person', 'confidence': np.float32(0.86848384), 'bbox': (np.float32(582.0803), np.float32(374.6516), np.float32(695.4342), np.float32(563.00055)), 'team': 1, 'referee': True}, {'frame': 134, 'label': 'person', 'confidence': np.float32(0.8474242), 'bbox': (np.float32(1251.8317), np.float32(721.9886), np.float32(1401.6112), np.float32(993.28625)), 'team': 0, 'referee': True}, {'frame': 134, 'label': 'person', 'confidence': np.float32(0.7948922), 'bbox': (np.float32(792.3719), np.float32(775.6406), np.float32(990.8866), np.float32(1010.352)), 'team': 0, 'referee': True}, {'frame': 134, 'label': 'person', 'confidence': np.float32(0.77244264), 'bbox': (np.float32(1248.3079), np.float32(366.70175), np.float32(1370.4429), np.float32(522.34973)), 'team': 0, 'referee': True}, {'frame': 134, 'label': 'person', 'confidence': np.float32(0.69971526), 'bbox': (np.float32(1023.1721), np.float32(220.45866), np.float32(1153.2295), np.float32(338.6012)), 'team': 0, 'referee': True}, {'frame': 134, 'label': 'person', 'confidence': np.float32(0.6162912), 'bbox': (np.float32(1378.1033), np.float32(392.72006), np.float32(1535.4216), np.float32(557.2494)), 'team': 1, 'referee': True}, {'frame': 134, 'label': 'baseball bat', 'confidence': np.float32(0.39258432), 'bbox': (np.float32(672.669), np.float32(493.47913), np.float32(846.0714), np.float32(576.0447)), 'team': 0, 'referee': True}, {'frame': 135, 'label': 'person', 'confidence': np.float32(0.8608123), 'bbox': (np.float32(1264.4568), np.float32(719.2121), np.float32(1409.2544), np.float32(987.6023)), 'team': 0, 'referee': True}, {'frame': 135, 'label': 'person', 'confidence': np.float32(0.83548814), 'bbox': (np.float32(604.49097), np.float32(379.51526), np.float32(718.3334), np.float32(552.1157)), 'team': 1, 'referee': True}, {'frame': 135, 'label': 'person', 'confidence': np.float32(0.83383805), 'bbox': (np.float32(1256.3812), np.float32(365.6259), np.float32(1373.2245), np.float32(519.5282)), 'team': 0, 'referee': True}, {'frame': 135, 'label': 'person', 'confidence': np.float32(0.7635861), 'bbox': (np.float32(1387.5409), np.float32(394.03485), np.float32(1523.4956), np.float32(559.1321)), 'team': 1, 'referee': True}, {'frame': 135, 'label': 'person', 'confidence': np.float32(0.74831325), 'bbox': (np.float32(806.56775), np.float32(783.7779), np.float32(1007.5974), np.float32(1022.7776)), 'team': 0, 'referee': True}, {'frame': 135, 'label': 'person', 'confidence': np.float32(0.69914556), 'bbox': (np.float32(1064.3855), np.float32(218.23143), np.float32(1194.8079), np.float32(342.45996)), 'team': 0, 'referee': True}, {'frame': 136, 'label': 'person', 'confidence': np.float32(0.86722594), 'bbox': (np.float32(1271.7155), np.float32(713.0496), np.float32(1417.2301), np.float32(983.1398)), 'team': 0, 'referee': True}, {'frame': 136, 'label': 'person', 'confidence': np.float32(0.86029595), 'bbox': (np.float32(1268.2843), np.float32(363.7371), np.float32(1388.2504), np.float32(518.9189)), 'team': 0, 'referee': True}, {'frame': 136, 'label': 'person', 'confidence': np.float32(0.8086442), 'bbox': (np.float32(631.565), np.float32(378.2091), np.float32(739.74036), np.float32(543.95325)), 'team': 1, 'referee': True}, {'frame': 136, 'label': 'person', 'confidence': np.float32(0.8056376), 'bbox': (np.float32(815.6497), np.float32(794.0415), np.float32(1017.7088), np.float32(1030.4991)), 'team': 0, 'referee': True}, {'frame': 136, 'label': 'person', 'confidence': np.float32(0.7423182), 'bbox': (np.float32(1385.3993), np.float32(393.61652), np.float32(1518.9353), np.float32(560.5225)), 'team': 1, 'referee': True}, {'frame': 136, 'label': 'person', 'confidence': np.float32(0.6800083), 'bbox': (np.float32(1102.6011), np.float32(226.1978), np.float32(1235.7737), np.float32(340.83514)), 'team': 0, 'referee': True}, {'frame': 136, 'label': 'person', 'confidence': np.float32(0.3179349), 'bbox': (np.float32(349.77975), np.float32(969.36206), np.float32(478.3405), np.float32(1074.8031)), 'referee': True}, {'frame': 137, 'label': 'person', 'confidence': np.float32(0.85067934), 'bbox': (np.float32(1278.5315), np.float32(705.5607), np.float32(1429.237), np.float32(969.12726)), 'team': 0, 'referee': True}, {'frame': 137, 'label': 'person', 'confidence': np.float32(0.8276217), 'bbox': (np.float32(1276.4103), np.float32(363.28857), np.float32(1395.0449), np.float32(522.43396)), 'team': 0, 'referee': True}, {'frame': 137, 'label': 'person', 'confidence': np.float32(0.81876254), 'bbox': (np.float32(653.04193), np.float32(380.7637), np.float32(767.5305), np.float32(540.96497)), 'team': 1, 'referee': True}, {'frame': 137, 'label': 'person', 'confidence': np.float32(0.77408546), 'bbox': (np.float32(839.5586), np.float32(809.6831), np.float32(1033.1462), np.float32(1034.9143)), 'team': 0, 'referee': True}, {'frame': 137, 'label': 'person', 'confidence': np.float32(0.75426877), 'bbox': (np.float32(1388.9084), np.float32(392.65576), np.float32(1519.2224), np.float32(560.93396)), 'team': 1, 'referee': True}, {'frame': 137, 'label': 'person', 'confidence': np.float32(0.667589), 'bbox': (np.float32(1144.636), np.float32(224.72672), np.float32(1276.7227), np.float32(339.60995)), 'team': 0, 'referee': True}, {'frame': 137, 'label': 'person', 'confidence': np.float32(0.3704395), 'bbox': (np.float32(376.5524), np.float32(967.5178), np.float32(505.1395), np.float32(1076.0)), 'referee': True}, {'frame': 137, 'label': 'skateboard', 'confidence': np.float32(0.25450644), 'bbox': (np.float32(1269.3544), np.float32(931.8717), np.float32(1351.0045), np.float32(978.9703)), 'team': 1, 'referee': True}, {'frame': 138, 'label': 'person', 'confidence': np.float32(0.79815084), 'bbox': (np.float32(1282.8734), np.float32(361.21057), np.float32(1396.3073), np.float32(526.1609)), 'team': 0, 'referee': True}, {'frame': 138, 'label': 'person', 'confidence': np.float32(0.7918764), 'bbox': (np.float32(679.2332), np.float32(377.94476), np.float32(787.85693), np.float32(527.5045)), 'referee': True}, {'frame': 138, 'label': 'person', 'confidence': np.float32(0.78892297), 'bbox': (np.float32(1283.8364), np.float32(702.7121), np.float32(1431.973), np.float32(965.53314)), 'team': 0, 'referee': True}, {'frame': 138, 'label': 'person', 'confidence': np.float32(0.7879571), 'bbox': (np.float32(1396.4326), np.float32(389.5775), np.float32(1524.3639), np.float32(561.1457)), 'team': 1, 'referee': True}, {'frame': 138, 'label': 'person', 'confidence': np.float32(0.751384), 'bbox': (np.float32(1184.5188), np.float32(218.48476), np.float32(1313.1616), np.float32(341.00775)), 'team': 0, 'referee': True}, {'frame': 138, 'label': 'person', 'confidence': np.float32(0.7357638), 'bbox': (np.float32(844.1208), np.float32(824.9253), np.float32(1051.3247), np.float32(1050.6925)), 'team': 0, 'referee': True}, {'frame': 138, 'label': 'person', 'confidence': np.float32(0.5721977), 'bbox': (np.float32(396.60983), np.float32(962.9378), np.float32(528.3677), np.float32(1076.0)), 'referee': True}, {'frame': 139, 'label': 'person', 'confidence': np.float32(0.8222302), 'bbox': (np.float32(700.7549), np.float32(376.63162), np.float32(808.3169), np.float32(532.7908)), 'referee': True}, {'frame': 139, 'label': 'person', 'confidence': np.float32(0.7480226), 'bbox': (np.float32(740.8096), np.float32(822.8887), np.float32(1052.413), np.float32(1052.5216)), 'team': 0, 'referee': True}, {'frame': 139, 'label': 'person', 'confidence': np.float32(0.74744004), 'bbox': (np.float32(1293.0806), np.float32(695.081), np.float32(1443.7678), np.float32(958.01154)), 'team': 0, 'referee': True}, {'frame': 139, 'label': 'person', 'confidence': np.float32(0.73640263), 'bbox': (np.float32(1396.298), np.float32(388.65823), np.float32(1530.6207), np.float32(554.9927)), 'team': 1, 'referee': True}, {'frame': 139, 'label': 'person', 'confidence': np.float32(0.7043843), 'bbox': (np.float32(1222.0186), np.float32(222.40646), np.float32(1355.4576), np.float32(339.45355)), 'team': 0, 'referee': True}, {'frame': 139, 'label': 'person', 'confidence': np.float32(0.68905324), 'bbox': (np.float32(1291.5377), np.float32(355.25024), np.float32(1405.8156), np.float32(524.39655)), 'team': 0, 'referee': True}, {'frame': 139, 'label': 'person', 'confidence': np.float32(0.47918355), 'bbox': (np.float32(422.78735), np.float32(959.3687), np.float32(555.7546), np.float32(1076.0)), 'referee': True}, {'frame': 139, 'label': 'skateboard', 'confidence': np.float32(0.31873518), 'bbox': (np.float32(1451.1824), np.float32(539.28076), np.float32(1492.8838), np.float32(561.0771)), 'team': 0}, {'frame': 139, 'label': 'person', 'confidence': np.float32(0.2667571), 'bbox': (np.float32(0.17369843), np.float32(658.372), np.float32(70.36902), np.float32(841.49194)), 'team': 1}, {'frame': 140, 'label': 'person', 'confidence': np.float32(0.83794624), 'bbox': (np.float32(723.8718), np.float32(377.2636), np.float32(830.0362), np.float32(526.0413)), 'referee': True}, {'frame': 140, 'label': 'person', 'confidence': np.float32(0.7944621), 'bbox': (np.float32(872.01605), np.float32(830.09454), np.float32(1046.5891), np.float32(1058.1849)), 'team': 0, 'referee': True}, {'frame': 140, 'label': 'person', 'confidence': np.float32(0.77726465), 'bbox': (np.float32(0.0), np.float32(659.00464), np.float32(105.109314), np.float32(875.6172)), 'team': 1, 'referee': True}, {'frame': 140, 'label': 'person', 'confidence': np.float32(0.77327293), 'bbox': (np.float32(1288.6455), np.float32(689.1484), np.float32(1460.7723), np.float32(951.2458)), 'team': 0, 'referee': True}, {'frame': 140, 'label': 'person', 'confidence': np.float32(0.68356943), 'bbox': (np.float32(1263.4722), np.float32(222.5112), np.float32(1392.189), np.float32(337.9487)), 'team': 0, 'referee': True}, {'frame': 140, 'label': 'person', 'confidence': np.float32(0.6640189), 'bbox': (np.float32(1369.9011), np.float32(378.98105), np.float32(1536.5322), np.float32(552.1609)), 'team': 0, 'referee': True}, {'frame': 140, 'label': 'person', 'confidence': np.float32(0.63274616), 'bbox': (np.float32(442.86652), np.float32(959.22217), np.float32(587.0663), np.float32(1075.2013)), 'team': 0, 'referee': True}, {'frame': 140, 'label': 'person', 'confidence': np.float32(0.5950688), 'bbox': (np.float32(1293.7405), np.float32(351.66226), np.float32(1413.9207), np.float32(526.10925)), 'team': 1, 'referee': True}, {'frame': 140, 'label': 'skateboard', 'confidence': np.float32(0.2846136), 'bbox': (np.float32(1282.0618), np.float32(918.0841), np.float32(1367.6171), np.float32(956.6829)), 'team': 1}, {'frame': 141, 'label': 'person', 'confidence': np.float32(0.8608991), 'bbox': (np.float32(884.7627), np.float32(826.6509), np.float32(1044.0514), np.float32(1062.6003)), 'team': 0, 'referee': True}, {'frame': 141, 'label': 'person', 'confidence': np.float32(0.8424291), 'bbox': (np.float32(742.3493), np.float32(376.09195), np.float32(849.21844), np.float32(516.7079)), 'referee': True}, {'frame': 141, 'label': 'person', 'confidence': np.float32(0.7636405), 'bbox': (np.float32(1296.8917), np.float32(680.1099), np.float32(1468.4735), np.float32(944.5022)), 'team': 0, 'referee': True}, {'frame': 141, 'label': 'person', 'confidence': np.float32(0.74252427), 'bbox': (np.float32(10.035444), np.float32(646.81946), np.float32(134.32294), np.float32(872.54956)), 'team': 1, 'referee': True}, {'frame': 141, 'label': 'person', 'confidence': np.float32(0.7282265), 'bbox': (np.float32(1378.491), np.float32(376.1541), np.float32(1542.4852), np.float32(547.754)), 'team': 1, 'referee': True}, {'frame': 141, 'label': 'person', 'confidence': np.float32(0.7187535), 'bbox': (np.float32(1303.2306), np.float32(215.31973), np.float32(1434.3649), np.float32(341.51523)), 'team': 0, 'referee': True}, {'frame': 141, 'label': 'person', 'confidence': np.float32(0.63826656), 'bbox': (np.float32(1181.7178), np.float32(346.9775), np.float32(1418.7826), np.float32(520.1305)), 'team': 0, 'referee': True}, {'frame': 141, 'label': 'person', 'confidence': np.float32(0.60721123), 'bbox': (np.float32(471.3375), np.float32(953.2854), np.float32(615.1135), np.float32(1076.0)), 'referee': True}, {'frame': 141, 'label': 'person', 'confidence': np.float32(0.3102842), 'bbox': (np.float32(575.56177), np.float32(59.722504), np.float32(669.5321), np.float32(183.10771))}, {'frame': 142, 'label': 'person', 'confidence': np.float32(0.8248617), 'bbox': (np.float32(892.5718), np.float32(830.4529), np.float32(1039.1829), np.float32(1065.794)), 'team': 0, 'referee': True}, {'frame': 142, 'label': 'person', 'confidence': np.float32(0.81176394), 'bbox': (np.float32(761.8127), np.float32(373.62735), np.float32(866.74457), np.float32(514.736)), 'team': 1, 'referee': True}, {'frame': 142, 'label': 'person', 'confidence': np.float32(0.79666483), 'bbox': (np.float32(1297.5667), np.float32(671.92413), np.float32(1484.0297), np.float32(940.48444)), 'team': 0, 'referee': True}, {'frame': 142, 'label': 'person', 'confidence': np.float32(0.73730046), 'bbox': (np.float32(10.374092), np.float32(638.5673), np.float32(166.6615), np.float32(893.28906)), 'team': 1, 'referee': True}, {'frame': 142, 'label': 'person', 'confidence': np.float32(0.68674964), 'bbox': (np.float32(1385.1174), np.float32(373.25735), np.float32(1545.0802), np.float32(539.3926)), 'team': 1, 'referee': True}, {'frame': 142, 'label': 'person', 'confidence': np.float32(0.6004388), 'bbox': (np.float32(1303.4657), np.float32(339.2389), np.float32(1427.3324), np.float32(524.288)), 'team': 0, 'referee': True}, {'frame': 142, 'label': 'person', 'confidence': np.float32(0.5973815), 'bbox': (np.float32(1347.8279), np.float32(224.09747), np.float32(1475.6523), np.float32(337.96335)), 'team': 1, 'referee': True}, {'frame': 142, 'label': 'person', 'confidence': np.float32(0.5862315), 'bbox': (np.float32(492.8675), np.float32(950.6639), np.float32(643.7309), np.float32(1076.0)), 'team': 0, 'referee': True}, {'frame': 143, 'label': 'person', 'confidence': np.float32(0.86433554), 'bbox': (np.float32(782.05176), np.float32(372.3724), np.float32(885.1407), np.float32(514.5919)), 'team': 1, 'referee': True}, {'frame': 143, 'label': 'person', 'confidence': np.float32(0.84394157), 'bbox': (np.float32(1314.8586), np.float32(661.84906), np.float32(1498.3938), np.float32(932.92645)), 'team': 0, 'referee': True}, {'frame': 143, 'label': 'person', 'confidence': np.float32(0.83053017), 'bbox': (np.float32(892.9669), np.float32(832.46655), np.float32(1036.8572), np.float32(1067.4176)), 'team': 0, 'referee': True}, {'frame': 143, 'label': 'person', 'confidence': np.float32(0.74530894), 'bbox': (np.float32(27.250088), np.float32(635.3086), np.float32(192.36745), np.float32(886.4761)), 'team': 1, 'referee': True}, {'frame': 143, 'label': 'person', 'confidence': np.float32(0.6972502), 'bbox': (np.float32(1315.4263), np.float32(331.7579), np.float32(1428.6832), np.float32(522.2296)), 'team': 0, 'referee': True}, {'frame': 143, 'label': 'person', 'confidence': np.float32(0.6461002), 'bbox': (np.float32(1389.717), np.float32(230.05032), np.float32(1514.2255), np.float32(336.94943)), 'team': 1, 'referee': True}, {'frame': 143, 'label': 'person', 'confidence': np.float32(0.6109163), 'bbox': (np.float32(522.5091), np.float32(951.7768), np.float32(674.7648), np.float32(1076.0)), 'team': 0, 'referee': True}, {'frame': 143, 'label': 'person', 'confidence': np.float32(0.48925167), 'bbox': (np.float32(1372.8383), np.float32(340.51364), np.float32(1550.7262), np.float32(533.6294)), 'team': 1, 'referee': True}, {'frame': 143, 'label': 'baseball bat', 'confidence': np.float32(0.3889577), 'bbox': (np.float32(1200.7354), np.float32(427.8936), np.float32(1339.157), np.float32(503.8883)), 'team': 1, 'referee': True}, {'frame': 144, 'label': 'person', 'confidence': np.float32(0.86001414), 'bbox': (np.float32(1333.225), np.float32(653.82745), np.float32(1510.5032), np.float32(923.9165)), 'team': 0, 'referee': True}, {'frame': 144, 'label': 'person', 'confidence': np.float32(0.7998962), 'bbox': (np.float32(797.0134), np.float32(370.374), np.float32(898.051), np.float32(508.5547)), 'team': 1, 'referee': True}, {'frame': 144, 'label': 'person', 'confidence': np.float32(0.71283704), 'bbox': (np.float32(907.2623), np.float32(833.63617), np.float32(1037.0948), np.float32(1069.9403)), 'team': 0, 'referee': True}, {'frame': 144, 'label': 'person', 'confidence': np.float32(0.6352012), 'bbox': (np.float32(96.233185), np.float32(625.44904), np.float32(222.3877), np.float32(857.3604)), 'team': 1, 'referee': True}, {'frame': 144, 'label': 'person', 'confidence': np.float32(0.62108827), 'bbox': (np.float32(1327.7634), np.float32(330.38882), np.float32(1436.0677), np.float32(513.29755)), 'team': 0, 'referee': True}, {'frame': 144, 'label': 'baseball bat', 'confidence': np.float32(0.5248719), 'bbox': (np.float32(1219.622), np.float32(420.30743), np.float32(1359.9385), np.float32(494.96292)), 'team': 1, 'referee': True}, {'frame': 144, 'label': 'person', 'confidence': np.float32(0.50079113), 'bbox': (np.float32(1403.8519), np.float32(268.7191), np.float32(1553.1315), np.float32(540.62164)), 'team': 1, 'referee': True}, {'frame': 144, 'label': 'person', 'confidence': np.float32(0.49850324), 'bbox': (np.float32(1425.4133), np.float32(221.7888), np.float32(1550.9359), np.float32(342.25714)), 'team': 0, 'referee': True}, {'frame': 144, 'label': 'person', 'confidence': np.float32(0.2860124), 'bbox': (np.float32(546.5005), np.float32(958.8791), np.float32(700.35114), np.float32(1076.0)), 'team': 0, 'referee': True}, {'frame': 144, 'label': 'skateboard', 'confidence': np.float32(0.26619262), 'bbox': (np.float32(1331.4232), np.float32(850.37537), np.float32(1419.0255), np.float32(923.8003)), 'team': 1, 'referee': True}, {'frame': 144, 'label': 'skis', 'confidence': np.float32(0.25406247), 'bbox': (np.float32(822.43915), np.float32(472.93152), np.float32(1024.4608), np.float32(542.3415)), 'team': 0, 'referee': True}, {'frame': 145, 'label': 'person', 'confidence': np.float32(0.8719215), 'bbox': (np.float32(1341.0808), np.float32(649.9987), np.float32(1518.5991), np.float32(917.3906)), 'team': 0, 'referee': True}, {'frame': 145, 'label': 'person', 'confidence': np.float32(0.81195176), 'bbox': (np.float32(907.64105), np.float32(836.903), np.float32(1043.0616), np.float32(1068.4192)), 'team': 0, 'referee': True}, {'frame': 145, 'label': 'person', 'confidence': np.float32(0.78444403), 'bbox': (np.float32(86.8431), np.float32(618.2752), np.float32(249.41565), np.float32(869.1402)), 'team': 1, 'referee': True}, {'frame': 145, 'label': 'person', 'confidence': np.float32(0.7604262), 'bbox': (np.float32(807.9936), np.float32(366.42462), np.float32(916.1267), np.float32(506.52402)), 'team': 1, 'referee': True}, {'frame': 145, 'label': 'person', 'confidence': np.float32(0.71737814), 'bbox': (np.float32(1336.2444), np.float32(327.99252), np.float32(1438.7422), np.float32(505.0925)), 'team': 0, 'referee': True}, {'frame': 145, 'label': 'person', 'confidence': np.float32(0.64195216), 'bbox': (np.float32(1420.7668), np.float32(373.478), np.float32(1549.2969), np.float32(540.706)), 'team': 1, 'referee': True}, {'frame': 145, 'label': 'person', 'confidence': np.float32(0.62564313), 'bbox': (np.float32(1453.9462), np.float32(229.23479), np.float32(1583.1523), np.float32(344.98746)), 'team': 1, 'referee': True}, {'frame': 145, 'label': 'skateboard', 'confidence': np.float32(0.3039952), 'bbox': (np.float32(1337.9841), np.float32(856.3021), np.float32(1426.6798), np.float32(917.90924)), 'team': 1, 'referee': True}, {'frame': 145, 'label': 'person', 'confidence': np.float32(0.29878485), 'bbox': (np.float32(1356.3639), np.float32(333.48102), np.float32(1531.9464), np.float32(522.8834)), 'team': 0, 'referee': True}, {'frame': 146, 'label': 'person', 'confidence': np.float32(0.87490106), 'bbox': (np.float32(1353.575), np.float32(639.0091), np.float32(1531.1471), np.float32(905.7596)), 'team': 0, 'referee': True}, {'frame': 146, 'label': 'person', 'confidence': np.float32(0.83017963), 'bbox': (np.float32(824.668), np.float32(366.55563), np.float32(928.3537), np.float32(505.04333)), 'referee': True}, {'frame': 146, 'label': 'person', 'confidence': np.float32(0.75643116), 'bbox': (np.float32(134.36899), np.float32(616.5872), np.float32(276.4044), np.float32(847.86316)), 'team': 1, 'referee': True}, {'frame': 146, 'label': 'person', 'confidence': np.float32(0.73987323), 'bbox': (np.float32(908.0134), np.float32(837.5047), np.float32(1048.71), np.float32(1067.3685)), 'team': 0, 'referee': True}, {'frame': 146, 'label': 'person', 'confidence': np.float32(0.6493312), 'bbox': (np.float32(1492.2521), np.float32(229.80992), np.float32(1621.2682), np.float32(350.13565)), 'team': 0, 'referee': True}, {'frame': 146, 'label': 'person', 'confidence': np.float32(0.63058466), 'bbox': (np.float32(1340.5681), np.float32(330.16718), np.float32(1470.4598), np.float32(521.4698)), 'team': 0, 'referee': True}, {'frame': 146, 'label': 'person', 'confidence': np.float32(0.43027702), 'bbox': (np.float32(1384.1567), np.float32(344.75732), np.float32(1548.7234), np.float32(537.9724)), 'team': 1, 'referee': True}, {'frame': 147, 'label': 'person', 'confidence': np.float32(0.85879064), 'bbox': (np.float32(1360.592), np.float32(635.12085), np.float32(1544.9062), np.float32(900.0452)), 'team': 0, 'referee': True}, {'frame': 147, 'label': 'person', 'confidence': np.float32(0.81702113), 'bbox': (np.float32(834.6046), np.float32(363.61835), np.float32(940.16693), np.float32(508.17938)), 'referee': True}, {'frame': 147, 'label': 'person', 'confidence': np.float32(0.7994788), 'bbox': (np.float32(137.83536), np.float32(612.5643), np.float32(305.00052), np.float32(846.6905)), 'team': 1, 'referee': True}, {'frame': 147, 'label': 'person', 'confidence': np.float32(0.6734274), 'bbox': (np.float32(1527.8005), np.float32(241.85646), np.float32(1654.6996), np.float32(345.52252)), 'team': 0, 'referee': True}, {'frame': 147, 'label': 'person', 'confidence': np.float32(0.64877594), 'bbox': (np.float32(1344.1736), np.float32(329.3145), np.float32(1442.6182), np.float32(514.83484)), 'team': 0, 'referee': True}, {'frame': 147, 'label': 'person', 'confidence': np.float32(0.62122905), 'bbox': (np.float32(1420.4951), np.float32(371.20383), np.float32(1547.4131), np.float32(541.9581)), 'team': 1, 'referee': True}, {'frame': 147, 'label': 'person', 'confidence': np.float32(0.60989946), 'bbox': (np.float32(870.0191), np.float32(834.2361), np.float32(1053.8672), np.float32(1064.129)), 'team': 0, 'referee': True}, {'frame': 147, 'label': 'person', 'confidence': np.float32(0.27937117), 'bbox': (np.float32(1478.9927), np.float32(132.97894), np.float32(1557.8928), np.float32(214.41396))}, {'frame': 147, 'label': 'skis', 'confidence': np.float32(0.2620232), 'bbox': (np.float32(853.30426), np.float32(461.98508), np.float32(1056.5784), np.float32(540.4312)), 'referee': True}, {'frame': 148, 'label': 'person', 'confidence': np.float32(0.85833925), 'bbox': (np.float32(1372.69), np.float32(626.1795), np.float32(1561.5172), np.float32(887.5035)), 'team': 0, 'referee': True}, {'frame': 148, 'label': 'person', 'confidence': np.float32(0.81984735), 'bbox': (np.float32(171.94125), np.float32(606.5356), np.float32(326.08347), np.float32(840.42175)), 'team': 1, 'referee': True}, {'frame': 148, 'label': 'person', 'confidence': np.float32(0.8189136), 'bbox': (np.float32(847.335), np.float32(365.30728), np.float32(952.255), np.float32(507.5184)), 'referee': True}, {'frame': 148, 'label': 'person', 'confidence': np.float32(0.74877626), 'bbox': (np.float32(1562.618), np.float32(236.08434), np.float32(1690.2631), np.float32(350.15616)), 'team': 0, 'referee': True}, {'frame': 148, 'label': 'person', 'confidence': np.float32(0.7219001), 'bbox': (np.float32(894.3644), np.float32(833.0005), np.float32(1054.8589), np.float32(1065.0658)), 'team': 0, 'referee': True}, {'frame': 148, 'label': 'person', 'confidence': np.float32(0.6369694), 'bbox': (np.float32(1348.0618), np.float32(332.53253), np.float32(1541.0468), np.float32(529.624)), 'team': 0, 'referee': True}, {'frame': 148, 'label': 'person', 'confidence': np.float32(0.44540122), 'bbox': (np.float32(1343.2335), np.float32(329.71445), np.float32(1444.9094), np.float32(513.1124)), 'team': 1, 'referee': True}, {'frame': 148, 'label': 'person', 'confidence': np.float32(0.34322613), 'bbox': (np.float32(579.20325), np.float32(68.43684), np.float32(647.8204), np.float32(158.9842))}, {'frame': 149, 'label': 'person', 'confidence': np.float32(0.87359774), 'bbox': (np.float32(1387.0159), np.float32(624.1525), np.float32(1575.619), np.float32(877.4671)), 'team': 0, 'referee': True}, {'frame': 149, 'label': 'person', 'confidence': np.float32(0.8342375), 'bbox': (np.float32(194.88373), np.float32(601.4269), np.float32(350.4744), np.float32(837.8745)), 'team': 1, 'referee': True}, {'frame': 149, 'label': 'person', 'confidence': np.float32(0.80764985), 'bbox': (np.float32(1343.4579), np.float32(331.026), np.float32(1543.7964), np.float32(541.7327)), 'team': 0, 'referee': True}, {'frame': 149, 'label': 'person', 'confidence': np.float32(0.78931004), 'bbox': (np.float32(856.7316), np.float32(360.8872), np.float32(962.76654), np.float32(512.0676)), 'team': 1, 'referee': True}, {'frame': 149, 'label': 'person', 'confidence': np.float32(0.7890198), 'bbox': (np.float32(1596.07), np.float32(231.78023), np.float32(1728.0165), np.float32(350.1524)), 'team': 0, 'referee': True}, {'frame': 149, 'label': 'person', 'confidence': np.float32(0.66490465), 'bbox': (np.float32(889.6742), np.float32(829.3182), np.float32(1057.5088), np.float32(1062.9966)), 'team': 0, 'referee': True}, {'frame': 150, 'label': 'person', 'confidence': np.float32(0.86815816), 'bbox': (np.float32(1400.573), np.float32(620.23364), np.float32(1595.5675), np.float32(872.2652)), 'team': 0, 'referee': True}, {'frame': 150, 'label': 'person', 'confidence': np.float32(0.8347607), 'bbox': (np.float32(225.62173), np.float32(596.3323), np.float32(369.06354), np.float32(832.58246)), 'team': 1, 'referee': True}, {'frame': 150, 'label': 'person', 'confidence': np.float32(0.8179379), 'bbox': (np.float32(869.4601), np.float32(365.41083), np.float32(973.0566), np.float32(512.25836)), 'team': 1, 'referee': True}, {'frame': 150, 'label': 'person', 'confidence': np.float32(0.81011766), 'bbox': (np.float32(1625.9249), np.float32(234.97015), np.float32(1763.3672), np.float32(353.1598)), 'team': 0, 'referee': True}, {'frame': 150, 'label': 'person', 'confidence': np.float32(0.5903318), 'bbox': (np.float32(1340.4108), np.float32(337.99548), np.float32(1526.7427), np.float32(531.35785)), 'team': 0, 'referee': True}, {'frame': 150, 'label': 'person', 'confidence': np.float32(0.51824266), 'bbox': (np.float32(918.0896), np.float32(824.1592), np.float32(1059.7905), np.float32(1063.5502)), 'team': 0, 'referee': True}, {'frame': 150, 'label': 'skis', 'confidence': np.float32(0.30169424), 'bbox': (np.float32(1238.6631), np.float32(400.3778), np.float32(1370.6729), np.float32(494.57184)), 'team': 1, 'referee': True}, {'frame': 150, 'label': 'person', 'confidence': np.float32(0.29293087), 'bbox': (np.float32(691.75635), np.float32(942.81757), np.float32(856.1325), np.float32(1075.4264)), 'referee': True}, {'frame': 150, 'label': 'person', 'confidence': np.float32(0.2633799), 'bbox': (np.float32(1579.237), np.float32(138.1582), np.float32(1660.9973), np.float32(223.94185)), 'team': 1}, {'frame': 151, 'label': 'person', 'confidence': np.float32(0.8654923), 'bbox': (np.float32(1419.4358), np.float32(617.62836), np.float32(1611.1644), np.float32(860.229)), 'team': 0, 'referee': True}, {'frame': 151, 'label': 'person', 'confidence': np.float32(0.8307692), 'bbox': (np.float32(248.78893), np.float32(591.1291), np.float32(397.17438), np.float32(825.71173)), 'team': 1, 'referee': True}, {'frame': 151, 'label': 'person', 'confidence': np.float32(0.7947969), 'bbox': (np.float32(878.6492), np.float32(364.88312), np.float32(983.4404), np.float32(507.95767)), 'team': 1, 'referee': True}, {'frame': 151, 'label': 'person', 'confidence': np.float32(0.77640784), 'bbox': (np.float32(1660.8003), np.float32(234.12054), np.float32(1797.0677), np.float32(356.83838)), 'team': 0, 'referee': True}, {'frame': 151, 'label': 'person', 'confidence': np.float32(0.61952347), 'bbox': (np.float32(918.66284), np.float32(823.7717), np.float32(1061.5753), np.float32(1065.7212)), 'team': 0, 'referee': True}, {'frame': 151, 'label': 'person', 'confidence': np.float32(0.59405625), 'bbox': (np.float32(1341.117), np.float32(337.23962), np.float32(1479.6311), np.float32(524.8746)), 'team': 0, 'referee': True}, {'frame': 151, 'label': 'person', 'confidence': np.float32(0.31215546), 'bbox': (np.float32(716.0453), np.float32(949.47095), np.float32(886.86145), np.float32(1075.2714)), 'team': 0, 'referee': True}, {'frame': 151, 'label': 'skis', 'confidence': np.float32(0.28650755), 'bbox': (np.float32(898.63293), np.float32(459.84723), np.float32(1106.4448), np.float32(542.89124)), 'team': 0, 'referee': True}, {'frame': 152, 'label': 'person', 'confidence': np.float32(0.84235007), 'bbox': (np.float32(1432.9794), np.float32(612.63586), np.float32(1630.1686), np.float32(857.5206)), 'team': 0, 'referee': True}, {'frame': 152, 'label': 'person', 'confidence': np.float32(0.82513994), 'bbox': (np.float32(276.99384), np.float32(591.8924), np.float32(416.95242), np.float32(825.0909)), 'team': 1, 'referee': True}, {'frame': 152, 'label': 'person', 'confidence': np.float32(0.81654066), 'bbox': (np.float32(887.4169), np.float32(364.15958), np.float32(989.3854), np.float32(517.1517)), 'team': 1, 'referee': True}, {'frame': 152, 'label': 'person', 'confidence': np.float32(0.78577906), 'bbox': (np.float32(1690.2167), np.float32(237.16133), np.float32(1829.8683), np.float32(361.78012)), 'team': 0, 'referee': True}, {'frame': 152, 'label': 'person', 'confidence': np.float32(0.6878317), 'bbox': (np.float32(732.8112), np.float32(940.1149), np.float32(906.0438), np.float32(1075.9656)), 'team': 0, 'referee': True}, {'frame': 152, 'label': 'person', 'confidence': np.float32(0.6596518), 'bbox': (np.float32(915.7499), np.float32(822.3551), np.float32(1061.4601), np.float32(1062.5559)), 'team': 0, 'referee': True}, {'frame': 152, 'label': 'person', 'confidence': np.float32(0.6593443), 'bbox': (np.float32(1343.8014), np.float32(336.9396), np.float32(1436.2712), np.float32(515.5108)), 'team': 0, 'referee': True}, {'frame': 152, 'label': 'person', 'confidence': np.float32(0.27236927), 'bbox': (np.float32(1647.5725), np.float32(154.3146), np.float32(1729.2339), np.float32(232.40182)), 'team': 1}, {'frame': 153, 'label': 'person', 'confidence': np.float32(0.8140271), 'bbox': (np.float32(1716.6064), np.float32(244.00333), np.float32(1862.5642), np.float32(366.12714)), 'team': 0, 'referee': True}, {'frame': 153, 'label': 'person', 'confidence': np.float32(0.8044784), 'bbox': (np.float32(1435.6036), np.float32(600.3601), np.float32(1645.1862), np.float32(851.0856)), 'team': 0, 'referee': True}, {'frame': 153, 'label': 'person', 'confidence': np.float32(0.7997368), 'bbox': (np.float32(897.1725), np.float32(364.4087), np.float32(996.9018), np.float32(519.3569)), 'team': 1, 'referee': True}, {'frame': 153, 'label': 'person', 'confidence': np.float32(0.7905774), 'bbox': (np.float32(301.7092), np.float32(586.7295), np.float32(434.9782), np.float32(819.24963)), 'team': 1, 'referee': True}, {'frame': 153, 'label': 'person', 'confidence': np.float32(0.6608563), 'bbox': (np.float32(927.3966), np.float32(812.7114), np.float32(1067.5317), np.float32(1053.9163)), 'team': 0, 'referee': True}, {'frame': 153, 'label': 'person', 'confidence': np.float32(0.6514137), 'bbox': (np.float32(1340.82), np.float32(337.59348), np.float32(1425.8113), np.float32(510.2049)), 'team': 0, 'referee': True}, {'frame': 153, 'label': 'person', 'confidence': np.float32(0.5924336), 'bbox': (np.float32(753.8457), np.float32(939.7495), np.float32(891.81464), np.float32(1076.0)), 'team': 0, 'referee': True}, {'frame': 153, 'label': 'person', 'confidence': np.float32(0.41677216), 'bbox': (np.float32(1337.3417), np.float32(344.9361), np.float32(1506.2307), np.float32(530.65906)), 'team': 1, 'referee': True}, {'frame': 154, 'label': 'person', 'confidence': np.float32(0.83815455), 'bbox': (np.float32(1461.4155), np.float32(596.06067), np.float32(1662.1216), np.float32(840.80493)), 'team': 0, 'referee': True}, {'frame': 154, 'label': 'person', 'confidence': np.float32(0.8158726), 'bbox': (np.float32(329.6408), np.float32(586.6107), np.float32(453.2134), np.float32(812.7508)), 'team': 1, 'referee': True}, {'frame': 154, 'label': 'person', 'confidence': np.float32(0.77763057), 'bbox': (np.float32(903.0674), np.float32(366.2143), np.float32(1002.8906), np.float32(510.02017)), 'team': 1, 'referee': True}, {'frame': 154, 'label': 'person', 'confidence': np.float32(0.7319866), 'bbox': (np.float32(1750.2064), np.float32(256.7876), np.float32(1893.3997), np.float32(370.32465)), 'team': 0, 'referee': True}, {'frame': 154, 'label': 'person', 'confidence': np.float32(0.71750146), 'bbox': (np.float32(1328.0892), np.float32(339.50812), np.float32(1423.5981), np.float32(511.77167)), 'team': 0, 'referee': True}, {'frame': 154, 'label': 'person', 'confidence': np.float32(0.66815716), 'bbox': (np.float32(758.72003), np.float32(804.4146), np.float32(1070.9257), np.float32(1071.6793)), 'team': 0, 'referee': True}, {'frame': 154, 'label': 'person', 'confidence': np.float32(0.37002218), 'bbox': (np.float32(704.4808), np.float32(918.9764), np.float32(973.5768), np.float32(1074.4185)), 'team': 1, 'referee': True}, {'frame': 154, 'label': 'person', 'confidence': np.float32(0.33844206), 'bbox': (np.float32(1392.7592), np.float32(391.13162), np.float32(1513.3385), np.float32(546.56775)), 'team': 1, 'referee': True}, {'frame': 155, 'label': 'person', 'confidence': np.float32(0.8250483), 'bbox': (np.float32(1481.0828), np.float32(590.78687), np.float32(1673.6442), np.float32(836.4775)), 'team': 0, 'referee': True}, {'frame': 155, 'label': 'person', 'confidence': np.float32(0.8071716), 'bbox': (np.float32(346.31113), np.float32(583.6149), np.float32(465.71393), np.float32(807.0548)), 'team': 1, 'referee': True}, {'frame': 155, 'label': 'person', 'confidence': np.float32(0.73276716), 'bbox': (np.float32(1328.6516), np.float32(339.04025), np.float32(1422.1288), np.float32(515.0962)), 'team': 0, 'referee': True}, {'frame': 155, 'label': 'person', 'confidence': np.float32(0.7244915), 'bbox': (np.float32(908.4526), np.float32(367.25168), np.float32(1007.09534), np.float32(529.62415)), 'team': 1, 'referee': True}, {'frame': 155, 'label': 'person', 'confidence': np.float32(0.6879834), 'bbox': (np.float32(1773.0985), np.float32(261.0592), np.float32(1919.0336), np.float32(377.08728)), 'team': 0, 'referee': True}, {'frame': 155, 'label': 'person', 'confidence': np.float32(0.593521), 'bbox': (np.float32(775.4705), np.float32(799.67523), np.float32(1074.9012), np.float32(1065.4755)), 'team': 0, 'referee': True}, {'frame': 155, 'label': 'person', 'confidence': np.float32(0.4589087), 'bbox': (np.float32(1352.4412), np.float32(362.39966), np.float32(1505.0685), np.float32(552.31104)), 'team': 1, 'referee': True}, {'frame': 155, 'label': 'skis', 'confidence': np.float32(0.4263014), 'bbox': (np.float32(1239.6467), np.float32(480.27896), np.float32(1469.4092), np.float32(552.4697)), 'team': 1, 'referee': True}, {'frame': 155, 'label': 'person', 'confidence': np.float32(0.3930403), 'bbox': (np.float32(733.92334), np.float32(923.30133), np.float32(932.4016), np.float32(1071.59)), 'team': 1, 'referee': True}, {'frame': 155, 'label': 'person', 'confidence': np.float32(0.28177065), 'bbox': (np.float32(1728.7083), np.float32(156.0743), np.float32(1807.3411), np.float32(240.15373)), 'team': 1}, {'frame': 156, 'label': 'person', 'confidence': np.float32(0.84104866), 'bbox': (np.float32(1492.1193), np.float32(587.7313), np.float32(1689.452), np.float32(835.292)), 'team': 0, 'referee': True}, {'frame': 156, 'label': 'person', 'confidence': np.float32(0.7979374), 'bbox': (np.float32(353.43472), np.float32(577.0375), np.float32(484.27866), np.float32(805.9148)), 'team': 1, 'referee': True}, {'frame': 156, 'label': 'person', 'confidence': np.float32(0.74248016), 'bbox': (np.float32(912.38837), np.float32(368.51648), np.float32(1009.62103), np.float32(531.65344)), 'team': 1, 'referee': True}, {'frame': 156, 'label': 'person', 'confidence': np.float32(0.62509596), 'bbox': (np.float32(1335.124), np.float32(353.36038), np.float32(1500.9075), np.float32(550.9257)), 'team': 0, 'referee': True}, {'frame': 156, 'label': 'person', 'confidence': np.float32(0.5213546), 'bbox': (np.float32(1804.2008), np.float32(252.86862), np.float32(1920.0), np.float32(381.39355)), 'team': 0, 'referee': True}, {'frame': 156, 'label': 'person', 'confidence': np.float32(0.5158986), 'bbox': (np.float32(1314.189), np.float32(342.68912), np.float32(1425.5085), np.float32(510.5846)), 'team': 1, 'referee': True}, {'frame': 156, 'label': 'skis', 'confidence': np.float32(0.41324124), 'bbox': (np.float32(1253.5292), np.float32(476.17084), np.float32(1454.1145), np.float32(555.3555)), 'team': 1, 'referee': True}, {'frame': 156, 'label': 'person', 'confidence': np.float32(0.39599696), 'bbox': (np.float32(768.10974), np.float32(793.9497), np.float32(1078.8181), np.float32(1060.842)), 'team': 0, 'referee': True}, {'frame': 156, 'label': 'person', 'confidence': np.float32(0.25147626), 'bbox': (np.float32(1754.2987), np.float32(169.55432), np.float32(1830.2761), np.float32(248.37442)), 'team': 1}, {'frame': 157, 'label': 'person', 'confidence': np.float32(0.80683464), 'bbox': (np.float32(1502.512), np.float32(582.342), np.float32(1705.8228), np.float32(828.62225)), 'team': 0, 'referee': True}, {'frame': 157, 'label': 'person', 'confidence': np.float32(0.80362207), 'bbox': (np.float32(379.69833), np.float32(579.1854), np.float32(497.24454), np.float32(806.15936)), 'team': 1, 'referee': True}, {'frame': 157, 'label': 'person', 'confidence': np.float32(0.7598425), 'bbox': (np.float32(916.3729), np.float32(369.26886), np.float32(1011.1692), np.float32(530.4779)), 'team': 1, 'referee': True}, {'frame': 157, 'label': 'person', 'confidence': np.float32(0.63574994), 'bbox': (np.float32(1343.6177), np.float32(362.93533), np.float32(1493.895), np.float32(551.3256)), 'team': 0, 'referee': True}, {'frame': 157, 'label': 'person', 'confidence': np.float32(0.6100698), 'bbox': (np.float32(1308.3544), np.float32(346.94925), np.float32(1418.3099), np.float32(514.20654)), 'team': 1, 'referee': True}, {'frame': 157, 'label': 'person', 'confidence': np.float32(0.58106506), 'bbox': (np.float32(1827.3455), np.float32(258.6659), np.float32(1918.989), np.float32(384.31323)), 'team': 0, 'referee': True}, {'frame': 157, 'label': 'skis', 'confidence': np.float32(0.29114753), 'bbox': (np.float32(1279.2659), np.float32(470.50583), np.float32(1421.4001), np.float32(556.23083)), 'team': 0, 'referee': True}, {'frame': 157, 'label': 'person', 'confidence': np.float32(0.2690557), 'bbox': (np.float32(1779.3464), np.float32(171.46361), np.float32(1857.8793), np.float32(249.65099)), 'team': 1}, {'frame': 157, 'label': 'skis', 'confidence': np.float32(0.26403254), 'bbox': (np.float32(377.6468), np.float32(760.52026), np.float32(502.2509), np.float32(814.5615)), 'team': 0, 'referee': True}, {'frame': 157, 'label': 'person', 'confidence': np.float32(0.25233352), 'bbox': (np.float32(931.3614), np.float32(792.46747), np.float32(1077.9558), np.float32(1025.7916)), 'team': 0, 'referee': True}, {'frame': 158, 'label': 'person', 'confidence': np.float32(0.80683464), 'bbox': (np.float32(1502.512), np.float32(582.342), np.float32(1705.8228), np.float32(828.62225)), 'team': 0, 'referee': True}, {'frame': 158, 'label': 'person', 'confidence': np.float32(0.80362207), 'bbox': (np.float32(379.69833), np.float32(579.1854), np.float32(497.24454), np.float32(806.15936)), 'team': 1, 'referee': True}, {'frame': 158, 'label': 'person', 'confidence': np.float32(0.7598425), 'bbox': (np.float32(916.3729), np.float32(369.26886), np.float32(1011.1692), np.float32(530.4779)), 'team': 1, 'referee': True}, {'frame': 158, 'label': 'person', 'confidence': np.float32(0.63574994), 'bbox': (np.float32(1343.6177), np.float32(362.93533), np.float32(1493.895), np.float32(551.3256)), 'team': 0, 'referee': True}, {'frame': 158, 'label': 'person', 'confidence': np.float32(0.6100698), 'bbox': (np.float32(1308.3544), np.float32(346.94925), np.float32(1418.3099), np.float32(514.20654)), 'team': 1, 'referee': True}, {'frame': 158, 'label': 'person', 'confidence': np.float32(0.58106506), 'bbox': (np.float32(1827.3455), np.float32(258.6659), np.float32(1918.989), np.float32(384.31323)), 'team': 0, 'referee': True}, {'frame': 158, 'label': 'skis', 'confidence': np.float32(0.29114753), 'bbox': (np.float32(1279.2659), np.float32(470.50583), np.float32(1421.4001), np.float32(556.23083)), 'team': 0, 'referee': True}, {'frame': 158, 'label': 'person', 'confidence': np.float32(0.2690557), 'bbox': (np.float32(1779.3464), np.float32(171.46361), np.float32(1857.8793), np.float32(249.65099)), 'team': 1}, {'frame': 158, 'label': 'skis', 'confidence': np.float32(0.26403254), 'bbox': (np.float32(377.6468), np.float32(760.52026), np.float32(502.2509), np.float32(814.5615)), 'team': 0, 'referee': True}, {'frame': 158, 'label': 'person', 'confidence': np.float32(0.25233352), 'bbox': (np.float32(931.3614), np.float32(792.46747), np.float32(1077.9558), np.float32(1025.7916)), 'team': 0, 'referee': True}]\n"
     ]
    }
   ],
   "source": [
    "# Path to your video (update with your actual video file path)\n",
    "video_path = 'clip.mp4'\n",
    "\n",
    "print(\"Starting Entity Detection...\")\n",
    "event_log = detect_entities(video_path)\n",
    "print(\"Entity Detection Completed!\")\n",
    "print(\"Detected Events:\", event_log)"
   ]
  }
 ],
 "metadata": {
  "kernelspec": {
   "display_name": "Python 3 (ipykernel)",
   "language": "python",
   "name": "python3"
  },
  "language_info": {
   "codemirror_mode": {
    "name": "ipython",
    "version": 3
   },
   "file_extension": ".py",
   "mimetype": "text/x-python",
   "name": "python",
   "nbconvert_exporter": "python",
   "pygments_lexer": "ipython3",
   "version": "3.12.3"
  }
 },
 "nbformat": 4,
 "nbformat_minor": 5
}
